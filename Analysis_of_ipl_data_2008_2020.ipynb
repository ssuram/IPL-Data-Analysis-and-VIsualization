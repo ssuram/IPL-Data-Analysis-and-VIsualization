{
  "nbformat": 4,
  "nbformat_minor": 0,
  "metadata": {
    "kernelspec": {
      "display_name": "Python 3",
      "language": "python",
      "name": "python3"
    },
    "language_info": {
      "codemirror_mode": {
        "name": "ipython",
        "version": 3
      },
      "file_extension": ".py",
      "mimetype": "text/x-python",
      "name": "python",
      "nbconvert_exporter": "python",
      "pygments_lexer": "ipython3",
      "version": "3.7.9"
    },
    "papermill": {
      "default_parameters": {},
      "duration": 86.603812,
      "end_time": "2021-06-04T22:22:35.132331",
      "environment_variables": {},
      "exception": null,
      "input_path": "__notebook__.ipynb",
      "output_path": "__notebook__.ipynb",
      "parameters": {},
      "start_time": "2021-06-04T22:21:08.528519",
      "version": "2.2.2"
    },
    "colab": {
      "name": "Analysis-of-ipl-data-2008-2020.ipynb",
      "provenance": []
    }
  },
  "cells": [
    {
      "cell_type": "markdown",
      "metadata": {
        "papermill": {
          "duration": 0.130705,
          "end_time": "2021-06-04T22:21:14.858839",
          "exception": false,
          "start_time": "2021-06-04T22:21:14.728134",
          "status": "completed"
        },
        "tags": [],
        "id": "UVr5HP5ni32r"
      },
      "source": [
        "<br>\n",
        "<h1 style = \"font-size:40px; font-family:cursive ; font-weight : normal; color : #C70039; text-align: center; border-radius: 10px 100px;\">IPL Dataset Analysis(2008-2020)</h1>\n",
        "<br>\n",
        "\n"
      ]
    },
    {
      "cell_type": "markdown",
      "metadata": {
        "papermill": {
          "duration": 0.124354,
          "end_time": "2021-06-04T22:21:16.409036",
          "exception": false,
          "start_time": "2021-06-04T22:21:16.284682",
          "status": "completed"
        },
        "tags": [],
        "id": "indzjvb9i321"
      },
      "source": [
        "<h1 style = \"font-family: Snell Roundhand;font-weight: 500;font-size: 30px; font-style: normal; background-color: #FFFB30; color :black;\">Importing libraries:</h1>"
      ]
    },
    {
      "cell_type": "code",
      "metadata": {
        "_kg_hide-input": true,
        "execution": {
          "iopub.execute_input": "2021-06-04T22:21:16.668706Z",
          "iopub.status.busy": "2021-06-04T22:21:16.667975Z",
          "iopub.status.idle": "2021-06-04T22:21:18.736759Z",
          "shell.execute_reply": "2021-06-04T22:21:18.735110Z",
          "shell.execute_reply.started": "2021-06-04T22:16:33.298050Z"
        },
        "papermill": {
          "duration": 2.201262,
          "end_time": "2021-06-04T22:21:18.736940",
          "exception": false,
          "start_time": "2021-06-04T22:21:16.535678",
          "status": "completed"
        },
        "tags": [],
        "id": "p85n0ozVi322"
      },
      "source": [
        "import pandas as pd\n",
        "import numpy as np\n",
        "import matplotlib.pyplot as plt\n",
        "import seaborn as sns\n",
        "import plotly\n",
        "import plotly.express as px\n",
        "import plotly.graph_objs as go\n",
        "from plotly.offline import init_notebook_mode, plot, iplot\n",
        "from plotly import tools\n",
        "\n",
        "import warnings\n",
        "warnings.filterwarnings('ignore')"
      ],
      "execution_count": 1,
      "outputs": []
    },
    {
      "cell_type": "markdown",
      "metadata": {
        "papermill": {
          "duration": 0.125109,
          "end_time": "2021-06-04T22:21:18.990301",
          "exception": false,
          "start_time": "2021-06-04T22:21:18.865192",
          "status": "completed"
        },
        "tags": [],
        "id": "NrN_DWL3i323"
      },
      "source": [
        "<h1 style = \"font-family: Snell Roundhand;font-weight: 500;font-size: 30px; font-style: normal; background-color: #FFFB30; color :black;\"> Loading match and deliveries dataset:</h1>"
      ]
    },
    {
      "cell_type": "code",
      "metadata": {
        "_kg_hide-input": true,
        "_kg_hide-output": true,
        "execution": {
          "iopub.execute_input": "2021-06-04T22:21:19.252474Z",
          "iopub.status.busy": "2021-06-04T22:21:19.251625Z",
          "iopub.status.idle": "2021-06-04T22:21:19.978878Z",
          "shell.execute_reply": "2021-06-04T22:21:19.978168Z",
          "shell.execute_reply.started": "2021-06-04T22:16:35.189787Z"
        },
        "papermill": {
          "duration": 0.861131,
          "end_time": "2021-06-04T22:21:19.979036",
          "exception": false,
          "start_time": "2021-06-04T22:21:19.117905",
          "status": "completed"
        },
        "tags": [],
        "colab": {
          "base_uri": "https://localhost:8080/"
        },
        "id": "wfskQsgbi323",
        "outputId": "944c5cae-5901-477e-d5a7-f06da7c690fe"
      },
      "source": [
        "deliveries_data = pd.read_csv('/content/IPL Ball-by-Ball 2008-2020.csv')\n",
        "match_data = pd.read_csv('/content/IPL Matches 2008-2020 (1).csv')\n",
        "print(\"Data ready for exploration\")"
      ],
      "execution_count": 2,
      "outputs": [
        {
          "output_type": "stream",
          "name": "stdout",
          "text": [
            "Data ready for exploration\n"
          ]
        }
      ]
    },
    {
      "cell_type": "markdown",
      "metadata": {
        "papermill": {
          "duration": 0.134363,
          "end_time": "2021-06-04T22:21:20.243926",
          "exception": false,
          "start_time": "2021-06-04T22:21:20.109563",
          "status": "completed"
        },
        "tags": [],
        "id": "pnJa7EABi324"
      },
      "source": [
        "<h1 style = \"font-family: Snell Roundhand;font-weight: 500;font-size: 30px; font-style: normal; background-color: #FFFB30; color :black;\"> Basic data exploration:</h1>\n"
      ]
    },
    {
      "cell_type": "code",
      "metadata": {
        "_kg_hide-input": true,
        "_kg_hide-output": true,
        "execution": {
          "iopub.execute_input": "2021-06-04T22:21:20.523601Z",
          "iopub.status.busy": "2021-06-04T22:21:20.522886Z",
          "iopub.status.idle": "2021-06-04T22:21:20.555492Z",
          "shell.execute_reply": "2021-06-04T22:21:20.554822Z",
          "shell.execute_reply.started": "2021-06-04T22:16:35.957173Z"
        },
        "papermill": {
          "duration": 0.179008,
          "end_time": "2021-06-04T22:21:20.555736",
          "exception": false,
          "start_time": "2021-06-04T22:21:20.376728",
          "status": "completed"
        },
        "tags": [],
        "colab": {
          "base_uri": "https://localhost:8080/",
          "height": 417
        },
        "id": "OBW2Dvrsi324",
        "outputId": "84853bcb-70e2-4e31-e550-30daeeb909a0"
      },
      "source": [
        "match_data.head()"
      ],
      "execution_count": 3,
      "outputs": [
        {
          "output_type": "execute_result",
          "data": {
            "text/html": [
              "<div>\n",
              "<style scoped>\n",
              "    .dataframe tbody tr th:only-of-type {\n",
              "        vertical-align: middle;\n",
              "    }\n",
              "\n",
              "    .dataframe tbody tr th {\n",
              "        vertical-align: top;\n",
              "    }\n",
              "\n",
              "    .dataframe thead th {\n",
              "        text-align: right;\n",
              "    }\n",
              "</style>\n",
              "<table border=\"1\" class=\"dataframe\">\n",
              "  <thead>\n",
              "    <tr style=\"text-align: right;\">\n",
              "      <th></th>\n",
              "      <th>id</th>\n",
              "      <th>city</th>\n",
              "      <th>date</th>\n",
              "      <th>player_of_match</th>\n",
              "      <th>venue</th>\n",
              "      <th>neutral_venue</th>\n",
              "      <th>team1</th>\n",
              "      <th>team2</th>\n",
              "      <th>toss_winner</th>\n",
              "      <th>toss_decision</th>\n",
              "      <th>winner</th>\n",
              "      <th>result</th>\n",
              "      <th>result_margin</th>\n",
              "      <th>eliminator</th>\n",
              "      <th>method</th>\n",
              "      <th>umpire1</th>\n",
              "      <th>umpire2</th>\n",
              "    </tr>\n",
              "  </thead>\n",
              "  <tbody>\n",
              "    <tr>\n",
              "      <th>0</th>\n",
              "      <td>335982</td>\n",
              "      <td>Bangalore</td>\n",
              "      <td>2008-04-18</td>\n",
              "      <td>BB McCullum</td>\n",
              "      <td>M Chinnaswamy Stadium</td>\n",
              "      <td>0</td>\n",
              "      <td>Royal Challengers Bangalore</td>\n",
              "      <td>Kolkata Knight Riders</td>\n",
              "      <td>Royal Challengers Bangalore</td>\n",
              "      <td>field</td>\n",
              "      <td>Kolkata Knight Riders</td>\n",
              "      <td>runs</td>\n",
              "      <td>140.0</td>\n",
              "      <td>N</td>\n",
              "      <td>NaN</td>\n",
              "      <td>Asad Rauf</td>\n",
              "      <td>RE Koertzen</td>\n",
              "    </tr>\n",
              "    <tr>\n",
              "      <th>1</th>\n",
              "      <td>335983</td>\n",
              "      <td>Chandigarh</td>\n",
              "      <td>2008-04-19</td>\n",
              "      <td>MEK Hussey</td>\n",
              "      <td>Punjab Cricket Association Stadium, Mohali</td>\n",
              "      <td>0</td>\n",
              "      <td>Kings XI Punjab</td>\n",
              "      <td>Chennai Super Kings</td>\n",
              "      <td>Chennai Super Kings</td>\n",
              "      <td>bat</td>\n",
              "      <td>Chennai Super Kings</td>\n",
              "      <td>runs</td>\n",
              "      <td>33.0</td>\n",
              "      <td>N</td>\n",
              "      <td>NaN</td>\n",
              "      <td>MR Benson</td>\n",
              "      <td>SL Shastri</td>\n",
              "    </tr>\n",
              "    <tr>\n",
              "      <th>2</th>\n",
              "      <td>335984</td>\n",
              "      <td>Delhi</td>\n",
              "      <td>2008-04-19</td>\n",
              "      <td>MF Maharoof</td>\n",
              "      <td>Feroz Shah Kotla</td>\n",
              "      <td>0</td>\n",
              "      <td>Delhi Daredevils</td>\n",
              "      <td>Rajasthan Royals</td>\n",
              "      <td>Rajasthan Royals</td>\n",
              "      <td>bat</td>\n",
              "      <td>Delhi Daredevils</td>\n",
              "      <td>wickets</td>\n",
              "      <td>9.0</td>\n",
              "      <td>N</td>\n",
              "      <td>NaN</td>\n",
              "      <td>Aleem Dar</td>\n",
              "      <td>GA Pratapkumar</td>\n",
              "    </tr>\n",
              "    <tr>\n",
              "      <th>3</th>\n",
              "      <td>335985</td>\n",
              "      <td>Mumbai</td>\n",
              "      <td>2008-04-20</td>\n",
              "      <td>MV Boucher</td>\n",
              "      <td>Wankhede Stadium</td>\n",
              "      <td>0</td>\n",
              "      <td>Mumbai Indians</td>\n",
              "      <td>Royal Challengers Bangalore</td>\n",
              "      <td>Mumbai Indians</td>\n",
              "      <td>bat</td>\n",
              "      <td>Royal Challengers Bangalore</td>\n",
              "      <td>wickets</td>\n",
              "      <td>5.0</td>\n",
              "      <td>N</td>\n",
              "      <td>NaN</td>\n",
              "      <td>SJ Davis</td>\n",
              "      <td>DJ Harper</td>\n",
              "    </tr>\n",
              "    <tr>\n",
              "      <th>4</th>\n",
              "      <td>335986</td>\n",
              "      <td>Kolkata</td>\n",
              "      <td>2008-04-20</td>\n",
              "      <td>DJ Hussey</td>\n",
              "      <td>Eden Gardens</td>\n",
              "      <td>0</td>\n",
              "      <td>Kolkata Knight Riders</td>\n",
              "      <td>Deccan Chargers</td>\n",
              "      <td>Deccan Chargers</td>\n",
              "      <td>bat</td>\n",
              "      <td>Kolkata Knight Riders</td>\n",
              "      <td>wickets</td>\n",
              "      <td>5.0</td>\n",
              "      <td>N</td>\n",
              "      <td>NaN</td>\n",
              "      <td>BF Bowden</td>\n",
              "      <td>K Hariharan</td>\n",
              "    </tr>\n",
              "  </tbody>\n",
              "</table>\n",
              "</div>"
            ],
            "text/plain": [
              "       id        city        date  ... method    umpire1         umpire2\n",
              "0  335982   Bangalore  2008-04-18  ...    NaN  Asad Rauf     RE Koertzen\n",
              "1  335983  Chandigarh  2008-04-19  ...    NaN  MR Benson      SL Shastri\n",
              "2  335984       Delhi  2008-04-19  ...    NaN  Aleem Dar  GA Pratapkumar\n",
              "3  335985      Mumbai  2008-04-20  ...    NaN   SJ Davis       DJ Harper\n",
              "4  335986     Kolkata  2008-04-20  ...    NaN  BF Bowden     K Hariharan\n",
              "\n",
              "[5 rows x 17 columns]"
            ]
          },
          "metadata": {},
          "execution_count": 3
        }
      ]
    },
    {
      "cell_type": "code",
      "metadata": {
        "_kg_hide-input": true,
        "_kg_hide-output": true,
        "execution": {
          "iopub.execute_input": "2021-06-04T22:21:20.820988Z",
          "iopub.status.busy": "2021-06-04T22:21:20.819999Z",
          "iopub.status.idle": "2021-06-04T22:21:20.841082Z",
          "shell.execute_reply": "2021-06-04T22:21:20.840390Z",
          "shell.execute_reply.started": "2021-06-04T22:16:35.996582Z"
        },
        "papermill": {
          "duration": 0.154601,
          "end_time": "2021-06-04T22:21:20.841280",
          "exception": false,
          "start_time": "2021-06-04T22:21:20.686679",
          "status": "completed"
        },
        "tags": [],
        "colab": {
          "base_uri": "https://localhost:8080/",
          "height": 399
        },
        "id": "nDVivSFpi324",
        "outputId": "5c183419-67e3-4d14-886a-f614080a24bb"
      },
      "source": [
        "deliveries_data.head()"
      ],
      "execution_count": 4,
      "outputs": [
        {
          "output_type": "execute_result",
          "data": {
            "text/html": [
              "<div>\n",
              "<style scoped>\n",
              "    .dataframe tbody tr th:only-of-type {\n",
              "        vertical-align: middle;\n",
              "    }\n",
              "\n",
              "    .dataframe tbody tr th {\n",
              "        vertical-align: top;\n",
              "    }\n",
              "\n",
              "    .dataframe thead th {\n",
              "        text-align: right;\n",
              "    }\n",
              "</style>\n",
              "<table border=\"1\" class=\"dataframe\">\n",
              "  <thead>\n",
              "    <tr style=\"text-align: right;\">\n",
              "      <th></th>\n",
              "      <th>id</th>\n",
              "      <th>inning</th>\n",
              "      <th>over</th>\n",
              "      <th>ball</th>\n",
              "      <th>batsman</th>\n",
              "      <th>non_striker</th>\n",
              "      <th>bowler</th>\n",
              "      <th>batsman_runs</th>\n",
              "      <th>extra_runs</th>\n",
              "      <th>total_runs</th>\n",
              "      <th>non_boundary</th>\n",
              "      <th>is_wicket</th>\n",
              "      <th>dismissal_kind</th>\n",
              "      <th>player_dismissed</th>\n",
              "      <th>fielder</th>\n",
              "      <th>extras_type</th>\n",
              "      <th>batting_team</th>\n",
              "      <th>bowling_team</th>\n",
              "    </tr>\n",
              "  </thead>\n",
              "  <tbody>\n",
              "    <tr>\n",
              "      <th>0</th>\n",
              "      <td>335982</td>\n",
              "      <td>1</td>\n",
              "      <td>6</td>\n",
              "      <td>5</td>\n",
              "      <td>RT Ponting</td>\n",
              "      <td>BB McCullum</td>\n",
              "      <td>AA Noffke</td>\n",
              "      <td>1</td>\n",
              "      <td>0</td>\n",
              "      <td>1</td>\n",
              "      <td>0</td>\n",
              "      <td>0</td>\n",
              "      <td>NaN</td>\n",
              "      <td>NaN</td>\n",
              "      <td>NaN</td>\n",
              "      <td>NaN</td>\n",
              "      <td>Kolkata Knight Riders</td>\n",
              "      <td>Royal Challengers Bangalore</td>\n",
              "    </tr>\n",
              "    <tr>\n",
              "      <th>1</th>\n",
              "      <td>335982</td>\n",
              "      <td>1</td>\n",
              "      <td>6</td>\n",
              "      <td>6</td>\n",
              "      <td>BB McCullum</td>\n",
              "      <td>RT Ponting</td>\n",
              "      <td>AA Noffke</td>\n",
              "      <td>1</td>\n",
              "      <td>0</td>\n",
              "      <td>1</td>\n",
              "      <td>0</td>\n",
              "      <td>0</td>\n",
              "      <td>NaN</td>\n",
              "      <td>NaN</td>\n",
              "      <td>NaN</td>\n",
              "      <td>NaN</td>\n",
              "      <td>Kolkata Knight Riders</td>\n",
              "      <td>Royal Challengers Bangalore</td>\n",
              "    </tr>\n",
              "    <tr>\n",
              "      <th>2</th>\n",
              "      <td>335982</td>\n",
              "      <td>1</td>\n",
              "      <td>7</td>\n",
              "      <td>1</td>\n",
              "      <td>BB McCullum</td>\n",
              "      <td>RT Ponting</td>\n",
              "      <td>Z Khan</td>\n",
              "      <td>0</td>\n",
              "      <td>0</td>\n",
              "      <td>0</td>\n",
              "      <td>0</td>\n",
              "      <td>0</td>\n",
              "      <td>NaN</td>\n",
              "      <td>NaN</td>\n",
              "      <td>NaN</td>\n",
              "      <td>NaN</td>\n",
              "      <td>Kolkata Knight Riders</td>\n",
              "      <td>Royal Challengers Bangalore</td>\n",
              "    </tr>\n",
              "    <tr>\n",
              "      <th>3</th>\n",
              "      <td>335982</td>\n",
              "      <td>1</td>\n",
              "      <td>7</td>\n",
              "      <td>2</td>\n",
              "      <td>BB McCullum</td>\n",
              "      <td>RT Ponting</td>\n",
              "      <td>Z Khan</td>\n",
              "      <td>1</td>\n",
              "      <td>0</td>\n",
              "      <td>1</td>\n",
              "      <td>0</td>\n",
              "      <td>0</td>\n",
              "      <td>NaN</td>\n",
              "      <td>NaN</td>\n",
              "      <td>NaN</td>\n",
              "      <td>NaN</td>\n",
              "      <td>Kolkata Knight Riders</td>\n",
              "      <td>Royal Challengers Bangalore</td>\n",
              "    </tr>\n",
              "    <tr>\n",
              "      <th>4</th>\n",
              "      <td>335982</td>\n",
              "      <td>1</td>\n",
              "      <td>7</td>\n",
              "      <td>3</td>\n",
              "      <td>RT Ponting</td>\n",
              "      <td>BB McCullum</td>\n",
              "      <td>Z Khan</td>\n",
              "      <td>1</td>\n",
              "      <td>0</td>\n",
              "      <td>1</td>\n",
              "      <td>0</td>\n",
              "      <td>0</td>\n",
              "      <td>NaN</td>\n",
              "      <td>NaN</td>\n",
              "      <td>NaN</td>\n",
              "      <td>NaN</td>\n",
              "      <td>Kolkata Knight Riders</td>\n",
              "      <td>Royal Challengers Bangalore</td>\n",
              "    </tr>\n",
              "  </tbody>\n",
              "</table>\n",
              "</div>"
            ],
            "text/plain": [
              "       id  inning  ...           batting_team                 bowling_team\n",
              "0  335982       1  ...  Kolkata Knight Riders  Royal Challengers Bangalore\n",
              "1  335982       1  ...  Kolkata Knight Riders  Royal Challengers Bangalore\n",
              "2  335982       1  ...  Kolkata Knight Riders  Royal Challengers Bangalore\n",
              "3  335982       1  ...  Kolkata Knight Riders  Royal Challengers Bangalore\n",
              "4  335982       1  ...  Kolkata Knight Riders  Royal Challengers Bangalore\n",
              "\n",
              "[5 rows x 18 columns]"
            ]
          },
          "metadata": {},
          "execution_count": 4
        }
      ]
    },
    {
      "cell_type": "code",
      "metadata": {
        "_kg_hide-input": true,
        "_kg_hide-output": true,
        "execution": {
          "iopub.execute_input": "2021-06-04T22:21:21.113028Z",
          "iopub.status.busy": "2021-06-04T22:21:21.111952Z",
          "iopub.status.idle": "2021-06-04T22:21:21.117665Z",
          "shell.execute_reply": "2021-06-04T22:21:21.118257Z",
          "shell.execute_reply.started": "2021-06-04T22:16:36.018841Z"
        },
        "papermill": {
          "duration": 0.146789,
          "end_time": "2021-06-04T22:21:21.118451",
          "exception": false,
          "start_time": "2021-06-04T22:21:20.971662",
          "status": "completed"
        },
        "tags": [],
        "colab": {
          "base_uri": "https://localhost:8080/"
        },
        "id": "NWrWAJFWi325",
        "outputId": "3ad6e151-1896-43a2-e42b-f4f5467a1fb9"
      },
      "source": [
        "match_data.isnull().sum()"
      ],
      "execution_count": 5,
      "outputs": [
        {
          "output_type": "execute_result",
          "data": {
            "text/plain": [
              "id                   0\n",
              "city                13\n",
              "date                 0\n",
              "player_of_match      4\n",
              "venue                0\n",
              "neutral_venue        0\n",
              "team1                0\n",
              "team2                0\n",
              "toss_winner          0\n",
              "toss_decision        0\n",
              "winner               4\n",
              "result               4\n",
              "result_margin       17\n",
              "eliminator           4\n",
              "method             797\n",
              "umpire1              0\n",
              "umpire2              0\n",
              "dtype: int64"
            ]
          },
          "metadata": {},
          "execution_count": 5
        }
      ]
    },
    {
      "cell_type": "code",
      "metadata": {
        "_kg_hide-input": true,
        "_kg_hide-output": true,
        "execution": {
          "iopub.execute_input": "2021-06-04T22:21:21.396115Z",
          "iopub.status.busy": "2021-06-04T22:21:21.395409Z",
          "iopub.status.idle": "2021-06-04T22:21:21.401794Z",
          "shell.execute_reply": "2021-06-04T22:21:21.401097Z",
          "shell.execute_reply.started": "2021-06-04T22:16:36.037211Z"
        },
        "papermill": {
          "duration": 0.145349,
          "end_time": "2021-06-04T22:21:21.401946",
          "exception": false,
          "start_time": "2021-06-04T22:21:21.256597",
          "status": "completed"
        },
        "tags": [],
        "colab": {
          "base_uri": "https://localhost:8080/"
        },
        "id": "38WUO4Sii325",
        "outputId": "939ac664-5f1b-4afc-8751-a69f3c388758"
      },
      "source": [
        "match_data.shape"
      ],
      "execution_count": 6,
      "outputs": [
        {
          "output_type": "execute_result",
          "data": {
            "text/plain": [
              "(816, 17)"
            ]
          },
          "metadata": {},
          "execution_count": 6
        }
      ]
    },
    {
      "cell_type": "code",
      "metadata": {
        "_kg_hide-input": true,
        "_kg_hide-output": true,
        "execution": {
          "iopub.execute_input": "2021-06-04T22:21:21.682803Z",
          "iopub.status.busy": "2021-06-04T22:21:21.680453Z",
          "iopub.status.idle": "2021-06-04T22:21:21.688041Z",
          "shell.execute_reply": "2021-06-04T22:21:21.688905Z",
          "shell.execute_reply.started": "2021-06-04T22:16:36.047579Z"
        },
        "papermill": {
          "duration": 0.157734,
          "end_time": "2021-06-04T22:21:21.689346",
          "exception": false,
          "start_time": "2021-06-04T22:21:21.531612",
          "status": "completed"
        },
        "tags": [],
        "colab": {
          "base_uri": "https://localhost:8080/"
        },
        "id": "3LtzL2azi326",
        "outputId": "1af1c2a4-1083-4330-91dc-08c403ddf30c"
      },
      "source": [
        "match_data.columns"
      ],
      "execution_count": 7,
      "outputs": [
        {
          "output_type": "execute_result",
          "data": {
            "text/plain": [
              "Index(['id', 'city', 'date', 'player_of_match', 'venue', 'neutral_venue',\n",
              "       'team1', 'team2', 'toss_winner', 'toss_decision', 'winner', 'result',\n",
              "       'result_margin', 'eliminator', 'method', 'umpire1', 'umpire2'],\n",
              "      dtype='object')"
            ]
          },
          "metadata": {},
          "execution_count": 7
        }
      ]
    },
    {
      "cell_type": "code",
      "metadata": {
        "_kg_hide-input": true,
        "_kg_hide-output": true,
        "execution": {
          "iopub.execute_input": "2021-06-04T22:21:21.969419Z",
          "iopub.status.busy": "2021-06-04T22:21:21.968308Z",
          "iopub.status.idle": "2021-06-04T22:21:21.972248Z",
          "shell.execute_reply": "2021-06-04T22:21:21.972882Z",
          "shell.execute_reply.started": "2021-06-04T22:16:36.062716Z"
        },
        "papermill": {
          "duration": 0.142961,
          "end_time": "2021-06-04T22:21:21.973064",
          "exception": false,
          "start_time": "2021-06-04T22:21:21.830103",
          "status": "completed"
        },
        "tags": [],
        "colab": {
          "base_uri": "https://localhost:8080/"
        },
        "id": "rOjabcD-i326",
        "outputId": "56b89dec-5a17-4c4f-81d2-bbb3ae7cf509"
      },
      "source": [
        "print('Total Matches Played:',match_data.shape[0])\n",
        "print(' \\n Venues Played At:',match_data['city'].unique())     \n",
        "print(' \\n Teams :',match_data['team1'].unique())"
      ],
      "execution_count": 8,
      "outputs": [
        {
          "output_type": "stream",
          "name": "stdout",
          "text": [
            "Total Matches Played: 816\n",
            " \n",
            " Venues Played At: ['Bangalore' 'Chandigarh' 'Delhi' 'Mumbai' 'Kolkata' 'Jaipur' 'Hyderabad'\n",
            " 'Chennai' 'Cape Town' 'Port Elizabeth' 'Durban' 'Centurion' 'East London'\n",
            " 'Johannesburg' 'Kimberley' 'Bloemfontein' 'Ahmedabad' 'Cuttack' 'Nagpur'\n",
            " 'Dharamsala' 'Kochi' 'Indore' 'Visakhapatnam' 'Pune' 'Raipur' 'Ranchi'\n",
            " 'Abu Dhabi' nan 'Rajkot' 'Kanpur' 'Bengaluru' 'Dubai' 'Sharjah']\n",
            " \n",
            " Teams : ['Royal Challengers Bangalore' 'Kings XI Punjab' 'Delhi Daredevils'\n",
            " 'Mumbai Indians' 'Kolkata Knight Riders' 'Rajasthan Royals'\n",
            " 'Deccan Chargers' 'Chennai Super Kings' 'Kochi Tuskers Kerala'\n",
            " 'Pune Warriors' 'Sunrisers Hyderabad' 'Gujarat Lions'\n",
            " 'Rising Pune Supergiants' 'Rising Pune Supergiant' 'Delhi Capitals']\n"
          ]
        }
      ]
    },
    {
      "cell_type": "markdown",
      "metadata": {
        "papermill": {
          "duration": 0.128384,
          "end_time": "2021-06-04T22:21:22.233350",
          "exception": false,
          "start_time": "2021-06-04T22:21:22.104966",
          "status": "completed"
        },
        "tags": [],
        "id": "HMage_Ayi326"
      },
      "source": [
        "<a id=\"1\">\n",
        "<h1 style = \"font-family: Snell Roundhand;font-weight: 500;font-size: 30px; font-style: normal; background-color: #FFFB30; color :black;\"> 1) Number of matches played in various seasons :</h1>\n"
      ]
    },
    {
      "cell_type": "code",
      "metadata": {
        "_kg_hide-input": true,
        "_kg_hide-output": true,
        "execution": {
          "iopub.execute_input": "2021-06-04T22:21:22.524607Z",
          "iopub.status.busy": "2021-06-04T22:21:22.523615Z",
          "iopub.status.idle": "2021-06-04T22:21:22.529181Z",
          "shell.execute_reply": "2021-06-04T22:21:22.528606Z",
          "shell.execute_reply.started": "2021-06-04T22:16:36.078302Z"
        },
        "papermill": {
          "duration": 0.165667,
          "end_time": "2021-06-04T22:21:22.529477",
          "exception": false,
          "start_time": "2021-06-04T22:21:22.363810",
          "status": "completed"
        },
        "tags": [],
        "colab": {
          "base_uri": "https://localhost:8080/",
          "height": 417
        },
        "id": "ZNYYNkSsi327",
        "outputId": "92be050c-c76b-47f7-ddc7-ca0fcf72b42e"
      },
      "source": [
        "match_data['Season'] = pd.DatetimeIndex(match_data['date']).year\n",
        "match_data.head()"
      ],
      "execution_count": 9,
      "outputs": [
        {
          "output_type": "execute_result",
          "data": {
            "text/html": [
              "<div>\n",
              "<style scoped>\n",
              "    .dataframe tbody tr th:only-of-type {\n",
              "        vertical-align: middle;\n",
              "    }\n",
              "\n",
              "    .dataframe tbody tr th {\n",
              "        vertical-align: top;\n",
              "    }\n",
              "\n",
              "    .dataframe thead th {\n",
              "        text-align: right;\n",
              "    }\n",
              "</style>\n",
              "<table border=\"1\" class=\"dataframe\">\n",
              "  <thead>\n",
              "    <tr style=\"text-align: right;\">\n",
              "      <th></th>\n",
              "      <th>id</th>\n",
              "      <th>city</th>\n",
              "      <th>date</th>\n",
              "      <th>player_of_match</th>\n",
              "      <th>venue</th>\n",
              "      <th>neutral_venue</th>\n",
              "      <th>team1</th>\n",
              "      <th>team2</th>\n",
              "      <th>toss_winner</th>\n",
              "      <th>toss_decision</th>\n",
              "      <th>winner</th>\n",
              "      <th>result</th>\n",
              "      <th>result_margin</th>\n",
              "      <th>eliminator</th>\n",
              "      <th>method</th>\n",
              "      <th>umpire1</th>\n",
              "      <th>umpire2</th>\n",
              "      <th>Season</th>\n",
              "    </tr>\n",
              "  </thead>\n",
              "  <tbody>\n",
              "    <tr>\n",
              "      <th>0</th>\n",
              "      <td>335982</td>\n",
              "      <td>Bangalore</td>\n",
              "      <td>2008-04-18</td>\n",
              "      <td>BB McCullum</td>\n",
              "      <td>M Chinnaswamy Stadium</td>\n",
              "      <td>0</td>\n",
              "      <td>Royal Challengers Bangalore</td>\n",
              "      <td>Kolkata Knight Riders</td>\n",
              "      <td>Royal Challengers Bangalore</td>\n",
              "      <td>field</td>\n",
              "      <td>Kolkata Knight Riders</td>\n",
              "      <td>runs</td>\n",
              "      <td>140.0</td>\n",
              "      <td>N</td>\n",
              "      <td>NaN</td>\n",
              "      <td>Asad Rauf</td>\n",
              "      <td>RE Koertzen</td>\n",
              "      <td>2008</td>\n",
              "    </tr>\n",
              "    <tr>\n",
              "      <th>1</th>\n",
              "      <td>335983</td>\n",
              "      <td>Chandigarh</td>\n",
              "      <td>2008-04-19</td>\n",
              "      <td>MEK Hussey</td>\n",
              "      <td>Punjab Cricket Association Stadium, Mohali</td>\n",
              "      <td>0</td>\n",
              "      <td>Kings XI Punjab</td>\n",
              "      <td>Chennai Super Kings</td>\n",
              "      <td>Chennai Super Kings</td>\n",
              "      <td>bat</td>\n",
              "      <td>Chennai Super Kings</td>\n",
              "      <td>runs</td>\n",
              "      <td>33.0</td>\n",
              "      <td>N</td>\n",
              "      <td>NaN</td>\n",
              "      <td>MR Benson</td>\n",
              "      <td>SL Shastri</td>\n",
              "      <td>2008</td>\n",
              "    </tr>\n",
              "    <tr>\n",
              "      <th>2</th>\n",
              "      <td>335984</td>\n",
              "      <td>Delhi</td>\n",
              "      <td>2008-04-19</td>\n",
              "      <td>MF Maharoof</td>\n",
              "      <td>Feroz Shah Kotla</td>\n",
              "      <td>0</td>\n",
              "      <td>Delhi Daredevils</td>\n",
              "      <td>Rajasthan Royals</td>\n",
              "      <td>Rajasthan Royals</td>\n",
              "      <td>bat</td>\n",
              "      <td>Delhi Daredevils</td>\n",
              "      <td>wickets</td>\n",
              "      <td>9.0</td>\n",
              "      <td>N</td>\n",
              "      <td>NaN</td>\n",
              "      <td>Aleem Dar</td>\n",
              "      <td>GA Pratapkumar</td>\n",
              "      <td>2008</td>\n",
              "    </tr>\n",
              "    <tr>\n",
              "      <th>3</th>\n",
              "      <td>335985</td>\n",
              "      <td>Mumbai</td>\n",
              "      <td>2008-04-20</td>\n",
              "      <td>MV Boucher</td>\n",
              "      <td>Wankhede Stadium</td>\n",
              "      <td>0</td>\n",
              "      <td>Mumbai Indians</td>\n",
              "      <td>Royal Challengers Bangalore</td>\n",
              "      <td>Mumbai Indians</td>\n",
              "      <td>bat</td>\n",
              "      <td>Royal Challengers Bangalore</td>\n",
              "      <td>wickets</td>\n",
              "      <td>5.0</td>\n",
              "      <td>N</td>\n",
              "      <td>NaN</td>\n",
              "      <td>SJ Davis</td>\n",
              "      <td>DJ Harper</td>\n",
              "      <td>2008</td>\n",
              "    </tr>\n",
              "    <tr>\n",
              "      <th>4</th>\n",
              "      <td>335986</td>\n",
              "      <td>Kolkata</td>\n",
              "      <td>2008-04-20</td>\n",
              "      <td>DJ Hussey</td>\n",
              "      <td>Eden Gardens</td>\n",
              "      <td>0</td>\n",
              "      <td>Kolkata Knight Riders</td>\n",
              "      <td>Deccan Chargers</td>\n",
              "      <td>Deccan Chargers</td>\n",
              "      <td>bat</td>\n",
              "      <td>Kolkata Knight Riders</td>\n",
              "      <td>wickets</td>\n",
              "      <td>5.0</td>\n",
              "      <td>N</td>\n",
              "      <td>NaN</td>\n",
              "      <td>BF Bowden</td>\n",
              "      <td>K Hariharan</td>\n",
              "      <td>2008</td>\n",
              "    </tr>\n",
              "  </tbody>\n",
              "</table>\n",
              "</div>"
            ],
            "text/plain": [
              "       id        city        date  ...    umpire1         umpire2  Season\n",
              "0  335982   Bangalore  2008-04-18  ...  Asad Rauf     RE Koertzen    2008\n",
              "1  335983  Chandigarh  2008-04-19  ...  MR Benson      SL Shastri    2008\n",
              "2  335984       Delhi  2008-04-19  ...  Aleem Dar  GA Pratapkumar    2008\n",
              "3  335985      Mumbai  2008-04-20  ...   SJ Davis       DJ Harper    2008\n",
              "4  335986     Kolkata  2008-04-20  ...  BF Bowden     K Hariharan    2008\n",
              "\n",
              "[5 rows x 18 columns]"
            ]
          },
          "metadata": {},
          "execution_count": 9
        }
      ]
    },
    {
      "cell_type": "code",
      "metadata": {
        "_kg_hide-input": true,
        "_kg_hide-output": true,
        "execution": {
          "iopub.execute_input": "2021-06-04T22:21:22.803212Z",
          "iopub.status.busy": "2021-06-04T22:21:22.800683Z",
          "iopub.status.idle": "2021-06-04T22:21:22.896789Z",
          "shell.execute_reply": "2021-06-04T22:21:22.896207Z",
          "shell.execute_reply.started": "2021-06-04T22:16:36.114704Z"
        },
        "papermill": {
          "duration": 0.23322,
          "end_time": "2021-06-04T22:21:22.896940",
          "exception": false,
          "start_time": "2021-06-04T22:21:22.663720",
          "status": "completed"
        },
        "tags": [],
        "colab": {
          "base_uri": "https://localhost:8080/",
          "height": 318
        },
        "id": "jjLS19Bbi327",
        "outputId": "c557c80f-c006-4c12-87e8-19bd776ec65b"
      },
      "source": [
        "match_per_season=match_data.groupby(['Season'])['id'].count().reset_index().rename(columns={'id':'matches'})\n",
        "match_per_season.style.background_gradient(cmap='PuBu')"
      ],
      "execution_count": 10,
      "outputs": [
        {
          "output_type": "execute_result",
          "data": {
            "text/html": [
              "<style  type=\"text/css\" >\n",
              "#T_b16ab36c_1651_11ec_8baf_0242ac1c0002row0_col0,#T_b16ab36c_1651_11ec_8baf_0242ac1c0002row1_col1{\n",
              "            background-color:  #fff7fb;\n",
              "            color:  #000000;\n",
              "        }#T_b16ab36c_1651_11ec_8baf_0242ac1c0002row0_col1{\n",
              "            background-color:  #f7f0f7;\n",
              "            color:  #000000;\n",
              "        }#T_b16ab36c_1651_11ec_8baf_0242ac1c0002row1_col0{\n",
              "            background-color:  #f2ecf5;\n",
              "            color:  #000000;\n",
              "        }#T_b16ab36c_1651_11ec_8baf_0242ac1c0002row2_col0{\n",
              "            background-color:  #e3e0ee;\n",
              "            color:  #000000;\n",
              "        }#T_b16ab36c_1651_11ec_8baf_0242ac1c0002row2_col1,#T_b16ab36c_1651_11ec_8baf_0242ac1c0002row6_col1,#T_b16ab36c_1651_11ec_8baf_0242ac1c0002row8_col1,#T_b16ab36c_1651_11ec_8baf_0242ac1c0002row10_col1,#T_b16ab36c_1651_11ec_8baf_0242ac1c0002row11_col1,#T_b16ab36c_1651_11ec_8baf_0242ac1c0002row12_col1{\n",
              "            background-color:  #e5e1ef;\n",
              "            color:  #000000;\n",
              "        }#T_b16ab36c_1651_11ec_8baf_0242ac1c0002row3_col0{\n",
              "            background-color:  #d0d1e6;\n",
              "            color:  #000000;\n",
              "        }#T_b16ab36c_1651_11ec_8baf_0242ac1c0002row3_col1{\n",
              "            background-color:  #046096;\n",
              "            color:  #f1f1f1;\n",
              "        }#T_b16ab36c_1651_11ec_8baf_0242ac1c0002row4_col0{\n",
              "            background-color:  #b4c4df;\n",
              "            color:  #000000;\n",
              "        }#T_b16ab36c_1651_11ec_8baf_0242ac1c0002row4_col1{\n",
              "            background-color:  #045483;\n",
              "            color:  #f1f1f1;\n",
              "        }#T_b16ab36c_1651_11ec_8baf_0242ac1c0002row5_col0{\n",
              "            background-color:  #96b6d7;\n",
              "            color:  #000000;\n",
              "        }#T_b16ab36c_1651_11ec_8baf_0242ac1c0002row5_col1,#T_b16ab36c_1651_11ec_8baf_0242ac1c0002row12_col0{\n",
              "            background-color:  #023858;\n",
              "            color:  #f1f1f1;\n",
              "        }#T_b16ab36c_1651_11ec_8baf_0242ac1c0002row6_col0{\n",
              "            background-color:  #73a9cf;\n",
              "            color:  #000000;\n",
              "        }#T_b16ab36c_1651_11ec_8baf_0242ac1c0002row7_col0{\n",
              "            background-color:  #4a98c5;\n",
              "            color:  #000000;\n",
              "        }#T_b16ab36c_1651_11ec_8baf_0242ac1c0002row7_col1,#T_b16ab36c_1651_11ec_8baf_0242ac1c0002row9_col1{\n",
              "            background-color:  #f0eaf4;\n",
              "            color:  #000000;\n",
              "        }#T_b16ab36c_1651_11ec_8baf_0242ac1c0002row8_col0{\n",
              "            background-color:  #2685bb;\n",
              "            color:  #000000;\n",
              "        }#T_b16ab36c_1651_11ec_8baf_0242ac1c0002row9_col0{\n",
              "            background-color:  #056faf;\n",
              "            color:  #f1f1f1;\n",
              "        }#T_b16ab36c_1651_11ec_8baf_0242ac1c0002row10_col0{\n",
              "            background-color:  #046198;\n",
              "            color:  #f1f1f1;\n",
              "        }#T_b16ab36c_1651_11ec_8baf_0242ac1c0002row11_col0{\n",
              "            background-color:  #034e7b;\n",
              "            color:  #f1f1f1;\n",
              "        }</style><table id=\"T_b16ab36c_1651_11ec_8baf_0242ac1c0002\" ><thead>    <tr>        <th class=\"blank level0\" ></th>        <th class=\"col_heading level0 col0\" >Season</th>        <th class=\"col_heading level0 col1\" >matches</th>    </tr></thead><tbody>\n",
              "                <tr>\n",
              "                        <th id=\"T_b16ab36c_1651_11ec_8baf_0242ac1c0002level0_row0\" class=\"row_heading level0 row0\" >0</th>\n",
              "                        <td id=\"T_b16ab36c_1651_11ec_8baf_0242ac1c0002row0_col0\" class=\"data row0 col0\" >2008</td>\n",
              "                        <td id=\"T_b16ab36c_1651_11ec_8baf_0242ac1c0002row0_col1\" class=\"data row0 col1\" >58</td>\n",
              "            </tr>\n",
              "            <tr>\n",
              "                        <th id=\"T_b16ab36c_1651_11ec_8baf_0242ac1c0002level0_row1\" class=\"row_heading level0 row1\" >1</th>\n",
              "                        <td id=\"T_b16ab36c_1651_11ec_8baf_0242ac1c0002row1_col0\" class=\"data row1 col0\" >2009</td>\n",
              "                        <td id=\"T_b16ab36c_1651_11ec_8baf_0242ac1c0002row1_col1\" class=\"data row1 col1\" >57</td>\n",
              "            </tr>\n",
              "            <tr>\n",
              "                        <th id=\"T_b16ab36c_1651_11ec_8baf_0242ac1c0002level0_row2\" class=\"row_heading level0 row2\" >2</th>\n",
              "                        <td id=\"T_b16ab36c_1651_11ec_8baf_0242ac1c0002row2_col0\" class=\"data row2 col0\" >2010</td>\n",
              "                        <td id=\"T_b16ab36c_1651_11ec_8baf_0242ac1c0002row2_col1\" class=\"data row2 col1\" >60</td>\n",
              "            </tr>\n",
              "            <tr>\n",
              "                        <th id=\"T_b16ab36c_1651_11ec_8baf_0242ac1c0002level0_row3\" class=\"row_heading level0 row3\" >3</th>\n",
              "                        <td id=\"T_b16ab36c_1651_11ec_8baf_0242ac1c0002row3_col0\" class=\"data row3 col0\" >2011</td>\n",
              "                        <td id=\"T_b16ab36c_1651_11ec_8baf_0242ac1c0002row3_col1\" class=\"data row3 col1\" >73</td>\n",
              "            </tr>\n",
              "            <tr>\n",
              "                        <th id=\"T_b16ab36c_1651_11ec_8baf_0242ac1c0002level0_row4\" class=\"row_heading level0 row4\" >4</th>\n",
              "                        <td id=\"T_b16ab36c_1651_11ec_8baf_0242ac1c0002row4_col0\" class=\"data row4 col0\" >2012</td>\n",
              "                        <td id=\"T_b16ab36c_1651_11ec_8baf_0242ac1c0002row4_col1\" class=\"data row4 col1\" >74</td>\n",
              "            </tr>\n",
              "            <tr>\n",
              "                        <th id=\"T_b16ab36c_1651_11ec_8baf_0242ac1c0002level0_row5\" class=\"row_heading level0 row5\" >5</th>\n",
              "                        <td id=\"T_b16ab36c_1651_11ec_8baf_0242ac1c0002row5_col0\" class=\"data row5 col0\" >2013</td>\n",
              "                        <td id=\"T_b16ab36c_1651_11ec_8baf_0242ac1c0002row5_col1\" class=\"data row5 col1\" >76</td>\n",
              "            </tr>\n",
              "            <tr>\n",
              "                        <th id=\"T_b16ab36c_1651_11ec_8baf_0242ac1c0002level0_row6\" class=\"row_heading level0 row6\" >6</th>\n",
              "                        <td id=\"T_b16ab36c_1651_11ec_8baf_0242ac1c0002row6_col0\" class=\"data row6 col0\" >2014</td>\n",
              "                        <td id=\"T_b16ab36c_1651_11ec_8baf_0242ac1c0002row6_col1\" class=\"data row6 col1\" >60</td>\n",
              "            </tr>\n",
              "            <tr>\n",
              "                        <th id=\"T_b16ab36c_1651_11ec_8baf_0242ac1c0002level0_row7\" class=\"row_heading level0 row7\" >7</th>\n",
              "                        <td id=\"T_b16ab36c_1651_11ec_8baf_0242ac1c0002row7_col0\" class=\"data row7 col0\" >2015</td>\n",
              "                        <td id=\"T_b16ab36c_1651_11ec_8baf_0242ac1c0002row7_col1\" class=\"data row7 col1\" >59</td>\n",
              "            </tr>\n",
              "            <tr>\n",
              "                        <th id=\"T_b16ab36c_1651_11ec_8baf_0242ac1c0002level0_row8\" class=\"row_heading level0 row8\" >8</th>\n",
              "                        <td id=\"T_b16ab36c_1651_11ec_8baf_0242ac1c0002row8_col0\" class=\"data row8 col0\" >2016</td>\n",
              "                        <td id=\"T_b16ab36c_1651_11ec_8baf_0242ac1c0002row8_col1\" class=\"data row8 col1\" >60</td>\n",
              "            </tr>\n",
              "            <tr>\n",
              "                        <th id=\"T_b16ab36c_1651_11ec_8baf_0242ac1c0002level0_row9\" class=\"row_heading level0 row9\" >9</th>\n",
              "                        <td id=\"T_b16ab36c_1651_11ec_8baf_0242ac1c0002row9_col0\" class=\"data row9 col0\" >2017</td>\n",
              "                        <td id=\"T_b16ab36c_1651_11ec_8baf_0242ac1c0002row9_col1\" class=\"data row9 col1\" >59</td>\n",
              "            </tr>\n",
              "            <tr>\n",
              "                        <th id=\"T_b16ab36c_1651_11ec_8baf_0242ac1c0002level0_row10\" class=\"row_heading level0 row10\" >10</th>\n",
              "                        <td id=\"T_b16ab36c_1651_11ec_8baf_0242ac1c0002row10_col0\" class=\"data row10 col0\" >2018</td>\n",
              "                        <td id=\"T_b16ab36c_1651_11ec_8baf_0242ac1c0002row10_col1\" class=\"data row10 col1\" >60</td>\n",
              "            </tr>\n",
              "            <tr>\n",
              "                        <th id=\"T_b16ab36c_1651_11ec_8baf_0242ac1c0002level0_row11\" class=\"row_heading level0 row11\" >11</th>\n",
              "                        <td id=\"T_b16ab36c_1651_11ec_8baf_0242ac1c0002row11_col0\" class=\"data row11 col0\" >2019</td>\n",
              "                        <td id=\"T_b16ab36c_1651_11ec_8baf_0242ac1c0002row11_col1\" class=\"data row11 col1\" >60</td>\n",
              "            </tr>\n",
              "            <tr>\n",
              "                        <th id=\"T_b16ab36c_1651_11ec_8baf_0242ac1c0002level0_row12\" class=\"row_heading level0 row12\" >12</th>\n",
              "                        <td id=\"T_b16ab36c_1651_11ec_8baf_0242ac1c0002row12_col0\" class=\"data row12 col0\" >2020</td>\n",
              "                        <td id=\"T_b16ab36c_1651_11ec_8baf_0242ac1c0002row12_col1\" class=\"data row12 col1\" >60</td>\n",
              "            </tr>\n",
              "    </tbody></table>"
            ],
            "text/plain": [
              "<pandas.io.formats.style.Styler at 0x7feebac782d0>"
            ]
          },
          "metadata": {},
          "execution_count": 10
        }
      ]
    },
    {
      "cell_type": "code",
      "metadata": {
        "_kg_hide-input": true,
        "execution": {
          "iopub.execute_input": "2021-06-04T22:21:23.169363Z",
          "iopub.status.busy": "2021-06-04T22:21:23.168679Z",
          "iopub.status.idle": "2021-06-04T22:21:24.568252Z",
          "shell.execute_reply": "2021-06-04T22:21:24.568733Z",
          "shell.execute_reply.started": "2021-06-04T22:16:36.180350Z"
        },
        "papermill": {
          "duration": 1.539078,
          "end_time": "2021-06-04T22:21:24.568928",
          "exception": false,
          "start_time": "2021-06-04T22:21:23.029850",
          "status": "completed"
        },
        "tags": [],
        "colab": {
          "base_uri": "https://localhost:8080/",
          "height": 542
        },
        "id": "oNIA64jbi327",
        "outputId": "4fda4185-c3b4-45c1-dc66-a1b69a5e1b05"
      },
      "source": [
        "colors = ['turquoise',] * 13\n",
        "colors[5] = 'crimson'\n",
        "\n",
        "fig=px.bar(data_frame=match_per_season,x=match_per_season.Season,y=match_per_season.matches,labels=dict(x=\"Season\",y=\"Count\"),)\n",
        "fig.update_layout(title=\"Number of matches played in different seasons \",\n",
        "                  titlefont={'size': 26},template='simple_white'     \n",
        "                  )\n",
        "fig.update_traces(marker_line_color='black',\n",
        "                  marker_line_width=2.5, opacity=1,marker_color=colors)\n",
        "fig.show()"
      ],
      "execution_count": 11,
      "outputs": [
        {
          "output_type": "display_data",
          "data": {
            "text/html": [
              "<html>\n",
              "<head><meta charset=\"utf-8\" /></head>\n",
              "<body>\n",
              "    <div>\n",
              "            <script src=\"https://cdnjs.cloudflare.com/ajax/libs/mathjax/2.7.5/MathJax.js?config=TeX-AMS-MML_SVG\"></script><script type=\"text/javascript\">if (window.MathJax) {MathJax.Hub.Config({SVG: {font: \"STIX-Web\"}});}</script>\n",
              "                <script type=\"text/javascript\">window.PlotlyConfig = {MathJaxConfig: 'local'};</script>\n",
              "        <script src=\"https://cdn.plot.ly/plotly-latest.min.js\"></script>    \n",
              "            <div id=\"88325464-368e-47e4-b8b6-7d764e1b1db1\" class=\"plotly-graph-div\" style=\"height:525px; width:100%;\"></div>\n",
              "            <script type=\"text/javascript\">\n",
              "                \n",
              "                    window.PLOTLYENV=window.PLOTLYENV || {};\n",
              "                    \n",
              "                if (document.getElementById(\"88325464-368e-47e4-b8b6-7d764e1b1db1\")) {\n",
              "                    Plotly.newPlot(\n",
              "                        '88325464-368e-47e4-b8b6-7d764e1b1db1',\n",
              "                        [{\"alignmentgroup\": \"True\", \"hoverlabel\": {\"namelength\": 0}, \"hovertemplate\": \"Season=%{x}<br>matches=%{y}\", \"legendgroup\": \"\", \"marker\": {\"color\": [\"turquoise\", \"turquoise\", \"turquoise\", \"turquoise\", \"turquoise\", \"crimson\", \"turquoise\", \"turquoise\", \"turquoise\", \"turquoise\", \"turquoise\", \"turquoise\", \"turquoise\"], \"line\": {\"color\": \"black\", \"width\": 2.5}}, \"name\": \"\", \"offsetgroup\": \"\", \"opacity\": 1, \"orientation\": \"v\", \"showlegend\": false, \"textposition\": \"auto\", \"type\": \"bar\", \"x\": [2008, 2009, 2010, 2011, 2012, 2013, 2014, 2015, 2016, 2017, 2018, 2019, 2020], \"xaxis\": \"x\", \"y\": [58, 57, 60, 73, 74, 76, 60, 59, 60, 59, 60, 60, 60], \"yaxis\": \"y\"}],\n",
              "                        {\"barmode\": \"relative\", \"legend\": {\"tracegroupgap\": 0}, \"margin\": {\"t\": 60}, \"template\": {\"data\": {\"bar\": [{\"error_x\": {\"color\": \"rgb(36,36,36)\"}, \"error_y\": {\"color\": \"rgb(36,36,36)\"}, \"marker\": {\"line\": {\"color\": \"white\", \"width\": 0.5}}, \"type\": \"bar\"}], \"barpolar\": [{\"marker\": {\"line\": {\"color\": \"white\", \"width\": 0.5}}, \"type\": \"barpolar\"}], \"carpet\": [{\"aaxis\": {\"endlinecolor\": \"rgb(36,36,36)\", \"gridcolor\": \"white\", \"linecolor\": \"white\", \"minorgridcolor\": \"white\", \"startlinecolor\": \"rgb(36,36,36)\"}, \"baxis\": {\"endlinecolor\": \"rgb(36,36,36)\", \"gridcolor\": \"white\", \"linecolor\": \"white\", \"minorgridcolor\": \"white\", \"startlinecolor\": \"rgb(36,36,36)\"}, \"type\": \"carpet\"}], \"choropleth\": [{\"colorbar\": {\"outlinewidth\": 10, \"tickcolor\": \"rgb(36,36,36)\", \"ticklen\": 8, \"ticks\": \"outside\", \"tickwidth\": 2}, \"type\": \"choropleth\"}], \"contour\": [{\"colorbar\": {\"outlinewidth\": 10, \"tickcolor\": \"rgb(36,36,36)\", \"ticklen\": 8, \"ticks\": \"outside\", \"tickwidth\": 2}, \"colorscale\": [[0.0, \"#440154\"], [0.1111111111111111, \"#482878\"], [0.2222222222222222, \"#3e4989\"], [0.3333333333333333, \"#31688e\"], [0.4444444444444444, \"#26828e\"], [0.5555555555555556, \"#1f9e89\"], [0.6666666666666666, \"#35b779\"], [0.7777777777777778, \"#6ece58\"], [0.8888888888888888, \"#b5de2b\"], [1.0, \"#fde725\"]], \"type\": \"contour\"}], \"contourcarpet\": [{\"colorbar\": {\"outlinewidth\": 10, \"tickcolor\": \"rgb(36,36,36)\", \"ticklen\": 8, \"ticks\": \"outside\", \"tickwidth\": 2}, \"type\": \"contourcarpet\"}], \"heatmap\": [{\"colorbar\": {\"outlinewidth\": 10, \"tickcolor\": \"rgb(36,36,36)\", \"ticklen\": 8, \"ticks\": \"outside\", \"tickwidth\": 2}, \"colorscale\": [[0.0, \"#440154\"], [0.1111111111111111, \"#482878\"], [0.2222222222222222, \"#3e4989\"], [0.3333333333333333, \"#31688e\"], [0.4444444444444444, \"#26828e\"], [0.5555555555555556, \"#1f9e89\"], [0.6666666666666666, \"#35b779\"], [0.7777777777777778, \"#6ece58\"], [0.8888888888888888, \"#b5de2b\"], [1.0, \"#fde725\"]], \"type\": \"heatmap\"}], \"heatmapgl\": [{\"colorbar\": {\"outlinewidth\": 10, \"tickcolor\": \"rgb(36,36,36)\", \"ticklen\": 8, \"ticks\": \"outside\", \"tickwidth\": 2}, \"colorscale\": [[0.0, \"#440154\"], [0.1111111111111111, \"#482878\"], [0.2222222222222222, \"#3e4989\"], [0.3333333333333333, \"#31688e\"], [0.4444444444444444, \"#26828e\"], [0.5555555555555556, \"#1f9e89\"], [0.6666666666666666, \"#35b779\"], [0.7777777777777778, \"#6ece58\"], [0.8888888888888888, \"#b5de2b\"], [1.0, \"#fde725\"]], \"type\": \"heatmapgl\"}], \"histogram\": [{\"marker\": {\"line\": {\"color\": \"white\", \"width\": 0.6}}, \"type\": \"histogram\"}], \"histogram2d\": [{\"colorbar\": {\"outlinewidth\": 10, \"tickcolor\": \"rgb(36,36,36)\", \"ticklen\": 8, \"ticks\": \"outside\", \"tickwidth\": 2}, \"colorscale\": [[0.0, \"#440154\"], [0.1111111111111111, \"#482878\"], [0.2222222222222222, \"#3e4989\"], [0.3333333333333333, \"#31688e\"], [0.4444444444444444, \"#26828e\"], [0.5555555555555556, \"#1f9e89\"], [0.6666666666666666, \"#35b779\"], [0.7777777777777778, \"#6ece58\"], [0.8888888888888888, \"#b5de2b\"], [1.0, \"#fde725\"]], \"type\": \"histogram2d\"}], \"histogram2dcontour\": [{\"colorbar\": {\"outlinewidth\": 10, \"tickcolor\": \"rgb(36,36,36)\", \"ticklen\": 8, \"ticks\": \"outside\", \"tickwidth\": 2}, \"colorscale\": [[0.0, \"#440154\"], [0.1111111111111111, \"#482878\"], [0.2222222222222222, \"#3e4989\"], [0.3333333333333333, \"#31688e\"], [0.4444444444444444, \"#26828e\"], [0.5555555555555556, \"#1f9e89\"], [0.6666666666666666, \"#35b779\"], [0.7777777777777778, \"#6ece58\"], [0.8888888888888888, \"#b5de2b\"], [1.0, \"#fde725\"]], \"type\": \"histogram2dcontour\"}], \"mesh3d\": [{\"colorbar\": {\"outlinewidth\": 10, \"tickcolor\": \"rgb(36,36,36)\", \"ticklen\": 8, \"ticks\": \"outside\", \"tickwidth\": 2}, \"type\": \"mesh3d\"}], \"parcoords\": [{\"line\": {\"colorbar\": {\"outlinewidth\": 10, \"tickcolor\": \"rgb(36,36,36)\", \"ticklen\": 8, \"ticks\": \"outside\", \"tickwidth\": 2}}, \"type\": \"parcoords\"}], \"pie\": [{\"automargin\": true, \"type\": \"pie\"}], \"scatter\": [{\"marker\": {\"colorbar\": {\"outlinewidth\": 10, \"tickcolor\": \"rgb(36,36,36)\", \"ticklen\": 8, \"ticks\": \"outside\", \"tickwidth\": 2}}, \"type\": \"scatter\"}], \"scatter3d\": [{\"line\": {\"colorbar\": {\"outlinewidth\": 10, \"tickcolor\": \"rgb(36,36,36)\", \"ticklen\": 8, \"ticks\": \"outside\", \"tickwidth\": 2}}, \"marker\": {\"colorbar\": {\"outlinewidth\": 10, \"tickcolor\": \"rgb(36,36,36)\", \"ticklen\": 8, \"ticks\": \"outside\", \"tickwidth\": 2}}, \"type\": \"scatter3d\"}], \"scattercarpet\": [{\"marker\": {\"colorbar\": {\"outlinewidth\": 10, \"tickcolor\": \"rgb(36,36,36)\", \"ticklen\": 8, \"ticks\": \"outside\", \"tickwidth\": 2}}, \"type\": \"scattercarpet\"}], \"scattergeo\": [{\"marker\": {\"colorbar\": {\"outlinewidth\": 10, \"tickcolor\": \"rgb(36,36,36)\", \"ticklen\": 8, \"ticks\": \"outside\", \"tickwidth\": 2}}, \"type\": \"scattergeo\"}], \"scattergl\": [{\"marker\": {\"colorbar\": {\"outlinewidth\": 10, \"tickcolor\": \"rgb(36,36,36)\", \"ticklen\": 8, \"ticks\": \"outside\", \"tickwidth\": 2}}, \"type\": \"scattergl\"}], \"scattermapbox\": [{\"marker\": {\"colorbar\": {\"outlinewidth\": 10, \"tickcolor\": \"rgb(36,36,36)\", \"ticklen\": 8, \"ticks\": \"outside\", \"tickwidth\": 2}}, \"type\": \"scattermapbox\"}], \"scatterpolar\": [{\"marker\": {\"colorbar\": {\"outlinewidth\": 10, \"tickcolor\": \"rgb(36,36,36)\", \"ticklen\": 8, \"ticks\": \"outside\", \"tickwidth\": 2}}, \"type\": \"scatterpolar\"}], \"scatterpolargl\": [{\"marker\": {\"colorbar\": {\"outlinewidth\": 10, \"tickcolor\": \"rgb(36,36,36)\", \"ticklen\": 8, \"ticks\": \"outside\", \"tickwidth\": 2}}, \"type\": \"scatterpolargl\"}], \"scatterternary\": [{\"marker\": {\"colorbar\": {\"outlinewidth\": 10, \"tickcolor\": \"rgb(36,36,36)\", \"ticklen\": 8, \"ticks\": \"outside\", \"tickwidth\": 2}}, \"type\": \"scatterternary\"}], \"surface\": [{\"colorbar\": {\"outlinewidth\": 10, \"tickcolor\": \"rgb(36,36,36)\", \"ticklen\": 8, \"ticks\": \"outside\", \"tickwidth\": 2}, \"colorscale\": [[0.0, \"#440154\"], [0.1111111111111111, \"#482878\"], [0.2222222222222222, \"#3e4989\"], [0.3333333333333333, \"#31688e\"], [0.4444444444444444, \"#26828e\"], [0.5555555555555556, \"#1f9e89\"], [0.6666666666666666, \"#35b779\"], [0.7777777777777778, \"#6ece58\"], [0.8888888888888888, \"#b5de2b\"], [1.0, \"#fde725\"]], \"type\": \"surface\"}], \"table\": [{\"cells\": {\"fill\": {\"color\": \"rgb(237,237,237)\"}, \"line\": {\"color\": \"white\"}}, \"header\": {\"fill\": {\"color\": \"rgb(217,217,217)\"}, \"line\": {\"color\": \"white\"}}, \"type\": \"table\"}]}, \"layout\": {\"annotationdefaults\": {\"arrowhead\": 0, \"arrowwidth\": 1}, \"coloraxis\": {\"colorbar\": {\"outlinewidth\": 10, \"tickcolor\": \"rgb(36,36,36)\", \"ticklen\": 8, \"ticks\": \"outside\", \"tickwidth\": 2}}, \"colorscale\": {\"diverging\": [[0.0, \"rgb(103,0,31)\"], [0.1, \"rgb(178,24,43)\"], [0.2, \"rgb(214,96,77)\"], [0.3, \"rgb(244,165,130)\"], [0.4, \"rgb(253,219,199)\"], [0.5, \"rgb(247,247,247)\"], [0.6, \"rgb(209,229,240)\"], [0.7, \"rgb(146,197,222)\"], [0.8, \"rgb(67,147,195)\"], [0.9, \"rgb(33,102,172)\"], [1.0, \"rgb(5,48,97)\"]], \"sequential\": [[0.0, \"#440154\"], [0.1111111111111111, \"#482878\"], [0.2222222222222222, \"#3e4989\"], [0.3333333333333333, \"#31688e\"], [0.4444444444444444, \"#26828e\"], [0.5555555555555556, \"#1f9e89\"], [0.6666666666666666, \"#35b779\"], [0.7777777777777778, \"#6ece58\"], [0.8888888888888888, \"#b5de2b\"], [1.0, \"#fde725\"]], \"sequentialminus\": [[0.0, \"#440154\"], [0.1111111111111111, \"#482878\"], [0.2222222222222222, \"#3e4989\"], [0.3333333333333333, \"#31688e\"], [0.4444444444444444, \"#26828e\"], [0.5555555555555556, \"#1f9e89\"], [0.6666666666666666, \"#35b779\"], [0.7777777777777778, \"#6ece58\"], [0.8888888888888888, \"#b5de2b\"], [1.0, \"#fde725\"]]}, \"colorway\": [\"#1F77B4\", \"#FF7F0E\", \"#2CA02C\", \"#D62728\", \"#9467BD\", \"#8C564B\", \"#E377C2\", \"#7F7F7F\", \"#BCBD22\", \"#17BECF\"], \"font\": {\"color\": \"rgb(36,36,36)\"}, \"geo\": {\"bgcolor\": \"white\", \"lakecolor\": \"white\", \"landcolor\": \"white\", \"showlakes\": true, \"showland\": true, \"subunitcolor\": \"white\"}, \"hoverlabel\": {\"align\": \"left\"}, \"hovermode\": \"closest\", \"mapbox\": {\"style\": \"light\"}, \"paper_bgcolor\": \"white\", \"plot_bgcolor\": \"white\", \"polar\": {\"angularaxis\": {\"gridcolor\": \"rgb(232,232,232)\", \"linecolor\": \"rgb(36,36,36)\", \"showgrid\": false, \"showline\": true, \"ticks\": \"outside\"}, \"bgcolor\": \"white\", \"radialaxis\": {\"gridcolor\": \"rgb(232,232,232)\", \"linecolor\": \"rgb(36,36,36)\", \"showgrid\": false, \"showline\": true, \"ticks\": \"outside\"}}, \"scene\": {\"xaxis\": {\"backgroundcolor\": \"white\", \"gridcolor\": \"rgb(232,232,232)\", \"gridwidth\": 2, \"linecolor\": \"rgb(36,36,36)\", \"showbackground\": true, \"showgrid\": false, \"showline\": true, \"ticks\": \"outside\", \"zeroline\": false, \"zerolinecolor\": \"rgb(36,36,36)\"}, \"yaxis\": {\"backgroundcolor\": \"white\", \"gridcolor\": \"rgb(232,232,232)\", \"gridwidth\": 2, \"linecolor\": \"rgb(36,36,36)\", \"showbackground\": true, \"showgrid\": false, \"showline\": true, \"ticks\": \"outside\", \"zeroline\": false, \"zerolinecolor\": \"rgb(36,36,36)\"}, \"zaxis\": {\"backgroundcolor\": \"white\", \"gridcolor\": \"rgb(232,232,232)\", \"gridwidth\": 2, \"linecolor\": \"rgb(36,36,36)\", \"showbackground\": true, \"showgrid\": false, \"showline\": true, \"ticks\": \"outside\", \"zeroline\": false, \"zerolinecolor\": \"rgb(36,36,36)\"}}, \"shapedefaults\": {\"fillcolor\": \"black\", \"line\": {\"width\": 0}, \"opacity\": 0.3}, \"ternary\": {\"aaxis\": {\"gridcolor\": \"rgb(232,232,232)\", \"linecolor\": \"rgb(36,36,36)\", \"showgrid\": false, \"showline\": true, \"ticks\": \"outside\"}, \"baxis\": {\"gridcolor\": \"rgb(232,232,232)\", \"linecolor\": \"rgb(36,36,36)\", \"showgrid\": false, \"showline\": true, \"ticks\": \"outside\"}, \"bgcolor\": \"white\", \"caxis\": {\"gridcolor\": \"rgb(232,232,232)\", \"linecolor\": \"rgb(36,36,36)\", \"showgrid\": false, \"showline\": true, \"ticks\": \"outside\"}}, \"title\": {\"x\": 0.05}, \"xaxis\": {\"automargin\": true, \"gridcolor\": \"rgb(232,232,232)\", \"linecolor\": \"rgb(36,36,36)\", \"showgrid\": false, \"showline\": true, \"ticks\": \"outside\", \"title\": {\"standoff\": 15}, \"zeroline\": false, \"zerolinecolor\": \"rgb(36,36,36)\"}, \"yaxis\": {\"automargin\": true, \"gridcolor\": \"rgb(232,232,232)\", \"linecolor\": \"rgb(36,36,36)\", \"showgrid\": false, \"showline\": true, \"ticks\": \"outside\", \"title\": {\"standoff\": 15}, \"zeroline\": false, \"zerolinecolor\": \"rgb(36,36,36)\"}}}, \"title\": {\"font\": {\"size\": 26}, \"text\": \"Number of matches played in different seasons \"}, \"xaxis\": {\"anchor\": \"y\", \"domain\": [0.0, 1.0], \"title\": {\"text\": \"Season\"}}, \"yaxis\": {\"anchor\": \"x\", \"domain\": [0.0, 1.0], \"title\": {\"text\": \"matches\"}}},\n",
              "                        {\"responsive\": true}\n",
              "                    ).then(function(){\n",
              "                            \n",
              "var gd = document.getElementById('88325464-368e-47e4-b8b6-7d764e1b1db1');\n",
              "var x = new MutationObserver(function (mutations, observer) {{\n",
              "        var display = window.getComputedStyle(gd).display;\n",
              "        if (!display || display === 'none') {{\n",
              "            console.log([gd, 'removed!']);\n",
              "            Plotly.purge(gd);\n",
              "            observer.disconnect();\n",
              "        }}\n",
              "}});\n",
              "\n",
              "// Listen for the removal of the full notebook cells\n",
              "var notebookContainer = gd.closest('#notebook-container');\n",
              "if (notebookContainer) {{\n",
              "    x.observe(notebookContainer, {childList: true});\n",
              "}}\n",
              "\n",
              "// Listen for the clearing of the current output cell\n",
              "var outputEl = gd.closest('.output');\n",
              "if (outputEl) {{\n",
              "    x.observe(outputEl, {childList: true});\n",
              "}}\n",
              "\n",
              "                        })\n",
              "                };\n",
              "                \n",
              "            </script>\n",
              "        </div>\n",
              "</body>\n",
              "</html>"
            ]
          },
          "metadata": {}
        }
      ]
    },
    {
      "cell_type": "markdown",
      "metadata": {
        "papermill": {
          "duration": 0.131279,
          "end_time": "2021-06-04T22:21:24.833790",
          "exception": false,
          "start_time": "2021-06-04T22:21:24.702511",
          "status": "completed"
        },
        "tags": [],
        "id": "dfWvoRP5i328"
      },
      "source": [
        "<div class=\"alert alert-block alert-info\"><p style='color:black;'> 📌Each season, almost 60 matches were played. However, we see a spike in the number of matches from 2011 to 2013. This is because two new franchises, the Pune Warriors and Kochi Tuskers Kerala, were introduced, increasing the number of teams to 10.</p>\n",
        "</div>"
      ]
    },
    {
      "cell_type": "markdown",
      "metadata": {
        "id": "wlIL3i1Vry37"
      },
      "source": [
        "<small><a href='#0'>Go to top</a></small>  "
      ]
    },
    {
      "cell_type": "markdown",
      "metadata": {
        "papermill": {
          "duration": 0.132501,
          "end_time": "2021-06-04T22:21:25.367181",
          "exception": false,
          "start_time": "2021-06-04T22:21:25.234680",
          "status": "completed"
        },
        "tags": [],
        "id": "ob5WUpjri328"
      },
      "source": [
        "<a id=\"2\">\n",
        "<h1 style = \"font-family: Snell Roundhand;font-weight: 500;font-size: 30px; font-style: normal; background-color: #FFFB30; color :black;\"> 2) Total number of runs scored across seasons :</h1>\n"
      ]
    },
    {
      "cell_type": "code",
      "metadata": {
        "_kg_hide-input": true,
        "_kg_hide-output": true,
        "execution": {
          "iopub.execute_input": "2021-06-04T22:21:25.633931Z",
          "iopub.status.busy": "2021-06-04T22:21:25.633289Z",
          "iopub.status.idle": "2021-06-04T22:21:25.865782Z",
          "shell.execute_reply": "2021-06-04T22:21:25.866295Z",
          "shell.execute_reply.started": "2021-06-04T22:16:37.527982Z"
        },
        "papermill": {
          "duration": 0.368101,
          "end_time": "2021-06-04T22:21:25.866472",
          "exception": false,
          "start_time": "2021-06-04T22:21:25.498371",
          "status": "completed"
        },
        "tags": [],
        "colab": {
          "base_uri": "https://localhost:8080/",
          "height": 399
        },
        "id": "xNXqoqQNi328",
        "outputId": "f8ae0278-8f5a-4df6-942a-e92da226e26f"
      },
      "source": [
        "season_data=match_data[['id','Season']].merge(deliveries_data, left_on = 'id', right_on = 'id', how = 'left').drop('id', axis = 1)\n",
        "season_data.head()"
      ],
      "execution_count": 12,
      "outputs": [
        {
          "output_type": "execute_result",
          "data": {
            "text/html": [
              "<div>\n",
              "<style scoped>\n",
              "    .dataframe tbody tr th:only-of-type {\n",
              "        vertical-align: middle;\n",
              "    }\n",
              "\n",
              "    .dataframe tbody tr th {\n",
              "        vertical-align: top;\n",
              "    }\n",
              "\n",
              "    .dataframe thead th {\n",
              "        text-align: right;\n",
              "    }\n",
              "</style>\n",
              "<table border=\"1\" class=\"dataframe\">\n",
              "  <thead>\n",
              "    <tr style=\"text-align: right;\">\n",
              "      <th></th>\n",
              "      <th>Season</th>\n",
              "      <th>inning</th>\n",
              "      <th>over</th>\n",
              "      <th>ball</th>\n",
              "      <th>batsman</th>\n",
              "      <th>non_striker</th>\n",
              "      <th>bowler</th>\n",
              "      <th>batsman_runs</th>\n",
              "      <th>extra_runs</th>\n",
              "      <th>total_runs</th>\n",
              "      <th>non_boundary</th>\n",
              "      <th>is_wicket</th>\n",
              "      <th>dismissal_kind</th>\n",
              "      <th>player_dismissed</th>\n",
              "      <th>fielder</th>\n",
              "      <th>extras_type</th>\n",
              "      <th>batting_team</th>\n",
              "      <th>bowling_team</th>\n",
              "    </tr>\n",
              "  </thead>\n",
              "  <tbody>\n",
              "    <tr>\n",
              "      <th>0</th>\n",
              "      <td>2008</td>\n",
              "      <td>1</td>\n",
              "      <td>6</td>\n",
              "      <td>5</td>\n",
              "      <td>RT Ponting</td>\n",
              "      <td>BB McCullum</td>\n",
              "      <td>AA Noffke</td>\n",
              "      <td>1</td>\n",
              "      <td>0</td>\n",
              "      <td>1</td>\n",
              "      <td>0</td>\n",
              "      <td>0</td>\n",
              "      <td>NaN</td>\n",
              "      <td>NaN</td>\n",
              "      <td>NaN</td>\n",
              "      <td>NaN</td>\n",
              "      <td>Kolkata Knight Riders</td>\n",
              "      <td>Royal Challengers Bangalore</td>\n",
              "    </tr>\n",
              "    <tr>\n",
              "      <th>1</th>\n",
              "      <td>2008</td>\n",
              "      <td>1</td>\n",
              "      <td>6</td>\n",
              "      <td>6</td>\n",
              "      <td>BB McCullum</td>\n",
              "      <td>RT Ponting</td>\n",
              "      <td>AA Noffke</td>\n",
              "      <td>1</td>\n",
              "      <td>0</td>\n",
              "      <td>1</td>\n",
              "      <td>0</td>\n",
              "      <td>0</td>\n",
              "      <td>NaN</td>\n",
              "      <td>NaN</td>\n",
              "      <td>NaN</td>\n",
              "      <td>NaN</td>\n",
              "      <td>Kolkata Knight Riders</td>\n",
              "      <td>Royal Challengers Bangalore</td>\n",
              "    </tr>\n",
              "    <tr>\n",
              "      <th>2</th>\n",
              "      <td>2008</td>\n",
              "      <td>1</td>\n",
              "      <td>7</td>\n",
              "      <td>1</td>\n",
              "      <td>BB McCullum</td>\n",
              "      <td>RT Ponting</td>\n",
              "      <td>Z Khan</td>\n",
              "      <td>0</td>\n",
              "      <td>0</td>\n",
              "      <td>0</td>\n",
              "      <td>0</td>\n",
              "      <td>0</td>\n",
              "      <td>NaN</td>\n",
              "      <td>NaN</td>\n",
              "      <td>NaN</td>\n",
              "      <td>NaN</td>\n",
              "      <td>Kolkata Knight Riders</td>\n",
              "      <td>Royal Challengers Bangalore</td>\n",
              "    </tr>\n",
              "    <tr>\n",
              "      <th>3</th>\n",
              "      <td>2008</td>\n",
              "      <td>1</td>\n",
              "      <td>7</td>\n",
              "      <td>2</td>\n",
              "      <td>BB McCullum</td>\n",
              "      <td>RT Ponting</td>\n",
              "      <td>Z Khan</td>\n",
              "      <td>1</td>\n",
              "      <td>0</td>\n",
              "      <td>1</td>\n",
              "      <td>0</td>\n",
              "      <td>0</td>\n",
              "      <td>NaN</td>\n",
              "      <td>NaN</td>\n",
              "      <td>NaN</td>\n",
              "      <td>NaN</td>\n",
              "      <td>Kolkata Knight Riders</td>\n",
              "      <td>Royal Challengers Bangalore</td>\n",
              "    </tr>\n",
              "    <tr>\n",
              "      <th>4</th>\n",
              "      <td>2008</td>\n",
              "      <td>1</td>\n",
              "      <td>7</td>\n",
              "      <td>3</td>\n",
              "      <td>RT Ponting</td>\n",
              "      <td>BB McCullum</td>\n",
              "      <td>Z Khan</td>\n",
              "      <td>1</td>\n",
              "      <td>0</td>\n",
              "      <td>1</td>\n",
              "      <td>0</td>\n",
              "      <td>0</td>\n",
              "      <td>NaN</td>\n",
              "      <td>NaN</td>\n",
              "      <td>NaN</td>\n",
              "      <td>NaN</td>\n",
              "      <td>Kolkata Knight Riders</td>\n",
              "      <td>Royal Challengers Bangalore</td>\n",
              "    </tr>\n",
              "  </tbody>\n",
              "</table>\n",
              "</div>"
            ],
            "text/plain": [
              "   Season  inning  ...           batting_team                 bowling_team\n",
              "0    2008       1  ...  Kolkata Knight Riders  Royal Challengers Bangalore\n",
              "1    2008       1  ...  Kolkata Knight Riders  Royal Challengers Bangalore\n",
              "2    2008       1  ...  Kolkata Knight Riders  Royal Challengers Bangalore\n",
              "3    2008       1  ...  Kolkata Knight Riders  Royal Challengers Bangalore\n",
              "4    2008       1  ...  Kolkata Knight Riders  Royal Challengers Bangalore\n",
              "\n",
              "[5 rows x 18 columns]"
            ]
          },
          "metadata": {},
          "execution_count": 12
        }
      ]
    },
    {
      "cell_type": "code",
      "metadata": {
        "_kg_hide-input": true,
        "execution": {
          "iopub.execute_input": "2021-06-04T22:21:26.417827Z",
          "iopub.status.busy": "2021-06-04T22:21:26.416674Z",
          "iopub.status.idle": "2021-06-04T22:21:26.561308Z",
          "shell.execute_reply": "2021-06-04T22:21:26.560781Z",
          "shell.execute_reply.started": "2021-06-04T22:16:37.791595Z"
        },
        "papermill": {
          "duration": 0.284843,
          "end_time": "2021-06-04T22:21:26.561464",
          "exception": false,
          "start_time": "2021-06-04T22:21:26.276621",
          "status": "completed"
        },
        "tags": [],
        "colab": {
          "base_uri": "https://localhost:8080/",
          "height": 542
        },
        "id": "TWqOtpFSi329",
        "outputId": "755d10fb-ef6f-4be1-cc24-ae841c2e4e1c"
      },
      "source": [
        "# Season\n",
        "season=season_data.groupby(['Season'])['total_runs'].sum().reset_index()\n",
        "p=season.set_index('Season')\n",
        "fig = px.line(p, x=p.index, y=\"total_runs\")\n",
        "fig.update_layout(title=\"Total Runs Across the Seasons \",\n",
        "                  titlefont={'size': 26},template='simple_white'     \n",
        "                  )\n",
        "fig.show()"
      ],
      "execution_count": 13,
      "outputs": [
        {
          "output_type": "display_data",
          "data": {
            "text/html": [
              "<html>\n",
              "<head><meta charset=\"utf-8\" /></head>\n",
              "<body>\n",
              "    <div>\n",
              "            <script src=\"https://cdnjs.cloudflare.com/ajax/libs/mathjax/2.7.5/MathJax.js?config=TeX-AMS-MML_SVG\"></script><script type=\"text/javascript\">if (window.MathJax) {MathJax.Hub.Config({SVG: {font: \"STIX-Web\"}});}</script>\n",
              "                <script type=\"text/javascript\">window.PlotlyConfig = {MathJaxConfig: 'local'};</script>\n",
              "        <script src=\"https://cdn.plot.ly/plotly-latest.min.js\"></script>    \n",
              "            <div id=\"31691ef5-9fec-429b-891c-7e3b25ca85d3\" class=\"plotly-graph-div\" style=\"height:525px; width:100%;\"></div>\n",
              "            <script type=\"text/javascript\">\n",
              "                \n",
              "                    window.PLOTLYENV=window.PLOTLYENV || {};\n",
              "                    \n",
              "                if (document.getElementById(\"31691ef5-9fec-429b-891c-7e3b25ca85d3\")) {\n",
              "                    Plotly.newPlot(\n",
              "                        '31691ef5-9fec-429b-891c-7e3b25ca85d3',\n",
              "                        [{\"hoverlabel\": {\"namelength\": 0}, \"hovertemplate\": \"x=%{x}<br>total_runs=%{y}\", \"legendgroup\": \"\", \"line\": {\"color\": \"#636efa\", \"dash\": \"solid\"}, \"mode\": \"lines\", \"name\": \"\", \"showlegend\": false, \"type\": \"scatter\", \"x\": [2008, 2009, 2010, 2011, 2012, 2013, 2014, 2015, 2016, 2017, 2018, 2019, 2020], \"xaxis\": \"x\", \"y\": [17937, 16320, 18864, 21154, 22453, 22541, 18909, 18332, 18862, 18769, 19901, 19400, 19352], \"yaxis\": \"y\"}],\n",
              "                        {\"legend\": {\"tracegroupgap\": 0}, \"margin\": {\"t\": 60}, \"template\": {\"data\": {\"bar\": [{\"error_x\": {\"color\": \"rgb(36,36,36)\"}, \"error_y\": {\"color\": \"rgb(36,36,36)\"}, \"marker\": {\"line\": {\"color\": \"white\", \"width\": 0.5}}, \"type\": \"bar\"}], \"barpolar\": [{\"marker\": {\"line\": {\"color\": \"white\", \"width\": 0.5}}, \"type\": \"barpolar\"}], \"carpet\": [{\"aaxis\": {\"endlinecolor\": \"rgb(36,36,36)\", \"gridcolor\": \"white\", \"linecolor\": \"white\", \"minorgridcolor\": \"white\", \"startlinecolor\": \"rgb(36,36,36)\"}, \"baxis\": {\"endlinecolor\": \"rgb(36,36,36)\", \"gridcolor\": \"white\", \"linecolor\": \"white\", \"minorgridcolor\": \"white\", \"startlinecolor\": \"rgb(36,36,36)\"}, \"type\": \"carpet\"}], \"choropleth\": [{\"colorbar\": {\"outlinewidth\": 10, \"tickcolor\": \"rgb(36,36,36)\", \"ticklen\": 8, \"ticks\": \"outside\", \"tickwidth\": 2}, \"type\": \"choropleth\"}], \"contour\": [{\"colorbar\": {\"outlinewidth\": 10, \"tickcolor\": \"rgb(36,36,36)\", \"ticklen\": 8, \"ticks\": \"outside\", \"tickwidth\": 2}, \"colorscale\": [[0.0, \"#440154\"], [0.1111111111111111, \"#482878\"], [0.2222222222222222, \"#3e4989\"], [0.3333333333333333, \"#31688e\"], [0.4444444444444444, \"#26828e\"], [0.5555555555555556, \"#1f9e89\"], [0.6666666666666666, \"#35b779\"], [0.7777777777777778, \"#6ece58\"], [0.8888888888888888, \"#b5de2b\"], [1.0, \"#fde725\"]], \"type\": \"contour\"}], \"contourcarpet\": [{\"colorbar\": {\"outlinewidth\": 10, \"tickcolor\": \"rgb(36,36,36)\", \"ticklen\": 8, \"ticks\": \"outside\", \"tickwidth\": 2}, \"type\": \"contourcarpet\"}], \"heatmap\": [{\"colorbar\": {\"outlinewidth\": 10, \"tickcolor\": \"rgb(36,36,36)\", \"ticklen\": 8, \"ticks\": \"outside\", \"tickwidth\": 2}, \"colorscale\": [[0.0, \"#440154\"], [0.1111111111111111, \"#482878\"], [0.2222222222222222, \"#3e4989\"], [0.3333333333333333, \"#31688e\"], [0.4444444444444444, \"#26828e\"], [0.5555555555555556, \"#1f9e89\"], [0.6666666666666666, \"#35b779\"], [0.7777777777777778, \"#6ece58\"], [0.8888888888888888, \"#b5de2b\"], [1.0, \"#fde725\"]], \"type\": \"heatmap\"}], \"heatmapgl\": [{\"colorbar\": {\"outlinewidth\": 10, \"tickcolor\": \"rgb(36,36,36)\", \"ticklen\": 8, \"ticks\": \"outside\", \"tickwidth\": 2}, \"colorscale\": [[0.0, \"#440154\"], [0.1111111111111111, \"#482878\"], [0.2222222222222222, \"#3e4989\"], [0.3333333333333333, \"#31688e\"], [0.4444444444444444, \"#26828e\"], [0.5555555555555556, \"#1f9e89\"], [0.6666666666666666, \"#35b779\"], [0.7777777777777778, \"#6ece58\"], [0.8888888888888888, \"#b5de2b\"], [1.0, \"#fde725\"]], \"type\": \"heatmapgl\"}], \"histogram\": [{\"marker\": {\"line\": {\"color\": \"white\", \"width\": 0.6}}, \"type\": \"histogram\"}], \"histogram2d\": [{\"colorbar\": {\"outlinewidth\": 10, \"tickcolor\": \"rgb(36,36,36)\", \"ticklen\": 8, \"ticks\": \"outside\", \"tickwidth\": 2}, \"colorscale\": [[0.0, \"#440154\"], [0.1111111111111111, \"#482878\"], [0.2222222222222222, \"#3e4989\"], [0.3333333333333333, \"#31688e\"], [0.4444444444444444, \"#26828e\"], [0.5555555555555556, \"#1f9e89\"], [0.6666666666666666, \"#35b779\"], [0.7777777777777778, \"#6ece58\"], [0.8888888888888888, \"#b5de2b\"], [1.0, \"#fde725\"]], \"type\": \"histogram2d\"}], \"histogram2dcontour\": [{\"colorbar\": {\"outlinewidth\": 10, \"tickcolor\": \"rgb(36,36,36)\", \"ticklen\": 8, \"ticks\": \"outside\", \"tickwidth\": 2}, \"colorscale\": [[0.0, \"#440154\"], [0.1111111111111111, \"#482878\"], [0.2222222222222222, \"#3e4989\"], [0.3333333333333333, \"#31688e\"], [0.4444444444444444, \"#26828e\"], [0.5555555555555556, \"#1f9e89\"], [0.6666666666666666, \"#35b779\"], [0.7777777777777778, \"#6ece58\"], [0.8888888888888888, \"#b5de2b\"], [1.0, \"#fde725\"]], \"type\": \"histogram2dcontour\"}], \"mesh3d\": [{\"colorbar\": {\"outlinewidth\": 10, \"tickcolor\": \"rgb(36,36,36)\", \"ticklen\": 8, \"ticks\": \"outside\", \"tickwidth\": 2}, \"type\": \"mesh3d\"}], \"parcoords\": [{\"line\": {\"colorbar\": {\"outlinewidth\": 10, \"tickcolor\": \"rgb(36,36,36)\", \"ticklen\": 8, \"ticks\": \"outside\", \"tickwidth\": 2}}, \"type\": \"parcoords\"}], \"pie\": [{\"automargin\": true, \"type\": \"pie\"}], \"scatter\": [{\"marker\": {\"colorbar\": {\"outlinewidth\": 10, \"tickcolor\": \"rgb(36,36,36)\", \"ticklen\": 8, \"ticks\": \"outside\", \"tickwidth\": 2}}, \"type\": \"scatter\"}], \"scatter3d\": [{\"line\": {\"colorbar\": {\"outlinewidth\": 10, \"tickcolor\": \"rgb(36,36,36)\", \"ticklen\": 8, \"ticks\": \"outside\", \"tickwidth\": 2}}, \"marker\": {\"colorbar\": {\"outlinewidth\": 10, \"tickcolor\": \"rgb(36,36,36)\", \"ticklen\": 8, \"ticks\": \"outside\", \"tickwidth\": 2}}, \"type\": \"scatter3d\"}], \"scattercarpet\": [{\"marker\": {\"colorbar\": {\"outlinewidth\": 10, \"tickcolor\": \"rgb(36,36,36)\", \"ticklen\": 8, \"ticks\": \"outside\", \"tickwidth\": 2}}, \"type\": \"scattercarpet\"}], \"scattergeo\": [{\"marker\": {\"colorbar\": {\"outlinewidth\": 10, \"tickcolor\": \"rgb(36,36,36)\", \"ticklen\": 8, \"ticks\": \"outside\", \"tickwidth\": 2}}, \"type\": \"scattergeo\"}], \"scattergl\": [{\"marker\": {\"colorbar\": {\"outlinewidth\": 10, \"tickcolor\": \"rgb(36,36,36)\", \"ticklen\": 8, \"ticks\": \"outside\", \"tickwidth\": 2}}, \"type\": \"scattergl\"}], \"scattermapbox\": [{\"marker\": {\"colorbar\": {\"outlinewidth\": 10, \"tickcolor\": \"rgb(36,36,36)\", \"ticklen\": 8, \"ticks\": \"outside\", \"tickwidth\": 2}}, \"type\": \"scattermapbox\"}], \"scatterpolar\": [{\"marker\": {\"colorbar\": {\"outlinewidth\": 10, \"tickcolor\": \"rgb(36,36,36)\", \"ticklen\": 8, \"ticks\": \"outside\", \"tickwidth\": 2}}, \"type\": \"scatterpolar\"}], \"scatterpolargl\": [{\"marker\": {\"colorbar\": {\"outlinewidth\": 10, \"tickcolor\": \"rgb(36,36,36)\", \"ticklen\": 8, \"ticks\": \"outside\", \"tickwidth\": 2}}, \"type\": \"scatterpolargl\"}], \"scatterternary\": [{\"marker\": {\"colorbar\": {\"outlinewidth\": 10, \"tickcolor\": \"rgb(36,36,36)\", \"ticklen\": 8, \"ticks\": \"outside\", \"tickwidth\": 2}}, \"type\": \"scatterternary\"}], \"surface\": [{\"colorbar\": {\"outlinewidth\": 10, \"tickcolor\": \"rgb(36,36,36)\", \"ticklen\": 8, \"ticks\": \"outside\", \"tickwidth\": 2}, \"colorscale\": [[0.0, \"#440154\"], [0.1111111111111111, \"#482878\"], [0.2222222222222222, \"#3e4989\"], [0.3333333333333333, \"#31688e\"], [0.4444444444444444, \"#26828e\"], [0.5555555555555556, \"#1f9e89\"], [0.6666666666666666, \"#35b779\"], [0.7777777777777778, \"#6ece58\"], [0.8888888888888888, \"#b5de2b\"], [1.0, \"#fde725\"]], \"type\": \"surface\"}], \"table\": [{\"cells\": {\"fill\": {\"color\": \"rgb(237,237,237)\"}, \"line\": {\"color\": \"white\"}}, \"header\": {\"fill\": {\"color\": \"rgb(217,217,217)\"}, \"line\": {\"color\": \"white\"}}, \"type\": \"table\"}]}, \"layout\": {\"annotationdefaults\": {\"arrowhead\": 0, \"arrowwidth\": 1}, \"coloraxis\": {\"colorbar\": {\"outlinewidth\": 10, \"tickcolor\": \"rgb(36,36,36)\", \"ticklen\": 8, \"ticks\": \"outside\", \"tickwidth\": 2}}, \"colorscale\": {\"diverging\": [[0.0, \"rgb(103,0,31)\"], [0.1, \"rgb(178,24,43)\"], [0.2, \"rgb(214,96,77)\"], [0.3, \"rgb(244,165,130)\"], [0.4, \"rgb(253,219,199)\"], [0.5, \"rgb(247,247,247)\"], [0.6, \"rgb(209,229,240)\"], [0.7, \"rgb(146,197,222)\"], [0.8, \"rgb(67,147,195)\"], [0.9, \"rgb(33,102,172)\"], [1.0, \"rgb(5,48,97)\"]], \"sequential\": [[0.0, \"#440154\"], [0.1111111111111111, \"#482878\"], [0.2222222222222222, \"#3e4989\"], [0.3333333333333333, \"#31688e\"], [0.4444444444444444, \"#26828e\"], [0.5555555555555556, \"#1f9e89\"], [0.6666666666666666, \"#35b779\"], [0.7777777777777778, \"#6ece58\"], [0.8888888888888888, \"#b5de2b\"], [1.0, \"#fde725\"]], \"sequentialminus\": [[0.0, \"#440154\"], [0.1111111111111111, \"#482878\"], [0.2222222222222222, \"#3e4989\"], [0.3333333333333333, \"#31688e\"], [0.4444444444444444, \"#26828e\"], [0.5555555555555556, \"#1f9e89\"], [0.6666666666666666, \"#35b779\"], [0.7777777777777778, \"#6ece58\"], [0.8888888888888888, \"#b5de2b\"], [1.0, \"#fde725\"]]}, \"colorway\": [\"#1F77B4\", \"#FF7F0E\", \"#2CA02C\", \"#D62728\", \"#9467BD\", \"#8C564B\", \"#E377C2\", \"#7F7F7F\", \"#BCBD22\", \"#17BECF\"], \"font\": {\"color\": \"rgb(36,36,36)\"}, \"geo\": {\"bgcolor\": \"white\", \"lakecolor\": \"white\", \"landcolor\": \"white\", \"showlakes\": true, \"showland\": true, \"subunitcolor\": \"white\"}, \"hoverlabel\": {\"align\": \"left\"}, \"hovermode\": \"closest\", \"mapbox\": {\"style\": \"light\"}, \"paper_bgcolor\": \"white\", \"plot_bgcolor\": \"white\", \"polar\": {\"angularaxis\": {\"gridcolor\": \"rgb(232,232,232)\", \"linecolor\": \"rgb(36,36,36)\", \"showgrid\": false, \"showline\": true, \"ticks\": \"outside\"}, \"bgcolor\": \"white\", \"radialaxis\": {\"gridcolor\": \"rgb(232,232,232)\", \"linecolor\": \"rgb(36,36,36)\", \"showgrid\": false, \"showline\": true, \"ticks\": \"outside\"}}, \"scene\": {\"xaxis\": {\"backgroundcolor\": \"white\", \"gridcolor\": \"rgb(232,232,232)\", \"gridwidth\": 2, \"linecolor\": \"rgb(36,36,36)\", \"showbackground\": true, \"showgrid\": false, \"showline\": true, \"ticks\": \"outside\", \"zeroline\": false, \"zerolinecolor\": \"rgb(36,36,36)\"}, \"yaxis\": {\"backgroundcolor\": \"white\", \"gridcolor\": \"rgb(232,232,232)\", \"gridwidth\": 2, \"linecolor\": \"rgb(36,36,36)\", \"showbackground\": true, \"showgrid\": false, \"showline\": true, \"ticks\": \"outside\", \"zeroline\": false, \"zerolinecolor\": \"rgb(36,36,36)\"}, \"zaxis\": {\"backgroundcolor\": \"white\", \"gridcolor\": \"rgb(232,232,232)\", \"gridwidth\": 2, \"linecolor\": \"rgb(36,36,36)\", \"showbackground\": true, \"showgrid\": false, \"showline\": true, \"ticks\": \"outside\", \"zeroline\": false, \"zerolinecolor\": \"rgb(36,36,36)\"}}, \"shapedefaults\": {\"fillcolor\": \"black\", \"line\": {\"width\": 0}, \"opacity\": 0.3}, \"ternary\": {\"aaxis\": {\"gridcolor\": \"rgb(232,232,232)\", \"linecolor\": \"rgb(36,36,36)\", \"showgrid\": false, \"showline\": true, \"ticks\": \"outside\"}, \"baxis\": {\"gridcolor\": \"rgb(232,232,232)\", \"linecolor\": \"rgb(36,36,36)\", \"showgrid\": false, \"showline\": true, \"ticks\": \"outside\"}, \"bgcolor\": \"white\", \"caxis\": {\"gridcolor\": \"rgb(232,232,232)\", \"linecolor\": \"rgb(36,36,36)\", \"showgrid\": false, \"showline\": true, \"ticks\": \"outside\"}}, \"title\": {\"x\": 0.05}, \"xaxis\": {\"automargin\": true, \"gridcolor\": \"rgb(232,232,232)\", \"linecolor\": \"rgb(36,36,36)\", \"showgrid\": false, \"showline\": true, \"ticks\": \"outside\", \"title\": {\"standoff\": 15}, \"zeroline\": false, \"zerolinecolor\": \"rgb(36,36,36)\"}, \"yaxis\": {\"automargin\": true, \"gridcolor\": \"rgb(232,232,232)\", \"linecolor\": \"rgb(36,36,36)\", \"showgrid\": false, \"showline\": true, \"ticks\": \"outside\", \"title\": {\"standoff\": 15}, \"zeroline\": false, \"zerolinecolor\": \"rgb(36,36,36)\"}}}, \"title\": {\"font\": {\"size\": 26}, \"text\": \"Total Runs Across the Seasons \"}, \"xaxis\": {\"anchor\": \"y\", \"domain\": [0.0, 1.0], \"title\": {\"text\": \"x\"}}, \"yaxis\": {\"anchor\": \"x\", \"domain\": [0.0, 1.0], \"title\": {\"text\": \"total_runs\"}}},\n",
              "                        {\"responsive\": true}\n",
              "                    ).then(function(){\n",
              "                            \n",
              "var gd = document.getElementById('31691ef5-9fec-429b-891c-7e3b25ca85d3');\n",
              "var x = new MutationObserver(function (mutations, observer) {{\n",
              "        var display = window.getComputedStyle(gd).display;\n",
              "        if (!display || display === 'none') {{\n",
              "            console.log([gd, 'removed!']);\n",
              "            Plotly.purge(gd);\n",
              "            observer.disconnect();\n",
              "        }}\n",
              "}});\n",
              "\n",
              "// Listen for the removal of the full notebook cells\n",
              "var notebookContainer = gd.closest('#notebook-container');\n",
              "if (notebookContainer) {{\n",
              "    x.observe(notebookContainer, {childList: true});\n",
              "}}\n",
              "\n",
              "// Listen for the clearing of the current output cell\n",
              "var outputEl = gd.closest('.output');\n",
              "if (outputEl) {{\n",
              "    x.observe(outputEl, {childList: true});\n",
              "}}\n",
              "\n",
              "                        })\n",
              "                };\n",
              "                \n",
              "            </script>\n",
              "        </div>\n",
              "</body>\n",
              "</html>"
            ]
          },
          "metadata": {}
        }
      ]
    },
    {
      "cell_type": "markdown",
      "metadata": {
        "papermill": {
          "duration": 0.137515,
          "end_time": "2021-06-04T22:21:26.845462",
          "exception": false,
          "start_time": "2021-06-04T22:21:26.707947",
          "status": "completed"
        },
        "tags": [],
        "id": "XSWSqstfi329"
      },
      "source": [
        "</div>\n",
        "<div class=\"alert alert-block alert-info\"><p style='color:black;'> 📌<b>Season 2013</b> was the highest scoring season (22,541 runs), followed by 2012 (22,453 runs)<br>\n",
        "<b>Season 2009</b> was the lowest scoring season (16,320 runs).</p>\n",
        "</div>"
      ]
    },
    {
      "cell_type": "markdown",
      "metadata": {
        "id": "u8PwG1DNrxJ0"
      },
      "source": [
        "<small><a href='#0'>Go to top</a></small>  "
      ]
    },
    {
      "cell_type": "markdown",
      "metadata": {
        "papermill": {
          "duration": 0.134432,
          "end_time": "2021-06-04T22:21:27.397136",
          "exception": false,
          "start_time": "2021-06-04T22:21:27.262704",
          "status": "completed"
        },
        "tags": [],
        "id": "tF2gzavSi329"
      },
      "source": [
        "<a id=\"3\">\n",
        "<h1 style = \"font-family: Snell Roundhand;font-weight: 500;font-size: 30px; font-style: normal; background-color: #FFFB30; color :black;\"> 3) Runs scored per match across seasons :</h1>\n"
      ]
    },
    {
      "cell_type": "code",
      "metadata": {
        "_kg_hide-input": true,
        "_kg_hide-output": true,
        "execution": {
          "iopub.execute_input": "2021-06-04T22:21:27.731537Z",
          "iopub.status.busy": "2021-06-04T22:21:27.730612Z",
          "iopub.status.idle": "2021-06-04T22:21:27.765262Z",
          "shell.execute_reply": "2021-06-04T22:21:27.765939Z",
          "shell.execute_reply.started": "2021-06-04T22:16:37.901407Z"
        },
        "papermill": {
          "duration": 0.182252,
          "end_time": "2021-06-04T22:21:27.766145",
          "exception": false,
          "start_time": "2021-06-04T22:21:27.583893",
          "status": "completed"
        },
        "tags": [],
        "colab": {
          "base_uri": "https://localhost:8080/",
          "height": 339
        },
        "id": "Nspatdu6i329",
        "outputId": "495823b4-f60c-4fc1-f44e-867369602828"
      },
      "source": [
        "runs_per_season=pd.concat([match_per_season,season.iloc[:,1]],axis=1)\n",
        "runs_per_season['Runs scored per match']=runs_per_season['total_runs']/runs_per_season['matches']\n",
        "runs_per_season.set_index('Season',inplace=True)\n",
        "runs_per_season.style.background_gradient(cmap='PuBu',subset=['Runs scored per match'])"
      ],
      "execution_count": 14,
      "outputs": [
        {
          "output_type": "execute_result",
          "data": {
            "text/html": [
              "<style  type=\"text/css\" >\n",
              "#T_b2be6aa6_1651_11ec_8baf_0242ac1c0002row0_col2{\n",
              "            background-color:  #71a8ce;\n",
              "            color:  #000000;\n",
              "        }#T_b2be6aa6_1651_11ec_8baf_0242ac1c0002row1_col2{\n",
              "            background-color:  #fff7fb;\n",
              "            color:  #000000;\n",
              "        }#T_b2be6aa6_1651_11ec_8baf_0242ac1c0002row2_col2,#T_b2be6aa6_1651_11ec_8baf_0242ac1c0002row8_col2{\n",
              "            background-color:  #3991c1;\n",
              "            color:  #000000;\n",
              "        }#T_b2be6aa6_1651_11ec_8baf_0242ac1c0002row3_col2{\n",
              "            background-color:  #f4edf6;\n",
              "            color:  #000000;\n",
              "        }#T_b2be6aa6_1651_11ec_8baf_0242ac1c0002row4_col2{\n",
              "            background-color:  #a5bddb;\n",
              "            color:  #000000;\n",
              "        }#T_b2be6aa6_1651_11ec_8baf_0242ac1c0002row5_col2{\n",
              "            background-color:  #d6d6e9;\n",
              "            color:  #000000;\n",
              "        }#T_b2be6aa6_1651_11ec_8baf_0242ac1c0002row6_col2{\n",
              "            background-color:  #328dbf;\n",
              "            color:  #000000;\n",
              "        }#T_b2be6aa6_1651_11ec_8baf_0242ac1c0002row7_col2{\n",
              "            background-color:  #62a2cb;\n",
              "            color:  #000000;\n",
              "        }#T_b2be6aa6_1651_11ec_8baf_0242ac1c0002row9_col2{\n",
              "            background-color:  #187cb6;\n",
              "            color:  #000000;\n",
              "        }#T_b2be6aa6_1651_11ec_8baf_0242ac1c0002row10_col2{\n",
              "            background-color:  #023858;\n",
              "            color:  #f1f1f1;\n",
              "        }#T_b2be6aa6_1651_11ec_8baf_0242ac1c0002row11_col2{\n",
              "            background-color:  #04649e;\n",
              "            color:  #f1f1f1;\n",
              "        }#T_b2be6aa6_1651_11ec_8baf_0242ac1c0002row12_col2{\n",
              "            background-color:  #0567a2;\n",
              "            color:  #f1f1f1;\n",
              "        }</style><table id=\"T_b2be6aa6_1651_11ec_8baf_0242ac1c0002\" ><thead>    <tr>        <th class=\"blank level0\" ></th>        <th class=\"col_heading level0 col0\" >matches</th>        <th class=\"col_heading level0 col1\" >total_runs</th>        <th class=\"col_heading level0 col2\" >Runs scored per match</th>    </tr>    <tr>        <th class=\"index_name level0\" >Season</th>        <th class=\"blank\" ></th>        <th class=\"blank\" ></th>        <th class=\"blank\" ></th>    </tr></thead><tbody>\n",
              "                <tr>\n",
              "                        <th id=\"T_b2be6aa6_1651_11ec_8baf_0242ac1c0002level0_row0\" class=\"row_heading level0 row0\" >2008</th>\n",
              "                        <td id=\"T_b2be6aa6_1651_11ec_8baf_0242ac1c0002row0_col0\" class=\"data row0 col0\" >58</td>\n",
              "                        <td id=\"T_b2be6aa6_1651_11ec_8baf_0242ac1c0002row0_col1\" class=\"data row0 col1\" >17937</td>\n",
              "                        <td id=\"T_b2be6aa6_1651_11ec_8baf_0242ac1c0002row0_col2\" class=\"data row0 col2\" >309.258621</td>\n",
              "            </tr>\n",
              "            <tr>\n",
              "                        <th id=\"T_b2be6aa6_1651_11ec_8baf_0242ac1c0002level0_row1\" class=\"row_heading level0 row1\" >2009</th>\n",
              "                        <td id=\"T_b2be6aa6_1651_11ec_8baf_0242ac1c0002row1_col0\" class=\"data row1 col0\" >57</td>\n",
              "                        <td id=\"T_b2be6aa6_1651_11ec_8baf_0242ac1c0002row1_col1\" class=\"data row1 col1\" >16320</td>\n",
              "                        <td id=\"T_b2be6aa6_1651_11ec_8baf_0242ac1c0002row1_col2\" class=\"data row1 col2\" >286.315789</td>\n",
              "            </tr>\n",
              "            <tr>\n",
              "                        <th id=\"T_b2be6aa6_1651_11ec_8baf_0242ac1c0002level0_row2\" class=\"row_heading level0 row2\" >2010</th>\n",
              "                        <td id=\"T_b2be6aa6_1651_11ec_8baf_0242ac1c0002row2_col0\" class=\"data row2 col0\" >60</td>\n",
              "                        <td id=\"T_b2be6aa6_1651_11ec_8baf_0242ac1c0002row2_col1\" class=\"data row2 col1\" >18864</td>\n",
              "                        <td id=\"T_b2be6aa6_1651_11ec_8baf_0242ac1c0002row2_col2\" class=\"data row2 col2\" >314.400000</td>\n",
              "            </tr>\n",
              "            <tr>\n",
              "                        <th id=\"T_b2be6aa6_1651_11ec_8baf_0242ac1c0002level0_row3\" class=\"row_heading level0 row3\" >2011</th>\n",
              "                        <td id=\"T_b2be6aa6_1651_11ec_8baf_0242ac1c0002row3_col0\" class=\"data row3 col0\" >73</td>\n",
              "                        <td id=\"T_b2be6aa6_1651_11ec_8baf_0242ac1c0002row3_col1\" class=\"data row3 col1\" >21154</td>\n",
              "                        <td id=\"T_b2be6aa6_1651_11ec_8baf_0242ac1c0002row3_col2\" class=\"data row3 col2\" >289.780822</td>\n",
              "            </tr>\n",
              "            <tr>\n",
              "                        <th id=\"T_b2be6aa6_1651_11ec_8baf_0242ac1c0002level0_row4\" class=\"row_heading level0 row4\" >2012</th>\n",
              "                        <td id=\"T_b2be6aa6_1651_11ec_8baf_0242ac1c0002row4_col0\" class=\"data row4 col0\" >74</td>\n",
              "                        <td id=\"T_b2be6aa6_1651_11ec_8baf_0242ac1c0002row4_col1\" class=\"data row4 col1\" >22453</td>\n",
              "                        <td id=\"T_b2be6aa6_1651_11ec_8baf_0242ac1c0002row4_col2\" class=\"data row4 col2\" >303.418919</td>\n",
              "            </tr>\n",
              "            <tr>\n",
              "                        <th id=\"T_b2be6aa6_1651_11ec_8baf_0242ac1c0002level0_row5\" class=\"row_heading level0 row5\" >2013</th>\n",
              "                        <td id=\"T_b2be6aa6_1651_11ec_8baf_0242ac1c0002row5_col0\" class=\"data row5 col0\" >76</td>\n",
              "                        <td id=\"T_b2be6aa6_1651_11ec_8baf_0242ac1c0002row5_col1\" class=\"data row5 col1\" >22541</td>\n",
              "                        <td id=\"T_b2be6aa6_1651_11ec_8baf_0242ac1c0002row5_col2\" class=\"data row5 col2\" >296.592105</td>\n",
              "            </tr>\n",
              "            <tr>\n",
              "                        <th id=\"T_b2be6aa6_1651_11ec_8baf_0242ac1c0002level0_row6\" class=\"row_heading level0 row6\" >2014</th>\n",
              "                        <td id=\"T_b2be6aa6_1651_11ec_8baf_0242ac1c0002row6_col0\" class=\"data row6 col0\" >60</td>\n",
              "                        <td id=\"T_b2be6aa6_1651_11ec_8baf_0242ac1c0002row6_col1\" class=\"data row6 col1\" >18909</td>\n",
              "                        <td id=\"T_b2be6aa6_1651_11ec_8baf_0242ac1c0002row6_col2\" class=\"data row6 col2\" >315.150000</td>\n",
              "            </tr>\n",
              "            <tr>\n",
              "                        <th id=\"T_b2be6aa6_1651_11ec_8baf_0242ac1c0002level0_row7\" class=\"row_heading level0 row7\" >2015</th>\n",
              "                        <td id=\"T_b2be6aa6_1651_11ec_8baf_0242ac1c0002row7_col0\" class=\"data row7 col0\" >59</td>\n",
              "                        <td id=\"T_b2be6aa6_1651_11ec_8baf_0242ac1c0002row7_col1\" class=\"data row7 col1\" >18332</td>\n",
              "                        <td id=\"T_b2be6aa6_1651_11ec_8baf_0242ac1c0002row7_col2\" class=\"data row7 col2\" >310.711864</td>\n",
              "            </tr>\n",
              "            <tr>\n",
              "                        <th id=\"T_b2be6aa6_1651_11ec_8baf_0242ac1c0002level0_row8\" class=\"row_heading level0 row8\" >2016</th>\n",
              "                        <td id=\"T_b2be6aa6_1651_11ec_8baf_0242ac1c0002row8_col0\" class=\"data row8 col0\" >60</td>\n",
              "                        <td id=\"T_b2be6aa6_1651_11ec_8baf_0242ac1c0002row8_col1\" class=\"data row8 col1\" >18862</td>\n",
              "                        <td id=\"T_b2be6aa6_1651_11ec_8baf_0242ac1c0002row8_col2\" class=\"data row8 col2\" >314.366667</td>\n",
              "            </tr>\n",
              "            <tr>\n",
              "                        <th id=\"T_b2be6aa6_1651_11ec_8baf_0242ac1c0002level0_row9\" class=\"row_heading level0 row9\" >2017</th>\n",
              "                        <td id=\"T_b2be6aa6_1651_11ec_8baf_0242ac1c0002row9_col0\" class=\"data row9 col0\" >59</td>\n",
              "                        <td id=\"T_b2be6aa6_1651_11ec_8baf_0242ac1c0002row9_col1\" class=\"data row9 col1\" >18769</td>\n",
              "                        <td id=\"T_b2be6aa6_1651_11ec_8baf_0242ac1c0002row9_col2\" class=\"data row9 col2\" >318.118644</td>\n",
              "            </tr>\n",
              "            <tr>\n",
              "                        <th id=\"T_b2be6aa6_1651_11ec_8baf_0242ac1c0002level0_row10\" class=\"row_heading level0 row10\" >2018</th>\n",
              "                        <td id=\"T_b2be6aa6_1651_11ec_8baf_0242ac1c0002row10_col0\" class=\"data row10 col0\" >60</td>\n",
              "                        <td id=\"T_b2be6aa6_1651_11ec_8baf_0242ac1c0002row10_col1\" class=\"data row10 col1\" >19901</td>\n",
              "                        <td id=\"T_b2be6aa6_1651_11ec_8baf_0242ac1c0002row10_col2\" class=\"data row10 col2\" >331.683333</td>\n",
              "            </tr>\n",
              "            <tr>\n",
              "                        <th id=\"T_b2be6aa6_1651_11ec_8baf_0242ac1c0002level0_row11\" class=\"row_heading level0 row11\" >2019</th>\n",
              "                        <td id=\"T_b2be6aa6_1651_11ec_8baf_0242ac1c0002row11_col0\" class=\"data row11 col0\" >60</td>\n",
              "                        <td id=\"T_b2be6aa6_1651_11ec_8baf_0242ac1c0002row11_col1\" class=\"data row11 col1\" >19400</td>\n",
              "                        <td id=\"T_b2be6aa6_1651_11ec_8baf_0242ac1c0002row11_col2\" class=\"data row11 col2\" >323.333333</td>\n",
              "            </tr>\n",
              "            <tr>\n",
              "                        <th id=\"T_b2be6aa6_1651_11ec_8baf_0242ac1c0002level0_row12\" class=\"row_heading level0 row12\" >2020</th>\n",
              "                        <td id=\"T_b2be6aa6_1651_11ec_8baf_0242ac1c0002row12_col0\" class=\"data row12 col0\" >60</td>\n",
              "                        <td id=\"T_b2be6aa6_1651_11ec_8baf_0242ac1c0002row12_col1\" class=\"data row12 col1\" >19352</td>\n",
              "                        <td id=\"T_b2be6aa6_1651_11ec_8baf_0242ac1c0002row12_col2\" class=\"data row12 col2\" >322.533333</td>\n",
              "            </tr>\n",
              "    </tbody></table>"
            ],
            "text/plain": [
              "<pandas.io.formats.style.Styler at 0x7feeb93da250>"
            ]
          },
          "metadata": {},
          "execution_count": 14
        }
      ]
    },
    {
      "cell_type": "code",
      "metadata": {
        "_kg_hide-input": true,
        "execution": {
          "iopub.execute_input": "2021-06-04T22:21:28.050263Z",
          "iopub.status.busy": "2021-06-04T22:21:28.049519Z",
          "iopub.status.idle": "2021-06-04T22:21:28.174978Z",
          "shell.execute_reply": "2021-06-04T22:21:28.173987Z",
          "shell.execute_reply.started": "2021-06-04T22:16:37.937974Z"
        },
        "papermill": {
          "duration": 0.268599,
          "end_time": "2021-06-04T22:21:28.175187",
          "exception": false,
          "start_time": "2021-06-04T22:21:27.906588",
          "status": "completed"
        },
        "tags": [],
        "colab": {
          "base_uri": "https://localhost:8080/",
          "height": 542
        },
        "id": "IlsyYeMRi32-",
        "outputId": "c53a48af-870c-4378-dde7-0107828eaa11"
      },
      "source": [
        "fig = px.line(runs_per_season, x=runs_per_season.index, y=\"Runs scored per match\")\n",
        "fig.update_layout(title=\"Runs scored per match across seasons\",\n",
        "                  titlefont={'size': 26},template='simple_white'     \n",
        "                  )\n",
        "fig.show()\n"
      ],
      "execution_count": 15,
      "outputs": [
        {
          "output_type": "display_data",
          "data": {
            "text/html": [
              "<html>\n",
              "<head><meta charset=\"utf-8\" /></head>\n",
              "<body>\n",
              "    <div>\n",
              "            <script src=\"https://cdnjs.cloudflare.com/ajax/libs/mathjax/2.7.5/MathJax.js?config=TeX-AMS-MML_SVG\"></script><script type=\"text/javascript\">if (window.MathJax) {MathJax.Hub.Config({SVG: {font: \"STIX-Web\"}});}</script>\n",
              "                <script type=\"text/javascript\">window.PlotlyConfig = {MathJaxConfig: 'local'};</script>\n",
              "        <script src=\"https://cdn.plot.ly/plotly-latest.min.js\"></script>    \n",
              "            <div id=\"d3a83810-2372-4cce-a2cd-8049edbc7599\" class=\"plotly-graph-div\" style=\"height:525px; width:100%;\"></div>\n",
              "            <script type=\"text/javascript\">\n",
              "                \n",
              "                    window.PLOTLYENV=window.PLOTLYENV || {};\n",
              "                    \n",
              "                if (document.getElementById(\"d3a83810-2372-4cce-a2cd-8049edbc7599\")) {\n",
              "                    Plotly.newPlot(\n",
              "                        'd3a83810-2372-4cce-a2cd-8049edbc7599',\n",
              "                        [{\"hoverlabel\": {\"namelength\": 0}, \"hovertemplate\": \"x=%{x}<br>Runs scored per match=%{y}\", \"legendgroup\": \"\", \"line\": {\"color\": \"#636efa\", \"dash\": \"solid\"}, \"mode\": \"lines\", \"name\": \"\", \"showlegend\": false, \"type\": \"scatter\", \"x\": [2008, 2009, 2010, 2011, 2012, 2013, 2014, 2015, 2016, 2017, 2018, 2019, 2020], \"xaxis\": \"x\", \"y\": [309.2586206896552, 286.3157894736842, 314.4, 289.7808219178082, 303.4189189189189, 296.5921052631579, 315.15, 310.7118644067797, 314.3666666666667, 318.1186440677966, 331.68333333333334, 323.3333333333333, 322.53333333333336], \"yaxis\": \"y\"}],\n",
              "                        {\"legend\": {\"tracegroupgap\": 0}, \"margin\": {\"t\": 60}, \"template\": {\"data\": {\"bar\": [{\"error_x\": {\"color\": \"rgb(36,36,36)\"}, \"error_y\": {\"color\": \"rgb(36,36,36)\"}, \"marker\": {\"line\": {\"color\": \"white\", \"width\": 0.5}}, \"type\": \"bar\"}], \"barpolar\": [{\"marker\": {\"line\": {\"color\": \"white\", \"width\": 0.5}}, \"type\": \"barpolar\"}], \"carpet\": [{\"aaxis\": {\"endlinecolor\": \"rgb(36,36,36)\", \"gridcolor\": \"white\", \"linecolor\": \"white\", \"minorgridcolor\": \"white\", \"startlinecolor\": \"rgb(36,36,36)\"}, \"baxis\": {\"endlinecolor\": \"rgb(36,36,36)\", \"gridcolor\": \"white\", \"linecolor\": \"white\", \"minorgridcolor\": \"white\", \"startlinecolor\": \"rgb(36,36,36)\"}, \"type\": \"carpet\"}], \"choropleth\": [{\"colorbar\": {\"outlinewidth\": 10, \"tickcolor\": \"rgb(36,36,36)\", \"ticklen\": 8, \"ticks\": \"outside\", \"tickwidth\": 2}, \"type\": \"choropleth\"}], \"contour\": [{\"colorbar\": {\"outlinewidth\": 10, \"tickcolor\": \"rgb(36,36,36)\", \"ticklen\": 8, \"ticks\": \"outside\", \"tickwidth\": 2}, \"colorscale\": [[0.0, \"#440154\"], [0.1111111111111111, \"#482878\"], [0.2222222222222222, \"#3e4989\"], [0.3333333333333333, \"#31688e\"], [0.4444444444444444, \"#26828e\"], [0.5555555555555556, \"#1f9e89\"], [0.6666666666666666, \"#35b779\"], [0.7777777777777778, \"#6ece58\"], [0.8888888888888888, \"#b5de2b\"], [1.0, \"#fde725\"]], \"type\": \"contour\"}], \"contourcarpet\": [{\"colorbar\": {\"outlinewidth\": 10, \"tickcolor\": \"rgb(36,36,36)\", \"ticklen\": 8, \"ticks\": \"outside\", \"tickwidth\": 2}, \"type\": \"contourcarpet\"}], \"heatmap\": [{\"colorbar\": {\"outlinewidth\": 10, \"tickcolor\": \"rgb(36,36,36)\", \"ticklen\": 8, \"ticks\": \"outside\", \"tickwidth\": 2}, \"colorscale\": [[0.0, \"#440154\"], [0.1111111111111111, \"#482878\"], [0.2222222222222222, \"#3e4989\"], [0.3333333333333333, \"#31688e\"], [0.4444444444444444, \"#26828e\"], [0.5555555555555556, \"#1f9e89\"], [0.6666666666666666, \"#35b779\"], [0.7777777777777778, \"#6ece58\"], [0.8888888888888888, \"#b5de2b\"], [1.0, \"#fde725\"]], \"type\": \"heatmap\"}], \"heatmapgl\": [{\"colorbar\": {\"outlinewidth\": 10, \"tickcolor\": \"rgb(36,36,36)\", \"ticklen\": 8, \"ticks\": \"outside\", \"tickwidth\": 2}, \"colorscale\": [[0.0, \"#440154\"], [0.1111111111111111, \"#482878\"], [0.2222222222222222, \"#3e4989\"], [0.3333333333333333, \"#31688e\"], [0.4444444444444444, \"#26828e\"], [0.5555555555555556, \"#1f9e89\"], [0.6666666666666666, \"#35b779\"], [0.7777777777777778, \"#6ece58\"], [0.8888888888888888, \"#b5de2b\"], [1.0, \"#fde725\"]], \"type\": \"heatmapgl\"}], \"histogram\": [{\"marker\": {\"line\": {\"color\": \"white\", \"width\": 0.6}}, \"type\": \"histogram\"}], \"histogram2d\": [{\"colorbar\": {\"outlinewidth\": 10, \"tickcolor\": \"rgb(36,36,36)\", \"ticklen\": 8, \"ticks\": \"outside\", \"tickwidth\": 2}, \"colorscale\": [[0.0, \"#440154\"], [0.1111111111111111, \"#482878\"], [0.2222222222222222, \"#3e4989\"], [0.3333333333333333, \"#31688e\"], [0.4444444444444444, \"#26828e\"], [0.5555555555555556, \"#1f9e89\"], [0.6666666666666666, \"#35b779\"], [0.7777777777777778, \"#6ece58\"], [0.8888888888888888, \"#b5de2b\"], [1.0, \"#fde725\"]], \"type\": \"histogram2d\"}], \"histogram2dcontour\": [{\"colorbar\": {\"outlinewidth\": 10, \"tickcolor\": \"rgb(36,36,36)\", \"ticklen\": 8, \"ticks\": \"outside\", \"tickwidth\": 2}, \"colorscale\": [[0.0, \"#440154\"], [0.1111111111111111, \"#482878\"], [0.2222222222222222, \"#3e4989\"], [0.3333333333333333, \"#31688e\"], [0.4444444444444444, \"#26828e\"], [0.5555555555555556, \"#1f9e89\"], [0.6666666666666666, \"#35b779\"], [0.7777777777777778, \"#6ece58\"], [0.8888888888888888, \"#b5de2b\"], [1.0, \"#fde725\"]], \"type\": \"histogram2dcontour\"}], \"mesh3d\": [{\"colorbar\": {\"outlinewidth\": 10, \"tickcolor\": \"rgb(36,36,36)\", \"ticklen\": 8, \"ticks\": \"outside\", \"tickwidth\": 2}, \"type\": \"mesh3d\"}], \"parcoords\": [{\"line\": {\"colorbar\": {\"outlinewidth\": 10, \"tickcolor\": \"rgb(36,36,36)\", \"ticklen\": 8, \"ticks\": \"outside\", \"tickwidth\": 2}}, \"type\": \"parcoords\"}], \"pie\": [{\"automargin\": true, \"type\": \"pie\"}], \"scatter\": [{\"marker\": {\"colorbar\": {\"outlinewidth\": 10, \"tickcolor\": \"rgb(36,36,36)\", \"ticklen\": 8, \"ticks\": \"outside\", \"tickwidth\": 2}}, \"type\": \"scatter\"}], \"scatter3d\": [{\"line\": {\"colorbar\": {\"outlinewidth\": 10, \"tickcolor\": \"rgb(36,36,36)\", \"ticklen\": 8, \"ticks\": \"outside\", \"tickwidth\": 2}}, \"marker\": {\"colorbar\": {\"outlinewidth\": 10, \"tickcolor\": \"rgb(36,36,36)\", \"ticklen\": 8, \"ticks\": \"outside\", \"tickwidth\": 2}}, \"type\": \"scatter3d\"}], \"scattercarpet\": [{\"marker\": {\"colorbar\": {\"outlinewidth\": 10, \"tickcolor\": \"rgb(36,36,36)\", \"ticklen\": 8, \"ticks\": \"outside\", \"tickwidth\": 2}}, \"type\": \"scattercarpet\"}], \"scattergeo\": [{\"marker\": {\"colorbar\": {\"outlinewidth\": 10, \"tickcolor\": \"rgb(36,36,36)\", \"ticklen\": 8, \"ticks\": \"outside\", \"tickwidth\": 2}}, \"type\": \"scattergeo\"}], \"scattergl\": [{\"marker\": {\"colorbar\": {\"outlinewidth\": 10, \"tickcolor\": \"rgb(36,36,36)\", \"ticklen\": 8, \"ticks\": \"outside\", \"tickwidth\": 2}}, \"type\": \"scattergl\"}], \"scattermapbox\": [{\"marker\": {\"colorbar\": {\"outlinewidth\": 10, \"tickcolor\": \"rgb(36,36,36)\", \"ticklen\": 8, \"ticks\": \"outside\", \"tickwidth\": 2}}, \"type\": \"scattermapbox\"}], \"scatterpolar\": [{\"marker\": {\"colorbar\": {\"outlinewidth\": 10, \"tickcolor\": \"rgb(36,36,36)\", \"ticklen\": 8, \"ticks\": \"outside\", \"tickwidth\": 2}}, \"type\": \"scatterpolar\"}], \"scatterpolargl\": [{\"marker\": {\"colorbar\": {\"outlinewidth\": 10, \"tickcolor\": \"rgb(36,36,36)\", \"ticklen\": 8, \"ticks\": \"outside\", \"tickwidth\": 2}}, \"type\": \"scatterpolargl\"}], \"scatterternary\": [{\"marker\": {\"colorbar\": {\"outlinewidth\": 10, \"tickcolor\": \"rgb(36,36,36)\", \"ticklen\": 8, \"ticks\": \"outside\", \"tickwidth\": 2}}, \"type\": \"scatterternary\"}], \"surface\": [{\"colorbar\": {\"outlinewidth\": 10, \"tickcolor\": \"rgb(36,36,36)\", \"ticklen\": 8, \"ticks\": \"outside\", \"tickwidth\": 2}, \"colorscale\": [[0.0, \"#440154\"], [0.1111111111111111, \"#482878\"], [0.2222222222222222, \"#3e4989\"], [0.3333333333333333, \"#31688e\"], [0.4444444444444444, \"#26828e\"], [0.5555555555555556, \"#1f9e89\"], [0.6666666666666666, \"#35b779\"], [0.7777777777777778, \"#6ece58\"], [0.8888888888888888, \"#b5de2b\"], [1.0, \"#fde725\"]], \"type\": \"surface\"}], \"table\": [{\"cells\": {\"fill\": {\"color\": \"rgb(237,237,237)\"}, \"line\": {\"color\": \"white\"}}, \"header\": {\"fill\": {\"color\": \"rgb(217,217,217)\"}, \"line\": {\"color\": \"white\"}}, \"type\": \"table\"}]}, \"layout\": {\"annotationdefaults\": {\"arrowhead\": 0, \"arrowwidth\": 1}, \"coloraxis\": {\"colorbar\": {\"outlinewidth\": 10, \"tickcolor\": \"rgb(36,36,36)\", \"ticklen\": 8, \"ticks\": \"outside\", \"tickwidth\": 2}}, \"colorscale\": {\"diverging\": [[0.0, \"rgb(103,0,31)\"], [0.1, \"rgb(178,24,43)\"], [0.2, \"rgb(214,96,77)\"], [0.3, \"rgb(244,165,130)\"], [0.4, \"rgb(253,219,199)\"], [0.5, \"rgb(247,247,247)\"], [0.6, \"rgb(209,229,240)\"], [0.7, \"rgb(146,197,222)\"], [0.8, \"rgb(67,147,195)\"], [0.9, \"rgb(33,102,172)\"], [1.0, \"rgb(5,48,97)\"]], \"sequential\": [[0.0, \"#440154\"], [0.1111111111111111, \"#482878\"], [0.2222222222222222, \"#3e4989\"], [0.3333333333333333, \"#31688e\"], [0.4444444444444444, \"#26828e\"], [0.5555555555555556, \"#1f9e89\"], [0.6666666666666666, \"#35b779\"], [0.7777777777777778, \"#6ece58\"], [0.8888888888888888, \"#b5de2b\"], [1.0, \"#fde725\"]], \"sequentialminus\": [[0.0, \"#440154\"], [0.1111111111111111, \"#482878\"], [0.2222222222222222, \"#3e4989\"], [0.3333333333333333, \"#31688e\"], [0.4444444444444444, \"#26828e\"], [0.5555555555555556, \"#1f9e89\"], [0.6666666666666666, \"#35b779\"], [0.7777777777777778, \"#6ece58\"], [0.8888888888888888, \"#b5de2b\"], [1.0, \"#fde725\"]]}, \"colorway\": [\"#1F77B4\", \"#FF7F0E\", \"#2CA02C\", \"#D62728\", \"#9467BD\", \"#8C564B\", \"#E377C2\", \"#7F7F7F\", \"#BCBD22\", \"#17BECF\"], \"font\": {\"color\": \"rgb(36,36,36)\"}, \"geo\": {\"bgcolor\": \"white\", \"lakecolor\": \"white\", \"landcolor\": \"white\", \"showlakes\": true, \"showland\": true, \"subunitcolor\": \"white\"}, \"hoverlabel\": {\"align\": \"left\"}, \"hovermode\": \"closest\", \"mapbox\": {\"style\": \"light\"}, \"paper_bgcolor\": \"white\", \"plot_bgcolor\": \"white\", \"polar\": {\"angularaxis\": {\"gridcolor\": \"rgb(232,232,232)\", \"linecolor\": \"rgb(36,36,36)\", \"showgrid\": false, \"showline\": true, \"ticks\": \"outside\"}, \"bgcolor\": \"white\", \"radialaxis\": {\"gridcolor\": \"rgb(232,232,232)\", \"linecolor\": \"rgb(36,36,36)\", \"showgrid\": false, \"showline\": true, \"ticks\": \"outside\"}}, \"scene\": {\"xaxis\": {\"backgroundcolor\": \"white\", \"gridcolor\": \"rgb(232,232,232)\", \"gridwidth\": 2, \"linecolor\": \"rgb(36,36,36)\", \"showbackground\": true, \"showgrid\": false, \"showline\": true, \"ticks\": \"outside\", \"zeroline\": false, \"zerolinecolor\": \"rgb(36,36,36)\"}, \"yaxis\": {\"backgroundcolor\": \"white\", \"gridcolor\": \"rgb(232,232,232)\", \"gridwidth\": 2, \"linecolor\": \"rgb(36,36,36)\", \"showbackground\": true, \"showgrid\": false, \"showline\": true, \"ticks\": \"outside\", \"zeroline\": false, \"zerolinecolor\": \"rgb(36,36,36)\"}, \"zaxis\": {\"backgroundcolor\": \"white\", \"gridcolor\": \"rgb(232,232,232)\", \"gridwidth\": 2, \"linecolor\": \"rgb(36,36,36)\", \"showbackground\": true, \"showgrid\": false, \"showline\": true, \"ticks\": \"outside\", \"zeroline\": false, \"zerolinecolor\": \"rgb(36,36,36)\"}}, \"shapedefaults\": {\"fillcolor\": \"black\", \"line\": {\"width\": 0}, \"opacity\": 0.3}, \"ternary\": {\"aaxis\": {\"gridcolor\": \"rgb(232,232,232)\", \"linecolor\": \"rgb(36,36,36)\", \"showgrid\": false, \"showline\": true, \"ticks\": \"outside\"}, \"baxis\": {\"gridcolor\": \"rgb(232,232,232)\", \"linecolor\": \"rgb(36,36,36)\", \"showgrid\": false, \"showline\": true, \"ticks\": \"outside\"}, \"bgcolor\": \"white\", \"caxis\": {\"gridcolor\": \"rgb(232,232,232)\", \"linecolor\": \"rgb(36,36,36)\", \"showgrid\": false, \"showline\": true, \"ticks\": \"outside\"}}, \"title\": {\"x\": 0.05}, \"xaxis\": {\"automargin\": true, \"gridcolor\": \"rgb(232,232,232)\", \"linecolor\": \"rgb(36,36,36)\", \"showgrid\": false, \"showline\": true, \"ticks\": \"outside\", \"title\": {\"standoff\": 15}, \"zeroline\": false, \"zerolinecolor\": \"rgb(36,36,36)\"}, \"yaxis\": {\"automargin\": true, \"gridcolor\": \"rgb(232,232,232)\", \"linecolor\": \"rgb(36,36,36)\", \"showgrid\": false, \"showline\": true, \"ticks\": \"outside\", \"title\": {\"standoff\": 15}, \"zeroline\": false, \"zerolinecolor\": \"rgb(36,36,36)\"}}}, \"title\": {\"font\": {\"size\": 26}, \"text\": \"Runs scored per match across seasons\"}, \"xaxis\": {\"anchor\": \"y\", \"domain\": [0.0, 1.0], \"title\": {\"text\": \"x\"}}, \"yaxis\": {\"anchor\": \"x\", \"domain\": [0.0, 1.0], \"title\": {\"text\": \"Runs scored per match\"}}},\n",
              "                        {\"responsive\": true}\n",
              "                    ).then(function(){\n",
              "                            \n",
              "var gd = document.getElementById('d3a83810-2372-4cce-a2cd-8049edbc7599');\n",
              "var x = new MutationObserver(function (mutations, observer) {{\n",
              "        var display = window.getComputedStyle(gd).display;\n",
              "        if (!display || display === 'none') {{\n",
              "            console.log([gd, 'removed!']);\n",
              "            Plotly.purge(gd);\n",
              "            observer.disconnect();\n",
              "        }}\n",
              "}});\n",
              "\n",
              "// Listen for the removal of the full notebook cells\n",
              "var notebookContainer = gd.closest('#notebook-container');\n",
              "if (notebookContainer) {{\n",
              "    x.observe(notebookContainer, {childList: true});\n",
              "}}\n",
              "\n",
              "// Listen for the clearing of the current output cell\n",
              "var outputEl = gd.closest('.output');\n",
              "if (outputEl) {{\n",
              "    x.observe(outputEl, {childList: true});\n",
              "}}\n",
              "\n",
              "                        })\n",
              "                };\n",
              "                \n",
              "            </script>\n",
              "        </div>\n",
              "</body>\n",
              "</html>"
            ]
          },
          "metadata": {}
        }
      ]
    },
    {
      "cell_type": "markdown",
      "metadata": {
        "papermill": {
          "duration": 0.138657,
          "end_time": "2021-06-04T22:21:28.463270",
          "exception": false,
          "start_time": "2021-06-04T22:21:28.324613",
          "status": "completed"
        },
        "tags": [],
        "id": "DqSPqN9ri32-"
      },
      "source": [
        "<div class=\"alert alert-block alert-info\"><p style='color:black;'> 📌In <b>season 2018</b>, runs scored per match was 331.683333 which was highest among others.<br> \n",
        "In <b>season 2009</b>, runs scored per match was 286.315789 which was lowest till now.</p> </div>"
      ]
    },
    {
      "cell_type": "markdown",
      "metadata": {
        "id": "ITLBRFa0rvMZ"
      },
      "source": [
        "<small><a href='#0'>Go to top</a></small>  "
      ]
    },
    {
      "cell_type": "markdown",
      "metadata": {
        "papermill": {
          "duration": 0.138992,
          "end_time": "2021-06-04T22:21:29.015753",
          "exception": false,
          "start_time": "2021-06-04T22:21:28.876761",
          "status": "completed"
        },
        "tags": [],
        "id": "15QL7yQBi32-"
      },
      "source": [
        "<a id=\"4\">\n",
        "<h1 style = \"font-family: Snell Roundhand;font-weight: 500;font-size: 30px; font-style: normal; background-color: #FFFB30; color :black\"> 4) Count of matches by umpires :</h1>\n",
        "\n"
      ]
    },
    {
      "cell_type": "code",
      "metadata": {
        "_kg_hide-input": true,
        "execution": {
          "iopub.execute_input": "2021-06-04T22:21:29.301929Z",
          "iopub.status.busy": "2021-06-04T22:21:29.301068Z",
          "iopub.status.idle": "2021-06-04T22:21:29.309321Z",
          "shell.execute_reply": "2021-06-04T22:21:29.308694Z",
          "shell.execute_reply.started": "2021-06-04T22:16:38.010212Z"
        },
        "papermill": {
          "duration": 0.155248,
          "end_time": "2021-06-04T22:21:29.309470",
          "exception": false,
          "start_time": "2021-06-04T22:21:29.154222",
          "status": "completed"
        },
        "tags": [],
        "colab": {
          "base_uri": "https://localhost:8080/"
        },
        "id": "9Z8gBQYIi32-",
        "outputId": "2f79402a-676f-4498-b1de-0c5358c4ea14"
      },
      "source": [
        "ump=pd.concat([match_data['umpire1'],match_data['umpire2']])\n",
        "ump=ump.value_counts()\n",
        "umps=ump.to_frame().reset_index()\n",
        "ump.head(10)"
      ],
      "execution_count": 16,
      "outputs": [
        {
          "output_type": "execute_result",
          "data": {
            "text/plain": [
              "S Ravi             121\n",
              "HDPK Dharmasena     94\n",
              "AK Chaudhary        87\n",
              "C Shamshuddin       82\n",
              "M Erasmus           65\n",
              "Nitin Menon         57\n",
              "CK Nandan           57\n",
              "SJA Taufel          55\n",
              "Asad Rauf           51\n",
              "VA Kulkarni         50\n",
              "dtype: int64"
            ]
          },
          "metadata": {},
          "execution_count": 16
        }
      ]
    },
    {
      "cell_type": "markdown",
      "metadata": {
        "papermill": {
          "duration": 0.138221,
          "end_time": "2021-06-04T22:21:29.587116",
          "exception": false,
          "start_time": "2021-06-04T22:21:29.448895",
          "status": "completed"
        },
        "tags": [],
        "id": "hFumTOqUi32_"
      },
      "source": [
        "<div class=\"alert alert-block alert-info\"><p style='color:black;'> 📌<b>S Ravi</b> has umpired in 121 matches, followed by Dharmasena who has umpired in 94 matches.\n",
        "</p>\n",
        "</div>"
      ]
    },
    {
      "cell_type": "markdown",
      "metadata": {
        "id": "0PL7_nIYrsw7"
      },
      "source": [
        "<small><a href='#0'>Go to top</a></small>  "
      ]
    },
    {
      "cell_type": "markdown",
      "metadata": {
        "papermill": {
          "duration": 0.139175,
          "end_time": "2021-06-04T22:21:30.149073",
          "exception": false,
          "start_time": "2021-06-04T22:21:30.009898",
          "status": "completed"
        },
        "tags": [],
        "id": "2h4fZmCQi32_"
      },
      "source": [
        "<a id=\"5\">\n",
        "<h1 style = \"font-family: Snell Roundhand;font-weight: 500;font-size: 30px; font-style: normal; background-color: #FFFB30; color :black;\"> 5) Number of tosses won by teams :</h1>\n",
        "\n",
        "\n"
      ]
    },
    {
      "cell_type": "code",
      "metadata": {
        "_kg_hide-input": true,
        "_kg_hide-output": true,
        "execution": {
          "iopub.execute_input": "2021-06-04T22:21:30.430640Z",
          "iopub.status.busy": "2021-06-04T22:21:30.429967Z",
          "iopub.status.idle": "2021-06-04T22:21:30.437827Z",
          "shell.execute_reply": "2021-06-04T22:21:30.437117Z",
          "shell.execute_reply.started": "2021-06-04T22:16:38.023416Z"
        },
        "papermill": {
          "duration": 0.151525,
          "end_time": "2021-06-04T22:21:30.437999",
          "exception": false,
          "start_time": "2021-06-04T22:21:30.286474",
          "status": "completed"
        },
        "tags": [],
        "colab": {
          "base_uri": "https://localhost:8080/"
        },
        "id": "XkuetXgxi32_",
        "outputId": "12450882-51d8-4242-cad8-07ce5f958372"
      },
      "source": [
        "match_data['toss_winner'].value_counts()"
      ],
      "execution_count": 17,
      "outputs": [
        {
          "output_type": "execute_result",
          "data": {
            "text/plain": [
              "Mumbai Indians                 106\n",
              "Kolkata Knight Riders           98\n",
              "Chennai Super Kings             97\n",
              "Rajasthan Royals                87\n",
              "Royal Challengers Bangalore     87\n",
              "Kings XI Punjab                 85\n",
              "Delhi Daredevils                80\n",
              "Sunrisers Hyderabad             57\n",
              "Deccan Chargers                 43\n",
              "Pune Warriors                   20\n",
              "Delhi Capitals                  20\n",
              "Gujarat Lions                   15\n",
              "Kochi Tuskers Kerala             8\n",
              "Rising Pune Supergiants          7\n",
              "Rising Pune Supergiant           6\n",
              "Name: toss_winner, dtype: int64"
            ]
          },
          "metadata": {},
          "execution_count": 17
        }
      ]
    },
    {
      "cell_type": "code",
      "metadata": {
        "_kg_hide-input": true,
        "execution": {
          "iopub.execute_input": "2021-06-04T22:21:30.746168Z",
          "iopub.status.busy": "2021-06-04T22:21:30.741171Z",
          "iopub.status.idle": "2021-06-04T22:21:30.818172Z",
          "shell.execute_reply": "2021-06-04T22:21:30.818671Z",
          "shell.execute_reply.started": "2021-06-04T22:16:38.039218Z"
        },
        "papermill": {
          "duration": 0.243245,
          "end_time": "2021-06-04T22:21:30.818875",
          "exception": false,
          "start_time": "2021-06-04T22:21:30.575630",
          "status": "completed"
        },
        "tags": [],
        "colab": {
          "base_uri": "https://localhost:8080/",
          "height": 542
        },
        "id": "62eWeSgJi32_",
        "outputId": "82a58ceb-82ac-4a75-9359-438a4f46575f"
      },
      "source": [
        "toss=match_data['toss_winner'].value_counts()\n",
        "colors = ['turquoise',] * 15\n",
        "colors[0] = 'crimson'\n",
        "fig=px.bar( y=toss,x=toss.index,labels=dict(x=\"Season\",y=\"Count\"),)\n",
        "fig.update_layout(title=\"No. of tosses won by each team\",\n",
        "                  titlefont={'size': 26},template='simple_white'     \n",
        "                  )\n",
        "fig.update_traces(marker_line_color='black',\n",
        "                  marker_line_width=2.5, opacity=1,marker_color=colors)\n",
        "fig.show()"
      ],
      "execution_count": 18,
      "outputs": [
        {
          "output_type": "display_data",
          "data": {
            "text/html": [
              "<html>\n",
              "<head><meta charset=\"utf-8\" /></head>\n",
              "<body>\n",
              "    <div>\n",
              "            <script src=\"https://cdnjs.cloudflare.com/ajax/libs/mathjax/2.7.5/MathJax.js?config=TeX-AMS-MML_SVG\"></script><script type=\"text/javascript\">if (window.MathJax) {MathJax.Hub.Config({SVG: {font: \"STIX-Web\"}});}</script>\n",
              "                <script type=\"text/javascript\">window.PlotlyConfig = {MathJaxConfig: 'local'};</script>\n",
              "        <script src=\"https://cdn.plot.ly/plotly-latest.min.js\"></script>    \n",
              "            <div id=\"9d607e07-a214-4bbc-9df5-1104ccd8f427\" class=\"plotly-graph-div\" style=\"height:525px; width:100%;\"></div>\n",
              "            <script type=\"text/javascript\">\n",
              "                \n",
              "                    window.PLOTLYENV=window.PLOTLYENV || {};\n",
              "                    \n",
              "                if (document.getElementById(\"9d607e07-a214-4bbc-9df5-1104ccd8f427\")) {\n",
              "                    Plotly.newPlot(\n",
              "                        '9d607e07-a214-4bbc-9df5-1104ccd8f427',\n",
              "                        [{\"alignmentgroup\": \"True\", \"hoverlabel\": {\"namelength\": 0}, \"hovertemplate\": \"Season=%{x}<br>Count=%{y}\", \"legendgroup\": \"\", \"marker\": {\"color\": [\"crimson\", \"turquoise\", \"turquoise\", \"turquoise\", \"turquoise\", \"turquoise\", \"turquoise\", \"turquoise\", \"turquoise\", \"turquoise\", \"turquoise\", \"turquoise\", \"turquoise\", \"turquoise\", \"turquoise\"], \"line\": {\"color\": \"black\", \"width\": 2.5}}, \"name\": \"\", \"offsetgroup\": \"\", \"opacity\": 1, \"orientation\": \"v\", \"showlegend\": false, \"textposition\": \"auto\", \"type\": \"bar\", \"x\": [\"Mumbai Indians\", \"Kolkata Knight Riders\", \"Chennai Super Kings\", \"Rajasthan Royals\", \"Royal Challengers Bangalore\", \"Kings XI Punjab\", \"Delhi Daredevils\", \"Sunrisers Hyderabad\", \"Deccan Chargers\", \"Pune Warriors\", \"Delhi Capitals\", \"Gujarat Lions\", \"Kochi Tuskers Kerala\", \"Rising Pune Supergiants\", \"Rising Pune Supergiant\"], \"xaxis\": \"x\", \"y\": [106, 98, 97, 87, 87, 85, 80, 57, 43, 20, 20, 15, 8, 7, 6], \"yaxis\": \"y\"}],\n",
              "                        {\"barmode\": \"relative\", \"legend\": {\"tracegroupgap\": 0}, \"margin\": {\"t\": 60}, \"template\": {\"data\": {\"bar\": [{\"error_x\": {\"color\": \"rgb(36,36,36)\"}, \"error_y\": {\"color\": \"rgb(36,36,36)\"}, \"marker\": {\"line\": {\"color\": \"white\", \"width\": 0.5}}, \"type\": \"bar\"}], \"barpolar\": [{\"marker\": {\"line\": {\"color\": \"white\", \"width\": 0.5}}, \"type\": \"barpolar\"}], \"carpet\": [{\"aaxis\": {\"endlinecolor\": \"rgb(36,36,36)\", \"gridcolor\": \"white\", \"linecolor\": \"white\", \"minorgridcolor\": \"white\", \"startlinecolor\": \"rgb(36,36,36)\"}, \"baxis\": {\"endlinecolor\": \"rgb(36,36,36)\", \"gridcolor\": \"white\", \"linecolor\": \"white\", \"minorgridcolor\": \"white\", \"startlinecolor\": \"rgb(36,36,36)\"}, \"type\": \"carpet\"}], \"choropleth\": [{\"colorbar\": {\"outlinewidth\": 10, \"tickcolor\": \"rgb(36,36,36)\", \"ticklen\": 8, \"ticks\": \"outside\", \"tickwidth\": 2}, \"type\": \"choropleth\"}], \"contour\": [{\"colorbar\": {\"outlinewidth\": 10, \"tickcolor\": \"rgb(36,36,36)\", \"ticklen\": 8, \"ticks\": \"outside\", \"tickwidth\": 2}, \"colorscale\": [[0.0, \"#440154\"], [0.1111111111111111, \"#482878\"], [0.2222222222222222, \"#3e4989\"], [0.3333333333333333, \"#31688e\"], [0.4444444444444444, \"#26828e\"], [0.5555555555555556, \"#1f9e89\"], [0.6666666666666666, \"#35b779\"], [0.7777777777777778, \"#6ece58\"], [0.8888888888888888, \"#b5de2b\"], [1.0, \"#fde725\"]], \"type\": \"contour\"}], \"contourcarpet\": [{\"colorbar\": {\"outlinewidth\": 10, \"tickcolor\": \"rgb(36,36,36)\", \"ticklen\": 8, \"ticks\": \"outside\", \"tickwidth\": 2}, \"type\": \"contourcarpet\"}], \"heatmap\": [{\"colorbar\": {\"outlinewidth\": 10, \"tickcolor\": \"rgb(36,36,36)\", \"ticklen\": 8, \"ticks\": \"outside\", \"tickwidth\": 2}, \"colorscale\": [[0.0, \"#440154\"], [0.1111111111111111, \"#482878\"], [0.2222222222222222, \"#3e4989\"], [0.3333333333333333, \"#31688e\"], [0.4444444444444444, \"#26828e\"], [0.5555555555555556, \"#1f9e89\"], [0.6666666666666666, \"#35b779\"], [0.7777777777777778, \"#6ece58\"], [0.8888888888888888, \"#b5de2b\"], [1.0, \"#fde725\"]], \"type\": \"heatmap\"}], \"heatmapgl\": [{\"colorbar\": {\"outlinewidth\": 10, \"tickcolor\": \"rgb(36,36,36)\", \"ticklen\": 8, \"ticks\": \"outside\", \"tickwidth\": 2}, \"colorscale\": [[0.0, \"#440154\"], [0.1111111111111111, \"#482878\"], [0.2222222222222222, \"#3e4989\"], [0.3333333333333333, \"#31688e\"], [0.4444444444444444, \"#26828e\"], [0.5555555555555556, \"#1f9e89\"], [0.6666666666666666, \"#35b779\"], [0.7777777777777778, \"#6ece58\"], [0.8888888888888888, \"#b5de2b\"], [1.0, \"#fde725\"]], \"type\": \"heatmapgl\"}], \"histogram\": [{\"marker\": {\"line\": {\"color\": \"white\", \"width\": 0.6}}, \"type\": \"histogram\"}], \"histogram2d\": [{\"colorbar\": {\"outlinewidth\": 10, \"tickcolor\": \"rgb(36,36,36)\", \"ticklen\": 8, \"ticks\": \"outside\", \"tickwidth\": 2}, \"colorscale\": [[0.0, \"#440154\"], [0.1111111111111111, \"#482878\"], [0.2222222222222222, \"#3e4989\"], [0.3333333333333333, \"#31688e\"], [0.4444444444444444, \"#26828e\"], [0.5555555555555556, \"#1f9e89\"], [0.6666666666666666, \"#35b779\"], [0.7777777777777778, \"#6ece58\"], [0.8888888888888888, \"#b5de2b\"], [1.0, \"#fde725\"]], \"type\": \"histogram2d\"}], \"histogram2dcontour\": [{\"colorbar\": {\"outlinewidth\": 10, \"tickcolor\": \"rgb(36,36,36)\", \"ticklen\": 8, \"ticks\": \"outside\", \"tickwidth\": 2}, \"colorscale\": [[0.0, \"#440154\"], [0.1111111111111111, \"#482878\"], [0.2222222222222222, \"#3e4989\"], [0.3333333333333333, \"#31688e\"], [0.4444444444444444, \"#26828e\"], [0.5555555555555556, \"#1f9e89\"], [0.6666666666666666, \"#35b779\"], [0.7777777777777778, \"#6ece58\"], [0.8888888888888888, \"#b5de2b\"], [1.0, \"#fde725\"]], \"type\": \"histogram2dcontour\"}], \"mesh3d\": [{\"colorbar\": {\"outlinewidth\": 10, \"tickcolor\": \"rgb(36,36,36)\", \"ticklen\": 8, \"ticks\": \"outside\", \"tickwidth\": 2}, \"type\": \"mesh3d\"}], \"parcoords\": [{\"line\": {\"colorbar\": {\"outlinewidth\": 10, \"tickcolor\": \"rgb(36,36,36)\", \"ticklen\": 8, \"ticks\": \"outside\", \"tickwidth\": 2}}, \"type\": \"parcoords\"}], \"pie\": [{\"automargin\": true, \"type\": \"pie\"}], \"scatter\": [{\"marker\": {\"colorbar\": {\"outlinewidth\": 10, \"tickcolor\": \"rgb(36,36,36)\", \"ticklen\": 8, \"ticks\": \"outside\", \"tickwidth\": 2}}, \"type\": \"scatter\"}], \"scatter3d\": [{\"line\": {\"colorbar\": {\"outlinewidth\": 10, \"tickcolor\": \"rgb(36,36,36)\", \"ticklen\": 8, \"ticks\": \"outside\", \"tickwidth\": 2}}, \"marker\": {\"colorbar\": {\"outlinewidth\": 10, \"tickcolor\": \"rgb(36,36,36)\", \"ticklen\": 8, \"ticks\": \"outside\", \"tickwidth\": 2}}, \"type\": \"scatter3d\"}], \"scattercarpet\": [{\"marker\": {\"colorbar\": {\"outlinewidth\": 10, \"tickcolor\": \"rgb(36,36,36)\", \"ticklen\": 8, \"ticks\": \"outside\", \"tickwidth\": 2}}, \"type\": \"scattercarpet\"}], \"scattergeo\": [{\"marker\": {\"colorbar\": {\"outlinewidth\": 10, \"tickcolor\": \"rgb(36,36,36)\", \"ticklen\": 8, \"ticks\": \"outside\", \"tickwidth\": 2}}, \"type\": \"scattergeo\"}], \"scattergl\": [{\"marker\": {\"colorbar\": {\"outlinewidth\": 10, \"tickcolor\": \"rgb(36,36,36)\", \"ticklen\": 8, \"ticks\": \"outside\", \"tickwidth\": 2}}, \"type\": \"scattergl\"}], \"scattermapbox\": [{\"marker\": {\"colorbar\": {\"outlinewidth\": 10, \"tickcolor\": \"rgb(36,36,36)\", \"ticklen\": 8, \"ticks\": \"outside\", \"tickwidth\": 2}}, \"type\": \"scattermapbox\"}], \"scatterpolar\": [{\"marker\": {\"colorbar\": {\"outlinewidth\": 10, \"tickcolor\": \"rgb(36,36,36)\", \"ticklen\": 8, \"ticks\": \"outside\", \"tickwidth\": 2}}, \"type\": \"scatterpolar\"}], \"scatterpolargl\": [{\"marker\": {\"colorbar\": {\"outlinewidth\": 10, \"tickcolor\": \"rgb(36,36,36)\", \"ticklen\": 8, \"ticks\": \"outside\", \"tickwidth\": 2}}, \"type\": \"scatterpolargl\"}], \"scatterternary\": [{\"marker\": {\"colorbar\": {\"outlinewidth\": 10, \"tickcolor\": \"rgb(36,36,36)\", \"ticklen\": 8, \"ticks\": \"outside\", \"tickwidth\": 2}}, \"type\": \"scatterternary\"}], \"surface\": [{\"colorbar\": {\"outlinewidth\": 10, \"tickcolor\": \"rgb(36,36,36)\", \"ticklen\": 8, \"ticks\": \"outside\", \"tickwidth\": 2}, \"colorscale\": [[0.0, \"#440154\"], [0.1111111111111111, \"#482878\"], [0.2222222222222222, \"#3e4989\"], [0.3333333333333333, \"#31688e\"], [0.4444444444444444, \"#26828e\"], [0.5555555555555556, \"#1f9e89\"], [0.6666666666666666, \"#35b779\"], [0.7777777777777778, \"#6ece58\"], [0.8888888888888888, \"#b5de2b\"], [1.0, \"#fde725\"]], \"type\": \"surface\"}], \"table\": [{\"cells\": {\"fill\": {\"color\": \"rgb(237,237,237)\"}, \"line\": {\"color\": \"white\"}}, \"header\": {\"fill\": {\"color\": \"rgb(217,217,217)\"}, \"line\": {\"color\": \"white\"}}, \"type\": \"table\"}]}, \"layout\": {\"annotationdefaults\": {\"arrowhead\": 0, \"arrowwidth\": 1}, \"coloraxis\": {\"colorbar\": {\"outlinewidth\": 10, \"tickcolor\": \"rgb(36,36,36)\", \"ticklen\": 8, \"ticks\": \"outside\", \"tickwidth\": 2}}, \"colorscale\": {\"diverging\": [[0.0, \"rgb(103,0,31)\"], [0.1, \"rgb(178,24,43)\"], [0.2, \"rgb(214,96,77)\"], [0.3, \"rgb(244,165,130)\"], [0.4, \"rgb(253,219,199)\"], [0.5, \"rgb(247,247,247)\"], [0.6, \"rgb(209,229,240)\"], [0.7, \"rgb(146,197,222)\"], [0.8, \"rgb(67,147,195)\"], [0.9, \"rgb(33,102,172)\"], [1.0, \"rgb(5,48,97)\"]], \"sequential\": [[0.0, \"#440154\"], [0.1111111111111111, \"#482878\"], [0.2222222222222222, \"#3e4989\"], [0.3333333333333333, \"#31688e\"], [0.4444444444444444, \"#26828e\"], [0.5555555555555556, \"#1f9e89\"], [0.6666666666666666, \"#35b779\"], [0.7777777777777778, \"#6ece58\"], [0.8888888888888888, \"#b5de2b\"], [1.0, \"#fde725\"]], \"sequentialminus\": [[0.0, \"#440154\"], [0.1111111111111111, \"#482878\"], [0.2222222222222222, \"#3e4989\"], [0.3333333333333333, \"#31688e\"], [0.4444444444444444, \"#26828e\"], [0.5555555555555556, \"#1f9e89\"], [0.6666666666666666, \"#35b779\"], [0.7777777777777778, \"#6ece58\"], [0.8888888888888888, \"#b5de2b\"], [1.0, \"#fde725\"]]}, \"colorway\": [\"#1F77B4\", \"#FF7F0E\", \"#2CA02C\", \"#D62728\", \"#9467BD\", \"#8C564B\", \"#E377C2\", \"#7F7F7F\", \"#BCBD22\", \"#17BECF\"], \"font\": {\"color\": \"rgb(36,36,36)\"}, \"geo\": {\"bgcolor\": \"white\", \"lakecolor\": \"white\", \"landcolor\": \"white\", \"showlakes\": true, \"showland\": true, \"subunitcolor\": \"white\"}, \"hoverlabel\": {\"align\": \"left\"}, \"hovermode\": \"closest\", \"mapbox\": {\"style\": \"light\"}, \"paper_bgcolor\": \"white\", \"plot_bgcolor\": \"white\", \"polar\": {\"angularaxis\": {\"gridcolor\": \"rgb(232,232,232)\", \"linecolor\": \"rgb(36,36,36)\", \"showgrid\": false, \"showline\": true, \"ticks\": \"outside\"}, \"bgcolor\": \"white\", \"radialaxis\": {\"gridcolor\": \"rgb(232,232,232)\", \"linecolor\": \"rgb(36,36,36)\", \"showgrid\": false, \"showline\": true, \"ticks\": \"outside\"}}, \"scene\": {\"xaxis\": {\"backgroundcolor\": \"white\", \"gridcolor\": \"rgb(232,232,232)\", \"gridwidth\": 2, \"linecolor\": \"rgb(36,36,36)\", \"showbackground\": true, \"showgrid\": false, \"showline\": true, \"ticks\": \"outside\", \"zeroline\": false, \"zerolinecolor\": \"rgb(36,36,36)\"}, \"yaxis\": {\"backgroundcolor\": \"white\", \"gridcolor\": \"rgb(232,232,232)\", \"gridwidth\": 2, \"linecolor\": \"rgb(36,36,36)\", \"showbackground\": true, \"showgrid\": false, \"showline\": true, \"ticks\": \"outside\", \"zeroline\": false, \"zerolinecolor\": \"rgb(36,36,36)\"}, \"zaxis\": {\"backgroundcolor\": \"white\", \"gridcolor\": \"rgb(232,232,232)\", \"gridwidth\": 2, \"linecolor\": \"rgb(36,36,36)\", \"showbackground\": true, \"showgrid\": false, \"showline\": true, \"ticks\": \"outside\", \"zeroline\": false, \"zerolinecolor\": \"rgb(36,36,36)\"}}, \"shapedefaults\": {\"fillcolor\": \"black\", \"line\": {\"width\": 0}, \"opacity\": 0.3}, \"ternary\": {\"aaxis\": {\"gridcolor\": \"rgb(232,232,232)\", \"linecolor\": \"rgb(36,36,36)\", \"showgrid\": false, \"showline\": true, \"ticks\": \"outside\"}, \"baxis\": {\"gridcolor\": \"rgb(232,232,232)\", \"linecolor\": \"rgb(36,36,36)\", \"showgrid\": false, \"showline\": true, \"ticks\": \"outside\"}, \"bgcolor\": \"white\", \"caxis\": {\"gridcolor\": \"rgb(232,232,232)\", \"linecolor\": \"rgb(36,36,36)\", \"showgrid\": false, \"showline\": true, \"ticks\": \"outside\"}}, \"title\": {\"x\": 0.05}, \"xaxis\": {\"automargin\": true, \"gridcolor\": \"rgb(232,232,232)\", \"linecolor\": \"rgb(36,36,36)\", \"showgrid\": false, \"showline\": true, \"ticks\": \"outside\", \"title\": {\"standoff\": 15}, \"zeroline\": false, \"zerolinecolor\": \"rgb(36,36,36)\"}, \"yaxis\": {\"automargin\": true, \"gridcolor\": \"rgb(232,232,232)\", \"linecolor\": \"rgb(36,36,36)\", \"showgrid\": false, \"showline\": true, \"ticks\": \"outside\", \"title\": {\"standoff\": 15}, \"zeroline\": false, \"zerolinecolor\": \"rgb(36,36,36)\"}}}, \"title\": {\"font\": {\"size\": 26}, \"text\": \"No. of tosses won by each team\"}, \"xaxis\": {\"anchor\": \"y\", \"domain\": [0.0, 1.0], \"title\": {\"text\": \"Season\"}}, \"yaxis\": {\"anchor\": \"x\", \"domain\": [0.0, 1.0], \"title\": {\"text\": \"Count\"}}},\n",
              "                        {\"responsive\": true}\n",
              "                    ).then(function(){\n",
              "                            \n",
              "var gd = document.getElementById('9d607e07-a214-4bbc-9df5-1104ccd8f427');\n",
              "var x = new MutationObserver(function (mutations, observer) {{\n",
              "        var display = window.getComputedStyle(gd).display;\n",
              "        if (!display || display === 'none') {{\n",
              "            console.log([gd, 'removed!']);\n",
              "            Plotly.purge(gd);\n",
              "            observer.disconnect();\n",
              "        }}\n",
              "}});\n",
              "\n",
              "// Listen for the removal of the full notebook cells\n",
              "var notebookContainer = gd.closest('#notebook-container');\n",
              "if (notebookContainer) {{\n",
              "    x.observe(notebookContainer, {childList: true});\n",
              "}}\n",
              "\n",
              "// Listen for the clearing of the current output cell\n",
              "var outputEl = gd.closest('.output');\n",
              "if (outputEl) {{\n",
              "    x.observe(outputEl, {childList: true});\n",
              "}}\n",
              "\n",
              "                        })\n",
              "                };\n",
              "                \n",
              "            </script>\n",
              "        </div>\n",
              "</body>\n",
              "</html>"
            ]
          },
          "metadata": {}
        }
      ]
    },
    {
      "cell_type": "markdown",
      "metadata": {
        "papermill": {
          "duration": 0.138453,
          "end_time": "2021-06-04T22:21:31.097910",
          "exception": false,
          "start_time": "2021-06-04T22:21:30.959457",
          "status": "completed"
        },
        "tags": [],
        "id": "B7JkuDfsi32_"
      },
      "source": [
        "<div class=\"alert alert-block alert-info\"><p style='color:black;'> 📌<b>Mumbai Indians</b> have won the most tosses, followed by Kolkata Knight Riders.\n",
        "</p>\n",
        "</div>"
      ]
    },
    {
      "cell_type": "markdown",
      "metadata": {
        "id": "m0iqU8UnrrML"
      },
      "source": [
        "<small><a href='#0'>Go to top</a></small>  "
      ]
    },
    {
      "cell_type": "markdown",
      "metadata": {
        "papermill": {
          "duration": 0.136352,
          "end_time": "2021-06-04T22:21:31.640913",
          "exception": false,
          "start_time": "2021-06-04T22:21:31.504561",
          "status": "completed"
        },
        "tags": [],
        "id": "gZOHbzXgi33A"
      },
      "source": [
        "<a id=\"6\">\n",
        "<h1 style = \"font-family: Snell Roundhand;font-weight: 500;font-size: 30px; font-style: normal; background-color: #FFFB30; color :black;\"> 6) Decision made after winning the toss :</h1>"
      ]
    },
    {
      "cell_type": "code",
      "metadata": {
        "_kg_hide-input": true,
        "execution": {
          "iopub.execute_input": "2021-06-04T22:21:31.917643Z",
          "iopub.status.busy": "2021-06-04T22:21:31.916644Z",
          "iopub.status.idle": "2021-06-04T22:21:31.969082Z",
          "shell.execute_reply": "2021-06-04T22:21:31.969624Z",
          "shell.execute_reply.started": "2021-06-04T22:16:38.112449Z"
        },
        "papermill": {
          "duration": 0.193304,
          "end_time": "2021-06-04T22:21:31.969815",
          "exception": false,
          "start_time": "2021-06-04T22:21:31.776511",
          "status": "completed"
        },
        "tags": [],
        "colab": {
          "base_uri": "https://localhost:8080/",
          "height": 542
        },
        "id": "g2NdxOxpi33A",
        "outputId": "a96d7c93-ef74-4f6e-ed73-094c2a80ad15"
      },
      "source": [
        "temp_series = match_data.toss_decision.value_counts()\n",
        "labels = (np.array(temp_series.index))\n",
        "values = (np.array((temp_series / temp_series.sum())*100))\n",
        "colors = ['turquoise', 'crimson']\n",
        "fig = go.Figure(data=[go.Pie(labels=labels,\n",
        "                             values=values,hole=.3)])\n",
        "fig.update_traces(hoverinfo='label+percent', textinfo='label+percent', textfont_size=20,\n",
        "                  marker=dict(colors=colors, line=dict(color='#000000', width=3)))\n",
        "fig.update_layout(title=\"Toss decision percentage\",\n",
        "                  titlefont={'size': 30},\n",
        "                  )\n",
        "fig.show()"
      ],
      "execution_count": 19,
      "outputs": [
        {
          "output_type": "display_data",
          "data": {
            "text/html": [
              "<html>\n",
              "<head><meta charset=\"utf-8\" /></head>\n",
              "<body>\n",
              "    <div>\n",
              "            <script src=\"https://cdnjs.cloudflare.com/ajax/libs/mathjax/2.7.5/MathJax.js?config=TeX-AMS-MML_SVG\"></script><script type=\"text/javascript\">if (window.MathJax) {MathJax.Hub.Config({SVG: {font: \"STIX-Web\"}});}</script>\n",
              "                <script type=\"text/javascript\">window.PlotlyConfig = {MathJaxConfig: 'local'};</script>\n",
              "        <script src=\"https://cdn.plot.ly/plotly-latest.min.js\"></script>    \n",
              "            <div id=\"151e929f-de31-406a-a1b4-37675f5e25de\" class=\"plotly-graph-div\" style=\"height:525px; width:100%;\"></div>\n",
              "            <script type=\"text/javascript\">\n",
              "                \n",
              "                    window.PLOTLYENV=window.PLOTLYENV || {};\n",
              "                    \n",
              "                if (document.getElementById(\"151e929f-de31-406a-a1b4-37675f5e25de\")) {\n",
              "                    Plotly.newPlot(\n",
              "                        '151e929f-de31-406a-a1b4-37675f5e25de',\n",
              "                        [{\"hole\": 0.3, \"hoverinfo\": \"label+percent\", \"labels\": [\"field\", \"bat\"], \"marker\": {\"colors\": [\"turquoise\", \"crimson\"], \"line\": {\"color\": \"#000000\", \"width\": 3}}, \"textfont\": {\"size\": 20}, \"textinfo\": \"label+percent\", \"type\": \"pie\", \"values\": [60.78431372549019, 39.21568627450981]}],\n",
              "                        {\"template\": {\"data\": {\"bar\": [{\"error_x\": {\"color\": \"#2a3f5f\"}, \"error_y\": {\"color\": \"#2a3f5f\"}, \"marker\": {\"line\": {\"color\": \"#E5ECF6\", \"width\": 0.5}}, \"type\": \"bar\"}], \"barpolar\": [{\"marker\": {\"line\": {\"color\": \"#E5ECF6\", \"width\": 0.5}}, \"type\": \"barpolar\"}], \"carpet\": [{\"aaxis\": {\"endlinecolor\": \"#2a3f5f\", \"gridcolor\": \"white\", \"linecolor\": \"white\", \"minorgridcolor\": \"white\", \"startlinecolor\": \"#2a3f5f\"}, \"baxis\": {\"endlinecolor\": \"#2a3f5f\", \"gridcolor\": \"white\", \"linecolor\": \"white\", \"minorgridcolor\": \"white\", \"startlinecolor\": \"#2a3f5f\"}, \"type\": \"carpet\"}], \"choropleth\": [{\"colorbar\": {\"outlinewidth\": 0, \"ticks\": \"\"}, \"type\": \"choropleth\"}], \"contour\": [{\"colorbar\": {\"outlinewidth\": 0, \"ticks\": \"\"}, \"colorscale\": [[0.0, \"#0d0887\"], [0.1111111111111111, \"#46039f\"], [0.2222222222222222, \"#7201a8\"], [0.3333333333333333, \"#9c179e\"], [0.4444444444444444, \"#bd3786\"], [0.5555555555555556, \"#d8576b\"], [0.6666666666666666, \"#ed7953\"], [0.7777777777777778, \"#fb9f3a\"], [0.8888888888888888, \"#fdca26\"], [1.0, \"#f0f921\"]], \"type\": \"contour\"}], \"contourcarpet\": [{\"colorbar\": {\"outlinewidth\": 0, \"ticks\": \"\"}, \"type\": \"contourcarpet\"}], \"heatmap\": [{\"colorbar\": {\"outlinewidth\": 0, \"ticks\": \"\"}, \"colorscale\": [[0.0, \"#0d0887\"], [0.1111111111111111, \"#46039f\"], [0.2222222222222222, \"#7201a8\"], [0.3333333333333333, \"#9c179e\"], [0.4444444444444444, \"#bd3786\"], [0.5555555555555556, \"#d8576b\"], [0.6666666666666666, \"#ed7953\"], [0.7777777777777778, \"#fb9f3a\"], [0.8888888888888888, \"#fdca26\"], [1.0, \"#f0f921\"]], \"type\": \"heatmap\"}], \"heatmapgl\": [{\"colorbar\": {\"outlinewidth\": 0, \"ticks\": \"\"}, \"colorscale\": [[0.0, \"#0d0887\"], [0.1111111111111111, \"#46039f\"], [0.2222222222222222, \"#7201a8\"], [0.3333333333333333, \"#9c179e\"], [0.4444444444444444, \"#bd3786\"], [0.5555555555555556, \"#d8576b\"], [0.6666666666666666, \"#ed7953\"], [0.7777777777777778, \"#fb9f3a\"], [0.8888888888888888, \"#fdca26\"], [1.0, \"#f0f921\"]], \"type\": \"heatmapgl\"}], \"histogram\": [{\"marker\": {\"colorbar\": {\"outlinewidth\": 0, \"ticks\": \"\"}}, \"type\": \"histogram\"}], \"histogram2d\": [{\"colorbar\": {\"outlinewidth\": 0, \"ticks\": \"\"}, \"colorscale\": [[0.0, \"#0d0887\"], [0.1111111111111111, \"#46039f\"], [0.2222222222222222, \"#7201a8\"], [0.3333333333333333, \"#9c179e\"], [0.4444444444444444, \"#bd3786\"], [0.5555555555555556, \"#d8576b\"], [0.6666666666666666, \"#ed7953\"], [0.7777777777777778, \"#fb9f3a\"], [0.8888888888888888, \"#fdca26\"], [1.0, \"#f0f921\"]], \"type\": \"histogram2d\"}], \"histogram2dcontour\": [{\"colorbar\": {\"outlinewidth\": 0, \"ticks\": \"\"}, \"colorscale\": [[0.0, \"#0d0887\"], [0.1111111111111111, \"#46039f\"], [0.2222222222222222, \"#7201a8\"], [0.3333333333333333, \"#9c179e\"], [0.4444444444444444, \"#bd3786\"], [0.5555555555555556, \"#d8576b\"], [0.6666666666666666, \"#ed7953\"], [0.7777777777777778, \"#fb9f3a\"], [0.8888888888888888, \"#fdca26\"], [1.0, \"#f0f921\"]], \"type\": \"histogram2dcontour\"}], \"mesh3d\": [{\"colorbar\": {\"outlinewidth\": 0, \"ticks\": \"\"}, \"type\": \"mesh3d\"}], \"parcoords\": [{\"line\": {\"colorbar\": {\"outlinewidth\": 0, \"ticks\": \"\"}}, \"type\": \"parcoords\"}], \"pie\": [{\"automargin\": true, \"type\": \"pie\"}], \"scatter\": [{\"marker\": {\"colorbar\": {\"outlinewidth\": 0, \"ticks\": \"\"}}, \"type\": \"scatter\"}], \"scatter3d\": [{\"line\": {\"colorbar\": {\"outlinewidth\": 0, \"ticks\": \"\"}}, \"marker\": {\"colorbar\": {\"outlinewidth\": 0, \"ticks\": \"\"}}, \"type\": \"scatter3d\"}], \"scattercarpet\": [{\"marker\": {\"colorbar\": {\"outlinewidth\": 0, \"ticks\": \"\"}}, \"type\": \"scattercarpet\"}], \"scattergeo\": [{\"marker\": {\"colorbar\": {\"outlinewidth\": 0, \"ticks\": \"\"}}, \"type\": \"scattergeo\"}], \"scattergl\": [{\"marker\": {\"colorbar\": {\"outlinewidth\": 0, \"ticks\": \"\"}}, \"type\": \"scattergl\"}], \"scattermapbox\": [{\"marker\": {\"colorbar\": {\"outlinewidth\": 0, \"ticks\": \"\"}}, \"type\": \"scattermapbox\"}], \"scatterpolar\": [{\"marker\": {\"colorbar\": {\"outlinewidth\": 0, \"ticks\": \"\"}}, \"type\": \"scatterpolar\"}], \"scatterpolargl\": [{\"marker\": {\"colorbar\": {\"outlinewidth\": 0, \"ticks\": \"\"}}, \"type\": \"scatterpolargl\"}], \"scatterternary\": [{\"marker\": {\"colorbar\": {\"outlinewidth\": 0, \"ticks\": \"\"}}, \"type\": \"scatterternary\"}], \"surface\": [{\"colorbar\": {\"outlinewidth\": 0, \"ticks\": \"\"}, \"colorscale\": [[0.0, \"#0d0887\"], [0.1111111111111111, \"#46039f\"], [0.2222222222222222, \"#7201a8\"], [0.3333333333333333, \"#9c179e\"], [0.4444444444444444, \"#bd3786\"], [0.5555555555555556, \"#d8576b\"], [0.6666666666666666, \"#ed7953\"], [0.7777777777777778, \"#fb9f3a\"], [0.8888888888888888, \"#fdca26\"], [1.0, \"#f0f921\"]], \"type\": \"surface\"}], \"table\": [{\"cells\": {\"fill\": {\"color\": \"#EBF0F8\"}, \"line\": {\"color\": \"white\"}}, \"header\": {\"fill\": {\"color\": \"#C8D4E3\"}, \"line\": {\"color\": \"white\"}}, \"type\": \"table\"}]}, \"layout\": {\"annotationdefaults\": {\"arrowcolor\": \"#2a3f5f\", \"arrowhead\": 0, \"arrowwidth\": 1}, \"coloraxis\": {\"colorbar\": {\"outlinewidth\": 0, \"ticks\": \"\"}}, \"colorscale\": {\"diverging\": [[0, \"#8e0152\"], [0.1, \"#c51b7d\"], [0.2, \"#de77ae\"], [0.3, \"#f1b6da\"], [0.4, \"#fde0ef\"], [0.5, \"#f7f7f7\"], [0.6, \"#e6f5d0\"], [0.7, \"#b8e186\"], [0.8, \"#7fbc41\"], [0.9, \"#4d9221\"], [1, \"#276419\"]], \"sequential\": [[0.0, \"#0d0887\"], [0.1111111111111111, \"#46039f\"], [0.2222222222222222, \"#7201a8\"], [0.3333333333333333, \"#9c179e\"], [0.4444444444444444, \"#bd3786\"], [0.5555555555555556, \"#d8576b\"], [0.6666666666666666, \"#ed7953\"], [0.7777777777777778, \"#fb9f3a\"], [0.8888888888888888, \"#fdca26\"], [1.0, \"#f0f921\"]], \"sequentialminus\": [[0.0, \"#0d0887\"], [0.1111111111111111, \"#46039f\"], [0.2222222222222222, \"#7201a8\"], [0.3333333333333333, \"#9c179e\"], [0.4444444444444444, \"#bd3786\"], [0.5555555555555556, \"#d8576b\"], [0.6666666666666666, \"#ed7953\"], [0.7777777777777778, \"#fb9f3a\"], [0.8888888888888888, \"#fdca26\"], [1.0, \"#f0f921\"]]}, \"colorway\": [\"#636efa\", \"#EF553B\", \"#00cc96\", \"#ab63fa\", \"#FFA15A\", \"#19d3f3\", \"#FF6692\", \"#B6E880\", \"#FF97FF\", \"#FECB52\"], \"font\": {\"color\": \"#2a3f5f\"}, \"geo\": {\"bgcolor\": \"white\", \"lakecolor\": \"white\", \"landcolor\": \"#E5ECF6\", \"showlakes\": true, \"showland\": true, \"subunitcolor\": \"white\"}, \"hoverlabel\": {\"align\": \"left\"}, \"hovermode\": \"closest\", \"mapbox\": {\"style\": \"light\"}, \"paper_bgcolor\": \"white\", \"plot_bgcolor\": \"#E5ECF6\", \"polar\": {\"angularaxis\": {\"gridcolor\": \"white\", \"linecolor\": \"white\", \"ticks\": \"\"}, \"bgcolor\": \"#E5ECF6\", \"radialaxis\": {\"gridcolor\": \"white\", \"linecolor\": \"white\", \"ticks\": \"\"}}, \"scene\": {\"xaxis\": {\"backgroundcolor\": \"#E5ECF6\", \"gridcolor\": \"white\", \"gridwidth\": 2, \"linecolor\": \"white\", \"showbackground\": true, \"ticks\": \"\", \"zerolinecolor\": \"white\"}, \"yaxis\": {\"backgroundcolor\": \"#E5ECF6\", \"gridcolor\": \"white\", \"gridwidth\": 2, \"linecolor\": \"white\", \"showbackground\": true, \"ticks\": \"\", \"zerolinecolor\": \"white\"}, \"zaxis\": {\"backgroundcolor\": \"#E5ECF6\", \"gridcolor\": \"white\", \"gridwidth\": 2, \"linecolor\": \"white\", \"showbackground\": true, \"ticks\": \"\", \"zerolinecolor\": \"white\"}}, \"shapedefaults\": {\"line\": {\"color\": \"#2a3f5f\"}}, \"ternary\": {\"aaxis\": {\"gridcolor\": \"white\", \"linecolor\": \"white\", \"ticks\": \"\"}, \"baxis\": {\"gridcolor\": \"white\", \"linecolor\": \"white\", \"ticks\": \"\"}, \"bgcolor\": \"#E5ECF6\", \"caxis\": {\"gridcolor\": \"white\", \"linecolor\": \"white\", \"ticks\": \"\"}}, \"title\": {\"x\": 0.05}, \"xaxis\": {\"automargin\": true, \"gridcolor\": \"white\", \"linecolor\": \"white\", \"ticks\": \"\", \"title\": {\"standoff\": 15}, \"zerolinecolor\": \"white\", \"zerolinewidth\": 2}, \"yaxis\": {\"automargin\": true, \"gridcolor\": \"white\", \"linecolor\": \"white\", \"ticks\": \"\", \"title\": {\"standoff\": 15}, \"zerolinecolor\": \"white\", \"zerolinewidth\": 2}}}, \"title\": {\"font\": {\"size\": 30}, \"text\": \"Toss decision percentage\"}},\n",
              "                        {\"responsive\": true}\n",
              "                    ).then(function(){\n",
              "                            \n",
              "var gd = document.getElementById('151e929f-de31-406a-a1b4-37675f5e25de');\n",
              "var x = new MutationObserver(function (mutations, observer) {{\n",
              "        var display = window.getComputedStyle(gd).display;\n",
              "        if (!display || display === 'none') {{\n",
              "            console.log([gd, 'removed!']);\n",
              "            Plotly.purge(gd);\n",
              "            observer.disconnect();\n",
              "        }}\n",
              "}});\n",
              "\n",
              "// Listen for the removal of the full notebook cells\n",
              "var notebookContainer = gd.closest('#notebook-container');\n",
              "if (notebookContainer) {{\n",
              "    x.observe(notebookContainer, {childList: true});\n",
              "}}\n",
              "\n",
              "// Listen for the clearing of the current output cell\n",
              "var outputEl = gd.closest('.output');\n",
              "if (outputEl) {{\n",
              "    x.observe(outputEl, {childList: true});\n",
              "}}\n",
              "\n",
              "                        })\n",
              "                };\n",
              "                \n",
              "            </script>\n",
              "        </div>\n",
              "</body>\n",
              "</html>"
            ]
          },
          "metadata": {}
        }
      ]
    },
    {
      "cell_type": "markdown",
      "metadata": {
        "papermill": {
          "duration": 0.138781,
          "end_time": "2021-06-04T22:21:32.250321",
          "exception": false,
          "start_time": "2021-06-04T22:21:32.111540",
          "status": "completed"
        },
        "tags": [],
        "id": "1WrwIRl4i33A"
      },
      "source": [
        "<div class=\"alert alert-block alert-info\"><p style='color:black;'> 📌After winning the toss, team tends to field first<br>\n",
        "</p>\n",
        "</div>"
      ]
    },
    {
      "cell_type": "markdown",
      "metadata": {
        "id": "_a6FtIY4rplW"
      },
      "source": [
        "<small><a href='#0'>Go to top</a></small>  "
      ]
    },
    {
      "cell_type": "markdown",
      "metadata": {
        "papermill": {
          "duration": 0.134914,
          "end_time": "2021-06-04T22:21:32.796750",
          "exception": false,
          "start_time": "2021-06-04T22:21:32.661836",
          "status": "completed"
        },
        "tags": [],
        "id": "-rmXgBjZi33A"
      },
      "source": [
        "<a id=\"7\">\n",
        "<h1 style = \"font-family: Snell Roundhand;font-weight: 500;font-size: 30px; font-style: normal; background-color: #FFFB30; color :black;\"> 7) Toss decision across seasons :</h1>\n",
        "\n"
      ]
    },
    {
      "cell_type": "code",
      "metadata": {
        "_kg_hide-input": true,
        "_kg_hide-output": true,
        "execution": {
          "iopub.execute_input": "2021-06-04T22:21:33.074512Z",
          "iopub.status.busy": "2021-06-04T22:21:33.073897Z",
          "iopub.status.idle": "2021-06-04T22:21:33.096182Z",
          "shell.execute_reply": "2021-06-04T22:21:33.096665Z",
          "shell.execute_reply.started": "2021-06-04T22:16:38.160943Z"
        },
        "papermill": {
          "duration": 0.162425,
          "end_time": "2021-06-04T22:21:33.096849",
          "exception": false,
          "start_time": "2021-06-04T22:21:32.934424",
          "status": "completed"
        },
        "tags": [],
        "colab": {
          "base_uri": "https://localhost:8080/",
          "height": 417
        },
        "id": "2wq822Oki33B",
        "outputId": "99bd0265-c1de-4397-e8f8-3c039133d36e"
      },
      "source": [
        "match_data.head()"
      ],
      "execution_count": 20,
      "outputs": [
        {
          "output_type": "execute_result",
          "data": {
            "text/html": [
              "<div>\n",
              "<style scoped>\n",
              "    .dataframe tbody tr th:only-of-type {\n",
              "        vertical-align: middle;\n",
              "    }\n",
              "\n",
              "    .dataframe tbody tr th {\n",
              "        vertical-align: top;\n",
              "    }\n",
              "\n",
              "    .dataframe thead th {\n",
              "        text-align: right;\n",
              "    }\n",
              "</style>\n",
              "<table border=\"1\" class=\"dataframe\">\n",
              "  <thead>\n",
              "    <tr style=\"text-align: right;\">\n",
              "      <th></th>\n",
              "      <th>id</th>\n",
              "      <th>city</th>\n",
              "      <th>date</th>\n",
              "      <th>player_of_match</th>\n",
              "      <th>venue</th>\n",
              "      <th>neutral_venue</th>\n",
              "      <th>team1</th>\n",
              "      <th>team2</th>\n",
              "      <th>toss_winner</th>\n",
              "      <th>toss_decision</th>\n",
              "      <th>winner</th>\n",
              "      <th>result</th>\n",
              "      <th>result_margin</th>\n",
              "      <th>eliminator</th>\n",
              "      <th>method</th>\n",
              "      <th>umpire1</th>\n",
              "      <th>umpire2</th>\n",
              "      <th>Season</th>\n",
              "    </tr>\n",
              "  </thead>\n",
              "  <tbody>\n",
              "    <tr>\n",
              "      <th>0</th>\n",
              "      <td>335982</td>\n",
              "      <td>Bangalore</td>\n",
              "      <td>2008-04-18</td>\n",
              "      <td>BB McCullum</td>\n",
              "      <td>M Chinnaswamy Stadium</td>\n",
              "      <td>0</td>\n",
              "      <td>Royal Challengers Bangalore</td>\n",
              "      <td>Kolkata Knight Riders</td>\n",
              "      <td>Royal Challengers Bangalore</td>\n",
              "      <td>field</td>\n",
              "      <td>Kolkata Knight Riders</td>\n",
              "      <td>runs</td>\n",
              "      <td>140.0</td>\n",
              "      <td>N</td>\n",
              "      <td>NaN</td>\n",
              "      <td>Asad Rauf</td>\n",
              "      <td>RE Koertzen</td>\n",
              "      <td>2008</td>\n",
              "    </tr>\n",
              "    <tr>\n",
              "      <th>1</th>\n",
              "      <td>335983</td>\n",
              "      <td>Chandigarh</td>\n",
              "      <td>2008-04-19</td>\n",
              "      <td>MEK Hussey</td>\n",
              "      <td>Punjab Cricket Association Stadium, Mohali</td>\n",
              "      <td>0</td>\n",
              "      <td>Kings XI Punjab</td>\n",
              "      <td>Chennai Super Kings</td>\n",
              "      <td>Chennai Super Kings</td>\n",
              "      <td>bat</td>\n",
              "      <td>Chennai Super Kings</td>\n",
              "      <td>runs</td>\n",
              "      <td>33.0</td>\n",
              "      <td>N</td>\n",
              "      <td>NaN</td>\n",
              "      <td>MR Benson</td>\n",
              "      <td>SL Shastri</td>\n",
              "      <td>2008</td>\n",
              "    </tr>\n",
              "    <tr>\n",
              "      <th>2</th>\n",
              "      <td>335984</td>\n",
              "      <td>Delhi</td>\n",
              "      <td>2008-04-19</td>\n",
              "      <td>MF Maharoof</td>\n",
              "      <td>Feroz Shah Kotla</td>\n",
              "      <td>0</td>\n",
              "      <td>Delhi Daredevils</td>\n",
              "      <td>Rajasthan Royals</td>\n",
              "      <td>Rajasthan Royals</td>\n",
              "      <td>bat</td>\n",
              "      <td>Delhi Daredevils</td>\n",
              "      <td>wickets</td>\n",
              "      <td>9.0</td>\n",
              "      <td>N</td>\n",
              "      <td>NaN</td>\n",
              "      <td>Aleem Dar</td>\n",
              "      <td>GA Pratapkumar</td>\n",
              "      <td>2008</td>\n",
              "    </tr>\n",
              "    <tr>\n",
              "      <th>3</th>\n",
              "      <td>335985</td>\n",
              "      <td>Mumbai</td>\n",
              "      <td>2008-04-20</td>\n",
              "      <td>MV Boucher</td>\n",
              "      <td>Wankhede Stadium</td>\n",
              "      <td>0</td>\n",
              "      <td>Mumbai Indians</td>\n",
              "      <td>Royal Challengers Bangalore</td>\n",
              "      <td>Mumbai Indians</td>\n",
              "      <td>bat</td>\n",
              "      <td>Royal Challengers Bangalore</td>\n",
              "      <td>wickets</td>\n",
              "      <td>5.0</td>\n",
              "      <td>N</td>\n",
              "      <td>NaN</td>\n",
              "      <td>SJ Davis</td>\n",
              "      <td>DJ Harper</td>\n",
              "      <td>2008</td>\n",
              "    </tr>\n",
              "    <tr>\n",
              "      <th>4</th>\n",
              "      <td>335986</td>\n",
              "      <td>Kolkata</td>\n",
              "      <td>2008-04-20</td>\n",
              "      <td>DJ Hussey</td>\n",
              "      <td>Eden Gardens</td>\n",
              "      <td>0</td>\n",
              "      <td>Kolkata Knight Riders</td>\n",
              "      <td>Deccan Chargers</td>\n",
              "      <td>Deccan Chargers</td>\n",
              "      <td>bat</td>\n",
              "      <td>Kolkata Knight Riders</td>\n",
              "      <td>wickets</td>\n",
              "      <td>5.0</td>\n",
              "      <td>N</td>\n",
              "      <td>NaN</td>\n",
              "      <td>BF Bowden</td>\n",
              "      <td>K Hariharan</td>\n",
              "      <td>2008</td>\n",
              "    </tr>\n",
              "  </tbody>\n",
              "</table>\n",
              "</div>"
            ],
            "text/plain": [
              "       id        city        date  ...    umpire1         umpire2  Season\n",
              "0  335982   Bangalore  2008-04-18  ...  Asad Rauf     RE Koertzen    2008\n",
              "1  335983  Chandigarh  2008-04-19  ...  MR Benson      SL Shastri    2008\n",
              "2  335984       Delhi  2008-04-19  ...  Aleem Dar  GA Pratapkumar    2008\n",
              "3  335985      Mumbai  2008-04-20  ...   SJ Davis       DJ Harper    2008\n",
              "4  335986     Kolkata  2008-04-20  ...  BF Bowden     K Hariharan    2008\n",
              "\n",
              "[5 rows x 18 columns]"
            ]
          },
          "metadata": {},
          "execution_count": 20
        }
      ]
    },
    {
      "cell_type": "code",
      "metadata": {
        "_kg_hide-input": true,
        "execution": {
          "iopub.execute_input": "2021-06-04T22:21:33.378211Z",
          "iopub.status.busy": "2021-06-04T22:21:33.377464Z",
          "iopub.status.idle": "2021-06-04T22:21:33.520183Z",
          "shell.execute_reply": "2021-06-04T22:21:33.519643Z",
          "shell.execute_reply.started": "2021-06-04T22:16:38.185349Z"
        },
        "papermill": {
          "duration": 0.28584,
          "end_time": "2021-06-04T22:21:33.520340",
          "exception": false,
          "start_time": "2021-06-04T22:21:33.234500",
          "status": "completed"
        },
        "tags": [],
        "colab": {
          "base_uri": "https://localhost:8080/",
          "height": 542
        },
        "id": "C7vFeTVsi33B",
        "outputId": "1b298730-7925-4948-f1da-ba86d4b42761"
      },
      "source": [
        "fig=px.histogram(data_frame=match_data,x='Season',color='toss_decision',color_discrete_sequence=colors,barmode='group')\n",
        "fig.update_layout(title=\"Toss decision in different seasons\",\n",
        "                  titlefont={'size': 26},template='simple_white'     \n",
        "                  )\n",
        "fig.update_traces(marker_line_color='black',\n",
        "                  marker_line_width=2.5, opacity=1)\n",
        "fig.show()"
      ],
      "execution_count": 21,
      "outputs": [
        {
          "output_type": "display_data",
          "data": {
            "text/html": [
              "<html>\n",
              "<head><meta charset=\"utf-8\" /></head>\n",
              "<body>\n",
              "    <div>\n",
              "            <script src=\"https://cdnjs.cloudflare.com/ajax/libs/mathjax/2.7.5/MathJax.js?config=TeX-AMS-MML_SVG\"></script><script type=\"text/javascript\">if (window.MathJax) {MathJax.Hub.Config({SVG: {font: \"STIX-Web\"}});}</script>\n",
              "                <script type=\"text/javascript\">window.PlotlyConfig = {MathJaxConfig: 'local'};</script>\n",
              "        <script src=\"https://cdn.plot.ly/plotly-latest.min.js\"></script>    \n",
              "            <div id=\"70078914-0da4-45f8-ab09-217f5567c1b6\" class=\"plotly-graph-div\" style=\"height:525px; width:100%;\"></div>\n",
              "            <script type=\"text/javascript\">\n",
              "                \n",
              "                    window.PLOTLYENV=window.PLOTLYENV || {};\n",
              "                    \n",
              "                if (document.getElementById(\"70078914-0da4-45f8-ab09-217f5567c1b6\")) {\n",
              "                    Plotly.newPlot(\n",
              "                        '70078914-0da4-45f8-ab09-217f5567c1b6',\n",
              "                        [{\"alignmentgroup\": \"True\", \"bingroup\": \"x\", \"hoverlabel\": {\"namelength\": 0}, \"hovertemplate\": \"toss_decision=field<br>Season=%{x}<br>count=%{y}\", \"legendgroup\": \"toss_decision=field\", \"marker\": {\"color\": \"turquoise\", \"line\": {\"color\": \"black\", \"width\": 2.5}}, \"name\": \"toss_decision=field\", \"offsetgroup\": \"toss_decision=field\", \"opacity\": 1, \"orientation\": \"v\", \"showlegend\": true, \"type\": \"histogram\", \"x\": [2008, 2008, 2008, 2008, 2008, 2008, 2008, 2008, 2008, 2008, 2008, 2008, 2008, 2008, 2008, 2008, 2008, 2008, 2008, 2008, 2008, 2008, 2008, 2008, 2008, 2008, 2008, 2008, 2008, 2008, 2008, 2008, 2009, 2009, 2009, 2009, 2009, 2009, 2009, 2009, 2009, 2009, 2009, 2009, 2009, 2009, 2009, 2009, 2009, 2009, 2009, 2009, 2009, 2009, 2010, 2010, 2010, 2010, 2010, 2010, 2010, 2010, 2010, 2010, 2010, 2010, 2010, 2010, 2010, 2010, 2010, 2010, 2010, 2010, 2010, 2011, 2011, 2011, 2011, 2011, 2011, 2011, 2011, 2011, 2011, 2011, 2011, 2011, 2011, 2011, 2011, 2011, 2011, 2011, 2011, 2011, 2011, 2011, 2011, 2011, 2011, 2011, 2011, 2011, 2011, 2011, 2011, 2011, 2011, 2011, 2011, 2011, 2011, 2011, 2011, 2011, 2011, 2011, 2011, 2011, 2011, 2011, 2011, 2012, 2012, 2012, 2012, 2012, 2012, 2012, 2012, 2012, 2012, 2012, 2012, 2012, 2012, 2012, 2012, 2012, 2012, 2012, 2012, 2012, 2012, 2012, 2012, 2012, 2012, 2012, 2012, 2012, 2012, 2012, 2012, 2012, 2012, 2012, 2012, 2012, 2013, 2013, 2013, 2013, 2013, 2013, 2013, 2013, 2013, 2013, 2013, 2013, 2013, 2013, 2013, 2013, 2013, 2013, 2013, 2013, 2013, 2013, 2013, 2013, 2013, 2013, 2013, 2013, 2013, 2013, 2013, 2014, 2014, 2014, 2014, 2014, 2014, 2014, 2014, 2014, 2014, 2014, 2014, 2014, 2014, 2014, 2014, 2014, 2014, 2014, 2014, 2014, 2014, 2014, 2014, 2014, 2014, 2014, 2014, 2014, 2014, 2014, 2014, 2014, 2014, 2014, 2014, 2014, 2014, 2014, 2014, 2014, 2015, 2015, 2015, 2015, 2015, 2015, 2015, 2015, 2015, 2015, 2015, 2015, 2015, 2015, 2015, 2015, 2015, 2015, 2015, 2015, 2015, 2015, 2015, 2015, 2015, 2015, 2015, 2015, 2015, 2015, 2015, 2015, 2015, 2015, 2016, 2016, 2016, 2016, 2016, 2016, 2016, 2016, 2016, 2016, 2016, 2016, 2016, 2016, 2016, 2016, 2016, 2016, 2016, 2016, 2016, 2016, 2016, 2016, 2016, 2016, 2016, 2016, 2016, 2016, 2016, 2016, 2016, 2016, 2016, 2016, 2016, 2016, 2016, 2016, 2016, 2016, 2016, 2016, 2016, 2016, 2016, 2016, 2016, 2017, 2017, 2017, 2017, 2017, 2017, 2017, 2017, 2017, 2017, 2017, 2017, 2017, 2017, 2017, 2017, 2017, 2017, 2017, 2017, 2017, 2017, 2017, 2017, 2017, 2017, 2017, 2017, 2017, 2017, 2017, 2017, 2017, 2017, 2017, 2017, 2017, 2017, 2017, 2017, 2017, 2017, 2017, 2017, 2017, 2017, 2017, 2017, 2018, 2018, 2018, 2018, 2018, 2018, 2018, 2018, 2018, 2018, 2018, 2018, 2018, 2018, 2018, 2018, 2018, 2018, 2018, 2018, 2018, 2018, 2018, 2018, 2018, 2018, 2018, 2018, 2018, 2018, 2018, 2018, 2018, 2018, 2018, 2018, 2018, 2018, 2018, 2018, 2018, 2018, 2018, 2018, 2018, 2018, 2018, 2018, 2018, 2018, 2019, 2019, 2019, 2019, 2019, 2019, 2019, 2019, 2019, 2019, 2019, 2019, 2019, 2019, 2019, 2019, 2019, 2019, 2019, 2019, 2019, 2019, 2019, 2019, 2019, 2019, 2019, 2019, 2019, 2019, 2019, 2019, 2019, 2019, 2019, 2019, 2019, 2019, 2019, 2019, 2019, 2019, 2019, 2019, 2019, 2019, 2019, 2019, 2019, 2019, 2020, 2020, 2020, 2020, 2020, 2020, 2020, 2020, 2020, 2020, 2020, 2020, 2020, 2020, 2020, 2020, 2020, 2020, 2020, 2020, 2020, 2020, 2020, 2020, 2020, 2020, 2020, 2020, 2020, 2020, 2020, 2020, 2020], \"xaxis\": \"x\", \"yaxis\": \"y\"}, {\"alignmentgroup\": \"True\", \"bingroup\": \"x\", \"hoverlabel\": {\"namelength\": 0}, \"hovertemplate\": \"toss_decision=bat<br>Season=%{x}<br>count=%{y}\", \"legendgroup\": \"toss_decision=bat\", \"marker\": {\"color\": \"crimson\", \"line\": {\"color\": \"black\", \"width\": 2.5}}, \"name\": \"toss_decision=bat\", \"offsetgroup\": \"toss_decision=bat\", \"opacity\": 1, \"orientation\": \"v\", \"showlegend\": true, \"type\": \"histogram\", \"x\": [2008, 2008, 2008, 2008, 2008, 2008, 2008, 2008, 2008, 2008, 2008, 2008, 2008, 2008, 2008, 2008, 2008, 2008, 2008, 2008, 2008, 2008, 2008, 2008, 2008, 2008, 2009, 2009, 2009, 2009, 2009, 2009, 2009, 2009, 2009, 2009, 2009, 2009, 2009, 2009, 2009, 2009, 2009, 2009, 2009, 2009, 2009, 2009, 2009, 2009, 2009, 2009, 2009, 2009, 2009, 2009, 2009, 2009, 2009, 2009, 2009, 2010, 2010, 2010, 2010, 2010, 2010, 2010, 2010, 2010, 2010, 2010, 2010, 2010, 2010, 2010, 2010, 2010, 2010, 2010, 2010, 2010, 2010, 2010, 2010, 2010, 2010, 2010, 2010, 2010, 2010, 2010, 2010, 2010, 2010, 2010, 2010, 2010, 2010, 2010, 2011, 2011, 2011, 2011, 2011, 2011, 2011, 2011, 2011, 2011, 2011, 2011, 2011, 2011, 2011, 2011, 2011, 2011, 2011, 2011, 2011, 2011, 2011, 2011, 2011, 2012, 2012, 2012, 2012, 2012, 2012, 2012, 2012, 2012, 2012, 2012, 2012, 2012, 2012, 2012, 2012, 2012, 2012, 2012, 2012, 2012, 2012, 2012, 2012, 2012, 2012, 2012, 2012, 2012, 2012, 2012, 2012, 2012, 2012, 2012, 2012, 2012, 2013, 2013, 2013, 2013, 2013, 2013, 2013, 2013, 2013, 2013, 2013, 2013, 2013, 2013, 2013, 2013, 2013, 2013, 2013, 2013, 2013, 2013, 2013, 2013, 2013, 2013, 2013, 2013, 2013, 2013, 2013, 2013, 2013, 2013, 2013, 2013, 2013, 2013, 2013, 2013, 2013, 2013, 2013, 2013, 2013, 2014, 2014, 2014, 2014, 2014, 2014, 2014, 2014, 2014, 2014, 2014, 2014, 2014, 2014, 2014, 2014, 2014, 2014, 2014, 2015, 2015, 2015, 2015, 2015, 2015, 2015, 2015, 2015, 2015, 2015, 2015, 2015, 2015, 2015, 2015, 2015, 2015, 2015, 2015, 2015, 2015, 2015, 2015, 2015, 2016, 2016, 2016, 2016, 2016, 2016, 2016, 2016, 2016, 2016, 2016, 2017, 2017, 2017, 2017, 2017, 2017, 2017, 2017, 2017, 2017, 2017, 2018, 2018, 2018, 2018, 2018, 2018, 2018, 2018, 2018, 2018, 2019, 2019, 2019, 2019, 2019, 2019, 2019, 2019, 2019, 2019, 2020, 2020, 2020, 2020, 2020, 2020, 2020, 2020, 2020, 2020, 2020, 2020, 2020, 2020, 2020, 2020, 2020, 2020, 2020, 2020, 2020, 2020, 2020, 2020, 2020, 2020, 2020], \"xaxis\": \"x\", \"yaxis\": \"y\"}],\n",
              "                        {\"barmode\": \"group\", \"legend\": {\"tracegroupgap\": 0}, \"margin\": {\"t\": 60}, \"template\": {\"data\": {\"bar\": [{\"error_x\": {\"color\": \"rgb(36,36,36)\"}, \"error_y\": {\"color\": \"rgb(36,36,36)\"}, \"marker\": {\"line\": {\"color\": \"white\", \"width\": 0.5}}, \"type\": \"bar\"}], \"barpolar\": [{\"marker\": {\"line\": {\"color\": \"white\", \"width\": 0.5}}, \"type\": \"barpolar\"}], \"carpet\": [{\"aaxis\": {\"endlinecolor\": \"rgb(36,36,36)\", \"gridcolor\": \"white\", \"linecolor\": \"white\", \"minorgridcolor\": \"white\", \"startlinecolor\": \"rgb(36,36,36)\"}, \"baxis\": {\"endlinecolor\": \"rgb(36,36,36)\", \"gridcolor\": \"white\", \"linecolor\": \"white\", \"minorgridcolor\": \"white\", \"startlinecolor\": \"rgb(36,36,36)\"}, \"type\": \"carpet\"}], \"choropleth\": [{\"colorbar\": {\"outlinewidth\": 10, \"tickcolor\": \"rgb(36,36,36)\", \"ticklen\": 8, \"ticks\": \"outside\", \"tickwidth\": 2}, \"type\": \"choropleth\"}], \"contour\": [{\"colorbar\": {\"outlinewidth\": 10, \"tickcolor\": \"rgb(36,36,36)\", \"ticklen\": 8, \"ticks\": \"outside\", \"tickwidth\": 2}, \"colorscale\": [[0.0, \"#440154\"], [0.1111111111111111, \"#482878\"], [0.2222222222222222, \"#3e4989\"], [0.3333333333333333, \"#31688e\"], [0.4444444444444444, \"#26828e\"], [0.5555555555555556, \"#1f9e89\"], [0.6666666666666666, \"#35b779\"], [0.7777777777777778, \"#6ece58\"], [0.8888888888888888, \"#b5de2b\"], [1.0, \"#fde725\"]], \"type\": \"contour\"}], \"contourcarpet\": [{\"colorbar\": {\"outlinewidth\": 10, \"tickcolor\": \"rgb(36,36,36)\", \"ticklen\": 8, \"ticks\": \"outside\", \"tickwidth\": 2}, \"type\": \"contourcarpet\"}], \"heatmap\": [{\"colorbar\": {\"outlinewidth\": 10, \"tickcolor\": \"rgb(36,36,36)\", \"ticklen\": 8, \"ticks\": \"outside\", \"tickwidth\": 2}, \"colorscale\": [[0.0, \"#440154\"], [0.1111111111111111, \"#482878\"], [0.2222222222222222, \"#3e4989\"], [0.3333333333333333, \"#31688e\"], [0.4444444444444444, \"#26828e\"], [0.5555555555555556, \"#1f9e89\"], [0.6666666666666666, \"#35b779\"], [0.7777777777777778, \"#6ece58\"], [0.8888888888888888, \"#b5de2b\"], [1.0, \"#fde725\"]], \"type\": \"heatmap\"}], \"heatmapgl\": [{\"colorbar\": {\"outlinewidth\": 10, \"tickcolor\": \"rgb(36,36,36)\", \"ticklen\": 8, \"ticks\": \"outside\", \"tickwidth\": 2}, \"colorscale\": [[0.0, \"#440154\"], [0.1111111111111111, \"#482878\"], [0.2222222222222222, \"#3e4989\"], [0.3333333333333333, \"#31688e\"], [0.4444444444444444, \"#26828e\"], [0.5555555555555556, \"#1f9e89\"], [0.6666666666666666, \"#35b779\"], [0.7777777777777778, \"#6ece58\"], [0.8888888888888888, \"#b5de2b\"], [1.0, \"#fde725\"]], \"type\": \"heatmapgl\"}], \"histogram\": [{\"marker\": {\"line\": {\"color\": \"white\", \"width\": 0.6}}, \"type\": \"histogram\"}], \"histogram2d\": [{\"colorbar\": {\"outlinewidth\": 10, \"tickcolor\": \"rgb(36,36,36)\", \"ticklen\": 8, \"ticks\": \"outside\", \"tickwidth\": 2}, \"colorscale\": [[0.0, \"#440154\"], [0.1111111111111111, \"#482878\"], [0.2222222222222222, \"#3e4989\"], [0.3333333333333333, \"#31688e\"], [0.4444444444444444, \"#26828e\"], [0.5555555555555556, \"#1f9e89\"], [0.6666666666666666, \"#35b779\"], [0.7777777777777778, \"#6ece58\"], [0.8888888888888888, \"#b5de2b\"], [1.0, \"#fde725\"]], \"type\": \"histogram2d\"}], \"histogram2dcontour\": [{\"colorbar\": {\"outlinewidth\": 10, \"tickcolor\": \"rgb(36,36,36)\", \"ticklen\": 8, \"ticks\": \"outside\", \"tickwidth\": 2}, \"colorscale\": [[0.0, \"#440154\"], [0.1111111111111111, \"#482878\"], [0.2222222222222222, \"#3e4989\"], [0.3333333333333333, \"#31688e\"], [0.4444444444444444, \"#26828e\"], [0.5555555555555556, \"#1f9e89\"], [0.6666666666666666, \"#35b779\"], [0.7777777777777778, \"#6ece58\"], [0.8888888888888888, \"#b5de2b\"], [1.0, \"#fde725\"]], \"type\": \"histogram2dcontour\"}], \"mesh3d\": [{\"colorbar\": {\"outlinewidth\": 10, \"tickcolor\": \"rgb(36,36,36)\", \"ticklen\": 8, \"ticks\": \"outside\", \"tickwidth\": 2}, \"type\": \"mesh3d\"}], \"parcoords\": [{\"line\": {\"colorbar\": {\"outlinewidth\": 10, \"tickcolor\": \"rgb(36,36,36)\", \"ticklen\": 8, \"ticks\": \"outside\", \"tickwidth\": 2}}, \"type\": \"parcoords\"}], \"pie\": [{\"automargin\": true, \"type\": \"pie\"}], \"scatter\": [{\"marker\": {\"colorbar\": {\"outlinewidth\": 10, \"tickcolor\": \"rgb(36,36,36)\", \"ticklen\": 8, \"ticks\": \"outside\", \"tickwidth\": 2}}, \"type\": \"scatter\"}], \"scatter3d\": [{\"line\": {\"colorbar\": {\"outlinewidth\": 10, \"tickcolor\": \"rgb(36,36,36)\", \"ticklen\": 8, \"ticks\": \"outside\", \"tickwidth\": 2}}, \"marker\": {\"colorbar\": {\"outlinewidth\": 10, \"tickcolor\": \"rgb(36,36,36)\", \"ticklen\": 8, \"ticks\": \"outside\", \"tickwidth\": 2}}, \"type\": \"scatter3d\"}], \"scattercarpet\": [{\"marker\": {\"colorbar\": {\"outlinewidth\": 10, \"tickcolor\": \"rgb(36,36,36)\", \"ticklen\": 8, \"ticks\": \"outside\", \"tickwidth\": 2}}, \"type\": \"scattercarpet\"}], \"scattergeo\": [{\"marker\": {\"colorbar\": {\"outlinewidth\": 10, \"tickcolor\": \"rgb(36,36,36)\", \"ticklen\": 8, \"ticks\": \"outside\", \"tickwidth\": 2}}, \"type\": \"scattergeo\"}], \"scattergl\": [{\"marker\": {\"colorbar\": {\"outlinewidth\": 10, \"tickcolor\": \"rgb(36,36,36)\", \"ticklen\": 8, \"ticks\": \"outside\", \"tickwidth\": 2}}, \"type\": \"scattergl\"}], \"scattermapbox\": [{\"marker\": {\"colorbar\": {\"outlinewidth\": 10, \"tickcolor\": \"rgb(36,36,36)\", \"ticklen\": 8, \"ticks\": \"outside\", \"tickwidth\": 2}}, \"type\": \"scattermapbox\"}], \"scatterpolar\": [{\"marker\": {\"colorbar\": {\"outlinewidth\": 10, \"tickcolor\": \"rgb(36,36,36)\", \"ticklen\": 8, \"ticks\": \"outside\", \"tickwidth\": 2}}, \"type\": \"scatterpolar\"}], \"scatterpolargl\": [{\"marker\": {\"colorbar\": {\"outlinewidth\": 10, \"tickcolor\": \"rgb(36,36,36)\", \"ticklen\": 8, \"ticks\": \"outside\", \"tickwidth\": 2}}, \"type\": \"scatterpolargl\"}], \"scatterternary\": [{\"marker\": {\"colorbar\": {\"outlinewidth\": 10, \"tickcolor\": \"rgb(36,36,36)\", \"ticklen\": 8, \"ticks\": \"outside\", \"tickwidth\": 2}}, \"type\": \"scatterternary\"}], \"surface\": [{\"colorbar\": {\"outlinewidth\": 10, \"tickcolor\": \"rgb(36,36,36)\", \"ticklen\": 8, \"ticks\": \"outside\", \"tickwidth\": 2}, \"colorscale\": [[0.0, \"#440154\"], [0.1111111111111111, \"#482878\"], [0.2222222222222222, \"#3e4989\"], [0.3333333333333333, \"#31688e\"], [0.4444444444444444, \"#26828e\"], [0.5555555555555556, \"#1f9e89\"], [0.6666666666666666, \"#35b779\"], [0.7777777777777778, \"#6ece58\"], [0.8888888888888888, \"#b5de2b\"], [1.0, \"#fde725\"]], \"type\": \"surface\"}], \"table\": [{\"cells\": {\"fill\": {\"color\": \"rgb(237,237,237)\"}, \"line\": {\"color\": \"white\"}}, \"header\": {\"fill\": {\"color\": \"rgb(217,217,217)\"}, \"line\": {\"color\": \"white\"}}, \"type\": \"table\"}]}, \"layout\": {\"annotationdefaults\": {\"arrowhead\": 0, \"arrowwidth\": 1}, \"coloraxis\": {\"colorbar\": {\"outlinewidth\": 10, \"tickcolor\": \"rgb(36,36,36)\", \"ticklen\": 8, \"ticks\": \"outside\", \"tickwidth\": 2}}, \"colorscale\": {\"diverging\": [[0.0, \"rgb(103,0,31)\"], [0.1, \"rgb(178,24,43)\"], [0.2, \"rgb(214,96,77)\"], [0.3, \"rgb(244,165,130)\"], [0.4, \"rgb(253,219,199)\"], [0.5, \"rgb(247,247,247)\"], [0.6, \"rgb(209,229,240)\"], [0.7, \"rgb(146,197,222)\"], [0.8, \"rgb(67,147,195)\"], [0.9, \"rgb(33,102,172)\"], [1.0, \"rgb(5,48,97)\"]], \"sequential\": [[0.0, \"#440154\"], [0.1111111111111111, \"#482878\"], [0.2222222222222222, \"#3e4989\"], [0.3333333333333333, \"#31688e\"], [0.4444444444444444, \"#26828e\"], [0.5555555555555556, \"#1f9e89\"], [0.6666666666666666, \"#35b779\"], [0.7777777777777778, \"#6ece58\"], [0.8888888888888888, \"#b5de2b\"], [1.0, \"#fde725\"]], \"sequentialminus\": [[0.0, \"#440154\"], [0.1111111111111111, \"#482878\"], [0.2222222222222222, \"#3e4989\"], [0.3333333333333333, \"#31688e\"], [0.4444444444444444, \"#26828e\"], [0.5555555555555556, \"#1f9e89\"], [0.6666666666666666, \"#35b779\"], [0.7777777777777778, \"#6ece58\"], [0.8888888888888888, \"#b5de2b\"], [1.0, \"#fde725\"]]}, \"colorway\": [\"#1F77B4\", \"#FF7F0E\", \"#2CA02C\", \"#D62728\", \"#9467BD\", \"#8C564B\", \"#E377C2\", \"#7F7F7F\", \"#BCBD22\", \"#17BECF\"], \"font\": {\"color\": \"rgb(36,36,36)\"}, \"geo\": {\"bgcolor\": \"white\", \"lakecolor\": \"white\", \"landcolor\": \"white\", \"showlakes\": true, \"showland\": true, \"subunitcolor\": \"white\"}, \"hoverlabel\": {\"align\": \"left\"}, \"hovermode\": \"closest\", \"mapbox\": {\"style\": \"light\"}, \"paper_bgcolor\": \"white\", \"plot_bgcolor\": \"white\", \"polar\": {\"angularaxis\": {\"gridcolor\": \"rgb(232,232,232)\", \"linecolor\": \"rgb(36,36,36)\", \"showgrid\": false, \"showline\": true, \"ticks\": \"outside\"}, \"bgcolor\": \"white\", \"radialaxis\": {\"gridcolor\": \"rgb(232,232,232)\", \"linecolor\": \"rgb(36,36,36)\", \"showgrid\": false, \"showline\": true, \"ticks\": \"outside\"}}, \"scene\": {\"xaxis\": {\"backgroundcolor\": \"white\", \"gridcolor\": \"rgb(232,232,232)\", \"gridwidth\": 2, \"linecolor\": \"rgb(36,36,36)\", \"showbackground\": true, \"showgrid\": false, \"showline\": true, \"ticks\": \"outside\", \"zeroline\": false, \"zerolinecolor\": \"rgb(36,36,36)\"}, \"yaxis\": {\"backgroundcolor\": \"white\", \"gridcolor\": \"rgb(232,232,232)\", \"gridwidth\": 2, \"linecolor\": \"rgb(36,36,36)\", \"showbackground\": true, \"showgrid\": false, \"showline\": true, \"ticks\": \"outside\", \"zeroline\": false, \"zerolinecolor\": \"rgb(36,36,36)\"}, \"zaxis\": {\"backgroundcolor\": \"white\", \"gridcolor\": \"rgb(232,232,232)\", \"gridwidth\": 2, \"linecolor\": \"rgb(36,36,36)\", \"showbackground\": true, \"showgrid\": false, \"showline\": true, \"ticks\": \"outside\", \"zeroline\": false, \"zerolinecolor\": \"rgb(36,36,36)\"}}, \"shapedefaults\": {\"fillcolor\": \"black\", \"line\": {\"width\": 0}, \"opacity\": 0.3}, \"ternary\": {\"aaxis\": {\"gridcolor\": \"rgb(232,232,232)\", \"linecolor\": \"rgb(36,36,36)\", \"showgrid\": false, \"showline\": true, \"ticks\": \"outside\"}, \"baxis\": {\"gridcolor\": \"rgb(232,232,232)\", \"linecolor\": \"rgb(36,36,36)\", \"showgrid\": false, \"showline\": true, \"ticks\": \"outside\"}, \"bgcolor\": \"white\", \"caxis\": {\"gridcolor\": \"rgb(232,232,232)\", \"linecolor\": \"rgb(36,36,36)\", \"showgrid\": false, \"showline\": true, \"ticks\": \"outside\"}}, \"title\": {\"x\": 0.05}, \"xaxis\": {\"automargin\": true, \"gridcolor\": \"rgb(232,232,232)\", \"linecolor\": \"rgb(36,36,36)\", \"showgrid\": false, \"showline\": true, \"ticks\": \"outside\", \"title\": {\"standoff\": 15}, \"zeroline\": false, \"zerolinecolor\": \"rgb(36,36,36)\"}, \"yaxis\": {\"automargin\": true, \"gridcolor\": \"rgb(232,232,232)\", \"linecolor\": \"rgb(36,36,36)\", \"showgrid\": false, \"showline\": true, \"ticks\": \"outside\", \"title\": {\"standoff\": 15}, \"zeroline\": false, \"zerolinecolor\": \"rgb(36,36,36)\"}}}, \"title\": {\"font\": {\"size\": 26}, \"text\": \"Toss decision in different seasons\"}, \"xaxis\": {\"anchor\": \"y\", \"domain\": [0.0, 1.0], \"title\": {\"text\": \"Season\"}}, \"yaxis\": {\"anchor\": \"x\", \"domain\": [0.0, 1.0], \"title\": {\"text\": \"count\"}}},\n",
              "                        {\"responsive\": true}\n",
              "                    ).then(function(){\n",
              "                            \n",
              "var gd = document.getElementById('70078914-0da4-45f8-ab09-217f5567c1b6');\n",
              "var x = new MutationObserver(function (mutations, observer) {{\n",
              "        var display = window.getComputedStyle(gd).display;\n",
              "        if (!display || display === 'none') {{\n",
              "            console.log([gd, 'removed!']);\n",
              "            Plotly.purge(gd);\n",
              "            observer.disconnect();\n",
              "        }}\n",
              "}});\n",
              "\n",
              "// Listen for the removal of the full notebook cells\n",
              "var notebookContainer = gd.closest('#notebook-container');\n",
              "if (notebookContainer) {{\n",
              "    x.observe(notebookContainer, {childList: true});\n",
              "}}\n",
              "\n",
              "// Listen for the clearing of the current output cell\n",
              "var outputEl = gd.closest('.output');\n",
              "if (outputEl) {{\n",
              "    x.observe(outputEl, {childList: true});\n",
              "}}\n",
              "\n",
              "                        })\n",
              "                };\n",
              "                \n",
              "            </script>\n",
              "        </div>\n",
              "</body>\n",
              "</html>"
            ]
          },
          "metadata": {}
        }
      ]
    },
    {
      "cell_type": "markdown",
      "metadata": {
        "papermill": {
          "duration": 0.144502,
          "end_time": "2021-06-04T22:21:33.808917",
          "exception": false,
          "start_time": "2021-06-04T22:21:33.664415",
          "status": "completed"
        },
        "tags": [],
        "id": "H4cL9vtZi33B"
      },
      "source": [
        "<div class=\"alert alert-block alert-info\"><p style='color:black;'> 📌Most of the times, teams decide to feild first except in season 2009,2010,2013 where teams decided to bat first mostly.<br>\n",
        "Since 2014, teams have overwhelmingly chosen to bat second. Especially since 2016, teams have chosen to field for more than 80% of the times except in season 2020.<br>\n",
        "</p>\n",
        "</div>"
      ]
    },
    {
      "cell_type": "markdown",
      "metadata": {
        "id": "TY-yV2nXrntr"
      },
      "source": [
        "<small><a href='#0'>Go to top</a></small>  "
      ]
    },
    {
      "cell_type": "markdown",
      "metadata": {
        "papermill": {
          "duration": 0.140859,
          "end_time": "2021-06-04T22:21:34.374224",
          "exception": false,
          "start_time": "2021-06-04T22:21:34.233365",
          "status": "completed"
        },
        "tags": [],
        "id": "zp43JOuji33B"
      },
      "source": [
        "<a id=\"8\">\n",
        "<h1 style = \"font-family: Snell Roundhand;font-weight: 500;font-size: 30px; font-style: normal; background-color: #FFFB30; color :black;\"> 8)Winning toss implies winning game ?</h1>\n"
      ]
    },
    {
      "cell_type": "code",
      "metadata": {
        "_kg_hide-input": true,
        "_kg_hide-output": true,
        "execution": {
          "iopub.execute_input": "2021-06-04T22:21:34.688014Z",
          "iopub.status.busy": "2021-06-04T22:21:34.686967Z",
          "iopub.status.idle": "2021-06-04T22:21:34.691911Z",
          "shell.execute_reply": "2021-06-04T22:21:34.691248Z",
          "shell.execute_reply.started": "2021-06-04T22:16:38.308106Z"
        },
        "papermill": {
          "duration": 0.178538,
          "end_time": "2021-06-04T22:21:34.692067",
          "exception": false,
          "start_time": "2021-06-04T22:21:34.513529",
          "status": "completed"
        },
        "tags": [],
        "colab": {
          "base_uri": "https://localhost:8080/",
          "height": 417
        },
        "id": "oHDnwF8ii33B",
        "outputId": "51a1a909-94f8-45ce-f098-8d02f8cf1d68"
      },
      "source": [
        "match_data['toss_win_game_win'] = np.where((match_data.toss_winner == match_data.winner),'Yes','No')\n",
        "match_data.head()"
      ],
      "execution_count": 22,
      "outputs": [
        {
          "output_type": "execute_result",
          "data": {
            "text/html": [
              "<div>\n",
              "<style scoped>\n",
              "    .dataframe tbody tr th:only-of-type {\n",
              "        vertical-align: middle;\n",
              "    }\n",
              "\n",
              "    .dataframe tbody tr th {\n",
              "        vertical-align: top;\n",
              "    }\n",
              "\n",
              "    .dataframe thead th {\n",
              "        text-align: right;\n",
              "    }\n",
              "</style>\n",
              "<table border=\"1\" class=\"dataframe\">\n",
              "  <thead>\n",
              "    <tr style=\"text-align: right;\">\n",
              "      <th></th>\n",
              "      <th>id</th>\n",
              "      <th>city</th>\n",
              "      <th>date</th>\n",
              "      <th>player_of_match</th>\n",
              "      <th>venue</th>\n",
              "      <th>neutral_venue</th>\n",
              "      <th>team1</th>\n",
              "      <th>team2</th>\n",
              "      <th>toss_winner</th>\n",
              "      <th>toss_decision</th>\n",
              "      <th>winner</th>\n",
              "      <th>result</th>\n",
              "      <th>result_margin</th>\n",
              "      <th>eliminator</th>\n",
              "      <th>method</th>\n",
              "      <th>umpire1</th>\n",
              "      <th>umpire2</th>\n",
              "      <th>Season</th>\n",
              "      <th>toss_win_game_win</th>\n",
              "    </tr>\n",
              "  </thead>\n",
              "  <tbody>\n",
              "    <tr>\n",
              "      <th>0</th>\n",
              "      <td>335982</td>\n",
              "      <td>Bangalore</td>\n",
              "      <td>2008-04-18</td>\n",
              "      <td>BB McCullum</td>\n",
              "      <td>M Chinnaswamy Stadium</td>\n",
              "      <td>0</td>\n",
              "      <td>Royal Challengers Bangalore</td>\n",
              "      <td>Kolkata Knight Riders</td>\n",
              "      <td>Royal Challengers Bangalore</td>\n",
              "      <td>field</td>\n",
              "      <td>Kolkata Knight Riders</td>\n",
              "      <td>runs</td>\n",
              "      <td>140.0</td>\n",
              "      <td>N</td>\n",
              "      <td>NaN</td>\n",
              "      <td>Asad Rauf</td>\n",
              "      <td>RE Koertzen</td>\n",
              "      <td>2008</td>\n",
              "      <td>No</td>\n",
              "    </tr>\n",
              "    <tr>\n",
              "      <th>1</th>\n",
              "      <td>335983</td>\n",
              "      <td>Chandigarh</td>\n",
              "      <td>2008-04-19</td>\n",
              "      <td>MEK Hussey</td>\n",
              "      <td>Punjab Cricket Association Stadium, Mohali</td>\n",
              "      <td>0</td>\n",
              "      <td>Kings XI Punjab</td>\n",
              "      <td>Chennai Super Kings</td>\n",
              "      <td>Chennai Super Kings</td>\n",
              "      <td>bat</td>\n",
              "      <td>Chennai Super Kings</td>\n",
              "      <td>runs</td>\n",
              "      <td>33.0</td>\n",
              "      <td>N</td>\n",
              "      <td>NaN</td>\n",
              "      <td>MR Benson</td>\n",
              "      <td>SL Shastri</td>\n",
              "      <td>2008</td>\n",
              "      <td>Yes</td>\n",
              "    </tr>\n",
              "    <tr>\n",
              "      <th>2</th>\n",
              "      <td>335984</td>\n",
              "      <td>Delhi</td>\n",
              "      <td>2008-04-19</td>\n",
              "      <td>MF Maharoof</td>\n",
              "      <td>Feroz Shah Kotla</td>\n",
              "      <td>0</td>\n",
              "      <td>Delhi Daredevils</td>\n",
              "      <td>Rajasthan Royals</td>\n",
              "      <td>Rajasthan Royals</td>\n",
              "      <td>bat</td>\n",
              "      <td>Delhi Daredevils</td>\n",
              "      <td>wickets</td>\n",
              "      <td>9.0</td>\n",
              "      <td>N</td>\n",
              "      <td>NaN</td>\n",
              "      <td>Aleem Dar</td>\n",
              "      <td>GA Pratapkumar</td>\n",
              "      <td>2008</td>\n",
              "      <td>No</td>\n",
              "    </tr>\n",
              "    <tr>\n",
              "      <th>3</th>\n",
              "      <td>335985</td>\n",
              "      <td>Mumbai</td>\n",
              "      <td>2008-04-20</td>\n",
              "      <td>MV Boucher</td>\n",
              "      <td>Wankhede Stadium</td>\n",
              "      <td>0</td>\n",
              "      <td>Mumbai Indians</td>\n",
              "      <td>Royal Challengers Bangalore</td>\n",
              "      <td>Mumbai Indians</td>\n",
              "      <td>bat</td>\n",
              "      <td>Royal Challengers Bangalore</td>\n",
              "      <td>wickets</td>\n",
              "      <td>5.0</td>\n",
              "      <td>N</td>\n",
              "      <td>NaN</td>\n",
              "      <td>SJ Davis</td>\n",
              "      <td>DJ Harper</td>\n",
              "      <td>2008</td>\n",
              "      <td>No</td>\n",
              "    </tr>\n",
              "    <tr>\n",
              "      <th>4</th>\n",
              "      <td>335986</td>\n",
              "      <td>Kolkata</td>\n",
              "      <td>2008-04-20</td>\n",
              "      <td>DJ Hussey</td>\n",
              "      <td>Eden Gardens</td>\n",
              "      <td>0</td>\n",
              "      <td>Kolkata Knight Riders</td>\n",
              "      <td>Deccan Chargers</td>\n",
              "      <td>Deccan Chargers</td>\n",
              "      <td>bat</td>\n",
              "      <td>Kolkata Knight Riders</td>\n",
              "      <td>wickets</td>\n",
              "      <td>5.0</td>\n",
              "      <td>N</td>\n",
              "      <td>NaN</td>\n",
              "      <td>BF Bowden</td>\n",
              "      <td>K Hariharan</td>\n",
              "      <td>2008</td>\n",
              "      <td>No</td>\n",
              "    </tr>\n",
              "  </tbody>\n",
              "</table>\n",
              "</div>"
            ],
            "text/plain": [
              "       id        city        date  ...         umpire2 Season  toss_win_game_win\n",
              "0  335982   Bangalore  2008-04-18  ...     RE Koertzen   2008                 No\n",
              "1  335983  Chandigarh  2008-04-19  ...      SL Shastri   2008                Yes\n",
              "2  335984       Delhi  2008-04-19  ...  GA Pratapkumar   2008                 No\n",
              "3  335985      Mumbai  2008-04-20  ...       DJ Harper   2008                 No\n",
              "4  335986     Kolkata  2008-04-20  ...     K Hariharan   2008                 No\n",
              "\n",
              "[5 rows x 19 columns]"
            ]
          },
          "metadata": {},
          "execution_count": 22
        }
      ]
    },
    {
      "cell_type": "code",
      "metadata": {
        "_kg_hide-input": true,
        "execution": {
          "iopub.execute_input": "2021-06-04T22:21:34.990011Z",
          "iopub.status.busy": "2021-06-04T22:21:34.988975Z",
          "iopub.status.idle": "2021-06-04T22:21:34.995060Z",
          "shell.execute_reply": "2021-06-04T22:21:34.994417Z",
          "shell.execute_reply.started": "2021-06-04T22:16:38.335215Z"
        },
        "papermill": {
          "duration": 0.163002,
          "end_time": "2021-06-04T22:21:34.995219",
          "exception": false,
          "start_time": "2021-06-04T22:21:34.832217",
          "status": "completed"
        },
        "tags": [],
        "colab": {
          "base_uri": "https://localhost:8080/",
          "height": 542
        },
        "id": "zhNeQflSi33C",
        "outputId": "500b1b4a-e135-41a7-dee3-a589b928800e"
      },
      "source": [
        "labels =[\"Yes\",'No']\n",
        "values = match_data['toss_win_game_win'].value_counts()\n",
        "colors = ['turquoise', 'crimson']\n",
        "fig = go.Figure(data=[go.Pie(labels=labels,\n",
        "                             values=values,hole=.3)])\n",
        "fig.update_traces(hoverinfo='label+percent', textinfo='label+percent', textfont_size=20,\n",
        "                  marker=dict(colors=colors, line=dict(color='#000000', width=3)))\n",
        "fig.update_layout(title=\"Winning toss implies winning macthes?\",\n",
        "                  titlefont={'size': 30},\n",
        "                  )\n",
        "fig.show()"
      ],
      "execution_count": 23,
      "outputs": [
        {
          "output_type": "display_data",
          "data": {
            "text/html": [
              "<html>\n",
              "<head><meta charset=\"utf-8\" /></head>\n",
              "<body>\n",
              "    <div>\n",
              "            <script src=\"https://cdnjs.cloudflare.com/ajax/libs/mathjax/2.7.5/MathJax.js?config=TeX-AMS-MML_SVG\"></script><script type=\"text/javascript\">if (window.MathJax) {MathJax.Hub.Config({SVG: {font: \"STIX-Web\"}});}</script>\n",
              "                <script type=\"text/javascript\">window.PlotlyConfig = {MathJaxConfig: 'local'};</script>\n",
              "        <script src=\"https://cdn.plot.ly/plotly-latest.min.js\"></script>    \n",
              "            <div id=\"563ab6b6-7062-4154-90e2-4eace683b78e\" class=\"plotly-graph-div\" style=\"height:525px; width:100%;\"></div>\n",
              "            <script type=\"text/javascript\">\n",
              "                \n",
              "                    window.PLOTLYENV=window.PLOTLYENV || {};\n",
              "                    \n",
              "                if (document.getElementById(\"563ab6b6-7062-4154-90e2-4eace683b78e\")) {\n",
              "                    Plotly.newPlot(\n",
              "                        '563ab6b6-7062-4154-90e2-4eace683b78e',\n",
              "                        [{\"hole\": 0.3, \"hoverinfo\": \"label+percent\", \"labels\": [\"Yes\", \"No\"], \"marker\": {\"colors\": [\"turquoise\", \"crimson\"], \"line\": {\"color\": \"#000000\", \"width\": 3}}, \"textfont\": {\"size\": 20}, \"textinfo\": \"label+percent\", \"type\": \"pie\", \"values\": [418, 398]}],\n",
              "                        {\"template\": {\"data\": {\"bar\": [{\"error_x\": {\"color\": \"#2a3f5f\"}, \"error_y\": {\"color\": \"#2a3f5f\"}, \"marker\": {\"line\": {\"color\": \"#E5ECF6\", \"width\": 0.5}}, \"type\": \"bar\"}], \"barpolar\": [{\"marker\": {\"line\": {\"color\": \"#E5ECF6\", \"width\": 0.5}}, \"type\": \"barpolar\"}], \"carpet\": [{\"aaxis\": {\"endlinecolor\": \"#2a3f5f\", \"gridcolor\": \"white\", \"linecolor\": \"white\", \"minorgridcolor\": \"white\", \"startlinecolor\": \"#2a3f5f\"}, \"baxis\": {\"endlinecolor\": \"#2a3f5f\", \"gridcolor\": \"white\", \"linecolor\": \"white\", \"minorgridcolor\": \"white\", \"startlinecolor\": \"#2a3f5f\"}, \"type\": \"carpet\"}], \"choropleth\": [{\"colorbar\": {\"outlinewidth\": 0, \"ticks\": \"\"}, \"type\": \"choropleth\"}], \"contour\": [{\"colorbar\": {\"outlinewidth\": 0, \"ticks\": \"\"}, \"colorscale\": [[0.0, \"#0d0887\"], [0.1111111111111111, \"#46039f\"], [0.2222222222222222, \"#7201a8\"], [0.3333333333333333, \"#9c179e\"], [0.4444444444444444, \"#bd3786\"], [0.5555555555555556, \"#d8576b\"], [0.6666666666666666, \"#ed7953\"], [0.7777777777777778, \"#fb9f3a\"], [0.8888888888888888, \"#fdca26\"], [1.0, \"#f0f921\"]], \"type\": \"contour\"}], \"contourcarpet\": [{\"colorbar\": {\"outlinewidth\": 0, \"ticks\": \"\"}, \"type\": \"contourcarpet\"}], \"heatmap\": [{\"colorbar\": {\"outlinewidth\": 0, \"ticks\": \"\"}, \"colorscale\": [[0.0, \"#0d0887\"], [0.1111111111111111, \"#46039f\"], [0.2222222222222222, \"#7201a8\"], [0.3333333333333333, \"#9c179e\"], [0.4444444444444444, \"#bd3786\"], [0.5555555555555556, \"#d8576b\"], [0.6666666666666666, \"#ed7953\"], [0.7777777777777778, \"#fb9f3a\"], [0.8888888888888888, \"#fdca26\"], [1.0, \"#f0f921\"]], \"type\": \"heatmap\"}], \"heatmapgl\": [{\"colorbar\": {\"outlinewidth\": 0, \"ticks\": \"\"}, \"colorscale\": [[0.0, \"#0d0887\"], [0.1111111111111111, \"#46039f\"], [0.2222222222222222, \"#7201a8\"], [0.3333333333333333, \"#9c179e\"], [0.4444444444444444, \"#bd3786\"], [0.5555555555555556, \"#d8576b\"], [0.6666666666666666, \"#ed7953\"], [0.7777777777777778, \"#fb9f3a\"], [0.8888888888888888, \"#fdca26\"], [1.0, \"#f0f921\"]], \"type\": \"heatmapgl\"}], \"histogram\": [{\"marker\": {\"colorbar\": {\"outlinewidth\": 0, \"ticks\": \"\"}}, \"type\": \"histogram\"}], \"histogram2d\": [{\"colorbar\": {\"outlinewidth\": 0, \"ticks\": \"\"}, \"colorscale\": [[0.0, \"#0d0887\"], [0.1111111111111111, \"#46039f\"], [0.2222222222222222, \"#7201a8\"], [0.3333333333333333, \"#9c179e\"], [0.4444444444444444, \"#bd3786\"], [0.5555555555555556, \"#d8576b\"], [0.6666666666666666, \"#ed7953\"], [0.7777777777777778, \"#fb9f3a\"], [0.8888888888888888, \"#fdca26\"], [1.0, \"#f0f921\"]], \"type\": \"histogram2d\"}], \"histogram2dcontour\": [{\"colorbar\": {\"outlinewidth\": 0, \"ticks\": \"\"}, \"colorscale\": [[0.0, \"#0d0887\"], [0.1111111111111111, \"#46039f\"], [0.2222222222222222, \"#7201a8\"], [0.3333333333333333, \"#9c179e\"], [0.4444444444444444, \"#bd3786\"], [0.5555555555555556, \"#d8576b\"], [0.6666666666666666, \"#ed7953\"], [0.7777777777777778, \"#fb9f3a\"], [0.8888888888888888, \"#fdca26\"], [1.0, \"#f0f921\"]], \"type\": \"histogram2dcontour\"}], \"mesh3d\": [{\"colorbar\": {\"outlinewidth\": 0, \"ticks\": \"\"}, \"type\": \"mesh3d\"}], \"parcoords\": [{\"line\": {\"colorbar\": {\"outlinewidth\": 0, \"ticks\": \"\"}}, \"type\": \"parcoords\"}], \"pie\": [{\"automargin\": true, \"type\": \"pie\"}], \"scatter\": [{\"marker\": {\"colorbar\": {\"outlinewidth\": 0, \"ticks\": \"\"}}, \"type\": \"scatter\"}], \"scatter3d\": [{\"line\": {\"colorbar\": {\"outlinewidth\": 0, \"ticks\": \"\"}}, \"marker\": {\"colorbar\": {\"outlinewidth\": 0, \"ticks\": \"\"}}, \"type\": \"scatter3d\"}], \"scattercarpet\": [{\"marker\": {\"colorbar\": {\"outlinewidth\": 0, \"ticks\": \"\"}}, \"type\": \"scattercarpet\"}], \"scattergeo\": [{\"marker\": {\"colorbar\": {\"outlinewidth\": 0, \"ticks\": \"\"}}, \"type\": \"scattergeo\"}], \"scattergl\": [{\"marker\": {\"colorbar\": {\"outlinewidth\": 0, \"ticks\": \"\"}}, \"type\": \"scattergl\"}], \"scattermapbox\": [{\"marker\": {\"colorbar\": {\"outlinewidth\": 0, \"ticks\": \"\"}}, \"type\": \"scattermapbox\"}], \"scatterpolar\": [{\"marker\": {\"colorbar\": {\"outlinewidth\": 0, \"ticks\": \"\"}}, \"type\": \"scatterpolar\"}], \"scatterpolargl\": [{\"marker\": {\"colorbar\": {\"outlinewidth\": 0, \"ticks\": \"\"}}, \"type\": \"scatterpolargl\"}], \"scatterternary\": [{\"marker\": {\"colorbar\": {\"outlinewidth\": 0, \"ticks\": \"\"}}, \"type\": \"scatterternary\"}], \"surface\": [{\"colorbar\": {\"outlinewidth\": 0, \"ticks\": \"\"}, \"colorscale\": [[0.0, \"#0d0887\"], [0.1111111111111111, \"#46039f\"], [0.2222222222222222, \"#7201a8\"], [0.3333333333333333, \"#9c179e\"], [0.4444444444444444, \"#bd3786\"], [0.5555555555555556, \"#d8576b\"], [0.6666666666666666, \"#ed7953\"], [0.7777777777777778, \"#fb9f3a\"], [0.8888888888888888, \"#fdca26\"], [1.0, \"#f0f921\"]], \"type\": \"surface\"}], \"table\": [{\"cells\": {\"fill\": {\"color\": \"#EBF0F8\"}, \"line\": {\"color\": \"white\"}}, \"header\": {\"fill\": {\"color\": \"#C8D4E3\"}, \"line\": {\"color\": \"white\"}}, \"type\": \"table\"}]}, \"layout\": {\"annotationdefaults\": {\"arrowcolor\": \"#2a3f5f\", \"arrowhead\": 0, \"arrowwidth\": 1}, \"coloraxis\": {\"colorbar\": {\"outlinewidth\": 0, \"ticks\": \"\"}}, \"colorscale\": {\"diverging\": [[0, \"#8e0152\"], [0.1, \"#c51b7d\"], [0.2, \"#de77ae\"], [0.3, \"#f1b6da\"], [0.4, \"#fde0ef\"], [0.5, \"#f7f7f7\"], [0.6, \"#e6f5d0\"], [0.7, \"#b8e186\"], [0.8, \"#7fbc41\"], [0.9, \"#4d9221\"], [1, \"#276419\"]], \"sequential\": [[0.0, \"#0d0887\"], [0.1111111111111111, \"#46039f\"], [0.2222222222222222, \"#7201a8\"], [0.3333333333333333, \"#9c179e\"], [0.4444444444444444, \"#bd3786\"], [0.5555555555555556, \"#d8576b\"], [0.6666666666666666, \"#ed7953\"], [0.7777777777777778, \"#fb9f3a\"], [0.8888888888888888, \"#fdca26\"], [1.0, \"#f0f921\"]], \"sequentialminus\": [[0.0, \"#0d0887\"], [0.1111111111111111, \"#46039f\"], [0.2222222222222222, \"#7201a8\"], [0.3333333333333333, \"#9c179e\"], [0.4444444444444444, \"#bd3786\"], [0.5555555555555556, \"#d8576b\"], [0.6666666666666666, \"#ed7953\"], [0.7777777777777778, \"#fb9f3a\"], [0.8888888888888888, \"#fdca26\"], [1.0, \"#f0f921\"]]}, \"colorway\": [\"#636efa\", \"#EF553B\", \"#00cc96\", \"#ab63fa\", \"#FFA15A\", \"#19d3f3\", \"#FF6692\", \"#B6E880\", \"#FF97FF\", \"#FECB52\"], \"font\": {\"color\": \"#2a3f5f\"}, \"geo\": {\"bgcolor\": \"white\", \"lakecolor\": \"white\", \"landcolor\": \"#E5ECF6\", \"showlakes\": true, \"showland\": true, \"subunitcolor\": \"white\"}, \"hoverlabel\": {\"align\": \"left\"}, \"hovermode\": \"closest\", \"mapbox\": {\"style\": \"light\"}, \"paper_bgcolor\": \"white\", \"plot_bgcolor\": \"#E5ECF6\", \"polar\": {\"angularaxis\": {\"gridcolor\": \"white\", \"linecolor\": \"white\", \"ticks\": \"\"}, \"bgcolor\": \"#E5ECF6\", \"radialaxis\": {\"gridcolor\": \"white\", \"linecolor\": \"white\", \"ticks\": \"\"}}, \"scene\": {\"xaxis\": {\"backgroundcolor\": \"#E5ECF6\", \"gridcolor\": \"white\", \"gridwidth\": 2, \"linecolor\": \"white\", \"showbackground\": true, \"ticks\": \"\", \"zerolinecolor\": \"white\"}, \"yaxis\": {\"backgroundcolor\": \"#E5ECF6\", \"gridcolor\": \"white\", \"gridwidth\": 2, \"linecolor\": \"white\", \"showbackground\": true, \"ticks\": \"\", \"zerolinecolor\": \"white\"}, \"zaxis\": {\"backgroundcolor\": \"#E5ECF6\", \"gridcolor\": \"white\", \"gridwidth\": 2, \"linecolor\": \"white\", \"showbackground\": true, \"ticks\": \"\", \"zerolinecolor\": \"white\"}}, \"shapedefaults\": {\"line\": {\"color\": \"#2a3f5f\"}}, \"ternary\": {\"aaxis\": {\"gridcolor\": \"white\", \"linecolor\": \"white\", \"ticks\": \"\"}, \"baxis\": {\"gridcolor\": \"white\", \"linecolor\": \"white\", \"ticks\": \"\"}, \"bgcolor\": \"#E5ECF6\", \"caxis\": {\"gridcolor\": \"white\", \"linecolor\": \"white\", \"ticks\": \"\"}}, \"title\": {\"x\": 0.05}, \"xaxis\": {\"automargin\": true, \"gridcolor\": \"white\", \"linecolor\": \"white\", \"ticks\": \"\", \"title\": {\"standoff\": 15}, \"zerolinecolor\": \"white\", \"zerolinewidth\": 2}, \"yaxis\": {\"automargin\": true, \"gridcolor\": \"white\", \"linecolor\": \"white\", \"ticks\": \"\", \"title\": {\"standoff\": 15}, \"zerolinecolor\": \"white\", \"zerolinewidth\": 2}}}, \"title\": {\"font\": {\"size\": 30}, \"text\": \"Winning toss implies winning macthes?\"}},\n",
              "                        {\"responsive\": true}\n",
              "                    ).then(function(){\n",
              "                            \n",
              "var gd = document.getElementById('563ab6b6-7062-4154-90e2-4eace683b78e');\n",
              "var x = new MutationObserver(function (mutations, observer) {{\n",
              "        var display = window.getComputedStyle(gd).display;\n",
              "        if (!display || display === 'none') {{\n",
              "            console.log([gd, 'removed!']);\n",
              "            Plotly.purge(gd);\n",
              "            observer.disconnect();\n",
              "        }}\n",
              "}});\n",
              "\n",
              "// Listen for the removal of the full notebook cells\n",
              "var notebookContainer = gd.closest('#notebook-container');\n",
              "if (notebookContainer) {{\n",
              "    x.observe(notebookContainer, {childList: true});\n",
              "}}\n",
              "\n",
              "// Listen for the clearing of the current output cell\n",
              "var outputEl = gd.closest('.output');\n",
              "if (outputEl) {{\n",
              "    x.observe(outputEl, {childList: true});\n",
              "}}\n",
              "\n",
              "                        })\n",
              "                };\n",
              "                \n",
              "            </script>\n",
              "        </div>\n",
              "</body>\n",
              "</html>"
            ]
          },
          "metadata": {}
        }
      ]
    },
    {
      "cell_type": "markdown",
      "metadata": {
        "papermill": {
          "duration": 0.138096,
          "end_time": "2021-06-04T22:21:35.275501",
          "exception": false,
          "start_time": "2021-06-04T22:21:35.137405",
          "status": "completed"
        },
        "tags": [],
        "id": "ZUKgykLji33C"
      },
      "source": [
        "<div class=\"alert alert-block alert-info\"><p style='color:black;'> 📌Though winning toss gives you an advantage <b>but it doesn't significantly implies that winning the toss helps in winning the game.</b>\n",
        "</p>\n",
        "</div>"
      ]
    },
    {
      "cell_type": "markdown",
      "metadata": {
        "papermill": {
          "duration": 0.13967,
          "end_time": "2021-06-04T22:21:35.835589",
          "exception": false,
          "start_time": "2021-06-04T22:21:35.695919",
          "status": "completed"
        },
        "tags": [],
        "id": "V-FaTi-li33C"
      },
      "source": [
        "<a id=\"9\">\n",
        "<h1 style = \"font-family: Snell Roundhand;font-weight: 500;font-size: 30px; font-style: normal; background-color: #FFFB30; color :black;\"> 9) Match win result:</h1>\n"
      ]
    },
    {
      "cell_type": "code",
      "metadata": {
        "_kg_hide-input": true,
        "_kg_hide-output": true,
        "execution": {
          "iopub.execute_input": "2021-06-04T22:21:36.123299Z",
          "iopub.status.busy": "2021-06-04T22:21:36.122615Z",
          "iopub.status.idle": "2021-06-04T22:21:36.126466Z",
          "shell.execute_reply": "2021-06-04T22:21:36.125897Z",
          "shell.execute_reply.started": "2021-06-04T22:16:38.356952Z"
        },
        "papermill": {
          "duration": 0.151926,
          "end_time": "2021-06-04T22:21:36.126650",
          "exception": false,
          "start_time": "2021-06-04T22:21:35.974724",
          "status": "completed"
        },
        "tags": [],
        "colab": {
          "base_uri": "https://localhost:8080/"
        },
        "id": "fysj5uX9i33C",
        "outputId": "0e8bfa03-9a57-43bd-971b-56af4bbfbbfd"
      },
      "source": [
        "match_data['result'].value_counts()"
      ],
      "execution_count": 24,
      "outputs": [
        {
          "output_type": "execute_result",
          "data": {
            "text/plain": [
              "wickets    435\n",
              "runs       364\n",
              "tie         13\n",
              "Name: result, dtype: int64"
            ]
          },
          "metadata": {},
          "execution_count": 24
        }
      ]
    },
    {
      "cell_type": "markdown",
      "metadata": {
        "papermill": {
          "duration": 0.13793,
          "end_time": "2021-06-04T22:21:36.404225",
          "exception": false,
          "start_time": "2021-06-04T22:21:36.266295",
          "status": "completed"
        },
        "tags": [],
        "id": "m5sTvzhBi33D"
      },
      "source": [
        "<div class=\"alert alert-block alert-info\"><p style='color:black;'> 📌We can see that <b>435 out of 816 matches was won by team batting second</b> while 364 matches was won by team batting first.\n",
        "</p>\n",
        "</div>\n",
        "\n"
      ]
    },
    {
      "cell_type": "markdown",
      "metadata": {
        "id": "8jfb-_92rlvp"
      },
      "source": [
        "<small><a href='#0'>Go to top</a></small>  "
      ]
    },
    {
      "cell_type": "markdown",
      "metadata": {
        "papermill": {
          "duration": 0.139431,
          "end_time": "2021-06-04T22:21:36.963190",
          "exception": false,
          "start_time": "2021-06-04T22:21:36.823759",
          "status": "completed"
        },
        "tags": [],
        "id": "dPQY5SYVi33D"
      },
      "source": [
        "<a id=\"10\">\n",
        "<h1 style = \"font-family: Snell Roundhand;font-weight: 500;font-size: 30px; font-style: normal; background-color: #FFFB30; color :black;\"> 10) Number of times team have won the tournament :</h1>"
      ]
    },
    {
      "cell_type": "code",
      "metadata": {
        "_kg_hide-input": true,
        "execution": {
          "iopub.execute_input": "2021-06-04T22:21:37.250370Z",
          "iopub.status.busy": "2021-06-04T22:21:37.249626Z",
          "iopub.status.idle": "2021-06-04T22:21:37.265931Z",
          "shell.execute_reply": "2021-06-04T22:21:37.265201Z",
          "shell.execute_reply.started": "2021-06-04T22:16:38.369669Z"
        },
        "papermill": {
          "duration": 0.161131,
          "end_time": "2021-06-04T22:21:37.266086",
          "exception": false,
          "start_time": "2021-06-04T22:21:37.104955",
          "status": "completed"
        },
        "tags": [],
        "id": "M-zjhag1i33D"
      },
      "source": [
        "winning_teams = match_data[['Season','winner']]\n",
        "\n",
        "#dictionaries to get winners to each season\n",
        "winners_team = {}\n",
        "for i in sorted(winning_teams.Season.unique()):\n",
        "    winners_team[i] = winning_teams[winning_teams.Season == i]['winner'].tail(1).values[0]\n",
        "    \n",
        "winners_of_IPL = pd.Series(winners_team)\n",
        "winners_of_IPL = pd.DataFrame(winners_of_IPL, columns=['team'])"
      ],
      "execution_count": 25,
      "outputs": []
    },
    {
      "cell_type": "code",
      "metadata": {
        "_kg_hide-input": true,
        "_kg_hide-output": true,
        "execution": {
          "iopub.execute_input": "2021-06-04T22:21:37.559561Z",
          "iopub.status.busy": "2021-06-04T22:21:37.558845Z",
          "iopub.status.idle": "2021-06-04T22:21:37.563137Z",
          "shell.execute_reply": "2021-06-04T22:21:37.562633Z",
          "shell.execute_reply.started": "2021-06-04T22:16:38.395477Z"
        },
        "papermill": {
          "duration": 0.151993,
          "end_time": "2021-06-04T22:21:37.563288",
          "exception": false,
          "start_time": "2021-06-04T22:21:37.411295",
          "status": "completed"
        },
        "tags": [],
        "colab": {
          "base_uri": "https://localhost:8080/"
        },
        "id": "1ZZ0BR5qi33D",
        "outputId": "22abf92e-db2c-4197-f568-9f0ffcfc27e9"
      },
      "source": [
        "winners_of_IPL.value_counts().index"
      ],
      "execution_count": 26,
      "outputs": [
        {
          "output_type": "execute_result",
          "data": {
            "text/plain": [
              "MultiIndex([(       'Mumbai Indians',),\n",
              "            (  'Chennai Super Kings',),\n",
              "            ('Kolkata Knight Riders',),\n",
              "            (  'Sunrisers Hyderabad',),\n",
              "            (     'Rajasthan Royals',),\n",
              "            (      'Deccan Chargers',)],\n",
              "           names=['team'])"
            ]
          },
          "metadata": {},
          "execution_count": 26
        }
      ]
    },
    {
      "cell_type": "code",
      "metadata": {
        "_kg_hide-input": true,
        "execution": {
          "iopub.execute_input": "2021-06-04T22:21:37.874926Z",
          "iopub.status.busy": "2021-06-04T22:21:37.869778Z",
          "iopub.status.idle": "2021-06-04T22:21:37.943434Z",
          "shell.execute_reply": "2021-06-04T22:21:37.942781Z",
          "shell.execute_reply.started": "2021-06-04T22:16:38.416515Z"
        },
        "papermill": {
          "duration": 0.239701,
          "end_time": "2021-06-04T22:21:37.943601",
          "exception": false,
          "start_time": "2021-06-04T22:21:37.703900",
          "status": "completed"
        },
        "tags": [],
        "colab": {
          "base_uri": "https://localhost:8080/",
          "height": 542
        },
        "id": "RAxUku8Bi33E",
        "outputId": "2911bc10-de67-49a5-d7d4-25c6b3a3db62"
      },
      "source": [
        "colors = ['turquoise',] * 6\n",
        "colors[0] = 'crimson'\n",
        "fig=px.bar( y=winners_of_IPL['team'].value_counts(),x=winners_of_IPL['team'].value_counts().index,labels=dict(x=\"Team Name\",y=\"Count\"),)\n",
        "fig.update_layout(title=\"Winners of IPL\",\n",
        "                  titlefont={'size': 26},template='simple_white'     \n",
        "                  )\n",
        "fig.update_traces(marker_line_color='black',\n",
        "                  marker_line_width=2.5, opacity=1,marker_color=colors)\n",
        "fig.show()"
      ],
      "execution_count": 27,
      "outputs": [
        {
          "output_type": "display_data",
          "data": {
            "text/html": [
              "<html>\n",
              "<head><meta charset=\"utf-8\" /></head>\n",
              "<body>\n",
              "    <div>\n",
              "            <script src=\"https://cdnjs.cloudflare.com/ajax/libs/mathjax/2.7.5/MathJax.js?config=TeX-AMS-MML_SVG\"></script><script type=\"text/javascript\">if (window.MathJax) {MathJax.Hub.Config({SVG: {font: \"STIX-Web\"}});}</script>\n",
              "                <script type=\"text/javascript\">window.PlotlyConfig = {MathJaxConfig: 'local'};</script>\n",
              "        <script src=\"https://cdn.plot.ly/plotly-latest.min.js\"></script>    \n",
              "            <div id=\"99632f3a-bc99-4578-b877-18a4b86dc6c0\" class=\"plotly-graph-div\" style=\"height:525px; width:100%;\"></div>\n",
              "            <script type=\"text/javascript\">\n",
              "                \n",
              "                    window.PLOTLYENV=window.PLOTLYENV || {};\n",
              "                    \n",
              "                if (document.getElementById(\"99632f3a-bc99-4578-b877-18a4b86dc6c0\")) {\n",
              "                    Plotly.newPlot(\n",
              "                        '99632f3a-bc99-4578-b877-18a4b86dc6c0',\n",
              "                        [{\"alignmentgroup\": \"True\", \"hoverlabel\": {\"namelength\": 0}, \"hovertemplate\": \"Team Name=%{x}<br>Count=%{y}\", \"legendgroup\": \"\", \"marker\": {\"color\": [\"crimson\", \"turquoise\", \"turquoise\", \"turquoise\", \"turquoise\", \"turquoise\"], \"line\": {\"color\": \"black\", \"width\": 2.5}}, \"name\": \"\", \"offsetgroup\": \"\", \"opacity\": 1, \"orientation\": \"v\", \"showlegend\": false, \"textposition\": \"auto\", \"type\": \"bar\", \"x\": [\"Mumbai Indians\", \"Chennai Super Kings\", \"Kolkata Knight Riders\", \"Deccan Chargers\", \"Rajasthan Royals\", \"Sunrisers Hyderabad\"], \"xaxis\": \"x\", \"y\": [5, 3, 2, 1, 1, 1], \"yaxis\": \"y\"}],\n",
              "                        {\"barmode\": \"relative\", \"legend\": {\"tracegroupgap\": 0}, \"margin\": {\"t\": 60}, \"template\": {\"data\": {\"bar\": [{\"error_x\": {\"color\": \"rgb(36,36,36)\"}, \"error_y\": {\"color\": \"rgb(36,36,36)\"}, \"marker\": {\"line\": {\"color\": \"white\", \"width\": 0.5}}, \"type\": \"bar\"}], \"barpolar\": [{\"marker\": {\"line\": {\"color\": \"white\", \"width\": 0.5}}, \"type\": \"barpolar\"}], \"carpet\": [{\"aaxis\": {\"endlinecolor\": \"rgb(36,36,36)\", \"gridcolor\": \"white\", \"linecolor\": \"white\", \"minorgridcolor\": \"white\", \"startlinecolor\": \"rgb(36,36,36)\"}, \"baxis\": {\"endlinecolor\": \"rgb(36,36,36)\", \"gridcolor\": \"white\", \"linecolor\": \"white\", \"minorgridcolor\": \"white\", \"startlinecolor\": \"rgb(36,36,36)\"}, \"type\": \"carpet\"}], \"choropleth\": [{\"colorbar\": {\"outlinewidth\": 10, \"tickcolor\": \"rgb(36,36,36)\", \"ticklen\": 8, \"ticks\": \"outside\", \"tickwidth\": 2}, \"type\": \"choropleth\"}], \"contour\": [{\"colorbar\": {\"outlinewidth\": 10, \"tickcolor\": \"rgb(36,36,36)\", \"ticklen\": 8, \"ticks\": \"outside\", \"tickwidth\": 2}, \"colorscale\": [[0.0, \"#440154\"], [0.1111111111111111, \"#482878\"], [0.2222222222222222, \"#3e4989\"], [0.3333333333333333, \"#31688e\"], [0.4444444444444444, \"#26828e\"], [0.5555555555555556, \"#1f9e89\"], [0.6666666666666666, \"#35b779\"], [0.7777777777777778, \"#6ece58\"], [0.8888888888888888, \"#b5de2b\"], [1.0, \"#fde725\"]], \"type\": \"contour\"}], \"contourcarpet\": [{\"colorbar\": {\"outlinewidth\": 10, \"tickcolor\": \"rgb(36,36,36)\", \"ticklen\": 8, \"ticks\": \"outside\", \"tickwidth\": 2}, \"type\": \"contourcarpet\"}], \"heatmap\": [{\"colorbar\": {\"outlinewidth\": 10, \"tickcolor\": \"rgb(36,36,36)\", \"ticklen\": 8, \"ticks\": \"outside\", \"tickwidth\": 2}, \"colorscale\": [[0.0, \"#440154\"], [0.1111111111111111, \"#482878\"], [0.2222222222222222, \"#3e4989\"], [0.3333333333333333, \"#31688e\"], [0.4444444444444444, \"#26828e\"], [0.5555555555555556, \"#1f9e89\"], [0.6666666666666666, \"#35b779\"], [0.7777777777777778, \"#6ece58\"], [0.8888888888888888, \"#b5de2b\"], [1.0, \"#fde725\"]], \"type\": \"heatmap\"}], \"heatmapgl\": [{\"colorbar\": {\"outlinewidth\": 10, \"tickcolor\": \"rgb(36,36,36)\", \"ticklen\": 8, \"ticks\": \"outside\", \"tickwidth\": 2}, \"colorscale\": [[0.0, \"#440154\"], [0.1111111111111111, \"#482878\"], [0.2222222222222222, \"#3e4989\"], [0.3333333333333333, \"#31688e\"], [0.4444444444444444, \"#26828e\"], [0.5555555555555556, \"#1f9e89\"], [0.6666666666666666, \"#35b779\"], [0.7777777777777778, \"#6ece58\"], [0.8888888888888888, \"#b5de2b\"], [1.0, \"#fde725\"]], \"type\": \"heatmapgl\"}], \"histogram\": [{\"marker\": {\"line\": {\"color\": \"white\", \"width\": 0.6}}, \"type\": \"histogram\"}], \"histogram2d\": [{\"colorbar\": {\"outlinewidth\": 10, \"tickcolor\": \"rgb(36,36,36)\", \"ticklen\": 8, \"ticks\": \"outside\", \"tickwidth\": 2}, \"colorscale\": [[0.0, \"#440154\"], [0.1111111111111111, \"#482878\"], [0.2222222222222222, \"#3e4989\"], [0.3333333333333333, \"#31688e\"], [0.4444444444444444, \"#26828e\"], [0.5555555555555556, \"#1f9e89\"], [0.6666666666666666, \"#35b779\"], [0.7777777777777778, \"#6ece58\"], [0.8888888888888888, \"#b5de2b\"], [1.0, \"#fde725\"]], \"type\": \"histogram2d\"}], \"histogram2dcontour\": [{\"colorbar\": {\"outlinewidth\": 10, \"tickcolor\": \"rgb(36,36,36)\", \"ticklen\": 8, \"ticks\": \"outside\", \"tickwidth\": 2}, \"colorscale\": [[0.0, \"#440154\"], [0.1111111111111111, \"#482878\"], [0.2222222222222222, \"#3e4989\"], [0.3333333333333333, \"#31688e\"], [0.4444444444444444, \"#26828e\"], [0.5555555555555556, \"#1f9e89\"], [0.6666666666666666, \"#35b779\"], [0.7777777777777778, \"#6ece58\"], [0.8888888888888888, \"#b5de2b\"], [1.0, \"#fde725\"]], \"type\": \"histogram2dcontour\"}], \"mesh3d\": [{\"colorbar\": {\"outlinewidth\": 10, \"tickcolor\": \"rgb(36,36,36)\", \"ticklen\": 8, \"ticks\": \"outside\", \"tickwidth\": 2}, \"type\": \"mesh3d\"}], \"parcoords\": [{\"line\": {\"colorbar\": {\"outlinewidth\": 10, \"tickcolor\": \"rgb(36,36,36)\", \"ticklen\": 8, \"ticks\": \"outside\", \"tickwidth\": 2}}, \"type\": \"parcoords\"}], \"pie\": [{\"automargin\": true, \"type\": \"pie\"}], \"scatter\": [{\"marker\": {\"colorbar\": {\"outlinewidth\": 10, \"tickcolor\": \"rgb(36,36,36)\", \"ticklen\": 8, \"ticks\": \"outside\", \"tickwidth\": 2}}, \"type\": \"scatter\"}], \"scatter3d\": [{\"line\": {\"colorbar\": {\"outlinewidth\": 10, \"tickcolor\": \"rgb(36,36,36)\", \"ticklen\": 8, \"ticks\": \"outside\", \"tickwidth\": 2}}, \"marker\": {\"colorbar\": {\"outlinewidth\": 10, \"tickcolor\": \"rgb(36,36,36)\", \"ticklen\": 8, \"ticks\": \"outside\", \"tickwidth\": 2}}, \"type\": \"scatter3d\"}], \"scattercarpet\": [{\"marker\": {\"colorbar\": {\"outlinewidth\": 10, \"tickcolor\": \"rgb(36,36,36)\", \"ticklen\": 8, \"ticks\": \"outside\", \"tickwidth\": 2}}, \"type\": \"scattercarpet\"}], \"scattergeo\": [{\"marker\": {\"colorbar\": {\"outlinewidth\": 10, \"tickcolor\": \"rgb(36,36,36)\", \"ticklen\": 8, \"ticks\": \"outside\", \"tickwidth\": 2}}, \"type\": \"scattergeo\"}], \"scattergl\": [{\"marker\": {\"colorbar\": {\"outlinewidth\": 10, \"tickcolor\": \"rgb(36,36,36)\", \"ticklen\": 8, \"ticks\": \"outside\", \"tickwidth\": 2}}, \"type\": \"scattergl\"}], \"scattermapbox\": [{\"marker\": {\"colorbar\": {\"outlinewidth\": 10, \"tickcolor\": \"rgb(36,36,36)\", \"ticklen\": 8, \"ticks\": \"outside\", \"tickwidth\": 2}}, \"type\": \"scattermapbox\"}], \"scatterpolar\": [{\"marker\": {\"colorbar\": {\"outlinewidth\": 10, \"tickcolor\": \"rgb(36,36,36)\", \"ticklen\": 8, \"ticks\": \"outside\", \"tickwidth\": 2}}, \"type\": \"scatterpolar\"}], \"scatterpolargl\": [{\"marker\": {\"colorbar\": {\"outlinewidth\": 10, \"tickcolor\": \"rgb(36,36,36)\", \"ticklen\": 8, \"ticks\": \"outside\", \"tickwidth\": 2}}, \"type\": \"scatterpolargl\"}], \"scatterternary\": [{\"marker\": {\"colorbar\": {\"outlinewidth\": 10, \"tickcolor\": \"rgb(36,36,36)\", \"ticklen\": 8, \"ticks\": \"outside\", \"tickwidth\": 2}}, \"type\": \"scatterternary\"}], \"surface\": [{\"colorbar\": {\"outlinewidth\": 10, \"tickcolor\": \"rgb(36,36,36)\", \"ticklen\": 8, \"ticks\": \"outside\", \"tickwidth\": 2}, \"colorscale\": [[0.0, \"#440154\"], [0.1111111111111111, \"#482878\"], [0.2222222222222222, \"#3e4989\"], [0.3333333333333333, \"#31688e\"], [0.4444444444444444, \"#26828e\"], [0.5555555555555556, \"#1f9e89\"], [0.6666666666666666, \"#35b779\"], [0.7777777777777778, \"#6ece58\"], [0.8888888888888888, \"#b5de2b\"], [1.0, \"#fde725\"]], \"type\": \"surface\"}], \"table\": [{\"cells\": {\"fill\": {\"color\": \"rgb(237,237,237)\"}, \"line\": {\"color\": \"white\"}}, \"header\": {\"fill\": {\"color\": \"rgb(217,217,217)\"}, \"line\": {\"color\": \"white\"}}, \"type\": \"table\"}]}, \"layout\": {\"annotationdefaults\": {\"arrowhead\": 0, \"arrowwidth\": 1}, \"coloraxis\": {\"colorbar\": {\"outlinewidth\": 10, \"tickcolor\": \"rgb(36,36,36)\", \"ticklen\": 8, \"ticks\": \"outside\", \"tickwidth\": 2}}, \"colorscale\": {\"diverging\": [[0.0, \"rgb(103,0,31)\"], [0.1, \"rgb(178,24,43)\"], [0.2, \"rgb(214,96,77)\"], [0.3, \"rgb(244,165,130)\"], [0.4, \"rgb(253,219,199)\"], [0.5, \"rgb(247,247,247)\"], [0.6, \"rgb(209,229,240)\"], [0.7, \"rgb(146,197,222)\"], [0.8, \"rgb(67,147,195)\"], [0.9, \"rgb(33,102,172)\"], [1.0, \"rgb(5,48,97)\"]], \"sequential\": [[0.0, \"#440154\"], [0.1111111111111111, \"#482878\"], [0.2222222222222222, \"#3e4989\"], [0.3333333333333333, \"#31688e\"], [0.4444444444444444, \"#26828e\"], [0.5555555555555556, \"#1f9e89\"], [0.6666666666666666, \"#35b779\"], [0.7777777777777778, \"#6ece58\"], [0.8888888888888888, \"#b5de2b\"], [1.0, \"#fde725\"]], \"sequentialminus\": [[0.0, \"#440154\"], [0.1111111111111111, \"#482878\"], [0.2222222222222222, \"#3e4989\"], [0.3333333333333333, \"#31688e\"], [0.4444444444444444, \"#26828e\"], [0.5555555555555556, \"#1f9e89\"], [0.6666666666666666, \"#35b779\"], [0.7777777777777778, \"#6ece58\"], [0.8888888888888888, \"#b5de2b\"], [1.0, \"#fde725\"]]}, \"colorway\": [\"#1F77B4\", \"#FF7F0E\", \"#2CA02C\", \"#D62728\", \"#9467BD\", \"#8C564B\", \"#E377C2\", \"#7F7F7F\", \"#BCBD22\", \"#17BECF\"], \"font\": {\"color\": \"rgb(36,36,36)\"}, \"geo\": {\"bgcolor\": \"white\", \"lakecolor\": \"white\", \"landcolor\": \"white\", \"showlakes\": true, \"showland\": true, \"subunitcolor\": \"white\"}, \"hoverlabel\": {\"align\": \"left\"}, \"hovermode\": \"closest\", \"mapbox\": {\"style\": \"light\"}, \"paper_bgcolor\": \"white\", \"plot_bgcolor\": \"white\", \"polar\": {\"angularaxis\": {\"gridcolor\": \"rgb(232,232,232)\", \"linecolor\": \"rgb(36,36,36)\", \"showgrid\": false, \"showline\": true, \"ticks\": \"outside\"}, \"bgcolor\": \"white\", \"radialaxis\": {\"gridcolor\": \"rgb(232,232,232)\", \"linecolor\": \"rgb(36,36,36)\", \"showgrid\": false, \"showline\": true, \"ticks\": \"outside\"}}, \"scene\": {\"xaxis\": {\"backgroundcolor\": \"white\", \"gridcolor\": \"rgb(232,232,232)\", \"gridwidth\": 2, \"linecolor\": \"rgb(36,36,36)\", \"showbackground\": true, \"showgrid\": false, \"showline\": true, \"ticks\": \"outside\", \"zeroline\": false, \"zerolinecolor\": \"rgb(36,36,36)\"}, \"yaxis\": {\"backgroundcolor\": \"white\", \"gridcolor\": \"rgb(232,232,232)\", \"gridwidth\": 2, \"linecolor\": \"rgb(36,36,36)\", \"showbackground\": true, \"showgrid\": false, \"showline\": true, \"ticks\": \"outside\", \"zeroline\": false, \"zerolinecolor\": \"rgb(36,36,36)\"}, \"zaxis\": {\"backgroundcolor\": \"white\", \"gridcolor\": \"rgb(232,232,232)\", \"gridwidth\": 2, \"linecolor\": \"rgb(36,36,36)\", \"showbackground\": true, \"showgrid\": false, \"showline\": true, \"ticks\": \"outside\", \"zeroline\": false, \"zerolinecolor\": \"rgb(36,36,36)\"}}, \"shapedefaults\": {\"fillcolor\": \"black\", \"line\": {\"width\": 0}, \"opacity\": 0.3}, \"ternary\": {\"aaxis\": {\"gridcolor\": \"rgb(232,232,232)\", \"linecolor\": \"rgb(36,36,36)\", \"showgrid\": false, \"showline\": true, \"ticks\": \"outside\"}, \"baxis\": {\"gridcolor\": \"rgb(232,232,232)\", \"linecolor\": \"rgb(36,36,36)\", \"showgrid\": false, \"showline\": true, \"ticks\": \"outside\"}, \"bgcolor\": \"white\", \"caxis\": {\"gridcolor\": \"rgb(232,232,232)\", \"linecolor\": \"rgb(36,36,36)\", \"showgrid\": false, \"showline\": true, \"ticks\": \"outside\"}}, \"title\": {\"x\": 0.05}, \"xaxis\": {\"automargin\": true, \"gridcolor\": \"rgb(232,232,232)\", \"linecolor\": \"rgb(36,36,36)\", \"showgrid\": false, \"showline\": true, \"ticks\": \"outside\", \"title\": {\"standoff\": 15}, \"zeroline\": false, \"zerolinecolor\": \"rgb(36,36,36)\"}, \"yaxis\": {\"automargin\": true, \"gridcolor\": \"rgb(232,232,232)\", \"linecolor\": \"rgb(36,36,36)\", \"showgrid\": false, \"showline\": true, \"ticks\": \"outside\", \"title\": {\"standoff\": 15}, \"zeroline\": false, \"zerolinecolor\": \"rgb(36,36,36)\"}}}, \"title\": {\"font\": {\"size\": 26}, \"text\": \"Winners of IPL\"}, \"xaxis\": {\"anchor\": \"y\", \"domain\": [0.0, 1.0], \"title\": {\"text\": \"Team Name\"}}, \"yaxis\": {\"anchor\": \"x\", \"domain\": [0.0, 1.0], \"title\": {\"text\": \"Count\"}}},\n",
              "                        {\"responsive\": true}\n",
              "                    ).then(function(){\n",
              "                            \n",
              "var gd = document.getElementById('99632f3a-bc99-4578-b877-18a4b86dc6c0');\n",
              "var x = new MutationObserver(function (mutations, observer) {{\n",
              "        var display = window.getComputedStyle(gd).display;\n",
              "        if (!display || display === 'none') {{\n",
              "            console.log([gd, 'removed!']);\n",
              "            Plotly.purge(gd);\n",
              "            observer.disconnect();\n",
              "        }}\n",
              "}});\n",
              "\n",
              "// Listen for the removal of the full notebook cells\n",
              "var notebookContainer = gd.closest('#notebook-container');\n",
              "if (notebookContainer) {{\n",
              "    x.observe(notebookContainer, {childList: true});\n",
              "}}\n",
              "\n",
              "// Listen for the clearing of the current output cell\n",
              "var outputEl = gd.closest('.output');\n",
              "if (outputEl) {{\n",
              "    x.observe(outputEl, {childList: true});\n",
              "}}\n",
              "\n",
              "                        })\n",
              "                };\n",
              "                \n",
              "            </script>\n",
              "        </div>\n",
              "</body>\n",
              "</html>"
            ]
          },
          "metadata": {}
        }
      ]
    },
    {
      "cell_type": "markdown",
      "metadata": {
        "papermill": {
          "duration": 0.139641,
          "end_time": "2021-06-04T22:21:38.225796",
          "exception": false,
          "start_time": "2021-06-04T22:21:38.086155",
          "status": "completed"
        },
        "tags": [],
        "id": "RAnKQGXvi33E"
      },
      "source": [
        "<div class=\"alert alert-block alert-info\"><p style='color:black;'> 📌\n",
        "<b>Mumbai Indians had won the IPL 5 times</b> while Chennai Super Kings had won it 3 times.\n",
        "</p>\n",
        "</div>"
      ]
    },
    {
      "cell_type": "markdown",
      "metadata": {
        "id": "tDIiYSxNrjqC"
      },
      "source": [
        "<small><a href='#0'>Go to top</a></small>  "
      ]
    },
    {
      "cell_type": "markdown",
      "metadata": {
        "papermill": {
          "duration": 0.141353,
          "end_time": "2021-06-04T22:21:38.788380",
          "exception": false,
          "start_time": "2021-06-04T22:21:38.647027",
          "status": "completed"
        },
        "tags": [],
        "id": "nR75624ri33E"
      },
      "source": [
        "<a id=\"11\">\n",
        "<h1 style = \"font-family: Snell Roundhand;font-weight: 500;font-size: 30px; font-style: normal; background-color: #FFFB30; color :black;\"> 11) Total number of matches played by a team :</h1>\n"
      ]
    },
    {
      "cell_type": "code",
      "metadata": {
        "_kg_hide-input": true,
        "_kg_hide-output": true,
        "execution": {
          "iopub.execute_input": "2021-06-04T22:21:39.096694Z",
          "iopub.status.busy": "2021-06-04T22:21:39.083002Z",
          "iopub.status.idle": "2021-06-04T22:21:39.103267Z",
          "shell.execute_reply": "2021-06-04T22:21:39.102645Z",
          "shell.execute_reply.started": "2021-06-04T22:16:38.500926Z"
        },
        "papermill": {
          "duration": 0.175753,
          "end_time": "2021-06-04T22:21:39.103440",
          "exception": false,
          "start_time": "2021-06-04T22:21:38.927687",
          "status": "completed"
        },
        "tags": [],
        "colab": {
          "base_uri": "https://localhost:8080/",
          "height": 361
        },
        "id": "GTkVpOOIi33E",
        "outputId": "9757bc57-529a-4094-aebd-944ab5175af6"
      },
      "source": [
        "matches_played_byteams=pd.concat([match_data['team1'],match_data['team2']],axis=1)\n",
        "teams=(matches_played_byteams['team1'].value_counts()+matches_played_byteams['team2'].value_counts()).reset_index()\n",
        "teams.columns=['Team Name','Total Matches played']\n",
        "teams.sort_values(by=['Total Matches played'],ascending=False).reset_index().drop('index',axis=1).style.background_gradient(cmap='PuBu')"
      ],
      "execution_count": 28,
      "outputs": [
        {
          "output_type": "execute_result",
          "data": {
            "text/html": [
              "<style  type=\"text/css\" >\n",
              "#T_b45effba_1651_11ec_8baf_0242ac1c0002row0_col1{\n",
              "            background-color:  #023858;\n",
              "            color:  #f1f1f1;\n",
              "        }#T_b45effba_1651_11ec_8baf_0242ac1c0002row1_col1{\n",
              "            background-color:  #034369;\n",
              "            color:  #f1f1f1;\n",
              "        }#T_b45effba_1651_11ec_8baf_0242ac1c0002row2_col1{\n",
              "            background-color:  #03476f;\n",
              "            color:  #f1f1f1;\n",
              "        }#T_b45effba_1651_11ec_8baf_0242ac1c0002row3_col1{\n",
              "            background-color:  #034a74;\n",
              "            color:  #f1f1f1;\n",
              "        }#T_b45effba_1651_11ec_8baf_0242ac1c0002row4_col1{\n",
              "            background-color:  #045b8e;\n",
              "            color:  #f1f1f1;\n",
              "        }#T_b45effba_1651_11ec_8baf_0242ac1c0002row5_col1,#T_b45effba_1651_11ec_8baf_0242ac1c0002row6_col1{\n",
              "            background-color:  #056ba7;\n",
              "            color:  #f1f1f1;\n",
              "        }#T_b45effba_1651_11ec_8baf_0242ac1c0002row7_col1{\n",
              "            background-color:  #4c99c5;\n",
              "            color:  #000000;\n",
              "        }#T_b45effba_1651_11ec_8baf_0242ac1c0002row8_col1{\n",
              "            background-color:  #b8c6e0;\n",
              "            color:  #000000;\n",
              "        }#T_b45effba_1651_11ec_8baf_0242ac1c0002row9_col1{\n",
              "            background-color:  #e2dfee;\n",
              "            color:  #000000;\n",
              "        }#T_b45effba_1651_11ec_8baf_0242ac1c0002row10_col1{\n",
              "            background-color:  #f0eaf4;\n",
              "            color:  #000000;\n",
              "        }#T_b45effba_1651_11ec_8baf_0242ac1c0002row11_col1{\n",
              "            background-color:  #f2ecf5;\n",
              "            color:  #000000;\n",
              "        }#T_b45effba_1651_11ec_8baf_0242ac1c0002row12_col1{\n",
              "            background-color:  #fef6fa;\n",
              "            color:  #000000;\n",
              "        }#T_b45effba_1651_11ec_8baf_0242ac1c0002row13_col1,#T_b45effba_1651_11ec_8baf_0242ac1c0002row14_col1{\n",
              "            background-color:  #fff7fb;\n",
              "            color:  #000000;\n",
              "        }</style><table id=\"T_b45effba_1651_11ec_8baf_0242ac1c0002\" ><thead>    <tr>        <th class=\"blank level0\" ></th>        <th class=\"col_heading level0 col0\" >Team Name</th>        <th class=\"col_heading level0 col1\" >Total Matches played</th>    </tr></thead><tbody>\n",
              "                <tr>\n",
              "                        <th id=\"T_b45effba_1651_11ec_8baf_0242ac1c0002level0_row0\" class=\"row_heading level0 row0\" >0</th>\n",
              "                        <td id=\"T_b45effba_1651_11ec_8baf_0242ac1c0002row0_col0\" class=\"data row0 col0\" >Mumbai Indians</td>\n",
              "                        <td id=\"T_b45effba_1651_11ec_8baf_0242ac1c0002row0_col1\" class=\"data row0 col1\" >203</td>\n",
              "            </tr>\n",
              "            <tr>\n",
              "                        <th id=\"T_b45effba_1651_11ec_8baf_0242ac1c0002level0_row1\" class=\"row_heading level0 row1\" >1</th>\n",
              "                        <td id=\"T_b45effba_1651_11ec_8baf_0242ac1c0002row1_col0\" class=\"data row1 col0\" >Royal Challengers Bangalore</td>\n",
              "                        <td id=\"T_b45effba_1651_11ec_8baf_0242ac1c0002row1_col1\" class=\"data row1 col1\" >195</td>\n",
              "            </tr>\n",
              "            <tr>\n",
              "                        <th id=\"T_b45effba_1651_11ec_8baf_0242ac1c0002level0_row2\" class=\"row_heading level0 row2\" >2</th>\n",
              "                        <td id=\"T_b45effba_1651_11ec_8baf_0242ac1c0002row2_col0\" class=\"data row2 col0\" >Kolkata Knight Riders</td>\n",
              "                        <td id=\"T_b45effba_1651_11ec_8baf_0242ac1c0002row2_col1\" class=\"data row2 col1\" >192</td>\n",
              "            </tr>\n",
              "            <tr>\n",
              "                        <th id=\"T_b45effba_1651_11ec_8baf_0242ac1c0002level0_row3\" class=\"row_heading level0 row3\" >3</th>\n",
              "                        <td id=\"T_b45effba_1651_11ec_8baf_0242ac1c0002row3_col0\" class=\"data row3 col0\" >Kings XI Punjab</td>\n",
              "                        <td id=\"T_b45effba_1651_11ec_8baf_0242ac1c0002row3_col1\" class=\"data row3 col1\" >190</td>\n",
              "            </tr>\n",
              "            <tr>\n",
              "                        <th id=\"T_b45effba_1651_11ec_8baf_0242ac1c0002level0_row4\" class=\"row_heading level0 row4\" >4</th>\n",
              "                        <td id=\"T_b45effba_1651_11ec_8baf_0242ac1c0002row4_col0\" class=\"data row4 col0\" >Chennai Super Kings</td>\n",
              "                        <td id=\"T_b45effba_1651_11ec_8baf_0242ac1c0002row4_col1\" class=\"data row4 col1\" >178</td>\n",
              "            </tr>\n",
              "            <tr>\n",
              "                        <th id=\"T_b45effba_1651_11ec_8baf_0242ac1c0002level0_row5\" class=\"row_heading level0 row5\" >5</th>\n",
              "                        <td id=\"T_b45effba_1651_11ec_8baf_0242ac1c0002row5_col0\" class=\"data row5 col0\" >Delhi Daredevils</td>\n",
              "                        <td id=\"T_b45effba_1651_11ec_8baf_0242ac1c0002row5_col1\" class=\"data row5 col1\" >161</td>\n",
              "            </tr>\n",
              "            <tr>\n",
              "                        <th id=\"T_b45effba_1651_11ec_8baf_0242ac1c0002level0_row6\" class=\"row_heading level0 row6\" >6</th>\n",
              "                        <td id=\"T_b45effba_1651_11ec_8baf_0242ac1c0002row6_col0\" class=\"data row6 col0\" >Rajasthan Royals</td>\n",
              "                        <td id=\"T_b45effba_1651_11ec_8baf_0242ac1c0002row6_col1\" class=\"data row6 col1\" >161</td>\n",
              "            </tr>\n",
              "            <tr>\n",
              "                        <th id=\"T_b45effba_1651_11ec_8baf_0242ac1c0002level0_row7\" class=\"row_heading level0 row7\" >7</th>\n",
              "                        <td id=\"T_b45effba_1651_11ec_8baf_0242ac1c0002row7_col0\" class=\"data row7 col0\" >Sunrisers Hyderabad</td>\n",
              "                        <td id=\"T_b45effba_1651_11ec_8baf_0242ac1c0002row7_col1\" class=\"data row7 col1\" >124</td>\n",
              "            </tr>\n",
              "            <tr>\n",
              "                        <th id=\"T_b45effba_1651_11ec_8baf_0242ac1c0002level0_row8\" class=\"row_heading level0 row8\" >8</th>\n",
              "                        <td id=\"T_b45effba_1651_11ec_8baf_0242ac1c0002row8_col0\" class=\"data row8 col0\" >Deccan Chargers</td>\n",
              "                        <td id=\"T_b45effba_1651_11ec_8baf_0242ac1c0002row8_col1\" class=\"data row8 col1\" >75</td>\n",
              "            </tr>\n",
              "            <tr>\n",
              "                        <th id=\"T_b45effba_1651_11ec_8baf_0242ac1c0002level0_row9\" class=\"row_heading level0 row9\" >9</th>\n",
              "                        <td id=\"T_b45effba_1651_11ec_8baf_0242ac1c0002row9_col0\" class=\"data row9 col0\" >Pune Warriors</td>\n",
              "                        <td id=\"T_b45effba_1651_11ec_8baf_0242ac1c0002row9_col1\" class=\"data row9 col1\" >46</td>\n",
              "            </tr>\n",
              "            <tr>\n",
              "                        <th id=\"T_b45effba_1651_11ec_8baf_0242ac1c0002level0_row10\" class=\"row_heading level0 row10\" >10</th>\n",
              "                        <td id=\"T_b45effba_1651_11ec_8baf_0242ac1c0002row10_col0\" class=\"data row10 col0\" >Delhi Capitals</td>\n",
              "                        <td id=\"T_b45effba_1651_11ec_8baf_0242ac1c0002row10_col1\" class=\"data row10 col1\" >33</td>\n",
              "            </tr>\n",
              "            <tr>\n",
              "                        <th id=\"T_b45effba_1651_11ec_8baf_0242ac1c0002level0_row11\" class=\"row_heading level0 row11\" >11</th>\n",
              "                        <td id=\"T_b45effba_1651_11ec_8baf_0242ac1c0002row11_col0\" class=\"data row11 col0\" >Gujarat Lions</td>\n",
              "                        <td id=\"T_b45effba_1651_11ec_8baf_0242ac1c0002row11_col1\" class=\"data row11 col1\" >30</td>\n",
              "            </tr>\n",
              "            <tr>\n",
              "                        <th id=\"T_b45effba_1651_11ec_8baf_0242ac1c0002level0_row12\" class=\"row_heading level0 row12\" >12</th>\n",
              "                        <td id=\"T_b45effba_1651_11ec_8baf_0242ac1c0002row12_col0\" class=\"data row12 col0\" >Rising Pune Supergiant</td>\n",
              "                        <td id=\"T_b45effba_1651_11ec_8baf_0242ac1c0002row12_col1\" class=\"data row12 col1\" >16</td>\n",
              "            </tr>\n",
              "            <tr>\n",
              "                        <th id=\"T_b45effba_1651_11ec_8baf_0242ac1c0002level0_row13\" class=\"row_heading level0 row13\" >13</th>\n",
              "                        <td id=\"T_b45effba_1651_11ec_8baf_0242ac1c0002row13_col0\" class=\"data row13 col0\" >Kochi Tuskers Kerala</td>\n",
              "                        <td id=\"T_b45effba_1651_11ec_8baf_0242ac1c0002row13_col1\" class=\"data row13 col1\" >14</td>\n",
              "            </tr>\n",
              "            <tr>\n",
              "                        <th id=\"T_b45effba_1651_11ec_8baf_0242ac1c0002level0_row14\" class=\"row_heading level0 row14\" >14</th>\n",
              "                        <td id=\"T_b45effba_1651_11ec_8baf_0242ac1c0002row14_col0\" class=\"data row14 col0\" >Rising Pune Supergiants</td>\n",
              "                        <td id=\"T_b45effba_1651_11ec_8baf_0242ac1c0002row14_col1\" class=\"data row14 col1\" >14</td>\n",
              "            </tr>\n",
              "    </tbody></table>"
            ],
            "text/plain": [
              "<pandas.io.formats.style.Styler at 0x7feeb9491ad0>"
            ]
          },
          "metadata": {},
          "execution_count": 28
        }
      ]
    },
    {
      "cell_type": "code",
      "metadata": {
        "_kg_hide-input": true,
        "_kg_hide-output": true,
        "execution": {
          "iopub.execute_input": "2021-06-04T22:21:39.419209Z",
          "iopub.status.busy": "2021-06-04T22:21:39.418499Z",
          "iopub.status.idle": "2021-06-04T22:21:39.435434Z",
          "shell.execute_reply": "2021-06-04T22:21:39.435986Z",
          "shell.execute_reply.started": "2021-06-04T22:16:38.526046Z"
        },
        "papermill": {
          "duration": 0.16915,
          "end_time": "2021-06-04T22:21:39.436184",
          "exception": false,
          "start_time": "2021-06-04T22:21:39.267034",
          "status": "completed"
        },
        "tags": [],
        "colab": {
          "base_uri": "https://localhost:8080/",
          "height": 361
        },
        "id": "TXslX2TJi33F",
        "outputId": "98c7252d-bced-4a6e-959c-5cb1c0f2f703"
      },
      "source": [
        "wins=pd.DataFrame(match_data['winner'].value_counts()).reset_index()\n",
        "wins.columns=['Team Name','Wins']\n",
        "wins.style.background_gradient(cmap='PuBu')"
      ],
      "execution_count": 29,
      "outputs": [
        {
          "output_type": "execute_result",
          "data": {
            "text/html": [
              "<style  type=\"text/css\" >\n",
              "#T_b462c1ea_1651_11ec_8baf_0242ac1c0002row0_col1{\n",
              "            background-color:  #023858;\n",
              "            color:  #f1f1f1;\n",
              "        }#T_b462c1ea_1651_11ec_8baf_0242ac1c0002row1_col1{\n",
              "            background-color:  #04598c;\n",
              "            color:  #f1f1f1;\n",
              "        }#T_b462c1ea_1651_11ec_8baf_0242ac1c0002row2_col1{\n",
              "            background-color:  #04649d;\n",
              "            color:  #f1f1f1;\n",
              "        }#T_b462c1ea_1651_11ec_8baf_0242ac1c0002row3_col1{\n",
              "            background-color:  #0570b0;\n",
              "            color:  #f1f1f1;\n",
              "        }#T_b462c1ea_1651_11ec_8baf_0242ac1c0002row4_col1{\n",
              "            background-color:  #1077b4;\n",
              "            color:  #f1f1f1;\n",
              "        }#T_b462c1ea_1651_11ec_8baf_0242ac1c0002row5_col1{\n",
              "            background-color:  #2786bb;\n",
              "            color:  #000000;\n",
              "        }#T_b462c1ea_1651_11ec_8baf_0242ac1c0002row6_col1{\n",
              "            background-color:  #60a1ca;\n",
              "            color:  #000000;\n",
              "        }#T_b462c1ea_1651_11ec_8baf_0242ac1c0002row7_col1{\n",
              "            background-color:  #65a3cb;\n",
              "            color:  #000000;\n",
              "        }#T_b462c1ea_1651_11ec_8baf_0242ac1c0002row8_col1{\n",
              "            background-color:  #d9d8ea;\n",
              "            color:  #000000;\n",
              "        }#T_b462c1ea_1651_11ec_8baf_0242ac1c0002row9_col1{\n",
              "            background-color:  #ede7f2;\n",
              "            color:  #000000;\n",
              "        }#T_b462c1ea_1651_11ec_8baf_0242ac1c0002row10_col1{\n",
              "            background-color:  #f5eef6;\n",
              "            color:  #000000;\n",
              "        }#T_b462c1ea_1651_11ec_8baf_0242ac1c0002row11_col1{\n",
              "            background-color:  #f6eff7;\n",
              "            color:  #000000;\n",
              "        }#T_b462c1ea_1651_11ec_8baf_0242ac1c0002row12_col1{\n",
              "            background-color:  #f8f1f8;\n",
              "            color:  #000000;\n",
              "        }#T_b462c1ea_1651_11ec_8baf_0242ac1c0002row13_col1{\n",
              "            background-color:  #fef6fa;\n",
              "            color:  #000000;\n",
              "        }#T_b462c1ea_1651_11ec_8baf_0242ac1c0002row14_col1{\n",
              "            background-color:  #fff7fb;\n",
              "            color:  #000000;\n",
              "        }</style><table id=\"T_b462c1ea_1651_11ec_8baf_0242ac1c0002\" ><thead>    <tr>        <th class=\"blank level0\" ></th>        <th class=\"col_heading level0 col0\" >Team Name</th>        <th class=\"col_heading level0 col1\" >Wins</th>    </tr></thead><tbody>\n",
              "                <tr>\n",
              "                        <th id=\"T_b462c1ea_1651_11ec_8baf_0242ac1c0002level0_row0\" class=\"row_heading level0 row0\" >0</th>\n",
              "                        <td id=\"T_b462c1ea_1651_11ec_8baf_0242ac1c0002row0_col0\" class=\"data row0 col0\" >Mumbai Indians</td>\n",
              "                        <td id=\"T_b462c1ea_1651_11ec_8baf_0242ac1c0002row0_col1\" class=\"data row0 col1\" >120</td>\n",
              "            </tr>\n",
              "            <tr>\n",
              "                        <th id=\"T_b462c1ea_1651_11ec_8baf_0242ac1c0002level0_row1\" class=\"row_heading level0 row1\" >1</th>\n",
              "                        <td id=\"T_b462c1ea_1651_11ec_8baf_0242ac1c0002row1_col0\" class=\"data row1 col0\" >Chennai Super Kings</td>\n",
              "                        <td id=\"T_b462c1ea_1651_11ec_8baf_0242ac1c0002row1_col1\" class=\"data row1 col1\" >106</td>\n",
              "            </tr>\n",
              "            <tr>\n",
              "                        <th id=\"T_b462c1ea_1651_11ec_8baf_0242ac1c0002level0_row2\" class=\"row_heading level0 row2\" >2</th>\n",
              "                        <td id=\"T_b462c1ea_1651_11ec_8baf_0242ac1c0002row2_col0\" class=\"data row2 col0\" >Kolkata Knight Riders</td>\n",
              "                        <td id=\"T_b462c1ea_1651_11ec_8baf_0242ac1c0002row2_col1\" class=\"data row2 col1\" >99</td>\n",
              "            </tr>\n",
              "            <tr>\n",
              "                        <th id=\"T_b462c1ea_1651_11ec_8baf_0242ac1c0002level0_row3\" class=\"row_heading level0 row3\" >3</th>\n",
              "                        <td id=\"T_b462c1ea_1651_11ec_8baf_0242ac1c0002row3_col0\" class=\"data row3 col0\" >Royal Challengers Bangalore</td>\n",
              "                        <td id=\"T_b462c1ea_1651_11ec_8baf_0242ac1c0002row3_col1\" class=\"data row3 col1\" >91</td>\n",
              "            </tr>\n",
              "            <tr>\n",
              "                        <th id=\"T_b462c1ea_1651_11ec_8baf_0242ac1c0002level0_row4\" class=\"row_heading level0 row4\" >4</th>\n",
              "                        <td id=\"T_b462c1ea_1651_11ec_8baf_0242ac1c0002row4_col0\" class=\"data row4 col0\" >Kings XI Punjab</td>\n",
              "                        <td id=\"T_b462c1ea_1651_11ec_8baf_0242ac1c0002row4_col1\" class=\"data row4 col1\" >88</td>\n",
              "            </tr>\n",
              "            <tr>\n",
              "                        <th id=\"T_b462c1ea_1651_11ec_8baf_0242ac1c0002level0_row5\" class=\"row_heading level0 row5\" >5</th>\n",
              "                        <td id=\"T_b462c1ea_1651_11ec_8baf_0242ac1c0002row5_col0\" class=\"data row5 col0\" >Rajasthan Royals</td>\n",
              "                        <td id=\"T_b462c1ea_1651_11ec_8baf_0242ac1c0002row5_col1\" class=\"data row5 col1\" >81</td>\n",
              "            </tr>\n",
              "            <tr>\n",
              "                        <th id=\"T_b462c1ea_1651_11ec_8baf_0242ac1c0002level0_row6\" class=\"row_heading level0 row6\" >6</th>\n",
              "                        <td id=\"T_b462c1ea_1651_11ec_8baf_0242ac1c0002row6_col0\" class=\"data row6 col0\" >Delhi Daredevils</td>\n",
              "                        <td id=\"T_b462c1ea_1651_11ec_8baf_0242ac1c0002row6_col1\" class=\"data row6 col1\" >67</td>\n",
              "            </tr>\n",
              "            <tr>\n",
              "                        <th id=\"T_b462c1ea_1651_11ec_8baf_0242ac1c0002level0_row7\" class=\"row_heading level0 row7\" >7</th>\n",
              "                        <td id=\"T_b462c1ea_1651_11ec_8baf_0242ac1c0002row7_col0\" class=\"data row7 col0\" >Sunrisers Hyderabad</td>\n",
              "                        <td id=\"T_b462c1ea_1651_11ec_8baf_0242ac1c0002row7_col1\" class=\"data row7 col1\" >66</td>\n",
              "            </tr>\n",
              "            <tr>\n",
              "                        <th id=\"T_b462c1ea_1651_11ec_8baf_0242ac1c0002level0_row8\" class=\"row_heading level0 row8\" >8</th>\n",
              "                        <td id=\"T_b462c1ea_1651_11ec_8baf_0242ac1c0002row8_col0\" class=\"data row8 col0\" >Deccan Chargers</td>\n",
              "                        <td id=\"T_b462c1ea_1651_11ec_8baf_0242ac1c0002row8_col1\" class=\"data row8 col1\" >29</td>\n",
              "            </tr>\n",
              "            <tr>\n",
              "                        <th id=\"T_b462c1ea_1651_11ec_8baf_0242ac1c0002level0_row9\" class=\"row_heading level0 row9\" >9</th>\n",
              "                        <td id=\"T_b462c1ea_1651_11ec_8baf_0242ac1c0002row9_col0\" class=\"data row9 col0\" >Delhi Capitals</td>\n",
              "                        <td id=\"T_b462c1ea_1651_11ec_8baf_0242ac1c0002row9_col1\" class=\"data row9 col1\" >19</td>\n",
              "            </tr>\n",
              "            <tr>\n",
              "                        <th id=\"T_b462c1ea_1651_11ec_8baf_0242ac1c0002level0_row10\" class=\"row_heading level0 row10\" >10</th>\n",
              "                        <td id=\"T_b462c1ea_1651_11ec_8baf_0242ac1c0002row10_col0\" class=\"data row10 col0\" >Gujarat Lions</td>\n",
              "                        <td id=\"T_b462c1ea_1651_11ec_8baf_0242ac1c0002row10_col1\" class=\"data row10 col1\" >13</td>\n",
              "            </tr>\n",
              "            <tr>\n",
              "                        <th id=\"T_b462c1ea_1651_11ec_8baf_0242ac1c0002level0_row11\" class=\"row_heading level0 row11\" >11</th>\n",
              "                        <td id=\"T_b462c1ea_1651_11ec_8baf_0242ac1c0002row11_col0\" class=\"data row11 col0\" >Pune Warriors</td>\n",
              "                        <td id=\"T_b462c1ea_1651_11ec_8baf_0242ac1c0002row11_col1\" class=\"data row11 col1\" >12</td>\n",
              "            </tr>\n",
              "            <tr>\n",
              "                        <th id=\"T_b462c1ea_1651_11ec_8baf_0242ac1c0002level0_row12\" class=\"row_heading level0 row12\" >12</th>\n",
              "                        <td id=\"T_b462c1ea_1651_11ec_8baf_0242ac1c0002row12_col0\" class=\"data row12 col0\" >Rising Pune Supergiant</td>\n",
              "                        <td id=\"T_b462c1ea_1651_11ec_8baf_0242ac1c0002row12_col1\" class=\"data row12 col1\" >10</td>\n",
              "            </tr>\n",
              "            <tr>\n",
              "                        <th id=\"T_b462c1ea_1651_11ec_8baf_0242ac1c0002level0_row13\" class=\"row_heading level0 row13\" >13</th>\n",
              "                        <td id=\"T_b462c1ea_1651_11ec_8baf_0242ac1c0002row13_col0\" class=\"data row13 col0\" >Kochi Tuskers Kerala</td>\n",
              "                        <td id=\"T_b462c1ea_1651_11ec_8baf_0242ac1c0002row13_col1\" class=\"data row13 col1\" >6</td>\n",
              "            </tr>\n",
              "            <tr>\n",
              "                        <th id=\"T_b462c1ea_1651_11ec_8baf_0242ac1c0002level0_row14\" class=\"row_heading level0 row14\" >14</th>\n",
              "                        <td id=\"T_b462c1ea_1651_11ec_8baf_0242ac1c0002row14_col0\" class=\"data row14 col0\" >Rising Pune Supergiants</td>\n",
              "                        <td id=\"T_b462c1ea_1651_11ec_8baf_0242ac1c0002row14_col1\" class=\"data row14 col1\" >5</td>\n",
              "            </tr>\n",
              "    </tbody></table>"
            ],
            "text/plain": [
              "<pandas.io.formats.style.Styler at 0x7feeb7e91e90>"
            ]
          },
          "metadata": {},
          "execution_count": 29
        }
      ]
    },
    {
      "cell_type": "code",
      "metadata": {
        "_kg_hide-input": true,
        "_kg_hide-output": true,
        "execution": {
          "iopub.execute_input": "2021-06-04T22:21:39.731043Z",
          "iopub.status.busy": "2021-06-04T22:21:39.730306Z",
          "iopub.status.idle": "2021-06-04T22:21:39.755360Z",
          "shell.execute_reply": "2021-06-04T22:21:39.755853Z",
          "shell.execute_reply.started": "2021-06-04T22:16:38.553214Z"
        },
        "papermill": {
          "duration": 0.172618,
          "end_time": "2021-06-04T22:21:39.756048",
          "exception": false,
          "start_time": "2021-06-04T22:21:39.583430",
          "status": "completed"
        },
        "tags": [],
        "colab": {
          "base_uri": "https://localhost:8080/",
          "height": 361
        },
        "id": "WbWXE1X9i33F",
        "outputId": "9b3b1c1f-9388-4ac9-e3d5-7e18bc6af677"
      },
      "source": [
        "played=teams.merge(wins,left_on='Team Name',right_on='Team Name',how='inner')\n",
        "played['% Win']=(played['Wins']/played['Total Matches played'])*100\n",
        "played.sort_values(by=['% Win'],ascending=False).reset_index().drop('index',axis=1).style.background_gradient(cmap='PuBu',subset=['% Win'])"
      ],
      "execution_count": 30,
      "outputs": [
        {
          "output_type": "execute_result",
          "data": {
            "text/html": [
              "<style  type=\"text/css\" >\n",
              "#T_b466d320_1651_11ec_8baf_0242ac1c0002row0_col3{\n",
              "            background-color:  #023858;\n",
              "            color:  #f1f1f1;\n",
              "        }#T_b466d320_1651_11ec_8baf_0242ac1c0002row1_col3{\n",
              "            background-color:  #034d79;\n",
              "            color:  #f1f1f1;\n",
              "        }#T_b466d320_1651_11ec_8baf_0242ac1c0002row2_col3{\n",
              "            background-color:  #03517e;\n",
              "            color:  #f1f1f1;\n",
              "        }#T_b466d320_1651_11ec_8baf_0242ac1c0002row3_col3{\n",
              "            background-color:  #045b8f;\n",
              "            color:  #f1f1f1;\n",
              "        }#T_b466d320_1651_11ec_8baf_0242ac1c0002row4_col3{\n",
              "            background-color:  #0771b1;\n",
              "            color:  #f1f1f1;\n",
              "        }#T_b466d320_1651_11ec_8baf_0242ac1c0002row5_col3{\n",
              "            background-color:  #187cb6;\n",
              "            color:  #000000;\n",
              "        }#T_b466d320_1651_11ec_8baf_0242ac1c0002row6_col3{\n",
              "            background-color:  #2685bb;\n",
              "            color:  #000000;\n",
              "        }#T_b466d320_1651_11ec_8baf_0242ac1c0002row7_col3{\n",
              "            background-color:  #549cc7;\n",
              "            color:  #000000;\n",
              "        }#T_b466d320_1651_11ec_8baf_0242ac1c0002row8_col3{\n",
              "            background-color:  #589ec8;\n",
              "            color:  #000000;\n",
              "        }#T_b466d320_1651_11ec_8baf_0242ac1c0002row9_col3{\n",
              "            background-color:  #7eadd1;\n",
              "            color:  #000000;\n",
              "        }#T_b466d320_1651_11ec_8baf_0242ac1c0002row10_col3{\n",
              "            background-color:  #84b0d3;\n",
              "            color:  #000000;\n",
              "        }#T_b466d320_1651_11ec_8baf_0242ac1c0002row11_col3{\n",
              "            background-color:  #91b5d6;\n",
              "            color:  #000000;\n",
              "        }#T_b466d320_1651_11ec_8baf_0242ac1c0002row12_col3{\n",
              "            background-color:  #b0c2de;\n",
              "            color:  #000000;\n",
              "        }#T_b466d320_1651_11ec_8baf_0242ac1c0002row13_col3{\n",
              "            background-color:  #cccfe5;\n",
              "            color:  #000000;\n",
              "        }#T_b466d320_1651_11ec_8baf_0242ac1c0002row14_col3{\n",
              "            background-color:  #fff7fb;\n",
              "            color:  #000000;\n",
              "        }</style><table id=\"T_b466d320_1651_11ec_8baf_0242ac1c0002\" ><thead>    <tr>        <th class=\"blank level0\" ></th>        <th class=\"col_heading level0 col0\" >Team Name</th>        <th class=\"col_heading level0 col1\" >Total Matches played</th>        <th class=\"col_heading level0 col2\" >Wins</th>        <th class=\"col_heading level0 col3\" >% Win</th>    </tr></thead><tbody>\n",
              "                <tr>\n",
              "                        <th id=\"T_b466d320_1651_11ec_8baf_0242ac1c0002level0_row0\" class=\"row_heading level0 row0\" >0</th>\n",
              "                        <td id=\"T_b466d320_1651_11ec_8baf_0242ac1c0002row0_col0\" class=\"data row0 col0\" >Rising Pune Supergiant</td>\n",
              "                        <td id=\"T_b466d320_1651_11ec_8baf_0242ac1c0002row0_col1\" class=\"data row0 col1\" >16</td>\n",
              "                        <td id=\"T_b466d320_1651_11ec_8baf_0242ac1c0002row0_col2\" class=\"data row0 col2\" >10</td>\n",
              "                        <td id=\"T_b466d320_1651_11ec_8baf_0242ac1c0002row0_col3\" class=\"data row0 col3\" >62.500000</td>\n",
              "            </tr>\n",
              "            <tr>\n",
              "                        <th id=\"T_b466d320_1651_11ec_8baf_0242ac1c0002level0_row1\" class=\"row_heading level0 row1\" >1</th>\n",
              "                        <td id=\"T_b466d320_1651_11ec_8baf_0242ac1c0002row1_col0\" class=\"data row1 col0\" >Chennai Super Kings</td>\n",
              "                        <td id=\"T_b466d320_1651_11ec_8baf_0242ac1c0002row1_col1\" class=\"data row1 col1\" >178</td>\n",
              "                        <td id=\"T_b466d320_1651_11ec_8baf_0242ac1c0002row1_col2\" class=\"data row1 col2\" >106</td>\n",
              "                        <td id=\"T_b466d320_1651_11ec_8baf_0242ac1c0002row1_col3\" class=\"data row1 col3\" >59.550562</td>\n",
              "            </tr>\n",
              "            <tr>\n",
              "                        <th id=\"T_b466d320_1651_11ec_8baf_0242ac1c0002level0_row2\" class=\"row_heading level0 row2\" >2</th>\n",
              "                        <td id=\"T_b466d320_1651_11ec_8baf_0242ac1c0002row2_col0\" class=\"data row2 col0\" >Mumbai Indians</td>\n",
              "                        <td id=\"T_b466d320_1651_11ec_8baf_0242ac1c0002row2_col1\" class=\"data row2 col1\" >203</td>\n",
              "                        <td id=\"T_b466d320_1651_11ec_8baf_0242ac1c0002row2_col2\" class=\"data row2 col2\" >120</td>\n",
              "                        <td id=\"T_b466d320_1651_11ec_8baf_0242ac1c0002row2_col3\" class=\"data row2 col3\" >59.113300</td>\n",
              "            </tr>\n",
              "            <tr>\n",
              "                        <th id=\"T_b466d320_1651_11ec_8baf_0242ac1c0002level0_row3\" class=\"row_heading level0 row3\" >3</th>\n",
              "                        <td id=\"T_b466d320_1651_11ec_8baf_0242ac1c0002row3_col0\" class=\"data row3 col0\" >Delhi Capitals</td>\n",
              "                        <td id=\"T_b466d320_1651_11ec_8baf_0242ac1c0002row3_col1\" class=\"data row3 col1\" >33</td>\n",
              "                        <td id=\"T_b466d320_1651_11ec_8baf_0242ac1c0002row3_col2\" class=\"data row3 col2\" >19</td>\n",
              "                        <td id=\"T_b466d320_1651_11ec_8baf_0242ac1c0002row3_col3\" class=\"data row3 col3\" >57.575758</td>\n",
              "            </tr>\n",
              "            <tr>\n",
              "                        <th id=\"T_b466d320_1651_11ec_8baf_0242ac1c0002level0_row4\" class=\"row_heading level0 row4\" >4</th>\n",
              "                        <td id=\"T_b466d320_1651_11ec_8baf_0242ac1c0002row4_col0\" class=\"data row4 col0\" >Sunrisers Hyderabad</td>\n",
              "                        <td id=\"T_b466d320_1651_11ec_8baf_0242ac1c0002row4_col1\" class=\"data row4 col1\" >124</td>\n",
              "                        <td id=\"T_b466d320_1651_11ec_8baf_0242ac1c0002row4_col2\" class=\"data row4 col2\" >66</td>\n",
              "                        <td id=\"T_b466d320_1651_11ec_8baf_0242ac1c0002row4_col3\" class=\"data row4 col3\" >53.225806</td>\n",
              "            </tr>\n",
              "            <tr>\n",
              "                        <th id=\"T_b466d320_1651_11ec_8baf_0242ac1c0002level0_row5\" class=\"row_heading level0 row5\" >5</th>\n",
              "                        <td id=\"T_b466d320_1651_11ec_8baf_0242ac1c0002row5_col0\" class=\"data row5 col0\" >Kolkata Knight Riders</td>\n",
              "                        <td id=\"T_b466d320_1651_11ec_8baf_0242ac1c0002row5_col1\" class=\"data row5 col1\" >192</td>\n",
              "                        <td id=\"T_b466d320_1651_11ec_8baf_0242ac1c0002row5_col2\" class=\"data row5 col2\" >99</td>\n",
              "                        <td id=\"T_b466d320_1651_11ec_8baf_0242ac1c0002row5_col3\" class=\"data row5 col3\" >51.562500</td>\n",
              "            </tr>\n",
              "            <tr>\n",
              "                        <th id=\"T_b466d320_1651_11ec_8baf_0242ac1c0002level0_row6\" class=\"row_heading level0 row6\" >6</th>\n",
              "                        <td id=\"T_b466d320_1651_11ec_8baf_0242ac1c0002row6_col0\" class=\"data row6 col0\" >Rajasthan Royals</td>\n",
              "                        <td id=\"T_b466d320_1651_11ec_8baf_0242ac1c0002row6_col1\" class=\"data row6 col1\" >161</td>\n",
              "                        <td id=\"T_b466d320_1651_11ec_8baf_0242ac1c0002row6_col2\" class=\"data row6 col2\" >81</td>\n",
              "                        <td id=\"T_b466d320_1651_11ec_8baf_0242ac1c0002row6_col3\" class=\"data row6 col3\" >50.310559</td>\n",
              "            </tr>\n",
              "            <tr>\n",
              "                        <th id=\"T_b466d320_1651_11ec_8baf_0242ac1c0002level0_row7\" class=\"row_heading level0 row7\" >7</th>\n",
              "                        <td id=\"T_b466d320_1651_11ec_8baf_0242ac1c0002row7_col0\" class=\"data row7 col0\" >Royal Challengers Bangalore</td>\n",
              "                        <td id=\"T_b466d320_1651_11ec_8baf_0242ac1c0002row7_col1\" class=\"data row7 col1\" >195</td>\n",
              "                        <td id=\"T_b466d320_1651_11ec_8baf_0242ac1c0002row7_col2\" class=\"data row7 col2\" >91</td>\n",
              "                        <td id=\"T_b466d320_1651_11ec_8baf_0242ac1c0002row7_col3\" class=\"data row7 col3\" >46.666667</td>\n",
              "            </tr>\n",
              "            <tr>\n",
              "                        <th id=\"T_b466d320_1651_11ec_8baf_0242ac1c0002level0_row8\" class=\"row_heading level0 row8\" >8</th>\n",
              "                        <td id=\"T_b466d320_1651_11ec_8baf_0242ac1c0002row8_col0\" class=\"data row8 col0\" >Kings XI Punjab</td>\n",
              "                        <td id=\"T_b466d320_1651_11ec_8baf_0242ac1c0002row8_col1\" class=\"data row8 col1\" >190</td>\n",
              "                        <td id=\"T_b466d320_1651_11ec_8baf_0242ac1c0002row8_col2\" class=\"data row8 col2\" >88</td>\n",
              "                        <td id=\"T_b466d320_1651_11ec_8baf_0242ac1c0002row8_col3\" class=\"data row8 col3\" >46.315789</td>\n",
              "            </tr>\n",
              "            <tr>\n",
              "                        <th id=\"T_b466d320_1651_11ec_8baf_0242ac1c0002level0_row9\" class=\"row_heading level0 row9\" >9</th>\n",
              "                        <td id=\"T_b466d320_1651_11ec_8baf_0242ac1c0002row9_col0\" class=\"data row9 col0\" >Gujarat Lions</td>\n",
              "                        <td id=\"T_b466d320_1651_11ec_8baf_0242ac1c0002row9_col1\" class=\"data row9 col1\" >30</td>\n",
              "                        <td id=\"T_b466d320_1651_11ec_8baf_0242ac1c0002row9_col2\" class=\"data row9 col2\" >13</td>\n",
              "                        <td id=\"T_b466d320_1651_11ec_8baf_0242ac1c0002row9_col3\" class=\"data row9 col3\" >43.333333</td>\n",
              "            </tr>\n",
              "            <tr>\n",
              "                        <th id=\"T_b466d320_1651_11ec_8baf_0242ac1c0002level0_row10\" class=\"row_heading level0 row10\" >10</th>\n",
              "                        <td id=\"T_b466d320_1651_11ec_8baf_0242ac1c0002row10_col0\" class=\"data row10 col0\" >Kochi Tuskers Kerala</td>\n",
              "                        <td id=\"T_b466d320_1651_11ec_8baf_0242ac1c0002row10_col1\" class=\"data row10 col1\" >14</td>\n",
              "                        <td id=\"T_b466d320_1651_11ec_8baf_0242ac1c0002row10_col2\" class=\"data row10 col2\" >6</td>\n",
              "                        <td id=\"T_b466d320_1651_11ec_8baf_0242ac1c0002row10_col3\" class=\"data row10 col3\" >42.857143</td>\n",
              "            </tr>\n",
              "            <tr>\n",
              "                        <th id=\"T_b466d320_1651_11ec_8baf_0242ac1c0002level0_row11\" class=\"row_heading level0 row11\" >11</th>\n",
              "                        <td id=\"T_b466d320_1651_11ec_8baf_0242ac1c0002row11_col0\" class=\"data row11 col0\" >Delhi Daredevils</td>\n",
              "                        <td id=\"T_b466d320_1651_11ec_8baf_0242ac1c0002row11_col1\" class=\"data row11 col1\" >161</td>\n",
              "                        <td id=\"T_b466d320_1651_11ec_8baf_0242ac1c0002row11_col2\" class=\"data row11 col2\" >67</td>\n",
              "                        <td id=\"T_b466d320_1651_11ec_8baf_0242ac1c0002row11_col3\" class=\"data row11 col3\" >41.614907</td>\n",
              "            </tr>\n",
              "            <tr>\n",
              "                        <th id=\"T_b466d320_1651_11ec_8baf_0242ac1c0002level0_row12\" class=\"row_heading level0 row12\" >12</th>\n",
              "                        <td id=\"T_b466d320_1651_11ec_8baf_0242ac1c0002row12_col0\" class=\"data row12 col0\" >Deccan Chargers</td>\n",
              "                        <td id=\"T_b466d320_1651_11ec_8baf_0242ac1c0002row12_col1\" class=\"data row12 col1\" >75</td>\n",
              "                        <td id=\"T_b466d320_1651_11ec_8baf_0242ac1c0002row12_col2\" class=\"data row12 col2\" >29</td>\n",
              "                        <td id=\"T_b466d320_1651_11ec_8baf_0242ac1c0002row12_col3\" class=\"data row12 col3\" >38.666667</td>\n",
              "            </tr>\n",
              "            <tr>\n",
              "                        <th id=\"T_b466d320_1651_11ec_8baf_0242ac1c0002level0_row13\" class=\"row_heading level0 row13\" >13</th>\n",
              "                        <td id=\"T_b466d320_1651_11ec_8baf_0242ac1c0002row13_col0\" class=\"data row13 col0\" >Rising Pune Supergiants</td>\n",
              "                        <td id=\"T_b466d320_1651_11ec_8baf_0242ac1c0002row13_col1\" class=\"data row13 col1\" >14</td>\n",
              "                        <td id=\"T_b466d320_1651_11ec_8baf_0242ac1c0002row13_col2\" class=\"data row13 col2\" >5</td>\n",
              "                        <td id=\"T_b466d320_1651_11ec_8baf_0242ac1c0002row13_col3\" class=\"data row13 col3\" >35.714286</td>\n",
              "            </tr>\n",
              "            <tr>\n",
              "                        <th id=\"T_b466d320_1651_11ec_8baf_0242ac1c0002level0_row14\" class=\"row_heading level0 row14\" >14</th>\n",
              "                        <td id=\"T_b466d320_1651_11ec_8baf_0242ac1c0002row14_col0\" class=\"data row14 col0\" >Pune Warriors</td>\n",
              "                        <td id=\"T_b466d320_1651_11ec_8baf_0242ac1c0002row14_col1\" class=\"data row14 col1\" >46</td>\n",
              "                        <td id=\"T_b466d320_1651_11ec_8baf_0242ac1c0002row14_col2\" class=\"data row14 col2\" >12</td>\n",
              "                        <td id=\"T_b466d320_1651_11ec_8baf_0242ac1c0002row14_col3\" class=\"data row14 col3\" >26.086957</td>\n",
              "            </tr>\n",
              "    </tbody></table>"
            ],
            "text/plain": [
              "<pandas.io.formats.style.Styler at 0x7feeb94a7fd0>"
            ]
          },
          "metadata": {},
          "execution_count": 30
        }
      ]
    },
    {
      "cell_type": "code",
      "metadata": {
        "_kg_hide-input": true,
        "execution": {
          "iopub.execute_input": "2021-06-04T22:21:40.053234Z",
          "iopub.status.busy": "2021-06-04T22:21:40.052502Z",
          "iopub.status.idle": "2021-06-04T22:21:40.145555Z",
          "shell.execute_reply": "2021-06-04T22:21:40.146106Z",
          "shell.execute_reply.started": "2021-06-04T22:16:38.591723Z"
        },
        "papermill": {
          "duration": 0.242655,
          "end_time": "2021-06-04T22:21:40.146294",
          "exception": false,
          "start_time": "2021-06-04T22:21:39.903639",
          "status": "completed"
        },
        "tags": [],
        "colab": {
          "base_uri": "https://localhost:8080/",
          "height": 542
        },
        "id": "-F1skyDKi33F",
        "outputId": "feb80034-083d-44d3-a79b-defd88cfa9cd"
      },
      "source": [
        "colors = ['turquoise',] * 15\n",
        "colors[8] = 'crimson'\n",
        "fig=px.bar(x=played['Team Name'],y=played['Total Matches played'],labels=dict(x=\"Team Name\",y=\"Count\"),)\n",
        "fig.update_layout(title=\"Total number of matches played\",\n",
        "                  titlefont={'size': 26},template='simple_white'     \n",
        "                  )\n",
        "fig.update_traces(marker_line_color='black',\n",
        "                  marker_line_width=2.5, opacity=1,marker_color=colors)\n",
        "fig.show()"
      ],
      "execution_count": 31,
      "outputs": [
        {
          "output_type": "display_data",
          "data": {
            "text/html": [
              "<html>\n",
              "<head><meta charset=\"utf-8\" /></head>\n",
              "<body>\n",
              "    <div>\n",
              "            <script src=\"https://cdnjs.cloudflare.com/ajax/libs/mathjax/2.7.5/MathJax.js?config=TeX-AMS-MML_SVG\"></script><script type=\"text/javascript\">if (window.MathJax) {MathJax.Hub.Config({SVG: {font: \"STIX-Web\"}});}</script>\n",
              "                <script type=\"text/javascript\">window.PlotlyConfig = {MathJaxConfig: 'local'};</script>\n",
              "        <script src=\"https://cdn.plot.ly/plotly-latest.min.js\"></script>    \n",
              "            <div id=\"8ba67779-868f-4005-9e5b-6f0f0b71a42f\" class=\"plotly-graph-div\" style=\"height:525px; width:100%;\"></div>\n",
              "            <script type=\"text/javascript\">\n",
              "                \n",
              "                    window.PLOTLYENV=window.PLOTLYENV || {};\n",
              "                    \n",
              "                if (document.getElementById(\"8ba67779-868f-4005-9e5b-6f0f0b71a42f\")) {\n",
              "                    Plotly.newPlot(\n",
              "                        '8ba67779-868f-4005-9e5b-6f0f0b71a42f',\n",
              "                        [{\"alignmentgroup\": \"True\", \"hoverlabel\": {\"namelength\": 0}, \"hovertemplate\": \"Team Name=%{x}<br>Count=%{y}\", \"legendgroup\": \"\", \"marker\": {\"color\": [\"turquoise\", \"turquoise\", \"turquoise\", \"turquoise\", \"turquoise\", \"turquoise\", \"turquoise\", \"turquoise\", \"crimson\", \"turquoise\", \"turquoise\", \"turquoise\", \"turquoise\", \"turquoise\", \"turquoise\"], \"line\": {\"color\": \"black\", \"width\": 2.5}}, \"name\": \"\", \"offsetgroup\": \"\", \"opacity\": 1, \"orientation\": \"v\", \"showlegend\": false, \"textposition\": \"auto\", \"type\": \"bar\", \"x\": [\"Chennai Super Kings\", \"Deccan Chargers\", \"Delhi Capitals\", \"Delhi Daredevils\", \"Gujarat Lions\", \"Kings XI Punjab\", \"Kochi Tuskers Kerala\", \"Kolkata Knight Riders\", \"Mumbai Indians\", \"Pune Warriors\", \"Rajasthan Royals\", \"Rising Pune Supergiant\", \"Rising Pune Supergiants\", \"Royal Challengers Bangalore\", \"Sunrisers Hyderabad\"], \"xaxis\": \"x\", \"y\": [178, 75, 33, 161, 30, 190, 14, 192, 203, 46, 161, 16, 14, 195, 124], \"yaxis\": \"y\"}],\n",
              "                        {\"barmode\": \"relative\", \"legend\": {\"tracegroupgap\": 0}, \"margin\": {\"t\": 60}, \"template\": {\"data\": {\"bar\": [{\"error_x\": {\"color\": \"rgb(36,36,36)\"}, \"error_y\": {\"color\": \"rgb(36,36,36)\"}, \"marker\": {\"line\": {\"color\": \"white\", \"width\": 0.5}}, \"type\": \"bar\"}], \"barpolar\": [{\"marker\": {\"line\": {\"color\": \"white\", \"width\": 0.5}}, \"type\": \"barpolar\"}], \"carpet\": [{\"aaxis\": {\"endlinecolor\": \"rgb(36,36,36)\", \"gridcolor\": \"white\", \"linecolor\": \"white\", \"minorgridcolor\": \"white\", \"startlinecolor\": \"rgb(36,36,36)\"}, \"baxis\": {\"endlinecolor\": \"rgb(36,36,36)\", \"gridcolor\": \"white\", \"linecolor\": \"white\", \"minorgridcolor\": \"white\", \"startlinecolor\": \"rgb(36,36,36)\"}, \"type\": \"carpet\"}], \"choropleth\": [{\"colorbar\": {\"outlinewidth\": 10, \"tickcolor\": \"rgb(36,36,36)\", \"ticklen\": 8, \"ticks\": \"outside\", \"tickwidth\": 2}, \"type\": \"choropleth\"}], \"contour\": [{\"colorbar\": {\"outlinewidth\": 10, \"tickcolor\": \"rgb(36,36,36)\", \"ticklen\": 8, \"ticks\": \"outside\", \"tickwidth\": 2}, \"colorscale\": [[0.0, \"#440154\"], [0.1111111111111111, \"#482878\"], [0.2222222222222222, \"#3e4989\"], [0.3333333333333333, \"#31688e\"], [0.4444444444444444, \"#26828e\"], [0.5555555555555556, \"#1f9e89\"], [0.6666666666666666, \"#35b779\"], [0.7777777777777778, \"#6ece58\"], [0.8888888888888888, \"#b5de2b\"], [1.0, \"#fde725\"]], \"type\": \"contour\"}], \"contourcarpet\": [{\"colorbar\": {\"outlinewidth\": 10, \"tickcolor\": \"rgb(36,36,36)\", \"ticklen\": 8, \"ticks\": \"outside\", \"tickwidth\": 2}, \"type\": \"contourcarpet\"}], \"heatmap\": [{\"colorbar\": {\"outlinewidth\": 10, \"tickcolor\": \"rgb(36,36,36)\", \"ticklen\": 8, \"ticks\": \"outside\", \"tickwidth\": 2}, \"colorscale\": [[0.0, \"#440154\"], [0.1111111111111111, \"#482878\"], [0.2222222222222222, \"#3e4989\"], [0.3333333333333333, \"#31688e\"], [0.4444444444444444, \"#26828e\"], [0.5555555555555556, \"#1f9e89\"], [0.6666666666666666, \"#35b779\"], [0.7777777777777778, \"#6ece58\"], [0.8888888888888888, \"#b5de2b\"], [1.0, \"#fde725\"]], \"type\": \"heatmap\"}], \"heatmapgl\": [{\"colorbar\": {\"outlinewidth\": 10, \"tickcolor\": \"rgb(36,36,36)\", \"ticklen\": 8, \"ticks\": \"outside\", \"tickwidth\": 2}, \"colorscale\": [[0.0, \"#440154\"], [0.1111111111111111, \"#482878\"], [0.2222222222222222, \"#3e4989\"], [0.3333333333333333, \"#31688e\"], [0.4444444444444444, \"#26828e\"], [0.5555555555555556, \"#1f9e89\"], [0.6666666666666666, \"#35b779\"], [0.7777777777777778, \"#6ece58\"], [0.8888888888888888, \"#b5de2b\"], [1.0, \"#fde725\"]], \"type\": \"heatmapgl\"}], \"histogram\": [{\"marker\": {\"line\": {\"color\": \"white\", \"width\": 0.6}}, \"type\": \"histogram\"}], \"histogram2d\": [{\"colorbar\": {\"outlinewidth\": 10, \"tickcolor\": \"rgb(36,36,36)\", \"ticklen\": 8, \"ticks\": \"outside\", \"tickwidth\": 2}, \"colorscale\": [[0.0, \"#440154\"], [0.1111111111111111, \"#482878\"], [0.2222222222222222, \"#3e4989\"], [0.3333333333333333, \"#31688e\"], [0.4444444444444444, \"#26828e\"], [0.5555555555555556, \"#1f9e89\"], [0.6666666666666666, \"#35b779\"], [0.7777777777777778, \"#6ece58\"], [0.8888888888888888, \"#b5de2b\"], [1.0, \"#fde725\"]], \"type\": \"histogram2d\"}], \"histogram2dcontour\": [{\"colorbar\": {\"outlinewidth\": 10, \"tickcolor\": \"rgb(36,36,36)\", \"ticklen\": 8, \"ticks\": \"outside\", \"tickwidth\": 2}, \"colorscale\": [[0.0, \"#440154\"], [0.1111111111111111, \"#482878\"], [0.2222222222222222, \"#3e4989\"], [0.3333333333333333, \"#31688e\"], [0.4444444444444444, \"#26828e\"], [0.5555555555555556, \"#1f9e89\"], [0.6666666666666666, \"#35b779\"], [0.7777777777777778, \"#6ece58\"], [0.8888888888888888, \"#b5de2b\"], [1.0, \"#fde725\"]], \"type\": \"histogram2dcontour\"}], \"mesh3d\": [{\"colorbar\": {\"outlinewidth\": 10, \"tickcolor\": \"rgb(36,36,36)\", \"ticklen\": 8, \"ticks\": \"outside\", \"tickwidth\": 2}, \"type\": \"mesh3d\"}], \"parcoords\": [{\"line\": {\"colorbar\": {\"outlinewidth\": 10, \"tickcolor\": \"rgb(36,36,36)\", \"ticklen\": 8, \"ticks\": \"outside\", \"tickwidth\": 2}}, \"type\": \"parcoords\"}], \"pie\": [{\"automargin\": true, \"type\": \"pie\"}], \"scatter\": [{\"marker\": {\"colorbar\": {\"outlinewidth\": 10, \"tickcolor\": \"rgb(36,36,36)\", \"ticklen\": 8, \"ticks\": \"outside\", \"tickwidth\": 2}}, \"type\": \"scatter\"}], \"scatter3d\": [{\"line\": {\"colorbar\": {\"outlinewidth\": 10, \"tickcolor\": \"rgb(36,36,36)\", \"ticklen\": 8, \"ticks\": \"outside\", \"tickwidth\": 2}}, \"marker\": {\"colorbar\": {\"outlinewidth\": 10, \"tickcolor\": \"rgb(36,36,36)\", \"ticklen\": 8, \"ticks\": \"outside\", \"tickwidth\": 2}}, \"type\": \"scatter3d\"}], \"scattercarpet\": [{\"marker\": {\"colorbar\": {\"outlinewidth\": 10, \"tickcolor\": \"rgb(36,36,36)\", \"ticklen\": 8, \"ticks\": \"outside\", \"tickwidth\": 2}}, \"type\": \"scattercarpet\"}], \"scattergeo\": [{\"marker\": {\"colorbar\": {\"outlinewidth\": 10, \"tickcolor\": \"rgb(36,36,36)\", \"ticklen\": 8, \"ticks\": \"outside\", \"tickwidth\": 2}}, \"type\": \"scattergeo\"}], \"scattergl\": [{\"marker\": {\"colorbar\": {\"outlinewidth\": 10, \"tickcolor\": \"rgb(36,36,36)\", \"ticklen\": 8, \"ticks\": \"outside\", \"tickwidth\": 2}}, \"type\": \"scattergl\"}], \"scattermapbox\": [{\"marker\": {\"colorbar\": {\"outlinewidth\": 10, \"tickcolor\": \"rgb(36,36,36)\", \"ticklen\": 8, \"ticks\": \"outside\", \"tickwidth\": 2}}, \"type\": \"scattermapbox\"}], \"scatterpolar\": [{\"marker\": {\"colorbar\": {\"outlinewidth\": 10, \"tickcolor\": \"rgb(36,36,36)\", \"ticklen\": 8, \"ticks\": \"outside\", \"tickwidth\": 2}}, \"type\": \"scatterpolar\"}], \"scatterpolargl\": [{\"marker\": {\"colorbar\": {\"outlinewidth\": 10, \"tickcolor\": \"rgb(36,36,36)\", \"ticklen\": 8, \"ticks\": \"outside\", \"tickwidth\": 2}}, \"type\": \"scatterpolargl\"}], \"scatterternary\": [{\"marker\": {\"colorbar\": {\"outlinewidth\": 10, \"tickcolor\": \"rgb(36,36,36)\", \"ticklen\": 8, \"ticks\": \"outside\", \"tickwidth\": 2}}, \"type\": \"scatterternary\"}], \"surface\": [{\"colorbar\": {\"outlinewidth\": 10, \"tickcolor\": \"rgb(36,36,36)\", \"ticklen\": 8, \"ticks\": \"outside\", \"tickwidth\": 2}, \"colorscale\": [[0.0, \"#440154\"], [0.1111111111111111, \"#482878\"], [0.2222222222222222, \"#3e4989\"], [0.3333333333333333, \"#31688e\"], [0.4444444444444444, \"#26828e\"], [0.5555555555555556, \"#1f9e89\"], [0.6666666666666666, \"#35b779\"], [0.7777777777777778, \"#6ece58\"], [0.8888888888888888, \"#b5de2b\"], [1.0, \"#fde725\"]], \"type\": \"surface\"}], \"table\": [{\"cells\": {\"fill\": {\"color\": \"rgb(237,237,237)\"}, \"line\": {\"color\": \"white\"}}, \"header\": {\"fill\": {\"color\": \"rgb(217,217,217)\"}, \"line\": {\"color\": \"white\"}}, \"type\": \"table\"}]}, \"layout\": {\"annotationdefaults\": {\"arrowhead\": 0, \"arrowwidth\": 1}, \"coloraxis\": {\"colorbar\": {\"outlinewidth\": 10, \"tickcolor\": \"rgb(36,36,36)\", \"ticklen\": 8, \"ticks\": \"outside\", \"tickwidth\": 2}}, \"colorscale\": {\"diverging\": [[0.0, \"rgb(103,0,31)\"], [0.1, \"rgb(178,24,43)\"], [0.2, \"rgb(214,96,77)\"], [0.3, \"rgb(244,165,130)\"], [0.4, \"rgb(253,219,199)\"], [0.5, \"rgb(247,247,247)\"], [0.6, \"rgb(209,229,240)\"], [0.7, \"rgb(146,197,222)\"], [0.8, \"rgb(67,147,195)\"], [0.9, \"rgb(33,102,172)\"], [1.0, \"rgb(5,48,97)\"]], \"sequential\": [[0.0, \"#440154\"], [0.1111111111111111, \"#482878\"], [0.2222222222222222, \"#3e4989\"], [0.3333333333333333, \"#31688e\"], [0.4444444444444444, \"#26828e\"], [0.5555555555555556, \"#1f9e89\"], [0.6666666666666666, \"#35b779\"], [0.7777777777777778, \"#6ece58\"], [0.8888888888888888, \"#b5de2b\"], [1.0, \"#fde725\"]], \"sequentialminus\": [[0.0, \"#440154\"], [0.1111111111111111, \"#482878\"], [0.2222222222222222, \"#3e4989\"], [0.3333333333333333, \"#31688e\"], [0.4444444444444444, \"#26828e\"], [0.5555555555555556, \"#1f9e89\"], [0.6666666666666666, \"#35b779\"], [0.7777777777777778, \"#6ece58\"], [0.8888888888888888, \"#b5de2b\"], [1.0, \"#fde725\"]]}, \"colorway\": [\"#1F77B4\", \"#FF7F0E\", \"#2CA02C\", \"#D62728\", \"#9467BD\", \"#8C564B\", \"#E377C2\", \"#7F7F7F\", \"#BCBD22\", \"#17BECF\"], \"font\": {\"color\": \"rgb(36,36,36)\"}, \"geo\": {\"bgcolor\": \"white\", \"lakecolor\": \"white\", \"landcolor\": \"white\", \"showlakes\": true, \"showland\": true, \"subunitcolor\": \"white\"}, \"hoverlabel\": {\"align\": \"left\"}, \"hovermode\": \"closest\", \"mapbox\": {\"style\": \"light\"}, \"paper_bgcolor\": \"white\", \"plot_bgcolor\": \"white\", \"polar\": {\"angularaxis\": {\"gridcolor\": \"rgb(232,232,232)\", \"linecolor\": \"rgb(36,36,36)\", \"showgrid\": false, \"showline\": true, \"ticks\": \"outside\"}, \"bgcolor\": \"white\", \"radialaxis\": {\"gridcolor\": \"rgb(232,232,232)\", \"linecolor\": \"rgb(36,36,36)\", \"showgrid\": false, \"showline\": true, \"ticks\": \"outside\"}}, \"scene\": {\"xaxis\": {\"backgroundcolor\": \"white\", \"gridcolor\": \"rgb(232,232,232)\", \"gridwidth\": 2, \"linecolor\": \"rgb(36,36,36)\", \"showbackground\": true, \"showgrid\": false, \"showline\": true, \"ticks\": \"outside\", \"zeroline\": false, \"zerolinecolor\": \"rgb(36,36,36)\"}, \"yaxis\": {\"backgroundcolor\": \"white\", \"gridcolor\": \"rgb(232,232,232)\", \"gridwidth\": 2, \"linecolor\": \"rgb(36,36,36)\", \"showbackground\": true, \"showgrid\": false, \"showline\": true, \"ticks\": \"outside\", \"zeroline\": false, \"zerolinecolor\": \"rgb(36,36,36)\"}, \"zaxis\": {\"backgroundcolor\": \"white\", \"gridcolor\": \"rgb(232,232,232)\", \"gridwidth\": 2, \"linecolor\": \"rgb(36,36,36)\", \"showbackground\": true, \"showgrid\": false, \"showline\": true, \"ticks\": \"outside\", \"zeroline\": false, \"zerolinecolor\": \"rgb(36,36,36)\"}}, \"shapedefaults\": {\"fillcolor\": \"black\", \"line\": {\"width\": 0}, \"opacity\": 0.3}, \"ternary\": {\"aaxis\": {\"gridcolor\": \"rgb(232,232,232)\", \"linecolor\": \"rgb(36,36,36)\", \"showgrid\": false, \"showline\": true, \"ticks\": \"outside\"}, \"baxis\": {\"gridcolor\": \"rgb(232,232,232)\", \"linecolor\": \"rgb(36,36,36)\", \"showgrid\": false, \"showline\": true, \"ticks\": \"outside\"}, \"bgcolor\": \"white\", \"caxis\": {\"gridcolor\": \"rgb(232,232,232)\", \"linecolor\": \"rgb(36,36,36)\", \"showgrid\": false, \"showline\": true, \"ticks\": \"outside\"}}, \"title\": {\"x\": 0.05}, \"xaxis\": {\"automargin\": true, \"gridcolor\": \"rgb(232,232,232)\", \"linecolor\": \"rgb(36,36,36)\", \"showgrid\": false, \"showline\": true, \"ticks\": \"outside\", \"title\": {\"standoff\": 15}, \"zeroline\": false, \"zerolinecolor\": \"rgb(36,36,36)\"}, \"yaxis\": {\"automargin\": true, \"gridcolor\": \"rgb(232,232,232)\", \"linecolor\": \"rgb(36,36,36)\", \"showgrid\": false, \"showline\": true, \"ticks\": \"outside\", \"title\": {\"standoff\": 15}, \"zeroline\": false, \"zerolinecolor\": \"rgb(36,36,36)\"}}}, \"title\": {\"font\": {\"size\": 26}, \"text\": \"Total number of matches played\"}, \"xaxis\": {\"anchor\": \"y\", \"domain\": [0.0, 1.0], \"title\": {\"text\": \"Team Name\"}}, \"yaxis\": {\"anchor\": \"x\", \"domain\": [0.0, 1.0], \"title\": {\"text\": \"Count\"}}},\n",
              "                        {\"responsive\": true}\n",
              "                    ).then(function(){\n",
              "                            \n",
              "var gd = document.getElementById('8ba67779-868f-4005-9e5b-6f0f0b71a42f');\n",
              "var x = new MutationObserver(function (mutations, observer) {{\n",
              "        var display = window.getComputedStyle(gd).display;\n",
              "        if (!display || display === 'none') {{\n",
              "            console.log([gd, 'removed!']);\n",
              "            Plotly.purge(gd);\n",
              "            observer.disconnect();\n",
              "        }}\n",
              "}});\n",
              "\n",
              "// Listen for the removal of the full notebook cells\n",
              "var notebookContainer = gd.closest('#notebook-container');\n",
              "if (notebookContainer) {{\n",
              "    x.observe(notebookContainer, {childList: true});\n",
              "}}\n",
              "\n",
              "// Listen for the clearing of the current output cell\n",
              "var outputEl = gd.closest('.output');\n",
              "if (outputEl) {{\n",
              "    x.observe(outputEl, {childList: true});\n",
              "}}\n",
              "\n",
              "                        })\n",
              "                };\n",
              "                \n",
              "            </script>\n",
              "        </div>\n",
              "</body>\n",
              "</html>"
            ]
          },
          "metadata": {}
        }
      ]
    },
    {
      "cell_type": "markdown",
      "metadata": {
        "papermill": {
          "duration": 0.146805,
          "end_time": "2021-06-04T22:21:40.439550",
          "exception": false,
          "start_time": "2021-06-04T22:21:40.292745",
          "status": "completed"
        },
        "tags": [],
        "id": "sayALFjNi33G"
      },
      "source": [
        "<div class=\"alert alert-block alert-info\"><p style='color:black;'> 📌\n",
        "Mumbai Indians have played the most matches(203), followed by Royal Challengers Bangalore (195)\n",
        "</p>\n",
        "</div>"
      ]
    },
    {
      "cell_type": "markdown",
      "metadata": {
        "id": "XEPAsqSirgfm"
      },
      "source": [
        "<small><a href='#0'>Go to top</a></small>  "
      ]
    },
    {
      "cell_type": "markdown",
      "metadata": {
        "papermill": {
          "duration": 0.146627,
          "end_time": "2021-06-04T22:21:41.034647",
          "exception": false,
          "start_time": "2021-06-04T22:21:40.888020",
          "status": "completed"
        },
        "tags": [],
        "id": "D6ELBd6Ei33G"
      },
      "source": [
        "<a id=\"12\">\n",
        "<h1 style = \"font-family: Snell Roundhand;font-weight: 500;font-size: 30px; font-style: normal; background-color: #FFFB30; color :black;\"> 12) Most number of wins :</h1>"
      ]
    },
    {
      "cell_type": "code",
      "metadata": {
        "_kg_hide-input": true,
        "execution": {
          "iopub.execute_input": "2021-06-04T22:21:41.328255Z",
          "iopub.status.busy": "2021-06-04T22:21:41.327487Z",
          "iopub.status.idle": "2021-06-04T22:21:41.419613Z",
          "shell.execute_reply": "2021-06-04T22:21:41.419067Z",
          "shell.execute_reply.started": "2021-06-04T22:16:38.670328Z"
        },
        "papermill": {
          "duration": 0.241188,
          "end_time": "2021-06-04T22:21:41.419783",
          "exception": false,
          "start_time": "2021-06-04T22:21:41.178595",
          "status": "completed"
        },
        "tags": [],
        "colab": {
          "base_uri": "https://localhost:8080/",
          "height": 542
        },
        "id": "0azREPBti33G",
        "outputId": "e95050e3-3c1b-4807-adf6-a9a92bdc31e1"
      },
      "source": [
        "colors = ['turquoise',] * 15\n",
        "colors[8] = 'crimson'\n",
        "fig=px.bar(x=played['Team Name'],y=played['Wins'],labels=dict(x=\"Team Name\",y=\"Count\"),)\n",
        "fig.update_layout(title=\"Total Win by teams\",\n",
        "                  titlefont={'size': 26},template='simple_white'     \n",
        "                  )\n",
        "fig.update_traces(marker_line_color='black',\n",
        "                  marker_line_width=2.5, opacity=1,marker_color=colors)\n",
        "fig.show()\n"
      ],
      "execution_count": 32,
      "outputs": [
        {
          "output_type": "display_data",
          "data": {
            "text/html": [
              "<html>\n",
              "<head><meta charset=\"utf-8\" /></head>\n",
              "<body>\n",
              "    <div>\n",
              "            <script src=\"https://cdnjs.cloudflare.com/ajax/libs/mathjax/2.7.5/MathJax.js?config=TeX-AMS-MML_SVG\"></script><script type=\"text/javascript\">if (window.MathJax) {MathJax.Hub.Config({SVG: {font: \"STIX-Web\"}});}</script>\n",
              "                <script type=\"text/javascript\">window.PlotlyConfig = {MathJaxConfig: 'local'};</script>\n",
              "        <script src=\"https://cdn.plot.ly/plotly-latest.min.js\"></script>    \n",
              "            <div id=\"e7cce576-0bae-42dc-9055-8c28cb0c2f3c\" class=\"plotly-graph-div\" style=\"height:525px; width:100%;\"></div>\n",
              "            <script type=\"text/javascript\">\n",
              "                \n",
              "                    window.PLOTLYENV=window.PLOTLYENV || {};\n",
              "                    \n",
              "                if (document.getElementById(\"e7cce576-0bae-42dc-9055-8c28cb0c2f3c\")) {\n",
              "                    Plotly.newPlot(\n",
              "                        'e7cce576-0bae-42dc-9055-8c28cb0c2f3c',\n",
              "                        [{\"alignmentgroup\": \"True\", \"hoverlabel\": {\"namelength\": 0}, \"hovertemplate\": \"Team Name=%{x}<br>Count=%{y}\", \"legendgroup\": \"\", \"marker\": {\"color\": [\"turquoise\", \"turquoise\", \"turquoise\", \"turquoise\", \"turquoise\", \"turquoise\", \"turquoise\", \"turquoise\", \"crimson\", \"turquoise\", \"turquoise\", \"turquoise\", \"turquoise\", \"turquoise\", \"turquoise\"], \"line\": {\"color\": \"black\", \"width\": 2.5}}, \"name\": \"\", \"offsetgroup\": \"\", \"opacity\": 1, \"orientation\": \"v\", \"showlegend\": false, \"textposition\": \"auto\", \"type\": \"bar\", \"x\": [\"Chennai Super Kings\", \"Deccan Chargers\", \"Delhi Capitals\", \"Delhi Daredevils\", \"Gujarat Lions\", \"Kings XI Punjab\", \"Kochi Tuskers Kerala\", \"Kolkata Knight Riders\", \"Mumbai Indians\", \"Pune Warriors\", \"Rajasthan Royals\", \"Rising Pune Supergiant\", \"Rising Pune Supergiants\", \"Royal Challengers Bangalore\", \"Sunrisers Hyderabad\"], \"xaxis\": \"x\", \"y\": [106, 29, 19, 67, 13, 88, 6, 99, 120, 12, 81, 10, 5, 91, 66], \"yaxis\": \"y\"}],\n",
              "                        {\"barmode\": \"relative\", \"legend\": {\"tracegroupgap\": 0}, \"margin\": {\"t\": 60}, \"template\": {\"data\": {\"bar\": [{\"error_x\": {\"color\": \"rgb(36,36,36)\"}, \"error_y\": {\"color\": \"rgb(36,36,36)\"}, \"marker\": {\"line\": {\"color\": \"white\", \"width\": 0.5}}, \"type\": \"bar\"}], \"barpolar\": [{\"marker\": {\"line\": {\"color\": \"white\", \"width\": 0.5}}, \"type\": \"barpolar\"}], \"carpet\": [{\"aaxis\": {\"endlinecolor\": \"rgb(36,36,36)\", \"gridcolor\": \"white\", \"linecolor\": \"white\", \"minorgridcolor\": \"white\", \"startlinecolor\": \"rgb(36,36,36)\"}, \"baxis\": {\"endlinecolor\": \"rgb(36,36,36)\", \"gridcolor\": \"white\", \"linecolor\": \"white\", \"minorgridcolor\": \"white\", \"startlinecolor\": \"rgb(36,36,36)\"}, \"type\": \"carpet\"}], \"choropleth\": [{\"colorbar\": {\"outlinewidth\": 10, \"tickcolor\": \"rgb(36,36,36)\", \"ticklen\": 8, \"ticks\": \"outside\", \"tickwidth\": 2}, \"type\": \"choropleth\"}], \"contour\": [{\"colorbar\": {\"outlinewidth\": 10, \"tickcolor\": \"rgb(36,36,36)\", \"ticklen\": 8, \"ticks\": \"outside\", \"tickwidth\": 2}, \"colorscale\": [[0.0, \"#440154\"], [0.1111111111111111, \"#482878\"], [0.2222222222222222, \"#3e4989\"], [0.3333333333333333, \"#31688e\"], [0.4444444444444444, \"#26828e\"], [0.5555555555555556, \"#1f9e89\"], [0.6666666666666666, \"#35b779\"], [0.7777777777777778, \"#6ece58\"], [0.8888888888888888, \"#b5de2b\"], [1.0, \"#fde725\"]], \"type\": \"contour\"}], \"contourcarpet\": [{\"colorbar\": {\"outlinewidth\": 10, \"tickcolor\": \"rgb(36,36,36)\", \"ticklen\": 8, \"ticks\": \"outside\", \"tickwidth\": 2}, \"type\": \"contourcarpet\"}], \"heatmap\": [{\"colorbar\": {\"outlinewidth\": 10, \"tickcolor\": \"rgb(36,36,36)\", \"ticklen\": 8, \"ticks\": \"outside\", \"tickwidth\": 2}, \"colorscale\": [[0.0, \"#440154\"], [0.1111111111111111, \"#482878\"], [0.2222222222222222, \"#3e4989\"], [0.3333333333333333, \"#31688e\"], [0.4444444444444444, \"#26828e\"], [0.5555555555555556, \"#1f9e89\"], [0.6666666666666666, \"#35b779\"], [0.7777777777777778, \"#6ece58\"], [0.8888888888888888, \"#b5de2b\"], [1.0, \"#fde725\"]], \"type\": \"heatmap\"}], \"heatmapgl\": [{\"colorbar\": {\"outlinewidth\": 10, \"tickcolor\": \"rgb(36,36,36)\", \"ticklen\": 8, \"ticks\": \"outside\", \"tickwidth\": 2}, \"colorscale\": [[0.0, \"#440154\"], [0.1111111111111111, \"#482878\"], [0.2222222222222222, \"#3e4989\"], [0.3333333333333333, \"#31688e\"], [0.4444444444444444, \"#26828e\"], [0.5555555555555556, \"#1f9e89\"], [0.6666666666666666, \"#35b779\"], [0.7777777777777778, \"#6ece58\"], [0.8888888888888888, \"#b5de2b\"], [1.0, \"#fde725\"]], \"type\": \"heatmapgl\"}], \"histogram\": [{\"marker\": {\"line\": {\"color\": \"white\", \"width\": 0.6}}, \"type\": \"histogram\"}], \"histogram2d\": [{\"colorbar\": {\"outlinewidth\": 10, \"tickcolor\": \"rgb(36,36,36)\", \"ticklen\": 8, \"ticks\": \"outside\", \"tickwidth\": 2}, \"colorscale\": [[0.0, \"#440154\"], [0.1111111111111111, \"#482878\"], [0.2222222222222222, \"#3e4989\"], [0.3333333333333333, \"#31688e\"], [0.4444444444444444, \"#26828e\"], [0.5555555555555556, \"#1f9e89\"], [0.6666666666666666, \"#35b779\"], [0.7777777777777778, \"#6ece58\"], [0.8888888888888888, \"#b5de2b\"], [1.0, \"#fde725\"]], \"type\": \"histogram2d\"}], \"histogram2dcontour\": [{\"colorbar\": {\"outlinewidth\": 10, \"tickcolor\": \"rgb(36,36,36)\", \"ticklen\": 8, \"ticks\": \"outside\", \"tickwidth\": 2}, \"colorscale\": [[0.0, \"#440154\"], [0.1111111111111111, \"#482878\"], [0.2222222222222222, \"#3e4989\"], [0.3333333333333333, \"#31688e\"], [0.4444444444444444, \"#26828e\"], [0.5555555555555556, \"#1f9e89\"], [0.6666666666666666, \"#35b779\"], [0.7777777777777778, \"#6ece58\"], [0.8888888888888888, \"#b5de2b\"], [1.0, \"#fde725\"]], \"type\": \"histogram2dcontour\"}], \"mesh3d\": [{\"colorbar\": {\"outlinewidth\": 10, \"tickcolor\": \"rgb(36,36,36)\", \"ticklen\": 8, \"ticks\": \"outside\", \"tickwidth\": 2}, \"type\": \"mesh3d\"}], \"parcoords\": [{\"line\": {\"colorbar\": {\"outlinewidth\": 10, \"tickcolor\": \"rgb(36,36,36)\", \"ticklen\": 8, \"ticks\": \"outside\", \"tickwidth\": 2}}, \"type\": \"parcoords\"}], \"pie\": [{\"automargin\": true, \"type\": \"pie\"}], \"scatter\": [{\"marker\": {\"colorbar\": {\"outlinewidth\": 10, \"tickcolor\": \"rgb(36,36,36)\", \"ticklen\": 8, \"ticks\": \"outside\", \"tickwidth\": 2}}, \"type\": \"scatter\"}], \"scatter3d\": [{\"line\": {\"colorbar\": {\"outlinewidth\": 10, \"tickcolor\": \"rgb(36,36,36)\", \"ticklen\": 8, \"ticks\": \"outside\", \"tickwidth\": 2}}, \"marker\": {\"colorbar\": {\"outlinewidth\": 10, \"tickcolor\": \"rgb(36,36,36)\", \"ticklen\": 8, \"ticks\": \"outside\", \"tickwidth\": 2}}, \"type\": \"scatter3d\"}], \"scattercarpet\": [{\"marker\": {\"colorbar\": {\"outlinewidth\": 10, \"tickcolor\": \"rgb(36,36,36)\", \"ticklen\": 8, \"ticks\": \"outside\", \"tickwidth\": 2}}, \"type\": \"scattercarpet\"}], \"scattergeo\": [{\"marker\": {\"colorbar\": {\"outlinewidth\": 10, \"tickcolor\": \"rgb(36,36,36)\", \"ticklen\": 8, \"ticks\": \"outside\", \"tickwidth\": 2}}, \"type\": \"scattergeo\"}], \"scattergl\": [{\"marker\": {\"colorbar\": {\"outlinewidth\": 10, \"tickcolor\": \"rgb(36,36,36)\", \"ticklen\": 8, \"ticks\": \"outside\", \"tickwidth\": 2}}, \"type\": \"scattergl\"}], \"scattermapbox\": [{\"marker\": {\"colorbar\": {\"outlinewidth\": 10, \"tickcolor\": \"rgb(36,36,36)\", \"ticklen\": 8, \"ticks\": \"outside\", \"tickwidth\": 2}}, \"type\": \"scattermapbox\"}], \"scatterpolar\": [{\"marker\": {\"colorbar\": {\"outlinewidth\": 10, \"tickcolor\": \"rgb(36,36,36)\", \"ticklen\": 8, \"ticks\": \"outside\", \"tickwidth\": 2}}, \"type\": \"scatterpolar\"}], \"scatterpolargl\": [{\"marker\": {\"colorbar\": {\"outlinewidth\": 10, \"tickcolor\": \"rgb(36,36,36)\", \"ticklen\": 8, \"ticks\": \"outside\", \"tickwidth\": 2}}, \"type\": \"scatterpolargl\"}], \"scatterternary\": [{\"marker\": {\"colorbar\": {\"outlinewidth\": 10, \"tickcolor\": \"rgb(36,36,36)\", \"ticklen\": 8, \"ticks\": \"outside\", \"tickwidth\": 2}}, \"type\": \"scatterternary\"}], \"surface\": [{\"colorbar\": {\"outlinewidth\": 10, \"tickcolor\": \"rgb(36,36,36)\", \"ticklen\": 8, \"ticks\": \"outside\", \"tickwidth\": 2}, \"colorscale\": [[0.0, \"#440154\"], [0.1111111111111111, \"#482878\"], [0.2222222222222222, \"#3e4989\"], [0.3333333333333333, \"#31688e\"], [0.4444444444444444, \"#26828e\"], [0.5555555555555556, \"#1f9e89\"], [0.6666666666666666, \"#35b779\"], [0.7777777777777778, \"#6ece58\"], [0.8888888888888888, \"#b5de2b\"], [1.0, \"#fde725\"]], \"type\": \"surface\"}], \"table\": [{\"cells\": {\"fill\": {\"color\": \"rgb(237,237,237)\"}, \"line\": {\"color\": \"white\"}}, \"header\": {\"fill\": {\"color\": \"rgb(217,217,217)\"}, \"line\": {\"color\": \"white\"}}, \"type\": \"table\"}]}, \"layout\": {\"annotationdefaults\": {\"arrowhead\": 0, \"arrowwidth\": 1}, \"coloraxis\": {\"colorbar\": {\"outlinewidth\": 10, \"tickcolor\": \"rgb(36,36,36)\", \"ticklen\": 8, \"ticks\": \"outside\", \"tickwidth\": 2}}, \"colorscale\": {\"diverging\": [[0.0, \"rgb(103,0,31)\"], [0.1, \"rgb(178,24,43)\"], [0.2, \"rgb(214,96,77)\"], [0.3, \"rgb(244,165,130)\"], [0.4, \"rgb(253,219,199)\"], [0.5, \"rgb(247,247,247)\"], [0.6, \"rgb(209,229,240)\"], [0.7, \"rgb(146,197,222)\"], [0.8, \"rgb(67,147,195)\"], [0.9, \"rgb(33,102,172)\"], [1.0, \"rgb(5,48,97)\"]], \"sequential\": [[0.0, \"#440154\"], [0.1111111111111111, \"#482878\"], [0.2222222222222222, \"#3e4989\"], [0.3333333333333333, \"#31688e\"], [0.4444444444444444, \"#26828e\"], [0.5555555555555556, \"#1f9e89\"], [0.6666666666666666, \"#35b779\"], [0.7777777777777778, \"#6ece58\"], [0.8888888888888888, \"#b5de2b\"], [1.0, \"#fde725\"]], \"sequentialminus\": [[0.0, \"#440154\"], [0.1111111111111111, \"#482878\"], [0.2222222222222222, \"#3e4989\"], [0.3333333333333333, \"#31688e\"], [0.4444444444444444, \"#26828e\"], [0.5555555555555556, \"#1f9e89\"], [0.6666666666666666, \"#35b779\"], [0.7777777777777778, \"#6ece58\"], [0.8888888888888888, \"#b5de2b\"], [1.0, \"#fde725\"]]}, \"colorway\": [\"#1F77B4\", \"#FF7F0E\", \"#2CA02C\", \"#D62728\", \"#9467BD\", \"#8C564B\", \"#E377C2\", \"#7F7F7F\", \"#BCBD22\", \"#17BECF\"], \"font\": {\"color\": \"rgb(36,36,36)\"}, \"geo\": {\"bgcolor\": \"white\", \"lakecolor\": \"white\", \"landcolor\": \"white\", \"showlakes\": true, \"showland\": true, \"subunitcolor\": \"white\"}, \"hoverlabel\": {\"align\": \"left\"}, \"hovermode\": \"closest\", \"mapbox\": {\"style\": \"light\"}, \"paper_bgcolor\": \"white\", \"plot_bgcolor\": \"white\", \"polar\": {\"angularaxis\": {\"gridcolor\": \"rgb(232,232,232)\", \"linecolor\": \"rgb(36,36,36)\", \"showgrid\": false, \"showline\": true, \"ticks\": \"outside\"}, \"bgcolor\": \"white\", \"radialaxis\": {\"gridcolor\": \"rgb(232,232,232)\", \"linecolor\": \"rgb(36,36,36)\", \"showgrid\": false, \"showline\": true, \"ticks\": \"outside\"}}, \"scene\": {\"xaxis\": {\"backgroundcolor\": \"white\", \"gridcolor\": \"rgb(232,232,232)\", \"gridwidth\": 2, \"linecolor\": \"rgb(36,36,36)\", \"showbackground\": true, \"showgrid\": false, \"showline\": true, \"ticks\": \"outside\", \"zeroline\": false, \"zerolinecolor\": \"rgb(36,36,36)\"}, \"yaxis\": {\"backgroundcolor\": \"white\", \"gridcolor\": \"rgb(232,232,232)\", \"gridwidth\": 2, \"linecolor\": \"rgb(36,36,36)\", \"showbackground\": true, \"showgrid\": false, \"showline\": true, \"ticks\": \"outside\", \"zeroline\": false, \"zerolinecolor\": \"rgb(36,36,36)\"}, \"zaxis\": {\"backgroundcolor\": \"white\", \"gridcolor\": \"rgb(232,232,232)\", \"gridwidth\": 2, \"linecolor\": \"rgb(36,36,36)\", \"showbackground\": true, \"showgrid\": false, \"showline\": true, \"ticks\": \"outside\", \"zeroline\": false, \"zerolinecolor\": \"rgb(36,36,36)\"}}, \"shapedefaults\": {\"fillcolor\": \"black\", \"line\": {\"width\": 0}, \"opacity\": 0.3}, \"ternary\": {\"aaxis\": {\"gridcolor\": \"rgb(232,232,232)\", \"linecolor\": \"rgb(36,36,36)\", \"showgrid\": false, \"showline\": true, \"ticks\": \"outside\"}, \"baxis\": {\"gridcolor\": \"rgb(232,232,232)\", \"linecolor\": \"rgb(36,36,36)\", \"showgrid\": false, \"showline\": true, \"ticks\": \"outside\"}, \"bgcolor\": \"white\", \"caxis\": {\"gridcolor\": \"rgb(232,232,232)\", \"linecolor\": \"rgb(36,36,36)\", \"showgrid\": false, \"showline\": true, \"ticks\": \"outside\"}}, \"title\": {\"x\": 0.05}, \"xaxis\": {\"automargin\": true, \"gridcolor\": \"rgb(232,232,232)\", \"linecolor\": \"rgb(36,36,36)\", \"showgrid\": false, \"showline\": true, \"ticks\": \"outside\", \"title\": {\"standoff\": 15}, \"zeroline\": false, \"zerolinecolor\": \"rgb(36,36,36)\"}, \"yaxis\": {\"automargin\": true, \"gridcolor\": \"rgb(232,232,232)\", \"linecolor\": \"rgb(36,36,36)\", \"showgrid\": false, \"showline\": true, \"ticks\": \"outside\", \"title\": {\"standoff\": 15}, \"zeroline\": false, \"zerolinecolor\": \"rgb(36,36,36)\"}}}, \"title\": {\"font\": {\"size\": 26}, \"text\": \"Total Win by teams\"}, \"xaxis\": {\"anchor\": \"y\", \"domain\": [0.0, 1.0], \"title\": {\"text\": \"Team Name\"}}, \"yaxis\": {\"anchor\": \"x\", \"domain\": [0.0, 1.0], \"title\": {\"text\": \"Count\"}}},\n",
              "                        {\"responsive\": true}\n",
              "                    ).then(function(){\n",
              "                            \n",
              "var gd = document.getElementById('e7cce576-0bae-42dc-9055-8c28cb0c2f3c');\n",
              "var x = new MutationObserver(function (mutations, observer) {{\n",
              "        var display = window.getComputedStyle(gd).display;\n",
              "        if (!display || display === 'none') {{\n",
              "            console.log([gd, 'removed!']);\n",
              "            Plotly.purge(gd);\n",
              "            observer.disconnect();\n",
              "        }}\n",
              "}});\n",
              "\n",
              "// Listen for the removal of the full notebook cells\n",
              "var notebookContainer = gd.closest('#notebook-container');\n",
              "if (notebookContainer) {{\n",
              "    x.observe(notebookContainer, {childList: true});\n",
              "}}\n",
              "\n",
              "// Listen for the clearing of the current output cell\n",
              "var outputEl = gd.closest('.output');\n",
              "if (outputEl) {{\n",
              "    x.observe(outputEl, {childList: true});\n",
              "}}\n",
              "\n",
              "                        })\n",
              "                };\n",
              "                \n",
              "            </script>\n",
              "        </div>\n",
              "</body>\n",
              "</html>"
            ]
          },
          "metadata": {}
        }
      ]
    },
    {
      "cell_type": "markdown",
      "metadata": {
        "papermill": {
          "duration": 0.14252,
          "end_time": "2021-06-04T22:21:41.708168",
          "exception": false,
          "start_time": "2021-06-04T22:21:41.565648",
          "status": "completed"
        },
        "tags": [],
        "id": "tJdinieai33G"
      },
      "source": [
        "<div class=\"alert alert-block alert-info\"><p style='color:black;'> 📌\n",
        "Mumbai Indians had won the most matches(120), followed by Chennai Super Kings (106)\n",
        "</p>\n",
        "</div>\n"
      ]
    },
    {
      "cell_type": "markdown",
      "metadata": {
        "id": "tx2vpNyrre47"
      },
      "source": [
        "<small><a href='#0'>Go to top</a></small>  "
      ]
    },
    {
      "cell_type": "markdown",
      "metadata": {
        "papermill": {
          "duration": 0.142861,
          "end_time": "2021-06-04T22:21:42.285989",
          "exception": false,
          "start_time": "2021-06-04T22:21:42.143128",
          "status": "completed"
        },
        "tags": [],
        "id": "eHlr2EI0i33G"
      },
      "source": [
        "<a id=\"13\">\n",
        "<h1 style = \"font-family: Snell Roundhand;font-weight: 500;font-size: 30px; font-style: normal; background-color: #FFFB30; color :black;\"> 13) Win % by teams :</h1>\n"
      ]
    },
    {
      "cell_type": "code",
      "metadata": {
        "_kg_hide-input": true,
        "execution": {
          "iopub.execute_input": "2021-06-04T22:21:42.603893Z",
          "iopub.status.busy": "2021-06-04T22:21:42.603200Z",
          "iopub.status.idle": "2021-06-04T22:21:42.672082Z",
          "shell.execute_reply": "2021-06-04T22:21:42.671394Z",
          "shell.execute_reply.started": "2021-06-04T22:16:38.750286Z"
        },
        "papermill": {
          "duration": 0.242357,
          "end_time": "2021-06-04T22:21:42.672243",
          "exception": false,
          "start_time": "2021-06-04T22:21:42.429886",
          "status": "completed"
        },
        "tags": [],
        "colab": {
          "base_uri": "https://localhost:8080/",
          "height": 542
        },
        "id": "5Fn_cgUVi33H",
        "outputId": "ef591883-c8c9-425e-c2b9-9f70343914f0"
      },
      "source": [
        "colors = ['turquoise',] * 15\n",
        "colors[-4] = 'crimson'\n",
        "fig=px.bar(x=played['Team Name'],y=played['% Win'],labels=dict(x=\"Team Name\",y=\"Count\"),)\n",
        "fig.update_layout(title=\"Win % by teams\",\n",
        "                  titlefont={'size': 26},template='simple_white'     \n",
        "                  )\n",
        "fig.update_traces(marker_line_color='black',\n",
        "                  marker_line_width=2.5, opacity=1,marker_color=colors)\n",
        "fig.show()\n"
      ],
      "execution_count": 33,
      "outputs": [
        {
          "output_type": "display_data",
          "data": {
            "text/html": [
              "<html>\n",
              "<head><meta charset=\"utf-8\" /></head>\n",
              "<body>\n",
              "    <div>\n",
              "            <script src=\"https://cdnjs.cloudflare.com/ajax/libs/mathjax/2.7.5/MathJax.js?config=TeX-AMS-MML_SVG\"></script><script type=\"text/javascript\">if (window.MathJax) {MathJax.Hub.Config({SVG: {font: \"STIX-Web\"}});}</script>\n",
              "                <script type=\"text/javascript\">window.PlotlyConfig = {MathJaxConfig: 'local'};</script>\n",
              "        <script src=\"https://cdn.plot.ly/plotly-latest.min.js\"></script>    \n",
              "            <div id=\"9cd0a0e1-7e61-41a2-bf6f-b80ae2699026\" class=\"plotly-graph-div\" style=\"height:525px; width:100%;\"></div>\n",
              "            <script type=\"text/javascript\">\n",
              "                \n",
              "                    window.PLOTLYENV=window.PLOTLYENV || {};\n",
              "                    \n",
              "                if (document.getElementById(\"9cd0a0e1-7e61-41a2-bf6f-b80ae2699026\")) {\n",
              "                    Plotly.newPlot(\n",
              "                        '9cd0a0e1-7e61-41a2-bf6f-b80ae2699026',\n",
              "                        [{\"alignmentgroup\": \"True\", \"hoverlabel\": {\"namelength\": 0}, \"hovertemplate\": \"Team Name=%{x}<br>Count=%{y}\", \"legendgroup\": \"\", \"marker\": {\"color\": [\"turquoise\", \"turquoise\", \"turquoise\", \"turquoise\", \"turquoise\", \"turquoise\", \"turquoise\", \"turquoise\", \"turquoise\", \"turquoise\", \"turquoise\", \"crimson\", \"turquoise\", \"turquoise\", \"turquoise\"], \"line\": {\"color\": \"black\", \"width\": 2.5}}, \"name\": \"\", \"offsetgroup\": \"\", \"opacity\": 1, \"orientation\": \"v\", \"showlegend\": false, \"textposition\": \"auto\", \"type\": \"bar\", \"x\": [\"Chennai Super Kings\", \"Deccan Chargers\", \"Delhi Capitals\", \"Delhi Daredevils\", \"Gujarat Lions\", \"Kings XI Punjab\", \"Kochi Tuskers Kerala\", \"Kolkata Knight Riders\", \"Mumbai Indians\", \"Pune Warriors\", \"Rajasthan Royals\", \"Rising Pune Supergiant\", \"Rising Pune Supergiants\", \"Royal Challengers Bangalore\", \"Sunrisers Hyderabad\"], \"xaxis\": \"x\", \"y\": [59.55056179775281, 38.666666666666664, 57.57575757575758, 41.61490683229814, 43.333333333333336, 46.31578947368421, 42.857142857142854, 51.5625, 59.11330049261084, 26.08695652173913, 50.31055900621118, 62.5, 35.714285714285715, 46.666666666666664, 53.2258064516129], \"yaxis\": \"y\"}],\n",
              "                        {\"barmode\": \"relative\", \"legend\": {\"tracegroupgap\": 0}, \"margin\": {\"t\": 60}, \"template\": {\"data\": {\"bar\": [{\"error_x\": {\"color\": \"rgb(36,36,36)\"}, \"error_y\": {\"color\": \"rgb(36,36,36)\"}, \"marker\": {\"line\": {\"color\": \"white\", \"width\": 0.5}}, \"type\": \"bar\"}], \"barpolar\": [{\"marker\": {\"line\": {\"color\": \"white\", \"width\": 0.5}}, \"type\": \"barpolar\"}], \"carpet\": [{\"aaxis\": {\"endlinecolor\": \"rgb(36,36,36)\", \"gridcolor\": \"white\", \"linecolor\": \"white\", \"minorgridcolor\": \"white\", \"startlinecolor\": \"rgb(36,36,36)\"}, \"baxis\": {\"endlinecolor\": \"rgb(36,36,36)\", \"gridcolor\": \"white\", \"linecolor\": \"white\", \"minorgridcolor\": \"white\", \"startlinecolor\": \"rgb(36,36,36)\"}, \"type\": \"carpet\"}], \"choropleth\": [{\"colorbar\": {\"outlinewidth\": 10, \"tickcolor\": \"rgb(36,36,36)\", \"ticklen\": 8, \"ticks\": \"outside\", \"tickwidth\": 2}, \"type\": \"choropleth\"}], \"contour\": [{\"colorbar\": {\"outlinewidth\": 10, \"tickcolor\": \"rgb(36,36,36)\", \"ticklen\": 8, \"ticks\": \"outside\", \"tickwidth\": 2}, \"colorscale\": [[0.0, \"#440154\"], [0.1111111111111111, \"#482878\"], [0.2222222222222222, \"#3e4989\"], [0.3333333333333333, \"#31688e\"], [0.4444444444444444, \"#26828e\"], [0.5555555555555556, \"#1f9e89\"], [0.6666666666666666, \"#35b779\"], [0.7777777777777778, \"#6ece58\"], [0.8888888888888888, \"#b5de2b\"], [1.0, \"#fde725\"]], \"type\": \"contour\"}], \"contourcarpet\": [{\"colorbar\": {\"outlinewidth\": 10, \"tickcolor\": \"rgb(36,36,36)\", \"ticklen\": 8, \"ticks\": \"outside\", \"tickwidth\": 2}, \"type\": \"contourcarpet\"}], \"heatmap\": [{\"colorbar\": {\"outlinewidth\": 10, \"tickcolor\": \"rgb(36,36,36)\", \"ticklen\": 8, \"ticks\": \"outside\", \"tickwidth\": 2}, \"colorscale\": [[0.0, \"#440154\"], [0.1111111111111111, \"#482878\"], [0.2222222222222222, \"#3e4989\"], [0.3333333333333333, \"#31688e\"], [0.4444444444444444, \"#26828e\"], [0.5555555555555556, \"#1f9e89\"], [0.6666666666666666, \"#35b779\"], [0.7777777777777778, \"#6ece58\"], [0.8888888888888888, \"#b5de2b\"], [1.0, \"#fde725\"]], \"type\": \"heatmap\"}], \"heatmapgl\": [{\"colorbar\": {\"outlinewidth\": 10, \"tickcolor\": \"rgb(36,36,36)\", \"ticklen\": 8, \"ticks\": \"outside\", \"tickwidth\": 2}, \"colorscale\": [[0.0, \"#440154\"], [0.1111111111111111, \"#482878\"], [0.2222222222222222, \"#3e4989\"], [0.3333333333333333, \"#31688e\"], [0.4444444444444444, \"#26828e\"], [0.5555555555555556, \"#1f9e89\"], [0.6666666666666666, \"#35b779\"], [0.7777777777777778, \"#6ece58\"], [0.8888888888888888, \"#b5de2b\"], [1.0, \"#fde725\"]], \"type\": \"heatmapgl\"}], \"histogram\": [{\"marker\": {\"line\": {\"color\": \"white\", \"width\": 0.6}}, \"type\": \"histogram\"}], \"histogram2d\": [{\"colorbar\": {\"outlinewidth\": 10, \"tickcolor\": \"rgb(36,36,36)\", \"ticklen\": 8, \"ticks\": \"outside\", \"tickwidth\": 2}, \"colorscale\": [[0.0, \"#440154\"], [0.1111111111111111, \"#482878\"], [0.2222222222222222, \"#3e4989\"], [0.3333333333333333, \"#31688e\"], [0.4444444444444444, \"#26828e\"], [0.5555555555555556, \"#1f9e89\"], [0.6666666666666666, \"#35b779\"], [0.7777777777777778, \"#6ece58\"], [0.8888888888888888, \"#b5de2b\"], [1.0, \"#fde725\"]], \"type\": \"histogram2d\"}], \"histogram2dcontour\": [{\"colorbar\": {\"outlinewidth\": 10, \"tickcolor\": \"rgb(36,36,36)\", \"ticklen\": 8, \"ticks\": \"outside\", \"tickwidth\": 2}, \"colorscale\": [[0.0, \"#440154\"], [0.1111111111111111, \"#482878\"], [0.2222222222222222, \"#3e4989\"], [0.3333333333333333, \"#31688e\"], [0.4444444444444444, \"#26828e\"], [0.5555555555555556, \"#1f9e89\"], [0.6666666666666666, \"#35b779\"], [0.7777777777777778, \"#6ece58\"], [0.8888888888888888, \"#b5de2b\"], [1.0, \"#fde725\"]], \"type\": \"histogram2dcontour\"}], \"mesh3d\": [{\"colorbar\": {\"outlinewidth\": 10, \"tickcolor\": \"rgb(36,36,36)\", \"ticklen\": 8, \"ticks\": \"outside\", \"tickwidth\": 2}, \"type\": \"mesh3d\"}], \"parcoords\": [{\"line\": {\"colorbar\": {\"outlinewidth\": 10, \"tickcolor\": \"rgb(36,36,36)\", \"ticklen\": 8, \"ticks\": \"outside\", \"tickwidth\": 2}}, \"type\": \"parcoords\"}], \"pie\": [{\"automargin\": true, \"type\": \"pie\"}], \"scatter\": [{\"marker\": {\"colorbar\": {\"outlinewidth\": 10, \"tickcolor\": \"rgb(36,36,36)\", \"ticklen\": 8, \"ticks\": \"outside\", \"tickwidth\": 2}}, \"type\": \"scatter\"}], \"scatter3d\": [{\"line\": {\"colorbar\": {\"outlinewidth\": 10, \"tickcolor\": \"rgb(36,36,36)\", \"ticklen\": 8, \"ticks\": \"outside\", \"tickwidth\": 2}}, \"marker\": {\"colorbar\": {\"outlinewidth\": 10, \"tickcolor\": \"rgb(36,36,36)\", \"ticklen\": 8, \"ticks\": \"outside\", \"tickwidth\": 2}}, \"type\": \"scatter3d\"}], \"scattercarpet\": [{\"marker\": {\"colorbar\": {\"outlinewidth\": 10, \"tickcolor\": \"rgb(36,36,36)\", \"ticklen\": 8, \"ticks\": \"outside\", \"tickwidth\": 2}}, \"type\": \"scattercarpet\"}], \"scattergeo\": [{\"marker\": {\"colorbar\": {\"outlinewidth\": 10, \"tickcolor\": \"rgb(36,36,36)\", \"ticklen\": 8, \"ticks\": \"outside\", \"tickwidth\": 2}}, \"type\": \"scattergeo\"}], \"scattergl\": [{\"marker\": {\"colorbar\": {\"outlinewidth\": 10, \"tickcolor\": \"rgb(36,36,36)\", \"ticklen\": 8, \"ticks\": \"outside\", \"tickwidth\": 2}}, \"type\": \"scattergl\"}], \"scattermapbox\": [{\"marker\": {\"colorbar\": {\"outlinewidth\": 10, \"tickcolor\": \"rgb(36,36,36)\", \"ticklen\": 8, \"ticks\": \"outside\", \"tickwidth\": 2}}, \"type\": \"scattermapbox\"}], \"scatterpolar\": [{\"marker\": {\"colorbar\": {\"outlinewidth\": 10, \"tickcolor\": \"rgb(36,36,36)\", \"ticklen\": 8, \"ticks\": \"outside\", \"tickwidth\": 2}}, \"type\": \"scatterpolar\"}], \"scatterpolargl\": [{\"marker\": {\"colorbar\": {\"outlinewidth\": 10, \"tickcolor\": \"rgb(36,36,36)\", \"ticklen\": 8, \"ticks\": \"outside\", \"tickwidth\": 2}}, \"type\": \"scatterpolargl\"}], \"scatterternary\": [{\"marker\": {\"colorbar\": {\"outlinewidth\": 10, \"tickcolor\": \"rgb(36,36,36)\", \"ticklen\": 8, \"ticks\": \"outside\", \"tickwidth\": 2}}, \"type\": \"scatterternary\"}], \"surface\": [{\"colorbar\": {\"outlinewidth\": 10, \"tickcolor\": \"rgb(36,36,36)\", \"ticklen\": 8, \"ticks\": \"outside\", \"tickwidth\": 2}, \"colorscale\": [[0.0, \"#440154\"], [0.1111111111111111, \"#482878\"], [0.2222222222222222, \"#3e4989\"], [0.3333333333333333, \"#31688e\"], [0.4444444444444444, \"#26828e\"], [0.5555555555555556, \"#1f9e89\"], [0.6666666666666666, \"#35b779\"], [0.7777777777777778, \"#6ece58\"], [0.8888888888888888, \"#b5de2b\"], [1.0, \"#fde725\"]], \"type\": \"surface\"}], \"table\": [{\"cells\": {\"fill\": {\"color\": \"rgb(237,237,237)\"}, \"line\": {\"color\": \"white\"}}, \"header\": {\"fill\": {\"color\": \"rgb(217,217,217)\"}, \"line\": {\"color\": \"white\"}}, \"type\": \"table\"}]}, \"layout\": {\"annotationdefaults\": {\"arrowhead\": 0, \"arrowwidth\": 1}, \"coloraxis\": {\"colorbar\": {\"outlinewidth\": 10, \"tickcolor\": \"rgb(36,36,36)\", \"ticklen\": 8, \"ticks\": \"outside\", \"tickwidth\": 2}}, \"colorscale\": {\"diverging\": [[0.0, \"rgb(103,0,31)\"], [0.1, \"rgb(178,24,43)\"], [0.2, \"rgb(214,96,77)\"], [0.3, \"rgb(244,165,130)\"], [0.4, \"rgb(253,219,199)\"], [0.5, \"rgb(247,247,247)\"], [0.6, \"rgb(209,229,240)\"], [0.7, \"rgb(146,197,222)\"], [0.8, \"rgb(67,147,195)\"], [0.9, \"rgb(33,102,172)\"], [1.0, \"rgb(5,48,97)\"]], \"sequential\": [[0.0, \"#440154\"], [0.1111111111111111, \"#482878\"], [0.2222222222222222, \"#3e4989\"], [0.3333333333333333, \"#31688e\"], [0.4444444444444444, \"#26828e\"], [0.5555555555555556, \"#1f9e89\"], [0.6666666666666666, \"#35b779\"], [0.7777777777777778, \"#6ece58\"], [0.8888888888888888, \"#b5de2b\"], [1.0, \"#fde725\"]], \"sequentialminus\": [[0.0, \"#440154\"], [0.1111111111111111, \"#482878\"], [0.2222222222222222, \"#3e4989\"], [0.3333333333333333, \"#31688e\"], [0.4444444444444444, \"#26828e\"], [0.5555555555555556, \"#1f9e89\"], [0.6666666666666666, \"#35b779\"], [0.7777777777777778, \"#6ece58\"], [0.8888888888888888, \"#b5de2b\"], [1.0, \"#fde725\"]]}, \"colorway\": [\"#1F77B4\", \"#FF7F0E\", \"#2CA02C\", \"#D62728\", \"#9467BD\", \"#8C564B\", \"#E377C2\", \"#7F7F7F\", \"#BCBD22\", \"#17BECF\"], \"font\": {\"color\": \"rgb(36,36,36)\"}, \"geo\": {\"bgcolor\": \"white\", \"lakecolor\": \"white\", \"landcolor\": \"white\", \"showlakes\": true, \"showland\": true, \"subunitcolor\": \"white\"}, \"hoverlabel\": {\"align\": \"left\"}, \"hovermode\": \"closest\", \"mapbox\": {\"style\": \"light\"}, \"paper_bgcolor\": \"white\", \"plot_bgcolor\": \"white\", \"polar\": {\"angularaxis\": {\"gridcolor\": \"rgb(232,232,232)\", \"linecolor\": \"rgb(36,36,36)\", \"showgrid\": false, \"showline\": true, \"ticks\": \"outside\"}, \"bgcolor\": \"white\", \"radialaxis\": {\"gridcolor\": \"rgb(232,232,232)\", \"linecolor\": \"rgb(36,36,36)\", \"showgrid\": false, \"showline\": true, \"ticks\": \"outside\"}}, \"scene\": {\"xaxis\": {\"backgroundcolor\": \"white\", \"gridcolor\": \"rgb(232,232,232)\", \"gridwidth\": 2, \"linecolor\": \"rgb(36,36,36)\", \"showbackground\": true, \"showgrid\": false, \"showline\": true, \"ticks\": \"outside\", \"zeroline\": false, \"zerolinecolor\": \"rgb(36,36,36)\"}, \"yaxis\": {\"backgroundcolor\": \"white\", \"gridcolor\": \"rgb(232,232,232)\", \"gridwidth\": 2, \"linecolor\": \"rgb(36,36,36)\", \"showbackground\": true, \"showgrid\": false, \"showline\": true, \"ticks\": \"outside\", \"zeroline\": false, \"zerolinecolor\": \"rgb(36,36,36)\"}, \"zaxis\": {\"backgroundcolor\": \"white\", \"gridcolor\": \"rgb(232,232,232)\", \"gridwidth\": 2, \"linecolor\": \"rgb(36,36,36)\", \"showbackground\": true, \"showgrid\": false, \"showline\": true, \"ticks\": \"outside\", \"zeroline\": false, \"zerolinecolor\": \"rgb(36,36,36)\"}}, \"shapedefaults\": {\"fillcolor\": \"black\", \"line\": {\"width\": 0}, \"opacity\": 0.3}, \"ternary\": {\"aaxis\": {\"gridcolor\": \"rgb(232,232,232)\", \"linecolor\": \"rgb(36,36,36)\", \"showgrid\": false, \"showline\": true, \"ticks\": \"outside\"}, \"baxis\": {\"gridcolor\": \"rgb(232,232,232)\", \"linecolor\": \"rgb(36,36,36)\", \"showgrid\": false, \"showline\": true, \"ticks\": \"outside\"}, \"bgcolor\": \"white\", \"caxis\": {\"gridcolor\": \"rgb(232,232,232)\", \"linecolor\": \"rgb(36,36,36)\", \"showgrid\": false, \"showline\": true, \"ticks\": \"outside\"}}, \"title\": {\"x\": 0.05}, \"xaxis\": {\"automargin\": true, \"gridcolor\": \"rgb(232,232,232)\", \"linecolor\": \"rgb(36,36,36)\", \"showgrid\": false, \"showline\": true, \"ticks\": \"outside\", \"title\": {\"standoff\": 15}, \"zeroline\": false, \"zerolinecolor\": \"rgb(36,36,36)\"}, \"yaxis\": {\"automargin\": true, \"gridcolor\": \"rgb(232,232,232)\", \"linecolor\": \"rgb(36,36,36)\", \"showgrid\": false, \"showline\": true, \"ticks\": \"outside\", \"title\": {\"standoff\": 15}, \"zeroline\": false, \"zerolinecolor\": \"rgb(36,36,36)\"}}}, \"title\": {\"font\": {\"size\": 26}, \"text\": \"Win % by teams\"}, \"xaxis\": {\"anchor\": \"y\", \"domain\": [0.0, 1.0], \"title\": {\"text\": \"Team Name\"}}, \"yaxis\": {\"anchor\": \"x\", \"domain\": [0.0, 1.0], \"title\": {\"text\": \"Count\"}}},\n",
              "                        {\"responsive\": true}\n",
              "                    ).then(function(){\n",
              "                            \n",
              "var gd = document.getElementById('9cd0a0e1-7e61-41a2-bf6f-b80ae2699026');\n",
              "var x = new MutationObserver(function (mutations, observer) {{\n",
              "        var display = window.getComputedStyle(gd).display;\n",
              "        if (!display || display === 'none') {{\n",
              "            console.log([gd, 'removed!']);\n",
              "            Plotly.purge(gd);\n",
              "            observer.disconnect();\n",
              "        }}\n",
              "}});\n",
              "\n",
              "// Listen for the removal of the full notebook cells\n",
              "var notebookContainer = gd.closest('#notebook-container');\n",
              "if (notebookContainer) {{\n",
              "    x.observe(notebookContainer, {childList: true});\n",
              "}}\n",
              "\n",
              "// Listen for the clearing of the current output cell\n",
              "var outputEl = gd.closest('.output');\n",
              "if (outputEl) {{\n",
              "    x.observe(outputEl, {childList: true});\n",
              "}}\n",
              "\n",
              "                        })\n",
              "                };\n",
              "                \n",
              "            </script>\n",
              "        </div>\n",
              "</body>\n",
              "</html>"
            ]
          },
          "metadata": {}
        }
      ]
    },
    {
      "cell_type": "markdown",
      "metadata": {
        "papermill": {
          "duration": 0.145361,
          "end_time": "2021-06-04T22:21:43.006662",
          "exception": false,
          "start_time": "2021-06-04T22:21:42.861301",
          "status": "completed"
        },
        "tags": [],
        "id": "wdcVx-uYi33H"
      },
      "source": [
        "<div class=\"alert alert-block alert-info\"><p style='color:black;'> 📌\n",
        "Rising Pune Supergiants have the highest win % of 62.50, followed by Chennai Super kings and Mumbai Indians.<br> \n",
        "This is largely due to the fact that they had played really few matches.\n",
        "</p>\n",
        "</div>\n"
      ]
    },
    {
      "cell_type": "markdown",
      "metadata": {
        "id": "NOAOiBvIrbQM"
      },
      "source": [
        "<small><a href='#0'>Go to top</a></small>  "
      ]
    },
    {
      "cell_type": "markdown",
      "metadata": {
        "papermill": {
          "duration": 0.148697,
          "end_time": "2021-06-04T22:21:43.589467",
          "exception": false,
          "start_time": "2021-06-04T22:21:43.440770",
          "status": "completed"
        },
        "tags": [],
        "id": "bzlx0rnIi33H"
      },
      "source": [
        "<a id=\"14\">\n",
        "<h1 style = \"font-family: Snell Roundhand;font-weight: 500;font-size: 30px; font-style: normal; background-color: #FFFB30; color :black;\">14) Lucky Venues for a team :</h1>"
      ]
    },
    {
      "cell_type": "code",
      "metadata": {
        "_kg_hide-input": true,
        "execution": {
          "iopub.execute_input": "2021-06-04T22:21:43.888149Z",
          "iopub.status.busy": "2021-06-04T22:21:43.887439Z",
          "iopub.status.idle": "2021-06-04T22:21:43.890132Z",
          "shell.execute_reply": "2021-06-04T22:21:43.890610Z",
          "shell.execute_reply.started": "2021-06-04T22:16:38.828481Z"
        },
        "papermill": {
          "duration": 0.155078,
          "end_time": "2021-06-04T22:21:43.890799",
          "exception": false,
          "start_time": "2021-06-04T22:21:43.735721",
          "status": "completed"
        },
        "tags": [],
        "id": "BFvfrtNZi33H"
      },
      "source": [
        "def lucky(match_data,team_name):\n",
        "    return match_data[match_data['winner']==team_name]['venue'].value_counts().nlargest(10)"
      ],
      "execution_count": 34,
      "outputs": []
    },
    {
      "cell_type": "code",
      "metadata": {
        "_kg_hide-input": true,
        "execution": {
          "iopub.execute_input": "2021-06-04T22:21:44.192020Z",
          "iopub.status.busy": "2021-06-04T22:21:44.189530Z",
          "iopub.status.idle": "2021-06-04T22:21:44.209849Z",
          "shell.execute_reply": "2021-06-04T22:21:44.210423Z",
          "shell.execute_reply.started": "2021-06-04T22:16:38.834405Z"
        },
        "papermill": {
          "duration": 0.174697,
          "end_time": "2021-06-04T22:21:44.210632",
          "exception": false,
          "start_time": "2021-06-04T22:21:44.035935",
          "status": "completed"
        },
        "tags": [],
        "colab": {
          "base_uri": "https://localhost:8080/",
          "height": 542
        },
        "id": "yleUYsY_i33H",
        "outputId": "11d68b44-743b-43ec-ba1b-50c7c7019c40"
      },
      "source": [
        "mi=lucky(match_data,'Mumbai Indians')\n",
        "values = mi\n",
        "labels=mi.index\n",
        "colors = ['turquoise', 'crimson']\n",
        "fig = go.Figure(data=[go.Pie(labels=labels,values=values,hole=.3)])\n",
        "fig.update_traces(hoverinfo='label+percent', textinfo='value', textfont_size=20,\n",
        "                  marker=dict(colors=colors, line=dict(color='#000000', width=3)))\n",
        "fig.update_layout(title=\"Wins at different Venues for MI:\",\n",
        "                  titlefont={'size': 30},\n",
        "                  )\n",
        "fig.show()"
      ],
      "execution_count": 35,
      "outputs": [
        {
          "output_type": "display_data",
          "data": {
            "text/html": [
              "<html>\n",
              "<head><meta charset=\"utf-8\" /></head>\n",
              "<body>\n",
              "    <div>\n",
              "            <script src=\"https://cdnjs.cloudflare.com/ajax/libs/mathjax/2.7.5/MathJax.js?config=TeX-AMS-MML_SVG\"></script><script type=\"text/javascript\">if (window.MathJax) {MathJax.Hub.Config({SVG: {font: \"STIX-Web\"}});}</script>\n",
              "                <script type=\"text/javascript\">window.PlotlyConfig = {MathJaxConfig: 'local'};</script>\n",
              "        <script src=\"https://cdn.plot.ly/plotly-latest.min.js\"></script>    \n",
              "            <div id=\"81c1af54-945a-469b-8362-a478123fe2c4\" class=\"plotly-graph-div\" style=\"height:525px; width:100%;\"></div>\n",
              "            <script type=\"text/javascript\">\n",
              "                \n",
              "                    window.PLOTLYENV=window.PLOTLYENV || {};\n",
              "                    \n",
              "                if (document.getElementById(\"81c1af54-945a-469b-8362-a478123fe2c4\")) {\n",
              "                    Plotly.newPlot(\n",
              "                        '81c1af54-945a-469b-8362-a478123fe2c4',\n",
              "                        [{\"hole\": 0.3, \"hoverinfo\": \"label+percent\", \"labels\": [\"Wankhede Stadium\", \"Eden Gardens\", \"M Chinnaswamy Stadium\", \"Rajiv Gandhi International Stadium, Uppal\", \"Brabourne Stadium\", \"Sheikh Zayed Stadium\", \"Dr DY Patil Sports Academy\", \"MA Chidambaram Stadium, Chepauk\", \"Feroz Shah Kotla\", \"Punjab Cricket Association Stadium, Mohali\"], \"marker\": {\"colors\": [\"turquoise\", \"crimson\"], \"line\": {\"color\": \"#000000\", \"width\": 3}}, \"textfont\": {\"size\": 20}, \"textinfo\": \"value\", \"type\": \"pie\", \"values\": [42, 10, 8, 7, 6, 6, 5, 5, 4, 3]}],\n",
              "                        {\"template\": {\"data\": {\"bar\": [{\"error_x\": {\"color\": \"#2a3f5f\"}, \"error_y\": {\"color\": \"#2a3f5f\"}, \"marker\": {\"line\": {\"color\": \"#E5ECF6\", \"width\": 0.5}}, \"type\": \"bar\"}], \"barpolar\": [{\"marker\": {\"line\": {\"color\": \"#E5ECF6\", \"width\": 0.5}}, \"type\": \"barpolar\"}], \"carpet\": [{\"aaxis\": {\"endlinecolor\": \"#2a3f5f\", \"gridcolor\": \"white\", \"linecolor\": \"white\", \"minorgridcolor\": \"white\", \"startlinecolor\": \"#2a3f5f\"}, \"baxis\": {\"endlinecolor\": \"#2a3f5f\", \"gridcolor\": \"white\", \"linecolor\": \"white\", \"minorgridcolor\": \"white\", \"startlinecolor\": \"#2a3f5f\"}, \"type\": \"carpet\"}], \"choropleth\": [{\"colorbar\": {\"outlinewidth\": 0, \"ticks\": \"\"}, \"type\": \"choropleth\"}], \"contour\": [{\"colorbar\": {\"outlinewidth\": 0, \"ticks\": \"\"}, \"colorscale\": [[0.0, \"#0d0887\"], [0.1111111111111111, \"#46039f\"], [0.2222222222222222, \"#7201a8\"], [0.3333333333333333, \"#9c179e\"], [0.4444444444444444, \"#bd3786\"], [0.5555555555555556, \"#d8576b\"], [0.6666666666666666, \"#ed7953\"], [0.7777777777777778, \"#fb9f3a\"], [0.8888888888888888, \"#fdca26\"], [1.0, \"#f0f921\"]], \"type\": \"contour\"}], \"contourcarpet\": [{\"colorbar\": {\"outlinewidth\": 0, \"ticks\": \"\"}, \"type\": \"contourcarpet\"}], \"heatmap\": [{\"colorbar\": {\"outlinewidth\": 0, \"ticks\": \"\"}, \"colorscale\": [[0.0, \"#0d0887\"], [0.1111111111111111, \"#46039f\"], [0.2222222222222222, \"#7201a8\"], [0.3333333333333333, \"#9c179e\"], [0.4444444444444444, \"#bd3786\"], [0.5555555555555556, \"#d8576b\"], [0.6666666666666666, \"#ed7953\"], [0.7777777777777778, \"#fb9f3a\"], [0.8888888888888888, \"#fdca26\"], [1.0, \"#f0f921\"]], \"type\": \"heatmap\"}], \"heatmapgl\": [{\"colorbar\": {\"outlinewidth\": 0, \"ticks\": \"\"}, \"colorscale\": [[0.0, \"#0d0887\"], [0.1111111111111111, \"#46039f\"], [0.2222222222222222, \"#7201a8\"], [0.3333333333333333, \"#9c179e\"], [0.4444444444444444, \"#bd3786\"], [0.5555555555555556, \"#d8576b\"], [0.6666666666666666, \"#ed7953\"], [0.7777777777777778, \"#fb9f3a\"], [0.8888888888888888, \"#fdca26\"], [1.0, \"#f0f921\"]], \"type\": \"heatmapgl\"}], \"histogram\": [{\"marker\": {\"colorbar\": {\"outlinewidth\": 0, \"ticks\": \"\"}}, \"type\": \"histogram\"}], \"histogram2d\": [{\"colorbar\": {\"outlinewidth\": 0, \"ticks\": \"\"}, \"colorscale\": [[0.0, \"#0d0887\"], [0.1111111111111111, \"#46039f\"], [0.2222222222222222, \"#7201a8\"], [0.3333333333333333, \"#9c179e\"], [0.4444444444444444, \"#bd3786\"], [0.5555555555555556, \"#d8576b\"], [0.6666666666666666, \"#ed7953\"], [0.7777777777777778, \"#fb9f3a\"], [0.8888888888888888, \"#fdca26\"], [1.0, \"#f0f921\"]], \"type\": \"histogram2d\"}], \"histogram2dcontour\": [{\"colorbar\": {\"outlinewidth\": 0, \"ticks\": \"\"}, \"colorscale\": [[0.0, \"#0d0887\"], [0.1111111111111111, \"#46039f\"], [0.2222222222222222, \"#7201a8\"], [0.3333333333333333, \"#9c179e\"], [0.4444444444444444, \"#bd3786\"], [0.5555555555555556, \"#d8576b\"], [0.6666666666666666, \"#ed7953\"], [0.7777777777777778, \"#fb9f3a\"], [0.8888888888888888, \"#fdca26\"], [1.0, \"#f0f921\"]], \"type\": \"histogram2dcontour\"}], \"mesh3d\": [{\"colorbar\": {\"outlinewidth\": 0, \"ticks\": \"\"}, \"type\": \"mesh3d\"}], \"parcoords\": [{\"line\": {\"colorbar\": {\"outlinewidth\": 0, \"ticks\": \"\"}}, \"type\": \"parcoords\"}], \"pie\": [{\"automargin\": true, \"type\": \"pie\"}], \"scatter\": [{\"marker\": {\"colorbar\": {\"outlinewidth\": 0, \"ticks\": \"\"}}, \"type\": \"scatter\"}], \"scatter3d\": [{\"line\": {\"colorbar\": {\"outlinewidth\": 0, \"ticks\": \"\"}}, \"marker\": {\"colorbar\": {\"outlinewidth\": 0, \"ticks\": \"\"}}, \"type\": \"scatter3d\"}], \"scattercarpet\": [{\"marker\": {\"colorbar\": {\"outlinewidth\": 0, \"ticks\": \"\"}}, \"type\": \"scattercarpet\"}], \"scattergeo\": [{\"marker\": {\"colorbar\": {\"outlinewidth\": 0, \"ticks\": \"\"}}, \"type\": \"scattergeo\"}], \"scattergl\": [{\"marker\": {\"colorbar\": {\"outlinewidth\": 0, \"ticks\": \"\"}}, \"type\": \"scattergl\"}], \"scattermapbox\": [{\"marker\": {\"colorbar\": {\"outlinewidth\": 0, \"ticks\": \"\"}}, \"type\": \"scattermapbox\"}], \"scatterpolar\": [{\"marker\": {\"colorbar\": {\"outlinewidth\": 0, \"ticks\": \"\"}}, \"type\": \"scatterpolar\"}], \"scatterpolargl\": [{\"marker\": {\"colorbar\": {\"outlinewidth\": 0, \"ticks\": \"\"}}, \"type\": \"scatterpolargl\"}], \"scatterternary\": [{\"marker\": {\"colorbar\": {\"outlinewidth\": 0, \"ticks\": \"\"}}, \"type\": \"scatterternary\"}], \"surface\": [{\"colorbar\": {\"outlinewidth\": 0, \"ticks\": \"\"}, \"colorscale\": [[0.0, \"#0d0887\"], [0.1111111111111111, \"#46039f\"], [0.2222222222222222, \"#7201a8\"], [0.3333333333333333, \"#9c179e\"], [0.4444444444444444, \"#bd3786\"], [0.5555555555555556, \"#d8576b\"], [0.6666666666666666, \"#ed7953\"], [0.7777777777777778, \"#fb9f3a\"], [0.8888888888888888, \"#fdca26\"], [1.0, \"#f0f921\"]], \"type\": \"surface\"}], \"table\": [{\"cells\": {\"fill\": {\"color\": \"#EBF0F8\"}, \"line\": {\"color\": \"white\"}}, \"header\": {\"fill\": {\"color\": \"#C8D4E3\"}, \"line\": {\"color\": \"white\"}}, \"type\": \"table\"}]}, \"layout\": {\"annotationdefaults\": {\"arrowcolor\": \"#2a3f5f\", \"arrowhead\": 0, \"arrowwidth\": 1}, \"coloraxis\": {\"colorbar\": {\"outlinewidth\": 0, \"ticks\": \"\"}}, \"colorscale\": {\"diverging\": [[0, \"#8e0152\"], [0.1, \"#c51b7d\"], [0.2, \"#de77ae\"], [0.3, \"#f1b6da\"], [0.4, \"#fde0ef\"], [0.5, \"#f7f7f7\"], [0.6, \"#e6f5d0\"], [0.7, \"#b8e186\"], [0.8, \"#7fbc41\"], [0.9, \"#4d9221\"], [1, \"#276419\"]], \"sequential\": [[0.0, \"#0d0887\"], [0.1111111111111111, \"#46039f\"], [0.2222222222222222, \"#7201a8\"], [0.3333333333333333, \"#9c179e\"], [0.4444444444444444, \"#bd3786\"], [0.5555555555555556, \"#d8576b\"], [0.6666666666666666, \"#ed7953\"], [0.7777777777777778, \"#fb9f3a\"], [0.8888888888888888, \"#fdca26\"], [1.0, \"#f0f921\"]], \"sequentialminus\": [[0.0, \"#0d0887\"], [0.1111111111111111, \"#46039f\"], [0.2222222222222222, \"#7201a8\"], [0.3333333333333333, \"#9c179e\"], [0.4444444444444444, \"#bd3786\"], [0.5555555555555556, \"#d8576b\"], [0.6666666666666666, \"#ed7953\"], [0.7777777777777778, \"#fb9f3a\"], [0.8888888888888888, \"#fdca26\"], [1.0, \"#f0f921\"]]}, \"colorway\": [\"#636efa\", \"#EF553B\", \"#00cc96\", \"#ab63fa\", \"#FFA15A\", \"#19d3f3\", \"#FF6692\", \"#B6E880\", \"#FF97FF\", \"#FECB52\"], \"font\": {\"color\": \"#2a3f5f\"}, \"geo\": {\"bgcolor\": \"white\", \"lakecolor\": \"white\", \"landcolor\": \"#E5ECF6\", \"showlakes\": true, \"showland\": true, \"subunitcolor\": \"white\"}, \"hoverlabel\": {\"align\": \"left\"}, \"hovermode\": \"closest\", \"mapbox\": {\"style\": \"light\"}, \"paper_bgcolor\": \"white\", \"plot_bgcolor\": \"#E5ECF6\", \"polar\": {\"angularaxis\": {\"gridcolor\": \"white\", \"linecolor\": \"white\", \"ticks\": \"\"}, \"bgcolor\": \"#E5ECF6\", \"radialaxis\": {\"gridcolor\": \"white\", \"linecolor\": \"white\", \"ticks\": \"\"}}, \"scene\": {\"xaxis\": {\"backgroundcolor\": \"#E5ECF6\", \"gridcolor\": \"white\", \"gridwidth\": 2, \"linecolor\": \"white\", \"showbackground\": true, \"ticks\": \"\", \"zerolinecolor\": \"white\"}, \"yaxis\": {\"backgroundcolor\": \"#E5ECF6\", \"gridcolor\": \"white\", \"gridwidth\": 2, \"linecolor\": \"white\", \"showbackground\": true, \"ticks\": \"\", \"zerolinecolor\": \"white\"}, \"zaxis\": {\"backgroundcolor\": \"#E5ECF6\", \"gridcolor\": \"white\", \"gridwidth\": 2, \"linecolor\": \"white\", \"showbackground\": true, \"ticks\": \"\", \"zerolinecolor\": \"white\"}}, \"shapedefaults\": {\"line\": {\"color\": \"#2a3f5f\"}}, \"ternary\": {\"aaxis\": {\"gridcolor\": \"white\", \"linecolor\": \"white\", \"ticks\": \"\"}, \"baxis\": {\"gridcolor\": \"white\", \"linecolor\": \"white\", \"ticks\": \"\"}, \"bgcolor\": \"#E5ECF6\", \"caxis\": {\"gridcolor\": \"white\", \"linecolor\": \"white\", \"ticks\": \"\"}}, \"title\": {\"x\": 0.05}, \"xaxis\": {\"automargin\": true, \"gridcolor\": \"white\", \"linecolor\": \"white\", \"ticks\": \"\", \"title\": {\"standoff\": 15}, \"zerolinecolor\": \"white\", \"zerolinewidth\": 2}, \"yaxis\": {\"automargin\": true, \"gridcolor\": \"white\", \"linecolor\": \"white\", \"ticks\": \"\", \"title\": {\"standoff\": 15}, \"zerolinecolor\": \"white\", \"zerolinewidth\": 2}}}, \"title\": {\"font\": {\"size\": 30}, \"text\": \"Wins at different Venues for MI:\"}},\n",
              "                        {\"responsive\": true}\n",
              "                    ).then(function(){\n",
              "                            \n",
              "var gd = document.getElementById('81c1af54-945a-469b-8362-a478123fe2c4');\n",
              "var x = new MutationObserver(function (mutations, observer) {{\n",
              "        var display = window.getComputedStyle(gd).display;\n",
              "        if (!display || display === 'none') {{\n",
              "            console.log([gd, 'removed!']);\n",
              "            Plotly.purge(gd);\n",
              "            observer.disconnect();\n",
              "        }}\n",
              "}});\n",
              "\n",
              "// Listen for the removal of the full notebook cells\n",
              "var notebookContainer = gd.closest('#notebook-container');\n",
              "if (notebookContainer) {{\n",
              "    x.observe(notebookContainer, {childList: true});\n",
              "}}\n",
              "\n",
              "// Listen for the clearing of the current output cell\n",
              "var outputEl = gd.closest('.output');\n",
              "if (outputEl) {{\n",
              "    x.observe(outputEl, {childList: true});\n",
              "}}\n",
              "\n",
              "                        })\n",
              "                };\n",
              "                \n",
              "            </script>\n",
              "        </div>\n",
              "</body>\n",
              "</html>"
            ]
          },
          "metadata": {}
        }
      ]
    },
    {
      "cell_type": "code",
      "metadata": {
        "_kg_hide-input": true,
        "execution": {
          "iopub.execute_input": "2021-06-04T22:21:44.506615Z",
          "iopub.status.busy": "2021-06-04T22:21:44.505629Z",
          "iopub.status.idle": "2021-06-04T22:21:44.527103Z",
          "shell.execute_reply": "2021-06-04T22:21:44.526483Z",
          "shell.execute_reply.started": "2021-06-04T22:16:38.864492Z"
        },
        "papermill": {
          "duration": 0.170548,
          "end_time": "2021-06-04T22:21:44.527256",
          "exception": false,
          "start_time": "2021-06-04T22:21:44.356708",
          "status": "completed"
        },
        "tags": [],
        "colab": {
          "base_uri": "https://localhost:8080/",
          "height": 542
        },
        "id": "a4neRjyCi33I",
        "outputId": "49c4a062-4ccd-429e-a635-c8a2fafadf41"
      },
      "source": [
        "rcb=lucky(match_data,'Royal Challengers Bangalore')\n",
        "values = rcb\n",
        "labels=rcb.index\n",
        "colors = ['turquoise', 'crimson']\n",
        "fig = go.Figure(data=[go.Pie(labels=labels,values=values,hole=.3)])\n",
        "fig.update_traces(hoverinfo='label+percent', textinfo='value', textfont_size=20,\n",
        "                  marker=dict(colors=colors, line=dict(color='#000000', width=3)))\n",
        "fig.update_layout(title=\"Wins at different Venues for RCB:\",\n",
        "                  titlefont={'size': 30},\n",
        "                  )\n",
        "fig.show()"
      ],
      "execution_count": 36,
      "outputs": [
        {
          "output_type": "display_data",
          "data": {
            "text/html": [
              "<html>\n",
              "<head><meta charset=\"utf-8\" /></head>\n",
              "<body>\n",
              "    <div>\n",
              "            <script src=\"https://cdnjs.cloudflare.com/ajax/libs/mathjax/2.7.5/MathJax.js?config=TeX-AMS-MML_SVG\"></script><script type=\"text/javascript\">if (window.MathJax) {MathJax.Hub.Config({SVG: {font: \"STIX-Web\"}});}</script>\n",
              "                <script type=\"text/javascript\">window.PlotlyConfig = {MathJaxConfig: 'local'};</script>\n",
              "        <script src=\"https://cdn.plot.ly/plotly-latest.min.js\"></script>    \n",
              "            <div id=\"c94a7e4b-1d0c-41d1-82ae-b6ab06ae010d\" class=\"plotly-graph-div\" style=\"height:525px; width:100%;\"></div>\n",
              "            <script type=\"text/javascript\">\n",
              "                \n",
              "                    window.PLOTLYENV=window.PLOTLYENV || {};\n",
              "                    \n",
              "                if (document.getElementById(\"c94a7e4b-1d0c-41d1-82ae-b6ab06ae010d\")) {\n",
              "                    Plotly.newPlot(\n",
              "                        'c94a7e4b-1d0c-41d1-82ae-b6ab06ae010d',\n",
              "                        [{\"hole\": 0.3, \"hoverinfo\": \"label+percent\", \"labels\": [\"M Chinnaswamy Stadium\", \"M.Chinnaswamy Stadium\", \"Feroz Shah Kotla\", \"Dubai International Cricket Stadium\", \"Eden Gardens\", \"Sawai Mansingh Stadium\", \"New Wanderers Stadium\", \"Wankhede Stadium\", \"Kingsmead\", \"Subrata Roy Sahara Stadium\"], \"marker\": {\"colors\": [\"turquoise\", \"crimson\"], \"line\": {\"color\": \"#000000\", \"width\": 3}}, \"textfont\": {\"size\": 20}, \"textinfo\": \"value\", \"type\": \"pie\", \"values\": [29, 8, 6, 5, 4, 3, 3, 3, 3, 2]}],\n",
              "                        {\"template\": {\"data\": {\"bar\": [{\"error_x\": {\"color\": \"#2a3f5f\"}, \"error_y\": {\"color\": \"#2a3f5f\"}, \"marker\": {\"line\": {\"color\": \"#E5ECF6\", \"width\": 0.5}}, \"type\": \"bar\"}], \"barpolar\": [{\"marker\": {\"line\": {\"color\": \"#E5ECF6\", \"width\": 0.5}}, \"type\": \"barpolar\"}], \"carpet\": [{\"aaxis\": {\"endlinecolor\": \"#2a3f5f\", \"gridcolor\": \"white\", \"linecolor\": \"white\", \"minorgridcolor\": \"white\", \"startlinecolor\": \"#2a3f5f\"}, \"baxis\": {\"endlinecolor\": \"#2a3f5f\", \"gridcolor\": \"white\", \"linecolor\": \"white\", \"minorgridcolor\": \"white\", \"startlinecolor\": \"#2a3f5f\"}, \"type\": \"carpet\"}], \"choropleth\": [{\"colorbar\": {\"outlinewidth\": 0, \"ticks\": \"\"}, \"type\": \"choropleth\"}], \"contour\": [{\"colorbar\": {\"outlinewidth\": 0, \"ticks\": \"\"}, \"colorscale\": [[0.0, \"#0d0887\"], [0.1111111111111111, \"#46039f\"], [0.2222222222222222, \"#7201a8\"], [0.3333333333333333, \"#9c179e\"], [0.4444444444444444, \"#bd3786\"], [0.5555555555555556, \"#d8576b\"], [0.6666666666666666, \"#ed7953\"], [0.7777777777777778, \"#fb9f3a\"], [0.8888888888888888, \"#fdca26\"], [1.0, \"#f0f921\"]], \"type\": \"contour\"}], \"contourcarpet\": [{\"colorbar\": {\"outlinewidth\": 0, \"ticks\": \"\"}, \"type\": \"contourcarpet\"}], \"heatmap\": [{\"colorbar\": {\"outlinewidth\": 0, \"ticks\": \"\"}, \"colorscale\": [[0.0, \"#0d0887\"], [0.1111111111111111, \"#46039f\"], [0.2222222222222222, \"#7201a8\"], [0.3333333333333333, \"#9c179e\"], [0.4444444444444444, \"#bd3786\"], [0.5555555555555556, \"#d8576b\"], [0.6666666666666666, \"#ed7953\"], [0.7777777777777778, \"#fb9f3a\"], [0.8888888888888888, \"#fdca26\"], [1.0, \"#f0f921\"]], \"type\": \"heatmap\"}], \"heatmapgl\": [{\"colorbar\": {\"outlinewidth\": 0, \"ticks\": \"\"}, \"colorscale\": [[0.0, \"#0d0887\"], [0.1111111111111111, \"#46039f\"], [0.2222222222222222, \"#7201a8\"], [0.3333333333333333, \"#9c179e\"], [0.4444444444444444, \"#bd3786\"], [0.5555555555555556, \"#d8576b\"], [0.6666666666666666, \"#ed7953\"], [0.7777777777777778, \"#fb9f3a\"], [0.8888888888888888, \"#fdca26\"], [1.0, \"#f0f921\"]], \"type\": \"heatmapgl\"}], \"histogram\": [{\"marker\": {\"colorbar\": {\"outlinewidth\": 0, \"ticks\": \"\"}}, \"type\": \"histogram\"}], \"histogram2d\": [{\"colorbar\": {\"outlinewidth\": 0, \"ticks\": \"\"}, \"colorscale\": [[0.0, \"#0d0887\"], [0.1111111111111111, \"#46039f\"], [0.2222222222222222, \"#7201a8\"], [0.3333333333333333, \"#9c179e\"], [0.4444444444444444, \"#bd3786\"], [0.5555555555555556, \"#d8576b\"], [0.6666666666666666, \"#ed7953\"], [0.7777777777777778, \"#fb9f3a\"], [0.8888888888888888, \"#fdca26\"], [1.0, \"#f0f921\"]], \"type\": \"histogram2d\"}], \"histogram2dcontour\": [{\"colorbar\": {\"outlinewidth\": 0, \"ticks\": \"\"}, \"colorscale\": [[0.0, \"#0d0887\"], [0.1111111111111111, \"#46039f\"], [0.2222222222222222, \"#7201a8\"], [0.3333333333333333, \"#9c179e\"], [0.4444444444444444, \"#bd3786\"], [0.5555555555555556, \"#d8576b\"], [0.6666666666666666, \"#ed7953\"], [0.7777777777777778, \"#fb9f3a\"], [0.8888888888888888, \"#fdca26\"], [1.0, \"#f0f921\"]], \"type\": \"histogram2dcontour\"}], \"mesh3d\": [{\"colorbar\": {\"outlinewidth\": 0, \"ticks\": \"\"}, \"type\": \"mesh3d\"}], \"parcoords\": [{\"line\": {\"colorbar\": {\"outlinewidth\": 0, \"ticks\": \"\"}}, \"type\": \"parcoords\"}], \"pie\": [{\"automargin\": true, \"type\": \"pie\"}], \"scatter\": [{\"marker\": {\"colorbar\": {\"outlinewidth\": 0, \"ticks\": \"\"}}, \"type\": \"scatter\"}], \"scatter3d\": [{\"line\": {\"colorbar\": {\"outlinewidth\": 0, \"ticks\": \"\"}}, \"marker\": {\"colorbar\": {\"outlinewidth\": 0, \"ticks\": \"\"}}, \"type\": \"scatter3d\"}], \"scattercarpet\": [{\"marker\": {\"colorbar\": {\"outlinewidth\": 0, \"ticks\": \"\"}}, \"type\": \"scattercarpet\"}], \"scattergeo\": [{\"marker\": {\"colorbar\": {\"outlinewidth\": 0, \"ticks\": \"\"}}, \"type\": \"scattergeo\"}], \"scattergl\": [{\"marker\": {\"colorbar\": {\"outlinewidth\": 0, \"ticks\": \"\"}}, \"type\": \"scattergl\"}], \"scattermapbox\": [{\"marker\": {\"colorbar\": {\"outlinewidth\": 0, \"ticks\": \"\"}}, \"type\": \"scattermapbox\"}], \"scatterpolar\": [{\"marker\": {\"colorbar\": {\"outlinewidth\": 0, \"ticks\": \"\"}}, \"type\": \"scatterpolar\"}], \"scatterpolargl\": [{\"marker\": {\"colorbar\": {\"outlinewidth\": 0, \"ticks\": \"\"}}, \"type\": \"scatterpolargl\"}], \"scatterternary\": [{\"marker\": {\"colorbar\": {\"outlinewidth\": 0, \"ticks\": \"\"}}, \"type\": \"scatterternary\"}], \"surface\": [{\"colorbar\": {\"outlinewidth\": 0, \"ticks\": \"\"}, \"colorscale\": [[0.0, \"#0d0887\"], [0.1111111111111111, \"#46039f\"], [0.2222222222222222, \"#7201a8\"], [0.3333333333333333, \"#9c179e\"], [0.4444444444444444, \"#bd3786\"], [0.5555555555555556, \"#d8576b\"], [0.6666666666666666, \"#ed7953\"], [0.7777777777777778, \"#fb9f3a\"], [0.8888888888888888, \"#fdca26\"], [1.0, \"#f0f921\"]], \"type\": \"surface\"}], \"table\": [{\"cells\": {\"fill\": {\"color\": \"#EBF0F8\"}, \"line\": {\"color\": \"white\"}}, \"header\": {\"fill\": {\"color\": \"#C8D4E3\"}, \"line\": {\"color\": \"white\"}}, \"type\": \"table\"}]}, \"layout\": {\"annotationdefaults\": {\"arrowcolor\": \"#2a3f5f\", \"arrowhead\": 0, \"arrowwidth\": 1}, \"coloraxis\": {\"colorbar\": {\"outlinewidth\": 0, \"ticks\": \"\"}}, \"colorscale\": {\"diverging\": [[0, \"#8e0152\"], [0.1, \"#c51b7d\"], [0.2, \"#de77ae\"], [0.3, \"#f1b6da\"], [0.4, \"#fde0ef\"], [0.5, \"#f7f7f7\"], [0.6, \"#e6f5d0\"], [0.7, \"#b8e186\"], [0.8, \"#7fbc41\"], [0.9, \"#4d9221\"], [1, \"#276419\"]], \"sequential\": [[0.0, \"#0d0887\"], [0.1111111111111111, \"#46039f\"], [0.2222222222222222, \"#7201a8\"], [0.3333333333333333, \"#9c179e\"], [0.4444444444444444, \"#bd3786\"], [0.5555555555555556, \"#d8576b\"], [0.6666666666666666, \"#ed7953\"], [0.7777777777777778, \"#fb9f3a\"], [0.8888888888888888, \"#fdca26\"], [1.0, \"#f0f921\"]], \"sequentialminus\": [[0.0, \"#0d0887\"], [0.1111111111111111, \"#46039f\"], [0.2222222222222222, \"#7201a8\"], [0.3333333333333333, \"#9c179e\"], [0.4444444444444444, \"#bd3786\"], [0.5555555555555556, \"#d8576b\"], [0.6666666666666666, \"#ed7953\"], [0.7777777777777778, \"#fb9f3a\"], [0.8888888888888888, \"#fdca26\"], [1.0, \"#f0f921\"]]}, \"colorway\": [\"#636efa\", \"#EF553B\", \"#00cc96\", \"#ab63fa\", \"#FFA15A\", \"#19d3f3\", \"#FF6692\", \"#B6E880\", \"#FF97FF\", \"#FECB52\"], \"font\": {\"color\": \"#2a3f5f\"}, \"geo\": {\"bgcolor\": \"white\", \"lakecolor\": \"white\", \"landcolor\": \"#E5ECF6\", \"showlakes\": true, \"showland\": true, \"subunitcolor\": \"white\"}, \"hoverlabel\": {\"align\": \"left\"}, \"hovermode\": \"closest\", \"mapbox\": {\"style\": \"light\"}, \"paper_bgcolor\": \"white\", \"plot_bgcolor\": \"#E5ECF6\", \"polar\": {\"angularaxis\": {\"gridcolor\": \"white\", \"linecolor\": \"white\", \"ticks\": \"\"}, \"bgcolor\": \"#E5ECF6\", \"radialaxis\": {\"gridcolor\": \"white\", \"linecolor\": \"white\", \"ticks\": \"\"}}, \"scene\": {\"xaxis\": {\"backgroundcolor\": \"#E5ECF6\", \"gridcolor\": \"white\", \"gridwidth\": 2, \"linecolor\": \"white\", \"showbackground\": true, \"ticks\": \"\", \"zerolinecolor\": \"white\"}, \"yaxis\": {\"backgroundcolor\": \"#E5ECF6\", \"gridcolor\": \"white\", \"gridwidth\": 2, \"linecolor\": \"white\", \"showbackground\": true, \"ticks\": \"\", \"zerolinecolor\": \"white\"}, \"zaxis\": {\"backgroundcolor\": \"#E5ECF6\", \"gridcolor\": \"white\", \"gridwidth\": 2, \"linecolor\": \"white\", \"showbackground\": true, \"ticks\": \"\", \"zerolinecolor\": \"white\"}}, \"shapedefaults\": {\"line\": {\"color\": \"#2a3f5f\"}}, \"ternary\": {\"aaxis\": {\"gridcolor\": \"white\", \"linecolor\": \"white\", \"ticks\": \"\"}, \"baxis\": {\"gridcolor\": \"white\", \"linecolor\": \"white\", \"ticks\": \"\"}, \"bgcolor\": \"#E5ECF6\", \"caxis\": {\"gridcolor\": \"white\", \"linecolor\": \"white\", \"ticks\": \"\"}}, \"title\": {\"x\": 0.05}, \"xaxis\": {\"automargin\": true, \"gridcolor\": \"white\", \"linecolor\": \"white\", \"ticks\": \"\", \"title\": {\"standoff\": 15}, \"zerolinecolor\": \"white\", \"zerolinewidth\": 2}, \"yaxis\": {\"automargin\": true, \"gridcolor\": \"white\", \"linecolor\": \"white\", \"ticks\": \"\", \"title\": {\"standoff\": 15}, \"zerolinecolor\": \"white\", \"zerolinewidth\": 2}}}, \"title\": {\"font\": {\"size\": 30}, \"text\": \"Wins at different Venues for RCB:\"}},\n",
              "                        {\"responsive\": true}\n",
              "                    ).then(function(){\n",
              "                            \n",
              "var gd = document.getElementById('c94a7e4b-1d0c-41d1-82ae-b6ab06ae010d');\n",
              "var x = new MutationObserver(function (mutations, observer) {{\n",
              "        var display = window.getComputedStyle(gd).display;\n",
              "        if (!display || display === 'none') {{\n",
              "            console.log([gd, 'removed!']);\n",
              "            Plotly.purge(gd);\n",
              "            observer.disconnect();\n",
              "        }}\n",
              "}});\n",
              "\n",
              "// Listen for the removal of the full notebook cells\n",
              "var notebookContainer = gd.closest('#notebook-container');\n",
              "if (notebookContainer) {{\n",
              "    x.observe(notebookContainer, {childList: true});\n",
              "}}\n",
              "\n",
              "// Listen for the clearing of the current output cell\n",
              "var outputEl = gd.closest('.output');\n",
              "if (outputEl) {{\n",
              "    x.observe(outputEl, {childList: true});\n",
              "}}\n",
              "\n",
              "                        })\n",
              "                };\n",
              "                \n",
              "            </script>\n",
              "        </div>\n",
              "</body>\n",
              "</html>"
            ]
          },
          "metadata": {}
        }
      ]
    },
    {
      "cell_type": "code",
      "metadata": {
        "_kg_hide-input": true,
        "execution": {
          "iopub.execute_input": "2021-06-04T22:21:44.842901Z",
          "iopub.status.busy": "2021-06-04T22:21:44.841896Z",
          "iopub.status.idle": "2021-06-04T22:21:44.847713Z",
          "shell.execute_reply": "2021-06-04T22:21:44.847083Z",
          "shell.execute_reply.started": "2021-06-04T22:16:38.886544Z"
        },
        "papermill": {
          "duration": 0.17544,
          "end_time": "2021-06-04T22:21:44.847872",
          "exception": false,
          "start_time": "2021-06-04T22:21:44.672432",
          "status": "completed"
        },
        "tags": [],
        "colab": {
          "base_uri": "https://localhost:8080/",
          "height": 542
        },
        "id": "UKwKbqQLi33I",
        "outputId": "8ae89a74-2f50-4fa5-db44-3ace73fd1fe4"
      },
      "source": [
        "csk=lucky(match_data,'Chennai Super Kings')\n",
        "values = csk\n",
        "labels=csk.index\n",
        "colors = ['turquoise', 'crimson']\n",
        "fig = go.Figure(data=[go.Pie(labels=labels,values=values,hole=.3)])\n",
        "fig.update_traces(hoverinfo='label+percent', textinfo='value', textfont_size=20,\n",
        "                  marker=dict(colors=colors, line=dict(color='#000000', width=3)))\n",
        "fig.update_layout(title=\"Wins at different Venues for CSK:\",\n",
        "                  titlefont={'size': 30},\n",
        "                  )\n",
        "fig.show()"
      ],
      "execution_count": 37,
      "outputs": [
        {
          "output_type": "display_data",
          "data": {
            "text/html": [
              "<html>\n",
              "<head><meta charset=\"utf-8\" /></head>\n",
              "<body>\n",
              "    <div>\n",
              "            <script src=\"https://cdnjs.cloudflare.com/ajax/libs/mathjax/2.7.5/MathJax.js?config=TeX-AMS-MML_SVG\"></script><script type=\"text/javascript\">if (window.MathJax) {MathJax.Hub.Config({SVG: {font: \"STIX-Web\"}});}</script>\n",
              "                <script type=\"text/javascript\">window.PlotlyConfig = {MathJaxConfig: 'local'};</script>\n",
              "        <script src=\"https://cdn.plot.ly/plotly-latest.min.js\"></script>    \n",
              "            <div id=\"0ac61a50-a985-4f5a-90ca-4825644ccf3a\" class=\"plotly-graph-div\" style=\"height:525px; width:100%;\"></div>\n",
              "            <script type=\"text/javascript\">\n",
              "                \n",
              "                    window.PLOTLYENV=window.PLOTLYENV || {};\n",
              "                    \n",
              "                if (document.getElementById(\"0ac61a50-a985-4f5a-90ca-4825644ccf3a\")) {\n",
              "                    Plotly.newPlot(\n",
              "                        '0ac61a50-a985-4f5a-90ca-4825644ccf3a',\n",
              "                        [{\"hole\": 0.3, \"hoverinfo\": \"label+percent\", \"labels\": [\"MA Chidambaram Stadium, Chepauk\", \"Wankhede Stadium\", \"Dubai International Cricket Stadium\", \"Feroz Shah Kotla\", \"Eden Gardens\", \"Maharashtra Cricket Association Stadium\", \"M Chinnaswamy Stadium\", \"Rajiv Gandhi International Stadium, Uppal\", \"Sawai Mansingh Stadium\", \"Punjab Cricket Association Stadium, Mohali\"], \"marker\": {\"colors\": [\"turquoise\", \"crimson\"], \"line\": {\"color\": \"#000000\", \"width\": 3}}, \"textfont\": {\"size\": 20}, \"textinfo\": \"value\", \"type\": \"pie\", \"values\": [40, 7, 6, 6, 5, 5, 4, 3, 3, 3]}],\n",
              "                        {\"template\": {\"data\": {\"bar\": [{\"error_x\": {\"color\": \"#2a3f5f\"}, \"error_y\": {\"color\": \"#2a3f5f\"}, \"marker\": {\"line\": {\"color\": \"#E5ECF6\", \"width\": 0.5}}, \"type\": \"bar\"}], \"barpolar\": [{\"marker\": {\"line\": {\"color\": \"#E5ECF6\", \"width\": 0.5}}, \"type\": \"barpolar\"}], \"carpet\": [{\"aaxis\": {\"endlinecolor\": \"#2a3f5f\", \"gridcolor\": \"white\", \"linecolor\": \"white\", \"minorgridcolor\": \"white\", \"startlinecolor\": \"#2a3f5f\"}, \"baxis\": {\"endlinecolor\": \"#2a3f5f\", \"gridcolor\": \"white\", \"linecolor\": \"white\", \"minorgridcolor\": \"white\", \"startlinecolor\": \"#2a3f5f\"}, \"type\": \"carpet\"}], \"choropleth\": [{\"colorbar\": {\"outlinewidth\": 0, \"ticks\": \"\"}, \"type\": \"choropleth\"}], \"contour\": [{\"colorbar\": {\"outlinewidth\": 0, \"ticks\": \"\"}, \"colorscale\": [[0.0, \"#0d0887\"], [0.1111111111111111, \"#46039f\"], [0.2222222222222222, \"#7201a8\"], [0.3333333333333333, \"#9c179e\"], [0.4444444444444444, \"#bd3786\"], [0.5555555555555556, \"#d8576b\"], [0.6666666666666666, \"#ed7953\"], [0.7777777777777778, \"#fb9f3a\"], [0.8888888888888888, \"#fdca26\"], [1.0, \"#f0f921\"]], \"type\": \"contour\"}], \"contourcarpet\": [{\"colorbar\": {\"outlinewidth\": 0, \"ticks\": \"\"}, \"type\": \"contourcarpet\"}], \"heatmap\": [{\"colorbar\": {\"outlinewidth\": 0, \"ticks\": \"\"}, \"colorscale\": [[0.0, \"#0d0887\"], [0.1111111111111111, \"#46039f\"], [0.2222222222222222, \"#7201a8\"], [0.3333333333333333, \"#9c179e\"], [0.4444444444444444, \"#bd3786\"], [0.5555555555555556, \"#d8576b\"], [0.6666666666666666, \"#ed7953\"], [0.7777777777777778, \"#fb9f3a\"], [0.8888888888888888, \"#fdca26\"], [1.0, \"#f0f921\"]], \"type\": \"heatmap\"}], \"heatmapgl\": [{\"colorbar\": {\"outlinewidth\": 0, \"ticks\": \"\"}, \"colorscale\": [[0.0, \"#0d0887\"], [0.1111111111111111, \"#46039f\"], [0.2222222222222222, \"#7201a8\"], [0.3333333333333333, \"#9c179e\"], [0.4444444444444444, \"#bd3786\"], [0.5555555555555556, \"#d8576b\"], [0.6666666666666666, \"#ed7953\"], [0.7777777777777778, \"#fb9f3a\"], [0.8888888888888888, \"#fdca26\"], [1.0, \"#f0f921\"]], \"type\": \"heatmapgl\"}], \"histogram\": [{\"marker\": {\"colorbar\": {\"outlinewidth\": 0, \"ticks\": \"\"}}, \"type\": \"histogram\"}], \"histogram2d\": [{\"colorbar\": {\"outlinewidth\": 0, \"ticks\": \"\"}, \"colorscale\": [[0.0, \"#0d0887\"], [0.1111111111111111, \"#46039f\"], [0.2222222222222222, \"#7201a8\"], [0.3333333333333333, \"#9c179e\"], [0.4444444444444444, \"#bd3786\"], [0.5555555555555556, \"#d8576b\"], [0.6666666666666666, \"#ed7953\"], [0.7777777777777778, \"#fb9f3a\"], [0.8888888888888888, \"#fdca26\"], [1.0, \"#f0f921\"]], \"type\": \"histogram2d\"}], \"histogram2dcontour\": [{\"colorbar\": {\"outlinewidth\": 0, \"ticks\": \"\"}, \"colorscale\": [[0.0, \"#0d0887\"], [0.1111111111111111, \"#46039f\"], [0.2222222222222222, \"#7201a8\"], [0.3333333333333333, \"#9c179e\"], [0.4444444444444444, \"#bd3786\"], [0.5555555555555556, \"#d8576b\"], [0.6666666666666666, \"#ed7953\"], [0.7777777777777778, \"#fb9f3a\"], [0.8888888888888888, \"#fdca26\"], [1.0, \"#f0f921\"]], \"type\": \"histogram2dcontour\"}], \"mesh3d\": [{\"colorbar\": {\"outlinewidth\": 0, \"ticks\": \"\"}, \"type\": \"mesh3d\"}], \"parcoords\": [{\"line\": {\"colorbar\": {\"outlinewidth\": 0, \"ticks\": \"\"}}, \"type\": \"parcoords\"}], \"pie\": [{\"automargin\": true, \"type\": \"pie\"}], \"scatter\": [{\"marker\": {\"colorbar\": {\"outlinewidth\": 0, \"ticks\": \"\"}}, \"type\": \"scatter\"}], \"scatter3d\": [{\"line\": {\"colorbar\": {\"outlinewidth\": 0, \"ticks\": \"\"}}, \"marker\": {\"colorbar\": {\"outlinewidth\": 0, \"ticks\": \"\"}}, \"type\": \"scatter3d\"}], \"scattercarpet\": [{\"marker\": {\"colorbar\": {\"outlinewidth\": 0, \"ticks\": \"\"}}, \"type\": \"scattercarpet\"}], \"scattergeo\": [{\"marker\": {\"colorbar\": {\"outlinewidth\": 0, \"ticks\": \"\"}}, \"type\": \"scattergeo\"}], \"scattergl\": [{\"marker\": {\"colorbar\": {\"outlinewidth\": 0, \"ticks\": \"\"}}, \"type\": \"scattergl\"}], \"scattermapbox\": [{\"marker\": {\"colorbar\": {\"outlinewidth\": 0, \"ticks\": \"\"}}, \"type\": \"scattermapbox\"}], \"scatterpolar\": [{\"marker\": {\"colorbar\": {\"outlinewidth\": 0, \"ticks\": \"\"}}, \"type\": \"scatterpolar\"}], \"scatterpolargl\": [{\"marker\": {\"colorbar\": {\"outlinewidth\": 0, \"ticks\": \"\"}}, \"type\": \"scatterpolargl\"}], \"scatterternary\": [{\"marker\": {\"colorbar\": {\"outlinewidth\": 0, \"ticks\": \"\"}}, \"type\": \"scatterternary\"}], \"surface\": [{\"colorbar\": {\"outlinewidth\": 0, \"ticks\": \"\"}, \"colorscale\": [[0.0, \"#0d0887\"], [0.1111111111111111, \"#46039f\"], [0.2222222222222222, \"#7201a8\"], [0.3333333333333333, \"#9c179e\"], [0.4444444444444444, \"#bd3786\"], [0.5555555555555556, \"#d8576b\"], [0.6666666666666666, \"#ed7953\"], [0.7777777777777778, \"#fb9f3a\"], [0.8888888888888888, \"#fdca26\"], [1.0, \"#f0f921\"]], \"type\": \"surface\"}], \"table\": [{\"cells\": {\"fill\": {\"color\": \"#EBF0F8\"}, \"line\": {\"color\": \"white\"}}, \"header\": {\"fill\": {\"color\": \"#C8D4E3\"}, \"line\": {\"color\": \"white\"}}, \"type\": \"table\"}]}, \"layout\": {\"annotationdefaults\": {\"arrowcolor\": \"#2a3f5f\", \"arrowhead\": 0, \"arrowwidth\": 1}, \"coloraxis\": {\"colorbar\": {\"outlinewidth\": 0, \"ticks\": \"\"}}, \"colorscale\": {\"diverging\": [[0, \"#8e0152\"], [0.1, \"#c51b7d\"], [0.2, \"#de77ae\"], [0.3, \"#f1b6da\"], [0.4, \"#fde0ef\"], [0.5, \"#f7f7f7\"], [0.6, \"#e6f5d0\"], [0.7, \"#b8e186\"], [0.8, \"#7fbc41\"], [0.9, \"#4d9221\"], [1, \"#276419\"]], \"sequential\": [[0.0, \"#0d0887\"], [0.1111111111111111, \"#46039f\"], [0.2222222222222222, \"#7201a8\"], [0.3333333333333333, \"#9c179e\"], [0.4444444444444444, \"#bd3786\"], [0.5555555555555556, \"#d8576b\"], [0.6666666666666666, \"#ed7953\"], [0.7777777777777778, \"#fb9f3a\"], [0.8888888888888888, \"#fdca26\"], [1.0, \"#f0f921\"]], \"sequentialminus\": [[0.0, \"#0d0887\"], [0.1111111111111111, \"#46039f\"], [0.2222222222222222, \"#7201a8\"], [0.3333333333333333, \"#9c179e\"], [0.4444444444444444, \"#bd3786\"], [0.5555555555555556, \"#d8576b\"], [0.6666666666666666, \"#ed7953\"], [0.7777777777777778, \"#fb9f3a\"], [0.8888888888888888, \"#fdca26\"], [1.0, \"#f0f921\"]]}, \"colorway\": [\"#636efa\", \"#EF553B\", \"#00cc96\", \"#ab63fa\", \"#FFA15A\", \"#19d3f3\", \"#FF6692\", \"#B6E880\", \"#FF97FF\", \"#FECB52\"], \"font\": {\"color\": \"#2a3f5f\"}, \"geo\": {\"bgcolor\": \"white\", \"lakecolor\": \"white\", \"landcolor\": \"#E5ECF6\", \"showlakes\": true, \"showland\": true, \"subunitcolor\": \"white\"}, \"hoverlabel\": {\"align\": \"left\"}, \"hovermode\": \"closest\", \"mapbox\": {\"style\": \"light\"}, \"paper_bgcolor\": \"white\", \"plot_bgcolor\": \"#E5ECF6\", \"polar\": {\"angularaxis\": {\"gridcolor\": \"white\", \"linecolor\": \"white\", \"ticks\": \"\"}, \"bgcolor\": \"#E5ECF6\", \"radialaxis\": {\"gridcolor\": \"white\", \"linecolor\": \"white\", \"ticks\": \"\"}}, \"scene\": {\"xaxis\": {\"backgroundcolor\": \"#E5ECF6\", \"gridcolor\": \"white\", \"gridwidth\": 2, \"linecolor\": \"white\", \"showbackground\": true, \"ticks\": \"\", \"zerolinecolor\": \"white\"}, \"yaxis\": {\"backgroundcolor\": \"#E5ECF6\", \"gridcolor\": \"white\", \"gridwidth\": 2, \"linecolor\": \"white\", \"showbackground\": true, \"ticks\": \"\", \"zerolinecolor\": \"white\"}, \"zaxis\": {\"backgroundcolor\": \"#E5ECF6\", \"gridcolor\": \"white\", \"gridwidth\": 2, \"linecolor\": \"white\", \"showbackground\": true, \"ticks\": \"\", \"zerolinecolor\": \"white\"}}, \"shapedefaults\": {\"line\": {\"color\": \"#2a3f5f\"}}, \"ternary\": {\"aaxis\": {\"gridcolor\": \"white\", \"linecolor\": \"white\", \"ticks\": \"\"}, \"baxis\": {\"gridcolor\": \"white\", \"linecolor\": \"white\", \"ticks\": \"\"}, \"bgcolor\": \"#E5ECF6\", \"caxis\": {\"gridcolor\": \"white\", \"linecolor\": \"white\", \"ticks\": \"\"}}, \"title\": {\"x\": 0.05}, \"xaxis\": {\"automargin\": true, \"gridcolor\": \"white\", \"linecolor\": \"white\", \"ticks\": \"\", \"title\": {\"standoff\": 15}, \"zerolinecolor\": \"white\", \"zerolinewidth\": 2}, \"yaxis\": {\"automargin\": true, \"gridcolor\": \"white\", \"linecolor\": \"white\", \"ticks\": \"\", \"title\": {\"standoff\": 15}, \"zerolinecolor\": \"white\", \"zerolinewidth\": 2}}}, \"title\": {\"font\": {\"size\": 30}, \"text\": \"Wins at different Venues for CSK:\"}},\n",
              "                        {\"responsive\": true}\n",
              "                    ).then(function(){\n",
              "                            \n",
              "var gd = document.getElementById('0ac61a50-a985-4f5a-90ca-4825644ccf3a');\n",
              "var x = new MutationObserver(function (mutations, observer) {{\n",
              "        var display = window.getComputedStyle(gd).display;\n",
              "        if (!display || display === 'none') {{\n",
              "            console.log([gd, 'removed!']);\n",
              "            Plotly.purge(gd);\n",
              "            observer.disconnect();\n",
              "        }}\n",
              "}});\n",
              "\n",
              "// Listen for the removal of the full notebook cells\n",
              "var notebookContainer = gd.closest('#notebook-container');\n",
              "if (notebookContainer) {{\n",
              "    x.observe(notebookContainer, {childList: true});\n",
              "}}\n",
              "\n",
              "// Listen for the clearing of the current output cell\n",
              "var outputEl = gd.closest('.output');\n",
              "if (outputEl) {{\n",
              "    x.observe(outputEl, {childList: true});\n",
              "}}\n",
              "\n",
              "                        })\n",
              "                };\n",
              "                \n",
              "            </script>\n",
              "        </div>\n",
              "</body>\n",
              "</html>"
            ]
          },
          "metadata": {}
        }
      ]
    },
    {
      "cell_type": "markdown",
      "metadata": {
        "papermill": {
          "duration": 0.148754,
          "end_time": "2021-06-04T22:21:45.147271",
          "exception": false,
          "start_time": "2021-06-04T22:21:44.998517",
          "status": "completed"
        },
        "tags": [],
        "id": "tKWTSnPri33I"
      },
      "source": [
        "<div class=\"alert alert-block alert-info\"><p style='color:black;'> 📌\n",
        "It can be easily seen that team have won the most of its matches at their home venues.\n",
        "</p>\n",
        "</div>\n",
        "\n"
      ]
    },
    {
      "cell_type": "markdown",
      "metadata": {
        "id": "5eV0LP4JrWpk"
      },
      "source": [
        "<small><a href='#0'>Go to top</a></small>  "
      ]
    },
    {
      "cell_type": "markdown",
      "metadata": {
        "papermill": {
          "duration": 0.153127,
          "end_time": "2021-06-04T22:21:45.748346",
          "exception": false,
          "start_time": "2021-06-04T22:21:45.595219",
          "status": "completed"
        },
        "tags": [],
        "id": "o5pOImVWi33I"
      },
      "source": [
        "<a id=\"15\">\n",
        "<h1 style = \"font-family: Snell Roundhand;font-weight: 500;font-size: 30px; font-style: normal; background-color: #FFFB30; color :black;\">15) Comparision between two teams :</h1>\n",
        "\n"
      ]
    },
    {
      "cell_type": "code",
      "metadata": {
        "_kg_hide-input": true,
        "execution": {
          "iopub.execute_input": "2021-06-04T22:21:46.072732Z",
          "iopub.status.busy": "2021-06-04T22:21:46.071559Z",
          "iopub.status.idle": "2021-06-04T22:21:46.075687Z",
          "shell.execute_reply": "2021-06-04T22:21:46.075080Z",
          "shell.execute_reply.started": "2021-06-04T22:16:38.907211Z"
        },
        "papermill": {
          "duration": 0.168468,
          "end_time": "2021-06-04T22:21:46.075861",
          "exception": false,
          "start_time": "2021-06-04T22:21:45.907393",
          "status": "completed"
        },
        "tags": [],
        "id": "bJlnVSY_i33I"
      },
      "source": [
        "def comparison(team1,team2):\n",
        "    compare=match_data[((match_data['team1']==team1)|(match_data['team2']==team1))&((match_data['team1']==team2)|(match_data['team2']==team2))]\n",
        "    fig=px.histogram(data_frame=compare,x='Season',color='winner',labels=dict(x=\"Team Name\",y=\"Count\"),barmode='group',nbins=16,color_discrete_sequence=colors,)\n",
        "    fig.update_layout(title=\"Team Comparision:\",\n",
        "                      titlefont={'size': 26},template='simple_white'     \n",
        "                      )\n",
        "    fig.update_traces(marker_line_color='black',\n",
        "                      marker_line_width=2.5, opacity=1)\n",
        "    fig.show()\n",
        "    "
      ],
      "execution_count": 38,
      "outputs": []
    },
    {
      "cell_type": "code",
      "metadata": {
        "_kg_hide-input": true,
        "execution": {
          "iopub.execute_input": "2021-06-04T22:21:46.446590Z",
          "iopub.status.busy": "2021-06-04T22:21:46.428508Z",
          "iopub.status.idle": "2021-06-04T22:21:46.511104Z",
          "shell.execute_reply": "2021-06-04T22:21:46.510280Z",
          "shell.execute_reply.started": "2021-06-04T22:16:38.918161Z"
        },
        "papermill": {
          "duration": 0.275882,
          "end_time": "2021-06-04T22:21:46.511286",
          "exception": false,
          "start_time": "2021-06-04T22:21:46.235404",
          "status": "completed"
        },
        "tags": [],
        "colab": {
          "base_uri": "https://localhost:8080/",
          "height": 542
        },
        "id": "8AG56G1ji33J",
        "outputId": "37c813f9-62a6-45ec-8454-a1e8be55ab54"
      },
      "source": [
        "comparison('Mumbai Indians','Chennai Super Kings')"
      ],
      "execution_count": 39,
      "outputs": [
        {
          "output_type": "display_data",
          "data": {
            "text/html": [
              "<html>\n",
              "<head><meta charset=\"utf-8\" /></head>\n",
              "<body>\n",
              "    <div>\n",
              "            <script src=\"https://cdnjs.cloudflare.com/ajax/libs/mathjax/2.7.5/MathJax.js?config=TeX-AMS-MML_SVG\"></script><script type=\"text/javascript\">if (window.MathJax) {MathJax.Hub.Config({SVG: {font: \"STIX-Web\"}});}</script>\n",
              "                <script type=\"text/javascript\">window.PlotlyConfig = {MathJaxConfig: 'local'};</script>\n",
              "        <script src=\"https://cdn.plot.ly/plotly-latest.min.js\"></script>    \n",
              "            <div id=\"a1daf364-75ff-4a0e-9618-7230ba937bd0\" class=\"plotly-graph-div\" style=\"height:525px; width:100%;\"></div>\n",
              "            <script type=\"text/javascript\">\n",
              "                \n",
              "                    window.PLOTLYENV=window.PLOTLYENV || {};\n",
              "                    \n",
              "                if (document.getElementById(\"a1daf364-75ff-4a0e-9618-7230ba937bd0\")) {\n",
              "                    Plotly.newPlot(\n",
              "                        'a1daf364-75ff-4a0e-9618-7230ba937bd0',\n",
              "                        [{\"alignmentgroup\": \"True\", \"bingroup\": \"x\", \"hoverlabel\": {\"namelength\": 0}, \"hovertemplate\": \"winner=Chennai Super Kings<br>Season=%{x}<br>count=%{y}\", \"legendgroup\": \"winner=Chennai Super Kings\", \"marker\": {\"color\": \"turquoise\", \"line\": {\"color\": \"black\", \"width\": 2.5}}, \"name\": \"winner=Chennai Super Kings\", \"nbinsx\": 16, \"offsetgroup\": \"winner=Chennai Super Kings\", \"opacity\": 1, \"orientation\": \"v\", \"showlegend\": true, \"type\": \"histogram\", \"x\": [2008, 2009, 2010, 2010, 2012, 2013, 2014, 2014, 2014, 2015, 2018, 2020], \"xaxis\": \"x\", \"yaxis\": \"y\"}, {\"alignmentgroup\": \"True\", \"bingroup\": \"x\", \"hoverlabel\": {\"namelength\": 0}, \"hovertemplate\": \"winner=Mumbai Indians<br>Season=%{x}<br>count=%{y}\", \"legendgroup\": \"winner=Mumbai Indians\", \"marker\": {\"color\": \"crimson\", \"line\": {\"color\": \"black\", \"width\": 2.5}}, \"name\": \"winner=Mumbai Indians\", \"nbinsx\": 16, \"offsetgroup\": \"winner=Mumbai Indians\", \"opacity\": 1, \"orientation\": \"v\", \"showlegend\": true, \"type\": \"histogram\", \"x\": [2008, 2009, 2010, 2011, 2012, 2012, 2013, 2013, 2013, 2015, 2015, 2015, 2018, 2019, 2019, 2019, 2019, 2020], \"xaxis\": \"x\", \"yaxis\": \"y\"}],\n",
              "                        {\"barmode\": \"group\", \"legend\": {\"tracegroupgap\": 0}, \"margin\": {\"t\": 60}, \"template\": {\"data\": {\"bar\": [{\"error_x\": {\"color\": \"rgb(36,36,36)\"}, \"error_y\": {\"color\": \"rgb(36,36,36)\"}, \"marker\": {\"line\": {\"color\": \"white\", \"width\": 0.5}}, \"type\": \"bar\"}], \"barpolar\": [{\"marker\": {\"line\": {\"color\": \"white\", \"width\": 0.5}}, \"type\": \"barpolar\"}], \"carpet\": [{\"aaxis\": {\"endlinecolor\": \"rgb(36,36,36)\", \"gridcolor\": \"white\", \"linecolor\": \"white\", \"minorgridcolor\": \"white\", \"startlinecolor\": \"rgb(36,36,36)\"}, \"baxis\": {\"endlinecolor\": \"rgb(36,36,36)\", \"gridcolor\": \"white\", \"linecolor\": \"white\", \"minorgridcolor\": \"white\", \"startlinecolor\": \"rgb(36,36,36)\"}, \"type\": \"carpet\"}], \"choropleth\": [{\"colorbar\": {\"outlinewidth\": 10, \"tickcolor\": \"rgb(36,36,36)\", \"ticklen\": 8, \"ticks\": \"outside\", \"tickwidth\": 2}, \"type\": \"choropleth\"}], \"contour\": [{\"colorbar\": {\"outlinewidth\": 10, \"tickcolor\": \"rgb(36,36,36)\", \"ticklen\": 8, \"ticks\": \"outside\", \"tickwidth\": 2}, \"colorscale\": [[0.0, \"#440154\"], [0.1111111111111111, \"#482878\"], [0.2222222222222222, \"#3e4989\"], [0.3333333333333333, \"#31688e\"], [0.4444444444444444, \"#26828e\"], [0.5555555555555556, \"#1f9e89\"], [0.6666666666666666, \"#35b779\"], [0.7777777777777778, \"#6ece58\"], [0.8888888888888888, \"#b5de2b\"], [1.0, \"#fde725\"]], \"type\": \"contour\"}], \"contourcarpet\": [{\"colorbar\": {\"outlinewidth\": 10, \"tickcolor\": \"rgb(36,36,36)\", \"ticklen\": 8, \"ticks\": \"outside\", \"tickwidth\": 2}, \"type\": \"contourcarpet\"}], \"heatmap\": [{\"colorbar\": {\"outlinewidth\": 10, \"tickcolor\": \"rgb(36,36,36)\", \"ticklen\": 8, \"ticks\": \"outside\", \"tickwidth\": 2}, \"colorscale\": [[0.0, \"#440154\"], [0.1111111111111111, \"#482878\"], [0.2222222222222222, \"#3e4989\"], [0.3333333333333333, \"#31688e\"], [0.4444444444444444, \"#26828e\"], [0.5555555555555556, \"#1f9e89\"], [0.6666666666666666, \"#35b779\"], [0.7777777777777778, \"#6ece58\"], [0.8888888888888888, \"#b5de2b\"], [1.0, \"#fde725\"]], \"type\": \"heatmap\"}], \"heatmapgl\": [{\"colorbar\": {\"outlinewidth\": 10, \"tickcolor\": \"rgb(36,36,36)\", \"ticklen\": 8, \"ticks\": \"outside\", \"tickwidth\": 2}, \"colorscale\": [[0.0, \"#440154\"], [0.1111111111111111, \"#482878\"], [0.2222222222222222, \"#3e4989\"], [0.3333333333333333, \"#31688e\"], [0.4444444444444444, \"#26828e\"], [0.5555555555555556, \"#1f9e89\"], [0.6666666666666666, \"#35b779\"], [0.7777777777777778, \"#6ece58\"], [0.8888888888888888, \"#b5de2b\"], [1.0, \"#fde725\"]], \"type\": \"heatmapgl\"}], \"histogram\": [{\"marker\": {\"line\": {\"color\": \"white\", \"width\": 0.6}}, \"type\": \"histogram\"}], \"histogram2d\": [{\"colorbar\": {\"outlinewidth\": 10, \"tickcolor\": \"rgb(36,36,36)\", \"ticklen\": 8, \"ticks\": \"outside\", \"tickwidth\": 2}, \"colorscale\": [[0.0, \"#440154\"], [0.1111111111111111, \"#482878\"], [0.2222222222222222, \"#3e4989\"], [0.3333333333333333, \"#31688e\"], [0.4444444444444444, \"#26828e\"], [0.5555555555555556, \"#1f9e89\"], [0.6666666666666666, \"#35b779\"], [0.7777777777777778, \"#6ece58\"], [0.8888888888888888, \"#b5de2b\"], [1.0, \"#fde725\"]], \"type\": \"histogram2d\"}], \"histogram2dcontour\": [{\"colorbar\": {\"outlinewidth\": 10, \"tickcolor\": \"rgb(36,36,36)\", \"ticklen\": 8, \"ticks\": \"outside\", \"tickwidth\": 2}, \"colorscale\": [[0.0, \"#440154\"], [0.1111111111111111, \"#482878\"], [0.2222222222222222, \"#3e4989\"], [0.3333333333333333, \"#31688e\"], [0.4444444444444444, \"#26828e\"], [0.5555555555555556, \"#1f9e89\"], [0.6666666666666666, \"#35b779\"], [0.7777777777777778, \"#6ece58\"], [0.8888888888888888, \"#b5de2b\"], [1.0, \"#fde725\"]], \"type\": \"histogram2dcontour\"}], \"mesh3d\": [{\"colorbar\": {\"outlinewidth\": 10, \"tickcolor\": \"rgb(36,36,36)\", \"ticklen\": 8, \"ticks\": \"outside\", \"tickwidth\": 2}, \"type\": \"mesh3d\"}], \"parcoords\": [{\"line\": {\"colorbar\": {\"outlinewidth\": 10, \"tickcolor\": \"rgb(36,36,36)\", \"ticklen\": 8, \"ticks\": \"outside\", \"tickwidth\": 2}}, \"type\": \"parcoords\"}], \"pie\": [{\"automargin\": true, \"type\": \"pie\"}], \"scatter\": [{\"marker\": {\"colorbar\": {\"outlinewidth\": 10, \"tickcolor\": \"rgb(36,36,36)\", \"ticklen\": 8, \"ticks\": \"outside\", \"tickwidth\": 2}}, \"type\": \"scatter\"}], \"scatter3d\": [{\"line\": {\"colorbar\": {\"outlinewidth\": 10, \"tickcolor\": \"rgb(36,36,36)\", \"ticklen\": 8, \"ticks\": \"outside\", \"tickwidth\": 2}}, \"marker\": {\"colorbar\": {\"outlinewidth\": 10, \"tickcolor\": \"rgb(36,36,36)\", \"ticklen\": 8, \"ticks\": \"outside\", \"tickwidth\": 2}}, \"type\": \"scatter3d\"}], \"scattercarpet\": [{\"marker\": {\"colorbar\": {\"outlinewidth\": 10, \"tickcolor\": \"rgb(36,36,36)\", \"ticklen\": 8, \"ticks\": \"outside\", \"tickwidth\": 2}}, \"type\": \"scattercarpet\"}], \"scattergeo\": [{\"marker\": {\"colorbar\": {\"outlinewidth\": 10, \"tickcolor\": \"rgb(36,36,36)\", \"ticklen\": 8, \"ticks\": \"outside\", \"tickwidth\": 2}}, \"type\": \"scattergeo\"}], \"scattergl\": [{\"marker\": {\"colorbar\": {\"outlinewidth\": 10, \"tickcolor\": \"rgb(36,36,36)\", \"ticklen\": 8, \"ticks\": \"outside\", \"tickwidth\": 2}}, \"type\": \"scattergl\"}], \"scattermapbox\": [{\"marker\": {\"colorbar\": {\"outlinewidth\": 10, \"tickcolor\": \"rgb(36,36,36)\", \"ticklen\": 8, \"ticks\": \"outside\", \"tickwidth\": 2}}, \"type\": \"scattermapbox\"}], \"scatterpolar\": [{\"marker\": {\"colorbar\": {\"outlinewidth\": 10, \"tickcolor\": \"rgb(36,36,36)\", \"ticklen\": 8, \"ticks\": \"outside\", \"tickwidth\": 2}}, \"type\": \"scatterpolar\"}], \"scatterpolargl\": [{\"marker\": {\"colorbar\": {\"outlinewidth\": 10, \"tickcolor\": \"rgb(36,36,36)\", \"ticklen\": 8, \"ticks\": \"outside\", \"tickwidth\": 2}}, \"type\": \"scatterpolargl\"}], \"scatterternary\": [{\"marker\": {\"colorbar\": {\"outlinewidth\": 10, \"tickcolor\": \"rgb(36,36,36)\", \"ticklen\": 8, \"ticks\": \"outside\", \"tickwidth\": 2}}, \"type\": \"scatterternary\"}], \"surface\": [{\"colorbar\": {\"outlinewidth\": 10, \"tickcolor\": \"rgb(36,36,36)\", \"ticklen\": 8, \"ticks\": \"outside\", \"tickwidth\": 2}, \"colorscale\": [[0.0, \"#440154\"], [0.1111111111111111, \"#482878\"], [0.2222222222222222, \"#3e4989\"], [0.3333333333333333, \"#31688e\"], [0.4444444444444444, \"#26828e\"], [0.5555555555555556, \"#1f9e89\"], [0.6666666666666666, \"#35b779\"], [0.7777777777777778, \"#6ece58\"], [0.8888888888888888, \"#b5de2b\"], [1.0, \"#fde725\"]], \"type\": \"surface\"}], \"table\": [{\"cells\": {\"fill\": {\"color\": \"rgb(237,237,237)\"}, \"line\": {\"color\": \"white\"}}, \"header\": {\"fill\": {\"color\": \"rgb(217,217,217)\"}, \"line\": {\"color\": \"white\"}}, \"type\": \"table\"}]}, \"layout\": {\"annotationdefaults\": {\"arrowhead\": 0, \"arrowwidth\": 1}, \"coloraxis\": {\"colorbar\": {\"outlinewidth\": 10, \"tickcolor\": \"rgb(36,36,36)\", \"ticklen\": 8, \"ticks\": \"outside\", \"tickwidth\": 2}}, \"colorscale\": {\"diverging\": [[0.0, \"rgb(103,0,31)\"], [0.1, \"rgb(178,24,43)\"], [0.2, \"rgb(214,96,77)\"], [0.3, \"rgb(244,165,130)\"], [0.4, \"rgb(253,219,199)\"], [0.5, \"rgb(247,247,247)\"], [0.6, \"rgb(209,229,240)\"], [0.7, \"rgb(146,197,222)\"], [0.8, \"rgb(67,147,195)\"], [0.9, \"rgb(33,102,172)\"], [1.0, \"rgb(5,48,97)\"]], \"sequential\": [[0.0, \"#440154\"], [0.1111111111111111, \"#482878\"], [0.2222222222222222, \"#3e4989\"], [0.3333333333333333, \"#31688e\"], [0.4444444444444444, \"#26828e\"], [0.5555555555555556, \"#1f9e89\"], [0.6666666666666666, \"#35b779\"], [0.7777777777777778, \"#6ece58\"], [0.8888888888888888, \"#b5de2b\"], [1.0, \"#fde725\"]], \"sequentialminus\": [[0.0, \"#440154\"], [0.1111111111111111, \"#482878\"], [0.2222222222222222, \"#3e4989\"], [0.3333333333333333, \"#31688e\"], [0.4444444444444444, \"#26828e\"], [0.5555555555555556, \"#1f9e89\"], [0.6666666666666666, \"#35b779\"], [0.7777777777777778, \"#6ece58\"], [0.8888888888888888, \"#b5de2b\"], [1.0, \"#fde725\"]]}, \"colorway\": [\"#1F77B4\", \"#FF7F0E\", \"#2CA02C\", \"#D62728\", \"#9467BD\", \"#8C564B\", \"#E377C2\", \"#7F7F7F\", \"#BCBD22\", \"#17BECF\"], \"font\": {\"color\": \"rgb(36,36,36)\"}, \"geo\": {\"bgcolor\": \"white\", \"lakecolor\": \"white\", \"landcolor\": \"white\", \"showlakes\": true, \"showland\": true, \"subunitcolor\": \"white\"}, \"hoverlabel\": {\"align\": \"left\"}, \"hovermode\": \"closest\", \"mapbox\": {\"style\": \"light\"}, \"paper_bgcolor\": \"white\", \"plot_bgcolor\": \"white\", \"polar\": {\"angularaxis\": {\"gridcolor\": \"rgb(232,232,232)\", \"linecolor\": \"rgb(36,36,36)\", \"showgrid\": false, \"showline\": true, \"ticks\": \"outside\"}, \"bgcolor\": \"white\", \"radialaxis\": {\"gridcolor\": \"rgb(232,232,232)\", \"linecolor\": \"rgb(36,36,36)\", \"showgrid\": false, \"showline\": true, \"ticks\": \"outside\"}}, \"scene\": {\"xaxis\": {\"backgroundcolor\": \"white\", \"gridcolor\": \"rgb(232,232,232)\", \"gridwidth\": 2, \"linecolor\": \"rgb(36,36,36)\", \"showbackground\": true, \"showgrid\": false, \"showline\": true, \"ticks\": \"outside\", \"zeroline\": false, \"zerolinecolor\": \"rgb(36,36,36)\"}, \"yaxis\": {\"backgroundcolor\": \"white\", \"gridcolor\": \"rgb(232,232,232)\", \"gridwidth\": 2, \"linecolor\": \"rgb(36,36,36)\", \"showbackground\": true, \"showgrid\": false, \"showline\": true, \"ticks\": \"outside\", \"zeroline\": false, \"zerolinecolor\": \"rgb(36,36,36)\"}, \"zaxis\": {\"backgroundcolor\": \"white\", \"gridcolor\": \"rgb(232,232,232)\", \"gridwidth\": 2, \"linecolor\": \"rgb(36,36,36)\", \"showbackground\": true, \"showgrid\": false, \"showline\": true, \"ticks\": \"outside\", \"zeroline\": false, \"zerolinecolor\": \"rgb(36,36,36)\"}}, \"shapedefaults\": {\"fillcolor\": \"black\", \"line\": {\"width\": 0}, \"opacity\": 0.3}, \"ternary\": {\"aaxis\": {\"gridcolor\": \"rgb(232,232,232)\", \"linecolor\": \"rgb(36,36,36)\", \"showgrid\": false, \"showline\": true, \"ticks\": \"outside\"}, \"baxis\": {\"gridcolor\": \"rgb(232,232,232)\", \"linecolor\": \"rgb(36,36,36)\", \"showgrid\": false, \"showline\": true, \"ticks\": \"outside\"}, \"bgcolor\": \"white\", \"caxis\": {\"gridcolor\": \"rgb(232,232,232)\", \"linecolor\": \"rgb(36,36,36)\", \"showgrid\": false, \"showline\": true, \"ticks\": \"outside\"}}, \"title\": {\"x\": 0.05}, \"xaxis\": {\"automargin\": true, \"gridcolor\": \"rgb(232,232,232)\", \"linecolor\": \"rgb(36,36,36)\", \"showgrid\": false, \"showline\": true, \"ticks\": \"outside\", \"title\": {\"standoff\": 15}, \"zeroline\": false, \"zerolinecolor\": \"rgb(36,36,36)\"}, \"yaxis\": {\"automargin\": true, \"gridcolor\": \"rgb(232,232,232)\", \"linecolor\": \"rgb(36,36,36)\", \"showgrid\": false, \"showline\": true, \"ticks\": \"outside\", \"title\": {\"standoff\": 15}, \"zeroline\": false, \"zerolinecolor\": \"rgb(36,36,36)\"}}}, \"title\": {\"font\": {\"size\": 26}, \"text\": \"Team Comparision:\"}, \"xaxis\": {\"anchor\": \"y\", \"domain\": [0.0, 1.0], \"title\": {\"text\": \"Season\"}}, \"yaxis\": {\"anchor\": \"x\", \"domain\": [0.0, 1.0], \"title\": {\"text\": \"count\"}}},\n",
              "                        {\"responsive\": true}\n",
              "                    ).then(function(){\n",
              "                            \n",
              "var gd = document.getElementById('a1daf364-75ff-4a0e-9618-7230ba937bd0');\n",
              "var x = new MutationObserver(function (mutations, observer) {{\n",
              "        var display = window.getComputedStyle(gd).display;\n",
              "        if (!display || display === 'none') {{\n",
              "            console.log([gd, 'removed!']);\n",
              "            Plotly.purge(gd);\n",
              "            observer.disconnect();\n",
              "        }}\n",
              "}});\n",
              "\n",
              "// Listen for the removal of the full notebook cells\n",
              "var notebookContainer = gd.closest('#notebook-container');\n",
              "if (notebookContainer) {{\n",
              "    x.observe(notebookContainer, {childList: true});\n",
              "}}\n",
              "\n",
              "// Listen for the clearing of the current output cell\n",
              "var outputEl = gd.closest('.output');\n",
              "if (outputEl) {{\n",
              "    x.observe(outputEl, {childList: true});\n",
              "}}\n",
              "\n",
              "                        })\n",
              "                };\n",
              "                \n",
              "            </script>\n",
              "        </div>\n",
              "</body>\n",
              "</html>"
            ]
          },
          "metadata": {}
        }
      ]
    },
    {
      "cell_type": "markdown",
      "metadata": {
        "papermill": {
          "duration": 0.167569,
          "end_time": "2021-06-04T22:21:46.841086",
          "exception": false,
          "start_time": "2021-06-04T22:21:46.673517",
          "status": "completed"
        },
        "tags": [],
        "id": "p9695Fqwi33J"
      },
      "source": [
        "<div class=\"alert alert-block alert-info\"><p style='color:black;'> 📌\n",
        "Mumbai Indians is slight ahead of Chennai Super Kings in this heavy clash.<br>\n",
        "The dominance was especially seen in the 2019 season, where Mumbai defeated Chennai 4 out of 4 times they met, including the playoff and final.\n",
        "</p>\n",
        "</div>"
      ]
    },
    {
      "cell_type": "markdown",
      "metadata": {
        "papermill": {
          "duration": 0.151485,
          "end_time": "2021-06-04T22:21:47.146136",
          "exception": false,
          "start_time": "2021-06-04T22:21:46.994651",
          "status": "completed"
        },
        "tags": [],
        "id": "aQe7Vsari33J"
      },
      "source": [
        "<small><a href='#0'>Go to top</a></small>  "
      ]
    },
    {
      "cell_type": "markdown",
      "metadata": {
        "papermill": {
          "duration": 0.148128,
          "end_time": "2021-06-04T22:21:47.443063",
          "exception": false,
          "start_time": "2021-06-04T22:21:47.294935",
          "status": "completed"
        },
        "tags": [],
        "id": "Q2keI9tqi33J"
      },
      "source": [
        "<a id=\"16\">\n",
        "<h1 style = \"font-family: Snell Roundhand;font-weight: 500;font-size: 30px; font-style: normal; background-color: #FFFB30; color :black;\">16) Particular batsman analysis :</h1>\n",
        "\n"
      ]
    },
    {
      "cell_type": "markdown",
      "metadata": {
        "papermill": {
          "duration": 0.146505,
          "end_time": "2021-06-04T22:21:47.737937",
          "exception": false,
          "start_time": "2021-06-04T22:21:47.591432",
          "status": "completed"
        },
        "tags": [],
        "id": "4bRr_6fpi33J"
      },
      "source": [
        "<div class=\"alert alert-block alert-info\"><p style='color:black;'> 📌\n",
        "    Lets see some stats of highest run scorer of IPL : <b>Virat Kohli</b>\n",
        "</p>\n",
        "</div>"
      ]
    },
    {
      "cell_type": "code",
      "metadata": {
        "_kg_hide-input": true,
        "_kg_hide-output": true,
        "execution": {
          "iopub.execute_input": "2021-06-04T22:21:48.084282Z",
          "iopub.status.busy": "2021-06-04T22:21:48.067023Z",
          "iopub.status.idle": "2021-06-04T22:21:48.092012Z",
          "shell.execute_reply": "2021-06-04T22:21:48.091015Z",
          "shell.execute_reply.started": "2021-06-04T22:16:39.005663Z"
        },
        "papermill": {
          "duration": 0.203531,
          "end_time": "2021-06-04T22:21:48.092175",
          "exception": false,
          "start_time": "2021-06-04T22:21:47.888644",
          "status": "completed"
        },
        "tags": [],
        "colab": {
          "base_uri": "https://localhost:8080/",
          "height": 399
        },
        "id": "cfThVSDzi33J",
        "outputId": "4d558439-33b8-4b83-e33e-d3101cfd5ab4"
      },
      "source": [
        "filt=(deliveries_data['batsman']=='V Kohli')\n",
        "df_kohli=deliveries_data[filt]\n",
        "df_kohli.head()"
      ],
      "execution_count": 40,
      "outputs": [
        {
          "output_type": "execute_result",
          "data": {
            "text/html": [
              "<div>\n",
              "<style scoped>\n",
              "    .dataframe tbody tr th:only-of-type {\n",
              "        vertical-align: middle;\n",
              "    }\n",
              "\n",
              "    .dataframe tbody tr th {\n",
              "        vertical-align: top;\n",
              "    }\n",
              "\n",
              "    .dataframe thead th {\n",
              "        text-align: right;\n",
              "    }\n",
              "</style>\n",
              "<table border=\"1\" class=\"dataframe\">\n",
              "  <thead>\n",
              "    <tr style=\"text-align: right;\">\n",
              "      <th></th>\n",
              "      <th>id</th>\n",
              "      <th>inning</th>\n",
              "      <th>over</th>\n",
              "      <th>ball</th>\n",
              "      <th>batsman</th>\n",
              "      <th>non_striker</th>\n",
              "      <th>bowler</th>\n",
              "      <th>batsman_runs</th>\n",
              "      <th>extra_runs</th>\n",
              "      <th>total_runs</th>\n",
              "      <th>non_boundary</th>\n",
              "      <th>is_wicket</th>\n",
              "      <th>dismissal_kind</th>\n",
              "      <th>player_dismissed</th>\n",
              "      <th>fielder</th>\n",
              "      <th>extras_type</th>\n",
              "      <th>batting_team</th>\n",
              "      <th>bowling_team</th>\n",
              "    </tr>\n",
              "  </thead>\n",
              "  <tbody>\n",
              "    <tr>\n",
              "      <th>211</th>\n",
              "      <td>335982</td>\n",
              "      <td>2</td>\n",
              "      <td>1</td>\n",
              "      <td>2</td>\n",
              "      <td>V Kohli</td>\n",
              "      <td>W Jaffer</td>\n",
              "      <td>I Sharma</td>\n",
              "      <td>0</td>\n",
              "      <td>0</td>\n",
              "      <td>0</td>\n",
              "      <td>0</td>\n",
              "      <td>0</td>\n",
              "      <td>NaN</td>\n",
              "      <td>NaN</td>\n",
              "      <td>NaN</td>\n",
              "      <td>NaN</td>\n",
              "      <td>Royal Challengers Bangalore</td>\n",
              "      <td>Kolkata Knight Riders</td>\n",
              "    </tr>\n",
              "    <tr>\n",
              "      <th>212</th>\n",
              "      <td>335982</td>\n",
              "      <td>2</td>\n",
              "      <td>1</td>\n",
              "      <td>3</td>\n",
              "      <td>V Kohli</td>\n",
              "      <td>W Jaffer</td>\n",
              "      <td>I Sharma</td>\n",
              "      <td>0</td>\n",
              "      <td>4</td>\n",
              "      <td>4</td>\n",
              "      <td>0</td>\n",
              "      <td>0</td>\n",
              "      <td>NaN</td>\n",
              "      <td>NaN</td>\n",
              "      <td>NaN</td>\n",
              "      <td>legbyes</td>\n",
              "      <td>Royal Challengers Bangalore</td>\n",
              "      <td>Kolkata Knight Riders</td>\n",
              "    </tr>\n",
              "    <tr>\n",
              "      <th>213</th>\n",
              "      <td>335982</td>\n",
              "      <td>2</td>\n",
              "      <td>1</td>\n",
              "      <td>4</td>\n",
              "      <td>V Kohli</td>\n",
              "      <td>W Jaffer</td>\n",
              "      <td>I Sharma</td>\n",
              "      <td>1</td>\n",
              "      <td>0</td>\n",
              "      <td>1</td>\n",
              "      <td>0</td>\n",
              "      <td>0</td>\n",
              "      <td>NaN</td>\n",
              "      <td>NaN</td>\n",
              "      <td>NaN</td>\n",
              "      <td>NaN</td>\n",
              "      <td>Royal Challengers Bangalore</td>\n",
              "      <td>Kolkata Knight Riders</td>\n",
              "    </tr>\n",
              "    <tr>\n",
              "      <th>216</th>\n",
              "      <td>335982</td>\n",
              "      <td>2</td>\n",
              "      <td>2</td>\n",
              "      <td>1</td>\n",
              "      <td>V Kohli</td>\n",
              "      <td>W Jaffer</td>\n",
              "      <td>AB Dinda</td>\n",
              "      <td>0</td>\n",
              "      <td>0</td>\n",
              "      <td>0</td>\n",
              "      <td>0</td>\n",
              "      <td>0</td>\n",
              "      <td>NaN</td>\n",
              "      <td>NaN</td>\n",
              "      <td>NaN</td>\n",
              "      <td>NaN</td>\n",
              "      <td>Royal Challengers Bangalore</td>\n",
              "      <td>Kolkata Knight Riders</td>\n",
              "    </tr>\n",
              "    <tr>\n",
              "      <th>217</th>\n",
              "      <td>335982</td>\n",
              "      <td>2</td>\n",
              "      <td>2</td>\n",
              "      <td>2</td>\n",
              "      <td>V Kohli</td>\n",
              "      <td>W Jaffer</td>\n",
              "      <td>AB Dinda</td>\n",
              "      <td>0</td>\n",
              "      <td>0</td>\n",
              "      <td>0</td>\n",
              "      <td>0</td>\n",
              "      <td>1</td>\n",
              "      <td>bowled</td>\n",
              "      <td>V Kohli</td>\n",
              "      <td>NaN</td>\n",
              "      <td>NaN</td>\n",
              "      <td>Royal Challengers Bangalore</td>\n",
              "      <td>Kolkata Knight Riders</td>\n",
              "    </tr>\n",
              "  </tbody>\n",
              "</table>\n",
              "</div>"
            ],
            "text/plain": [
              "         id  inning  ...                 batting_team           bowling_team\n",
              "211  335982       2  ...  Royal Challengers Bangalore  Kolkata Knight Riders\n",
              "212  335982       2  ...  Royal Challengers Bangalore  Kolkata Knight Riders\n",
              "213  335982       2  ...  Royal Challengers Bangalore  Kolkata Knight Riders\n",
              "216  335982       2  ...  Royal Challengers Bangalore  Kolkata Knight Riders\n",
              "217  335982       2  ...  Royal Challengers Bangalore  Kolkata Knight Riders\n",
              "\n",
              "[5 rows x 18 columns]"
            ]
          },
          "metadata": {},
          "execution_count": 40
        }
      ]
    },
    {
      "cell_type": "code",
      "metadata": {
        "_kg_hide-input": true,
        "execution": {
          "iopub.execute_input": "2021-06-04T22:21:48.406886Z",
          "iopub.status.busy": "2021-06-04T22:21:48.406175Z",
          "iopub.status.idle": "2021-06-04T22:21:48.412129Z",
          "shell.execute_reply": "2021-06-04T22:21:48.411631Z",
          "shell.execute_reply.started": "2021-06-04T22:16:39.041620Z"
        },
        "papermill": {
          "duration": 0.172266,
          "end_time": "2021-06-04T22:21:48.412292",
          "exception": false,
          "start_time": "2021-06-04T22:21:48.240026",
          "status": "completed"
        },
        "tags": [],
        "colab": {
          "base_uri": "https://localhost:8080/",
          "height": 542
        },
        "id": "4KWBR_M0i33J",
        "outputId": "6217f6eb-8444-4255-aec5-1194fbd50556"
      },
      "source": [
        "values = df_kohli['dismissal_kind'].value_counts()\n",
        "labels=df_kohli['dismissal_kind'].value_counts().index\n",
        "fig = go.Figure(data=[go.Pie(labels=labels,values=values,hole=.3)])\n",
        "fig.update_traces(hoverinfo='label+percent', textinfo='label', textfont_size=20,\n",
        "                  marker=dict(colors=colors, line=dict(color='#000000', width=3)))\n",
        "fig.update_layout(title=\"Dismissal Type\",\n",
        "                  titlefont={'size': 30},\n",
        "                  )\n",
        "fig.show()"
      ],
      "execution_count": 41,
      "outputs": [
        {
          "output_type": "display_data",
          "data": {
            "text/html": [
              "<html>\n",
              "<head><meta charset=\"utf-8\" /></head>\n",
              "<body>\n",
              "    <div>\n",
              "            <script src=\"https://cdnjs.cloudflare.com/ajax/libs/mathjax/2.7.5/MathJax.js?config=TeX-AMS-MML_SVG\"></script><script type=\"text/javascript\">if (window.MathJax) {MathJax.Hub.Config({SVG: {font: \"STIX-Web\"}});}</script>\n",
              "                <script type=\"text/javascript\">window.PlotlyConfig = {MathJaxConfig: 'local'};</script>\n",
              "        <script src=\"https://cdn.plot.ly/plotly-latest.min.js\"></script>    \n",
              "            <div id=\"3718e0f2-d783-4863-a552-c4b4b2130961\" class=\"plotly-graph-div\" style=\"height:525px; width:100%;\"></div>\n",
              "            <script type=\"text/javascript\">\n",
              "                \n",
              "                    window.PLOTLYENV=window.PLOTLYENV || {};\n",
              "                    \n",
              "                if (document.getElementById(\"3718e0f2-d783-4863-a552-c4b4b2130961\")) {\n",
              "                    Plotly.newPlot(\n",
              "                        '3718e0f2-d783-4863-a552-c4b4b2130961',\n",
              "                        [{\"hole\": 0.3, \"hoverinfo\": \"label+percent\", \"labels\": [\"caught\", \"bowled\", \"run out\", \"lbw\", \"caught and bowled\", \"stumped\"], \"marker\": {\"colors\": [\"turquoise\", \"crimson\"], \"line\": {\"color\": \"#000000\", \"width\": 3}}, \"textfont\": {\"size\": 20}, \"textinfo\": \"label\", \"type\": \"pie\", \"values\": [105, 30, 15, 7, 3, 3]}],\n",
              "                        {\"template\": {\"data\": {\"bar\": [{\"error_x\": {\"color\": \"#2a3f5f\"}, \"error_y\": {\"color\": \"#2a3f5f\"}, \"marker\": {\"line\": {\"color\": \"#E5ECF6\", \"width\": 0.5}}, \"type\": \"bar\"}], \"barpolar\": [{\"marker\": {\"line\": {\"color\": \"#E5ECF6\", \"width\": 0.5}}, \"type\": \"barpolar\"}], \"carpet\": [{\"aaxis\": {\"endlinecolor\": \"#2a3f5f\", \"gridcolor\": \"white\", \"linecolor\": \"white\", \"minorgridcolor\": \"white\", \"startlinecolor\": \"#2a3f5f\"}, \"baxis\": {\"endlinecolor\": \"#2a3f5f\", \"gridcolor\": \"white\", \"linecolor\": \"white\", \"minorgridcolor\": \"white\", \"startlinecolor\": \"#2a3f5f\"}, \"type\": \"carpet\"}], \"choropleth\": [{\"colorbar\": {\"outlinewidth\": 0, \"ticks\": \"\"}, \"type\": \"choropleth\"}], \"contour\": [{\"colorbar\": {\"outlinewidth\": 0, \"ticks\": \"\"}, \"colorscale\": [[0.0, \"#0d0887\"], [0.1111111111111111, \"#46039f\"], [0.2222222222222222, \"#7201a8\"], [0.3333333333333333, \"#9c179e\"], [0.4444444444444444, \"#bd3786\"], [0.5555555555555556, \"#d8576b\"], [0.6666666666666666, \"#ed7953\"], [0.7777777777777778, \"#fb9f3a\"], [0.8888888888888888, \"#fdca26\"], [1.0, \"#f0f921\"]], \"type\": \"contour\"}], \"contourcarpet\": [{\"colorbar\": {\"outlinewidth\": 0, \"ticks\": \"\"}, \"type\": \"contourcarpet\"}], \"heatmap\": [{\"colorbar\": {\"outlinewidth\": 0, \"ticks\": \"\"}, \"colorscale\": [[0.0, \"#0d0887\"], [0.1111111111111111, \"#46039f\"], [0.2222222222222222, \"#7201a8\"], [0.3333333333333333, \"#9c179e\"], [0.4444444444444444, \"#bd3786\"], [0.5555555555555556, \"#d8576b\"], [0.6666666666666666, \"#ed7953\"], [0.7777777777777778, \"#fb9f3a\"], [0.8888888888888888, \"#fdca26\"], [1.0, \"#f0f921\"]], \"type\": \"heatmap\"}], \"heatmapgl\": [{\"colorbar\": {\"outlinewidth\": 0, \"ticks\": \"\"}, \"colorscale\": [[0.0, \"#0d0887\"], [0.1111111111111111, \"#46039f\"], [0.2222222222222222, \"#7201a8\"], [0.3333333333333333, \"#9c179e\"], [0.4444444444444444, \"#bd3786\"], [0.5555555555555556, \"#d8576b\"], [0.6666666666666666, \"#ed7953\"], [0.7777777777777778, \"#fb9f3a\"], [0.8888888888888888, \"#fdca26\"], [1.0, \"#f0f921\"]], \"type\": \"heatmapgl\"}], \"histogram\": [{\"marker\": {\"colorbar\": {\"outlinewidth\": 0, \"ticks\": \"\"}}, \"type\": \"histogram\"}], \"histogram2d\": [{\"colorbar\": {\"outlinewidth\": 0, \"ticks\": \"\"}, \"colorscale\": [[0.0, \"#0d0887\"], [0.1111111111111111, \"#46039f\"], [0.2222222222222222, \"#7201a8\"], [0.3333333333333333, \"#9c179e\"], [0.4444444444444444, \"#bd3786\"], [0.5555555555555556, \"#d8576b\"], [0.6666666666666666, \"#ed7953\"], [0.7777777777777778, \"#fb9f3a\"], [0.8888888888888888, \"#fdca26\"], [1.0, \"#f0f921\"]], \"type\": \"histogram2d\"}], \"histogram2dcontour\": [{\"colorbar\": {\"outlinewidth\": 0, \"ticks\": \"\"}, \"colorscale\": [[0.0, \"#0d0887\"], [0.1111111111111111, \"#46039f\"], [0.2222222222222222, \"#7201a8\"], [0.3333333333333333, \"#9c179e\"], [0.4444444444444444, \"#bd3786\"], [0.5555555555555556, \"#d8576b\"], [0.6666666666666666, \"#ed7953\"], [0.7777777777777778, \"#fb9f3a\"], [0.8888888888888888, \"#fdca26\"], [1.0, \"#f0f921\"]], \"type\": \"histogram2dcontour\"}], \"mesh3d\": [{\"colorbar\": {\"outlinewidth\": 0, \"ticks\": \"\"}, \"type\": \"mesh3d\"}], \"parcoords\": [{\"line\": {\"colorbar\": {\"outlinewidth\": 0, \"ticks\": \"\"}}, \"type\": \"parcoords\"}], \"pie\": [{\"automargin\": true, \"type\": \"pie\"}], \"scatter\": [{\"marker\": {\"colorbar\": {\"outlinewidth\": 0, \"ticks\": \"\"}}, \"type\": \"scatter\"}], \"scatter3d\": [{\"line\": {\"colorbar\": {\"outlinewidth\": 0, \"ticks\": \"\"}}, \"marker\": {\"colorbar\": {\"outlinewidth\": 0, \"ticks\": \"\"}}, \"type\": \"scatter3d\"}], \"scattercarpet\": [{\"marker\": {\"colorbar\": {\"outlinewidth\": 0, \"ticks\": \"\"}}, \"type\": \"scattercarpet\"}], \"scattergeo\": [{\"marker\": {\"colorbar\": {\"outlinewidth\": 0, \"ticks\": \"\"}}, \"type\": \"scattergeo\"}], \"scattergl\": [{\"marker\": {\"colorbar\": {\"outlinewidth\": 0, \"ticks\": \"\"}}, \"type\": \"scattergl\"}], \"scattermapbox\": [{\"marker\": {\"colorbar\": {\"outlinewidth\": 0, \"ticks\": \"\"}}, \"type\": \"scattermapbox\"}], \"scatterpolar\": [{\"marker\": {\"colorbar\": {\"outlinewidth\": 0, \"ticks\": \"\"}}, \"type\": \"scatterpolar\"}], \"scatterpolargl\": [{\"marker\": {\"colorbar\": {\"outlinewidth\": 0, \"ticks\": \"\"}}, \"type\": \"scatterpolargl\"}], \"scatterternary\": [{\"marker\": {\"colorbar\": {\"outlinewidth\": 0, \"ticks\": \"\"}}, \"type\": \"scatterternary\"}], \"surface\": [{\"colorbar\": {\"outlinewidth\": 0, \"ticks\": \"\"}, \"colorscale\": [[0.0, \"#0d0887\"], [0.1111111111111111, \"#46039f\"], [0.2222222222222222, \"#7201a8\"], [0.3333333333333333, \"#9c179e\"], [0.4444444444444444, \"#bd3786\"], [0.5555555555555556, \"#d8576b\"], [0.6666666666666666, \"#ed7953\"], [0.7777777777777778, \"#fb9f3a\"], [0.8888888888888888, \"#fdca26\"], [1.0, \"#f0f921\"]], \"type\": \"surface\"}], \"table\": [{\"cells\": {\"fill\": {\"color\": \"#EBF0F8\"}, \"line\": {\"color\": \"white\"}}, \"header\": {\"fill\": {\"color\": \"#C8D4E3\"}, \"line\": {\"color\": \"white\"}}, \"type\": \"table\"}]}, \"layout\": {\"annotationdefaults\": {\"arrowcolor\": \"#2a3f5f\", \"arrowhead\": 0, \"arrowwidth\": 1}, \"coloraxis\": {\"colorbar\": {\"outlinewidth\": 0, \"ticks\": \"\"}}, \"colorscale\": {\"diverging\": [[0, \"#8e0152\"], [0.1, \"#c51b7d\"], [0.2, \"#de77ae\"], [0.3, \"#f1b6da\"], [0.4, \"#fde0ef\"], [0.5, \"#f7f7f7\"], [0.6, \"#e6f5d0\"], [0.7, \"#b8e186\"], [0.8, \"#7fbc41\"], [0.9, \"#4d9221\"], [1, \"#276419\"]], \"sequential\": [[0.0, \"#0d0887\"], [0.1111111111111111, \"#46039f\"], [0.2222222222222222, \"#7201a8\"], [0.3333333333333333, \"#9c179e\"], [0.4444444444444444, \"#bd3786\"], [0.5555555555555556, \"#d8576b\"], [0.6666666666666666, \"#ed7953\"], [0.7777777777777778, \"#fb9f3a\"], [0.8888888888888888, \"#fdca26\"], [1.0, \"#f0f921\"]], \"sequentialminus\": [[0.0, \"#0d0887\"], [0.1111111111111111, \"#46039f\"], [0.2222222222222222, \"#7201a8\"], [0.3333333333333333, \"#9c179e\"], [0.4444444444444444, \"#bd3786\"], [0.5555555555555556, \"#d8576b\"], [0.6666666666666666, \"#ed7953\"], [0.7777777777777778, \"#fb9f3a\"], [0.8888888888888888, \"#fdca26\"], [1.0, \"#f0f921\"]]}, \"colorway\": [\"#636efa\", \"#EF553B\", \"#00cc96\", \"#ab63fa\", \"#FFA15A\", \"#19d3f3\", \"#FF6692\", \"#B6E880\", \"#FF97FF\", \"#FECB52\"], \"font\": {\"color\": \"#2a3f5f\"}, \"geo\": {\"bgcolor\": \"white\", \"lakecolor\": \"white\", \"landcolor\": \"#E5ECF6\", \"showlakes\": true, \"showland\": true, \"subunitcolor\": \"white\"}, \"hoverlabel\": {\"align\": \"left\"}, \"hovermode\": \"closest\", \"mapbox\": {\"style\": \"light\"}, \"paper_bgcolor\": \"white\", \"plot_bgcolor\": \"#E5ECF6\", \"polar\": {\"angularaxis\": {\"gridcolor\": \"white\", \"linecolor\": \"white\", \"ticks\": \"\"}, \"bgcolor\": \"#E5ECF6\", \"radialaxis\": {\"gridcolor\": \"white\", \"linecolor\": \"white\", \"ticks\": \"\"}}, \"scene\": {\"xaxis\": {\"backgroundcolor\": \"#E5ECF6\", \"gridcolor\": \"white\", \"gridwidth\": 2, \"linecolor\": \"white\", \"showbackground\": true, \"ticks\": \"\", \"zerolinecolor\": \"white\"}, \"yaxis\": {\"backgroundcolor\": \"#E5ECF6\", \"gridcolor\": \"white\", \"gridwidth\": 2, \"linecolor\": \"white\", \"showbackground\": true, \"ticks\": \"\", \"zerolinecolor\": \"white\"}, \"zaxis\": {\"backgroundcolor\": \"#E5ECF6\", \"gridcolor\": \"white\", \"gridwidth\": 2, \"linecolor\": \"white\", \"showbackground\": true, \"ticks\": \"\", \"zerolinecolor\": \"white\"}}, \"shapedefaults\": {\"line\": {\"color\": \"#2a3f5f\"}}, \"ternary\": {\"aaxis\": {\"gridcolor\": \"white\", \"linecolor\": \"white\", \"ticks\": \"\"}, \"baxis\": {\"gridcolor\": \"white\", \"linecolor\": \"white\", \"ticks\": \"\"}, \"bgcolor\": \"#E5ECF6\", \"caxis\": {\"gridcolor\": \"white\", \"linecolor\": \"white\", \"ticks\": \"\"}}, \"title\": {\"x\": 0.05}, \"xaxis\": {\"automargin\": true, \"gridcolor\": \"white\", \"linecolor\": \"white\", \"ticks\": \"\", \"title\": {\"standoff\": 15}, \"zerolinecolor\": \"white\", \"zerolinewidth\": 2}, \"yaxis\": {\"automargin\": true, \"gridcolor\": \"white\", \"linecolor\": \"white\", \"ticks\": \"\", \"title\": {\"standoff\": 15}, \"zerolinecolor\": \"white\", \"zerolinewidth\": 2}}}, \"title\": {\"font\": {\"size\": 30}, \"text\": \"Dismissal Type\"}},\n",
              "                        {\"responsive\": true}\n",
              "                    ).then(function(){\n",
              "                            \n",
              "var gd = document.getElementById('3718e0f2-d783-4863-a552-c4b4b2130961');\n",
              "var x = new MutationObserver(function (mutations, observer) {{\n",
              "        var display = window.getComputedStyle(gd).display;\n",
              "        if (!display || display === 'none') {{\n",
              "            console.log([gd, 'removed!']);\n",
              "            Plotly.purge(gd);\n",
              "            observer.disconnect();\n",
              "        }}\n",
              "}});\n",
              "\n",
              "// Listen for the removal of the full notebook cells\n",
              "var notebookContainer = gd.closest('#notebook-container');\n",
              "if (notebookContainer) {{\n",
              "    x.observe(notebookContainer, {childList: true});\n",
              "}}\n",
              "\n",
              "// Listen for the clearing of the current output cell\n",
              "var outputEl = gd.closest('.output');\n",
              "if (outputEl) {{\n",
              "    x.observe(outputEl, {childList: true});\n",
              "}}\n",
              "\n",
              "                        })\n",
              "                };\n",
              "                \n",
              "            </script>\n",
              "        </div>\n",
              "</body>\n",
              "</html>"
            ]
          },
          "metadata": {}
        }
      ]
    },
    {
      "cell_type": "code",
      "metadata": {
        "execution": {
          "iopub.execute_input": "2021-06-04T22:21:48.722539Z",
          "iopub.status.busy": "2021-06-04T22:21:48.721668Z",
          "iopub.status.idle": "2021-06-04T22:21:48.728206Z",
          "shell.execute_reply": "2021-06-04T22:21:48.727218Z",
          "shell.execute_reply.started": "2021-06-04T22:16:39.064997Z"
        },
        "papermill": {
          "duration": 0.165429,
          "end_time": "2021-06-04T22:21:48.728385",
          "exception": false,
          "start_time": "2021-06-04T22:21:48.562956",
          "status": "completed"
        },
        "tags": [],
        "colab": {
          "base_uri": "https://localhost:8080/"
        },
        "id": "XWLRoBTei33K",
        "outputId": "d9ae854b-d5a8-42f6-c4ed-053457ba1cae"
      },
      "source": [
        "len(df_kohli[df_kohli['batsman_runs']==4])"
      ],
      "execution_count": 42,
      "outputs": [
        {
          "output_type": "execute_result",
          "data": {
            "text/plain": [
              "504"
            ]
          },
          "metadata": {},
          "execution_count": 42
        }
      ]
    },
    {
      "cell_type": "code",
      "metadata": {
        "execution": {
          "iopub.execute_input": "2021-06-04T22:21:49.040362Z",
          "iopub.status.busy": "2021-06-04T22:21:49.039336Z",
          "iopub.status.idle": "2021-06-04T22:21:49.043318Z",
          "shell.execute_reply": "2021-06-04T22:21:49.042815Z",
          "shell.execute_reply.started": "2021-06-04T22:16:39.081186Z"
        },
        "papermill": {
          "duration": 0.161704,
          "end_time": "2021-06-04T22:21:49.043467",
          "exception": false,
          "start_time": "2021-06-04T22:21:48.881763",
          "status": "completed"
        },
        "tags": [],
        "colab": {
          "base_uri": "https://localhost:8080/"
        },
        "id": "-LKKgXgFi33K",
        "outputId": "59325396-e411-4341-f0e6-1e3f00268a22"
      },
      "source": [
        "len(df_kohli[df_kohli['batsman_runs']==6])"
      ],
      "execution_count": 43,
      "outputs": [
        {
          "output_type": "execute_result",
          "data": {
            "text/plain": [
              "202"
            ]
          },
          "metadata": {},
          "execution_count": 43
        }
      ]
    },
    {
      "cell_type": "code",
      "metadata": {
        "execution": {
          "iopub.execute_input": "2021-06-04T22:21:49.351515Z",
          "iopub.status.busy": "2021-06-04T22:21:49.350869Z",
          "iopub.status.idle": "2021-06-04T22:21:49.353835Z",
          "shell.execute_reply": "2021-06-04T22:21:49.354310Z",
          "shell.execute_reply.started": "2021-06-04T22:16:39.096002Z"
        },
        "papermill": {
          "duration": 0.15934,
          "end_time": "2021-06-04T22:21:49.354487",
          "exception": false,
          "start_time": "2021-06-04T22:21:49.195147",
          "status": "completed"
        },
        "tags": [],
        "colab": {
          "base_uri": "https://localhost:8080/"
        },
        "id": "4HVkuDvzi33K",
        "outputId": "8ec0ef1e-4a05-4ade-9a7f-aaaefc3d0f9a"
      },
      "source": [
        "df_kohli['total_runs'].sum()"
      ],
      "execution_count": 44,
      "outputs": [
        {
          "output_type": "execute_result",
          "data": {
            "text/plain": [
              "6081"
            ]
          },
          "metadata": {},
          "execution_count": 44
        }
      ]
    },
    {
      "cell_type": "code",
      "metadata": {
        "_kg_hide-input": true,
        "execution": {
          "iopub.execute_input": "2021-06-04T22:21:49.657506Z",
          "iopub.status.busy": "2021-06-04T22:21:49.656794Z",
          "iopub.status.idle": "2021-06-04T22:21:49.660472Z",
          "shell.execute_reply": "2021-06-04T22:21:49.661029Z",
          "shell.execute_reply.started": "2021-06-04T22:16:39.108644Z"
        },
        "papermill": {
          "duration": 0.156663,
          "end_time": "2021-06-04T22:21:49.661211",
          "exception": false,
          "start_time": "2021-06-04T22:21:49.504548",
          "status": "completed"
        },
        "tags": [],
        "id": "qfPRYfOdi33K"
      },
      "source": [
        "def count(df_kohli,runs):\n",
        "    return len(df_kohli[df_kohli['batsman_runs']==runs])*runs"
      ],
      "execution_count": 45,
      "outputs": []
    },
    {
      "cell_type": "code",
      "metadata": {
        "_kg_hide-input": true,
        "execution": {
          "iopub.execute_input": "2021-06-04T22:21:49.967783Z",
          "iopub.status.busy": "2021-06-04T22:21:49.967132Z",
          "iopub.status.idle": "2021-06-04T22:21:49.979760Z",
          "shell.execute_reply": "2021-06-04T22:21:49.980247Z",
          "shell.execute_reply.started": "2021-06-04T22:16:39.118456Z"
        },
        "papermill": {
          "duration": 0.168629,
          "end_time": "2021-06-04T22:21:49.980438",
          "exception": false,
          "start_time": "2021-06-04T22:21:49.811809",
          "status": "completed"
        },
        "tags": [],
        "colab": {
          "base_uri": "https://localhost:8080/"
        },
        "id": "Wh1mDSt1i33K",
        "outputId": "5fadfec9-b42c-4ae5-9cc9-8d058a23504e"
      },
      "source": [
        "print(\"Runs scored from 1's :\",count(df_kohli,1))\n",
        "print(\"Runs scored from 2's :\",count(df_kohli,2))\n",
        "print(\"Runs scored from 3's :\",count(df_kohli,3))\n",
        "print(\"Runs scored from 4's :\",count(df_kohli,4))\n",
        "print(\"Runs scored from 6's :\",count(df_kohli,6))"
      ],
      "execution_count": 46,
      "outputs": [
        {
          "output_type": "stream",
          "name": "stdout",
          "text": [
            "Runs scored from 1's : 1919\n",
            "Runs scored from 2's : 692\n",
            "Runs scored from 3's : 39\n",
            "Runs scored from 4's : 2016\n",
            "Runs scored from 6's : 1212\n"
          ]
        }
      ]
    },
    {
      "cell_type": "code",
      "metadata": {
        "_kg_hide-input": true,
        "execution": {
          "iopub.execute_input": "2021-06-04T22:21:50.325936Z",
          "iopub.status.busy": "2021-06-04T22:21:50.325105Z",
          "iopub.status.idle": "2021-06-04T22:21:50.329662Z",
          "shell.execute_reply": "2021-06-04T22:21:50.330185Z",
          "shell.execute_reply.started": "2021-06-04T22:16:39.136957Z"
        },
        "papermill": {
          "duration": 0.184982,
          "end_time": "2021-06-04T22:21:50.330366",
          "exception": false,
          "start_time": "2021-06-04T22:21:50.145384",
          "status": "completed"
        },
        "tags": [],
        "colab": {
          "base_uri": "https://localhost:8080/",
          "height": 542
        },
        "id": "heMwD-uJi33L",
        "outputId": "9ae124bf-00ea-4dde-b946-fb6520b66d73"
      },
      "source": [
        "values=[1919,692,39,2016,1212]\n",
        "labels=[1,2,3,4,6]\n",
        "fig = go.Figure(data=[go.Pie(labels=labels,values=values,hole=.3)])\n",
        "fig.update_traces(hoverinfo='label+percent', textinfo='label+value', textfont_size=20,\n",
        "                  marker=dict(colors=colors, line=dict(color='#000000', width=3)))\n",
        "fig.update_layout(title=\"Virat Kohli total runs contribution\",\n",
        "                  titlefont={'size': 30},\n",
        "                  )\n",
        "fig.show()\n"
      ],
      "execution_count": 47,
      "outputs": [
        {
          "output_type": "display_data",
          "data": {
            "text/html": [
              "<html>\n",
              "<head><meta charset=\"utf-8\" /></head>\n",
              "<body>\n",
              "    <div>\n",
              "            <script src=\"https://cdnjs.cloudflare.com/ajax/libs/mathjax/2.7.5/MathJax.js?config=TeX-AMS-MML_SVG\"></script><script type=\"text/javascript\">if (window.MathJax) {MathJax.Hub.Config({SVG: {font: \"STIX-Web\"}});}</script>\n",
              "                <script type=\"text/javascript\">window.PlotlyConfig = {MathJaxConfig: 'local'};</script>\n",
              "        <script src=\"https://cdn.plot.ly/plotly-latest.min.js\"></script>    \n",
              "            <div id=\"26f19866-0a2b-4861-9495-8ce32fc54ff6\" class=\"plotly-graph-div\" style=\"height:525px; width:100%;\"></div>\n",
              "            <script type=\"text/javascript\">\n",
              "                \n",
              "                    window.PLOTLYENV=window.PLOTLYENV || {};\n",
              "                    \n",
              "                if (document.getElementById(\"26f19866-0a2b-4861-9495-8ce32fc54ff6\")) {\n",
              "                    Plotly.newPlot(\n",
              "                        '26f19866-0a2b-4861-9495-8ce32fc54ff6',\n",
              "                        [{\"hole\": 0.3, \"hoverinfo\": \"label+percent\", \"labels\": [1, 2, 3, 4, 6], \"marker\": {\"colors\": [\"turquoise\", \"crimson\"], \"line\": {\"color\": \"#000000\", \"width\": 3}}, \"textfont\": {\"size\": 20}, \"textinfo\": \"label+value\", \"type\": \"pie\", \"values\": [1919, 692, 39, 2016, 1212]}],\n",
              "                        {\"template\": {\"data\": {\"bar\": [{\"error_x\": {\"color\": \"#2a3f5f\"}, \"error_y\": {\"color\": \"#2a3f5f\"}, \"marker\": {\"line\": {\"color\": \"#E5ECF6\", \"width\": 0.5}}, \"type\": \"bar\"}], \"barpolar\": [{\"marker\": {\"line\": {\"color\": \"#E5ECF6\", \"width\": 0.5}}, \"type\": \"barpolar\"}], \"carpet\": [{\"aaxis\": {\"endlinecolor\": \"#2a3f5f\", \"gridcolor\": \"white\", \"linecolor\": \"white\", \"minorgridcolor\": \"white\", \"startlinecolor\": \"#2a3f5f\"}, \"baxis\": {\"endlinecolor\": \"#2a3f5f\", \"gridcolor\": \"white\", \"linecolor\": \"white\", \"minorgridcolor\": \"white\", \"startlinecolor\": \"#2a3f5f\"}, \"type\": \"carpet\"}], \"choropleth\": [{\"colorbar\": {\"outlinewidth\": 0, \"ticks\": \"\"}, \"type\": \"choropleth\"}], \"contour\": [{\"colorbar\": {\"outlinewidth\": 0, \"ticks\": \"\"}, \"colorscale\": [[0.0, \"#0d0887\"], [0.1111111111111111, \"#46039f\"], [0.2222222222222222, \"#7201a8\"], [0.3333333333333333, \"#9c179e\"], [0.4444444444444444, \"#bd3786\"], [0.5555555555555556, \"#d8576b\"], [0.6666666666666666, \"#ed7953\"], [0.7777777777777778, \"#fb9f3a\"], [0.8888888888888888, \"#fdca26\"], [1.0, \"#f0f921\"]], \"type\": \"contour\"}], \"contourcarpet\": [{\"colorbar\": {\"outlinewidth\": 0, \"ticks\": \"\"}, \"type\": \"contourcarpet\"}], \"heatmap\": [{\"colorbar\": {\"outlinewidth\": 0, \"ticks\": \"\"}, \"colorscale\": [[0.0, \"#0d0887\"], [0.1111111111111111, \"#46039f\"], [0.2222222222222222, \"#7201a8\"], [0.3333333333333333, \"#9c179e\"], [0.4444444444444444, \"#bd3786\"], [0.5555555555555556, \"#d8576b\"], [0.6666666666666666, \"#ed7953\"], [0.7777777777777778, \"#fb9f3a\"], [0.8888888888888888, \"#fdca26\"], [1.0, \"#f0f921\"]], \"type\": \"heatmap\"}], \"heatmapgl\": [{\"colorbar\": {\"outlinewidth\": 0, \"ticks\": \"\"}, \"colorscale\": [[0.0, \"#0d0887\"], [0.1111111111111111, \"#46039f\"], [0.2222222222222222, \"#7201a8\"], [0.3333333333333333, \"#9c179e\"], [0.4444444444444444, \"#bd3786\"], [0.5555555555555556, \"#d8576b\"], [0.6666666666666666, \"#ed7953\"], [0.7777777777777778, \"#fb9f3a\"], [0.8888888888888888, \"#fdca26\"], [1.0, \"#f0f921\"]], \"type\": \"heatmapgl\"}], \"histogram\": [{\"marker\": {\"colorbar\": {\"outlinewidth\": 0, \"ticks\": \"\"}}, \"type\": \"histogram\"}], \"histogram2d\": [{\"colorbar\": {\"outlinewidth\": 0, \"ticks\": \"\"}, \"colorscale\": [[0.0, \"#0d0887\"], [0.1111111111111111, \"#46039f\"], [0.2222222222222222, \"#7201a8\"], [0.3333333333333333, \"#9c179e\"], [0.4444444444444444, \"#bd3786\"], [0.5555555555555556, \"#d8576b\"], [0.6666666666666666, \"#ed7953\"], [0.7777777777777778, \"#fb9f3a\"], [0.8888888888888888, \"#fdca26\"], [1.0, \"#f0f921\"]], \"type\": \"histogram2d\"}], \"histogram2dcontour\": [{\"colorbar\": {\"outlinewidth\": 0, \"ticks\": \"\"}, \"colorscale\": [[0.0, \"#0d0887\"], [0.1111111111111111, \"#46039f\"], [0.2222222222222222, \"#7201a8\"], [0.3333333333333333, \"#9c179e\"], [0.4444444444444444, \"#bd3786\"], [0.5555555555555556, \"#d8576b\"], [0.6666666666666666, \"#ed7953\"], [0.7777777777777778, \"#fb9f3a\"], [0.8888888888888888, \"#fdca26\"], [1.0, \"#f0f921\"]], \"type\": \"histogram2dcontour\"}], \"mesh3d\": [{\"colorbar\": {\"outlinewidth\": 0, \"ticks\": \"\"}, \"type\": \"mesh3d\"}], \"parcoords\": [{\"line\": {\"colorbar\": {\"outlinewidth\": 0, \"ticks\": \"\"}}, \"type\": \"parcoords\"}], \"pie\": [{\"automargin\": true, \"type\": \"pie\"}], \"scatter\": [{\"marker\": {\"colorbar\": {\"outlinewidth\": 0, \"ticks\": \"\"}}, \"type\": \"scatter\"}], \"scatter3d\": [{\"line\": {\"colorbar\": {\"outlinewidth\": 0, \"ticks\": \"\"}}, \"marker\": {\"colorbar\": {\"outlinewidth\": 0, \"ticks\": \"\"}}, \"type\": \"scatter3d\"}], \"scattercarpet\": [{\"marker\": {\"colorbar\": {\"outlinewidth\": 0, \"ticks\": \"\"}}, \"type\": \"scattercarpet\"}], \"scattergeo\": [{\"marker\": {\"colorbar\": {\"outlinewidth\": 0, \"ticks\": \"\"}}, \"type\": \"scattergeo\"}], \"scattergl\": [{\"marker\": {\"colorbar\": {\"outlinewidth\": 0, \"ticks\": \"\"}}, \"type\": \"scattergl\"}], \"scattermapbox\": [{\"marker\": {\"colorbar\": {\"outlinewidth\": 0, \"ticks\": \"\"}}, \"type\": \"scattermapbox\"}], \"scatterpolar\": [{\"marker\": {\"colorbar\": {\"outlinewidth\": 0, \"ticks\": \"\"}}, \"type\": \"scatterpolar\"}], \"scatterpolargl\": [{\"marker\": {\"colorbar\": {\"outlinewidth\": 0, \"ticks\": \"\"}}, \"type\": \"scatterpolargl\"}], \"scatterternary\": [{\"marker\": {\"colorbar\": {\"outlinewidth\": 0, \"ticks\": \"\"}}, \"type\": \"scatterternary\"}], \"surface\": [{\"colorbar\": {\"outlinewidth\": 0, \"ticks\": \"\"}, \"colorscale\": [[0.0, \"#0d0887\"], [0.1111111111111111, \"#46039f\"], [0.2222222222222222, \"#7201a8\"], [0.3333333333333333, \"#9c179e\"], [0.4444444444444444, \"#bd3786\"], [0.5555555555555556, \"#d8576b\"], [0.6666666666666666, \"#ed7953\"], [0.7777777777777778, \"#fb9f3a\"], [0.8888888888888888, \"#fdca26\"], [1.0, \"#f0f921\"]], \"type\": \"surface\"}], \"table\": [{\"cells\": {\"fill\": {\"color\": \"#EBF0F8\"}, \"line\": {\"color\": \"white\"}}, \"header\": {\"fill\": {\"color\": \"#C8D4E3\"}, \"line\": {\"color\": \"white\"}}, \"type\": \"table\"}]}, \"layout\": {\"annotationdefaults\": {\"arrowcolor\": \"#2a3f5f\", \"arrowhead\": 0, \"arrowwidth\": 1}, \"coloraxis\": {\"colorbar\": {\"outlinewidth\": 0, \"ticks\": \"\"}}, \"colorscale\": {\"diverging\": [[0, \"#8e0152\"], [0.1, \"#c51b7d\"], [0.2, \"#de77ae\"], [0.3, \"#f1b6da\"], [0.4, \"#fde0ef\"], [0.5, \"#f7f7f7\"], [0.6, \"#e6f5d0\"], [0.7, \"#b8e186\"], [0.8, \"#7fbc41\"], [0.9, \"#4d9221\"], [1, \"#276419\"]], \"sequential\": [[0.0, \"#0d0887\"], [0.1111111111111111, \"#46039f\"], [0.2222222222222222, \"#7201a8\"], [0.3333333333333333, \"#9c179e\"], [0.4444444444444444, \"#bd3786\"], [0.5555555555555556, \"#d8576b\"], [0.6666666666666666, \"#ed7953\"], [0.7777777777777778, \"#fb9f3a\"], [0.8888888888888888, \"#fdca26\"], [1.0, \"#f0f921\"]], \"sequentialminus\": [[0.0, \"#0d0887\"], [0.1111111111111111, \"#46039f\"], [0.2222222222222222, \"#7201a8\"], [0.3333333333333333, \"#9c179e\"], [0.4444444444444444, \"#bd3786\"], [0.5555555555555556, \"#d8576b\"], [0.6666666666666666, \"#ed7953\"], [0.7777777777777778, \"#fb9f3a\"], [0.8888888888888888, \"#fdca26\"], [1.0, \"#f0f921\"]]}, \"colorway\": [\"#636efa\", \"#EF553B\", \"#00cc96\", \"#ab63fa\", \"#FFA15A\", \"#19d3f3\", \"#FF6692\", \"#B6E880\", \"#FF97FF\", \"#FECB52\"], \"font\": {\"color\": \"#2a3f5f\"}, \"geo\": {\"bgcolor\": \"white\", \"lakecolor\": \"white\", \"landcolor\": \"#E5ECF6\", \"showlakes\": true, \"showland\": true, \"subunitcolor\": \"white\"}, \"hoverlabel\": {\"align\": \"left\"}, \"hovermode\": \"closest\", \"mapbox\": {\"style\": \"light\"}, \"paper_bgcolor\": \"white\", \"plot_bgcolor\": \"#E5ECF6\", \"polar\": {\"angularaxis\": {\"gridcolor\": \"white\", \"linecolor\": \"white\", \"ticks\": \"\"}, \"bgcolor\": \"#E5ECF6\", \"radialaxis\": {\"gridcolor\": \"white\", \"linecolor\": \"white\", \"ticks\": \"\"}}, \"scene\": {\"xaxis\": {\"backgroundcolor\": \"#E5ECF6\", \"gridcolor\": \"white\", \"gridwidth\": 2, \"linecolor\": \"white\", \"showbackground\": true, \"ticks\": \"\", \"zerolinecolor\": \"white\"}, \"yaxis\": {\"backgroundcolor\": \"#E5ECF6\", \"gridcolor\": \"white\", \"gridwidth\": 2, \"linecolor\": \"white\", \"showbackground\": true, \"ticks\": \"\", \"zerolinecolor\": \"white\"}, \"zaxis\": {\"backgroundcolor\": \"#E5ECF6\", \"gridcolor\": \"white\", \"gridwidth\": 2, \"linecolor\": \"white\", \"showbackground\": true, \"ticks\": \"\", \"zerolinecolor\": \"white\"}}, \"shapedefaults\": {\"line\": {\"color\": \"#2a3f5f\"}}, \"ternary\": {\"aaxis\": {\"gridcolor\": \"white\", \"linecolor\": \"white\", \"ticks\": \"\"}, \"baxis\": {\"gridcolor\": \"white\", \"linecolor\": \"white\", \"ticks\": \"\"}, \"bgcolor\": \"#E5ECF6\", \"caxis\": {\"gridcolor\": \"white\", \"linecolor\": \"white\", \"ticks\": \"\"}}, \"title\": {\"x\": 0.05}, \"xaxis\": {\"automargin\": true, \"gridcolor\": \"white\", \"linecolor\": \"white\", \"ticks\": \"\", \"title\": {\"standoff\": 15}, \"zerolinecolor\": \"white\", \"zerolinewidth\": 2}, \"yaxis\": {\"automargin\": true, \"gridcolor\": \"white\", \"linecolor\": \"white\", \"ticks\": \"\", \"title\": {\"standoff\": 15}, \"zerolinecolor\": \"white\", \"zerolinewidth\": 2}}}, \"title\": {\"font\": {\"size\": 30}, \"text\": \"Virat Kohli total runs contribution\"}},\n",
              "                        {\"responsive\": true}\n",
              "                    ).then(function(){\n",
              "                            \n",
              "var gd = document.getElementById('26f19866-0a2b-4861-9495-8ce32fc54ff6');\n",
              "var x = new MutationObserver(function (mutations, observer) {{\n",
              "        var display = window.getComputedStyle(gd).display;\n",
              "        if (!display || display === 'none') {{\n",
              "            console.log([gd, 'removed!']);\n",
              "            Plotly.purge(gd);\n",
              "            observer.disconnect();\n",
              "        }}\n",
              "}});\n",
              "\n",
              "// Listen for the removal of the full notebook cells\n",
              "var notebookContainer = gd.closest('#notebook-container');\n",
              "if (notebookContainer) {{\n",
              "    x.observe(notebookContainer, {childList: true});\n",
              "}}\n",
              "\n",
              "// Listen for the clearing of the current output cell\n",
              "var outputEl = gd.closest('.output');\n",
              "if (outputEl) {{\n",
              "    x.observe(outputEl, {childList: true});\n",
              "}}\n",
              "\n",
              "                        })\n",
              "                };\n",
              "                \n",
              "            </script>\n",
              "        </div>\n",
              "</body>\n",
              "</html>"
            ]
          },
          "metadata": {}
        }
      ]
    },
    {
      "cell_type": "markdown",
      "metadata": {
        "papermill": {
          "duration": 0.162257,
          "end_time": "2021-06-04T22:21:50.646954",
          "exception": false,
          "start_time": "2021-06-04T22:21:50.484697",
          "status": "completed"
        },
        "tags": [],
        "id": "QBlRRQ50i33L"
      },
      "source": [
        "<div class=\"alert alert-block alert-info\"><p style='color:black;'> 📌\n",
        "    Interesting fact is that <b>Virat Kohli</b> has scored more runs by taking singles than by hitting 6\n",
        "</p>\n",
        "</div>"
      ]
    },
    {
      "cell_type": "markdown",
      "metadata": {
        "papermill": {
          "duration": 0.158729,
          "end_time": "2021-06-04T22:21:50.957920",
          "exception": false,
          "start_time": "2021-06-04T22:21:50.799191",
          "status": "completed"
        },
        "tags": [],
        "id": "lWoyU0vwi33L"
      },
      "source": [
        "<small><a href='#0'>Go to top</a></small>  "
      ]
    },
    {
      "cell_type": "markdown",
      "metadata": {
        "papermill": {
          "duration": 0.158233,
          "end_time": "2021-06-04T22:21:51.273651",
          "exception": false,
          "start_time": "2021-06-04T22:21:51.115418",
          "status": "completed"
        },
        "tags": [],
        "id": "4ylL56Jli33L"
      },
      "source": [
        "<a id=\"17\">\n",
        "<h1 style = \"font-family: Snell Roundhand;font-weight: 500;font-size: 30px; font-style: normal; background-color: #FFFB30; color :black;\">17) Innings wise comparision :</h1>\n",
        "\n"
      ]
    },
    {
      "cell_type": "code",
      "metadata": {
        "_kg_hide-input": true,
        "_kg_hide-output": true,
        "execution": {
          "iopub.execute_input": "2021-06-04T22:21:51.605424Z",
          "iopub.status.busy": "2021-06-04T22:21:51.604404Z",
          "iopub.status.idle": "2021-06-04T22:21:51.657643Z",
          "shell.execute_reply": "2021-06-04T22:21:51.657110Z",
          "shell.execute_reply.started": "2021-06-04T22:16:39.155505Z"
        },
        "papermill": {
          "duration": 0.225394,
          "end_time": "2021-06-04T22:21:51.657802",
          "exception": false,
          "start_time": "2021-06-04T22:21:51.432408",
          "status": "completed"
        },
        "tags": [],
        "colab": {
          "base_uri": "https://localhost:8080/",
          "height": 206
        },
        "id": "vN9SmzwDi33L",
        "outputId": "55675730-9455-41a8-d58c-91a68ca3f4ce"
      },
      "source": [
        "runs=deliveries_data.groupby(['id','inning','batting_team'])[['total_runs']].sum().reset_index()\n",
        "runs.drop('id',axis=1,inplace=True)\n",
        "runs.head()"
      ],
      "execution_count": 48,
      "outputs": [
        {
          "output_type": "execute_result",
          "data": {
            "text/html": [
              "<div>\n",
              "<style scoped>\n",
              "    .dataframe tbody tr th:only-of-type {\n",
              "        vertical-align: middle;\n",
              "    }\n",
              "\n",
              "    .dataframe tbody tr th {\n",
              "        vertical-align: top;\n",
              "    }\n",
              "\n",
              "    .dataframe thead th {\n",
              "        text-align: right;\n",
              "    }\n",
              "</style>\n",
              "<table border=\"1\" class=\"dataframe\">\n",
              "  <thead>\n",
              "    <tr style=\"text-align: right;\">\n",
              "      <th></th>\n",
              "      <th>inning</th>\n",
              "      <th>batting_team</th>\n",
              "      <th>total_runs</th>\n",
              "    </tr>\n",
              "  </thead>\n",
              "  <tbody>\n",
              "    <tr>\n",
              "      <th>0</th>\n",
              "      <td>1</td>\n",
              "      <td>Kolkata Knight Riders</td>\n",
              "      <td>222</td>\n",
              "    </tr>\n",
              "    <tr>\n",
              "      <th>1</th>\n",
              "      <td>2</td>\n",
              "      <td>Royal Challengers Bangalore</td>\n",
              "      <td>82</td>\n",
              "    </tr>\n",
              "    <tr>\n",
              "      <th>2</th>\n",
              "      <td>1</td>\n",
              "      <td>Chennai Super Kings</td>\n",
              "      <td>240</td>\n",
              "    </tr>\n",
              "    <tr>\n",
              "      <th>3</th>\n",
              "      <td>2</td>\n",
              "      <td>Kings XI Punjab</td>\n",
              "      <td>207</td>\n",
              "    </tr>\n",
              "    <tr>\n",
              "      <th>4</th>\n",
              "      <td>1</td>\n",
              "      <td>Rajasthan Royals</td>\n",
              "      <td>129</td>\n",
              "    </tr>\n",
              "  </tbody>\n",
              "</table>\n",
              "</div>"
            ],
            "text/plain": [
              "   inning                 batting_team  total_runs\n",
              "0       1        Kolkata Knight Riders         222\n",
              "1       2  Royal Challengers Bangalore          82\n",
              "2       1          Chennai Super Kings         240\n",
              "3       2              Kings XI Punjab         207\n",
              "4       1             Rajasthan Royals         129"
            ]
          },
          "metadata": {},
          "execution_count": 48
        }
      ]
    },
    {
      "cell_type": "code",
      "metadata": {
        "_kg_hide-input": true,
        "execution": {
          "iopub.execute_input": "2021-06-04T22:21:51.980033Z",
          "iopub.status.busy": "2021-06-04T22:21:51.978869Z",
          "iopub.status.idle": "2021-06-04T22:21:51.984324Z",
          "shell.execute_reply": "2021-06-04T22:21:51.983658Z",
          "shell.execute_reply.started": "2021-06-04T22:16:39.201684Z"
        },
        "papermill": {
          "duration": 0.168548,
          "end_time": "2021-06-04T22:21:51.984486",
          "exception": false,
          "start_time": "2021-06-04T22:21:51.815938",
          "status": "completed"
        },
        "tags": [],
        "id": "9LNESYWHi33M"
      },
      "source": [
        "inning1=runs[runs['inning']==1]\n",
        "inning2=runs[runs['inning']==2]"
      ],
      "execution_count": 49,
      "outputs": []
    },
    {
      "cell_type": "markdown",
      "metadata": {
        "papermill": {
          "duration": 0.157769,
          "end_time": "2021-06-04T22:21:52.298733",
          "exception": false,
          "start_time": "2021-06-04T22:21:52.140964",
          "status": "completed"
        },
        "tags": [],
        "id": "aaJJzhBbi33M"
      },
      "source": [
        "<p style = \"font-size:20px; font-weight : normal; color : #0331A8;\">Batting first :</p>\n",
        "\n",
        "\n",
        "\n"
      ]
    },
    {
      "cell_type": "code",
      "metadata": {
        "_kg_hide-input": true,
        "execution": {
          "iopub.execute_input": "2021-06-04T22:21:52.624440Z",
          "iopub.status.busy": "2021-06-04T22:21:52.623676Z",
          "iopub.status.idle": "2021-06-04T22:21:52.805246Z",
          "shell.execute_reply": "2021-06-04T22:21:52.804619Z",
          "shell.execute_reply.started": "2021-06-04T22:16:39.209653Z"
        },
        "papermill": {
          "duration": 0.351587,
          "end_time": "2021-06-04T22:21:52.805405",
          "exception": false,
          "start_time": "2021-06-04T22:21:52.453818",
          "status": "completed"
        },
        "tags": [],
        "colab": {
          "base_uri": "https://localhost:8080/",
          "height": 542
        },
        "id": "zpHuYjRQi33M",
        "outputId": "7a859552-d600-477a-ef70-0808a36eca4d"
      },
      "source": [
        "fig = px.box(y='total_runs',x='batting_team',data_frame=inning1,color='batting_team')\n",
        "\n",
        "fig.update_layout(title=\"Batting First\",\n",
        "                  titlefont={'size': 26},template='simple_white'\n",
        "                  )\n",
        "fig.show()"
      ],
      "execution_count": 50,
      "outputs": [
        {
          "output_type": "display_data",
          "data": {
            "text/html": [
              "<html>\n",
              "<head><meta charset=\"utf-8\" /></head>\n",
              "<body>\n",
              "    <div>\n",
              "            <script src=\"https://cdnjs.cloudflare.com/ajax/libs/mathjax/2.7.5/MathJax.js?config=TeX-AMS-MML_SVG\"></script><script type=\"text/javascript\">if (window.MathJax) {MathJax.Hub.Config({SVG: {font: \"STIX-Web\"}});}</script>\n",
              "                <script type=\"text/javascript\">window.PlotlyConfig = {MathJaxConfig: 'local'};</script>\n",
              "        <script src=\"https://cdn.plot.ly/plotly-latest.min.js\"></script>    \n",
              "            <div id=\"00a736fe-b8f2-497e-8bb7-e4021fb59d64\" class=\"plotly-graph-div\" style=\"height:525px; width:100%;\"></div>\n",
              "            <script type=\"text/javascript\">\n",
              "                \n",
              "                    window.PLOTLYENV=window.PLOTLYENV || {};\n",
              "                    \n",
              "                if (document.getElementById(\"00a736fe-b8f2-497e-8bb7-e4021fb59d64\")) {\n",
              "                    Plotly.newPlot(\n",
              "                        '00a736fe-b8f2-497e-8bb7-e4021fb59d64',\n",
              "                        [{\"alignmentgroup\": \"True\", \"hoverlabel\": {\"namelength\": 0}, \"hovertemplate\": \"batting_team=%{x}<br>total_runs=%{y}\", \"legendgroup\": \"batting_team=Kolkata Knight Riders\", \"marker\": {\"color\": \"#636efa\"}, \"name\": \"batting_team=Kolkata Knight Riders\", \"notched\": false, \"offsetgroup\": \"batting_team=Kolkata Knight Riders\", \"orientation\": \"v\", \"showlegend\": true, \"type\": \"box\", \"x\": [\"Kolkata Knight Riders\", \"Kolkata Knight Riders\", \"Kolkata Knight Riders\", \"Kolkata Knight Riders\", \"Kolkata Knight Riders\", \"Kolkata Knight Riders\", \"Kolkata Knight Riders\", \"Kolkata Knight Riders\", \"Kolkata Knight Riders\", \"Kolkata Knight Riders\", \"Kolkata Knight Riders\", \"Kolkata Knight Riders\", \"Kolkata Knight Riders\", \"Kolkata Knight Riders\", \"Kolkata Knight Riders\", \"Kolkata Knight Riders\", \"Kolkata Knight Riders\", \"Kolkata Knight Riders\", \"Kolkata Knight Riders\", \"Kolkata Knight Riders\", \"Kolkata Knight Riders\", \"Kolkata Knight Riders\", \"Kolkata Knight Riders\", \"Kolkata Knight Riders\", \"Kolkata Knight Riders\", \"Kolkata Knight Riders\", \"Kolkata Knight Riders\", \"Kolkata Knight Riders\", \"Kolkata Knight Riders\", \"Kolkata Knight Riders\", \"Kolkata Knight Riders\", \"Kolkata Knight Riders\", \"Kolkata Knight Riders\", \"Kolkata Knight Riders\", \"Kolkata Knight Riders\", \"Kolkata Knight Riders\", \"Kolkata Knight Riders\", \"Kolkata Knight Riders\", \"Kolkata Knight Riders\", \"Kolkata Knight Riders\", \"Kolkata Knight Riders\", \"Kolkata Knight Riders\", \"Kolkata Knight Riders\", \"Kolkata Knight Riders\", \"Kolkata Knight Riders\", \"Kolkata Knight Riders\", \"Kolkata Knight Riders\", \"Kolkata Knight Riders\", \"Kolkata Knight Riders\", \"Kolkata Knight Riders\", \"Kolkata Knight Riders\", \"Kolkata Knight Riders\", \"Kolkata Knight Riders\", \"Kolkata Knight Riders\", \"Kolkata Knight Riders\", \"Kolkata Knight Riders\", \"Kolkata Knight Riders\", \"Kolkata Knight Riders\", \"Kolkata Knight Riders\", \"Kolkata Knight Riders\", \"Kolkata Knight Riders\", \"Kolkata Knight Riders\", \"Kolkata Knight Riders\", \"Kolkata Knight Riders\", \"Kolkata Knight Riders\", \"Kolkata Knight Riders\", \"Kolkata Knight Riders\", \"Kolkata Knight Riders\", \"Kolkata Knight Riders\", \"Kolkata Knight Riders\", \"Kolkata Knight Riders\", \"Kolkata Knight Riders\", \"Kolkata Knight Riders\", \"Kolkata Knight Riders\", \"Kolkata Knight Riders\", \"Kolkata Knight Riders\", \"Kolkata Knight Riders\", \"Kolkata Knight Riders\", \"Kolkata Knight Riders\", \"Kolkata Knight Riders\", \"Kolkata Knight Riders\", \"Kolkata Knight Riders\", \"Kolkata Knight Riders\", \"Kolkata Knight Riders\", \"Kolkata Knight Riders\", \"Kolkata Knight Riders\", \"Kolkata Knight Riders\", \"Kolkata Knight Riders\", \"Kolkata Knight Riders\", \"Kolkata Knight Riders\", \"Kolkata Knight Riders\", \"Kolkata Knight Riders\", \"Kolkata Knight Riders\"], \"x0\": \" \", \"xaxis\": \"x\", \"y\": [222, 147, 137, 129, 204, 133, 67, 149, 147, 101, 139, 153, 154, 123, 173, 160, 161, 155, 183, 181, 200, 181, 160, 139, 163, 171, 148, 169, 89, 175, 147, 97, 165, 190, 150, 158, 140, 136, 162, 154, 180, 119, 159, 136, 152, 130, 163, 166, 150, 195, 163, 177, 171, 111, 167, 187, 174, 164, 158, 183, 124, 171, 178, 172, 187, 131, 155, 107, 202, 138, 200, 191, 245, 169, 218, 185, 108, 178, 161, 159, 175, 232, 133, 84, 194, 167, 174, 163, 149, 164, 148, 191, 172], \"y0\": \" \", \"yaxis\": \"y\"}, {\"alignmentgroup\": \"True\", \"hoverlabel\": {\"namelength\": 0}, \"hovertemplate\": \"batting_team=%{x}<br>total_runs=%{y}\", \"legendgroup\": \"batting_team=Chennai Super Kings\", \"marker\": {\"color\": \"#EF553B\"}, \"name\": \"batting_team=Chennai Super Kings\", \"notched\": false, \"offsetgroup\": \"batting_team=Chennai Super Kings\", \"orientation\": \"v\", \"showlegend\": true, \"type\": \"box\", \"x\": [\"Chennai Super Kings\", \"Chennai Super Kings\", \"Chennai Super Kings\", \"Chennai Super Kings\", \"Chennai Super Kings\", \"Chennai Super Kings\", \"Chennai Super Kings\", \"Chennai Super Kings\", \"Chennai Super Kings\", \"Chennai Super Kings\", \"Chennai Super Kings\", \"Chennai Super Kings\", \"Chennai Super Kings\", \"Chennai Super Kings\", \"Chennai Super Kings\", \"Chennai Super Kings\", \"Chennai Super Kings\", \"Chennai Super Kings\", \"Chennai Super Kings\", \"Chennai Super Kings\", \"Chennai Super Kings\", \"Chennai Super Kings\", \"Chennai Super Kings\", \"Chennai Super Kings\", \"Chennai Super Kings\", \"Chennai Super Kings\", \"Chennai Super Kings\", \"Chennai Super Kings\", \"Chennai Super Kings\", \"Chennai Super Kings\", \"Chennai Super Kings\", \"Chennai Super Kings\", \"Chennai Super Kings\", \"Chennai Super Kings\", \"Chennai Super Kings\", \"Chennai Super Kings\", \"Chennai Super Kings\", \"Chennai Super Kings\", \"Chennai Super Kings\", \"Chennai Super Kings\", \"Chennai Super Kings\", \"Chennai Super Kings\", \"Chennai Super Kings\", \"Chennai Super Kings\", \"Chennai Super Kings\", \"Chennai Super Kings\", \"Chennai Super Kings\", \"Chennai Super Kings\", \"Chennai Super Kings\", \"Chennai Super Kings\", \"Chennai Super Kings\", \"Chennai Super Kings\", \"Chennai Super Kings\", \"Chennai Super Kings\", \"Chennai Super Kings\", \"Chennai Super Kings\", \"Chennai Super Kings\", \"Chennai Super Kings\", \"Chennai Super Kings\", \"Chennai Super Kings\", \"Chennai Super Kings\", \"Chennai Super Kings\", \"Chennai Super Kings\", \"Chennai Super Kings\", \"Chennai Super Kings\", \"Chennai Super Kings\", \"Chennai Super Kings\", \"Chennai Super Kings\", \"Chennai Super Kings\", \"Chennai Super Kings\", \"Chennai Super Kings\", \"Chennai Super Kings\", \"Chennai Super Kings\", \"Chennai Super Kings\", \"Chennai Super Kings\", \"Chennai Super Kings\", \"Chennai Super Kings\", \"Chennai Super Kings\", \"Chennai Super Kings\", \"Chennai Super Kings\", \"Chennai Super Kings\", \"Chennai Super Kings\", \"Chennai Super Kings\", \"Chennai Super Kings\", \"Chennai Super Kings\", \"Chennai Super Kings\", \"Chennai Super Kings\", \"Chennai Super Kings\", \"Chennai Super Kings\", \"Chennai Super Kings\", \"Chennai Super Kings\", \"Chennai Super Kings\", \"Chennai Super Kings\"], \"x0\": \" \", \"xaxis\": \"x\", \"y\": [240, 208, 178, 169, 109, 144, 181, 156, 163, 179, 165, 164, 163, 178, 185, 129, 188, 116, 146, 164, 180, 246, 165, 138, 112, 142, 168, 153, 188, 183, 131, 142, 165, 114, 196, 176, 152, 128, 205, 112, 193, 110, 155, 164, 139, 160, 173, 120, 187, 222, 190, 169, 200, 164, 186, 223, 141, 168, 192, 205, 177, 140, 148, 138, 154, 185, 150, 209, 165, 156, 181, 192, 134, 148, 158, 157, 119, 204, 182, 169, 211, 177, 176, 175, 160, 132, 179, 170, 131, 179, 114, 167, 125], \"y0\": \" \", \"yaxis\": \"y\"}, {\"alignmentgroup\": \"True\", \"hoverlabel\": {\"namelength\": 0}, \"hovertemplate\": \"batting_team=%{x}<br>total_runs=%{y}\", \"legendgroup\": \"batting_team=Rajasthan Royals\", \"marker\": {\"color\": \"#00cc96\"}, \"name\": \"batting_team=Rajasthan Royals\", \"notched\": false, \"offsetgroup\": \"batting_team=Rajasthan Royals\", \"orientation\": \"v\", \"showlegend\": true, \"type\": \"box\", \"x\": [\"Rajasthan Royals\", \"Rajasthan Royals\", \"Rajasthan Royals\", \"Rajasthan Royals\", \"Rajasthan Royals\", \"Rajasthan Royals\", \"Rajasthan Royals\", \"Rajasthan Royals\", \"Rajasthan Royals\", \"Rajasthan Royals\", \"Rajasthan Royals\", \"Rajasthan Royals\", \"Rajasthan Royals\", \"Rajasthan Royals\", \"Rajasthan Royals\", \"Rajasthan Royals\", \"Rajasthan Royals\", \"Rajasthan Royals\", \"Rajasthan Royals\", \"Rajasthan Royals\", \"Rajasthan Royals\", \"Rajasthan Royals\", \"Rajasthan Royals\", \"Rajasthan Royals\", \"Rajasthan Royals\", \"Rajasthan Royals\", \"Rajasthan Royals\", \"Rajasthan Royals\", \"Rajasthan Royals\", \"Rajasthan Royals\", \"Rajasthan Royals\", \"Rajasthan Royals\", \"Rajasthan Royals\", \"Rajasthan Royals\", \"Rajasthan Royals\", \"Rajasthan Royals\", \"Rajasthan Royals\", \"Rajasthan Royals\", \"Rajasthan Royals\", \"Rajasthan Royals\", \"Rajasthan Royals\", \"Rajasthan Royals\", \"Rajasthan Royals\", \"Rajasthan Royals\", \"Rajasthan Royals\", \"Rajasthan Royals\", \"Rajasthan Royals\", \"Rajasthan Royals\", \"Rajasthan Royals\", \"Rajasthan Royals\", \"Rajasthan Royals\", \"Rajasthan Royals\", \"Rajasthan Royals\", \"Rajasthan Royals\", \"Rajasthan Royals\", \"Rajasthan Royals\", \"Rajasthan Royals\", \"Rajasthan Royals\", \"Rajasthan Royals\", \"Rajasthan Royals\", \"Rajasthan Royals\", \"Rajasthan Royals\", \"Rajasthan Royals\", \"Rajasthan Royals\", \"Rajasthan Royals\", \"Rajasthan Royals\", \"Rajasthan Royals\", \"Rajasthan Royals\", \"Rajasthan Royals\", \"Rajasthan Royals\", \"Rajasthan Royals\"], \"x0\": \" \", \"xaxis\": \"x\", \"y\": [129, 196, 103, 197, 211, 192, 150, 211, 140, 145, 101, 141, 92, 168, 183, 177, 159, 130, 132, 159, 81, 147, 146, 97, 191, 164, 131, 195, 146, 141, 177, 126, 170, 126, 162, 165, 144, 145, 179, 117, 185, 132, 165, 191, 152, 170, 148, 201, 189, 162, 191, 130, 189, 199, 125, 153, 217, 160, 152, 158, 142, 164, 198, 139, 151, 191, 115, 216, 154, 154, 177], \"y0\": \" \", \"yaxis\": \"y\"}, {\"alignmentgroup\": \"True\", \"hoverlabel\": {\"namelength\": 0}, \"hovertemplate\": \"batting_team=%{x}<br>total_runs=%{y}\", \"legendgroup\": \"batting_team=Mumbai Indians\", \"marker\": {\"color\": \"#ab63fa\"}, \"name\": \"batting_team=Mumbai Indians\", \"notched\": false, \"offsetgroup\": \"batting_team=Mumbai Indians\", \"orientation\": \"v\", \"showlegend\": true, \"type\": \"box\", \"x\": [\"Mumbai Indians\", \"Mumbai Indians\", \"Mumbai Indians\", \"Mumbai Indians\", \"Mumbai Indians\", \"Mumbai Indians\", \"Mumbai Indians\", \"Mumbai Indians\", \"Mumbai Indians\", \"Mumbai Indians\", \"Mumbai Indians\", \"Mumbai Indians\", \"Mumbai Indians\", \"Mumbai Indians\", \"Mumbai Indians\", \"Mumbai Indians\", \"Mumbai Indians\", \"Mumbai Indians\", \"Mumbai Indians\", \"Mumbai Indians\", \"Mumbai Indians\", \"Mumbai Indians\", \"Mumbai Indians\", \"Mumbai Indians\", \"Mumbai Indians\", \"Mumbai Indians\", \"Mumbai Indians\", \"Mumbai Indians\", \"Mumbai Indians\", \"Mumbai Indians\", \"Mumbai Indians\", \"Mumbai Indians\", \"Mumbai Indians\", \"Mumbai Indians\", \"Mumbai Indians\", \"Mumbai Indians\", \"Mumbai Indians\", \"Mumbai Indians\", \"Mumbai Indians\", \"Mumbai Indians\", \"Mumbai Indians\", \"Mumbai Indians\", \"Mumbai Indians\", \"Mumbai Indians\", \"Mumbai Indians\", \"Mumbai Indians\", \"Mumbai Indians\", \"Mumbai Indians\", \"Mumbai Indians\", \"Mumbai Indians\", \"Mumbai Indians\", \"Mumbai Indians\", \"Mumbai Indians\", \"Mumbai Indians\", \"Mumbai Indians\", \"Mumbai Indians\", \"Mumbai Indians\", \"Mumbai Indians\", \"Mumbai Indians\", \"Mumbai Indians\", \"Mumbai Indians\", \"Mumbai Indians\", \"Mumbai Indians\", \"Mumbai Indians\", \"Mumbai Indians\", \"Mumbai Indians\", \"Mumbai Indians\", \"Mumbai Indians\", \"Mumbai Indians\", \"Mumbai Indians\", \"Mumbai Indians\", \"Mumbai Indians\", \"Mumbai Indians\", \"Mumbai Indians\", \"Mumbai Indians\", \"Mumbai Indians\", \"Mumbai Indians\", \"Mumbai Indians\", \"Mumbai Indians\", \"Mumbai Indians\", \"Mumbai Indians\", \"Mumbai Indians\", \"Mumbai Indians\", \"Mumbai Indians\", \"Mumbai Indians\", \"Mumbai Indians\", \"Mumbai Indians\", \"Mumbai Indians\", \"Mumbai Indians\", \"Mumbai Indians\", \"Mumbai Indians\", \"Mumbai Indians\", \"Mumbai Indians\", \"Mumbai Indians\", \"Mumbai Indians\", \"Mumbai Indians\", \"Mumbai Indians\", \"Mumbai Indians\", \"Mumbai Indians\", \"Mumbai Indians\", \"Mumbai Indians\", \"Mumbai Indians\", \"Mumbai Indians\", \"Mumbai Indians\", \"Mumbai Indians\", \"Mumbai Indians\", \"Mumbai Indians\", \"Mumbai Indians\", \"Mumbai Indians\", \"Mumbai Indians\"], \"x0\": \" \", \"xaxis\": \"x\", \"y\": [165, 154, 162, 178, 176, 145, 165, 187, 148, 149, 116, 157, 147, 165, 212, 218, 151, 172, 178, 154, 174, 183, 191, 133, 184, 182, 164, 172, 94, 159, 160, 178, 133, 197, 92, 163, 120, 141, 182, 148, 209, 183, 161, 194, 174, 129, 139, 170, 166, 148, 115, 141, 125, 187, 157, 141, 178, 173, 173, 168, 164, 183, 209, 157, 187, 172, 171, 187, 202, 121, 143, 142, 189, 124, 206, 172, 184, 142, 212, 138, 173, 129, 165, 147, 194, 213, 167, 181, 210, 168, 186, 187, 176, 170, 136, 187, 168, 161, 155, 162, 149, 162, 149, 191, 195, 193, 176, 208, 195, 200], \"y0\": \" \", \"yaxis\": \"y\"}, {\"alignmentgroup\": \"True\", \"hoverlabel\": {\"namelength\": 0}, \"hovertemplate\": \"batting_team=%{x}<br>total_runs=%{y}\", \"legendgroup\": \"batting_team=Deccan Chargers\", \"marker\": {\"color\": \"#FFA15A\"}, \"name\": \"batting_team=Deccan Chargers\", \"notched\": false, \"offsetgroup\": \"batting_team=Deccan Chargers\", \"orientation\": \"v\", \"showlegend\": true, \"type\": \"box\", \"x\": [\"Deccan Chargers\", \"Deccan Chargers\", \"Deccan Chargers\", \"Deccan Chargers\", \"Deccan Chargers\", \"Deccan Chargers\", \"Deccan Chargers\", \"Deccan Chargers\", \"Deccan Chargers\", \"Deccan Chargers\", \"Deccan Chargers\", \"Deccan Chargers\", \"Deccan Chargers\", \"Deccan Chargers\", \"Deccan Chargers\", \"Deccan Chargers\", \"Deccan Chargers\", \"Deccan Chargers\", \"Deccan Chargers\", \"Deccan Chargers\", \"Deccan Chargers\", \"Deccan Chargers\", \"Deccan Chargers\", \"Deccan Chargers\", \"Deccan Chargers\", \"Deccan Chargers\", \"Deccan Chargers\", \"Deccan Chargers\", \"Deccan Chargers\", \"Deccan Chargers\", \"Deccan Chargers\", \"Deccan Chargers\", \"Deccan Chargers\", \"Deccan Chargers\", \"Deccan Chargers\", \"Deccan Chargers\", \"Deccan Chargers\", \"Deccan Chargers\", \"Deccan Chargers\", \"Deccan Chargers\", \"Deccan Chargers\", \"Deccan Chargers\", \"Deccan Chargers\"], \"x0\": \" \", \"xaxis\": \"x\", \"y\": [110, 142, 214, 164, 165, 140, 175, 147, 184, 168, 148, 141, 145, 168, 166, 143, 190, 170, 171, 148, 151, 145, 82, 137, 175, 165, 168, 129, 175, 136, 135, 198, 138, 157, 196, 187, 126, 177, 100, 186, 181, 190, 132], \"y0\": \" \", \"yaxis\": \"y\"}, {\"alignmentgroup\": \"True\", \"hoverlabel\": {\"namelength\": 0}, \"hovertemplate\": \"batting_team=%{x}<br>total_runs=%{y}\", \"legendgroup\": \"batting_team=Kings XI Punjab\", \"marker\": {\"color\": \"#19d3f3\"}, \"name\": \"batting_team=Kings XI Punjab\", \"notched\": false, \"offsetgroup\": \"batting_team=Kings XI Punjab\", \"orientation\": \"v\", \"showlegend\": true, \"type\": \"box\", \"x\": [\"Kings XI Punjab\", \"Kings XI Punjab\", \"Kings XI Punjab\", \"Kings XI Punjab\", \"Kings XI Punjab\", \"Kings XI Punjab\", \"Kings XI Punjab\", \"Kings XI Punjab\", \"Kings XI Punjab\", \"Kings XI Punjab\", \"Kings XI Punjab\", \"Kings XI Punjab\", \"Kings XI Punjab\", \"Kings XI Punjab\", \"Kings XI Punjab\", \"Kings XI Punjab\", \"Kings XI Punjab\", \"Kings XI Punjab\", \"Kings XI Punjab\", \"Kings XI Punjab\", \"Kings XI Punjab\", \"Kings XI Punjab\", \"Kings XI Punjab\", \"Kings XI Punjab\", \"Kings XI Punjab\", \"Kings XI Punjab\", \"Kings XI Punjab\", \"Kings XI Punjab\", \"Kings XI Punjab\", \"Kings XI Punjab\", \"Kings XI Punjab\", \"Kings XI Punjab\", \"Kings XI Punjab\", \"Kings XI Punjab\", \"Kings XI Punjab\", \"Kings XI Punjab\", \"Kings XI Punjab\", \"Kings XI Punjab\", \"Kings XI Punjab\", \"Kings XI Punjab\", \"Kings XI Punjab\", \"Kings XI Punjab\", \"Kings XI Punjab\", \"Kings XI Punjab\", \"Kings XI Punjab\", \"Kings XI Punjab\", \"Kings XI Punjab\", \"Kings XI Punjab\", \"Kings XI Punjab\", \"Kings XI Punjab\", \"Kings XI Punjab\", \"Kings XI Punjab\", \"Kings XI Punjab\", \"Kings XI Punjab\", \"Kings XI Punjab\", \"Kings XI Punjab\", \"Kings XI Punjab\", \"Kings XI Punjab\", \"Kings XI Punjab\", \"Kings XI Punjab\", \"Kings XI Punjab\", \"Kings XI Punjab\", \"Kings XI Punjab\", \"Kings XI Punjab\", \"Kings XI Punjab\", \"Kings XI Punjab\", \"Kings XI Punjab\", \"Kings XI Punjab\", \"Kings XI Punjab\", \"Kings XI Punjab\", \"Kings XI Punjab\", \"Kings XI Punjab\", \"Kings XI Punjab\", \"Kings XI Punjab\", \"Kings XI Punjab\", \"Kings XI Punjab\", \"Kings XI Punjab\", \"Kings XI Punjab\", \"Kings XI Punjab\", \"Kings XI Punjab\", \"Kings XI Punjab\", \"Kings XI Punjab\", \"Kings XI Punjab\", \"Kings XI Punjab\", \"Kings XI Punjab\", \"Kings XI Punjab\", \"Kings XI Punjab\", \"Kings XI Punjab\", \"Kings XI Punjab\", \"Kings XI Punjab\", \"Kings XI Punjab\", \"Kings XI Punjab\", \"Kings XI Punjab\", \"Kings XI Punjab\", \"Kings XI Punjab\", \"Kings XI Punjab\", \"Kings XI Punjab\"], \"x0\": \" \", \"xaxis\": \"x\", \"y\": [166, 182, 178, 221, 189, 174, 112, 104, 158, 139, 119, 119, 134, 142, 203, 136, 163, 181, 153, 174, 192, 112, 195, 119, 119, 163, 170, 232, 134, 124, 163, 168, 156, 170, 136, 141, 138, 124, 157, 123, 171, 149, 145, 183, 193, 132, 168, 231, 198, 149, 156, 179, 226, 199, 177, 165, 155, 118, 183, 106, 130, 161, 111, 138, 143, 154, 181, 179, 172, 170, 198, 188, 138, 189, 167, 230, 73, 155, 197, 193, 143, 174, 88, 153, 184, 166, 197, 173, 182, 163, 183, 126, 153, 206, 178, 223, 185], \"y0\": \" \", \"yaxis\": \"y\"}, {\"alignmentgroup\": \"True\", \"hoverlabel\": {\"namelength\": 0}, \"hovertemplate\": \"batting_team=%{x}<br>total_runs=%{y}\", \"legendgroup\": \"batting_team=Royal Challengers Bangalore\", \"marker\": {\"color\": \"#FF6692\"}, \"name\": \"batting_team=Royal Challengers Bangalore\", \"notched\": false, \"offsetgroup\": \"batting_team=Royal Challengers Bangalore\", \"orientation\": \"v\", \"showlegend\": true, \"type\": \"box\", \"x\": [\"Royal Challengers Bangalore\", \"Royal Challengers Bangalore\", \"Royal Challengers Bangalore\", \"Royal Challengers Bangalore\", \"Royal Challengers Bangalore\", \"Royal Challengers Bangalore\", \"Royal Challengers Bangalore\", \"Royal Challengers Bangalore\", \"Royal Challengers Bangalore\", \"Royal Challengers Bangalore\", \"Royal Challengers Bangalore\", \"Royal Challengers Bangalore\", \"Royal Challengers Bangalore\", \"Royal Challengers Bangalore\", \"Royal Challengers Bangalore\", \"Royal Challengers Bangalore\", \"Royal Challengers Bangalore\", \"Royal Challengers Bangalore\", \"Royal Challengers Bangalore\", \"Royal Challengers Bangalore\", \"Royal Challengers Bangalore\", \"Royal Challengers Bangalore\", \"Royal Challengers Bangalore\", \"Royal Challengers Bangalore\", \"Royal Challengers Bangalore\", \"Royal Challengers Bangalore\", \"Royal Challengers Bangalore\", \"Royal Challengers Bangalore\", \"Royal Challengers Bangalore\", \"Royal Challengers Bangalore\", \"Royal Challengers Bangalore\", \"Royal Challengers Bangalore\", \"Royal Challengers Bangalore\", \"Royal Challengers Bangalore\", \"Royal Challengers Bangalore\", \"Royal Challengers Bangalore\", \"Royal Challengers Bangalore\", \"Royal Challengers Bangalore\", \"Royal Challengers Bangalore\", \"Royal Challengers Bangalore\", \"Royal Challengers Bangalore\", \"Royal Challengers Bangalore\", \"Royal Challengers Bangalore\", \"Royal Challengers Bangalore\", \"Royal Challengers Bangalore\", \"Royal Challengers Bangalore\", \"Royal Challengers Bangalore\", \"Royal Challengers Bangalore\", \"Royal Challengers Bangalore\", \"Royal Challengers Bangalore\", \"Royal Challengers Bangalore\", \"Royal Challengers Bangalore\", \"Royal Challengers Bangalore\", \"Royal Challengers Bangalore\", \"Royal Challengers Bangalore\", \"Royal Challengers Bangalore\", \"Royal Challengers Bangalore\", \"Royal Challengers Bangalore\", \"Royal Challengers Bangalore\", \"Royal Challengers Bangalore\", \"Royal Challengers Bangalore\", \"Royal Challengers Bangalore\", \"Royal Challengers Bangalore\", \"Royal Challengers Bangalore\", \"Royal Challengers Bangalore\", \"Royal Challengers Bangalore\", \"Royal Challengers Bangalore\", \"Royal Challengers Bangalore\", \"Royal Challengers Bangalore\", \"Royal Challengers Bangalore\", \"Royal Challengers Bangalore\", \"Royal Challengers Bangalore\", \"Royal Challengers Bangalore\", \"Royal Challengers Bangalore\", \"Royal Challengers Bangalore\", \"Royal Challengers Bangalore\", \"Royal Challengers Bangalore\", \"Royal Challengers Bangalore\", \"Royal Challengers Bangalore\", \"Royal Challengers Bangalore\", \"Royal Challengers Bangalore\", \"Royal Challengers Bangalore\", \"Royal Challengers Bangalore\", \"Royal Challengers Bangalore\", \"Royal Challengers Bangalore\", \"Royal Challengers Bangalore\", \"Royal Challengers Bangalore\", \"Royal Challengers Bangalore\", \"Royal Challengers Bangalore\", \"Royal Challengers Bangalore\", \"Royal Challengers Bangalore\", \"Royal Challengers Bangalore\", \"Royal Challengers Bangalore\", \"Royal Challengers Bangalore\", \"Royal Challengers Bangalore\"], \"x0\": \" \", \"xaxis\": \"x\", \"y\": [135, 126, 122, 143, 154, 126, 156, 133, 168, 149, 145, 105, 170, 135, 171, 161, 184, 140, 181, 205, 175, 185, 157, 205, 189, 158, 173, 171, 215, 156, 130, 165, 263, 171, 187, 174, 183, 115, 190, 106, 70, 124, 190, 186, 160, 154, 166, 200, 226, 235, 180, 139, 227, 191, 170, 185, 180, 185, 175, 151, 248, 211, 157, 148, 142, 213, 134, 162, 158, 161, 176, 205, 175, 167, 127, 218, 70, 158, 205, 149, 171, 213, 161, 202, 62, 164, 120, 152, 169, 171, 163, 194, 145, 201, 131], \"y0\": \" \", \"yaxis\": \"y\"}, {\"alignmentgroup\": \"True\", \"hoverlabel\": {\"namelength\": 0}, \"hovertemplate\": \"batting_team=%{x}<br>total_runs=%{y}\", \"legendgroup\": \"batting_team=Delhi Daredevils\", \"marker\": {\"color\": \"#B6E880\"}, \"name\": \"batting_team=Delhi Daredevils\", \"notched\": false, \"offsetgroup\": \"batting_team=Delhi Daredevils\", \"orientation\": \"v\", \"showlegend\": true, \"type\": \"box\", \"x\": [\"Delhi Daredevils\", \"Delhi Daredevils\", \"Delhi Daredevils\", \"Delhi Daredevils\", \"Delhi Daredevils\", \"Delhi Daredevils\", \"Delhi Daredevils\", \"Delhi Daredevils\", \"Delhi Daredevils\", \"Delhi Daredevils\", \"Delhi Daredevils\", \"Delhi Daredevils\", \"Delhi Daredevils\", \"Delhi Daredevils\", \"Delhi Daredevils\", \"Delhi Daredevils\", \"Delhi Daredevils\", \"Delhi Daredevils\", \"Delhi Daredevils\", \"Delhi Daredevils\", \"Delhi Daredevils\", \"Delhi Daredevils\", \"Delhi Daredevils\", \"Delhi Daredevils\", \"Delhi Daredevils\", \"Delhi Daredevils\", \"Delhi Daredevils\", \"Delhi Daredevils\", \"Delhi Daredevils\", \"Delhi Daredevils\", \"Delhi Daredevils\", \"Delhi Daredevils\", \"Delhi Daredevils\", \"Delhi Daredevils\", \"Delhi Daredevils\", \"Delhi Daredevils\", \"Delhi Daredevils\", \"Delhi Daredevils\", \"Delhi Daredevils\", \"Delhi Daredevils\", \"Delhi Daredevils\", \"Delhi Daredevils\", \"Delhi Daredevils\", \"Delhi Daredevils\", \"Delhi Daredevils\", \"Delhi Daredevils\", \"Delhi Daredevils\", \"Delhi Daredevils\", \"Delhi Daredevils\", \"Delhi Daredevils\", \"Delhi Daredevils\", \"Delhi Daredevils\", \"Delhi Daredevils\", \"Delhi Daredevils\", \"Delhi Daredevils\", \"Delhi Daredevils\", \"Delhi Daredevils\", \"Delhi Daredevils\", \"Delhi Daredevils\", \"Delhi Daredevils\", \"Delhi Daredevils\", \"Delhi Daredevils\", \"Delhi Daredevils\", \"Delhi Daredevils\", \"Delhi Daredevils\", \"Delhi Daredevils\", \"Delhi Daredevils\", \"Delhi Daredevils\", \"Delhi Daredevils\", \"Delhi Daredevils\", \"Delhi Daredevils\", \"Delhi Daredevils\"], \"x0\": \" \", \"xaxis\": \"x\", \"y\": [158, 191, 187, 156, 194, 118, 189, 143, 173, 120, 150, 134, 153, 185, 183, 177, 188, 184, 111, 95, 151, 231, 160, 157, 140, 56, 207, 152, 153, 114, 128, 114, 152, 164, 80, 154, 120, 145, 152, 178, 160, 143, 164, 115, 184, 167, 146, 190, 95, 152, 187, 98, 164, 186, 162, 121, 138, 205, 188, 168, 160, 67, 168, 166, 174, 219, 196, 163, 187, 181, 162, 174], \"y0\": \" \", \"yaxis\": \"y\"}, {\"alignmentgroup\": \"True\", \"hoverlabel\": {\"namelength\": 0}, \"hovertemplate\": \"batting_team=%{x}<br>total_runs=%{y}\", \"legendgroup\": \"batting_team=Kochi Tuskers Kerala\", \"marker\": {\"color\": \"#FF97FF\"}, \"name\": \"batting_team=Kochi Tuskers Kerala\", \"notched\": false, \"offsetgroup\": \"batting_team=Kochi Tuskers Kerala\", \"orientation\": \"v\", \"showlegend\": true, \"type\": \"box\", \"x\": [\"Kochi Tuskers Kerala\", \"Kochi Tuskers Kerala\", \"Kochi Tuskers Kerala\", \"Kochi Tuskers Kerala\", \"Kochi Tuskers Kerala\", \"Kochi Tuskers Kerala\", \"Kochi Tuskers Kerala\"], \"x0\": \" \", \"xaxis\": \"x\", \"y\": [161, 148, 132, 109, 156, 125, 178], \"y0\": \" \", \"yaxis\": \"y\"}, {\"alignmentgroup\": \"True\", \"hoverlabel\": {\"namelength\": 0}, \"hovertemplate\": \"batting_team=%{x}<br>total_runs=%{y}\", \"legendgroup\": \"batting_team=Pune Warriors\", \"marker\": {\"color\": \"#FECB52\"}, \"name\": \"batting_team=Pune Warriors\", \"notched\": false, \"offsetgroup\": \"batting_team=Pune Warriors\", \"orientation\": \"v\", \"showlegend\": true, \"type\": \"box\", \"x\": [\"Pune Warriors\", \"Pune Warriors\", \"Pune Warriors\", \"Pune Warriors\", \"Pune Warriors\", \"Pune Warriors\", \"Pune Warriors\", \"Pune Warriors\", \"Pune Warriors\", \"Pune Warriors\", \"Pune Warriors\", \"Pune Warriors\", \"Pune Warriors\", \"Pune Warriors\", \"Pune Warriors\", \"Pune Warriors\", \"Pune Warriors\", \"Pune Warriors\", \"Pune Warriors\", \"Pune Warriors\"], \"x0\": \" \", \"xaxis\": \"x\", \"y\": [187, 118, 141, 143, 136, 118, 129, 166, 115, 182, 192, 146, 125, 99, 159, 185, 178, 112, 170, 172], \"y0\": \" \", \"yaxis\": \"y\"}, {\"alignmentgroup\": \"True\", \"hoverlabel\": {\"namelength\": 0}, \"hovertemplate\": \"batting_team=%{x}<br>total_runs=%{y}\", \"legendgroup\": \"batting_team=Sunrisers Hyderabad\", \"marker\": {\"color\": \"#636efa\"}, \"name\": \"batting_team=Sunrisers Hyderabad\", \"notched\": false, \"offsetgroup\": \"batting_team=Sunrisers Hyderabad\", \"orientation\": \"v\", \"showlegend\": true, \"type\": \"box\", \"x\": [\"Sunrisers Hyderabad\", \"Sunrisers Hyderabad\", \"Sunrisers Hyderabad\", \"Sunrisers Hyderabad\", \"Sunrisers Hyderabad\", \"Sunrisers Hyderabad\", \"Sunrisers Hyderabad\", \"Sunrisers Hyderabad\", \"Sunrisers Hyderabad\", \"Sunrisers Hyderabad\", \"Sunrisers Hyderabad\", \"Sunrisers Hyderabad\", \"Sunrisers Hyderabad\", \"Sunrisers Hyderabad\", \"Sunrisers Hyderabad\", \"Sunrisers Hyderabad\", \"Sunrisers Hyderabad\", \"Sunrisers Hyderabad\", \"Sunrisers Hyderabad\", \"Sunrisers Hyderabad\", \"Sunrisers Hyderabad\", \"Sunrisers Hyderabad\", \"Sunrisers Hyderabad\", \"Sunrisers Hyderabad\", \"Sunrisers Hyderabad\", \"Sunrisers Hyderabad\", \"Sunrisers Hyderabad\", \"Sunrisers Hyderabad\", \"Sunrisers Hyderabad\", \"Sunrisers Hyderabad\", \"Sunrisers Hyderabad\", \"Sunrisers Hyderabad\", \"Sunrisers Hyderabad\", \"Sunrisers Hyderabad\", \"Sunrisers Hyderabad\", \"Sunrisers Hyderabad\", \"Sunrisers Hyderabad\", \"Sunrisers Hyderabad\", \"Sunrisers Hyderabad\", \"Sunrisers Hyderabad\", \"Sunrisers Hyderabad\", \"Sunrisers Hyderabad\", \"Sunrisers Hyderabad\", \"Sunrisers Hyderabad\", \"Sunrisers Hyderabad\", \"Sunrisers Hyderabad\", \"Sunrisers Hyderabad\", \"Sunrisers Hyderabad\", \"Sunrisers Hyderabad\", \"Sunrisers Hyderabad\", \"Sunrisers Hyderabad\", \"Sunrisers Hyderabad\", \"Sunrisers Hyderabad\", \"Sunrisers Hyderabad\", \"Sunrisers Hyderabad\", \"Sunrisers Hyderabad\", \"Sunrisers Hyderabad\", \"Sunrisers Hyderabad\", \"Sunrisers Hyderabad\", \"Sunrisers Hyderabad\", \"Sunrisers Hyderabad\", \"Sunrisers Hyderabad\", \"Sunrisers Hyderabad\", \"Sunrisers Hyderabad\", \"Sunrisers Hyderabad\", \"Sunrisers Hyderabad\", \"Sunrisers Hyderabad\", \"Sunrisers Hyderabad\", \"Sunrisers Hyderabad\"], \"x0\": \" \", \"xaxis\": \"x\", \"y\": [126, 119, 159, 144, 161, 150, 178, 136, 132, 133, 184, 145, 172, 155, 134, 157, 205, 142, 160, 127, 176, 150, 192, 201, 163, 185, 135, 113, 142, 118, 194, 177, 137, 146, 158, 162, 208, 207, 158, 159, 191, 176, 207, 209, 185, 128, 118, 132, 151, 146, 179, 172, 139, 174, 178, 181, 231, 150, 175, 160, 212, 175, 162, 158, 164, 219, 162, 201, 142], \"y0\": \" \", \"yaxis\": \"y\"}, {\"alignmentgroup\": \"True\", \"hoverlabel\": {\"namelength\": 0}, \"hovertemplate\": \"batting_team=%{x}<br>total_runs=%{y}\", \"legendgroup\": \"batting_team=Rising Pune Supergiants\", \"marker\": {\"color\": \"#EF553B\"}, \"name\": \"batting_team=Rising Pune Supergiants\", \"notched\": false, \"offsetgroup\": \"batting_team=Rising Pune Supergiants\", \"orientation\": \"v\", \"showlegend\": true, \"type\": \"box\", \"x\": [\"Rising Pune Supergiants\", \"Rising Pune Supergiants\", \"Rising Pune Supergiants\", \"Rising Pune Supergiants\", \"Rising Pune Supergiants\", \"Rising Pune Supergiants\", \"Rising Pune Supergiants\"], \"x0\": \" \", \"xaxis\": \"x\", \"y\": [163, 152, 160, 195, 159, 191, 103], \"y0\": \" \", \"yaxis\": \"y\"}, {\"alignmentgroup\": \"True\", \"hoverlabel\": {\"namelength\": 0}, \"hovertemplate\": \"batting_team=%{x}<br>total_runs=%{y}\", \"legendgroup\": \"batting_team=Gujarat Lions\", \"marker\": {\"color\": \"#00cc96\"}, \"name\": \"batting_team=Gujarat Lions\", \"notched\": false, \"offsetgroup\": \"batting_team=Gujarat Lions\", \"orientation\": \"v\", \"showlegend\": true, \"type\": \"box\", \"x\": [\"Gujarat Lions\", \"Gujarat Lions\", \"Gujarat Lions\", \"Gujarat Lions\", \"Gujarat Lions\", \"Gujarat Lions\", \"Gujarat Lions\", \"Gujarat Lions\", \"Gujarat Lions\", \"Gujarat Lions\", \"Gujarat Lions\", \"Gujarat Lions\", \"Gujarat Lions\", \"Gujarat Lions\"], \"x0\": \" \", \"xaxis\": \"x\", \"y\": [135, 172, 149, 126, 158, 162, 183, 135, 176, 153, 161, 208, 195, 154], \"y0\": \" \", \"yaxis\": \"y\"}, {\"alignmentgroup\": \"True\", \"hoverlabel\": {\"namelength\": 0}, \"hovertemplate\": \"batting_team=%{x}<br>total_runs=%{y}\", \"legendgroup\": \"batting_team=Rising Pune Supergiant\", \"marker\": {\"color\": \"#ab63fa\"}, \"name\": \"batting_team=Rising Pune Supergiant\", \"notched\": false, \"offsetgroup\": \"batting_team=Rising Pune Supergiant\", \"orientation\": \"v\", \"showlegend\": true, \"type\": \"box\", \"x\": [\"Rising Pune Supergiant\", \"Rising Pune Supergiant\", \"Rising Pune Supergiant\", \"Rising Pune Supergiant\", \"Rising Pune Supergiant\", \"Rising Pune Supergiant\", \"Rising Pune Supergiant\", \"Rising Pune Supergiant\"], \"x0\": \" \", \"xaxis\": \"x\", \"y\": [163, 171, 161, 160, 182, 157, 148, 162], \"y0\": \" \", \"yaxis\": \"y\"}, {\"alignmentgroup\": \"True\", \"hoverlabel\": {\"namelength\": 0}, \"hovertemplate\": \"batting_team=%{x}<br>total_runs=%{y}\", \"legendgroup\": \"batting_team=Delhi Capitals\", \"marker\": {\"color\": \"#FFA15A\"}, \"name\": \"batting_team=Delhi Capitals\", \"notched\": false, \"offsetgroup\": \"batting_team=Delhi Capitals\", \"orientation\": \"v\", \"showlegend\": true, \"type\": \"box\", \"x\": [\"Delhi Capitals\", \"Delhi Capitals\", \"Delhi Capitals\", \"Delhi Capitals\", \"Delhi Capitals\", \"Delhi Capitals\", \"Delhi Capitals\", \"Delhi Capitals\", \"Delhi Capitals\", \"Delhi Capitals\", \"Delhi Capitals\", \"Delhi Capitals\", \"Delhi Capitals\", \"Delhi Capitals\", \"Delhi Capitals\", \"Delhi Capitals\", \"Delhi Capitals\"], \"x0\": \" \", \"xaxis\": \"x\", \"y\": [213, 147, 129, 155, 187, 147, 157, 184, 228, 196, 162, 110, 175, 161, 164, 189, 156], \"y0\": \" \", \"yaxis\": \"y\"}],\n",
              "                        {\"boxmode\": \"group\", \"legend\": {\"tracegroupgap\": 0}, \"margin\": {\"t\": 60}, \"template\": {\"data\": {\"bar\": [{\"error_x\": {\"color\": \"rgb(36,36,36)\"}, \"error_y\": {\"color\": \"rgb(36,36,36)\"}, \"marker\": {\"line\": {\"color\": \"white\", \"width\": 0.5}}, \"type\": \"bar\"}], \"barpolar\": [{\"marker\": {\"line\": {\"color\": \"white\", \"width\": 0.5}}, \"type\": \"barpolar\"}], \"carpet\": [{\"aaxis\": {\"endlinecolor\": \"rgb(36,36,36)\", \"gridcolor\": \"white\", \"linecolor\": \"white\", \"minorgridcolor\": \"white\", \"startlinecolor\": \"rgb(36,36,36)\"}, \"baxis\": {\"endlinecolor\": \"rgb(36,36,36)\", \"gridcolor\": \"white\", \"linecolor\": \"white\", \"minorgridcolor\": \"white\", \"startlinecolor\": \"rgb(36,36,36)\"}, \"type\": \"carpet\"}], \"choropleth\": [{\"colorbar\": {\"outlinewidth\": 10, \"tickcolor\": \"rgb(36,36,36)\", \"ticklen\": 8, \"ticks\": \"outside\", \"tickwidth\": 2}, \"type\": \"choropleth\"}], \"contour\": [{\"colorbar\": {\"outlinewidth\": 10, \"tickcolor\": \"rgb(36,36,36)\", \"ticklen\": 8, \"ticks\": \"outside\", \"tickwidth\": 2}, \"colorscale\": [[0.0, \"#440154\"], [0.1111111111111111, \"#482878\"], [0.2222222222222222, \"#3e4989\"], [0.3333333333333333, \"#31688e\"], [0.4444444444444444, \"#26828e\"], [0.5555555555555556, \"#1f9e89\"], [0.6666666666666666, \"#35b779\"], [0.7777777777777778, \"#6ece58\"], [0.8888888888888888, \"#b5de2b\"], [1.0, \"#fde725\"]], \"type\": \"contour\"}], \"contourcarpet\": [{\"colorbar\": {\"outlinewidth\": 10, \"tickcolor\": \"rgb(36,36,36)\", \"ticklen\": 8, \"ticks\": \"outside\", \"tickwidth\": 2}, \"type\": \"contourcarpet\"}], \"heatmap\": [{\"colorbar\": {\"outlinewidth\": 10, \"tickcolor\": \"rgb(36,36,36)\", \"ticklen\": 8, \"ticks\": \"outside\", \"tickwidth\": 2}, \"colorscale\": [[0.0, \"#440154\"], [0.1111111111111111, \"#482878\"], [0.2222222222222222, \"#3e4989\"], [0.3333333333333333, \"#31688e\"], [0.4444444444444444, \"#26828e\"], [0.5555555555555556, \"#1f9e89\"], [0.6666666666666666, \"#35b779\"], [0.7777777777777778, \"#6ece58\"], [0.8888888888888888, \"#b5de2b\"], [1.0, \"#fde725\"]], \"type\": \"heatmap\"}], \"heatmapgl\": [{\"colorbar\": {\"outlinewidth\": 10, \"tickcolor\": \"rgb(36,36,36)\", \"ticklen\": 8, \"ticks\": \"outside\", \"tickwidth\": 2}, \"colorscale\": [[0.0, \"#440154\"], [0.1111111111111111, \"#482878\"], [0.2222222222222222, \"#3e4989\"], [0.3333333333333333, \"#31688e\"], [0.4444444444444444, \"#26828e\"], [0.5555555555555556, \"#1f9e89\"], [0.6666666666666666, \"#35b779\"], [0.7777777777777778, \"#6ece58\"], [0.8888888888888888, \"#b5de2b\"], [1.0, \"#fde725\"]], \"type\": \"heatmapgl\"}], \"histogram\": [{\"marker\": {\"line\": {\"color\": \"white\", \"width\": 0.6}}, \"type\": \"histogram\"}], \"histogram2d\": [{\"colorbar\": {\"outlinewidth\": 10, \"tickcolor\": \"rgb(36,36,36)\", \"ticklen\": 8, \"ticks\": \"outside\", \"tickwidth\": 2}, \"colorscale\": [[0.0, \"#440154\"], [0.1111111111111111, \"#482878\"], [0.2222222222222222, \"#3e4989\"], [0.3333333333333333, \"#31688e\"], [0.4444444444444444, \"#26828e\"], [0.5555555555555556, \"#1f9e89\"], [0.6666666666666666, \"#35b779\"], [0.7777777777777778, \"#6ece58\"], [0.8888888888888888, \"#b5de2b\"], [1.0, \"#fde725\"]], \"type\": \"histogram2d\"}], \"histogram2dcontour\": [{\"colorbar\": {\"outlinewidth\": 10, \"tickcolor\": \"rgb(36,36,36)\", \"ticklen\": 8, \"ticks\": \"outside\", \"tickwidth\": 2}, \"colorscale\": [[0.0, \"#440154\"], [0.1111111111111111, \"#482878\"], [0.2222222222222222, \"#3e4989\"], [0.3333333333333333, \"#31688e\"], [0.4444444444444444, \"#26828e\"], [0.5555555555555556, \"#1f9e89\"], [0.6666666666666666, \"#35b779\"], [0.7777777777777778, \"#6ece58\"], [0.8888888888888888, \"#b5de2b\"], [1.0, \"#fde725\"]], \"type\": \"histogram2dcontour\"}], \"mesh3d\": [{\"colorbar\": {\"outlinewidth\": 10, \"tickcolor\": \"rgb(36,36,36)\", \"ticklen\": 8, \"ticks\": \"outside\", \"tickwidth\": 2}, \"type\": \"mesh3d\"}], \"parcoords\": [{\"line\": {\"colorbar\": {\"outlinewidth\": 10, \"tickcolor\": \"rgb(36,36,36)\", \"ticklen\": 8, \"ticks\": \"outside\", \"tickwidth\": 2}}, \"type\": \"parcoords\"}], \"pie\": [{\"automargin\": true, \"type\": \"pie\"}], \"scatter\": [{\"marker\": {\"colorbar\": {\"outlinewidth\": 10, \"tickcolor\": \"rgb(36,36,36)\", \"ticklen\": 8, \"ticks\": \"outside\", \"tickwidth\": 2}}, \"type\": \"scatter\"}], \"scatter3d\": [{\"line\": {\"colorbar\": {\"outlinewidth\": 10, \"tickcolor\": \"rgb(36,36,36)\", \"ticklen\": 8, \"ticks\": \"outside\", \"tickwidth\": 2}}, \"marker\": {\"colorbar\": {\"outlinewidth\": 10, \"tickcolor\": \"rgb(36,36,36)\", \"ticklen\": 8, \"ticks\": \"outside\", \"tickwidth\": 2}}, \"type\": \"scatter3d\"}], \"scattercarpet\": [{\"marker\": {\"colorbar\": {\"outlinewidth\": 10, \"tickcolor\": \"rgb(36,36,36)\", \"ticklen\": 8, \"ticks\": \"outside\", \"tickwidth\": 2}}, \"type\": \"scattercarpet\"}], \"scattergeo\": [{\"marker\": {\"colorbar\": {\"outlinewidth\": 10, \"tickcolor\": \"rgb(36,36,36)\", \"ticklen\": 8, \"ticks\": \"outside\", \"tickwidth\": 2}}, \"type\": \"scattergeo\"}], \"scattergl\": [{\"marker\": {\"colorbar\": {\"outlinewidth\": 10, \"tickcolor\": \"rgb(36,36,36)\", \"ticklen\": 8, \"ticks\": \"outside\", \"tickwidth\": 2}}, \"type\": \"scattergl\"}], \"scattermapbox\": [{\"marker\": {\"colorbar\": {\"outlinewidth\": 10, \"tickcolor\": \"rgb(36,36,36)\", \"ticklen\": 8, \"ticks\": \"outside\", \"tickwidth\": 2}}, \"type\": \"scattermapbox\"}], \"scatterpolar\": [{\"marker\": {\"colorbar\": {\"outlinewidth\": 10, \"tickcolor\": \"rgb(36,36,36)\", \"ticklen\": 8, \"ticks\": \"outside\", \"tickwidth\": 2}}, \"type\": \"scatterpolar\"}], \"scatterpolargl\": [{\"marker\": {\"colorbar\": {\"outlinewidth\": 10, \"tickcolor\": \"rgb(36,36,36)\", \"ticklen\": 8, \"ticks\": \"outside\", \"tickwidth\": 2}}, \"type\": \"scatterpolargl\"}], \"scatterternary\": [{\"marker\": {\"colorbar\": {\"outlinewidth\": 10, \"tickcolor\": \"rgb(36,36,36)\", \"ticklen\": 8, \"ticks\": \"outside\", \"tickwidth\": 2}}, \"type\": \"scatterternary\"}], \"surface\": [{\"colorbar\": {\"outlinewidth\": 10, \"tickcolor\": \"rgb(36,36,36)\", \"ticklen\": 8, \"ticks\": \"outside\", \"tickwidth\": 2}, \"colorscale\": [[0.0, \"#440154\"], [0.1111111111111111, \"#482878\"], [0.2222222222222222, \"#3e4989\"], [0.3333333333333333, \"#31688e\"], [0.4444444444444444, \"#26828e\"], [0.5555555555555556, \"#1f9e89\"], [0.6666666666666666, \"#35b779\"], [0.7777777777777778, \"#6ece58\"], [0.8888888888888888, \"#b5de2b\"], [1.0, \"#fde725\"]], \"type\": \"surface\"}], \"table\": [{\"cells\": {\"fill\": {\"color\": \"rgb(237,237,237)\"}, \"line\": {\"color\": \"white\"}}, \"header\": {\"fill\": {\"color\": \"rgb(217,217,217)\"}, \"line\": {\"color\": \"white\"}}, \"type\": \"table\"}]}, \"layout\": {\"annotationdefaults\": {\"arrowhead\": 0, \"arrowwidth\": 1}, \"coloraxis\": {\"colorbar\": {\"outlinewidth\": 10, \"tickcolor\": \"rgb(36,36,36)\", \"ticklen\": 8, \"ticks\": \"outside\", \"tickwidth\": 2}}, \"colorscale\": {\"diverging\": [[0.0, \"rgb(103,0,31)\"], [0.1, \"rgb(178,24,43)\"], [0.2, \"rgb(214,96,77)\"], [0.3, \"rgb(244,165,130)\"], [0.4, \"rgb(253,219,199)\"], [0.5, \"rgb(247,247,247)\"], [0.6, \"rgb(209,229,240)\"], [0.7, \"rgb(146,197,222)\"], [0.8, \"rgb(67,147,195)\"], [0.9, \"rgb(33,102,172)\"], [1.0, \"rgb(5,48,97)\"]], \"sequential\": [[0.0, \"#440154\"], [0.1111111111111111, \"#482878\"], [0.2222222222222222, \"#3e4989\"], [0.3333333333333333, \"#31688e\"], [0.4444444444444444, \"#26828e\"], [0.5555555555555556, \"#1f9e89\"], [0.6666666666666666, \"#35b779\"], [0.7777777777777778, \"#6ece58\"], [0.8888888888888888, \"#b5de2b\"], [1.0, \"#fde725\"]], \"sequentialminus\": [[0.0, \"#440154\"], [0.1111111111111111, \"#482878\"], [0.2222222222222222, \"#3e4989\"], [0.3333333333333333, \"#31688e\"], [0.4444444444444444, \"#26828e\"], [0.5555555555555556, \"#1f9e89\"], [0.6666666666666666, \"#35b779\"], [0.7777777777777778, \"#6ece58\"], [0.8888888888888888, \"#b5de2b\"], [1.0, \"#fde725\"]]}, \"colorway\": [\"#1F77B4\", \"#FF7F0E\", \"#2CA02C\", \"#D62728\", \"#9467BD\", \"#8C564B\", \"#E377C2\", \"#7F7F7F\", \"#BCBD22\", \"#17BECF\"], \"font\": {\"color\": \"rgb(36,36,36)\"}, \"geo\": {\"bgcolor\": \"white\", \"lakecolor\": \"white\", \"landcolor\": \"white\", \"showlakes\": true, \"showland\": true, \"subunitcolor\": \"white\"}, \"hoverlabel\": {\"align\": \"left\"}, \"hovermode\": \"closest\", \"mapbox\": {\"style\": \"light\"}, \"paper_bgcolor\": \"white\", \"plot_bgcolor\": \"white\", \"polar\": {\"angularaxis\": {\"gridcolor\": \"rgb(232,232,232)\", \"linecolor\": \"rgb(36,36,36)\", \"showgrid\": false, \"showline\": true, \"ticks\": \"outside\"}, \"bgcolor\": \"white\", \"radialaxis\": {\"gridcolor\": \"rgb(232,232,232)\", \"linecolor\": \"rgb(36,36,36)\", \"showgrid\": false, \"showline\": true, \"ticks\": \"outside\"}}, \"scene\": {\"xaxis\": {\"backgroundcolor\": \"white\", \"gridcolor\": \"rgb(232,232,232)\", \"gridwidth\": 2, \"linecolor\": \"rgb(36,36,36)\", \"showbackground\": true, \"showgrid\": false, \"showline\": true, \"ticks\": \"outside\", \"zeroline\": false, \"zerolinecolor\": \"rgb(36,36,36)\"}, \"yaxis\": {\"backgroundcolor\": \"white\", \"gridcolor\": \"rgb(232,232,232)\", \"gridwidth\": 2, \"linecolor\": \"rgb(36,36,36)\", \"showbackground\": true, \"showgrid\": false, \"showline\": true, \"ticks\": \"outside\", \"zeroline\": false, \"zerolinecolor\": \"rgb(36,36,36)\"}, \"zaxis\": {\"backgroundcolor\": \"white\", \"gridcolor\": \"rgb(232,232,232)\", \"gridwidth\": 2, \"linecolor\": \"rgb(36,36,36)\", \"showbackground\": true, \"showgrid\": false, \"showline\": true, \"ticks\": \"outside\", \"zeroline\": false, \"zerolinecolor\": \"rgb(36,36,36)\"}}, \"shapedefaults\": {\"fillcolor\": \"black\", \"line\": {\"width\": 0}, \"opacity\": 0.3}, \"ternary\": {\"aaxis\": {\"gridcolor\": \"rgb(232,232,232)\", \"linecolor\": \"rgb(36,36,36)\", \"showgrid\": false, \"showline\": true, \"ticks\": \"outside\"}, \"baxis\": {\"gridcolor\": \"rgb(232,232,232)\", \"linecolor\": \"rgb(36,36,36)\", \"showgrid\": false, \"showline\": true, \"ticks\": \"outside\"}, \"bgcolor\": \"white\", \"caxis\": {\"gridcolor\": \"rgb(232,232,232)\", \"linecolor\": \"rgb(36,36,36)\", \"showgrid\": false, \"showline\": true, \"ticks\": \"outside\"}}, \"title\": {\"x\": 0.05}, \"xaxis\": {\"automargin\": true, \"gridcolor\": \"rgb(232,232,232)\", \"linecolor\": \"rgb(36,36,36)\", \"showgrid\": false, \"showline\": true, \"ticks\": \"outside\", \"title\": {\"standoff\": 15}, \"zeroline\": false, \"zerolinecolor\": \"rgb(36,36,36)\"}, \"yaxis\": {\"automargin\": true, \"gridcolor\": \"rgb(232,232,232)\", \"linecolor\": \"rgb(36,36,36)\", \"showgrid\": false, \"showline\": true, \"ticks\": \"outside\", \"title\": {\"standoff\": 15}, \"zeroline\": false, \"zerolinecolor\": \"rgb(36,36,36)\"}}}, \"title\": {\"font\": {\"size\": 26}, \"text\": \"Batting First\"}, \"xaxis\": {\"anchor\": \"y\", \"categoryarray\": [\"Kolkata Knight Riders\", \"Chennai Super Kings\", \"Rajasthan Royals\", \"Mumbai Indians\", \"Deccan Chargers\", \"Kings XI Punjab\", \"Royal Challengers Bangalore\", \"Delhi Daredevils\", \"Kochi Tuskers Kerala\", \"Pune Warriors\", \"Sunrisers Hyderabad\", \"Rising Pune Supergiants\", \"Gujarat Lions\", \"Rising Pune Supergiant\", \"Delhi Capitals\"], \"categoryorder\": \"array\", \"domain\": [0.0, 1.0], \"title\": {\"text\": \"batting_team\"}}, \"yaxis\": {\"anchor\": \"x\", \"domain\": [0.0, 1.0], \"title\": {\"text\": \"total_runs\"}}},\n",
              "                        {\"responsive\": true}\n",
              "                    ).then(function(){\n",
              "                            \n",
              "var gd = document.getElementById('00a736fe-b8f2-497e-8bb7-e4021fb59d64');\n",
              "var x = new MutationObserver(function (mutations, observer) {{\n",
              "        var display = window.getComputedStyle(gd).display;\n",
              "        if (!display || display === 'none') {{\n",
              "            console.log([gd, 'removed!']);\n",
              "            Plotly.purge(gd);\n",
              "            observer.disconnect();\n",
              "        }}\n",
              "}});\n",
              "\n",
              "// Listen for the removal of the full notebook cells\n",
              "var notebookContainer = gd.closest('#notebook-container');\n",
              "if (notebookContainer) {{\n",
              "    x.observe(notebookContainer, {childList: true});\n",
              "}}\n",
              "\n",
              "// Listen for the clearing of the current output cell\n",
              "var outputEl = gd.closest('.output');\n",
              "if (outputEl) {{\n",
              "    x.observe(outputEl, {childList: true});\n",
              "}}\n",
              "\n",
              "                        })\n",
              "                };\n",
              "                \n",
              "            </script>\n",
              "        </div>\n",
              "</body>\n",
              "</html>"
            ]
          },
          "metadata": {}
        }
      ]
    },
    {
      "cell_type": "markdown",
      "metadata": {
        "papermill": {
          "duration": 0.158392,
          "end_time": "2021-06-04T22:21:53.121492",
          "exception": false,
          "start_time": "2021-06-04T22:21:52.963100",
          "status": "completed"
        },
        "tags": [],
        "id": "6WR_Qer_i33M"
      },
      "source": [
        "<div class=\"alert alert-block alert-info\"><p style='color:black;'> 📌\n",
        "Royal Challengers Bangalore and Mumbai Indians median value is better than other teams while batting first.<br>\n",
        "Royal Challengers Bangalore had scored 250+ in a single match and is the only team to achieve that feat.\n",
        "</p>\n",
        "</div>\n",
        "\n"
      ]
    },
    {
      "cell_type": "markdown",
      "metadata": {
        "papermill": {
          "duration": 0.154931,
          "end_time": "2021-06-04T22:21:53.432976",
          "exception": false,
          "start_time": "2021-06-04T22:21:53.278045",
          "status": "completed"
        },
        "tags": [],
        "id": "_0MWRIYLi33M"
      },
      "source": [
        "<p style = \"font-size:20px; font-weight : normal; color : #0331A8;\">Batting second :</p>\n",
        "\n",
        "\n"
      ]
    },
    {
      "cell_type": "code",
      "metadata": {
        "_kg_hide-input": true,
        "execution": {
          "iopub.execute_input": "2021-06-04T22:21:53.767746Z",
          "iopub.status.busy": "2021-06-04T22:21:53.765921Z",
          "iopub.status.idle": "2021-06-04T22:21:53.913670Z",
          "shell.execute_reply": "2021-06-04T22:21:53.912959Z",
          "shell.execute_reply.started": "2021-06-04T22:16:39.369801Z"
        },
        "papermill": {
          "duration": 0.318017,
          "end_time": "2021-06-04T22:21:53.913832",
          "exception": false,
          "start_time": "2021-06-04T22:21:53.595815",
          "status": "completed"
        },
        "tags": [],
        "colab": {
          "base_uri": "https://localhost:8080/",
          "height": 542
        },
        "id": "3gZHy5jdi33M",
        "outputId": "a124c809-fbad-4ea0-a06c-e127a15d82be"
      },
      "source": [
        "fig = px.box(y='total_runs',x='batting_team',data_frame=inning2,color='batting_team')\n",
        "\n",
        "fig.update_layout(title=\"Batting Second\",\n",
        "                  titlefont={'size': 26},template='simple_white'\n",
        "                  )\n",
        "fig.show()"
      ],
      "execution_count": 51,
      "outputs": [
        {
          "output_type": "display_data",
          "data": {
            "text/html": [
              "<html>\n",
              "<head><meta charset=\"utf-8\" /></head>\n",
              "<body>\n",
              "    <div>\n",
              "            <script src=\"https://cdnjs.cloudflare.com/ajax/libs/mathjax/2.7.5/MathJax.js?config=TeX-AMS-MML_SVG\"></script><script type=\"text/javascript\">if (window.MathJax) {MathJax.Hub.Config({SVG: {font: \"STIX-Web\"}});}</script>\n",
              "                <script type=\"text/javascript\">window.PlotlyConfig = {MathJaxConfig: 'local'};</script>\n",
              "        <script src=\"https://cdn.plot.ly/plotly-latest.min.js\"></script>    \n",
              "            <div id=\"d5b7ef7f-c3cb-4dc1-8f4c-d1d5ad89c41e\" class=\"plotly-graph-div\" style=\"height:525px; width:100%;\"></div>\n",
              "            <script type=\"text/javascript\">\n",
              "                \n",
              "                    window.PLOTLYENV=window.PLOTLYENV || {};\n",
              "                    \n",
              "                if (document.getElementById(\"d5b7ef7f-c3cb-4dc1-8f4c-d1d5ad89c41e\")) {\n",
              "                    Plotly.newPlot(\n",
              "                        'd5b7ef7f-c3cb-4dc1-8f4c-d1d5ad89c41e',\n",
              "                        [{\"alignmentgroup\": \"True\", \"hoverlabel\": {\"namelength\": 0}, \"hovertemplate\": \"batting_team=%{x}<br>total_runs=%{y}\", \"legendgroup\": \"batting_team=Royal Challengers Bangalore\", \"marker\": {\"color\": \"#636efa\"}, \"name\": \"batting_team=Royal Challengers Bangalore\", \"notched\": false, \"offsetgroup\": \"batting_team=Royal Challengers Bangalore\", \"orientation\": \"v\", \"showlegend\": true, \"type\": \"box\", \"x\": [\"Royal Challengers Bangalore\", \"Royal Challengers Bangalore\", \"Royal Challengers Bangalore\", \"Royal Challengers Bangalore\", \"Royal Challengers Bangalore\", \"Royal Challengers Bangalore\", \"Royal Challengers Bangalore\", \"Royal Challengers Bangalore\", \"Royal Challengers Bangalore\", \"Royal Challengers Bangalore\", \"Royal Challengers Bangalore\", \"Royal Challengers Bangalore\", \"Royal Challengers Bangalore\", \"Royal Challengers Bangalore\", \"Royal Challengers Bangalore\", \"Royal Challengers Bangalore\", \"Royal Challengers Bangalore\", \"Royal Challengers Bangalore\", \"Royal Challengers Bangalore\", \"Royal Challengers Bangalore\", \"Royal Challengers Bangalore\", \"Royal Challengers Bangalore\", \"Royal Challengers Bangalore\", \"Royal Challengers Bangalore\", \"Royal Challengers Bangalore\", \"Royal Challengers Bangalore\", \"Royal Challengers Bangalore\", \"Royal Challengers Bangalore\", \"Royal Challengers Bangalore\", \"Royal Challengers Bangalore\", \"Royal Challengers Bangalore\", \"Royal Challengers Bangalore\", \"Royal Challengers Bangalore\", \"Royal Challengers Bangalore\", \"Royal Challengers Bangalore\", \"Royal Challengers Bangalore\", \"Royal Challengers Bangalore\", \"Royal Challengers Bangalore\", \"Royal Challengers Bangalore\", \"Royal Challengers Bangalore\", \"Royal Challengers Bangalore\", \"Royal Challengers Bangalore\", \"Royal Challengers Bangalore\", \"Royal Challengers Bangalore\", \"Royal Challengers Bangalore\", \"Royal Challengers Bangalore\", \"Royal Challengers Bangalore\", \"Royal Challengers Bangalore\", \"Royal Challengers Bangalore\", \"Royal Challengers Bangalore\", \"Royal Challengers Bangalore\", \"Royal Challengers Bangalore\", \"Royal Challengers Bangalore\", \"Royal Challengers Bangalore\", \"Royal Challengers Bangalore\", \"Royal Challengers Bangalore\", \"Royal Challengers Bangalore\", \"Royal Challengers Bangalore\", \"Royal Challengers Bangalore\", \"Royal Challengers Bangalore\", \"Royal Challengers Bangalore\", \"Royal Challengers Bangalore\", \"Royal Challengers Bangalore\", \"Royal Challengers Bangalore\", \"Royal Challengers Bangalore\", \"Royal Challengers Bangalore\", \"Royal Challengers Bangalore\", \"Royal Challengers Bangalore\", \"Royal Challengers Bangalore\", \"Royal Challengers Bangalore\", \"Royal Challengers Bangalore\", \"Royal Challengers Bangalore\", \"Royal Challengers Bangalore\", \"Royal Challengers Bangalore\", \"Royal Challengers Bangalore\", \"Royal Challengers Bangalore\", \"Royal Challengers Bangalore\", \"Royal Challengers Bangalore\", \"Royal Challengers Bangalore\", \"Royal Challengers Bangalore\", \"Royal Challengers Bangalore\", \"Royal Challengers Bangalore\", \"Royal Challengers Bangalore\", \"Royal Challengers Bangalore\", \"Royal Challengers Bangalore\", \"Royal Challengers Bangalore\", \"Royal Challengers Bangalore\", \"Royal Challengers Bangalore\", \"Royal Challengers Bangalore\", \"Royal Challengers Bangalore\", \"Royal Challengers Bangalore\", \"Royal Challengers Bangalore\", \"Royal Challengers Bangalore\", \"Royal Challengers Bangalore\", \"Royal Challengers Bangalore\", \"Royal Challengers Bangalore\", \"Royal Challengers Bangalore\", \"Royal Challengers Bangalore\", \"Royal Challengers Bangalore\", \"Royal Challengers Bangalore\"], \"x0\": \" \", \"xaxis\": \"x\", \"y\": [82, 166, 165, 181, 171, 124, 132, 87, 160, 143, 150, 141, 176, 132, 135, 149, 137, 204, 93, 155, 166, 184, 147, 162, 138, 132, 134, 149, 86, 162, 142, 162, 175, 161, 128, 151, 105, 121, 129, 147, 123, 136, 186, 166, 143, 185, 142, 123, 158, 152, 123, 136, 162, 146, 116, 148, 158, 168, 166, 142, 165, 179, 191, 154, 134, 99, 115, 124, 84, 83, 2, 179, 195, 186, 139, 159, 200, 172, 134, 49, 96, 119, 159, 198, 167, 176, 141, 187, 92, 134, 181, 113, 174, 171, 178, 85, 109, 158, 137, 179], \"y0\": \" \", \"yaxis\": \"y\"}, {\"alignmentgroup\": \"True\", \"hoverlabel\": {\"namelength\": 0}, \"hovertemplate\": \"batting_team=%{x}<br>total_runs=%{y}\", \"legendgroup\": \"batting_team=Kings XI Punjab\", \"marker\": {\"color\": \"#EF553B\"}, \"name\": \"batting_team=Kings XI Punjab\", \"notched\": false, \"offsetgroup\": \"batting_team=Kings XI Punjab\", \"orientation\": \"v\", \"showlegend\": true, \"type\": \"box\", \"x\": [\"Kings XI Punjab\", \"Kings XI Punjab\", \"Kings XI Punjab\", \"Kings XI Punjab\", \"Kings XI Punjab\", \"Kings XI Punjab\", \"Kings XI Punjab\", \"Kings XI Punjab\", \"Kings XI Punjab\", \"Kings XI Punjab\", \"Kings XI Punjab\", \"Kings XI Punjab\", \"Kings XI Punjab\", \"Kings XI Punjab\", \"Kings XI Punjab\", \"Kings XI Punjab\", \"Kings XI Punjab\", \"Kings XI Punjab\", \"Kings XI Punjab\", \"Kings XI Punjab\", \"Kings XI Punjab\", \"Kings XI Punjab\", \"Kings XI Punjab\", \"Kings XI Punjab\", \"Kings XI Punjab\", \"Kings XI Punjab\", \"Kings XI Punjab\", \"Kings XI Punjab\", \"Kings XI Punjab\", \"Kings XI Punjab\", \"Kings XI Punjab\", \"Kings XI Punjab\", \"Kings XI Punjab\", \"Kings XI Punjab\", \"Kings XI Punjab\", \"Kings XI Punjab\", \"Kings XI Punjab\", \"Kings XI Punjab\", \"Kings XI Punjab\", \"Kings XI Punjab\", \"Kings XI Punjab\", \"Kings XI Punjab\", \"Kings XI Punjab\", \"Kings XI Punjab\", \"Kings XI Punjab\", \"Kings XI Punjab\", \"Kings XI Punjab\", \"Kings XI Punjab\", \"Kings XI Punjab\", \"Kings XI Punjab\", \"Kings XI Punjab\", \"Kings XI Punjab\", \"Kings XI Punjab\", \"Kings XI Punjab\", \"Kings XI Punjab\", \"Kings XI Punjab\", \"Kings XI Punjab\", \"Kings XI Punjab\", \"Kings XI Punjab\", \"Kings XI Punjab\", \"Kings XI Punjab\", \"Kings XI Punjab\", \"Kings XI Punjab\", \"Kings XI Punjab\", \"Kings XI Punjab\", \"Kings XI Punjab\", \"Kings XI Punjab\", \"Kings XI Punjab\", \"Kings XI Punjab\", \"Kings XI Punjab\", \"Kings XI Punjab\", \"Kings XI Punjab\", \"Kings XI Punjab\", \"Kings XI Punjab\", \"Kings XI Punjab\", \"Kings XI Punjab\", \"Kings XI Punjab\", \"Kings XI Punjab\", \"Kings XI Punjab\", \"Kings XI Punjab\", \"Kings XI Punjab\", \"Kings XI Punjab\", \"Kings XI Punjab\", \"Kings XI Punjab\", \"Kings XI Punjab\", \"Kings XI Punjab\", \"Kings XI Punjab\", \"Kings XI Punjab\", \"Kings XI Punjab\", \"Kings XI Punjab\", \"Kings XI Punjab\", \"Kings XI Punjab\", \"Kings XI Punjab\"], \"x0\": \" \", \"xaxis\": \"x\", \"y\": [207, 162, 167, 127, 163, 144, 94, 178, 173, 137, 154, 133, 174, 169, 123, 92, 164, 152, 144, 204, 158, 112, 193, 166, 202, 136, 120, 181, 116, 160, 144, 116, 164, 163, 134, 194, 123, 100, 186, 170, 171, 176, 120, 121, 194, 206, 193, 127, 211, 165, 119, 135, 136, 191, 95, 130, 149, 88, 180, 153, 164, 157, 174, 127, 120, 164, 150, 137, 154, 181, 68, 167, 126, 119, 155, 143, 214, 183, 190, 177, 138, 151, 185, 167, 173, 157, 143, 176, 150, 162, 177, 132, 167], \"y0\": \" \", \"yaxis\": \"y\"}, {\"alignmentgroup\": \"True\", \"hoverlabel\": {\"namelength\": 0}, \"hovertemplate\": \"batting_team=%{x}<br>total_runs=%{y}\", \"legendgroup\": \"batting_team=Delhi Daredevils\", \"marker\": {\"color\": \"#00cc96\"}, \"name\": \"batting_team=Delhi Daredevils\", \"notched\": false, \"offsetgroup\": \"batting_team=Delhi Daredevils\", \"orientation\": \"v\", \"showlegend\": true, \"type\": \"box\", \"x\": [\"Delhi Daredevils\", \"Delhi Daredevils\", \"Delhi Daredevils\", \"Delhi Daredevils\", \"Delhi Daredevils\", \"Delhi Daredevils\", \"Delhi Daredevils\", \"Delhi Daredevils\", \"Delhi Daredevils\", \"Delhi Daredevils\", \"Delhi Daredevils\", \"Delhi Daredevils\", \"Delhi Daredevils\", \"Delhi Daredevils\", \"Delhi Daredevils\", \"Delhi Daredevils\", \"Delhi Daredevils\", \"Delhi Daredevils\", \"Delhi Daredevils\", \"Delhi Daredevils\", \"Delhi Daredevils\", \"Delhi Daredevils\", \"Delhi Daredevils\", \"Delhi Daredevils\", \"Delhi Daredevils\", \"Delhi Daredevils\", \"Delhi Daredevils\", \"Delhi Daredevils\", \"Delhi Daredevils\", \"Delhi Daredevils\", \"Delhi Daredevils\", \"Delhi Daredevils\", \"Delhi Daredevils\", \"Delhi Daredevils\", \"Delhi Daredevils\", \"Delhi Daredevils\", \"Delhi Daredevils\", \"Delhi Daredevils\", \"Delhi Daredevils\", \"Delhi Daredevils\", \"Delhi Daredevils\", \"Delhi Daredevils\", \"Delhi Daredevils\", \"Delhi Daredevils\", \"Delhi Daredevils\", \"Delhi Daredevils\", \"Delhi Daredevils\", \"Delhi Daredevils\", \"Delhi Daredevils\", \"Delhi Daredevils\", \"Delhi Daredevils\", \"Delhi Daredevils\", \"Delhi Daredevils\", \"Delhi Daredevils\", \"Delhi Daredevils\", \"Delhi Daredevils\", \"Delhi Daredevils\", \"Delhi Daredevils\", \"Delhi Daredevils\", \"Delhi Daredevils\", \"Delhi Daredevils\", \"Delhi Daredevils\", \"Delhi Daredevils\", \"Delhi Daredevils\", \"Delhi Daredevils\", \"Delhi Daredevils\", \"Delhi Daredevils\", \"Delhi Daredevils\", \"Delhi Daredevils\", \"Delhi Daredevils\", \"Delhi Daredevils\", \"Delhi Daredevils\", \"Delhi Daredevils\", \"Delhi Daredevils\", \"Delhi Daredevils\", \"Delhi Daredevils\", \"Delhi Daredevils\", \"Delhi Daredevils\", \"Delhi Daredevils\", \"Delhi Daredevils\", \"Delhi Daredevils\", \"Delhi Daredevils\", \"Delhi Daredevils\", \"Delhi Daredevils\", \"Delhi Daredevils\", \"Delhi Daredevils\", \"Delhi Daredevils\", \"Delhi Daredevils\", \"Delhi Daredevils\"], \"x0\": \" \", \"xaxis\": \"x\", \"y\": [132, 143, 172, 133, 110, 158, 179, 87, 58, 150, 150, 145, 157, 118, 125, 166, 146, 142, 120, 161, 167, 144, 113, 134, 190, 152, 131, 179, 146, 158, 141, 100, 137, 111, 162, 93, 193, 172, 148, 144, 140, 194, 145, 144, 136, 160, 165, 83, 165, 164, 137, 179, 135, 134, 167, 84, 180, 126, 170, 139, 158, 149, 169, 158, 119, 175, 157, 120, 113, 192, 171, 150, 172, 150, 126, 161, 142, 176, 128, 189, 214, 66, 197, 151, 60, 195, 129, 139, 198], \"y0\": \" \", \"yaxis\": \"y\"}, {\"alignmentgroup\": \"True\", \"hoverlabel\": {\"namelength\": 0}, \"hovertemplate\": \"batting_team=%{x}<br>total_runs=%{y}\", \"legendgroup\": \"batting_team=Kolkata Knight Riders\", \"marker\": {\"color\": \"#ab63fa\"}, \"name\": \"batting_team=Kolkata Knight Riders\", \"notched\": false, \"offsetgroup\": \"batting_team=Kolkata Knight Riders\", \"orientation\": \"v\", \"showlegend\": true, \"type\": \"box\", \"x\": [\"Kolkata Knight Riders\", \"Kolkata Knight Riders\", \"Kolkata Knight Riders\", \"Kolkata Knight Riders\", \"Kolkata Knight Riders\", \"Kolkata Knight Riders\", \"Kolkata Knight Riders\", \"Kolkata Knight Riders\", \"Kolkata Knight Riders\", \"Kolkata Knight Riders\", \"Kolkata Knight Riders\", \"Kolkata Knight Riders\", \"Kolkata Knight Riders\", \"Kolkata Knight Riders\", \"Kolkata Knight Riders\", \"Kolkata Knight Riders\", \"Kolkata Knight Riders\", \"Kolkata Knight Riders\", \"Kolkata Knight Riders\", \"Kolkata Knight Riders\", \"Kolkata Knight Riders\", \"Kolkata Knight Riders\", \"Kolkata Knight Riders\", \"Kolkata Knight Riders\", \"Kolkata Knight Riders\", \"Kolkata Knight Riders\", \"Kolkata Knight Riders\", \"Kolkata Knight Riders\", \"Kolkata Knight Riders\", \"Kolkata Knight Riders\", \"Kolkata Knight Riders\", \"Kolkata Knight Riders\", \"Kolkata Knight Riders\", \"Kolkata Knight Riders\", \"Kolkata Knight Riders\", \"Kolkata Knight Riders\", \"Kolkata Knight Riders\", \"Kolkata Knight Riders\", \"Kolkata Knight Riders\", \"Kolkata Knight Riders\", \"Kolkata Knight Riders\", \"Kolkata Knight Riders\", \"Kolkata Knight Riders\", \"Kolkata Knight Riders\", \"Kolkata Knight Riders\", \"Kolkata Knight Riders\", \"Kolkata Knight Riders\", \"Kolkata Knight Riders\", \"Kolkata Knight Riders\", \"Kolkata Knight Riders\", \"Kolkata Knight Riders\", \"Kolkata Knight Riders\", \"Kolkata Knight Riders\", \"Kolkata Knight Riders\", \"Kolkata Knight Riders\", \"Kolkata Knight Riders\", \"Kolkata Knight Riders\", \"Kolkata Knight Riders\", \"Kolkata Knight Riders\", \"Kolkata Knight Riders\", \"Kolkata Knight Riders\", \"Kolkata Knight Riders\", \"Kolkata Knight Riders\", \"Kolkata Knight Riders\", \"Kolkata Knight Riders\", \"Kolkata Knight Riders\", \"Kolkata Knight Riders\", \"Kolkata Knight Riders\", \"Kolkata Knight Riders\", \"Kolkata Knight Riders\", \"Kolkata Knight Riders\", \"Kolkata Knight Riders\", \"Kolkata Knight Riders\", \"Kolkata Knight Riders\", \"Kolkata Knight Riders\", \"Kolkata Knight Riders\", \"Kolkata Knight Riders\", \"Kolkata Knight Riders\", \"Kolkata Knight Riders\", \"Kolkata Knight Riders\", \"Kolkata Knight Riders\", \"Kolkata Knight Riders\", \"Kolkata Knight Riders\", \"Kolkata Knight Riders\", \"Kolkata Knight Riders\", \"Kolkata Knight Riders\", \"Kolkata Knight Riders\", \"Kolkata Knight Riders\", \"Kolkata Knight Riders\", \"Kolkata Knight Riders\", \"Kolkata Knight Riders\", \"Kolkata Knight Riders\", \"Kolkata Knight Riders\", \"Kolkata Knight Riders\", \"Kolkata Knight Riders\", \"Kolkata Knight Riders\", \"Kolkata Knight Riders\", \"Kolkata Knight Riders\", \"Kolkata Knight Riders\"], \"x0\": \" \", \"xaxis\": \"x\", \"y\": [112, 151, 169, 175, 79, 150, 95, 139, 189, 102, 136, 109, 134, 137, 133, 135, 151, 160, 85, 126, 120, 139, 61, 119, 142, 137, 132, 127, 127, 140, 154, 155, 192, 129, 125, 153, 150, 186, 133, 105, 116, 163, 109, 152, 114, 160, 161, 150, 142, 146, 156, 161, 200, 170, 169, 159, 147, 101, 132, 184, 166, 190, 99, 146, 141, 162, 159, 189, 66, 140, 184, 171, 169, 184, 161, 161, 159, 153, 164, 48, 177, 163, 164, 176, 180, 168, 108, 145, 173, 160, 183, 206, 140, 203, 185, 146, 210, 112, 145], \"y0\": \" \", \"yaxis\": \"y\"}, {\"alignmentgroup\": \"True\", \"hoverlabel\": {\"namelength\": 0}, \"hovertemplate\": \"batting_team=%{x}<br>total_runs=%{y}\", \"legendgroup\": \"batting_team=Rajasthan Royals\", \"marker\": {\"color\": \"#FFA15A\"}, \"name\": \"batting_team=Rajasthan Royals\", \"notched\": false, \"offsetgroup\": \"batting_team=Rajasthan Royals\", \"orientation\": \"v\", \"showlegend\": true, \"type\": \"box\", \"x\": [\"Rajasthan Royals\", \"Rajasthan Royals\", \"Rajasthan Royals\", \"Rajasthan Royals\", \"Rajasthan Royals\", \"Rajasthan Royals\", \"Rajasthan Royals\", \"Rajasthan Royals\", \"Rajasthan Royals\", \"Rajasthan Royals\", \"Rajasthan Royals\", \"Rajasthan Royals\", \"Rajasthan Royals\", \"Rajasthan Royals\", \"Rajasthan Royals\", \"Rajasthan Royals\", \"Rajasthan Royals\", \"Rajasthan Royals\", \"Rajasthan Royals\", \"Rajasthan Royals\", \"Rajasthan Royals\", \"Rajasthan Royals\", \"Rajasthan Royals\", \"Rajasthan Royals\", \"Rajasthan Royals\", \"Rajasthan Royals\", \"Rajasthan Royals\", \"Rajasthan Royals\", \"Rajasthan Royals\", \"Rajasthan Royals\", \"Rajasthan Royals\", \"Rajasthan Royals\", \"Rajasthan Royals\", \"Rajasthan Royals\", \"Rajasthan Royals\", \"Rajasthan Royals\", \"Rajasthan Royals\", \"Rajasthan Royals\", \"Rajasthan Royals\", \"Rajasthan Royals\", \"Rajasthan Royals\", \"Rajasthan Royals\", \"Rajasthan Royals\", \"Rajasthan Royals\", \"Rajasthan Royals\", \"Rajasthan Royals\", \"Rajasthan Royals\", \"Rajasthan Royals\", \"Rajasthan Royals\", \"Rajasthan Royals\", \"Rajasthan Royals\", \"Rajasthan Royals\", \"Rajasthan Royals\", \"Rajasthan Royals\", \"Rajasthan Royals\", \"Rajasthan Royals\", \"Rajasthan Royals\", \"Rajasthan Royals\", \"Rajasthan Royals\", \"Rajasthan Royals\", \"Rajasthan Royals\", \"Rajasthan Royals\", \"Rajasthan Royals\", \"Rajasthan Royals\", \"Rajasthan Royals\", \"Rajasthan Royals\", \"Rajasthan Royals\", \"Rajasthan Royals\", \"Rajasthan Royals\", \"Rajasthan Royals\", \"Rajasthan Royals\", \"Rajasthan Royals\", \"Rajasthan Royals\", \"Rajasthan Royals\", \"Rajasthan Royals\", \"Rajasthan Royals\", \"Rajasthan Royals\", \"Rajasthan Royals\", \"Rajasthan Royals\", \"Rajasthan Royals\", \"Rajasthan Royals\", \"Rajasthan Royals\", \"Rajasthan Royals\", \"Rajasthan Royals\", \"Rajasthan Royals\", \"Rajasthan Royals\", \"Rajasthan Royals\", \"Rajasthan Royals\", \"Rajasthan Royals\"], \"x0\": \" \", \"xaxis\": \"x\", \"y\": [168, 217, 138, 110, 141, 159, 180, 150, 146, 164, 58, 112, 147, 126, 142, 107, 113, 136, 208, 151, 121, 223, 157, 137, 141, 152, 147, 111, 95, 144, 133, 134, 170, 197, 143, 151, 126, 126, 146, 173, 182, 155, 147, 144, 152, 113, 135, 135, 133, 71, 156, 102, 191, 153, 163, 186, 165, 131, 157, 179, 194, 145, 109, 140, 168, 140, 146, 177, 171, 144, 170, 167, 164, 188, 170, 162, 177, 161, 41, 138, 137, 163, 136, 226, 131, 126, 186, 196, 148], \"y0\": \" \", \"yaxis\": \"y\"}, {\"alignmentgroup\": \"True\", \"hoverlabel\": {\"namelength\": 0}, \"hovertemplate\": \"batting_team=%{x}<br>total_runs=%{y}\", \"legendgroup\": \"batting_team=Mumbai Indians\", \"marker\": {\"color\": \"#19d3f3\"}, \"name\": \"batting_team=Mumbai Indians\", \"notched\": false, \"offsetgroup\": \"batting_team=Mumbai Indians\", \"orientation\": \"v\", \"showlegend\": true, \"type\": \"box\", \"x\": [\"Mumbai Indians\", \"Mumbai Indians\", \"Mumbai Indians\", \"Mumbai Indians\", \"Mumbai Indians\", \"Mumbai Indians\", \"Mumbai Indians\", \"Mumbai Indians\", \"Mumbai Indians\", \"Mumbai Indians\", \"Mumbai Indians\", \"Mumbai Indians\", \"Mumbai Indians\", \"Mumbai Indians\", \"Mumbai Indians\", \"Mumbai Indians\", \"Mumbai Indians\", \"Mumbai Indians\", \"Mumbai Indians\", \"Mumbai Indians\", \"Mumbai Indians\", \"Mumbai Indians\", \"Mumbai Indians\", \"Mumbai Indians\", \"Mumbai Indians\", \"Mumbai Indians\", \"Mumbai Indians\", \"Mumbai Indians\", \"Mumbai Indians\", \"Mumbai Indians\", \"Mumbai Indians\", \"Mumbai Indians\", \"Mumbai Indians\", \"Mumbai Indians\", \"Mumbai Indians\", \"Mumbai Indians\", \"Mumbai Indians\", \"Mumbai Indians\", \"Mumbai Indians\", \"Mumbai Indians\", \"Mumbai Indians\", \"Mumbai Indians\", \"Mumbai Indians\", \"Mumbai Indians\", \"Mumbai Indians\", \"Mumbai Indians\", \"Mumbai Indians\", \"Mumbai Indians\", \"Mumbai Indians\", \"Mumbai Indians\", \"Mumbai Indians\", \"Mumbai Indians\", \"Mumbai Indians\", \"Mumbai Indians\", \"Mumbai Indians\", \"Mumbai Indians\", \"Mumbai Indians\", \"Mumbai Indians\", \"Mumbai Indians\", \"Mumbai Indians\", \"Mumbai Indians\", \"Mumbai Indians\", \"Mumbai Indians\", \"Mumbai Indians\", \"Mumbai Indians\", \"Mumbai Indians\", \"Mumbai Indians\", \"Mumbai Indians\", \"Mumbai Indians\", \"Mumbai Indians\", \"Mumbai Indians\", \"Mumbai Indians\", \"Mumbai Indians\", \"Mumbai Indians\", \"Mumbai Indians\", \"Mumbai Indians\", \"Mumbai Indians\", \"Mumbai Indians\", \"Mumbai Indians\", \"Mumbai Indians\", \"Mumbai Indians\", \"Mumbai Indians\", \"Mumbai Indians\", \"Mumbai Indians\", \"Mumbai Indians\", \"Mumbai Indians\", \"Mumbai Indians\", \"Mumbai Indians\", \"Mumbai Indians\", \"Mumbai Indians\", \"Mumbai Indians\", \"Mumbai Indians\", \"Mumbai Indians\"], \"x0\": \" \", \"xaxis\": \"x\", \"y\": [202, 116, 138, 104, 126, 158, 68, 188, 156, 116, 126, 122, 143, 156, 181, 164, 141, 146, 99, 143, 124, 87, 125, 178, 148, 142, 115, 101, 142, 171, 170, 101, 174, 173, 108, 163, 149, 154, 92, 162, 116, 184, 133, 144, 169, 122, 157, 170, 160, 159, 195, 159, 153, 153, 159, 196, 114, 188, 171, 154, 178, 161, 92, 153, 180, 159, 145, 177, 199, 157, 153, 165, 223, 142, 111, 87, 170, 153, 176, 163, 176, 198, 172, 198, 134, 132, 166, 116, 149, 166, 111, 201, 157], \"y0\": \" \", \"yaxis\": \"y\"}, {\"alignmentgroup\": \"True\", \"hoverlabel\": {\"namelength\": 0}, \"hovertemplate\": \"batting_team=%{x}<br>total_runs=%{y}\", \"legendgroup\": \"batting_team=Chennai Super Kings\", \"marker\": {\"color\": \"#FF6692\"}, \"name\": \"batting_team=Chennai Super Kings\", \"notched\": false, \"offsetgroup\": \"batting_team=Chennai Super Kings\", \"orientation\": \"v\", \"showlegend\": true, \"type\": \"box\", \"x\": [\"Chennai Super Kings\", \"Chennai Super Kings\", \"Chennai Super Kings\", \"Chennai Super Kings\", \"Chennai Super Kings\", \"Chennai Super Kings\", \"Chennai Super Kings\", \"Chennai Super Kings\", \"Chennai Super Kings\", \"Chennai Super Kings\", \"Chennai Super Kings\", \"Chennai Super Kings\", \"Chennai Super Kings\", \"Chennai Super Kings\", \"Chennai Super Kings\", \"Chennai Super Kings\", \"Chennai Super Kings\", \"Chennai Super Kings\", \"Chennai Super Kings\", \"Chennai Super Kings\", \"Chennai Super Kings\", \"Chennai Super Kings\", \"Chennai Super Kings\", \"Chennai Super Kings\", \"Chennai Super Kings\", \"Chennai Super Kings\", \"Chennai Super Kings\", \"Chennai Super Kings\", \"Chennai Super Kings\", \"Chennai Super Kings\", \"Chennai Super Kings\", \"Chennai Super Kings\", \"Chennai Super Kings\", \"Chennai Super Kings\", \"Chennai Super Kings\", \"Chennai Super Kings\", \"Chennai Super Kings\", \"Chennai Super Kings\", \"Chennai Super Kings\", \"Chennai Super Kings\", \"Chennai Super Kings\", \"Chennai Super Kings\", \"Chennai Super Kings\", \"Chennai Super Kings\", \"Chennai Super Kings\", \"Chennai Super Kings\", \"Chennai Super Kings\", \"Chennai Super Kings\", \"Chennai Super Kings\", \"Chennai Super Kings\", \"Chennai Super Kings\", \"Chennai Super Kings\", \"Chennai Super Kings\", \"Chennai Super Kings\", \"Chennai Super Kings\", \"Chennai Super Kings\", \"Chennai Super Kings\", \"Chennai Super Kings\", \"Chennai Super Kings\", \"Chennai Super Kings\", \"Chennai Super Kings\", \"Chennai Super Kings\", \"Chennai Super Kings\", \"Chennai Super Kings\", \"Chennai Super Kings\", \"Chennai Super Kings\", \"Chennai Super Kings\", \"Chennai Super Kings\", \"Chennai Super Kings\", \"Chennai Super Kings\", \"Chennai Super Kings\", \"Chennai Super Kings\", \"Chennai Super Kings\", \"Chennai Super Kings\", \"Chennai Super Kings\", \"Chennai Super Kings\", \"Chennai Super Kings\", \"Chennai Super Kings\", \"Chennai Super Kings\", \"Chennai Super Kings\", \"Chennai Super Kings\", \"Chennai Super Kings\", \"Chennai Super Kings\", \"Chennai Super Kings\", \"Chennai Super Kings\"], \"x0\": \" \", \"xaxis\": \"x\", \"y\": [152, 188, 55, 112, 201, 148, 116, 146, 180, 141, 151, 159, 190, 136, 135, 160, 162, 143, 195, 156, 145, 149, 177, 208, 147, 149, 127, 115, 160, 139, 139, 166, 135, 124, 186, 160, 79, 82, 125, 142, 146, 181, 187, 160, 149, 160, 176, 202, 189, 170, 134, 162, 140, 161, 169, 205, 193, 207, 128, 180, 128, 159, 140, 181, 71, 150, 133, 111, 155, 162, 160, 176, 109, 151, 148, 166, 200, 157, 154, 181, 157, 132, 178, 131, 150], \"y0\": \" \", \"yaxis\": \"y\"}, {\"alignmentgroup\": \"True\", \"hoverlabel\": {\"namelength\": 0}, \"hovertemplate\": \"batting_team=%{x}<br>total_runs=%{y}\", \"legendgroup\": \"batting_team=Deccan Chargers\", \"marker\": {\"color\": \"#B6E880\"}, \"name\": \"batting_team=Deccan Chargers\", \"notched\": false, \"offsetgroup\": \"batting_team=Deccan Chargers\", \"orientation\": \"v\", \"showlegend\": true, \"type\": \"box\", \"x\": [\"Deccan Chargers\", \"Deccan Chargers\", \"Deccan Chargers\", \"Deccan Chargers\", \"Deccan Chargers\", \"Deccan Chargers\", \"Deccan Chargers\", \"Deccan Chargers\", \"Deccan Chargers\", \"Deccan Chargers\", \"Deccan Chargers\", \"Deccan Chargers\", \"Deccan Chargers\", \"Deccan Chargers\", \"Deccan Chargers\", \"Deccan Chargers\", \"Deccan Chargers\", \"Deccan Chargers\", \"Deccan Chargers\", \"Deccan Chargers\", \"Deccan Chargers\", \"Deccan Chargers\", \"Deccan Chargers\", \"Deccan Chargers\", \"Deccan Chargers\", \"Deccan Chargers\", \"Deccan Chargers\", \"Deccan Chargers\", \"Deccan Chargers\", \"Deccan Chargers\", \"Deccan Chargers\", \"Deccan Chargers\"], \"x0\": \" \", \"xaxis\": \"x\", \"y\": [155, 148, 181, 182, 153, 153, 104, 169, 100, 161, 166, 133, 158, 154, 150, 131, 157, 115, 157, 186, 139, 178, 104, 154, 135, 146, 149, 138, 119, 150, 145, 128], \"y0\": \" \", \"yaxis\": \"y\"}, {\"alignmentgroup\": \"True\", \"hoverlabel\": {\"namelength\": 0}, \"hovertemplate\": \"batting_team=%{x}<br>total_runs=%{y}\", \"legendgroup\": \"batting_team=Pune Warriors\", \"marker\": {\"color\": \"#FF97FF\"}, \"name\": \"batting_team=Pune Warriors\", \"notched\": false, \"offsetgroup\": \"batting_team=Pune Warriors\", \"orientation\": \"v\", \"showlegend\": true, \"type\": \"box\", \"x\": [\"Pune Warriors\", \"Pune Warriors\", \"Pune Warriors\", \"Pune Warriors\", \"Pune Warriors\", \"Pune Warriors\", \"Pune Warriors\", \"Pune Warriors\", \"Pune Warriors\", \"Pune Warriors\", \"Pune Warriors\", \"Pune Warriors\", \"Pune Warriors\", \"Pune Warriors\", \"Pune Warriors\", \"Pune Warriors\", \"Pune Warriors\", \"Pune Warriors\", \"Pune Warriors\", \"Pune Warriors\", \"Pune Warriors\", \"Pune Warriors\", \"Pune Warriors\", \"Pune Warriors\", \"Pune Warriors\"], \"x0\": \" \", \"xaxis\": \"x\", \"y\": [113, 151, 117, 155, 139, 120, 137, 156, 151, 159, 173, 119, 143, 138, 125, 102, 104, 148, 142, 108, 133, 149, 127, 170, 106], \"y0\": \" \", \"yaxis\": \"y\"}, {\"alignmentgroup\": \"True\", \"hoverlabel\": {\"namelength\": 0}, \"hovertemplate\": \"batting_team=%{x}<br>total_runs=%{y}\", \"legendgroup\": \"batting_team=Kochi Tuskers Kerala\", \"marker\": {\"color\": \"#FECB52\"}, \"name\": \"batting_team=Kochi Tuskers Kerala\", \"notched\": false, \"offsetgroup\": \"batting_team=Kochi Tuskers Kerala\", \"orientation\": \"v\", \"showlegend\": true, \"type\": \"box\", \"x\": [\"Kochi Tuskers Kerala\", \"Kochi Tuskers Kerala\", \"Kochi Tuskers Kerala\", \"Kochi Tuskers Kerala\", \"Kochi Tuskers Kerala\", \"Kochi Tuskers Kerala\", \"Kochi Tuskers Kerala\"], \"x0\": \" \", \"xaxis\": \"x\", \"y\": [184, 135, 74, 119, 141, 98, 141], \"y0\": \" \", \"yaxis\": \"y\"}, {\"alignmentgroup\": \"True\", \"hoverlabel\": {\"namelength\": 0}, \"hovertemplate\": \"batting_team=%{x}<br>total_runs=%{y}\", \"legendgroup\": \"batting_team=Sunrisers Hyderabad\", \"marker\": {\"color\": \"#636efa\"}, \"name\": \"batting_team=Sunrisers Hyderabad\", \"notched\": false, \"offsetgroup\": \"batting_team=Sunrisers Hyderabad\", \"orientation\": \"v\", \"showlegend\": true, \"type\": \"box\", \"x\": [\"Sunrisers Hyderabad\", \"Sunrisers Hyderabad\", \"Sunrisers Hyderabad\", \"Sunrisers Hyderabad\", \"Sunrisers Hyderabad\", \"Sunrisers Hyderabad\", \"Sunrisers Hyderabad\", \"Sunrisers Hyderabad\", \"Sunrisers Hyderabad\", \"Sunrisers Hyderabad\", \"Sunrisers Hyderabad\", \"Sunrisers Hyderabad\", \"Sunrisers Hyderabad\", \"Sunrisers Hyderabad\", \"Sunrisers Hyderabad\", \"Sunrisers Hyderabad\", \"Sunrisers Hyderabad\", \"Sunrisers Hyderabad\", \"Sunrisers Hyderabad\", \"Sunrisers Hyderabad\", \"Sunrisers Hyderabad\", \"Sunrisers Hyderabad\", \"Sunrisers Hyderabad\", \"Sunrisers Hyderabad\", \"Sunrisers Hyderabad\", \"Sunrisers Hyderabad\", \"Sunrisers Hyderabad\", \"Sunrisers Hyderabad\", \"Sunrisers Hyderabad\", \"Sunrisers Hyderabad\", \"Sunrisers Hyderabad\", \"Sunrisers Hyderabad\", \"Sunrisers Hyderabad\", \"Sunrisers Hyderabad\", \"Sunrisers Hyderabad\", \"Sunrisers Hyderabad\", \"Sunrisers Hyderabad\", \"Sunrisers Hyderabad\", \"Sunrisers Hyderabad\", \"Sunrisers Hyderabad\", \"Sunrisers Hyderabad\", \"Sunrisers Hyderabad\", \"Sunrisers Hyderabad\", \"Sunrisers Hyderabad\", \"Sunrisers Hyderabad\", \"Sunrisers Hyderabad\", \"Sunrisers Hyderabad\", \"Sunrisers Hyderabad\", \"Sunrisers Hyderabad\", \"Sunrisers Hyderabad\", \"Sunrisers Hyderabad\", \"Sunrisers Hyderabad\", \"Sunrisers Hyderabad\", \"Sunrisers Hyderabad\", \"Sunrisers Hyderabad\"], \"x0\": \" \", \"xaxis\": \"x\", \"y\": [130, 115, 132, 127, 130, 81, 146, 132, 121, 44, 161, 189, 164, 172, 163, 137, 132, 182, 145, 137, 146, 129, 180, 149, 163, 140, 155, 136, 140, 158, 127, 151, 139, 178, 178, 164, 191, 204, 201, 131, 96, 116, 137, 161, 162, 151, 114, 121, 163, 156, 147, 153, 174, 132, 172], \"y0\": \" \", \"yaxis\": \"y\"}, {\"alignmentgroup\": \"True\", \"hoverlabel\": {\"namelength\": 0}, \"hovertemplate\": \"batting_team=%{x}<br>total_runs=%{y}\", \"legendgroup\": \"batting_team=Rising Pune Supergiants\", \"marker\": {\"color\": \"#EF553B\"}, \"name\": \"batting_team=Rising Pune Supergiants\", \"notched\": false, \"offsetgroup\": \"batting_team=Rising Pune Supergiants\", \"orientation\": \"v\", \"showlegend\": true, \"type\": \"box\", \"x\": [\"Rising Pune Supergiants\", \"Rising Pune Supergiants\", \"Rising Pune Supergiants\", \"Rising Pune Supergiants\", \"Rising Pune Supergiants\", \"Rising Pune Supergiants\", \"Rising Pune Supergiants\"], \"x0\": \" \", \"xaxis\": \"x\", \"y\": [126, 172, 94, 166, 133, 76, 173], \"y0\": \" \", \"yaxis\": \"y\"}, {\"alignmentgroup\": \"True\", \"hoverlabel\": {\"namelength\": 0}, \"hovertemplate\": \"batting_team=%{x}<br>total_runs=%{y}\", \"legendgroup\": \"batting_team=Gujarat Lions\", \"marker\": {\"color\": \"#00cc96\"}, \"name\": \"batting_team=Gujarat Lions\", \"notched\": false, \"offsetgroup\": \"batting_team=Gujarat Lions\", \"orientation\": \"v\", \"showlegend\": true, \"type\": \"box\", \"x\": [\"Gujarat Lions\", \"Gujarat Lions\", \"Gujarat Lions\", \"Gujarat Lions\", \"Gujarat Lions\", \"Gujarat Lions\", \"Gujarat Lions\", \"Gujarat Lions\", \"Gujarat Lions\", \"Gujarat Lions\", \"Gujarat Lions\", \"Gujarat Lions\", \"Gujarat Lions\", \"Gujarat Lions\", \"Gujarat Lions\", \"Gujarat Lions\"], \"x0\": \" \", \"xaxis\": \"x\", \"y\": [162, 164, 147, 182, 196, 131, 164, 104, 125, 173, 172, 192, 188, 162, 135, 192], \"y0\": \" \", \"yaxis\": \"y\"}, {\"alignmentgroup\": \"True\", \"hoverlabel\": {\"namelength\": 0}, \"hovertemplate\": \"batting_team=%{x}<br>total_runs=%{y}\", \"legendgroup\": \"batting_team=Rising Pune Supergiant\", \"marker\": {\"color\": \"#ab63fa\"}, \"name\": \"batting_team=Rising Pune Supergiant\", \"notched\": false, \"offsetgroup\": \"batting_team=Rising Pune Supergiant\", \"orientation\": \"v\", \"showlegend\": true, \"type\": \"box\", \"x\": [\"Rising Pune Supergiant\", \"Rising Pune Supergiant\", \"Rising Pune Supergiant\", \"Rising Pune Supergiant\", \"Rising Pune Supergiant\", \"Rising Pune Supergiant\", \"Rising Pune Supergiant\", \"Rising Pune Supergiant\"], \"x0\": \" \", \"xaxis\": \"x\", \"y\": [187, 108, 179, 167, 158, 161, 78, 128], \"y0\": \" \", \"yaxis\": \"y\"}, {\"alignmentgroup\": \"True\", \"hoverlabel\": {\"namelength\": 0}, \"hovertemplate\": \"batting_team=%{x}<br>total_runs=%{y}\", \"legendgroup\": \"batting_team=Delhi Capitals\", \"marker\": {\"color\": \"#FFA15A\"}, \"name\": \"batting_team=Delhi Capitals\", \"notched\": false, \"offsetgroup\": \"batting_team=Delhi Capitals\", \"orientation\": \"v\", \"showlegend\": true, \"type\": \"box\", \"x\": [\"Delhi Capitals\", \"Delhi Capitals\", \"Delhi Capitals\", \"Delhi Capitals\", \"Delhi Capitals\", \"Delhi Capitals\", \"Delhi Capitals\", \"Delhi Capitals\", \"Delhi Capitals\", \"Delhi Capitals\", \"Delhi Capitals\", \"Delhi Capitals\", \"Delhi Capitals\", \"Delhi Capitals\", \"Delhi Capitals\", \"Delhi Capitals\"], \"x0\": \" \", \"xaxis\": \"x\", \"y\": [185, 152, 152, 180, 128, 166, 193, 99, 121, 165, 135, 154, 185, 131, 147, 143], \"y0\": \" \", \"yaxis\": \"y\"}],\n",
              "                        {\"boxmode\": \"group\", \"legend\": {\"tracegroupgap\": 0}, \"margin\": {\"t\": 60}, \"template\": {\"data\": {\"bar\": [{\"error_x\": {\"color\": \"rgb(36,36,36)\"}, \"error_y\": {\"color\": \"rgb(36,36,36)\"}, \"marker\": {\"line\": {\"color\": \"white\", \"width\": 0.5}}, \"type\": \"bar\"}], \"barpolar\": [{\"marker\": {\"line\": {\"color\": \"white\", \"width\": 0.5}}, \"type\": \"barpolar\"}], \"carpet\": [{\"aaxis\": {\"endlinecolor\": \"rgb(36,36,36)\", \"gridcolor\": \"white\", \"linecolor\": \"white\", \"minorgridcolor\": \"white\", \"startlinecolor\": \"rgb(36,36,36)\"}, \"baxis\": {\"endlinecolor\": \"rgb(36,36,36)\", \"gridcolor\": \"white\", \"linecolor\": \"white\", \"minorgridcolor\": \"white\", \"startlinecolor\": \"rgb(36,36,36)\"}, \"type\": \"carpet\"}], \"choropleth\": [{\"colorbar\": {\"outlinewidth\": 10, \"tickcolor\": \"rgb(36,36,36)\", \"ticklen\": 8, \"ticks\": \"outside\", \"tickwidth\": 2}, \"type\": \"choropleth\"}], \"contour\": [{\"colorbar\": {\"outlinewidth\": 10, \"tickcolor\": \"rgb(36,36,36)\", \"ticklen\": 8, \"ticks\": \"outside\", \"tickwidth\": 2}, \"colorscale\": [[0.0, \"#440154\"], [0.1111111111111111, \"#482878\"], [0.2222222222222222, \"#3e4989\"], [0.3333333333333333, \"#31688e\"], [0.4444444444444444, \"#26828e\"], [0.5555555555555556, \"#1f9e89\"], [0.6666666666666666, \"#35b779\"], [0.7777777777777778, \"#6ece58\"], [0.8888888888888888, \"#b5de2b\"], [1.0, \"#fde725\"]], \"type\": \"contour\"}], \"contourcarpet\": [{\"colorbar\": {\"outlinewidth\": 10, \"tickcolor\": \"rgb(36,36,36)\", \"ticklen\": 8, \"ticks\": \"outside\", \"tickwidth\": 2}, \"type\": \"contourcarpet\"}], \"heatmap\": [{\"colorbar\": {\"outlinewidth\": 10, \"tickcolor\": \"rgb(36,36,36)\", \"ticklen\": 8, \"ticks\": \"outside\", \"tickwidth\": 2}, \"colorscale\": [[0.0, \"#440154\"], [0.1111111111111111, \"#482878\"], [0.2222222222222222, \"#3e4989\"], [0.3333333333333333, \"#31688e\"], [0.4444444444444444, \"#26828e\"], [0.5555555555555556, \"#1f9e89\"], [0.6666666666666666, \"#35b779\"], [0.7777777777777778, \"#6ece58\"], [0.8888888888888888, \"#b5de2b\"], [1.0, \"#fde725\"]], \"type\": \"heatmap\"}], \"heatmapgl\": [{\"colorbar\": {\"outlinewidth\": 10, \"tickcolor\": \"rgb(36,36,36)\", \"ticklen\": 8, \"ticks\": \"outside\", \"tickwidth\": 2}, \"colorscale\": [[0.0, \"#440154\"], [0.1111111111111111, \"#482878\"], [0.2222222222222222, \"#3e4989\"], [0.3333333333333333, \"#31688e\"], [0.4444444444444444, \"#26828e\"], [0.5555555555555556, \"#1f9e89\"], [0.6666666666666666, \"#35b779\"], [0.7777777777777778, \"#6ece58\"], [0.8888888888888888, \"#b5de2b\"], [1.0, \"#fde725\"]], \"type\": \"heatmapgl\"}], \"histogram\": [{\"marker\": {\"line\": {\"color\": \"white\", \"width\": 0.6}}, \"type\": \"histogram\"}], \"histogram2d\": [{\"colorbar\": {\"outlinewidth\": 10, \"tickcolor\": \"rgb(36,36,36)\", \"ticklen\": 8, \"ticks\": \"outside\", \"tickwidth\": 2}, \"colorscale\": [[0.0, \"#440154\"], [0.1111111111111111, \"#482878\"], [0.2222222222222222, \"#3e4989\"], [0.3333333333333333, \"#31688e\"], [0.4444444444444444, \"#26828e\"], [0.5555555555555556, \"#1f9e89\"], [0.6666666666666666, \"#35b779\"], [0.7777777777777778, \"#6ece58\"], [0.8888888888888888, \"#b5de2b\"], [1.0, \"#fde725\"]], \"type\": \"histogram2d\"}], \"histogram2dcontour\": [{\"colorbar\": {\"outlinewidth\": 10, \"tickcolor\": \"rgb(36,36,36)\", \"ticklen\": 8, \"ticks\": \"outside\", \"tickwidth\": 2}, \"colorscale\": [[0.0, \"#440154\"], [0.1111111111111111, \"#482878\"], [0.2222222222222222, \"#3e4989\"], [0.3333333333333333, \"#31688e\"], [0.4444444444444444, \"#26828e\"], [0.5555555555555556, \"#1f9e89\"], [0.6666666666666666, \"#35b779\"], [0.7777777777777778, \"#6ece58\"], [0.8888888888888888, \"#b5de2b\"], [1.0, \"#fde725\"]], \"type\": \"histogram2dcontour\"}], \"mesh3d\": [{\"colorbar\": {\"outlinewidth\": 10, \"tickcolor\": \"rgb(36,36,36)\", \"ticklen\": 8, \"ticks\": \"outside\", \"tickwidth\": 2}, \"type\": \"mesh3d\"}], \"parcoords\": [{\"line\": {\"colorbar\": {\"outlinewidth\": 10, \"tickcolor\": \"rgb(36,36,36)\", \"ticklen\": 8, \"ticks\": \"outside\", \"tickwidth\": 2}}, \"type\": \"parcoords\"}], \"pie\": [{\"automargin\": true, \"type\": \"pie\"}], \"scatter\": [{\"marker\": {\"colorbar\": {\"outlinewidth\": 10, \"tickcolor\": \"rgb(36,36,36)\", \"ticklen\": 8, \"ticks\": \"outside\", \"tickwidth\": 2}}, \"type\": \"scatter\"}], \"scatter3d\": [{\"line\": {\"colorbar\": {\"outlinewidth\": 10, \"tickcolor\": \"rgb(36,36,36)\", \"ticklen\": 8, \"ticks\": \"outside\", \"tickwidth\": 2}}, \"marker\": {\"colorbar\": {\"outlinewidth\": 10, \"tickcolor\": \"rgb(36,36,36)\", \"ticklen\": 8, \"ticks\": \"outside\", \"tickwidth\": 2}}, \"type\": \"scatter3d\"}], \"scattercarpet\": [{\"marker\": {\"colorbar\": {\"outlinewidth\": 10, \"tickcolor\": \"rgb(36,36,36)\", \"ticklen\": 8, \"ticks\": \"outside\", \"tickwidth\": 2}}, \"type\": \"scattercarpet\"}], \"scattergeo\": [{\"marker\": {\"colorbar\": {\"outlinewidth\": 10, \"tickcolor\": \"rgb(36,36,36)\", \"ticklen\": 8, \"ticks\": \"outside\", \"tickwidth\": 2}}, \"type\": \"scattergeo\"}], \"scattergl\": [{\"marker\": {\"colorbar\": {\"outlinewidth\": 10, \"tickcolor\": \"rgb(36,36,36)\", \"ticklen\": 8, \"ticks\": \"outside\", \"tickwidth\": 2}}, \"type\": \"scattergl\"}], \"scattermapbox\": [{\"marker\": {\"colorbar\": {\"outlinewidth\": 10, \"tickcolor\": \"rgb(36,36,36)\", \"ticklen\": 8, \"ticks\": \"outside\", \"tickwidth\": 2}}, \"type\": \"scattermapbox\"}], \"scatterpolar\": [{\"marker\": {\"colorbar\": {\"outlinewidth\": 10, \"tickcolor\": \"rgb(36,36,36)\", \"ticklen\": 8, \"ticks\": \"outside\", \"tickwidth\": 2}}, \"type\": \"scatterpolar\"}], \"scatterpolargl\": [{\"marker\": {\"colorbar\": {\"outlinewidth\": 10, \"tickcolor\": \"rgb(36,36,36)\", \"ticklen\": 8, \"ticks\": \"outside\", \"tickwidth\": 2}}, \"type\": \"scatterpolargl\"}], \"scatterternary\": [{\"marker\": {\"colorbar\": {\"outlinewidth\": 10, \"tickcolor\": \"rgb(36,36,36)\", \"ticklen\": 8, \"ticks\": \"outside\", \"tickwidth\": 2}}, \"type\": \"scatterternary\"}], \"surface\": [{\"colorbar\": {\"outlinewidth\": 10, \"tickcolor\": \"rgb(36,36,36)\", \"ticklen\": 8, \"ticks\": \"outside\", \"tickwidth\": 2}, \"colorscale\": [[0.0, \"#440154\"], [0.1111111111111111, \"#482878\"], [0.2222222222222222, \"#3e4989\"], [0.3333333333333333, \"#31688e\"], [0.4444444444444444, \"#26828e\"], [0.5555555555555556, \"#1f9e89\"], [0.6666666666666666, \"#35b779\"], [0.7777777777777778, \"#6ece58\"], [0.8888888888888888, \"#b5de2b\"], [1.0, \"#fde725\"]], \"type\": \"surface\"}], \"table\": [{\"cells\": {\"fill\": {\"color\": \"rgb(237,237,237)\"}, \"line\": {\"color\": \"white\"}}, \"header\": {\"fill\": {\"color\": \"rgb(217,217,217)\"}, \"line\": {\"color\": \"white\"}}, \"type\": \"table\"}]}, \"layout\": {\"annotationdefaults\": {\"arrowhead\": 0, \"arrowwidth\": 1}, \"coloraxis\": {\"colorbar\": {\"outlinewidth\": 10, \"tickcolor\": \"rgb(36,36,36)\", \"ticklen\": 8, \"ticks\": \"outside\", \"tickwidth\": 2}}, \"colorscale\": {\"diverging\": [[0.0, \"rgb(103,0,31)\"], [0.1, \"rgb(178,24,43)\"], [0.2, \"rgb(214,96,77)\"], [0.3, \"rgb(244,165,130)\"], [0.4, \"rgb(253,219,199)\"], [0.5, \"rgb(247,247,247)\"], [0.6, \"rgb(209,229,240)\"], [0.7, \"rgb(146,197,222)\"], [0.8, \"rgb(67,147,195)\"], [0.9, \"rgb(33,102,172)\"], [1.0, \"rgb(5,48,97)\"]], \"sequential\": [[0.0, \"#440154\"], [0.1111111111111111, \"#482878\"], [0.2222222222222222, \"#3e4989\"], [0.3333333333333333, \"#31688e\"], [0.4444444444444444, \"#26828e\"], [0.5555555555555556, \"#1f9e89\"], [0.6666666666666666, \"#35b779\"], [0.7777777777777778, \"#6ece58\"], [0.8888888888888888, \"#b5de2b\"], [1.0, \"#fde725\"]], \"sequentialminus\": [[0.0, \"#440154\"], [0.1111111111111111, \"#482878\"], [0.2222222222222222, \"#3e4989\"], [0.3333333333333333, \"#31688e\"], [0.4444444444444444, \"#26828e\"], [0.5555555555555556, \"#1f9e89\"], [0.6666666666666666, \"#35b779\"], [0.7777777777777778, \"#6ece58\"], [0.8888888888888888, \"#b5de2b\"], [1.0, \"#fde725\"]]}, \"colorway\": [\"#1F77B4\", \"#FF7F0E\", \"#2CA02C\", \"#D62728\", \"#9467BD\", \"#8C564B\", \"#E377C2\", \"#7F7F7F\", \"#BCBD22\", \"#17BECF\"], \"font\": {\"color\": \"rgb(36,36,36)\"}, \"geo\": {\"bgcolor\": \"white\", \"lakecolor\": \"white\", \"landcolor\": \"white\", \"showlakes\": true, \"showland\": true, \"subunitcolor\": \"white\"}, \"hoverlabel\": {\"align\": \"left\"}, \"hovermode\": \"closest\", \"mapbox\": {\"style\": \"light\"}, \"paper_bgcolor\": \"white\", \"plot_bgcolor\": \"white\", \"polar\": {\"angularaxis\": {\"gridcolor\": \"rgb(232,232,232)\", \"linecolor\": \"rgb(36,36,36)\", \"showgrid\": false, \"showline\": true, \"ticks\": \"outside\"}, \"bgcolor\": \"white\", \"radialaxis\": {\"gridcolor\": \"rgb(232,232,232)\", \"linecolor\": \"rgb(36,36,36)\", \"showgrid\": false, \"showline\": true, \"ticks\": \"outside\"}}, \"scene\": {\"xaxis\": {\"backgroundcolor\": \"white\", \"gridcolor\": \"rgb(232,232,232)\", \"gridwidth\": 2, \"linecolor\": \"rgb(36,36,36)\", \"showbackground\": true, \"showgrid\": false, \"showline\": true, \"ticks\": \"outside\", \"zeroline\": false, \"zerolinecolor\": \"rgb(36,36,36)\"}, \"yaxis\": {\"backgroundcolor\": \"white\", \"gridcolor\": \"rgb(232,232,232)\", \"gridwidth\": 2, \"linecolor\": \"rgb(36,36,36)\", \"showbackground\": true, \"showgrid\": false, \"showline\": true, \"ticks\": \"outside\", \"zeroline\": false, \"zerolinecolor\": \"rgb(36,36,36)\"}, \"zaxis\": {\"backgroundcolor\": \"white\", \"gridcolor\": \"rgb(232,232,232)\", \"gridwidth\": 2, \"linecolor\": \"rgb(36,36,36)\", \"showbackground\": true, \"showgrid\": false, \"showline\": true, \"ticks\": \"outside\", \"zeroline\": false, \"zerolinecolor\": \"rgb(36,36,36)\"}}, \"shapedefaults\": {\"fillcolor\": \"black\", \"line\": {\"width\": 0}, \"opacity\": 0.3}, \"ternary\": {\"aaxis\": {\"gridcolor\": \"rgb(232,232,232)\", \"linecolor\": \"rgb(36,36,36)\", \"showgrid\": false, \"showline\": true, \"ticks\": \"outside\"}, \"baxis\": {\"gridcolor\": \"rgb(232,232,232)\", \"linecolor\": \"rgb(36,36,36)\", \"showgrid\": false, \"showline\": true, \"ticks\": \"outside\"}, \"bgcolor\": \"white\", \"caxis\": {\"gridcolor\": \"rgb(232,232,232)\", \"linecolor\": \"rgb(36,36,36)\", \"showgrid\": false, \"showline\": true, \"ticks\": \"outside\"}}, \"title\": {\"x\": 0.05}, \"xaxis\": {\"automargin\": true, \"gridcolor\": \"rgb(232,232,232)\", \"linecolor\": \"rgb(36,36,36)\", \"showgrid\": false, \"showline\": true, \"ticks\": \"outside\", \"title\": {\"standoff\": 15}, \"zeroline\": false, \"zerolinecolor\": \"rgb(36,36,36)\"}, \"yaxis\": {\"automargin\": true, \"gridcolor\": \"rgb(232,232,232)\", \"linecolor\": \"rgb(36,36,36)\", \"showgrid\": false, \"showline\": true, \"ticks\": \"outside\", \"title\": {\"standoff\": 15}, \"zeroline\": false, \"zerolinecolor\": \"rgb(36,36,36)\"}}}, \"title\": {\"font\": {\"size\": 26}, \"text\": \"Batting Second\"}, \"xaxis\": {\"anchor\": \"y\", \"categoryarray\": [\"Royal Challengers Bangalore\", \"Kings XI Punjab\", \"Delhi Daredevils\", \"Kolkata Knight Riders\", \"Rajasthan Royals\", \"Mumbai Indians\", \"Chennai Super Kings\", \"Deccan Chargers\", \"Pune Warriors\", \"Kochi Tuskers Kerala\", \"Sunrisers Hyderabad\", \"Rising Pune Supergiants\", \"Gujarat Lions\", \"Rising Pune Supergiant\", \"Delhi Capitals\"], \"categoryorder\": \"array\", \"domain\": [0.0, 1.0], \"title\": {\"text\": \"batting_team\"}}, \"yaxis\": {\"anchor\": \"x\", \"domain\": [0.0, 1.0], \"title\": {\"text\": \"total_runs\"}}},\n",
              "                        {\"responsive\": true}\n",
              "                    ).then(function(){\n",
              "                            \n",
              "var gd = document.getElementById('d5b7ef7f-c3cb-4dc1-8f4c-d1d5ad89c41e');\n",
              "var x = new MutationObserver(function (mutations, observer) {{\n",
              "        var display = window.getComputedStyle(gd).display;\n",
              "        if (!display || display === 'none') {{\n",
              "            console.log([gd, 'removed!']);\n",
              "            Plotly.purge(gd);\n",
              "            observer.disconnect();\n",
              "        }}\n",
              "}});\n",
              "\n",
              "// Listen for the removal of the full notebook cells\n",
              "var notebookContainer = gd.closest('#notebook-container');\n",
              "if (notebookContainer) {{\n",
              "    x.observe(notebookContainer, {childList: true});\n",
              "}}\n",
              "\n",
              "// Listen for the clearing of the current output cell\n",
              "var outputEl = gd.closest('.output');\n",
              "if (outputEl) {{\n",
              "    x.observe(outputEl, {childList: true});\n",
              "}}\n",
              "\n",
              "                        })\n",
              "                };\n",
              "                \n",
              "            </script>\n",
              "        </div>\n",
              "</body>\n",
              "</html>"
            ]
          },
          "metadata": {}
        }
      ]
    },
    {
      "cell_type": "markdown",
      "metadata": {
        "papermill": {
          "duration": 0.15729,
          "end_time": "2021-06-04T22:21:54.230778",
          "exception": false,
          "start_time": "2021-06-04T22:21:54.073488",
          "status": "completed"
        },
        "tags": [],
        "id": "pjRLcRF9i33N"
      },
      "source": [
        "<small><a href='#0'>Go to top</a></small>  "
      ]
    },
    {
      "cell_type": "markdown",
      "metadata": {
        "papermill": {
          "duration": 0.155717,
          "end_time": "2021-06-04T22:21:54.542148",
          "exception": false,
          "start_time": "2021-06-04T22:21:54.386431",
          "status": "completed"
        },
        "tags": [],
        "id": "VB5A1oM0i33N"
      },
      "source": [
        "<a id=\"18\">\n",
        "<h1 style = \"font-family: Snell Roundhand;font-weight: 500;font-size: 30px; font-style: normal; background-color: #FFFB30; color :black;\">18) Scored 200+ runs :</h1>\n"
      ]
    },
    {
      "cell_type": "code",
      "metadata": {
        "_kg_hide-input": true,
        "_kg_hide-output": true,
        "execution": {
          "iopub.execute_input": "2021-06-04T22:21:54.872732Z",
          "iopub.status.busy": "2021-06-04T22:21:54.871709Z",
          "iopub.status.idle": "2021-06-04T22:21:54.941970Z",
          "shell.execute_reply": "2021-06-04T22:21:54.942528Z",
          "shell.execute_reply.started": "2021-06-04T22:20:32.063564Z"
        },
        "papermill": {
          "duration": 0.234775,
          "end_time": "2021-06-04T22:21:54.942747",
          "exception": false,
          "start_time": "2021-06-04T22:21:54.707972",
          "status": "completed"
        },
        "tags": [],
        "colab": {
          "base_uri": "https://localhost:8080/",
          "height": 206
        },
        "id": "dn66sMw0i33N",
        "outputId": "b95ff0af-fa9d-450f-9873-3e2058657b87"
      },
      "source": [
        "high_scores=deliveries_data.groupby(['id', 'inning','batting_team','bowling_team'])['total_runs'].sum().reset_index() \n",
        "score_200=high_scores[high_scores['total_runs']>=200]\n",
        "score_200.head(5)"
      ],
      "execution_count": 52,
      "outputs": [
        {
          "output_type": "execute_result",
          "data": {
            "text/html": [
              "<div>\n",
              "<style scoped>\n",
              "    .dataframe tbody tr th:only-of-type {\n",
              "        vertical-align: middle;\n",
              "    }\n",
              "\n",
              "    .dataframe tbody tr th {\n",
              "        vertical-align: top;\n",
              "    }\n",
              "\n",
              "    .dataframe thead th {\n",
              "        text-align: right;\n",
              "    }\n",
              "</style>\n",
              "<table border=\"1\" class=\"dataframe\">\n",
              "  <thead>\n",
              "    <tr style=\"text-align: right;\">\n",
              "      <th></th>\n",
              "      <th>id</th>\n",
              "      <th>inning</th>\n",
              "      <th>batting_team</th>\n",
              "      <th>bowling_team</th>\n",
              "      <th>total_runs</th>\n",
              "    </tr>\n",
              "  </thead>\n",
              "  <tbody>\n",
              "    <tr>\n",
              "      <th>0</th>\n",
              "      <td>335982</td>\n",
              "      <td>1</td>\n",
              "      <td>Kolkata Knight Riders</td>\n",
              "      <td>Royal Challengers Bangalore</td>\n",
              "      <td>222</td>\n",
              "    </tr>\n",
              "    <tr>\n",
              "      <th>2</th>\n",
              "      <td>335983</td>\n",
              "      <td>1</td>\n",
              "      <td>Chennai Super Kings</td>\n",
              "      <td>Kings XI Punjab</td>\n",
              "      <td>240</td>\n",
              "    </tr>\n",
              "    <tr>\n",
              "      <th>3</th>\n",
              "      <td>335983</td>\n",
              "      <td>2</td>\n",
              "      <td>Kings XI Punjab</td>\n",
              "      <td>Chennai Super Kings</td>\n",
              "      <td>207</td>\n",
              "    </tr>\n",
              "    <tr>\n",
              "      <th>14</th>\n",
              "      <td>335989</td>\n",
              "      <td>1</td>\n",
              "      <td>Chennai Super Kings</td>\n",
              "      <td>Mumbai Indians</td>\n",
              "      <td>208</td>\n",
              "    </tr>\n",
              "    <tr>\n",
              "      <th>15</th>\n",
              "      <td>335989</td>\n",
              "      <td>2</td>\n",
              "      <td>Mumbai Indians</td>\n",
              "      <td>Chennai Super Kings</td>\n",
              "      <td>202</td>\n",
              "    </tr>\n",
              "  </tbody>\n",
              "</table>\n",
              "</div>"
            ],
            "text/plain": [
              "        id  inning  ...                 bowling_team total_runs\n",
              "0   335982       1  ...  Royal Challengers Bangalore        222\n",
              "2   335983       1  ...              Kings XI Punjab        240\n",
              "3   335983       2  ...          Chennai Super Kings        207\n",
              "14  335989       1  ...               Mumbai Indians        208\n",
              "15  335989       2  ...          Chennai Super Kings        202\n",
              "\n",
              "[5 rows x 5 columns]"
            ]
          },
          "metadata": {},
          "execution_count": 52
        }
      ]
    },
    {
      "cell_type": "code",
      "metadata": {
        "_kg_hide-input": true,
        "_kg_hide-output": true,
        "execution": {
          "iopub.execute_input": "2021-06-04T22:21:55.283848Z",
          "iopub.status.busy": "2021-06-04T22:21:55.282905Z",
          "iopub.status.idle": "2021-06-04T22:21:55.287376Z",
          "shell.execute_reply": "2021-06-04T22:21:55.286721Z",
          "shell.execute_reply.started": "2021-06-04T22:20:33.337234Z"
        },
        "papermill": {
          "duration": 0.175878,
          "end_time": "2021-06-04T22:21:55.287528",
          "exception": false,
          "start_time": "2021-06-04T22:21:55.111650",
          "status": "completed"
        },
        "tags": [],
        "colab": {
          "base_uri": "https://localhost:8080/",
          "height": 275
        },
        "id": "cL1k44aEi33N",
        "outputId": "db4d10d9-34d6-4606-836c-876f75164e39"
      },
      "source": [
        "x1=score_200['batting_team'].value_counts()\n",
        "x1=pd.DataFrame(x1)\n",
        "x1.style.background_gradient(cmap='PuBu')"
      ],
      "execution_count": 53,
      "outputs": [
        {
          "output_type": "execute_result",
          "data": {
            "text/html": [
              "<style  type=\"text/css\" >\n",
              "#T_b70db814_1651_11ec_8baf_0242ac1c0002row0_col0{\n",
              "            background-color:  #023858;\n",
              "            color:  #f1f1f1;\n",
              "        }#T_b70db814_1651_11ec_8baf_0242ac1c0002row1_col0{\n",
              "            background-color:  #034871;\n",
              "            color:  #f1f1f1;\n",
              "        }#T_b70db814_1651_11ec_8baf_0242ac1c0002row2_col0,#T_b70db814_1651_11ec_8baf_0242ac1c0002row3_col0{\n",
              "            background-color:  #056dac;\n",
              "            color:  #f1f1f1;\n",
              "        }#T_b70db814_1651_11ec_8baf_0242ac1c0002row4_col0,#T_b70db814_1651_11ec_8baf_0242ac1c0002row5_col0{\n",
              "            background-color:  #2d8abd;\n",
              "            color:  #000000;\n",
              "        }#T_b70db814_1651_11ec_8baf_0242ac1c0002row6_col0{\n",
              "            background-color:  #80aed2;\n",
              "            color:  #000000;\n",
              "        }#T_b70db814_1651_11ec_8baf_0242ac1c0002row7_col0{\n",
              "            background-color:  #d3d4e7;\n",
              "            color:  #000000;\n",
              "        }#T_b70db814_1651_11ec_8baf_0242ac1c0002row8_col0{\n",
              "            background-color:  #f6eff7;\n",
              "            color:  #000000;\n",
              "        }#T_b70db814_1651_11ec_8baf_0242ac1c0002row9_col0,#T_b70db814_1651_11ec_8baf_0242ac1c0002row10_col0{\n",
              "            background-color:  #fff7fb;\n",
              "            color:  #000000;\n",
              "        }</style><table id=\"T_b70db814_1651_11ec_8baf_0242ac1c0002\" ><thead>    <tr>        <th class=\"blank level0\" ></th>        <th class=\"col_heading level0 col0\" >batting_team</th>    </tr></thead><tbody>\n",
              "                <tr>\n",
              "                        <th id=\"T_b70db814_1651_11ec_8baf_0242ac1c0002level0_row0\" class=\"row_heading level0 row0\" >Royal Challengers Bangalore</th>\n",
              "                        <td id=\"T_b70db814_1651_11ec_8baf_0242ac1c0002row0_col0\" class=\"data row0 col0\" >18</td>\n",
              "            </tr>\n",
              "            <tr>\n",
              "                        <th id=\"T_b70db814_1651_11ec_8baf_0242ac1c0002level0_row1\" class=\"row_heading level0 row1\" >Chennai Super Kings</th>\n",
              "                        <td id=\"T_b70db814_1651_11ec_8baf_0242ac1c0002row1_col0\" class=\"data row1 col0\" >17</td>\n",
              "            </tr>\n",
              "            <tr>\n",
              "                        <th id=\"T_b70db814_1651_11ec_8baf_0242ac1c0002level0_row2\" class=\"row_heading level0 row2\" >Mumbai Indians</th>\n",
              "                        <td id=\"T_b70db814_1651_11ec_8baf_0242ac1c0002row2_col0\" class=\"data row2 col0\" >14</td>\n",
              "            </tr>\n",
              "            <tr>\n",
              "                        <th id=\"T_b70db814_1651_11ec_8baf_0242ac1c0002level0_row3\" class=\"row_heading level0 row3\" >Kings XI Punjab</th>\n",
              "                        <td id=\"T_b70db814_1651_11ec_8baf_0242ac1c0002row3_col0\" class=\"data row3 col0\" >14</td>\n",
              "            </tr>\n",
              "            <tr>\n",
              "                        <th id=\"T_b70db814_1651_11ec_8baf_0242ac1c0002level0_row4\" class=\"row_heading level0 row4\" >Kolkata Knight Riders</th>\n",
              "                        <td id=\"T_b70db814_1651_11ec_8baf_0242ac1c0002row4_col0\" class=\"data row4 col0\" >12</td>\n",
              "            </tr>\n",
              "            <tr>\n",
              "                        <th id=\"T_b70db814_1651_11ec_8baf_0242ac1c0002level0_row5\" class=\"row_heading level0 row5\" >Sunrisers Hyderabad</th>\n",
              "                        <td id=\"T_b70db814_1651_11ec_8baf_0242ac1c0002row5_col0\" class=\"data row5 col0\" >12</td>\n",
              "            </tr>\n",
              "            <tr>\n",
              "                        <th id=\"T_b70db814_1651_11ec_8baf_0242ac1c0002level0_row6\" class=\"row_heading level0 row6\" >Rajasthan Royals</th>\n",
              "                        <td id=\"T_b70db814_1651_11ec_8baf_0242ac1c0002row6_col0\" class=\"data row6 col0\" >9</td>\n",
              "            </tr>\n",
              "            <tr>\n",
              "                        <th id=\"T_b70db814_1651_11ec_8baf_0242ac1c0002level0_row7\" class=\"row_heading level0 row7\" >Delhi Daredevils</th>\n",
              "                        <td id=\"T_b70db814_1651_11ec_8baf_0242ac1c0002row7_col0\" class=\"data row7 col0\" >5</td>\n",
              "            </tr>\n",
              "            <tr>\n",
              "                        <th id=\"T_b70db814_1651_11ec_8baf_0242ac1c0002level0_row8\" class=\"row_heading level0 row8\" >Delhi Capitals</th>\n",
              "                        <td id=\"T_b70db814_1651_11ec_8baf_0242ac1c0002row8_col0\" class=\"data row8 col0\" >2</td>\n",
              "            </tr>\n",
              "            <tr>\n",
              "                        <th id=\"T_b70db814_1651_11ec_8baf_0242ac1c0002level0_row9\" class=\"row_heading level0 row9\" >Gujarat Lions</th>\n",
              "                        <td id=\"T_b70db814_1651_11ec_8baf_0242ac1c0002row9_col0\" class=\"data row9 col0\" >1</td>\n",
              "            </tr>\n",
              "            <tr>\n",
              "                        <th id=\"T_b70db814_1651_11ec_8baf_0242ac1c0002level0_row10\" class=\"row_heading level0 row10\" >Deccan Chargers</th>\n",
              "                        <td id=\"T_b70db814_1651_11ec_8baf_0242ac1c0002row10_col0\" class=\"data row10 col0\" >1</td>\n",
              "            </tr>\n",
              "    </tbody></table>"
            ],
            "text/plain": [
              "<pandas.io.formats.style.Styler at 0x7feeb8ba8a90>"
            ]
          },
          "metadata": {},
          "execution_count": 53
        }
      ]
    },
    {
      "cell_type": "code",
      "metadata": {
        "_kg_hide-input": true,
        "execution": {
          "iopub.execute_input": "2021-06-04T22:21:55.624955Z",
          "iopub.status.busy": "2021-06-04T22:21:55.620764Z",
          "iopub.status.idle": "2021-06-04T22:21:55.729018Z",
          "shell.execute_reply": "2021-06-04T22:21:55.728296Z",
          "shell.execute_reply.started": "2021-06-04T22:20:34.503101Z"
        },
        "papermill": {
          "duration": 0.279463,
          "end_time": "2021-06-04T22:21:55.729181",
          "exception": false,
          "start_time": "2021-06-04T22:21:55.449718",
          "status": "completed"
        },
        "tags": [],
        "colab": {
          "base_uri": "https://localhost:8080/",
          "height": 542
        },
        "id": "zE8Qtf1Ki33N",
        "outputId": "4876aa6e-632a-4792-ee2c-a98d653f5d1d"
      },
      "source": [
        "colors = ['turquoise',] * 11\n",
        "colors[0] = 'crimson'\n",
        "fig=px.bar(x=x1.index,y=x1['batting_team'],labels=dict(x=\"Team Name\",y=\"Count\"),)\n",
        "fig.update_layout(title=\"Total count of 200+ by batting team\",\n",
        "                  titlefont={'size': 26},template='simple_white'     \n",
        "                  )\n",
        "fig.update_traces(marker_line_color='black',\n",
        "                  marker_line_width=2.5, opacity=1,marker_color=colors)\n",
        "fig.show()"
      ],
      "execution_count": 54,
      "outputs": [
        {
          "output_type": "display_data",
          "data": {
            "text/html": [
              "<html>\n",
              "<head><meta charset=\"utf-8\" /></head>\n",
              "<body>\n",
              "    <div>\n",
              "            <script src=\"https://cdnjs.cloudflare.com/ajax/libs/mathjax/2.7.5/MathJax.js?config=TeX-AMS-MML_SVG\"></script><script type=\"text/javascript\">if (window.MathJax) {MathJax.Hub.Config({SVG: {font: \"STIX-Web\"}});}</script>\n",
              "                <script type=\"text/javascript\">window.PlotlyConfig = {MathJaxConfig: 'local'};</script>\n",
              "        <script src=\"https://cdn.plot.ly/plotly-latest.min.js\"></script>    \n",
              "            <div id=\"d885fa2f-b620-433a-b71d-2f90157da4f6\" class=\"plotly-graph-div\" style=\"height:525px; width:100%;\"></div>\n",
              "            <script type=\"text/javascript\">\n",
              "                \n",
              "                    window.PLOTLYENV=window.PLOTLYENV || {};\n",
              "                    \n",
              "                if (document.getElementById(\"d885fa2f-b620-433a-b71d-2f90157da4f6\")) {\n",
              "                    Plotly.newPlot(\n",
              "                        'd885fa2f-b620-433a-b71d-2f90157da4f6',\n",
              "                        [{\"alignmentgroup\": \"True\", \"hoverlabel\": {\"namelength\": 0}, \"hovertemplate\": \"Team Name=%{x}<br>Count=%{y}\", \"legendgroup\": \"\", \"marker\": {\"color\": [\"crimson\", \"turquoise\", \"turquoise\", \"turquoise\", \"turquoise\", \"turquoise\", \"turquoise\", \"turquoise\", \"turquoise\", \"turquoise\", \"turquoise\"], \"line\": {\"color\": \"black\", \"width\": 2.5}}, \"name\": \"\", \"offsetgroup\": \"\", \"opacity\": 1, \"orientation\": \"v\", \"showlegend\": false, \"textposition\": \"auto\", \"type\": \"bar\", \"x\": [\"Royal Challengers Bangalore\", \"Chennai Super Kings\", \"Mumbai Indians\", \"Kings XI Punjab\", \"Kolkata Knight Riders\", \"Sunrisers Hyderabad\", \"Rajasthan Royals\", \"Delhi Daredevils\", \"Delhi Capitals\", \"Gujarat Lions\", \"Deccan Chargers\"], \"xaxis\": \"x\", \"y\": [18, 17, 14, 14, 12, 12, 9, 5, 2, 1, 1], \"yaxis\": \"y\"}],\n",
              "                        {\"barmode\": \"relative\", \"legend\": {\"tracegroupgap\": 0}, \"margin\": {\"t\": 60}, \"template\": {\"data\": {\"bar\": [{\"error_x\": {\"color\": \"rgb(36,36,36)\"}, \"error_y\": {\"color\": \"rgb(36,36,36)\"}, \"marker\": {\"line\": {\"color\": \"white\", \"width\": 0.5}}, \"type\": \"bar\"}], \"barpolar\": [{\"marker\": {\"line\": {\"color\": \"white\", \"width\": 0.5}}, \"type\": \"barpolar\"}], \"carpet\": [{\"aaxis\": {\"endlinecolor\": \"rgb(36,36,36)\", \"gridcolor\": \"white\", \"linecolor\": \"white\", \"minorgridcolor\": \"white\", \"startlinecolor\": \"rgb(36,36,36)\"}, \"baxis\": {\"endlinecolor\": \"rgb(36,36,36)\", \"gridcolor\": \"white\", \"linecolor\": \"white\", \"minorgridcolor\": \"white\", \"startlinecolor\": \"rgb(36,36,36)\"}, \"type\": \"carpet\"}], \"choropleth\": [{\"colorbar\": {\"outlinewidth\": 10, \"tickcolor\": \"rgb(36,36,36)\", \"ticklen\": 8, \"ticks\": \"outside\", \"tickwidth\": 2}, \"type\": \"choropleth\"}], \"contour\": [{\"colorbar\": {\"outlinewidth\": 10, \"tickcolor\": \"rgb(36,36,36)\", \"ticklen\": 8, \"ticks\": \"outside\", \"tickwidth\": 2}, \"colorscale\": [[0.0, \"#440154\"], [0.1111111111111111, \"#482878\"], [0.2222222222222222, \"#3e4989\"], [0.3333333333333333, \"#31688e\"], [0.4444444444444444, \"#26828e\"], [0.5555555555555556, \"#1f9e89\"], [0.6666666666666666, \"#35b779\"], [0.7777777777777778, \"#6ece58\"], [0.8888888888888888, \"#b5de2b\"], [1.0, \"#fde725\"]], \"type\": \"contour\"}], \"contourcarpet\": [{\"colorbar\": {\"outlinewidth\": 10, \"tickcolor\": \"rgb(36,36,36)\", \"ticklen\": 8, \"ticks\": \"outside\", \"tickwidth\": 2}, \"type\": \"contourcarpet\"}], \"heatmap\": [{\"colorbar\": {\"outlinewidth\": 10, \"tickcolor\": \"rgb(36,36,36)\", \"ticklen\": 8, \"ticks\": \"outside\", \"tickwidth\": 2}, \"colorscale\": [[0.0, \"#440154\"], [0.1111111111111111, \"#482878\"], [0.2222222222222222, \"#3e4989\"], [0.3333333333333333, \"#31688e\"], [0.4444444444444444, \"#26828e\"], [0.5555555555555556, \"#1f9e89\"], [0.6666666666666666, \"#35b779\"], [0.7777777777777778, \"#6ece58\"], [0.8888888888888888, \"#b5de2b\"], [1.0, \"#fde725\"]], \"type\": \"heatmap\"}], \"heatmapgl\": [{\"colorbar\": {\"outlinewidth\": 10, \"tickcolor\": \"rgb(36,36,36)\", \"ticklen\": 8, \"ticks\": \"outside\", \"tickwidth\": 2}, \"colorscale\": [[0.0, \"#440154\"], [0.1111111111111111, \"#482878\"], [0.2222222222222222, \"#3e4989\"], [0.3333333333333333, \"#31688e\"], [0.4444444444444444, \"#26828e\"], [0.5555555555555556, \"#1f9e89\"], [0.6666666666666666, \"#35b779\"], [0.7777777777777778, \"#6ece58\"], [0.8888888888888888, \"#b5de2b\"], [1.0, \"#fde725\"]], \"type\": \"heatmapgl\"}], \"histogram\": [{\"marker\": {\"line\": {\"color\": \"white\", \"width\": 0.6}}, \"type\": \"histogram\"}], \"histogram2d\": [{\"colorbar\": {\"outlinewidth\": 10, \"tickcolor\": \"rgb(36,36,36)\", \"ticklen\": 8, \"ticks\": \"outside\", \"tickwidth\": 2}, \"colorscale\": [[0.0, \"#440154\"], [0.1111111111111111, \"#482878\"], [0.2222222222222222, \"#3e4989\"], [0.3333333333333333, \"#31688e\"], [0.4444444444444444, \"#26828e\"], [0.5555555555555556, \"#1f9e89\"], [0.6666666666666666, \"#35b779\"], [0.7777777777777778, \"#6ece58\"], [0.8888888888888888, \"#b5de2b\"], [1.0, \"#fde725\"]], \"type\": \"histogram2d\"}], \"histogram2dcontour\": [{\"colorbar\": {\"outlinewidth\": 10, \"tickcolor\": \"rgb(36,36,36)\", \"ticklen\": 8, \"ticks\": \"outside\", \"tickwidth\": 2}, \"colorscale\": [[0.0, \"#440154\"], [0.1111111111111111, \"#482878\"], [0.2222222222222222, \"#3e4989\"], [0.3333333333333333, \"#31688e\"], [0.4444444444444444, \"#26828e\"], [0.5555555555555556, \"#1f9e89\"], [0.6666666666666666, \"#35b779\"], [0.7777777777777778, \"#6ece58\"], [0.8888888888888888, \"#b5de2b\"], [1.0, \"#fde725\"]], \"type\": \"histogram2dcontour\"}], \"mesh3d\": [{\"colorbar\": {\"outlinewidth\": 10, \"tickcolor\": \"rgb(36,36,36)\", \"ticklen\": 8, \"ticks\": \"outside\", \"tickwidth\": 2}, \"type\": \"mesh3d\"}], \"parcoords\": [{\"line\": {\"colorbar\": {\"outlinewidth\": 10, \"tickcolor\": \"rgb(36,36,36)\", \"ticklen\": 8, \"ticks\": \"outside\", \"tickwidth\": 2}}, \"type\": \"parcoords\"}], \"pie\": [{\"automargin\": true, \"type\": \"pie\"}], \"scatter\": [{\"marker\": {\"colorbar\": {\"outlinewidth\": 10, \"tickcolor\": \"rgb(36,36,36)\", \"ticklen\": 8, \"ticks\": \"outside\", \"tickwidth\": 2}}, \"type\": \"scatter\"}], \"scatter3d\": [{\"line\": {\"colorbar\": {\"outlinewidth\": 10, \"tickcolor\": \"rgb(36,36,36)\", \"ticklen\": 8, \"ticks\": \"outside\", \"tickwidth\": 2}}, \"marker\": {\"colorbar\": {\"outlinewidth\": 10, \"tickcolor\": \"rgb(36,36,36)\", \"ticklen\": 8, \"ticks\": \"outside\", \"tickwidth\": 2}}, \"type\": \"scatter3d\"}], \"scattercarpet\": [{\"marker\": {\"colorbar\": {\"outlinewidth\": 10, \"tickcolor\": \"rgb(36,36,36)\", \"ticklen\": 8, \"ticks\": \"outside\", \"tickwidth\": 2}}, \"type\": \"scattercarpet\"}], \"scattergeo\": [{\"marker\": {\"colorbar\": {\"outlinewidth\": 10, \"tickcolor\": \"rgb(36,36,36)\", \"ticklen\": 8, \"ticks\": \"outside\", \"tickwidth\": 2}}, \"type\": \"scattergeo\"}], \"scattergl\": [{\"marker\": {\"colorbar\": {\"outlinewidth\": 10, \"tickcolor\": \"rgb(36,36,36)\", \"ticklen\": 8, \"ticks\": \"outside\", \"tickwidth\": 2}}, \"type\": \"scattergl\"}], \"scattermapbox\": [{\"marker\": {\"colorbar\": {\"outlinewidth\": 10, \"tickcolor\": \"rgb(36,36,36)\", \"ticklen\": 8, \"ticks\": \"outside\", \"tickwidth\": 2}}, \"type\": \"scattermapbox\"}], \"scatterpolar\": [{\"marker\": {\"colorbar\": {\"outlinewidth\": 10, \"tickcolor\": \"rgb(36,36,36)\", \"ticklen\": 8, \"ticks\": \"outside\", \"tickwidth\": 2}}, \"type\": \"scatterpolar\"}], \"scatterpolargl\": [{\"marker\": {\"colorbar\": {\"outlinewidth\": 10, \"tickcolor\": \"rgb(36,36,36)\", \"ticklen\": 8, \"ticks\": \"outside\", \"tickwidth\": 2}}, \"type\": \"scatterpolargl\"}], \"scatterternary\": [{\"marker\": {\"colorbar\": {\"outlinewidth\": 10, \"tickcolor\": \"rgb(36,36,36)\", \"ticklen\": 8, \"ticks\": \"outside\", \"tickwidth\": 2}}, \"type\": \"scatterternary\"}], \"surface\": [{\"colorbar\": {\"outlinewidth\": 10, \"tickcolor\": \"rgb(36,36,36)\", \"ticklen\": 8, \"ticks\": \"outside\", \"tickwidth\": 2}, \"colorscale\": [[0.0, \"#440154\"], [0.1111111111111111, \"#482878\"], [0.2222222222222222, \"#3e4989\"], [0.3333333333333333, \"#31688e\"], [0.4444444444444444, \"#26828e\"], [0.5555555555555556, \"#1f9e89\"], [0.6666666666666666, \"#35b779\"], [0.7777777777777778, \"#6ece58\"], [0.8888888888888888, \"#b5de2b\"], [1.0, \"#fde725\"]], \"type\": \"surface\"}], \"table\": [{\"cells\": {\"fill\": {\"color\": \"rgb(237,237,237)\"}, \"line\": {\"color\": \"white\"}}, \"header\": {\"fill\": {\"color\": \"rgb(217,217,217)\"}, \"line\": {\"color\": \"white\"}}, \"type\": \"table\"}]}, \"layout\": {\"annotationdefaults\": {\"arrowhead\": 0, \"arrowwidth\": 1}, \"coloraxis\": {\"colorbar\": {\"outlinewidth\": 10, \"tickcolor\": \"rgb(36,36,36)\", \"ticklen\": 8, \"ticks\": \"outside\", \"tickwidth\": 2}}, \"colorscale\": {\"diverging\": [[0.0, \"rgb(103,0,31)\"], [0.1, \"rgb(178,24,43)\"], [0.2, \"rgb(214,96,77)\"], [0.3, \"rgb(244,165,130)\"], [0.4, \"rgb(253,219,199)\"], [0.5, \"rgb(247,247,247)\"], [0.6, \"rgb(209,229,240)\"], [0.7, \"rgb(146,197,222)\"], [0.8, \"rgb(67,147,195)\"], [0.9, \"rgb(33,102,172)\"], [1.0, \"rgb(5,48,97)\"]], \"sequential\": [[0.0, \"#440154\"], [0.1111111111111111, \"#482878\"], [0.2222222222222222, \"#3e4989\"], [0.3333333333333333, \"#31688e\"], [0.4444444444444444, \"#26828e\"], [0.5555555555555556, \"#1f9e89\"], [0.6666666666666666, \"#35b779\"], [0.7777777777777778, \"#6ece58\"], [0.8888888888888888, \"#b5de2b\"], [1.0, \"#fde725\"]], \"sequentialminus\": [[0.0, \"#440154\"], [0.1111111111111111, \"#482878\"], [0.2222222222222222, \"#3e4989\"], [0.3333333333333333, \"#31688e\"], [0.4444444444444444, \"#26828e\"], [0.5555555555555556, \"#1f9e89\"], [0.6666666666666666, \"#35b779\"], [0.7777777777777778, \"#6ece58\"], [0.8888888888888888, \"#b5de2b\"], [1.0, \"#fde725\"]]}, \"colorway\": [\"#1F77B4\", \"#FF7F0E\", \"#2CA02C\", \"#D62728\", \"#9467BD\", \"#8C564B\", \"#E377C2\", \"#7F7F7F\", \"#BCBD22\", \"#17BECF\"], \"font\": {\"color\": \"rgb(36,36,36)\"}, \"geo\": {\"bgcolor\": \"white\", \"lakecolor\": \"white\", \"landcolor\": \"white\", \"showlakes\": true, \"showland\": true, \"subunitcolor\": \"white\"}, \"hoverlabel\": {\"align\": \"left\"}, \"hovermode\": \"closest\", \"mapbox\": {\"style\": \"light\"}, \"paper_bgcolor\": \"white\", \"plot_bgcolor\": \"white\", \"polar\": {\"angularaxis\": {\"gridcolor\": \"rgb(232,232,232)\", \"linecolor\": \"rgb(36,36,36)\", \"showgrid\": false, \"showline\": true, \"ticks\": \"outside\"}, \"bgcolor\": \"white\", \"radialaxis\": {\"gridcolor\": \"rgb(232,232,232)\", \"linecolor\": \"rgb(36,36,36)\", \"showgrid\": false, \"showline\": true, \"ticks\": \"outside\"}}, \"scene\": {\"xaxis\": {\"backgroundcolor\": \"white\", \"gridcolor\": \"rgb(232,232,232)\", \"gridwidth\": 2, \"linecolor\": \"rgb(36,36,36)\", \"showbackground\": true, \"showgrid\": false, \"showline\": true, \"ticks\": \"outside\", \"zeroline\": false, \"zerolinecolor\": \"rgb(36,36,36)\"}, \"yaxis\": {\"backgroundcolor\": \"white\", \"gridcolor\": \"rgb(232,232,232)\", \"gridwidth\": 2, \"linecolor\": \"rgb(36,36,36)\", \"showbackground\": true, \"showgrid\": false, \"showline\": true, \"ticks\": \"outside\", \"zeroline\": false, \"zerolinecolor\": \"rgb(36,36,36)\"}, \"zaxis\": {\"backgroundcolor\": \"white\", \"gridcolor\": \"rgb(232,232,232)\", \"gridwidth\": 2, \"linecolor\": \"rgb(36,36,36)\", \"showbackground\": true, \"showgrid\": false, \"showline\": true, \"ticks\": \"outside\", \"zeroline\": false, \"zerolinecolor\": \"rgb(36,36,36)\"}}, \"shapedefaults\": {\"fillcolor\": \"black\", \"line\": {\"width\": 0}, \"opacity\": 0.3}, \"ternary\": {\"aaxis\": {\"gridcolor\": \"rgb(232,232,232)\", \"linecolor\": \"rgb(36,36,36)\", \"showgrid\": false, \"showline\": true, \"ticks\": \"outside\"}, \"baxis\": {\"gridcolor\": \"rgb(232,232,232)\", \"linecolor\": \"rgb(36,36,36)\", \"showgrid\": false, \"showline\": true, \"ticks\": \"outside\"}, \"bgcolor\": \"white\", \"caxis\": {\"gridcolor\": \"rgb(232,232,232)\", \"linecolor\": \"rgb(36,36,36)\", \"showgrid\": false, \"showline\": true, \"ticks\": \"outside\"}}, \"title\": {\"x\": 0.05}, \"xaxis\": {\"automargin\": true, \"gridcolor\": \"rgb(232,232,232)\", \"linecolor\": \"rgb(36,36,36)\", \"showgrid\": false, \"showline\": true, \"ticks\": \"outside\", \"title\": {\"standoff\": 15}, \"zeroline\": false, \"zerolinecolor\": \"rgb(36,36,36)\"}, \"yaxis\": {\"automargin\": true, \"gridcolor\": \"rgb(232,232,232)\", \"linecolor\": \"rgb(36,36,36)\", \"showgrid\": false, \"showline\": true, \"ticks\": \"outside\", \"title\": {\"standoff\": 15}, \"zeroline\": false, \"zerolinecolor\": \"rgb(36,36,36)\"}}}, \"title\": {\"font\": {\"size\": 26}, \"text\": \"Total count of 200+ by batting team\"}, \"xaxis\": {\"anchor\": \"y\", \"domain\": [0.0, 1.0], \"title\": {\"text\": \"Team Name\"}}, \"yaxis\": {\"anchor\": \"x\", \"domain\": [0.0, 1.0], \"title\": {\"text\": \"Count\"}}},\n",
              "                        {\"responsive\": true}\n",
              "                    ).then(function(){\n",
              "                            \n",
              "var gd = document.getElementById('d885fa2f-b620-433a-b71d-2f90157da4f6');\n",
              "var x = new MutationObserver(function (mutations, observer) {{\n",
              "        var display = window.getComputedStyle(gd).display;\n",
              "        if (!display || display === 'none') {{\n",
              "            console.log([gd, 'removed!']);\n",
              "            Plotly.purge(gd);\n",
              "            observer.disconnect();\n",
              "        }}\n",
              "}});\n",
              "\n",
              "// Listen for the removal of the full notebook cells\n",
              "var notebookContainer = gd.closest('#notebook-container');\n",
              "if (notebookContainer) {{\n",
              "    x.observe(notebookContainer, {childList: true});\n",
              "}}\n",
              "\n",
              "// Listen for the clearing of the current output cell\n",
              "var outputEl = gd.closest('.output');\n",
              "if (outputEl) {{\n",
              "    x.observe(outputEl, {childList: true});\n",
              "}}\n",
              "\n",
              "                        })\n",
              "                };\n",
              "                \n",
              "            </script>\n",
              "        </div>\n",
              "</body>\n",
              "</html>"
            ]
          },
          "metadata": {}
        }
      ]
    },
    {
      "cell_type": "markdown",
      "metadata": {
        "papermill": {
          "duration": 0.16116,
          "end_time": "2021-06-04T22:21:56.053096",
          "exception": false,
          "start_time": "2021-06-04T22:21:55.891936",
          "status": "completed"
        },
        "tags": [],
        "id": "hJY1R07Ci33O"
      },
      "source": [
        "<div class=\"alert alert-block alert-info\"><p style='color:black;'> 📌\n",
        "Royal Challengers Bangalore had scored the most 200+ score (18 times), followed by Chennai Super Kings who had scored 17 times.\n",
        "</p>\n",
        "</div>\n"
      ]
    },
    {
      "cell_type": "markdown",
      "metadata": {
        "papermill": {
          "duration": 0.162083,
          "end_time": "2021-06-04T22:21:56.382260",
          "exception": false,
          "start_time": "2021-06-04T22:21:56.220177",
          "status": "completed"
        },
        "tags": [],
        "id": "P-tVZBgPi33O"
      },
      "source": [
        "<small><a href='#0'>Go to top</a></small>  "
      ]
    },
    {
      "cell_type": "markdown",
      "metadata": {
        "papermill": {
          "duration": 0.162693,
          "end_time": "2021-06-04T22:21:56.703871",
          "exception": false,
          "start_time": "2021-06-04T22:21:56.541178",
          "status": "completed"
        },
        "tags": [],
        "id": "ahO_spOii33O"
      },
      "source": [
        "<a id=\"19\">\n",
        "<h1 style = \"font-family: Snell Roundhand;font-weight: 500;font-size: 30px; font-style: normal; background-color: #FFFB30; color :black;\">19) Conceded 200+ runs :</h1>\n"
      ]
    },
    {
      "cell_type": "code",
      "metadata": {
        "_kg_hide-input": true,
        "_kg_hide-output": true,
        "execution": {
          "iopub.execute_input": "2021-06-04T22:21:57.042541Z",
          "iopub.status.busy": "2021-06-04T22:21:57.041558Z",
          "iopub.status.idle": "2021-06-04T22:21:57.046799Z",
          "shell.execute_reply": "2021-06-04T22:21:57.046221Z"
        },
        "papermill": {
          "duration": 0.177712,
          "end_time": "2021-06-04T22:21:57.047031",
          "exception": false,
          "start_time": "2021-06-04T22:21:56.869319",
          "status": "completed"
        },
        "tags": [],
        "colab": {
          "base_uri": "https://localhost:8080/",
          "height": 318
        },
        "id": "OR_UTo9ai33O",
        "outputId": "4d6e4871-a527-4c85-a88d-a019a5a92e03"
      },
      "source": [
        "z=score_200['bowling_team'].value_counts()\n",
        "z=pd.DataFrame(z)\n",
        "z.style.background_gradient(cmap='PuBu')\n"
      ],
      "execution_count": 55,
      "outputs": [
        {
          "output_type": "execute_result",
          "data": {
            "text/html": [
              "<style  type=\"text/css\" >\n",
              "#T_b76c054a_1651_11ec_8baf_0242ac1c0002row0_col0{\n",
              "            background-color:  #023858;\n",
              "            color:  #f1f1f1;\n",
              "        }#T_b76c054a_1651_11ec_8baf_0242ac1c0002row1_col0{\n",
              "            background-color:  #046096;\n",
              "            color:  #f1f1f1;\n",
              "        }#T_b76c054a_1651_11ec_8baf_0242ac1c0002row2_col0{\n",
              "            background-color:  #4c99c5;\n",
              "            color:  #000000;\n",
              "        }#T_b76c054a_1651_11ec_8baf_0242ac1c0002row3_col0{\n",
              "            background-color:  #67a4cc;\n",
              "            color:  #000000;\n",
              "        }#T_b76c054a_1651_11ec_8baf_0242ac1c0002row4_col0,#T_b76c054a_1651_11ec_8baf_0242ac1c0002row5_col0{\n",
              "            background-color:  #7eadd1;\n",
              "            color:  #000000;\n",
              "        }#T_b76c054a_1651_11ec_8baf_0242ac1c0002row6_col0{\n",
              "            background-color:  #a8bedc;\n",
              "            color:  #000000;\n",
              "        }#T_b76c054a_1651_11ec_8baf_0242ac1c0002row7_col0{\n",
              "            background-color:  #bbc7e0;\n",
              "            color:  #000000;\n",
              "        }#T_b76c054a_1651_11ec_8baf_0242ac1c0002row8_col0,#T_b76c054a_1651_11ec_8baf_0242ac1c0002row9_col0{\n",
              "            background-color:  #f0eaf4;\n",
              "            color:  #000000;\n",
              "        }#T_b76c054a_1651_11ec_8baf_0242ac1c0002row10_col0{\n",
              "            background-color:  #f7f0f7;\n",
              "            color:  #000000;\n",
              "        }#T_b76c054a_1651_11ec_8baf_0242ac1c0002row11_col0,#T_b76c054a_1651_11ec_8baf_0242ac1c0002row12_col0{\n",
              "            background-color:  #fff7fb;\n",
              "            color:  #000000;\n",
              "        }</style><table id=\"T_b76c054a_1651_11ec_8baf_0242ac1c0002\" ><thead>    <tr>        <th class=\"blank level0\" ></th>        <th class=\"col_heading level0 col0\" >bowling_team</th>    </tr></thead><tbody>\n",
              "                <tr>\n",
              "                        <th id=\"T_b76c054a_1651_11ec_8baf_0242ac1c0002level0_row0\" class=\"row_heading level0 row0\" >Kings XI Punjab</th>\n",
              "                        <td id=\"T_b76c054a_1651_11ec_8baf_0242ac1c0002row0_col0\" class=\"data row0 col0\" >20</td>\n",
              "            </tr>\n",
              "            <tr>\n",
              "                        <th id=\"T_b76c054a_1651_11ec_8baf_0242ac1c0002level0_row1\" class=\"row_heading level0 row1\" >Royal Challengers Bangalore</th>\n",
              "                        <td id=\"T_b76c054a_1651_11ec_8baf_0242ac1c0002row1_col0\" class=\"data row1 col0\" >17</td>\n",
              "            </tr>\n",
              "            <tr>\n",
              "                        <th id=\"T_b76c054a_1651_11ec_8baf_0242ac1c0002level0_row2\" class=\"row_heading level0 row2\" >Chennai Super Kings</th>\n",
              "                        <td id=\"T_b76c054a_1651_11ec_8baf_0242ac1c0002row2_col0\" class=\"data row2 col0\" >12</td>\n",
              "            </tr>\n",
              "            <tr>\n",
              "                        <th id=\"T_b76c054a_1651_11ec_8baf_0242ac1c0002level0_row3\" class=\"row_heading level0 row3\" >Delhi Daredevils</th>\n",
              "                        <td id=\"T_b76c054a_1651_11ec_8baf_0242ac1c0002row3_col0\" class=\"data row3 col0\" >11</td>\n",
              "            </tr>\n",
              "            <tr>\n",
              "                        <th id=\"T_b76c054a_1651_11ec_8baf_0242ac1c0002level0_row4\" class=\"row_heading level0 row4\" >Rajasthan Royals</th>\n",
              "                        <td id=\"T_b76c054a_1651_11ec_8baf_0242ac1c0002row4_col0\" class=\"data row4 col0\" >10</td>\n",
              "            </tr>\n",
              "            <tr>\n",
              "                        <th id=\"T_b76c054a_1651_11ec_8baf_0242ac1c0002level0_row5\" class=\"row_heading level0 row5\" >Kolkata Knight Riders</th>\n",
              "                        <td id=\"T_b76c054a_1651_11ec_8baf_0242ac1c0002row5_col0\" class=\"data row5 col0\" >10</td>\n",
              "            </tr>\n",
              "            <tr>\n",
              "                        <th id=\"T_b76c054a_1651_11ec_8baf_0242ac1c0002level0_row6\" class=\"row_heading level0 row6\" >Mumbai Indians</th>\n",
              "                        <td id=\"T_b76c054a_1651_11ec_8baf_0242ac1c0002row6_col0\" class=\"data row6 col0\" >8</td>\n",
              "            </tr>\n",
              "            <tr>\n",
              "                        <th id=\"T_b76c054a_1651_11ec_8baf_0242ac1c0002level0_row7\" class=\"row_heading level0 row7\" >Sunrisers Hyderabad</th>\n",
              "                        <td id=\"T_b76c054a_1651_11ec_8baf_0242ac1c0002row7_col0\" class=\"data row7 col0\" >7</td>\n",
              "            </tr>\n",
              "            <tr>\n",
              "                        <th id=\"T_b76c054a_1651_11ec_8baf_0242ac1c0002level0_row8\" class=\"row_heading level0 row8\" >Gujarat Lions</th>\n",
              "                        <td id=\"T_b76c054a_1651_11ec_8baf_0242ac1c0002row8_col0\" class=\"data row8 col0\" >3</td>\n",
              "            </tr>\n",
              "            <tr>\n",
              "                        <th id=\"T_b76c054a_1651_11ec_8baf_0242ac1c0002level0_row9\" class=\"row_heading level0 row9\" >Delhi Capitals</th>\n",
              "                        <td id=\"T_b76c054a_1651_11ec_8baf_0242ac1c0002row9_col0\" class=\"data row9 col0\" >3</td>\n",
              "            </tr>\n",
              "            <tr>\n",
              "                        <th id=\"T_b76c054a_1651_11ec_8baf_0242ac1c0002level0_row10\" class=\"row_heading level0 row10\" >Deccan Chargers</th>\n",
              "                        <td id=\"T_b76c054a_1651_11ec_8baf_0242ac1c0002row10_col0\" class=\"data row10 col0\" >2</td>\n",
              "            </tr>\n",
              "            <tr>\n",
              "                        <th id=\"T_b76c054a_1651_11ec_8baf_0242ac1c0002level0_row11\" class=\"row_heading level0 row11\" >Rising Pune Supergiant</th>\n",
              "                        <td id=\"T_b76c054a_1651_11ec_8baf_0242ac1c0002row11_col0\" class=\"data row11 col0\" >1</td>\n",
              "            </tr>\n",
              "            <tr>\n",
              "                        <th id=\"T_b76c054a_1651_11ec_8baf_0242ac1c0002level0_row12\" class=\"row_heading level0 row12\" >Pune Warriors</th>\n",
              "                        <td id=\"T_b76c054a_1651_11ec_8baf_0242ac1c0002row12_col0\" class=\"data row12 col0\" >1</td>\n",
              "            </tr>\n",
              "    </tbody></table>"
            ],
            "text/plain": [
              "<pandas.io.formats.style.Styler at 0x7feeb8a0a950>"
            ]
          },
          "metadata": {},
          "execution_count": 55
        }
      ]
    },
    {
      "cell_type": "code",
      "metadata": {
        "_kg_hide-input": true,
        "execution": {
          "iopub.execute_input": "2021-06-04T22:21:57.403387Z",
          "iopub.status.busy": "2021-06-04T22:21:57.396330Z",
          "iopub.status.idle": "2021-06-04T22:21:57.466726Z",
          "shell.execute_reply": "2021-06-04T22:21:57.466128Z"
        },
        "papermill": {
          "duration": 0.261903,
          "end_time": "2021-06-04T22:21:57.466880",
          "exception": false,
          "start_time": "2021-06-04T22:21:57.204977",
          "status": "completed"
        },
        "tags": [],
        "colab": {
          "base_uri": "https://localhost:8080/",
          "height": 542
        },
        "id": "hiAHtRPti33O",
        "outputId": "5f6702d7-4755-4788-953b-507c1b303336"
      },
      "source": [
        "colors = ['turquoise',] * 13\n",
        "colors[0] = 'crimson'\n",
        "fig=px.bar(x=z.index,y=z['bowling_team'],labels=dict(x=\"Team Name\",y=\"Count\"),)\n",
        "fig.update_layout(title=\"Total count of 200+ conceded by bowling team\",\n",
        "                  titlefont={'size': 26},template='simple_white'     \n",
        "                  )\n",
        "fig.update_traces(marker_line_color='black',\n",
        "                  marker_line_width=2.5, opacity=1,marker_color=colors)\n",
        "fig.show()\n"
      ],
      "execution_count": 56,
      "outputs": [
        {
          "output_type": "display_data",
          "data": {
            "text/html": [
              "<html>\n",
              "<head><meta charset=\"utf-8\" /></head>\n",
              "<body>\n",
              "    <div>\n",
              "            <script src=\"https://cdnjs.cloudflare.com/ajax/libs/mathjax/2.7.5/MathJax.js?config=TeX-AMS-MML_SVG\"></script><script type=\"text/javascript\">if (window.MathJax) {MathJax.Hub.Config({SVG: {font: \"STIX-Web\"}});}</script>\n",
              "                <script type=\"text/javascript\">window.PlotlyConfig = {MathJaxConfig: 'local'};</script>\n",
              "        <script src=\"https://cdn.plot.ly/plotly-latest.min.js\"></script>    \n",
              "            <div id=\"26cf9c95-3701-4e76-922d-a771d01537b1\" class=\"plotly-graph-div\" style=\"height:525px; width:100%;\"></div>\n",
              "            <script type=\"text/javascript\">\n",
              "                \n",
              "                    window.PLOTLYENV=window.PLOTLYENV || {};\n",
              "                    \n",
              "                if (document.getElementById(\"26cf9c95-3701-4e76-922d-a771d01537b1\")) {\n",
              "                    Plotly.newPlot(\n",
              "                        '26cf9c95-3701-4e76-922d-a771d01537b1',\n",
              "                        [{\"alignmentgroup\": \"True\", \"hoverlabel\": {\"namelength\": 0}, \"hovertemplate\": \"Team Name=%{x}<br>Count=%{y}\", \"legendgroup\": \"\", \"marker\": {\"color\": [\"crimson\", \"turquoise\", \"turquoise\", \"turquoise\", \"turquoise\", \"turquoise\", \"turquoise\", \"turquoise\", \"turquoise\", \"turquoise\", \"turquoise\", \"turquoise\", \"turquoise\"], \"line\": {\"color\": \"black\", \"width\": 2.5}}, \"name\": \"\", \"offsetgroup\": \"\", \"opacity\": 1, \"orientation\": \"v\", \"showlegend\": false, \"textposition\": \"auto\", \"type\": \"bar\", \"x\": [\"Kings XI Punjab\", \"Royal Challengers Bangalore\", \"Chennai Super Kings\", \"Delhi Daredevils\", \"Rajasthan Royals\", \"Kolkata Knight Riders\", \"Mumbai Indians\", \"Sunrisers Hyderabad\", \"Gujarat Lions\", \"Delhi Capitals\", \"Deccan Chargers\", \"Rising Pune Supergiant\", \"Pune Warriors\"], \"xaxis\": \"x\", \"y\": [20, 17, 12, 11, 10, 10, 8, 7, 3, 3, 2, 1, 1], \"yaxis\": \"y\"}],\n",
              "                        {\"barmode\": \"relative\", \"legend\": {\"tracegroupgap\": 0}, \"margin\": {\"t\": 60}, \"template\": {\"data\": {\"bar\": [{\"error_x\": {\"color\": \"rgb(36,36,36)\"}, \"error_y\": {\"color\": \"rgb(36,36,36)\"}, \"marker\": {\"line\": {\"color\": \"white\", \"width\": 0.5}}, \"type\": \"bar\"}], \"barpolar\": [{\"marker\": {\"line\": {\"color\": \"white\", \"width\": 0.5}}, \"type\": \"barpolar\"}], \"carpet\": [{\"aaxis\": {\"endlinecolor\": \"rgb(36,36,36)\", \"gridcolor\": \"white\", \"linecolor\": \"white\", \"minorgridcolor\": \"white\", \"startlinecolor\": \"rgb(36,36,36)\"}, \"baxis\": {\"endlinecolor\": \"rgb(36,36,36)\", \"gridcolor\": \"white\", \"linecolor\": \"white\", \"minorgridcolor\": \"white\", \"startlinecolor\": \"rgb(36,36,36)\"}, \"type\": \"carpet\"}], \"choropleth\": [{\"colorbar\": {\"outlinewidth\": 10, \"tickcolor\": \"rgb(36,36,36)\", \"ticklen\": 8, \"ticks\": \"outside\", \"tickwidth\": 2}, \"type\": \"choropleth\"}], \"contour\": [{\"colorbar\": {\"outlinewidth\": 10, \"tickcolor\": \"rgb(36,36,36)\", \"ticklen\": 8, \"ticks\": \"outside\", \"tickwidth\": 2}, \"colorscale\": [[0.0, \"#440154\"], [0.1111111111111111, \"#482878\"], [0.2222222222222222, \"#3e4989\"], [0.3333333333333333, \"#31688e\"], [0.4444444444444444, \"#26828e\"], [0.5555555555555556, \"#1f9e89\"], [0.6666666666666666, \"#35b779\"], [0.7777777777777778, \"#6ece58\"], [0.8888888888888888, \"#b5de2b\"], [1.0, \"#fde725\"]], \"type\": \"contour\"}], \"contourcarpet\": [{\"colorbar\": {\"outlinewidth\": 10, \"tickcolor\": \"rgb(36,36,36)\", \"ticklen\": 8, \"ticks\": \"outside\", \"tickwidth\": 2}, \"type\": \"contourcarpet\"}], \"heatmap\": [{\"colorbar\": {\"outlinewidth\": 10, \"tickcolor\": \"rgb(36,36,36)\", \"ticklen\": 8, \"ticks\": \"outside\", \"tickwidth\": 2}, \"colorscale\": [[0.0, \"#440154\"], [0.1111111111111111, \"#482878\"], [0.2222222222222222, \"#3e4989\"], [0.3333333333333333, \"#31688e\"], [0.4444444444444444, \"#26828e\"], [0.5555555555555556, \"#1f9e89\"], [0.6666666666666666, \"#35b779\"], [0.7777777777777778, \"#6ece58\"], [0.8888888888888888, \"#b5de2b\"], [1.0, \"#fde725\"]], \"type\": \"heatmap\"}], \"heatmapgl\": [{\"colorbar\": {\"outlinewidth\": 10, \"tickcolor\": \"rgb(36,36,36)\", \"ticklen\": 8, \"ticks\": \"outside\", \"tickwidth\": 2}, \"colorscale\": [[0.0, \"#440154\"], [0.1111111111111111, \"#482878\"], [0.2222222222222222, \"#3e4989\"], [0.3333333333333333, \"#31688e\"], [0.4444444444444444, \"#26828e\"], [0.5555555555555556, \"#1f9e89\"], [0.6666666666666666, \"#35b779\"], [0.7777777777777778, \"#6ece58\"], [0.8888888888888888, \"#b5de2b\"], [1.0, \"#fde725\"]], \"type\": \"heatmapgl\"}], \"histogram\": [{\"marker\": {\"line\": {\"color\": \"white\", \"width\": 0.6}}, \"type\": \"histogram\"}], \"histogram2d\": [{\"colorbar\": {\"outlinewidth\": 10, \"tickcolor\": \"rgb(36,36,36)\", \"ticklen\": 8, \"ticks\": \"outside\", \"tickwidth\": 2}, \"colorscale\": [[0.0, \"#440154\"], [0.1111111111111111, \"#482878\"], [0.2222222222222222, \"#3e4989\"], [0.3333333333333333, \"#31688e\"], [0.4444444444444444, \"#26828e\"], [0.5555555555555556, \"#1f9e89\"], [0.6666666666666666, \"#35b779\"], [0.7777777777777778, \"#6ece58\"], [0.8888888888888888, \"#b5de2b\"], [1.0, \"#fde725\"]], \"type\": \"histogram2d\"}], \"histogram2dcontour\": [{\"colorbar\": {\"outlinewidth\": 10, \"tickcolor\": \"rgb(36,36,36)\", \"ticklen\": 8, \"ticks\": \"outside\", \"tickwidth\": 2}, \"colorscale\": [[0.0, \"#440154\"], [0.1111111111111111, \"#482878\"], [0.2222222222222222, \"#3e4989\"], [0.3333333333333333, \"#31688e\"], [0.4444444444444444, \"#26828e\"], [0.5555555555555556, \"#1f9e89\"], [0.6666666666666666, \"#35b779\"], [0.7777777777777778, \"#6ece58\"], [0.8888888888888888, \"#b5de2b\"], [1.0, \"#fde725\"]], \"type\": \"histogram2dcontour\"}], \"mesh3d\": [{\"colorbar\": {\"outlinewidth\": 10, \"tickcolor\": \"rgb(36,36,36)\", \"ticklen\": 8, \"ticks\": \"outside\", \"tickwidth\": 2}, \"type\": \"mesh3d\"}], \"parcoords\": [{\"line\": {\"colorbar\": {\"outlinewidth\": 10, \"tickcolor\": \"rgb(36,36,36)\", \"ticklen\": 8, \"ticks\": \"outside\", \"tickwidth\": 2}}, \"type\": \"parcoords\"}], \"pie\": [{\"automargin\": true, \"type\": \"pie\"}], \"scatter\": [{\"marker\": {\"colorbar\": {\"outlinewidth\": 10, \"tickcolor\": \"rgb(36,36,36)\", \"ticklen\": 8, \"ticks\": \"outside\", \"tickwidth\": 2}}, \"type\": \"scatter\"}], \"scatter3d\": [{\"line\": {\"colorbar\": {\"outlinewidth\": 10, \"tickcolor\": \"rgb(36,36,36)\", \"ticklen\": 8, \"ticks\": \"outside\", \"tickwidth\": 2}}, \"marker\": {\"colorbar\": {\"outlinewidth\": 10, \"tickcolor\": \"rgb(36,36,36)\", \"ticklen\": 8, \"ticks\": \"outside\", \"tickwidth\": 2}}, \"type\": \"scatter3d\"}], \"scattercarpet\": [{\"marker\": {\"colorbar\": {\"outlinewidth\": 10, \"tickcolor\": \"rgb(36,36,36)\", \"ticklen\": 8, \"ticks\": \"outside\", \"tickwidth\": 2}}, \"type\": \"scattercarpet\"}], \"scattergeo\": [{\"marker\": {\"colorbar\": {\"outlinewidth\": 10, \"tickcolor\": \"rgb(36,36,36)\", \"ticklen\": 8, \"ticks\": \"outside\", \"tickwidth\": 2}}, \"type\": \"scattergeo\"}], \"scattergl\": [{\"marker\": {\"colorbar\": {\"outlinewidth\": 10, \"tickcolor\": \"rgb(36,36,36)\", \"ticklen\": 8, \"ticks\": \"outside\", \"tickwidth\": 2}}, \"type\": \"scattergl\"}], \"scattermapbox\": [{\"marker\": {\"colorbar\": {\"outlinewidth\": 10, \"tickcolor\": \"rgb(36,36,36)\", \"ticklen\": 8, \"ticks\": \"outside\", \"tickwidth\": 2}}, \"type\": \"scattermapbox\"}], \"scatterpolar\": [{\"marker\": {\"colorbar\": {\"outlinewidth\": 10, \"tickcolor\": \"rgb(36,36,36)\", \"ticklen\": 8, \"ticks\": \"outside\", \"tickwidth\": 2}}, \"type\": \"scatterpolar\"}], \"scatterpolargl\": [{\"marker\": {\"colorbar\": {\"outlinewidth\": 10, \"tickcolor\": \"rgb(36,36,36)\", \"ticklen\": 8, \"ticks\": \"outside\", \"tickwidth\": 2}}, \"type\": \"scatterpolargl\"}], \"scatterternary\": [{\"marker\": {\"colorbar\": {\"outlinewidth\": 10, \"tickcolor\": \"rgb(36,36,36)\", \"ticklen\": 8, \"ticks\": \"outside\", \"tickwidth\": 2}}, \"type\": \"scatterternary\"}], \"surface\": [{\"colorbar\": {\"outlinewidth\": 10, \"tickcolor\": \"rgb(36,36,36)\", \"ticklen\": 8, \"ticks\": \"outside\", \"tickwidth\": 2}, \"colorscale\": [[0.0, \"#440154\"], [0.1111111111111111, \"#482878\"], [0.2222222222222222, \"#3e4989\"], [0.3333333333333333, \"#31688e\"], [0.4444444444444444, \"#26828e\"], [0.5555555555555556, \"#1f9e89\"], [0.6666666666666666, \"#35b779\"], [0.7777777777777778, \"#6ece58\"], [0.8888888888888888, \"#b5de2b\"], [1.0, \"#fde725\"]], \"type\": \"surface\"}], \"table\": [{\"cells\": {\"fill\": {\"color\": \"rgb(237,237,237)\"}, \"line\": {\"color\": \"white\"}}, \"header\": {\"fill\": {\"color\": \"rgb(217,217,217)\"}, \"line\": {\"color\": \"white\"}}, \"type\": \"table\"}]}, \"layout\": {\"annotationdefaults\": {\"arrowhead\": 0, \"arrowwidth\": 1}, \"coloraxis\": {\"colorbar\": {\"outlinewidth\": 10, \"tickcolor\": \"rgb(36,36,36)\", \"ticklen\": 8, \"ticks\": \"outside\", \"tickwidth\": 2}}, \"colorscale\": {\"diverging\": [[0.0, \"rgb(103,0,31)\"], [0.1, \"rgb(178,24,43)\"], [0.2, \"rgb(214,96,77)\"], [0.3, \"rgb(244,165,130)\"], [0.4, \"rgb(253,219,199)\"], [0.5, \"rgb(247,247,247)\"], [0.6, \"rgb(209,229,240)\"], [0.7, \"rgb(146,197,222)\"], [0.8, \"rgb(67,147,195)\"], [0.9, \"rgb(33,102,172)\"], [1.0, \"rgb(5,48,97)\"]], \"sequential\": [[0.0, \"#440154\"], [0.1111111111111111, \"#482878\"], [0.2222222222222222, \"#3e4989\"], [0.3333333333333333, \"#31688e\"], [0.4444444444444444, \"#26828e\"], [0.5555555555555556, \"#1f9e89\"], [0.6666666666666666, \"#35b779\"], [0.7777777777777778, \"#6ece58\"], [0.8888888888888888, \"#b5de2b\"], [1.0, \"#fde725\"]], \"sequentialminus\": [[0.0, \"#440154\"], [0.1111111111111111, \"#482878\"], [0.2222222222222222, \"#3e4989\"], [0.3333333333333333, \"#31688e\"], [0.4444444444444444, \"#26828e\"], [0.5555555555555556, \"#1f9e89\"], [0.6666666666666666, \"#35b779\"], [0.7777777777777778, \"#6ece58\"], [0.8888888888888888, \"#b5de2b\"], [1.0, \"#fde725\"]]}, \"colorway\": [\"#1F77B4\", \"#FF7F0E\", \"#2CA02C\", \"#D62728\", \"#9467BD\", \"#8C564B\", \"#E377C2\", \"#7F7F7F\", \"#BCBD22\", \"#17BECF\"], \"font\": {\"color\": \"rgb(36,36,36)\"}, \"geo\": {\"bgcolor\": \"white\", \"lakecolor\": \"white\", \"landcolor\": \"white\", \"showlakes\": true, \"showland\": true, \"subunitcolor\": \"white\"}, \"hoverlabel\": {\"align\": \"left\"}, \"hovermode\": \"closest\", \"mapbox\": {\"style\": \"light\"}, \"paper_bgcolor\": \"white\", \"plot_bgcolor\": \"white\", \"polar\": {\"angularaxis\": {\"gridcolor\": \"rgb(232,232,232)\", \"linecolor\": \"rgb(36,36,36)\", \"showgrid\": false, \"showline\": true, \"ticks\": \"outside\"}, \"bgcolor\": \"white\", \"radialaxis\": {\"gridcolor\": \"rgb(232,232,232)\", \"linecolor\": \"rgb(36,36,36)\", \"showgrid\": false, \"showline\": true, \"ticks\": \"outside\"}}, \"scene\": {\"xaxis\": {\"backgroundcolor\": \"white\", \"gridcolor\": \"rgb(232,232,232)\", \"gridwidth\": 2, \"linecolor\": \"rgb(36,36,36)\", \"showbackground\": true, \"showgrid\": false, \"showline\": true, \"ticks\": \"outside\", \"zeroline\": false, \"zerolinecolor\": \"rgb(36,36,36)\"}, \"yaxis\": {\"backgroundcolor\": \"white\", \"gridcolor\": \"rgb(232,232,232)\", \"gridwidth\": 2, \"linecolor\": \"rgb(36,36,36)\", \"showbackground\": true, \"showgrid\": false, \"showline\": true, \"ticks\": \"outside\", \"zeroline\": false, \"zerolinecolor\": \"rgb(36,36,36)\"}, \"zaxis\": {\"backgroundcolor\": \"white\", \"gridcolor\": \"rgb(232,232,232)\", \"gridwidth\": 2, \"linecolor\": \"rgb(36,36,36)\", \"showbackground\": true, \"showgrid\": false, \"showline\": true, \"ticks\": \"outside\", \"zeroline\": false, \"zerolinecolor\": \"rgb(36,36,36)\"}}, \"shapedefaults\": {\"fillcolor\": \"black\", \"line\": {\"width\": 0}, \"opacity\": 0.3}, \"ternary\": {\"aaxis\": {\"gridcolor\": \"rgb(232,232,232)\", \"linecolor\": \"rgb(36,36,36)\", \"showgrid\": false, \"showline\": true, \"ticks\": \"outside\"}, \"baxis\": {\"gridcolor\": \"rgb(232,232,232)\", \"linecolor\": \"rgb(36,36,36)\", \"showgrid\": false, \"showline\": true, \"ticks\": \"outside\"}, \"bgcolor\": \"white\", \"caxis\": {\"gridcolor\": \"rgb(232,232,232)\", \"linecolor\": \"rgb(36,36,36)\", \"showgrid\": false, \"showline\": true, \"ticks\": \"outside\"}}, \"title\": {\"x\": 0.05}, \"xaxis\": {\"automargin\": true, \"gridcolor\": \"rgb(232,232,232)\", \"linecolor\": \"rgb(36,36,36)\", \"showgrid\": false, \"showline\": true, \"ticks\": \"outside\", \"title\": {\"standoff\": 15}, \"zeroline\": false, \"zerolinecolor\": \"rgb(36,36,36)\"}, \"yaxis\": {\"automargin\": true, \"gridcolor\": \"rgb(232,232,232)\", \"linecolor\": \"rgb(36,36,36)\", \"showgrid\": false, \"showline\": true, \"ticks\": \"outside\", \"title\": {\"standoff\": 15}, \"zeroline\": false, \"zerolinecolor\": \"rgb(36,36,36)\"}}}, \"title\": {\"font\": {\"size\": 26}, \"text\": \"Total count of 200+ conceded by bowling team\"}, \"xaxis\": {\"anchor\": \"y\", \"domain\": [0.0, 1.0], \"title\": {\"text\": \"Team Name\"}}, \"yaxis\": {\"anchor\": \"x\", \"domain\": [0.0, 1.0], \"title\": {\"text\": \"Count\"}}},\n",
              "                        {\"responsive\": true}\n",
              "                    ).then(function(){\n",
              "                            \n",
              "var gd = document.getElementById('26cf9c95-3701-4e76-922d-a771d01537b1');\n",
              "var x = new MutationObserver(function (mutations, observer) {{\n",
              "        var display = window.getComputedStyle(gd).display;\n",
              "        if (!display || display === 'none') {{\n",
              "            console.log([gd, 'removed!']);\n",
              "            Plotly.purge(gd);\n",
              "            observer.disconnect();\n",
              "        }}\n",
              "}});\n",
              "\n",
              "// Listen for the removal of the full notebook cells\n",
              "var notebookContainer = gd.closest('#notebook-container');\n",
              "if (notebookContainer) {{\n",
              "    x.observe(notebookContainer, {childList: true});\n",
              "}}\n",
              "\n",
              "// Listen for the clearing of the current output cell\n",
              "var outputEl = gd.closest('.output');\n",
              "if (outputEl) {{\n",
              "    x.observe(outputEl, {childList: true});\n",
              "}}\n",
              "\n",
              "                        })\n",
              "                };\n",
              "                \n",
              "            </script>\n",
              "        </div>\n",
              "</body>\n",
              "</html>"
            ]
          },
          "metadata": {}
        }
      ]
    },
    {
      "cell_type": "markdown",
      "metadata": {
        "papermill": {
          "duration": 0.16096,
          "end_time": "2021-06-04T22:21:57.796704",
          "exception": false,
          "start_time": "2021-06-04T22:21:57.635744",
          "status": "completed"
        },
        "tags": [],
        "id": "K-0AGvY4i33O"
      },
      "source": [
        "<div class=\"alert alert-block alert-info\"><p style='color:black;'> 📌\n",
        "Kings XI Punjab has conceded 200+ runs 20 times, followed by Royal Challengers Bangalore (17)\n",
        "</p>\n",
        "</div>"
      ]
    },
    {
      "cell_type": "markdown",
      "metadata": {
        "papermill": {
          "duration": 0.161938,
          "end_time": "2021-06-04T22:21:58.131065",
          "exception": false,
          "start_time": "2021-06-04T22:21:57.969127",
          "status": "completed"
        },
        "tags": [],
        "id": "QaWPacsPi33P"
      },
      "source": [
        "<small><a href='#0'>Go to top</a></small>  "
      ]
    },
    {
      "cell_type": "markdown",
      "metadata": {
        "papermill": {
          "duration": 0.160729,
          "end_time": "2021-06-04T22:21:58.454752",
          "exception": false,
          "start_time": "2021-06-04T22:21:58.294023",
          "status": "completed"
        },
        "tags": [],
        "id": "58olb4zdi33P"
      },
      "source": [
        "<a id=\"20\">\n",
        "<h1 style = \"font-family: Snell Roundhand;font-weight: 500;font-size: 30px; font-style: normal; background-color: #FFFB30; color :black;\">20) Highest runs in an innings :</h1>\n",
        "\n"
      ]
    },
    {
      "cell_type": "code",
      "metadata": {
        "_kg_hide-input": true,
        "execution": {
          "iopub.execute_input": "2021-06-04T22:21:58.833519Z",
          "iopub.status.busy": "2021-06-04T22:21:58.832848Z",
          "iopub.status.idle": "2021-06-04T22:21:58.893110Z",
          "shell.execute_reply": "2021-06-04T22:21:58.893679Z"
        },
        "papermill": {
          "duration": 0.278761,
          "end_time": "2021-06-04T22:21:58.893879",
          "exception": false,
          "start_time": "2021-06-04T22:21:58.615118",
          "status": "completed"
        },
        "tags": [],
        "id": "Ydt0grvYi33P"
      },
      "source": [
        "high_200=deliveries_data.groupby(['id', 'inning','batting_team','bowling_team'])['total_runs'].sum().reset_index()\n",
        "high_200.set_index(['id'],inplace=True)"
      ],
      "execution_count": 57,
      "outputs": []
    },
    {
      "cell_type": "code",
      "metadata": {
        "_kg_hide-input": true,
        "_kg_hide-output": true,
        "execution": {
          "iopub.execute_input": "2021-06-04T22:21:59.224688Z",
          "iopub.status.busy": "2021-06-04T22:21:59.223993Z",
          "iopub.status.idle": "2021-06-04T22:21:59.229072Z",
          "shell.execute_reply": "2021-06-04T22:21:59.229628Z"
        },
        "papermill": {
          "duration": 0.170782,
          "end_time": "2021-06-04T22:21:59.229832",
          "exception": false,
          "start_time": "2021-06-04T22:21:59.059050",
          "status": "completed"
        },
        "tags": [],
        "colab": {
          "base_uri": "https://localhost:8080/"
        },
        "id": "zEZ9cAyOi33P",
        "outputId": "393c1ace-46d1-440f-9c4a-1d15851803ce"
      },
      "source": [
        "high_200['total_runs'].max()"
      ],
      "execution_count": 58,
      "outputs": [
        {
          "output_type": "execute_result",
          "data": {
            "text/plain": [
              "263"
            ]
          },
          "metadata": {},
          "execution_count": 58
        }
      ]
    },
    {
      "cell_type": "markdown",
      "metadata": {
        "papermill": {
          "duration": 0.17405,
          "end_time": "2021-06-04T22:21:59.598908",
          "exception": false,
          "start_time": "2021-06-04T22:21:59.424858",
          "status": "completed"
        },
        "tags": [],
        "id": "GUE9obT1i33P"
      },
      "source": [
        "<div class=\"alert alert-block alert-info\"><p style='color:black;'> 📌\n",
        "In season 2013, Royal Challengers Bangalore scored 263/5 against Pune Warriors India.\n",
        "</p>\n",
        "</div>"
      ]
    },
    {
      "cell_type": "markdown",
      "metadata": {
        "papermill": {
          "duration": 0.163698,
          "end_time": "2021-06-04T22:21:59.925067",
          "exception": false,
          "start_time": "2021-06-04T22:21:59.761369",
          "status": "completed"
        },
        "tags": [],
        "id": "16KqkE3Gi33P"
      },
      "source": [
        "<small><a href='#0'>Go to top</a></small>  "
      ]
    },
    {
      "cell_type": "markdown",
      "metadata": {
        "papermill": {
          "duration": 0.174687,
          "end_time": "2021-06-04T22:22:00.272756",
          "exception": false,
          "start_time": "2021-06-04T22:22:00.098069",
          "status": "completed"
        },
        "tags": [],
        "id": "m3nkic_yi33P"
      },
      "source": [
        "<a id=\"21\">\n",
        "<h1 style = \"font-family: Snell Roundhand;font-weight: 500;font-size: 30px; font-style: normal; background-color: #FFFB30; color :black;\">21) Biggest win in terms of run margin :</h1>\n"
      ]
    },
    {
      "cell_type": "code",
      "metadata": {
        "_kg_hide-input": true,
        "_kg_hide-output": true,
        "execution": {
          "iopub.execute_input": "2021-06-04T22:22:00.607809Z",
          "iopub.status.busy": "2021-06-04T22:22:00.607122Z",
          "iopub.status.idle": "2021-06-04T22:22:00.629560Z",
          "shell.execute_reply": "2021-06-04T22:22:00.630127Z"
        },
        "papermill": {
          "duration": 0.197964,
          "end_time": "2021-06-04T22:22:00.630353",
          "exception": false,
          "start_time": "2021-06-04T22:22:00.432389",
          "status": "completed"
        },
        "tags": [],
        "colab": {
          "base_uri": "https://localhost:8080/",
          "height": 135
        },
        "id": "rA-teHNki33Q",
        "outputId": "a0505aeb-0e2d-4557-bf66-9935eec09233"
      },
      "source": [
        "match_data[match_data['result_margin']==match_data['result_margin'].max()]"
      ],
      "execution_count": 59,
      "outputs": [
        {
          "output_type": "execute_result",
          "data": {
            "text/html": [
              "<div>\n",
              "<style scoped>\n",
              "    .dataframe tbody tr th:only-of-type {\n",
              "        vertical-align: middle;\n",
              "    }\n",
              "\n",
              "    .dataframe tbody tr th {\n",
              "        vertical-align: top;\n",
              "    }\n",
              "\n",
              "    .dataframe thead th {\n",
              "        text-align: right;\n",
              "    }\n",
              "</style>\n",
              "<table border=\"1\" class=\"dataframe\">\n",
              "  <thead>\n",
              "    <tr style=\"text-align: right;\">\n",
              "      <th></th>\n",
              "      <th>id</th>\n",
              "      <th>city</th>\n",
              "      <th>date</th>\n",
              "      <th>player_of_match</th>\n",
              "      <th>venue</th>\n",
              "      <th>neutral_venue</th>\n",
              "      <th>team1</th>\n",
              "      <th>team2</th>\n",
              "      <th>toss_winner</th>\n",
              "      <th>toss_decision</th>\n",
              "      <th>winner</th>\n",
              "      <th>result</th>\n",
              "      <th>result_margin</th>\n",
              "      <th>eliminator</th>\n",
              "      <th>method</th>\n",
              "      <th>umpire1</th>\n",
              "      <th>umpire2</th>\n",
              "      <th>Season</th>\n",
              "      <th>toss_win_game_win</th>\n",
              "    </tr>\n",
              "  </thead>\n",
              "  <tbody>\n",
              "    <tr>\n",
              "      <th>620</th>\n",
              "      <td>1082635</td>\n",
              "      <td>Delhi</td>\n",
              "      <td>2017-05-06</td>\n",
              "      <td>LMP Simmons</td>\n",
              "      <td>Feroz Shah Kotla</td>\n",
              "      <td>0</td>\n",
              "      <td>Delhi Daredevils</td>\n",
              "      <td>Mumbai Indians</td>\n",
              "      <td>Delhi Daredevils</td>\n",
              "      <td>field</td>\n",
              "      <td>Mumbai Indians</td>\n",
              "      <td>runs</td>\n",
              "      <td>146.0</td>\n",
              "      <td>N</td>\n",
              "      <td>NaN</td>\n",
              "      <td>Nitin Menon</td>\n",
              "      <td>CK Nandan</td>\n",
              "      <td>2017</td>\n",
              "      <td>No</td>\n",
              "    </tr>\n",
              "  </tbody>\n",
              "</table>\n",
              "</div>"
            ],
            "text/plain": [
              "          id   city        date  ...    umpire2 Season  toss_win_game_win\n",
              "620  1082635  Delhi  2017-05-06  ...  CK Nandan   2017                 No\n",
              "\n",
              "[1 rows x 19 columns]"
            ]
          },
          "metadata": {},
          "execution_count": 59
        }
      ]
    },
    {
      "cell_type": "markdown",
      "metadata": {
        "papermill": {
          "duration": 0.180607,
          "end_time": "2021-06-04T22:22:00.983311",
          "exception": false,
          "start_time": "2021-06-04T22:22:00.802704",
          "status": "completed"
        },
        "tags": [],
        "id": "VXjeDwzgi33Q"
      },
      "source": [
        "<div class=\"alert alert-block alert-info\"><p style='color:black;'> 📌\n",
        "In season 2017, Mumbai Indians had defeated Delhi Daredevils by a huge margin of 146 runs.\n",
        "</p>\n",
        "</div>\n"
      ]
    },
    {
      "cell_type": "markdown",
      "metadata": {
        "papermill": {
          "duration": 0.169642,
          "end_time": "2021-06-04T22:22:01.340593",
          "exception": false,
          "start_time": "2021-06-04T22:22:01.170951",
          "status": "completed"
        },
        "tags": [],
        "id": "nOfubr1Wi33Q"
      },
      "source": [
        "<small><a href='#0'>Go to top</a></small>  "
      ]
    },
    {
      "cell_type": "markdown",
      "metadata": {
        "papermill": {
          "duration": 0.175116,
          "end_time": "2021-06-04T22:22:01.681964",
          "exception": false,
          "start_time": "2021-06-04T22:22:01.506848",
          "status": "completed"
        },
        "tags": [],
        "id": "YrcXEbaPi33Q"
      },
      "source": [
        "<a id=\"22\">\n",
        "<h1 style = \"font-family: Snell Roundhand;font-weight: 500;font-size: 30px; font-style: normal; background-color: #FFFB30; color :black;\">22) Most balls played by a batsman:</h1>\n"
      ]
    },
    {
      "cell_type": "code",
      "metadata": {
        "_kg_hide-input": true,
        "_kg_hide-output": false,
        "execution": {
          "iopub.execute_input": "2021-06-04T22:22:02.028701Z",
          "iopub.status.busy": "2021-06-04T22:22:02.027954Z",
          "iopub.status.idle": "2021-06-04T22:22:02.065441Z",
          "shell.execute_reply": "2021-06-04T22:22:02.065984Z"
        },
        "papermill": {
          "duration": 0.211585,
          "end_time": "2021-06-04T22:22:02.066171",
          "exception": false,
          "start_time": "2021-06-04T22:22:01.854586",
          "status": "completed"
        },
        "tags": [],
        "colab": {
          "base_uri": "https://localhost:8080/",
          "height": 254
        },
        "id": "9kQdGGFji33Q",
        "outputId": "2710142c-02d6-4fa7-a0ab-6403a9ce8e25"
      },
      "source": [
        "balls_played=deliveries_data.groupby(['batsman'])['ball'].count().reset_index()\n",
        "balls_played.sort_values(by='ball',ascending=False).head(10).style.background_gradient(cmap='PuBu')\n"
      ],
      "execution_count": 60,
      "outputs": [
        {
          "output_type": "execute_result",
          "data": {
            "text/html": [
              "<style  type=\"text/css\" >\n",
              "#T_b7de5aa0_1651_11ec_8baf_0242ac1c0002row0_col1{\n",
              "            background-color:  #023858;\n",
              "            color:  #f1f1f1;\n",
              "        }#T_b7de5aa0_1651_11ec_8baf_0242ac1c0002row1_col1{\n",
              "            background-color:  #1c7fb8;\n",
              "            color:  #000000;\n",
              "        }#T_b7de5aa0_1651_11ec_8baf_0242ac1c0002row2_col1{\n",
              "            background-color:  #4496c3;\n",
              "            color:  #000000;\n",
              "        }#T_b7de5aa0_1651_11ec_8baf_0242ac1c0002row3_col1{\n",
              "            background-color:  #589ec8;\n",
              "            color:  #000000;\n",
              "        }#T_b7de5aa0_1651_11ec_8baf_0242ac1c0002row4_col1{\n",
              "            background-color:  #a2bcda;\n",
              "            color:  #000000;\n",
              "        }#T_b7de5aa0_1651_11ec_8baf_0242ac1c0002row5_col1{\n",
              "            background-color:  #cdd0e5;\n",
              "            color:  #000000;\n",
              "        }#T_b7de5aa0_1651_11ec_8baf_0242ac1c0002row6_col1{\n",
              "            background-color:  #e6e2ef;\n",
              "            color:  #000000;\n",
              "        }#T_b7de5aa0_1651_11ec_8baf_0242ac1c0002row7_col1{\n",
              "            background-color:  #ebe6f2;\n",
              "            color:  #000000;\n",
              "        }#T_b7de5aa0_1651_11ec_8baf_0242ac1c0002row8_col1{\n",
              "            background-color:  #fdf5fa;\n",
              "            color:  #000000;\n",
              "        }#T_b7de5aa0_1651_11ec_8baf_0242ac1c0002row9_col1{\n",
              "            background-color:  #fff7fb;\n",
              "            color:  #000000;\n",
              "        }</style><table id=\"T_b7de5aa0_1651_11ec_8baf_0242ac1c0002\" ><thead>    <tr>        <th class=\"blank level0\" ></th>        <th class=\"col_heading level0 col0\" >batsman</th>        <th class=\"col_heading level0 col1\" >ball</th>    </tr></thead><tbody>\n",
              "                <tr>\n",
              "                        <th id=\"T_b7de5aa0_1651_11ec_8baf_0242ac1c0002level0_row0\" class=\"row_heading level0 row0\" >505</th>\n",
              "                        <td id=\"T_b7de5aa0_1651_11ec_8baf_0242ac1c0002row0_col0\" class=\"data row0 col0\" >V Kohli</td>\n",
              "                        <td id=\"T_b7de5aa0_1651_11ec_8baf_0242ac1c0002row0_col1\" class=\"data row0 col1\" >4609</td>\n",
              "            </tr>\n",
              "            <tr>\n",
              "                        <th id=\"T_b7de5aa0_1651_11ec_8baf_0242ac1c0002level0_row1\" class=\"row_heading level0 row1\" >407</th>\n",
              "                        <td id=\"T_b7de5aa0_1651_11ec_8baf_0242ac1c0002row1_col0\" class=\"data row1 col0\" >S Dhawan</td>\n",
              "                        <td id=\"T_b7de5aa0_1651_11ec_8baf_0242ac1c0002row1_col1\" class=\"data row1 col1\" >4208</td>\n",
              "            </tr>\n",
              "            <tr>\n",
              "                        <th id=\"T_b7de5aa0_1651_11ec_8baf_0242ac1c0002level0_row2\" class=\"row_heading level0 row2\" >379</th>\n",
              "                        <td id=\"T_b7de5aa0_1651_11ec_8baf_0242ac1c0002row2_col0\" class=\"data row2 col0\" >RG Sharma</td>\n",
              "                        <td id=\"T_b7de5aa0_1651_11ec_8baf_0242ac1c0002row2_col1\" class=\"data row2 col1\" >4088</td>\n",
              "            </tr>\n",
              "            <tr>\n",
              "                        <th id=\"T_b7de5aa0_1651_11ec_8baf_0242ac1c0002level0_row3\" class=\"row_heading level0 row3\" >438</th>\n",
              "                        <td id=\"T_b7de5aa0_1651_11ec_8baf_0242ac1c0002row3_col0\" class=\"data row3 col0\" >SK Raina</td>\n",
              "                        <td id=\"T_b7de5aa0_1651_11ec_8baf_0242ac1c0002row3_col1\" class=\"data row3 col1\" >4041</td>\n",
              "            </tr>\n",
              "            <tr>\n",
              "                        <th id=\"T_b7de5aa0_1651_11ec_8baf_0242ac1c0002level0_row4\" class=\"row_heading level0 row4\" >116</th>\n",
              "                        <td id=\"T_b7de5aa0_1651_11ec_8baf_0242ac1c0002row4_col0\" class=\"data row4 col0\" >DA Warner</td>\n",
              "                        <td id=\"T_b7de5aa0_1651_11ec_8baf_0242ac1c0002row4_col1\" class=\"data row4 col1\" >3819</td>\n",
              "            </tr>\n",
              "            <tr>\n",
              "                        <th id=\"T_b7de5aa0_1651_11ec_8baf_0242ac1c0002level0_row5\" class=\"row_heading level0 row5\" >398</th>\n",
              "                        <td id=\"T_b7de5aa0_1651_11ec_8baf_0242ac1c0002row5_col0\" class=\"data row5 col0\" >RV Uthappa</td>\n",
              "                        <td id=\"T_b7de5aa0_1651_11ec_8baf_0242ac1c0002row5_col1\" class=\"data row5 col1\" >3658</td>\n",
              "            </tr>\n",
              "            <tr>\n",
              "                        <th id=\"T_b7de5aa0_1651_11ec_8baf_0242ac1c0002level0_row6\" class=\"row_heading level0 row6\" >154</th>\n",
              "                        <td id=\"T_b7de5aa0_1651_11ec_8baf_0242ac1c0002row6_col0\" class=\"data row6 col0\" >G Gambhir</td>\n",
              "                        <td id=\"T_b7de5aa0_1651_11ec_8baf_0242ac1c0002row6_col1\" class=\"data row6 col1\" >3524</td>\n",
              "            </tr>\n",
              "            <tr>\n",
              "                        <th id=\"T_b7de5aa0_1651_11ec_8baf_0242ac1c0002level0_row7\" class=\"row_heading level0 row7\" >301</th>\n",
              "                        <td id=\"T_b7de5aa0_1651_11ec_8baf_0242ac1c0002row7_col0\" class=\"data row7 col0\" >MS Dhoni</td>\n",
              "                        <td id=\"T_b7de5aa0_1651_11ec_8baf_0242ac1c0002row7_col1\" class=\"data row7 col1\" >3493</td>\n",
              "            </tr>\n",
              "            <tr>\n",
              "                        <th id=\"T_b7de5aa0_1651_11ec_8baf_0242ac1c0002level0_row8\" class=\"row_heading level0 row8\" >96</th>\n",
              "                        <td id=\"T_b7de5aa0_1651_11ec_8baf_0242ac1c0002row8_col0\" class=\"data row8 col0\" >CH Gayle</td>\n",
              "                        <td id=\"T_b7de5aa0_1651_11ec_8baf_0242ac1c0002row8_col1\" class=\"data row8 col1\" >3342</td>\n",
              "            </tr>\n",
              "            <tr>\n",
              "                        <th id=\"T_b7de5aa0_1651_11ec_8baf_0242ac1c0002level0_row9\" class=\"row_heading level0 row9\" >42</th>\n",
              "                        <td id=\"T_b7de5aa0_1651_11ec_8baf_0242ac1c0002row9_col0\" class=\"data row9 col0\" >AM Rahane</td>\n",
              "                        <td id=\"T_b7de5aa0_1651_11ec_8baf_0242ac1c0002row9_col1\" class=\"data row9 col1\" >3325</td>\n",
              "            </tr>\n",
              "    </tbody></table>"
            ],
            "text/plain": [
              "<pandas.io.formats.style.Styler at 0x7feeb8ff3f90>"
            ]
          },
          "metadata": {},
          "execution_count": 60
        }
      ]
    },
    {
      "cell_type": "markdown",
      "metadata": {
        "papermill": {
          "duration": 0.1618,
          "end_time": "2021-06-04T22:22:02.396747",
          "exception": false,
          "start_time": "2021-06-04T22:22:02.234947",
          "status": "completed"
        },
        "tags": [],
        "id": "aJV6h-UKi33Q"
      },
      "source": [
        "<div class=\"alert alert-block alert-info\"><p style='color:black;'> 📌\n",
        "Virat kohli had played the most balls.<br> \n",
        "David Warner and Chris Gayle are the only two foreign players in this top 10 list.\n",
        "</p>\n",
        "</div>"
      ]
    },
    {
      "cell_type": "markdown",
      "metadata": {
        "papermill": {
          "duration": 0.169662,
          "end_time": "2021-06-04T22:22:02.733634",
          "exception": false,
          "start_time": "2021-06-04T22:22:02.563972",
          "status": "completed"
        },
        "tags": [],
        "id": "ktpenXsBi33Q"
      },
      "source": [
        "<small><a href='#0'>Go to top</a></small>  "
      ]
    },
    {
      "cell_type": "markdown",
      "metadata": {
        "papermill": {
          "duration": 0.163805,
          "end_time": "2021-06-04T22:22:03.057442",
          "exception": false,
          "start_time": "2021-06-04T22:22:02.893637",
          "status": "completed"
        },
        "tags": [],
        "id": "SzR4FNJRi33R"
      },
      "source": [
        "<a id=\"23\">\n",
        "<h1 style = \"font-family: Snell Roundhand;font-weight: 500;font-size: 30px; font-style: normal; background-color: #FFFB30; color :black;\">23) Top 10 run scorer of all time :</h1>\n"
      ]
    },
    {
      "cell_type": "code",
      "metadata": {
        "_kg_hide-input": true,
        "_kg_hide-output": false,
        "execution": {
          "iopub.execute_input": "2021-06-04T22:22:03.387954Z",
          "iopub.status.busy": "2021-06-04T22:22:03.387205Z",
          "iopub.status.idle": "2021-06-04T22:22:03.427073Z",
          "shell.execute_reply": "2021-06-04T22:22:03.427621Z"
        },
        "papermill": {
          "duration": 0.207817,
          "end_time": "2021-06-04T22:22:03.427807",
          "exception": false,
          "start_time": "2021-06-04T22:22:03.219990",
          "status": "completed"
        },
        "tags": [],
        "colab": {
          "base_uri": "https://localhost:8080/",
          "height": 254
        },
        "id": "zEf0jzZyi33R",
        "outputId": "a146777a-ad8a-4175-bc61-bc9f19ca0723"
      },
      "source": [
        "runs=deliveries_data.groupby(['batsman'])['batsman_runs'].sum().reset_index()\n",
        "runs.columns=['Batsman','runs']\n",
        "y=runs.sort_values(by='runs',ascending=False).head(10).reset_index().drop('index',axis=1)\n",
        "y.style.background_gradient(cmap='PuBu')"
      ],
      "execution_count": 61,
      "outputs": [
        {
          "output_type": "execute_result",
          "data": {
            "text/html": [
              "<style  type=\"text/css\" >\n",
              "#T_b7e4f1bc_1651_11ec_8baf_0242ac1c0002row0_col1{\n",
              "            background-color:  #023858;\n",
              "            color:  #f1f1f1;\n",
              "        }#T_b7e4f1bc_1651_11ec_8baf_0242ac1c0002row1_col1{\n",
              "            background-color:  #1b7eb7;\n",
              "            color:  #000000;\n",
              "        }#T_b7e4f1bc_1651_11ec_8baf_0242ac1c0002row2_col1{\n",
              "            background-color:  #3790c0;\n",
              "            color:  #000000;\n",
              "        }#T_b7e4f1bc_1651_11ec_8baf_0242ac1c0002row3_col1{\n",
              "            background-color:  #3d93c2;\n",
              "            color:  #000000;\n",
              "        }#T_b7e4f1bc_1651_11ec_8baf_0242ac1c0002row4_col1{\n",
              "            background-color:  #4697c4;\n",
              "            color:  #000000;\n",
              "        }#T_b7e4f1bc_1651_11ec_8baf_0242ac1c0002row5_col1{\n",
              "            background-color:  #a4bcda;\n",
              "            color:  #000000;\n",
              "        }#T_b7e4f1bc_1651_11ec_8baf_0242ac1c0002row6_col1{\n",
              "            background-color:  #b4c4df;\n",
              "            color:  #000000;\n",
              "        }#T_b7e4f1bc_1651_11ec_8baf_0242ac1c0002row7_col1{\n",
              "            background-color:  #d1d2e6;\n",
              "            color:  #000000;\n",
              "        }#T_b7e4f1bc_1651_11ec_8baf_0242ac1c0002row8_col1{\n",
              "            background-color:  #d3d4e7;\n",
              "            color:  #000000;\n",
              "        }#T_b7e4f1bc_1651_11ec_8baf_0242ac1c0002row9_col1{\n",
              "            background-color:  #fff7fb;\n",
              "            color:  #000000;\n",
              "        }</style><table id=\"T_b7e4f1bc_1651_11ec_8baf_0242ac1c0002\" ><thead>    <tr>        <th class=\"blank level0\" ></th>        <th class=\"col_heading level0 col0\" >Batsman</th>        <th class=\"col_heading level0 col1\" >runs</th>    </tr></thead><tbody>\n",
              "                <tr>\n",
              "                        <th id=\"T_b7e4f1bc_1651_11ec_8baf_0242ac1c0002level0_row0\" class=\"row_heading level0 row0\" >0</th>\n",
              "                        <td id=\"T_b7e4f1bc_1651_11ec_8baf_0242ac1c0002row0_col0\" class=\"data row0 col0\" >V Kohli</td>\n",
              "                        <td id=\"T_b7e4f1bc_1651_11ec_8baf_0242ac1c0002row0_col1\" class=\"data row0 col1\" >5878</td>\n",
              "            </tr>\n",
              "            <tr>\n",
              "                        <th id=\"T_b7e4f1bc_1651_11ec_8baf_0242ac1c0002level0_row1\" class=\"row_heading level0 row1\" >1</th>\n",
              "                        <td id=\"T_b7e4f1bc_1651_11ec_8baf_0242ac1c0002row1_col0\" class=\"data row1 col0\" >SK Raina</td>\n",
              "                        <td id=\"T_b7e4f1bc_1651_11ec_8baf_0242ac1c0002row1_col1\" class=\"data row1 col1\" >5368</td>\n",
              "            </tr>\n",
              "            <tr>\n",
              "                        <th id=\"T_b7e4f1bc_1651_11ec_8baf_0242ac1c0002level0_row2\" class=\"row_heading level0 row2\" >2</th>\n",
              "                        <td id=\"T_b7e4f1bc_1651_11ec_8baf_0242ac1c0002row2_col0\" class=\"data row2 col0\" >DA Warner</td>\n",
              "                        <td id=\"T_b7e4f1bc_1651_11ec_8baf_0242ac1c0002row2_col1\" class=\"data row2 col1\" >5254</td>\n",
              "            </tr>\n",
              "            <tr>\n",
              "                        <th id=\"T_b7e4f1bc_1651_11ec_8baf_0242ac1c0002level0_row3\" class=\"row_heading level0 row3\" >3</th>\n",
              "                        <td id=\"T_b7e4f1bc_1651_11ec_8baf_0242ac1c0002row3_col0\" class=\"data row3 col0\" >RG Sharma</td>\n",
              "                        <td id=\"T_b7e4f1bc_1651_11ec_8baf_0242ac1c0002row3_col1\" class=\"data row3 col1\" >5230</td>\n",
              "            </tr>\n",
              "            <tr>\n",
              "                        <th id=\"T_b7e4f1bc_1651_11ec_8baf_0242ac1c0002level0_row4\" class=\"row_heading level0 row4\" >4</th>\n",
              "                        <td id=\"T_b7e4f1bc_1651_11ec_8baf_0242ac1c0002row4_col0\" class=\"data row4 col0\" >S Dhawan</td>\n",
              "                        <td id=\"T_b7e4f1bc_1651_11ec_8baf_0242ac1c0002row4_col1\" class=\"data row4 col1\" >5197</td>\n",
              "            </tr>\n",
              "            <tr>\n",
              "                        <th id=\"T_b7e4f1bc_1651_11ec_8baf_0242ac1c0002level0_row5\" class=\"row_heading level0 row5\" >5</th>\n",
              "                        <td id=\"T_b7e4f1bc_1651_11ec_8baf_0242ac1c0002row5_col0\" class=\"data row5 col0\" >AB de Villiers</td>\n",
              "                        <td id=\"T_b7e4f1bc_1651_11ec_8baf_0242ac1c0002row5_col1\" class=\"data row5 col1\" >4849</td>\n",
              "            </tr>\n",
              "            <tr>\n",
              "                        <th id=\"T_b7e4f1bc_1651_11ec_8baf_0242ac1c0002level0_row6\" class=\"row_heading level0 row6\" >6</th>\n",
              "                        <td id=\"T_b7e4f1bc_1651_11ec_8baf_0242ac1c0002row6_col0\" class=\"data row6 col0\" >CH Gayle</td>\n",
              "                        <td id=\"T_b7e4f1bc_1651_11ec_8baf_0242ac1c0002row6_col1\" class=\"data row6 col1\" >4772</td>\n",
              "            </tr>\n",
              "            <tr>\n",
              "                        <th id=\"T_b7e4f1bc_1651_11ec_8baf_0242ac1c0002level0_row7\" class=\"row_heading level0 row7\" >7</th>\n",
              "                        <td id=\"T_b7e4f1bc_1651_11ec_8baf_0242ac1c0002row7_col0\" class=\"data row7 col0\" >MS Dhoni</td>\n",
              "                        <td id=\"T_b7e4f1bc_1651_11ec_8baf_0242ac1c0002row7_col1\" class=\"data row7 col1\" >4632</td>\n",
              "            </tr>\n",
              "            <tr>\n",
              "                        <th id=\"T_b7e4f1bc_1651_11ec_8baf_0242ac1c0002level0_row8\" class=\"row_heading level0 row8\" >8</th>\n",
              "                        <td id=\"T_b7e4f1bc_1651_11ec_8baf_0242ac1c0002row8_col0\" class=\"data row8 col0\" >RV Uthappa</td>\n",
              "                        <td id=\"T_b7e4f1bc_1651_11ec_8baf_0242ac1c0002row8_col1\" class=\"data row8 col1\" >4607</td>\n",
              "            </tr>\n",
              "            <tr>\n",
              "                        <th id=\"T_b7e4f1bc_1651_11ec_8baf_0242ac1c0002level0_row9\" class=\"row_heading level0 row9\" >9</th>\n",
              "                        <td id=\"T_b7e4f1bc_1651_11ec_8baf_0242ac1c0002row9_col0\" class=\"data row9 col0\" >G Gambhir</td>\n",
              "                        <td id=\"T_b7e4f1bc_1651_11ec_8baf_0242ac1c0002row9_col1\" class=\"data row9 col1\" >4217</td>\n",
              "            </tr>\n",
              "    </tbody></table>"
            ],
            "text/plain": [
              "<pandas.io.formats.style.Styler at 0x7feeba8ec0d0>"
            ]
          },
          "metadata": {},
          "execution_count": 61
        }
      ]
    },
    {
      "cell_type": "code",
      "metadata": {
        "_kg_hide-input": true,
        "execution": {
          "iopub.execute_input": "2021-06-04T22:22:03.779775Z",
          "iopub.status.busy": "2021-06-04T22:22:03.779051Z",
          "iopub.status.idle": "2021-06-04T22:22:03.851714Z",
          "shell.execute_reply": "2021-06-04T22:22:03.852234Z"
        },
        "papermill": {
          "duration": 0.259795,
          "end_time": "2021-06-04T22:22:03.852440",
          "exception": false,
          "start_time": "2021-06-04T22:22:03.592645",
          "status": "completed"
        },
        "tags": [],
        "colab": {
          "base_uri": "https://localhost:8080/",
          "height": 542
        },
        "id": "FBYXfZ24i33R",
        "outputId": "bd40ea73-5079-43f5-808b-c48f55ea1a39"
      },
      "source": [
        "colors = ['turquoise',] * 13\n",
        "colors[0] = 'crimson'\n",
        "fig=px.bar(x=y['Batsman'],y=y['runs'],labels=dict(x=\"Player\",y=\"Total Runs\"),)\n",
        "fig.update_layout(title=\"Top 10 leading run-scrorer\",\n",
        "                  titlefont={'size': 26},template='simple_white'     \n",
        "                  )\n",
        "fig.update_traces(marker_line_color='black',\n",
        "                  marker_line_width=2.5, opacity=1,marker_color=colors)\n",
        "fig.show()\n"
      ],
      "execution_count": 62,
      "outputs": [
        {
          "output_type": "display_data",
          "data": {
            "text/html": [
              "<html>\n",
              "<head><meta charset=\"utf-8\" /></head>\n",
              "<body>\n",
              "    <div>\n",
              "            <script src=\"https://cdnjs.cloudflare.com/ajax/libs/mathjax/2.7.5/MathJax.js?config=TeX-AMS-MML_SVG\"></script><script type=\"text/javascript\">if (window.MathJax) {MathJax.Hub.Config({SVG: {font: \"STIX-Web\"}});}</script>\n",
              "                <script type=\"text/javascript\">window.PlotlyConfig = {MathJaxConfig: 'local'};</script>\n",
              "        <script src=\"https://cdn.plot.ly/plotly-latest.min.js\"></script>    \n",
              "            <div id=\"632d72db-59af-4038-a73c-650e127efb8f\" class=\"plotly-graph-div\" style=\"height:525px; width:100%;\"></div>\n",
              "            <script type=\"text/javascript\">\n",
              "                \n",
              "                    window.PLOTLYENV=window.PLOTLYENV || {};\n",
              "                    \n",
              "                if (document.getElementById(\"632d72db-59af-4038-a73c-650e127efb8f\")) {\n",
              "                    Plotly.newPlot(\n",
              "                        '632d72db-59af-4038-a73c-650e127efb8f',\n",
              "                        [{\"alignmentgroup\": \"True\", \"hoverlabel\": {\"namelength\": 0}, \"hovertemplate\": \"Player=%{x}<br>Total Runs=%{y}\", \"legendgroup\": \"\", \"marker\": {\"color\": [\"crimson\", \"turquoise\", \"turquoise\", \"turquoise\", \"turquoise\", \"turquoise\", \"turquoise\", \"turquoise\", \"turquoise\", \"turquoise\", \"turquoise\", \"turquoise\", \"turquoise\"], \"line\": {\"color\": \"black\", \"width\": 2.5}}, \"name\": \"\", \"offsetgroup\": \"\", \"opacity\": 1, \"orientation\": \"v\", \"showlegend\": false, \"textposition\": \"auto\", \"type\": \"bar\", \"x\": [\"V Kohli\", \"SK Raina\", \"DA Warner\", \"RG Sharma\", \"S Dhawan\", \"AB de Villiers\", \"CH Gayle\", \"MS Dhoni\", \"RV Uthappa\", \"G Gambhir\"], \"xaxis\": \"x\", \"y\": [5878, 5368, 5254, 5230, 5197, 4849, 4772, 4632, 4607, 4217], \"yaxis\": \"y\"}],\n",
              "                        {\"barmode\": \"relative\", \"legend\": {\"tracegroupgap\": 0}, \"margin\": {\"t\": 60}, \"template\": {\"data\": {\"bar\": [{\"error_x\": {\"color\": \"rgb(36,36,36)\"}, \"error_y\": {\"color\": \"rgb(36,36,36)\"}, \"marker\": {\"line\": {\"color\": \"white\", \"width\": 0.5}}, \"type\": \"bar\"}], \"barpolar\": [{\"marker\": {\"line\": {\"color\": \"white\", \"width\": 0.5}}, \"type\": \"barpolar\"}], \"carpet\": [{\"aaxis\": {\"endlinecolor\": \"rgb(36,36,36)\", \"gridcolor\": \"white\", \"linecolor\": \"white\", \"minorgridcolor\": \"white\", \"startlinecolor\": \"rgb(36,36,36)\"}, \"baxis\": {\"endlinecolor\": \"rgb(36,36,36)\", \"gridcolor\": \"white\", \"linecolor\": \"white\", \"minorgridcolor\": \"white\", \"startlinecolor\": \"rgb(36,36,36)\"}, \"type\": \"carpet\"}], \"choropleth\": [{\"colorbar\": {\"outlinewidth\": 10, \"tickcolor\": \"rgb(36,36,36)\", \"ticklen\": 8, \"ticks\": \"outside\", \"tickwidth\": 2}, \"type\": \"choropleth\"}], \"contour\": [{\"colorbar\": {\"outlinewidth\": 10, \"tickcolor\": \"rgb(36,36,36)\", \"ticklen\": 8, \"ticks\": \"outside\", \"tickwidth\": 2}, \"colorscale\": [[0.0, \"#440154\"], [0.1111111111111111, \"#482878\"], [0.2222222222222222, \"#3e4989\"], [0.3333333333333333, \"#31688e\"], [0.4444444444444444, \"#26828e\"], [0.5555555555555556, \"#1f9e89\"], [0.6666666666666666, \"#35b779\"], [0.7777777777777778, \"#6ece58\"], [0.8888888888888888, \"#b5de2b\"], [1.0, \"#fde725\"]], \"type\": \"contour\"}], \"contourcarpet\": [{\"colorbar\": {\"outlinewidth\": 10, \"tickcolor\": \"rgb(36,36,36)\", \"ticklen\": 8, \"ticks\": \"outside\", \"tickwidth\": 2}, \"type\": \"contourcarpet\"}], \"heatmap\": [{\"colorbar\": {\"outlinewidth\": 10, \"tickcolor\": \"rgb(36,36,36)\", \"ticklen\": 8, \"ticks\": \"outside\", \"tickwidth\": 2}, \"colorscale\": [[0.0, \"#440154\"], [0.1111111111111111, \"#482878\"], [0.2222222222222222, \"#3e4989\"], [0.3333333333333333, \"#31688e\"], [0.4444444444444444, \"#26828e\"], [0.5555555555555556, \"#1f9e89\"], [0.6666666666666666, \"#35b779\"], [0.7777777777777778, \"#6ece58\"], [0.8888888888888888, \"#b5de2b\"], [1.0, \"#fde725\"]], \"type\": \"heatmap\"}], \"heatmapgl\": [{\"colorbar\": {\"outlinewidth\": 10, \"tickcolor\": \"rgb(36,36,36)\", \"ticklen\": 8, \"ticks\": \"outside\", \"tickwidth\": 2}, \"colorscale\": [[0.0, \"#440154\"], [0.1111111111111111, \"#482878\"], [0.2222222222222222, \"#3e4989\"], [0.3333333333333333, \"#31688e\"], [0.4444444444444444, \"#26828e\"], [0.5555555555555556, \"#1f9e89\"], [0.6666666666666666, \"#35b779\"], [0.7777777777777778, \"#6ece58\"], [0.8888888888888888, \"#b5de2b\"], [1.0, \"#fde725\"]], \"type\": \"heatmapgl\"}], \"histogram\": [{\"marker\": {\"line\": {\"color\": \"white\", \"width\": 0.6}}, \"type\": \"histogram\"}], \"histogram2d\": [{\"colorbar\": {\"outlinewidth\": 10, \"tickcolor\": \"rgb(36,36,36)\", \"ticklen\": 8, \"ticks\": \"outside\", \"tickwidth\": 2}, \"colorscale\": [[0.0, \"#440154\"], [0.1111111111111111, \"#482878\"], [0.2222222222222222, \"#3e4989\"], [0.3333333333333333, \"#31688e\"], [0.4444444444444444, \"#26828e\"], [0.5555555555555556, \"#1f9e89\"], [0.6666666666666666, \"#35b779\"], [0.7777777777777778, \"#6ece58\"], [0.8888888888888888, \"#b5de2b\"], [1.0, \"#fde725\"]], \"type\": \"histogram2d\"}], \"histogram2dcontour\": [{\"colorbar\": {\"outlinewidth\": 10, \"tickcolor\": \"rgb(36,36,36)\", \"ticklen\": 8, \"ticks\": \"outside\", \"tickwidth\": 2}, \"colorscale\": [[0.0, \"#440154\"], [0.1111111111111111, \"#482878\"], [0.2222222222222222, \"#3e4989\"], [0.3333333333333333, \"#31688e\"], [0.4444444444444444, \"#26828e\"], [0.5555555555555556, \"#1f9e89\"], [0.6666666666666666, \"#35b779\"], [0.7777777777777778, \"#6ece58\"], [0.8888888888888888, \"#b5de2b\"], [1.0, \"#fde725\"]], \"type\": \"histogram2dcontour\"}], \"mesh3d\": [{\"colorbar\": {\"outlinewidth\": 10, \"tickcolor\": \"rgb(36,36,36)\", \"ticklen\": 8, \"ticks\": \"outside\", \"tickwidth\": 2}, \"type\": \"mesh3d\"}], \"parcoords\": [{\"line\": {\"colorbar\": {\"outlinewidth\": 10, \"tickcolor\": \"rgb(36,36,36)\", \"ticklen\": 8, \"ticks\": \"outside\", \"tickwidth\": 2}}, \"type\": \"parcoords\"}], \"pie\": [{\"automargin\": true, \"type\": \"pie\"}], \"scatter\": [{\"marker\": {\"colorbar\": {\"outlinewidth\": 10, \"tickcolor\": \"rgb(36,36,36)\", \"ticklen\": 8, \"ticks\": \"outside\", \"tickwidth\": 2}}, \"type\": \"scatter\"}], \"scatter3d\": [{\"line\": {\"colorbar\": {\"outlinewidth\": 10, \"tickcolor\": \"rgb(36,36,36)\", \"ticklen\": 8, \"ticks\": \"outside\", \"tickwidth\": 2}}, \"marker\": {\"colorbar\": {\"outlinewidth\": 10, \"tickcolor\": \"rgb(36,36,36)\", \"ticklen\": 8, \"ticks\": \"outside\", \"tickwidth\": 2}}, \"type\": \"scatter3d\"}], \"scattercarpet\": [{\"marker\": {\"colorbar\": {\"outlinewidth\": 10, \"tickcolor\": \"rgb(36,36,36)\", \"ticklen\": 8, \"ticks\": \"outside\", \"tickwidth\": 2}}, \"type\": \"scattercarpet\"}], \"scattergeo\": [{\"marker\": {\"colorbar\": {\"outlinewidth\": 10, \"tickcolor\": \"rgb(36,36,36)\", \"ticklen\": 8, \"ticks\": \"outside\", \"tickwidth\": 2}}, \"type\": \"scattergeo\"}], \"scattergl\": [{\"marker\": {\"colorbar\": {\"outlinewidth\": 10, \"tickcolor\": \"rgb(36,36,36)\", \"ticklen\": 8, \"ticks\": \"outside\", \"tickwidth\": 2}}, \"type\": \"scattergl\"}], \"scattermapbox\": [{\"marker\": {\"colorbar\": {\"outlinewidth\": 10, \"tickcolor\": \"rgb(36,36,36)\", \"ticklen\": 8, \"ticks\": \"outside\", \"tickwidth\": 2}}, \"type\": \"scattermapbox\"}], \"scatterpolar\": [{\"marker\": {\"colorbar\": {\"outlinewidth\": 10, \"tickcolor\": \"rgb(36,36,36)\", \"ticklen\": 8, \"ticks\": \"outside\", \"tickwidth\": 2}}, \"type\": \"scatterpolar\"}], \"scatterpolargl\": [{\"marker\": {\"colorbar\": {\"outlinewidth\": 10, \"tickcolor\": \"rgb(36,36,36)\", \"ticklen\": 8, \"ticks\": \"outside\", \"tickwidth\": 2}}, \"type\": \"scatterpolargl\"}], \"scatterternary\": [{\"marker\": {\"colorbar\": {\"outlinewidth\": 10, \"tickcolor\": \"rgb(36,36,36)\", \"ticklen\": 8, \"ticks\": \"outside\", \"tickwidth\": 2}}, \"type\": \"scatterternary\"}], \"surface\": [{\"colorbar\": {\"outlinewidth\": 10, \"tickcolor\": \"rgb(36,36,36)\", \"ticklen\": 8, \"ticks\": \"outside\", \"tickwidth\": 2}, \"colorscale\": [[0.0, \"#440154\"], [0.1111111111111111, \"#482878\"], [0.2222222222222222, \"#3e4989\"], [0.3333333333333333, \"#31688e\"], [0.4444444444444444, \"#26828e\"], [0.5555555555555556, \"#1f9e89\"], [0.6666666666666666, \"#35b779\"], [0.7777777777777778, \"#6ece58\"], [0.8888888888888888, \"#b5de2b\"], [1.0, \"#fde725\"]], \"type\": \"surface\"}], \"table\": [{\"cells\": {\"fill\": {\"color\": \"rgb(237,237,237)\"}, \"line\": {\"color\": \"white\"}}, \"header\": {\"fill\": {\"color\": \"rgb(217,217,217)\"}, \"line\": {\"color\": \"white\"}}, \"type\": \"table\"}]}, \"layout\": {\"annotationdefaults\": {\"arrowhead\": 0, \"arrowwidth\": 1}, \"coloraxis\": {\"colorbar\": {\"outlinewidth\": 10, \"tickcolor\": \"rgb(36,36,36)\", \"ticklen\": 8, \"ticks\": \"outside\", \"tickwidth\": 2}}, \"colorscale\": {\"diverging\": [[0.0, \"rgb(103,0,31)\"], [0.1, \"rgb(178,24,43)\"], [0.2, \"rgb(214,96,77)\"], [0.3, \"rgb(244,165,130)\"], [0.4, \"rgb(253,219,199)\"], [0.5, \"rgb(247,247,247)\"], [0.6, \"rgb(209,229,240)\"], [0.7, \"rgb(146,197,222)\"], [0.8, \"rgb(67,147,195)\"], [0.9, \"rgb(33,102,172)\"], [1.0, \"rgb(5,48,97)\"]], \"sequential\": [[0.0, \"#440154\"], [0.1111111111111111, \"#482878\"], [0.2222222222222222, \"#3e4989\"], [0.3333333333333333, \"#31688e\"], [0.4444444444444444, \"#26828e\"], [0.5555555555555556, \"#1f9e89\"], [0.6666666666666666, \"#35b779\"], [0.7777777777777778, \"#6ece58\"], [0.8888888888888888, \"#b5de2b\"], [1.0, \"#fde725\"]], \"sequentialminus\": [[0.0, \"#440154\"], [0.1111111111111111, \"#482878\"], [0.2222222222222222, \"#3e4989\"], [0.3333333333333333, \"#31688e\"], [0.4444444444444444, \"#26828e\"], [0.5555555555555556, \"#1f9e89\"], [0.6666666666666666, \"#35b779\"], [0.7777777777777778, \"#6ece58\"], [0.8888888888888888, \"#b5de2b\"], [1.0, \"#fde725\"]]}, \"colorway\": [\"#1F77B4\", \"#FF7F0E\", \"#2CA02C\", \"#D62728\", \"#9467BD\", \"#8C564B\", \"#E377C2\", \"#7F7F7F\", \"#BCBD22\", \"#17BECF\"], \"font\": {\"color\": \"rgb(36,36,36)\"}, \"geo\": {\"bgcolor\": \"white\", \"lakecolor\": \"white\", \"landcolor\": \"white\", \"showlakes\": true, \"showland\": true, \"subunitcolor\": \"white\"}, \"hoverlabel\": {\"align\": \"left\"}, \"hovermode\": \"closest\", \"mapbox\": {\"style\": \"light\"}, \"paper_bgcolor\": \"white\", \"plot_bgcolor\": \"white\", \"polar\": {\"angularaxis\": {\"gridcolor\": \"rgb(232,232,232)\", \"linecolor\": \"rgb(36,36,36)\", \"showgrid\": false, \"showline\": true, \"ticks\": \"outside\"}, \"bgcolor\": \"white\", \"radialaxis\": {\"gridcolor\": \"rgb(232,232,232)\", \"linecolor\": \"rgb(36,36,36)\", \"showgrid\": false, \"showline\": true, \"ticks\": \"outside\"}}, \"scene\": {\"xaxis\": {\"backgroundcolor\": \"white\", \"gridcolor\": \"rgb(232,232,232)\", \"gridwidth\": 2, \"linecolor\": \"rgb(36,36,36)\", \"showbackground\": true, \"showgrid\": false, \"showline\": true, \"ticks\": \"outside\", \"zeroline\": false, \"zerolinecolor\": \"rgb(36,36,36)\"}, \"yaxis\": {\"backgroundcolor\": \"white\", \"gridcolor\": \"rgb(232,232,232)\", \"gridwidth\": 2, \"linecolor\": \"rgb(36,36,36)\", \"showbackground\": true, \"showgrid\": false, \"showline\": true, \"ticks\": \"outside\", \"zeroline\": false, \"zerolinecolor\": \"rgb(36,36,36)\"}, \"zaxis\": {\"backgroundcolor\": \"white\", \"gridcolor\": \"rgb(232,232,232)\", \"gridwidth\": 2, \"linecolor\": \"rgb(36,36,36)\", \"showbackground\": true, \"showgrid\": false, \"showline\": true, \"ticks\": \"outside\", \"zeroline\": false, \"zerolinecolor\": \"rgb(36,36,36)\"}}, \"shapedefaults\": {\"fillcolor\": \"black\", \"line\": {\"width\": 0}, \"opacity\": 0.3}, \"ternary\": {\"aaxis\": {\"gridcolor\": \"rgb(232,232,232)\", \"linecolor\": \"rgb(36,36,36)\", \"showgrid\": false, \"showline\": true, \"ticks\": \"outside\"}, \"baxis\": {\"gridcolor\": \"rgb(232,232,232)\", \"linecolor\": \"rgb(36,36,36)\", \"showgrid\": false, \"showline\": true, \"ticks\": \"outside\"}, \"bgcolor\": \"white\", \"caxis\": {\"gridcolor\": \"rgb(232,232,232)\", \"linecolor\": \"rgb(36,36,36)\", \"showgrid\": false, \"showline\": true, \"ticks\": \"outside\"}}, \"title\": {\"x\": 0.05}, \"xaxis\": {\"automargin\": true, \"gridcolor\": \"rgb(232,232,232)\", \"linecolor\": \"rgb(36,36,36)\", \"showgrid\": false, \"showline\": true, \"ticks\": \"outside\", \"title\": {\"standoff\": 15}, \"zeroline\": false, \"zerolinecolor\": \"rgb(36,36,36)\"}, \"yaxis\": {\"automargin\": true, \"gridcolor\": \"rgb(232,232,232)\", \"linecolor\": \"rgb(36,36,36)\", \"showgrid\": false, \"showline\": true, \"ticks\": \"outside\", \"title\": {\"standoff\": 15}, \"zeroline\": false, \"zerolinecolor\": \"rgb(36,36,36)\"}}}, \"title\": {\"font\": {\"size\": 26}, \"text\": \"Top 10 leading run-scrorer\"}, \"xaxis\": {\"anchor\": \"y\", \"domain\": [0.0, 1.0], \"title\": {\"text\": \"Player\"}}, \"yaxis\": {\"anchor\": \"x\", \"domain\": [0.0, 1.0], \"title\": {\"text\": \"Total Runs\"}}},\n",
              "                        {\"responsive\": true}\n",
              "                    ).then(function(){\n",
              "                            \n",
              "var gd = document.getElementById('632d72db-59af-4038-a73c-650e127efb8f');\n",
              "var x = new MutationObserver(function (mutations, observer) {{\n",
              "        var display = window.getComputedStyle(gd).display;\n",
              "        if (!display || display === 'none') {{\n",
              "            console.log([gd, 'removed!']);\n",
              "            Plotly.purge(gd);\n",
              "            observer.disconnect();\n",
              "        }}\n",
              "}});\n",
              "\n",
              "// Listen for the removal of the full notebook cells\n",
              "var notebookContainer = gd.closest('#notebook-container');\n",
              "if (notebookContainer) {{\n",
              "    x.observe(notebookContainer, {childList: true});\n",
              "}}\n",
              "\n",
              "// Listen for the clearing of the current output cell\n",
              "var outputEl = gd.closest('.output');\n",
              "if (outputEl) {{\n",
              "    x.observe(outputEl, {childList: true});\n",
              "}}\n",
              "\n",
              "                        })\n",
              "                };\n",
              "                \n",
              "            </script>\n",
              "        </div>\n",
              "</body>\n",
              "</html>"
            ]
          },
          "metadata": {}
        }
      ]
    },
    {
      "cell_type": "markdown",
      "metadata": {
        "papermill": {
          "duration": 0.16573,
          "end_time": "2021-06-04T22:22:04.183796",
          "exception": false,
          "start_time": "2021-06-04T22:22:04.018066",
          "status": "completed"
        },
        "tags": [],
        "id": "d-qg9q_qi33R"
      },
      "source": [
        "<div class=\"alert alert-block alert-info\"><p style='color:black;'> 📌\n",
        "Virat Kohli is the leading run scorer in IPL.<br>\n",
        "One interesting thing to notice that MS Dhoni is the only player in this list who bats down the order.\n",
        "</p>\n",
        "</div>"
      ]
    },
    {
      "cell_type": "markdown",
      "metadata": {
        "papermill": {
          "duration": 0.161106,
          "end_time": "2021-06-04T22:22:04.509280",
          "exception": false,
          "start_time": "2021-06-04T22:22:04.348174",
          "status": "completed"
        },
        "tags": [],
        "id": "nliv4zOci33R"
      },
      "source": [
        "<small><a href='#0'>Go to top</a></small>  "
      ]
    },
    {
      "cell_type": "markdown",
      "metadata": {
        "papermill": {
          "duration": 0.16253,
          "end_time": "2021-06-04T22:22:04.833200",
          "exception": false,
          "start_time": "2021-06-04T22:22:04.670670",
          "status": "completed"
        },
        "tags": [],
        "id": "ppMQ_pOri33R"
      },
      "source": [
        "<a id=\"24\">\n",
        "<h1 style = \"font-family: Snell Roundhand;font-weight: 500;font-size: 30px; font-style: normal; background-color: #FFFB30; color :black;\">24) Most number of 4's :</h1>\n"
      ]
    },
    {
      "cell_type": "code",
      "metadata": {
        "_kg_hide-input": true,
        "_kg_hide-output": false,
        "execution": {
          "iopub.execute_input": "2021-06-04T22:22:05.181680Z",
          "iopub.status.busy": "2021-06-04T22:22:05.180534Z",
          "iopub.status.idle": "2021-06-04T22:22:05.213469Z",
          "shell.execute_reply": "2021-06-04T22:22:05.213967Z"
        },
        "papermill": {
          "duration": 0.210922,
          "end_time": "2021-06-04T22:22:05.214161",
          "exception": false,
          "start_time": "2021-06-04T22:22:05.003239",
          "status": "completed"
        },
        "tags": [],
        "colab": {
          "base_uri": "https://localhost:8080/",
          "height": 254
        },
        "id": "xyEOHHw7i33S",
        "outputId": "bbf92d33-f257-441b-9dd9-9e0030a95965"
      },
      "source": [
        "balls_played=balls_played.merge(runs,left_on='batsman',right_on='Batsman',how='outer')\n",
        "four=deliveries_data[deliveries_data['batsman_runs']==4]\n",
        "runs_4=four.groupby('batsman')['batsman_runs'].count().reset_index()\n",
        "runs_4.columns=['Batsman','4s']\n",
        "runs_4.sort_values(by='4s',ascending=False).head(10).reset_index().drop('index',axis=1).style.background_gradient(cmap='PuBu')"
      ],
      "execution_count": 63,
      "outputs": [
        {
          "output_type": "execute_result",
          "data": {
            "text/html": [
              "<style  type=\"text/css\" >\n",
              "#T_b82bced4_1651_11ec_8baf_0242ac1c0002row0_col1{\n",
              "            background-color:  #023858;\n",
              "            color:  #f1f1f1;\n",
              "        }#T_b82bced4_1651_11ec_8baf_0242ac1c0002row1_col1{\n",
              "            background-color:  #3f93c2;\n",
              "            color:  #000000;\n",
              "        }#T_b82bced4_1651_11ec_8baf_0242ac1c0002row2_col1{\n",
              "            background-color:  #4c99c5;\n",
              "            color:  #000000;\n",
              "        }#T_b82bced4_1651_11ec_8baf_0242ac1c0002row3_col1{\n",
              "            background-color:  #67a4cc;\n",
              "            color:  #000000;\n",
              "        }#T_b82bced4_1651_11ec_8baf_0242ac1c0002row4_col1{\n",
              "            background-color:  #69a5cc;\n",
              "            color:  #000000;\n",
              "        }#T_b82bced4_1651_11ec_8baf_0242ac1c0002row5_col1{\n",
              "            background-color:  #acc0dd;\n",
              "            color:  #000000;\n",
              "        }#T_b82bced4_1651_11ec_8baf_0242ac1c0002row6_col1{\n",
              "            background-color:  #b3c3de;\n",
              "            color:  #000000;\n",
              "        }#T_b82bced4_1651_11ec_8baf_0242ac1c0002row7_col1{\n",
              "            background-color:  #e6e2ef;\n",
              "            color:  #000000;\n",
              "        }#T_b82bced4_1651_11ec_8baf_0242ac1c0002row8_col1{\n",
              "            background-color:  #fbf3f9;\n",
              "            color:  #000000;\n",
              "        }#T_b82bced4_1651_11ec_8baf_0242ac1c0002row9_col1{\n",
              "            background-color:  #fff7fb;\n",
              "            color:  #000000;\n",
              "        }</style><table id=\"T_b82bced4_1651_11ec_8baf_0242ac1c0002\" ><thead>    <tr>        <th class=\"blank level0\" ></th>        <th class=\"col_heading level0 col0\" >Batsman</th>        <th class=\"col_heading level0 col1\" >4s</th>    </tr></thead><tbody>\n",
              "                <tr>\n",
              "                        <th id=\"T_b82bced4_1651_11ec_8baf_0242ac1c0002level0_row0\" class=\"row_heading level0 row0\" >0</th>\n",
              "                        <td id=\"T_b82bced4_1651_11ec_8baf_0242ac1c0002row0_col0\" class=\"data row0 col0\" >S Dhawan</td>\n",
              "                        <td id=\"T_b82bced4_1651_11ec_8baf_0242ac1c0002row0_col1\" class=\"data row0 col1\" >591</td>\n",
              "            </tr>\n",
              "            <tr>\n",
              "                        <th id=\"T_b82bced4_1651_11ec_8baf_0242ac1c0002level0_row1\" class=\"row_heading level0 row1\" >1</th>\n",
              "                        <td id=\"T_b82bced4_1651_11ec_8baf_0242ac1c0002row1_col0\" class=\"data row1 col0\" >DA Warner</td>\n",
              "                        <td id=\"T_b82bced4_1651_11ec_8baf_0242ac1c0002row1_col1\" class=\"data row1 col1\" >510</td>\n",
              "            </tr>\n",
              "            <tr>\n",
              "                        <th id=\"T_b82bced4_1651_11ec_8baf_0242ac1c0002level0_row2\" class=\"row_heading level0 row2\" >2</th>\n",
              "                        <td id=\"T_b82bced4_1651_11ec_8baf_0242ac1c0002row2_col0\" class=\"data row2 col0\" >V Kohli</td>\n",
              "                        <td id=\"T_b82bced4_1651_11ec_8baf_0242ac1c0002row2_col1\" class=\"data row2 col1\" >504</td>\n",
              "            </tr>\n",
              "            <tr>\n",
              "                        <th id=\"T_b82bced4_1651_11ec_8baf_0242ac1c0002level0_row3\" class=\"row_heading level0 row3\" >3</th>\n",
              "                        <td id=\"T_b82bced4_1651_11ec_8baf_0242ac1c0002row3_col0\" class=\"data row3 col0\" >SK Raina</td>\n",
              "                        <td id=\"T_b82bced4_1651_11ec_8baf_0242ac1c0002row3_col1\" class=\"data row3 col1\" >493</td>\n",
              "            </tr>\n",
              "            <tr>\n",
              "                        <th id=\"T_b82bced4_1651_11ec_8baf_0242ac1c0002level0_row4\" class=\"row_heading level0 row4\" >4</th>\n",
              "                        <td id=\"T_b82bced4_1651_11ec_8baf_0242ac1c0002row4_col0\" class=\"data row4 col0\" >G Gambhir</td>\n",
              "                        <td id=\"T_b82bced4_1651_11ec_8baf_0242ac1c0002row4_col1\" class=\"data row4 col1\" >492</td>\n",
              "            </tr>\n",
              "            <tr>\n",
              "                        <th id=\"T_b82bced4_1651_11ec_8baf_0242ac1c0002level0_row5\" class=\"row_heading level0 row5\" >5</th>\n",
              "                        <td id=\"T_b82bced4_1651_11ec_8baf_0242ac1c0002row5_col0\" class=\"data row5 col0\" >RG Sharma</td>\n",
              "                        <td id=\"T_b82bced4_1651_11ec_8baf_0242ac1c0002row5_col1\" class=\"data row5 col1\" >458</td>\n",
              "            </tr>\n",
              "            <tr>\n",
              "                        <th id=\"T_b82bced4_1651_11ec_8baf_0242ac1c0002level0_row6\" class=\"row_heading level0 row6\" >6</th>\n",
              "                        <td id=\"T_b82bced4_1651_11ec_8baf_0242ac1c0002row6_col0\" class=\"data row6 col0\" >RV Uthappa</td>\n",
              "                        <td id=\"T_b82bced4_1651_11ec_8baf_0242ac1c0002row6_col1\" class=\"data row6 col1\" >454</td>\n",
              "            </tr>\n",
              "            <tr>\n",
              "                        <th id=\"T_b82bced4_1651_11ec_8baf_0242ac1c0002level0_row7\" class=\"row_heading level0 row7\" >7</th>\n",
              "                        <td id=\"T_b82bced4_1651_11ec_8baf_0242ac1c0002row7_col0\" class=\"data row7 col0\" >AM Rahane</td>\n",
              "                        <td id=\"T_b82bced4_1651_11ec_8baf_0242ac1c0002row7_col1\" class=\"data row7 col1\" >416</td>\n",
              "            </tr>\n",
              "            <tr>\n",
              "                        <th id=\"T_b82bced4_1651_11ec_8baf_0242ac1c0002level0_row8\" class=\"row_heading level0 row8\" >8</th>\n",
              "                        <td id=\"T_b82bced4_1651_11ec_8baf_0242ac1c0002row8_col0\" class=\"data row8 col0\" >AB de Villiers</td>\n",
              "                        <td id=\"T_b82bced4_1651_11ec_8baf_0242ac1c0002row8_col1\" class=\"data row8 col1\" >390</td>\n",
              "            </tr>\n",
              "            <tr>\n",
              "                        <th id=\"T_b82bced4_1651_11ec_8baf_0242ac1c0002level0_row9\" class=\"row_heading level0 row9\" >9</th>\n",
              "                        <td id=\"T_b82bced4_1651_11ec_8baf_0242ac1c0002row9_col0\" class=\"data row9 col0\" >CH Gayle</td>\n",
              "                        <td id=\"T_b82bced4_1651_11ec_8baf_0242ac1c0002row9_col1\" class=\"data row9 col1\" >384</td>\n",
              "            </tr>\n",
              "    </tbody></table>"
            ],
            "text/plain": [
              "<pandas.io.formats.style.Styler at 0x7feeb8ff3350>"
            ]
          },
          "metadata": {},
          "execution_count": 63
        }
      ]
    },
    {
      "cell_type": "markdown",
      "metadata": {
        "papermill": {
          "duration": 0.164505,
          "end_time": "2021-06-04T22:22:05.543269",
          "exception": false,
          "start_time": "2021-06-04T22:22:05.378764",
          "status": "completed"
        },
        "tags": [],
        "id": "xOcVGCyXi33S"
      },
      "source": [
        "<div class=\"alert alert-block alert-info\"><p style='color:black;'> 📌\n",
        "Shikhar Dhawan holds the record for most number of 4's\n",
        "</p>\n",
        "</div>"
      ]
    },
    {
      "cell_type": "markdown",
      "metadata": {
        "papermill": {
          "duration": 0.162286,
          "end_time": "2021-06-04T22:22:05.871026",
          "exception": false,
          "start_time": "2021-06-04T22:22:05.708740",
          "status": "completed"
        },
        "tags": [],
        "id": "CtTUkHHwi33S"
      },
      "source": [
        "<small><a href='#0'>Go to top</a></small>  "
      ]
    },
    {
      "cell_type": "markdown",
      "metadata": {
        "papermill": {
          "duration": 0.166307,
          "end_time": "2021-06-04T22:22:06.206275",
          "exception": false,
          "start_time": "2021-06-04T22:22:06.039968",
          "status": "completed"
        },
        "tags": [],
        "id": "AA3rDPrQi33S"
      },
      "source": [
        "<a id=\"25\">\n",
        "<h1 style = \"font-family: Snell Roundhand;font-weight: 500;font-size: 30px; font-style: normal; background-color: #FFFB30; color :black;\">25) Most number of 6's :</h1>\n"
      ]
    },
    {
      "cell_type": "code",
      "metadata": {
        "_kg_hide-input": true,
        "execution": {
          "iopub.execute_input": "2021-06-04T22:22:06.559201Z",
          "iopub.status.busy": "2021-06-04T22:22:06.558418Z",
          "iopub.status.idle": "2021-06-04T22:22:06.734532Z",
          "shell.execute_reply": "2021-06-04T22:22:06.733870Z"
        },
        "papermill": {
          "duration": 0.362007,
          "end_time": "2021-06-04T22:22:06.734705",
          "exception": false,
          "start_time": "2021-06-04T22:22:06.372698",
          "status": "completed"
        },
        "tags": [],
        "colab": {
          "base_uri": "https://localhost:8080/",
          "height": 254
        },
        "id": "mHj-aLtei33S",
        "outputId": "3d205f83-4ac2-4a31-c5f2-3dc16b4439fb"
      },
      "source": [
        "six=deliveries_data.groupby('batsman')['batsman_runs'].agg(lambda x: (x==6).sum()).reset_index()\n",
        "six.columns=['Batsman','6s']\n",
        "six.sort_values(by='6s',ascending=False).head(10).reset_index().drop('index',axis=1).style.background_gradient(cmap='PuBu')"
      ],
      "execution_count": 64,
      "outputs": [
        {
          "output_type": "execute_result",
          "data": {
            "text/html": [
              "<style  type=\"text/css\" >\n",
              "#T_b8492c2c_1651_11ec_8baf_0242ac1c0002row0_col1{\n",
              "            background-color:  #023858;\n",
              "            color:  #f1f1f1;\n",
              "        }#T_b8492c2c_1651_11ec_8baf_0242ac1c0002row1_col1{\n",
              "            background-color:  #a1bbda;\n",
              "            color:  #000000;\n",
              "        }#T_b8492c2c_1651_11ec_8baf_0242ac1c0002row2_col1{\n",
              "            background-color:  #c5cce3;\n",
              "            color:  #000000;\n",
              "        }#T_b8492c2c_1651_11ec_8baf_0242ac1c0002row3_col1{\n",
              "            background-color:  #c8cde4;\n",
              "            color:  #000000;\n",
              "        }#T_b8492c2c_1651_11ec_8baf_0242ac1c0002row4_col1{\n",
              "            background-color:  #d9d8ea;\n",
              "            color:  #000000;\n",
              "        }#T_b8492c2c_1651_11ec_8baf_0242ac1c0002row5_col1{\n",
              "            background-color:  #dedcec;\n",
              "            color:  #000000;\n",
              "        }#T_b8492c2c_1651_11ec_8baf_0242ac1c0002row6_col1{\n",
              "            background-color:  #e1dfed;\n",
              "            color:  #000000;\n",
              "        }#T_b8492c2c_1651_11ec_8baf_0242ac1c0002row7_col1{\n",
              "            background-color:  #e3e0ee;\n",
              "            color:  #000000;\n",
              "        }#T_b8492c2c_1651_11ec_8baf_0242ac1c0002row8_col1{\n",
              "            background-color:  #e7e3f0;\n",
              "            color:  #000000;\n",
              "        }#T_b8492c2c_1651_11ec_8baf_0242ac1c0002row9_col1{\n",
              "            background-color:  #fff7fb;\n",
              "            color:  #000000;\n",
              "        }</style><table id=\"T_b8492c2c_1651_11ec_8baf_0242ac1c0002\" ><thead>    <tr>        <th class=\"blank level0\" ></th>        <th class=\"col_heading level0 col0\" >Batsman</th>        <th class=\"col_heading level0 col1\" >6s</th>    </tr></thead><tbody>\n",
              "                <tr>\n",
              "                        <th id=\"T_b8492c2c_1651_11ec_8baf_0242ac1c0002level0_row0\" class=\"row_heading level0 row0\" >0</th>\n",
              "                        <td id=\"T_b8492c2c_1651_11ec_8baf_0242ac1c0002row0_col0\" class=\"data row0 col0\" >CH Gayle</td>\n",
              "                        <td id=\"T_b8492c2c_1651_11ec_8baf_0242ac1c0002row0_col1\" class=\"data row0 col1\" >349</td>\n",
              "            </tr>\n",
              "            <tr>\n",
              "                        <th id=\"T_b8492c2c_1651_11ec_8baf_0242ac1c0002level0_row1\" class=\"row_heading level0 row1\" >1</th>\n",
              "                        <td id=\"T_b8492c2c_1651_11ec_8baf_0242ac1c0002row1_col0\" class=\"data row1 col0\" >AB de Villiers</td>\n",
              "                        <td id=\"T_b8492c2c_1651_11ec_8baf_0242ac1c0002row1_col1\" class=\"data row1 col1\" >235</td>\n",
              "            </tr>\n",
              "            <tr>\n",
              "                        <th id=\"T_b8492c2c_1651_11ec_8baf_0242ac1c0002level0_row2\" class=\"row_heading level0 row2\" >2</th>\n",
              "                        <td id=\"T_b8492c2c_1651_11ec_8baf_0242ac1c0002row2_col0\" class=\"data row2 col0\" >MS Dhoni</td>\n",
              "                        <td id=\"T_b8492c2c_1651_11ec_8baf_0242ac1c0002row2_col1\" class=\"data row2 col1\" >216</td>\n",
              "            </tr>\n",
              "            <tr>\n",
              "                        <th id=\"T_b8492c2c_1651_11ec_8baf_0242ac1c0002level0_row3\" class=\"row_heading level0 row3\" >3</th>\n",
              "                        <td id=\"T_b8492c2c_1651_11ec_8baf_0242ac1c0002row3_col0\" class=\"data row3 col0\" >RG Sharma</td>\n",
              "                        <td id=\"T_b8492c2c_1651_11ec_8baf_0242ac1c0002row3_col1\" class=\"data row3 col1\" >214</td>\n",
              "            </tr>\n",
              "            <tr>\n",
              "                        <th id=\"T_b8492c2c_1651_11ec_8baf_0242ac1c0002level0_row4\" class=\"row_heading level0 row4\" >4</th>\n",
              "                        <td id=\"T_b8492c2c_1651_11ec_8baf_0242ac1c0002row4_col0\" class=\"data row4 col0\" >V Kohli</td>\n",
              "                        <td id=\"T_b8492c2c_1651_11ec_8baf_0242ac1c0002row4_col1\" class=\"data row4 col1\" >202</td>\n",
              "            </tr>\n",
              "            <tr>\n",
              "                        <th id=\"T_b8492c2c_1651_11ec_8baf_0242ac1c0002level0_row5\" class=\"row_heading level0 row5\" >5</th>\n",
              "                        <td id=\"T_b8492c2c_1651_11ec_8baf_0242ac1c0002row5_col0\" class=\"data row5 col0\" >KA Pollard</td>\n",
              "                        <td id=\"T_b8492c2c_1651_11ec_8baf_0242ac1c0002row5_col1\" class=\"data row5 col1\" >198</td>\n",
              "            </tr>\n",
              "            <tr>\n",
              "                        <th id=\"T_b8492c2c_1651_11ec_8baf_0242ac1c0002level0_row6\" class=\"row_heading level0 row6\" >6</th>\n",
              "                        <td id=\"T_b8492c2c_1651_11ec_8baf_0242ac1c0002row6_col0\" class=\"data row6 col0\" >DA Warner</td>\n",
              "                        <td id=\"T_b8492c2c_1651_11ec_8baf_0242ac1c0002row6_col1\" class=\"data row6 col1\" >195</td>\n",
              "            </tr>\n",
              "            <tr>\n",
              "                        <th id=\"T_b8492c2c_1651_11ec_8baf_0242ac1c0002level0_row7\" class=\"row_heading level0 row7\" >7</th>\n",
              "                        <td id=\"T_b8492c2c_1651_11ec_8baf_0242ac1c0002row7_col0\" class=\"data row7 col0\" >SK Raina</td>\n",
              "                        <td id=\"T_b8492c2c_1651_11ec_8baf_0242ac1c0002row7_col1\" class=\"data row7 col1\" >194</td>\n",
              "            </tr>\n",
              "            <tr>\n",
              "                        <th id=\"T_b8492c2c_1651_11ec_8baf_0242ac1c0002level0_row8\" class=\"row_heading level0 row8\" >8</th>\n",
              "                        <td id=\"T_b8492c2c_1651_11ec_8baf_0242ac1c0002row8_col0\" class=\"data row8 col0\" >SR Watson</td>\n",
              "                        <td id=\"T_b8492c2c_1651_11ec_8baf_0242ac1c0002row8_col1\" class=\"data row8 col1\" >190</td>\n",
              "            </tr>\n",
              "            <tr>\n",
              "                        <th id=\"T_b8492c2c_1651_11ec_8baf_0242ac1c0002level0_row9\" class=\"row_heading level0 row9\" >9</th>\n",
              "                        <td id=\"T_b8492c2c_1651_11ec_8baf_0242ac1c0002row9_col0\" class=\"data row9 col0\" >RV Uthappa</td>\n",
              "                        <td id=\"T_b8492c2c_1651_11ec_8baf_0242ac1c0002row9_col1\" class=\"data row9 col1\" >163</td>\n",
              "            </tr>\n",
              "    </tbody></table>"
            ],
            "text/plain": [
              "<pandas.io.formats.style.Styler at 0x7feeb93755d0>"
            ]
          },
          "metadata": {},
          "execution_count": 64
        }
      ]
    },
    {
      "cell_type": "markdown",
      "metadata": {
        "papermill": {
          "duration": 0.174601,
          "end_time": "2021-06-04T22:22:07.087796",
          "exception": false,
          "start_time": "2021-06-04T22:22:06.913195",
          "status": "completed"
        },
        "tags": [],
        "id": "eL-SV4Gvi33S"
      },
      "source": [
        "<div class=\"alert alert-block alert-info\"><p style='color:black;'> 📌\n",
        "\"The Universe Boss\" Chris Gayle had smashed 349 sixes, most by any batsman.\n",
        "</p>\n",
        "</div>"
      ]
    },
    {
      "cell_type": "markdown",
      "metadata": {
        "papermill": {
          "duration": 0.171127,
          "end_time": "2021-06-04T22:22:07.427686",
          "exception": false,
          "start_time": "2021-06-04T22:22:07.256559",
          "status": "completed"
        },
        "tags": [],
        "id": "1GhqtgObi33T"
      },
      "source": [
        "<small><a href='#0'>Go to top</a></small>  "
      ]
    },
    {
      "cell_type": "markdown",
      "metadata": {
        "papermill": {
          "duration": 0.171237,
          "end_time": "2021-06-04T22:22:07.769836",
          "exception": false,
          "start_time": "2021-06-04T22:22:07.598599",
          "status": "completed"
        },
        "tags": [],
        "id": "f4zZQvVti33T"
      },
      "source": [
        "<a id=\"26\">\n",
        "<h1 style = \"font-family: Snell Roundhand;font-weight: 500;font-size: 30px; font-style: normal; background-color: #FFFB30; color :black;\">26) Highest Strike rate (minimum 100 balls):</h1>\n"
      ]
    },
    {
      "cell_type": "code",
      "metadata": {
        "_kg_hide-input": true,
        "_kg_hide-output": true,
        "execution": {
          "iopub.execute_input": "2021-06-04T22:22:08.116662Z",
          "iopub.status.busy": "2021-06-04T22:22:08.115749Z",
          "iopub.status.idle": "2021-06-04T22:22:08.123593Z",
          "shell.execute_reply": "2021-06-04T22:22:08.124122Z"
        },
        "papermill": {
          "duration": 0.187134,
          "end_time": "2021-06-04T22:22:08.124310",
          "exception": false,
          "start_time": "2021-06-04T22:22:07.937176",
          "status": "completed"
        },
        "tags": [],
        "colab": {
          "base_uri": "https://localhost:8080/"
        },
        "id": "3hL9lOvli33T",
        "outputId": "95b15d3f-c423-4128-fabb-486c0c0657ba"
      },
      "source": [
        "player=pd.concat([runs,balls_played.iloc[:,1],runs_4.iloc[:,1],six.iloc[:,1]],axis=1)\n",
        "player['strike_rate']=player['runs']/player['ball']*100\n",
        "player['4s'].fillna(0,inplace=True)\n",
        "player.isnull().values.any()"
      ],
      "execution_count": 65,
      "outputs": [
        {
          "output_type": "execute_result",
          "data": {
            "text/plain": [
              "False"
            ]
          },
          "metadata": {},
          "execution_count": 65
        }
      ]
    },
    {
      "cell_type": "code",
      "metadata": {
        "_kg_hide-input": true,
        "_kg_hide-output": true,
        "execution": {
          "iopub.execute_input": "2021-06-04T22:22:08.468532Z",
          "iopub.status.busy": "2021-06-04T22:22:08.467785Z",
          "iopub.status.idle": "2021-06-04T22:22:08.482889Z",
          "shell.execute_reply": "2021-06-04T22:22:08.483356Z"
        },
        "papermill": {
          "duration": 0.186763,
          "end_time": "2021-06-04T22:22:08.483546",
          "exception": false,
          "start_time": "2021-06-04T22:22:08.296783",
          "status": "completed"
        },
        "tags": [],
        "colab": {
          "base_uri": "https://localhost:8080/",
          "height": 363
        },
        "id": "uHqwzz-2i33T",
        "outputId": "dc22e35f-6c95-4644-b1c4-0cf51e7c5e07"
      },
      "source": [
        "player.sort_values(by='strike_rate',ascending=False).head(10)"
      ],
      "execution_count": 66,
      "outputs": [
        {
          "output_type": "execute_result",
          "data": {
            "text/html": [
              "<div>\n",
              "<style scoped>\n",
              "    .dataframe tbody tr th:only-of-type {\n",
              "        vertical-align: middle;\n",
              "    }\n",
              "\n",
              "    .dataframe tbody tr th {\n",
              "        vertical-align: top;\n",
              "    }\n",
              "\n",
              "    .dataframe thead th {\n",
              "        text-align: right;\n",
              "    }\n",
              "</style>\n",
              "<table border=\"1\" class=\"dataframe\">\n",
              "  <thead>\n",
              "    <tr style=\"text-align: right;\">\n",
              "      <th></th>\n",
              "      <th>Batsman</th>\n",
              "      <th>runs</th>\n",
              "      <th>ball</th>\n",
              "      <th>4s</th>\n",
              "      <th>6s</th>\n",
              "      <th>strike_rate</th>\n",
              "    </tr>\n",
              "  </thead>\n",
              "  <tbody>\n",
              "    <tr>\n",
              "      <th>72</th>\n",
              "      <td>B Stanlake</td>\n",
              "      <td>5</td>\n",
              "      <td>2</td>\n",
              "      <td>3.0</td>\n",
              "      <td>0</td>\n",
              "      <td>250.000000</td>\n",
              "    </tr>\n",
              "    <tr>\n",
              "      <th>504</th>\n",
              "      <td>Umar Gul</td>\n",
              "      <td>39</td>\n",
              "      <td>19</td>\n",
              "      <td>0.0</td>\n",
              "      <td>5</td>\n",
              "      <td>205.263158</td>\n",
              "    </tr>\n",
              "    <tr>\n",
              "      <th>395</th>\n",
              "      <td>RS Sodhi</td>\n",
              "      <td>4</td>\n",
              "      <td>2</td>\n",
              "      <td>1.0</td>\n",
              "      <td>0</td>\n",
              "      <td>200.000000</td>\n",
              "    </tr>\n",
              "    <tr>\n",
              "      <th>470</th>\n",
              "      <td>Shahid Afridi</td>\n",
              "      <td>81</td>\n",
              "      <td>46</td>\n",
              "      <td>0.0</td>\n",
              "      <td>6</td>\n",
              "      <td>176.086957</td>\n",
              "    </tr>\n",
              "    <tr>\n",
              "      <th>175</th>\n",
              "      <td>I Malhotra</td>\n",
              "      <td>7</td>\n",
              "      <td>4</td>\n",
              "      <td>13.0</td>\n",
              "      <td>0</td>\n",
              "      <td>175.000000</td>\n",
              "    </tr>\n",
              "    <tr>\n",
              "      <th>498</th>\n",
              "      <td>TU Deshpande</td>\n",
              "      <td>21</td>\n",
              "      <td>12</td>\n",
              "      <td>0.0</td>\n",
              "      <td>1</td>\n",
              "      <td>175.000000</td>\n",
              "    </tr>\n",
              "    <tr>\n",
              "      <th>33</th>\n",
              "      <td>AD Russell</td>\n",
              "      <td>1517</td>\n",
              "      <td>882</td>\n",
              "      <td>24.0</td>\n",
              "      <td>129</td>\n",
              "      <td>171.995465</td>\n",
              "    </tr>\n",
              "    <tr>\n",
              "      <th>253</th>\n",
              "      <td>LJ Wright</td>\n",
              "      <td>106</td>\n",
              "      <td>63</td>\n",
              "      <td>4.0</td>\n",
              "      <td>3</td>\n",
              "      <td>168.253968</td>\n",
              "    </tr>\n",
              "    <tr>\n",
              "      <th>57</th>\n",
              "      <td>Abdul Samad</td>\n",
              "      <td>111</td>\n",
              "      <td>66</td>\n",
              "      <td>28.0</td>\n",
              "      <td>6</td>\n",
              "      <td>168.181818</td>\n",
              "    </tr>\n",
              "    <tr>\n",
              "      <th>235</th>\n",
              "      <td>KMDN Kulasekara</td>\n",
              "      <td>5</td>\n",
              "      <td>3</td>\n",
              "      <td>156.0</td>\n",
              "      <td>0</td>\n",
              "      <td>166.666667</td>\n",
              "    </tr>\n",
              "  </tbody>\n",
              "</table>\n",
              "</div>"
            ],
            "text/plain": [
              "             Batsman  runs  ball     4s   6s  strike_rate\n",
              "72        B Stanlake     5     2    3.0    0   250.000000\n",
              "504         Umar Gul    39    19    0.0    5   205.263158\n",
              "395         RS Sodhi     4     2    1.0    0   200.000000\n",
              "470    Shahid Afridi    81    46    0.0    6   176.086957\n",
              "175       I Malhotra     7     4   13.0    0   175.000000\n",
              "498     TU Deshpande    21    12    0.0    1   175.000000\n",
              "33        AD Russell  1517   882   24.0  129   171.995465\n",
              "253        LJ Wright   106    63    4.0    3   168.253968\n",
              "57       Abdul Samad   111    66   28.0    6   168.181818\n",
              "235  KMDN Kulasekara     5     3  156.0    0   166.666667"
            ]
          },
          "metadata": {},
          "execution_count": 66
        }
      ]
    },
    {
      "cell_type": "code",
      "metadata": {
        "_kg_hide-input": true,
        "_kg_hide-output": true,
        "execution": {
          "iopub.execute_input": "2021-06-04T22:22:08.845118Z",
          "iopub.status.busy": "2021-06-04T22:22:08.844025Z",
          "iopub.status.idle": "2021-06-04T22:22:08.861199Z",
          "shell.execute_reply": "2021-06-04T22:22:08.860664Z"
        },
        "papermill": {
          "duration": 0.194819,
          "end_time": "2021-06-04T22:22:08.861369",
          "exception": false,
          "start_time": "2021-06-04T22:22:08.666550",
          "status": "completed"
        },
        "tags": [],
        "colab": {
          "base_uri": "https://localhost:8080/",
          "height": 363
        },
        "id": "YEjW9DRVi33T",
        "outputId": "ee9761ad-7c59-4faf-f4fd-502ce312df9c"
      },
      "source": [
        "sr=player[player.ball > 100]\n",
        "sr.sort_values(by='strike_rate',ascending=False).head(10)\n"
      ],
      "execution_count": 67,
      "outputs": [
        {
          "output_type": "execute_result",
          "data": {
            "text/html": [
              "<div>\n",
              "<style scoped>\n",
              "    .dataframe tbody tr th:only-of-type {\n",
              "        vertical-align: middle;\n",
              "    }\n",
              "\n",
              "    .dataframe tbody tr th {\n",
              "        vertical-align: top;\n",
              "    }\n",
              "\n",
              "    .dataframe thead th {\n",
              "        text-align: right;\n",
              "    }\n",
              "</style>\n",
              "<table border=\"1\" class=\"dataframe\">\n",
              "  <thead>\n",
              "    <tr style=\"text-align: right;\">\n",
              "      <th></th>\n",
              "      <th>Batsman</th>\n",
              "      <th>runs</th>\n",
              "      <th>ball</th>\n",
              "      <th>4s</th>\n",
              "      <th>6s</th>\n",
              "      <th>strike_rate</th>\n",
              "    </tr>\n",
              "  </thead>\n",
              "  <tbody>\n",
              "    <tr>\n",
              "      <th>33</th>\n",
              "      <td>AD Russell</td>\n",
              "      <td>1517</td>\n",
              "      <td>882</td>\n",
              "      <td>24.0</td>\n",
              "      <td>129</td>\n",
              "      <td>171.995465</td>\n",
              "    </tr>\n",
              "    <tr>\n",
              "      <th>217</th>\n",
              "      <td>K Gowtham</td>\n",
              "      <td>186</td>\n",
              "      <td>113</td>\n",
              "      <td>247.0</td>\n",
              "      <td>12</td>\n",
              "      <td>164.601770</td>\n",
              "    </tr>\n",
              "    <tr>\n",
              "      <th>80</th>\n",
              "      <td>BCJ Cutting</td>\n",
              "      <td>238</td>\n",
              "      <td>146</td>\n",
              "      <td>40.0</td>\n",
              "      <td>19</td>\n",
              "      <td>163.013699</td>\n",
              "    </tr>\n",
              "    <tr>\n",
              "      <th>317</th>\n",
              "      <td>N Pooran</td>\n",
              "      <td>521</td>\n",
              "      <td>323</td>\n",
              "      <td>6.0</td>\n",
              "      <td>39</td>\n",
              "      <td>161.300310</td>\n",
              "    </tr>\n",
              "    <tr>\n",
              "      <th>453</th>\n",
              "      <td>SP Narine</td>\n",
              "      <td>892</td>\n",
              "      <td>573</td>\n",
              "      <td>0.0</td>\n",
              "      <td>52</td>\n",
              "      <td>155.671902</td>\n",
              "    </tr>\n",
              "    <tr>\n",
              "      <th>293</th>\n",
              "      <td>MM Ali</td>\n",
              "      <td>309</td>\n",
              "      <td>199</td>\n",
              "      <td>23.0</td>\n",
              "      <td>23</td>\n",
              "      <td>155.276382</td>\n",
              "    </tr>\n",
              "    <tr>\n",
              "      <th>97</th>\n",
              "      <td>CH Morris</td>\n",
              "      <td>551</td>\n",
              "      <td>360</td>\n",
              "      <td>116.0</td>\n",
              "      <td>30</td>\n",
              "      <td>153.055556</td>\n",
              "    </tr>\n",
              "    <tr>\n",
              "      <th>192</th>\n",
              "      <td>JC Archer</td>\n",
              "      <td>195</td>\n",
              "      <td>128</td>\n",
              "      <td>18.0</td>\n",
              "      <td>14</td>\n",
              "      <td>152.343750</td>\n",
              "    </tr>\n",
              "    <tr>\n",
              "      <th>106</th>\n",
              "      <td>CR Brathwaite</td>\n",
              "      <td>181</td>\n",
              "      <td>120</td>\n",
              "      <td>11.0</td>\n",
              "      <td>16</td>\n",
              "      <td>150.833333</td>\n",
              "    </tr>\n",
              "    <tr>\n",
              "      <th>88</th>\n",
              "      <td>Bipul Sharma</td>\n",
              "      <td>187</td>\n",
              "      <td>124</td>\n",
              "      <td>5.0</td>\n",
              "      <td>9</td>\n",
              "      <td>150.806452</td>\n",
              "    </tr>\n",
              "  </tbody>\n",
              "</table>\n",
              "</div>"
            ],
            "text/plain": [
              "           Batsman  runs  ball     4s   6s  strike_rate\n",
              "33      AD Russell  1517   882   24.0  129   171.995465\n",
              "217      K Gowtham   186   113  247.0   12   164.601770\n",
              "80     BCJ Cutting   238   146   40.0   19   163.013699\n",
              "317       N Pooran   521   323    6.0   39   161.300310\n",
              "453      SP Narine   892   573    0.0   52   155.671902\n",
              "293         MM Ali   309   199   23.0   23   155.276382\n",
              "97       CH Morris   551   360  116.0   30   153.055556\n",
              "192      JC Archer   195   128   18.0   14   152.343750\n",
              "106  CR Brathwaite   181   120   11.0   16   150.833333\n",
              "88    Bipul Sharma   187   124    5.0    9   150.806452"
            ]
          },
          "metadata": {},
          "execution_count": 67
        }
      ]
    },
    {
      "cell_type": "code",
      "metadata": {
        "_kg_hide-input": true,
        "_kg_hide-output": false,
        "execution": {
          "iopub.execute_input": "2021-06-04T22:22:09.218689Z",
          "iopub.status.busy": "2021-06-04T22:22:09.218006Z",
          "iopub.status.idle": "2021-06-04T22:22:09.231079Z",
          "shell.execute_reply": "2021-06-04T22:22:09.231608Z"
        },
        "papermill": {
          "duration": 0.18845,
          "end_time": "2021-06-04T22:22:09.231811",
          "exception": false,
          "start_time": "2021-06-04T22:22:09.043361",
          "status": "completed"
        },
        "tags": [],
        "colab": {
          "base_uri": "https://localhost:8080/",
          "height": 254
        },
        "id": "Dlssc0rni33T",
        "outputId": "362b3ef6-2ee5-4bcb-b809-eefad85680d9"
      },
      "source": [
        "reqsr=sr.drop(columns=['runs','ball','4s','6s'],axis=1)\n",
        "reqsr.sort_values(by='strike_rate',ascending=False).head(10).style.background_gradient(cmap='PuBu')"
      ],
      "execution_count": 68,
      "outputs": [
        {
          "output_type": "execute_result",
          "data": {
            "text/html": [
              "<style  type=\"text/css\" >\n",
              "#T_b85808d2_1651_11ec_8baf_0242ac1c0002row0_col1{\n",
              "            background-color:  #023858;\n",
              "            color:  #f1f1f1;\n",
              "        }#T_b85808d2_1651_11ec_8baf_0242ac1c0002row1_col1{\n",
              "            background-color:  #2c89bd;\n",
              "            color:  #000000;\n",
              "        }#T_b85808d2_1651_11ec_8baf_0242ac1c0002row2_col1{\n",
              "            background-color:  #4e9ac6;\n",
              "            color:  #000000;\n",
              "        }#T_b85808d2_1651_11ec_8baf_0242ac1c0002row3_col1{\n",
              "            background-color:  #76aad0;\n",
              "            color:  #000000;\n",
              "        }#T_b85808d2_1651_11ec_8baf_0242ac1c0002row4_col1{\n",
              "            background-color:  #d5d5e8;\n",
              "            color:  #000000;\n",
              "        }#T_b85808d2_1651_11ec_8baf_0242ac1c0002row5_col1{\n",
              "            background-color:  #d9d8ea;\n",
              "            color:  #000000;\n",
              "        }#T_b85808d2_1651_11ec_8baf_0242ac1c0002row6_col1{\n",
              "            background-color:  #efe9f3;\n",
              "            color:  #000000;\n",
              "        }#T_b85808d2_1651_11ec_8baf_0242ac1c0002row7_col1{\n",
              "            background-color:  #f4eef6;\n",
              "            color:  #000000;\n",
              "        }#T_b85808d2_1651_11ec_8baf_0242ac1c0002row8_col1,#T_b85808d2_1651_11ec_8baf_0242ac1c0002row9_col1{\n",
              "            background-color:  #fff7fb;\n",
              "            color:  #000000;\n",
              "        }</style><table id=\"T_b85808d2_1651_11ec_8baf_0242ac1c0002\" ><thead>    <tr>        <th class=\"blank level0\" ></th>        <th class=\"col_heading level0 col0\" >Batsman</th>        <th class=\"col_heading level0 col1\" >strike_rate</th>    </tr></thead><tbody>\n",
              "                <tr>\n",
              "                        <th id=\"T_b85808d2_1651_11ec_8baf_0242ac1c0002level0_row0\" class=\"row_heading level0 row0\" >33</th>\n",
              "                        <td id=\"T_b85808d2_1651_11ec_8baf_0242ac1c0002row0_col0\" class=\"data row0 col0\" >AD Russell</td>\n",
              "                        <td id=\"T_b85808d2_1651_11ec_8baf_0242ac1c0002row0_col1\" class=\"data row0 col1\" >171.995465</td>\n",
              "            </tr>\n",
              "            <tr>\n",
              "                        <th id=\"T_b85808d2_1651_11ec_8baf_0242ac1c0002level0_row1\" class=\"row_heading level0 row1\" >217</th>\n",
              "                        <td id=\"T_b85808d2_1651_11ec_8baf_0242ac1c0002row1_col0\" class=\"data row1 col0\" >K Gowtham</td>\n",
              "                        <td id=\"T_b85808d2_1651_11ec_8baf_0242ac1c0002row1_col1\" class=\"data row1 col1\" >164.601770</td>\n",
              "            </tr>\n",
              "            <tr>\n",
              "                        <th id=\"T_b85808d2_1651_11ec_8baf_0242ac1c0002level0_row2\" class=\"row_heading level0 row2\" >80</th>\n",
              "                        <td id=\"T_b85808d2_1651_11ec_8baf_0242ac1c0002row2_col0\" class=\"data row2 col0\" >BCJ Cutting</td>\n",
              "                        <td id=\"T_b85808d2_1651_11ec_8baf_0242ac1c0002row2_col1\" class=\"data row2 col1\" >163.013699</td>\n",
              "            </tr>\n",
              "            <tr>\n",
              "                        <th id=\"T_b85808d2_1651_11ec_8baf_0242ac1c0002level0_row3\" class=\"row_heading level0 row3\" >317</th>\n",
              "                        <td id=\"T_b85808d2_1651_11ec_8baf_0242ac1c0002row3_col0\" class=\"data row3 col0\" >N Pooran</td>\n",
              "                        <td id=\"T_b85808d2_1651_11ec_8baf_0242ac1c0002row3_col1\" class=\"data row3 col1\" >161.300310</td>\n",
              "            </tr>\n",
              "            <tr>\n",
              "                        <th id=\"T_b85808d2_1651_11ec_8baf_0242ac1c0002level0_row4\" class=\"row_heading level0 row4\" >453</th>\n",
              "                        <td id=\"T_b85808d2_1651_11ec_8baf_0242ac1c0002row4_col0\" class=\"data row4 col0\" >SP Narine</td>\n",
              "                        <td id=\"T_b85808d2_1651_11ec_8baf_0242ac1c0002row4_col1\" class=\"data row4 col1\" >155.671902</td>\n",
              "            </tr>\n",
              "            <tr>\n",
              "                        <th id=\"T_b85808d2_1651_11ec_8baf_0242ac1c0002level0_row5\" class=\"row_heading level0 row5\" >293</th>\n",
              "                        <td id=\"T_b85808d2_1651_11ec_8baf_0242ac1c0002row5_col0\" class=\"data row5 col0\" >MM Ali</td>\n",
              "                        <td id=\"T_b85808d2_1651_11ec_8baf_0242ac1c0002row5_col1\" class=\"data row5 col1\" >155.276382</td>\n",
              "            </tr>\n",
              "            <tr>\n",
              "                        <th id=\"T_b85808d2_1651_11ec_8baf_0242ac1c0002level0_row6\" class=\"row_heading level0 row6\" >97</th>\n",
              "                        <td id=\"T_b85808d2_1651_11ec_8baf_0242ac1c0002row6_col0\" class=\"data row6 col0\" >CH Morris</td>\n",
              "                        <td id=\"T_b85808d2_1651_11ec_8baf_0242ac1c0002row6_col1\" class=\"data row6 col1\" >153.055556</td>\n",
              "            </tr>\n",
              "            <tr>\n",
              "                        <th id=\"T_b85808d2_1651_11ec_8baf_0242ac1c0002level0_row7\" class=\"row_heading level0 row7\" >192</th>\n",
              "                        <td id=\"T_b85808d2_1651_11ec_8baf_0242ac1c0002row7_col0\" class=\"data row7 col0\" >JC Archer</td>\n",
              "                        <td id=\"T_b85808d2_1651_11ec_8baf_0242ac1c0002row7_col1\" class=\"data row7 col1\" >152.343750</td>\n",
              "            </tr>\n",
              "            <tr>\n",
              "                        <th id=\"T_b85808d2_1651_11ec_8baf_0242ac1c0002level0_row8\" class=\"row_heading level0 row8\" >106</th>\n",
              "                        <td id=\"T_b85808d2_1651_11ec_8baf_0242ac1c0002row8_col0\" class=\"data row8 col0\" >CR Brathwaite</td>\n",
              "                        <td id=\"T_b85808d2_1651_11ec_8baf_0242ac1c0002row8_col1\" class=\"data row8 col1\" >150.833333</td>\n",
              "            </tr>\n",
              "            <tr>\n",
              "                        <th id=\"T_b85808d2_1651_11ec_8baf_0242ac1c0002level0_row9\" class=\"row_heading level0 row9\" >88</th>\n",
              "                        <td id=\"T_b85808d2_1651_11ec_8baf_0242ac1c0002row9_col0\" class=\"data row9 col0\" >Bipul Sharma</td>\n",
              "                        <td id=\"T_b85808d2_1651_11ec_8baf_0242ac1c0002row9_col1\" class=\"data row9 col1\" >150.806452</td>\n",
              "            </tr>\n",
              "    </tbody></table>"
            ],
            "text/plain": [
              "<pandas.io.formats.style.Styler at 0x7feeb8a75d10>"
            ]
          },
          "metadata": {},
          "execution_count": 68
        }
      ]
    },
    {
      "cell_type": "markdown",
      "metadata": {
        "papermill": {
          "duration": 0.175462,
          "end_time": "2021-06-04T22:22:09.583385",
          "exception": false,
          "start_time": "2021-06-04T22:22:09.407923",
          "status": "completed"
        },
        "tags": [],
        "id": "QLvwqZyvi33U"
      },
      "source": [
        "<div class=\"alert alert-block alert-info\"><p style='color:black;'> 📌\n",
        "Andre Russel has the highest strike rate, followed by K. Gowtham and B. Cutting.\n",
        "</p>\n",
        "</div>"
      ]
    },
    {
      "cell_type": "markdown",
      "metadata": {
        "papermill": {
          "duration": 0.17585,
          "end_time": "2021-06-04T22:22:09.924173",
          "exception": false,
          "start_time": "2021-06-04T22:22:09.748323",
          "status": "completed"
        },
        "tags": [],
        "id": "UNCSihSYi33U"
      },
      "source": [
        "<small><a href='#0'>Go to top</a></small>  "
      ]
    },
    {
      "cell_type": "markdown",
      "metadata": {
        "papermill": {
          "duration": 0.165807,
          "end_time": "2021-06-04T22:22:10.265489",
          "exception": false,
          "start_time": "2021-06-04T22:22:10.099682",
          "status": "completed"
        },
        "tags": [],
        "id": "FKNYOiZai33U"
      },
      "source": [
        "<a id=\"27\">\n",
        "<h1 style = \"font-family: Snell Roundhand;font-weight: 500;font-size: 30px; font-style: normal; background-color: #FFFB30; color :black;\">27) Highest wicket-taker :</h1>\n"
      ]
    },
    {
      "cell_type": "code",
      "metadata": {
        "_kg_hide-input": true,
        "execution": {
          "iopub.execute_input": "2021-06-04T22:22:10.605441Z",
          "iopub.status.busy": "2021-06-04T22:22:10.604760Z",
          "iopub.status.idle": "2021-06-04T22:22:10.651055Z",
          "shell.execute_reply": "2021-06-04T22:22:10.651601Z"
        },
        "papermill": {
          "duration": 0.220526,
          "end_time": "2021-06-04T22:22:10.651802",
          "exception": false,
          "start_time": "2021-06-04T22:22:10.431276",
          "status": "completed"
        },
        "tags": [],
        "id": "4SD00rpni33U"
      },
      "source": [
        "deliveries_data['dismissal_kind'].unique()\n",
        "dismissal_kinds = ['caught', 'bowled', 'lbw', 'caught and bowled',\n",
        "       'stumped', 'hit wicket']\n",
        "hwt=deliveries_data[deliveries_data[\"dismissal_kind\"].isin(dismissal_kinds)]\n",
        "bo=hwt['bowler'].value_counts()"
      ],
      "execution_count": 69,
      "outputs": []
    },
    {
      "cell_type": "code",
      "metadata": {
        "_kg_hide-input": true,
        "execution": {
          "iopub.execute_input": "2021-06-04T22:22:11.006127Z",
          "iopub.status.busy": "2021-06-04T22:22:11.005028Z",
          "iopub.status.idle": "2021-06-04T22:22:11.119914Z",
          "shell.execute_reply": "2021-06-04T22:22:11.120414Z"
        },
        "papermill": {
          "duration": 0.302446,
          "end_time": "2021-06-04T22:22:11.120645",
          "exception": false,
          "start_time": "2021-06-04T22:22:10.818199",
          "status": "completed"
        },
        "tags": [],
        "colab": {
          "base_uri": "https://localhost:8080/",
          "height": 542
        },
        "id": "m9zN_qEKi33U",
        "outputId": "a4061db4-07d3-41b8-e9af-68f3fa1f6a9a"
      },
      "source": [
        "colors = ['turquoise',] * 13\n",
        "colors[0] = 'crimson'\n",
        "fig=px.bar(x=bo[:10].index,y=bo[:10],labels=dict(x=\"Bowler\",y=\"Total Wickets\"),)\n",
        "fig.update_layout(title=\"Leading wicket-takers\",\n",
        "                  titlefont={'size': 26},template='simple_white'     \n",
        "                  )\n",
        "fig.update_traces(marker_line_color='black',\n",
        "                  marker_line_width=2.5, opacity=1,marker_color=colors)\n",
        "fig.show()\n"
      ],
      "execution_count": 70,
      "outputs": [
        {
          "output_type": "display_data",
          "data": {
            "text/html": [
              "<html>\n",
              "<head><meta charset=\"utf-8\" /></head>\n",
              "<body>\n",
              "    <div>\n",
              "            <script src=\"https://cdnjs.cloudflare.com/ajax/libs/mathjax/2.7.5/MathJax.js?config=TeX-AMS-MML_SVG\"></script><script type=\"text/javascript\">if (window.MathJax) {MathJax.Hub.Config({SVG: {font: \"STIX-Web\"}});}</script>\n",
              "                <script type=\"text/javascript\">window.PlotlyConfig = {MathJaxConfig: 'local'};</script>\n",
              "        <script src=\"https://cdn.plot.ly/plotly-latest.min.js\"></script>    \n",
              "            <div id=\"ebe21a2c-b33a-4bc5-87ea-7f0655a010e0\" class=\"plotly-graph-div\" style=\"height:525px; width:100%;\"></div>\n",
              "            <script type=\"text/javascript\">\n",
              "                \n",
              "                    window.PLOTLYENV=window.PLOTLYENV || {};\n",
              "                    \n",
              "                if (document.getElementById(\"ebe21a2c-b33a-4bc5-87ea-7f0655a010e0\")) {\n",
              "                    Plotly.newPlot(\n",
              "                        'ebe21a2c-b33a-4bc5-87ea-7f0655a010e0',\n",
              "                        [{\"alignmentgroup\": \"True\", \"hoverlabel\": {\"namelength\": 0}, \"hovertemplate\": \"Bowler=%{x}<br>Total Wickets=%{y}\", \"legendgroup\": \"\", \"marker\": {\"color\": [\"crimson\", \"turquoise\", \"turquoise\", \"turquoise\", \"turquoise\", \"turquoise\", \"turquoise\", \"turquoise\", \"turquoise\", \"turquoise\", \"turquoise\", \"turquoise\", \"turquoise\"], \"line\": {\"color\": \"black\", \"width\": 2.5}}, \"name\": \"\", \"offsetgroup\": \"\", \"opacity\": 1, \"orientation\": \"v\", \"showlegend\": false, \"textposition\": \"auto\", \"type\": \"bar\", \"x\": [\"SL Malinga\", \"A Mishra\", \"PP Chawla\", \"DJ Bravo\", \"Harbhajan Singh\", \"R Ashwin\", \"B Kumar\", \"SP Narine\", \"YS Chahal\", \"UT Yadav\"], \"xaxis\": \"x\", \"y\": [170, 160, 156, 153, 150, 138, 136, 127, 121, 119], \"yaxis\": \"y\"}],\n",
              "                        {\"barmode\": \"relative\", \"legend\": {\"tracegroupgap\": 0}, \"margin\": {\"t\": 60}, \"template\": {\"data\": {\"bar\": [{\"error_x\": {\"color\": \"rgb(36,36,36)\"}, \"error_y\": {\"color\": \"rgb(36,36,36)\"}, \"marker\": {\"line\": {\"color\": \"white\", \"width\": 0.5}}, \"type\": \"bar\"}], \"barpolar\": [{\"marker\": {\"line\": {\"color\": \"white\", \"width\": 0.5}}, \"type\": \"barpolar\"}], \"carpet\": [{\"aaxis\": {\"endlinecolor\": \"rgb(36,36,36)\", \"gridcolor\": \"white\", \"linecolor\": \"white\", \"minorgridcolor\": \"white\", \"startlinecolor\": \"rgb(36,36,36)\"}, \"baxis\": {\"endlinecolor\": \"rgb(36,36,36)\", \"gridcolor\": \"white\", \"linecolor\": \"white\", \"minorgridcolor\": \"white\", \"startlinecolor\": \"rgb(36,36,36)\"}, \"type\": \"carpet\"}], \"choropleth\": [{\"colorbar\": {\"outlinewidth\": 10, \"tickcolor\": \"rgb(36,36,36)\", \"ticklen\": 8, \"ticks\": \"outside\", \"tickwidth\": 2}, \"type\": \"choropleth\"}], \"contour\": [{\"colorbar\": {\"outlinewidth\": 10, \"tickcolor\": \"rgb(36,36,36)\", \"ticklen\": 8, \"ticks\": \"outside\", \"tickwidth\": 2}, \"colorscale\": [[0.0, \"#440154\"], [0.1111111111111111, \"#482878\"], [0.2222222222222222, \"#3e4989\"], [0.3333333333333333, \"#31688e\"], [0.4444444444444444, \"#26828e\"], [0.5555555555555556, \"#1f9e89\"], [0.6666666666666666, \"#35b779\"], [0.7777777777777778, \"#6ece58\"], [0.8888888888888888, \"#b5de2b\"], [1.0, \"#fde725\"]], \"type\": \"contour\"}], \"contourcarpet\": [{\"colorbar\": {\"outlinewidth\": 10, \"tickcolor\": \"rgb(36,36,36)\", \"ticklen\": 8, \"ticks\": \"outside\", \"tickwidth\": 2}, \"type\": \"contourcarpet\"}], \"heatmap\": [{\"colorbar\": {\"outlinewidth\": 10, \"tickcolor\": \"rgb(36,36,36)\", \"ticklen\": 8, \"ticks\": \"outside\", \"tickwidth\": 2}, \"colorscale\": [[0.0, \"#440154\"], [0.1111111111111111, \"#482878\"], [0.2222222222222222, \"#3e4989\"], [0.3333333333333333, \"#31688e\"], [0.4444444444444444, \"#26828e\"], [0.5555555555555556, \"#1f9e89\"], [0.6666666666666666, \"#35b779\"], [0.7777777777777778, \"#6ece58\"], [0.8888888888888888, \"#b5de2b\"], [1.0, \"#fde725\"]], \"type\": \"heatmap\"}], \"heatmapgl\": [{\"colorbar\": {\"outlinewidth\": 10, \"tickcolor\": \"rgb(36,36,36)\", \"ticklen\": 8, \"ticks\": \"outside\", \"tickwidth\": 2}, \"colorscale\": [[0.0, \"#440154\"], [0.1111111111111111, \"#482878\"], [0.2222222222222222, \"#3e4989\"], [0.3333333333333333, \"#31688e\"], [0.4444444444444444, \"#26828e\"], [0.5555555555555556, \"#1f9e89\"], [0.6666666666666666, \"#35b779\"], [0.7777777777777778, \"#6ece58\"], [0.8888888888888888, \"#b5de2b\"], [1.0, \"#fde725\"]], \"type\": \"heatmapgl\"}], \"histogram\": [{\"marker\": {\"line\": {\"color\": \"white\", \"width\": 0.6}}, \"type\": \"histogram\"}], \"histogram2d\": [{\"colorbar\": {\"outlinewidth\": 10, \"tickcolor\": \"rgb(36,36,36)\", \"ticklen\": 8, \"ticks\": \"outside\", \"tickwidth\": 2}, \"colorscale\": [[0.0, \"#440154\"], [0.1111111111111111, \"#482878\"], [0.2222222222222222, \"#3e4989\"], [0.3333333333333333, \"#31688e\"], [0.4444444444444444, \"#26828e\"], [0.5555555555555556, \"#1f9e89\"], [0.6666666666666666, \"#35b779\"], [0.7777777777777778, \"#6ece58\"], [0.8888888888888888, \"#b5de2b\"], [1.0, \"#fde725\"]], \"type\": \"histogram2d\"}], \"histogram2dcontour\": [{\"colorbar\": {\"outlinewidth\": 10, \"tickcolor\": \"rgb(36,36,36)\", \"ticklen\": 8, \"ticks\": \"outside\", \"tickwidth\": 2}, \"colorscale\": [[0.0, \"#440154\"], [0.1111111111111111, \"#482878\"], [0.2222222222222222, \"#3e4989\"], [0.3333333333333333, \"#31688e\"], [0.4444444444444444, \"#26828e\"], [0.5555555555555556, \"#1f9e89\"], [0.6666666666666666, \"#35b779\"], [0.7777777777777778, \"#6ece58\"], [0.8888888888888888, \"#b5de2b\"], [1.0, \"#fde725\"]], \"type\": \"histogram2dcontour\"}], \"mesh3d\": [{\"colorbar\": {\"outlinewidth\": 10, \"tickcolor\": \"rgb(36,36,36)\", \"ticklen\": 8, \"ticks\": \"outside\", \"tickwidth\": 2}, \"type\": \"mesh3d\"}], \"parcoords\": [{\"line\": {\"colorbar\": {\"outlinewidth\": 10, \"tickcolor\": \"rgb(36,36,36)\", \"ticklen\": 8, \"ticks\": \"outside\", \"tickwidth\": 2}}, \"type\": \"parcoords\"}], \"pie\": [{\"automargin\": true, \"type\": \"pie\"}], \"scatter\": [{\"marker\": {\"colorbar\": {\"outlinewidth\": 10, \"tickcolor\": \"rgb(36,36,36)\", \"ticklen\": 8, \"ticks\": \"outside\", \"tickwidth\": 2}}, \"type\": \"scatter\"}], \"scatter3d\": [{\"line\": {\"colorbar\": {\"outlinewidth\": 10, \"tickcolor\": \"rgb(36,36,36)\", \"ticklen\": 8, \"ticks\": \"outside\", \"tickwidth\": 2}}, \"marker\": {\"colorbar\": {\"outlinewidth\": 10, \"tickcolor\": \"rgb(36,36,36)\", \"ticklen\": 8, \"ticks\": \"outside\", \"tickwidth\": 2}}, \"type\": \"scatter3d\"}], \"scattercarpet\": [{\"marker\": {\"colorbar\": {\"outlinewidth\": 10, \"tickcolor\": \"rgb(36,36,36)\", \"ticklen\": 8, \"ticks\": \"outside\", \"tickwidth\": 2}}, \"type\": \"scattercarpet\"}], \"scattergeo\": [{\"marker\": {\"colorbar\": {\"outlinewidth\": 10, \"tickcolor\": \"rgb(36,36,36)\", \"ticklen\": 8, \"ticks\": \"outside\", \"tickwidth\": 2}}, \"type\": \"scattergeo\"}], \"scattergl\": [{\"marker\": {\"colorbar\": {\"outlinewidth\": 10, \"tickcolor\": \"rgb(36,36,36)\", \"ticklen\": 8, \"ticks\": \"outside\", \"tickwidth\": 2}}, \"type\": \"scattergl\"}], \"scattermapbox\": [{\"marker\": {\"colorbar\": {\"outlinewidth\": 10, \"tickcolor\": \"rgb(36,36,36)\", \"ticklen\": 8, \"ticks\": \"outside\", \"tickwidth\": 2}}, \"type\": \"scattermapbox\"}], \"scatterpolar\": [{\"marker\": {\"colorbar\": {\"outlinewidth\": 10, \"tickcolor\": \"rgb(36,36,36)\", \"ticklen\": 8, \"ticks\": \"outside\", \"tickwidth\": 2}}, \"type\": \"scatterpolar\"}], \"scatterpolargl\": [{\"marker\": {\"colorbar\": {\"outlinewidth\": 10, \"tickcolor\": \"rgb(36,36,36)\", \"ticklen\": 8, \"ticks\": \"outside\", \"tickwidth\": 2}}, \"type\": \"scatterpolargl\"}], \"scatterternary\": [{\"marker\": {\"colorbar\": {\"outlinewidth\": 10, \"tickcolor\": \"rgb(36,36,36)\", \"ticklen\": 8, \"ticks\": \"outside\", \"tickwidth\": 2}}, \"type\": \"scatterternary\"}], \"surface\": [{\"colorbar\": {\"outlinewidth\": 10, \"tickcolor\": \"rgb(36,36,36)\", \"ticklen\": 8, \"ticks\": \"outside\", \"tickwidth\": 2}, \"colorscale\": [[0.0, \"#440154\"], [0.1111111111111111, \"#482878\"], [0.2222222222222222, \"#3e4989\"], [0.3333333333333333, \"#31688e\"], [0.4444444444444444, \"#26828e\"], [0.5555555555555556, \"#1f9e89\"], [0.6666666666666666, \"#35b779\"], [0.7777777777777778, \"#6ece58\"], [0.8888888888888888, \"#b5de2b\"], [1.0, \"#fde725\"]], \"type\": \"surface\"}], \"table\": [{\"cells\": {\"fill\": {\"color\": \"rgb(237,237,237)\"}, \"line\": {\"color\": \"white\"}}, \"header\": {\"fill\": {\"color\": \"rgb(217,217,217)\"}, \"line\": {\"color\": \"white\"}}, \"type\": \"table\"}]}, \"layout\": {\"annotationdefaults\": {\"arrowhead\": 0, \"arrowwidth\": 1}, \"coloraxis\": {\"colorbar\": {\"outlinewidth\": 10, \"tickcolor\": \"rgb(36,36,36)\", \"ticklen\": 8, \"ticks\": \"outside\", \"tickwidth\": 2}}, \"colorscale\": {\"diverging\": [[0.0, \"rgb(103,0,31)\"], [0.1, \"rgb(178,24,43)\"], [0.2, \"rgb(214,96,77)\"], [0.3, \"rgb(244,165,130)\"], [0.4, \"rgb(253,219,199)\"], [0.5, \"rgb(247,247,247)\"], [0.6, \"rgb(209,229,240)\"], [0.7, \"rgb(146,197,222)\"], [0.8, \"rgb(67,147,195)\"], [0.9, \"rgb(33,102,172)\"], [1.0, \"rgb(5,48,97)\"]], \"sequential\": [[0.0, \"#440154\"], [0.1111111111111111, \"#482878\"], [0.2222222222222222, \"#3e4989\"], [0.3333333333333333, \"#31688e\"], [0.4444444444444444, \"#26828e\"], [0.5555555555555556, \"#1f9e89\"], [0.6666666666666666, \"#35b779\"], [0.7777777777777778, \"#6ece58\"], [0.8888888888888888, \"#b5de2b\"], [1.0, \"#fde725\"]], \"sequentialminus\": [[0.0, \"#440154\"], [0.1111111111111111, \"#482878\"], [0.2222222222222222, \"#3e4989\"], [0.3333333333333333, \"#31688e\"], [0.4444444444444444, \"#26828e\"], [0.5555555555555556, \"#1f9e89\"], [0.6666666666666666, \"#35b779\"], [0.7777777777777778, \"#6ece58\"], [0.8888888888888888, \"#b5de2b\"], [1.0, \"#fde725\"]]}, \"colorway\": [\"#1F77B4\", \"#FF7F0E\", \"#2CA02C\", \"#D62728\", \"#9467BD\", \"#8C564B\", \"#E377C2\", \"#7F7F7F\", \"#BCBD22\", \"#17BECF\"], \"font\": {\"color\": \"rgb(36,36,36)\"}, \"geo\": {\"bgcolor\": \"white\", \"lakecolor\": \"white\", \"landcolor\": \"white\", \"showlakes\": true, \"showland\": true, \"subunitcolor\": \"white\"}, \"hoverlabel\": {\"align\": \"left\"}, \"hovermode\": \"closest\", \"mapbox\": {\"style\": \"light\"}, \"paper_bgcolor\": \"white\", \"plot_bgcolor\": \"white\", \"polar\": {\"angularaxis\": {\"gridcolor\": \"rgb(232,232,232)\", \"linecolor\": \"rgb(36,36,36)\", \"showgrid\": false, \"showline\": true, \"ticks\": \"outside\"}, \"bgcolor\": \"white\", \"radialaxis\": {\"gridcolor\": \"rgb(232,232,232)\", \"linecolor\": \"rgb(36,36,36)\", \"showgrid\": false, \"showline\": true, \"ticks\": \"outside\"}}, \"scene\": {\"xaxis\": {\"backgroundcolor\": \"white\", \"gridcolor\": \"rgb(232,232,232)\", \"gridwidth\": 2, \"linecolor\": \"rgb(36,36,36)\", \"showbackground\": true, \"showgrid\": false, \"showline\": true, \"ticks\": \"outside\", \"zeroline\": false, \"zerolinecolor\": \"rgb(36,36,36)\"}, \"yaxis\": {\"backgroundcolor\": \"white\", \"gridcolor\": \"rgb(232,232,232)\", \"gridwidth\": 2, \"linecolor\": \"rgb(36,36,36)\", \"showbackground\": true, \"showgrid\": false, \"showline\": true, \"ticks\": \"outside\", \"zeroline\": false, \"zerolinecolor\": \"rgb(36,36,36)\"}, \"zaxis\": {\"backgroundcolor\": \"white\", \"gridcolor\": \"rgb(232,232,232)\", \"gridwidth\": 2, \"linecolor\": \"rgb(36,36,36)\", \"showbackground\": true, \"showgrid\": false, \"showline\": true, \"ticks\": \"outside\", \"zeroline\": false, \"zerolinecolor\": \"rgb(36,36,36)\"}}, \"shapedefaults\": {\"fillcolor\": \"black\", \"line\": {\"width\": 0}, \"opacity\": 0.3}, \"ternary\": {\"aaxis\": {\"gridcolor\": \"rgb(232,232,232)\", \"linecolor\": \"rgb(36,36,36)\", \"showgrid\": false, \"showline\": true, \"ticks\": \"outside\"}, \"baxis\": {\"gridcolor\": \"rgb(232,232,232)\", \"linecolor\": \"rgb(36,36,36)\", \"showgrid\": false, \"showline\": true, \"ticks\": \"outside\"}, \"bgcolor\": \"white\", \"caxis\": {\"gridcolor\": \"rgb(232,232,232)\", \"linecolor\": \"rgb(36,36,36)\", \"showgrid\": false, \"showline\": true, \"ticks\": \"outside\"}}, \"title\": {\"x\": 0.05}, \"xaxis\": {\"automargin\": true, \"gridcolor\": \"rgb(232,232,232)\", \"linecolor\": \"rgb(36,36,36)\", \"showgrid\": false, \"showline\": true, \"ticks\": \"outside\", \"title\": {\"standoff\": 15}, \"zeroline\": false, \"zerolinecolor\": \"rgb(36,36,36)\"}, \"yaxis\": {\"automargin\": true, \"gridcolor\": \"rgb(232,232,232)\", \"linecolor\": \"rgb(36,36,36)\", \"showgrid\": false, \"showline\": true, \"ticks\": \"outside\", \"title\": {\"standoff\": 15}, \"zeroline\": false, \"zerolinecolor\": \"rgb(36,36,36)\"}}}, \"title\": {\"font\": {\"size\": 26}, \"text\": \"Leading wicket-takers\"}, \"xaxis\": {\"anchor\": \"y\", \"domain\": [0.0, 1.0], \"title\": {\"text\": \"Bowler\"}}, \"yaxis\": {\"anchor\": \"x\", \"domain\": [0.0, 1.0], \"title\": {\"text\": \"Total Wickets\"}}},\n",
              "                        {\"responsive\": true}\n",
              "                    ).then(function(){\n",
              "                            \n",
              "var gd = document.getElementById('ebe21a2c-b33a-4bc5-87ea-7f0655a010e0');\n",
              "var x = new MutationObserver(function (mutations, observer) {{\n",
              "        var display = window.getComputedStyle(gd).display;\n",
              "        if (!display || display === 'none') {{\n",
              "            console.log([gd, 'removed!']);\n",
              "            Plotly.purge(gd);\n",
              "            observer.disconnect();\n",
              "        }}\n",
              "}});\n",
              "\n",
              "// Listen for the removal of the full notebook cells\n",
              "var notebookContainer = gd.closest('#notebook-container');\n",
              "if (notebookContainer) {{\n",
              "    x.observe(notebookContainer, {childList: true});\n",
              "}}\n",
              "\n",
              "// Listen for the clearing of the current output cell\n",
              "var outputEl = gd.closest('.output');\n",
              "if (outputEl) {{\n",
              "    x.observe(outputEl, {childList: true});\n",
              "}}\n",
              "\n",
              "                        })\n",
              "                };\n",
              "                \n",
              "            </script>\n",
              "        </div>\n",
              "</body>\n",
              "</html>"
            ]
          },
          "metadata": {}
        }
      ]
    },
    {
      "cell_type": "markdown",
      "metadata": {
        "papermill": {
          "duration": 0.181232,
          "end_time": "2021-06-04T22:22:11.477373",
          "exception": false,
          "start_time": "2021-06-04T22:22:11.296141",
          "status": "completed"
        },
        "tags": [],
        "id": "jVGLL2AYi33V"
      },
      "source": [
        "<div class=\"alert alert-block alert-info\"><p style='color:black;'> 📌\n",
        "L. Malinga is the leading wicket taker in IPL.<br>\n",
        "6 out of top 10 are spin bowlers.\n",
        "</p>\n",
        "</div>"
      ]
    },
    {
      "cell_type": "markdown",
      "metadata": {
        "papermill": {
          "duration": 0.168832,
          "end_time": "2021-06-04T22:22:11.820922",
          "exception": false,
          "start_time": "2021-06-04T22:22:11.652090",
          "status": "completed"
        },
        "tags": [],
        "id": "5spuGx7Yi33V"
      },
      "source": [
        "<small><a href='#0'>Go to top</a></small>  "
      ]
    },
    {
      "cell_type": "markdown",
      "metadata": {
        "papermill": {
          "duration": 0.190384,
          "end_time": "2021-06-04T22:22:12.181383",
          "exception": false,
          "start_time": "2021-06-04T22:22:11.990999",
          "status": "completed"
        },
        "tags": [],
        "id": "hidVDL-Gi33V"
      },
      "source": [
        "<a id=\"28\">\n",
        "<h1 style = \"font-family: Snell Roundhand;font-weight: 500;font-size: 30px; font-style: normal; background-color: #FFFB30; color :black;\">28) Total count of matches played in differnt stadiums :</h1>\n",
        "\n"
      ]
    },
    {
      "cell_type": "code",
      "metadata": {
        "_kg_hide-input": true,
        "execution": {
          "iopub.execute_input": "2021-06-04T22:22:12.524119Z",
          "iopub.status.busy": "2021-06-04T22:22:12.523126Z",
          "iopub.status.idle": "2021-06-04T22:22:12.619489Z",
          "shell.execute_reply": "2021-06-04T22:22:12.620126Z"
        },
        "papermill": {
          "duration": 0.267292,
          "end_time": "2021-06-04T22:22:12.620333",
          "exception": false,
          "start_time": "2021-06-04T22:22:12.353041",
          "status": "completed"
        },
        "tags": [],
        "colab": {
          "base_uri": "https://localhost:8080/",
          "height": 542
        },
        "id": "VkMlTWydi33V",
        "outputId": "4d55bc25-c81f-4bad-e779-a6be35a29256"
      },
      "source": [
        "colors = ['turquoise',] * 13\n",
        "colors[0] = 'crimson'\n",
        "fig=px.bar(x=match_data['venue'].value_counts()[:10].index,y=match_data['venue'].value_counts()[:10],labels=dict(x=\"Venue\",y=\"Match count\"),)\n",
        "fig.update_layout(title=\"Matches played at different stadiums\",\n",
        "                  titlefont={'size': 26},template='simple_white'     \n",
        "                  )\n",
        "fig.update_traces(marker_line_color='black',\n",
        "                  marker_line_width=2.5, opacity=1,marker_color=colors)\n",
        "fig.show()\n",
        "\n"
      ],
      "execution_count": 71,
      "outputs": [
        {
          "output_type": "display_data",
          "data": {
            "text/html": [
              "<html>\n",
              "<head><meta charset=\"utf-8\" /></head>\n",
              "<body>\n",
              "    <div>\n",
              "            <script src=\"https://cdnjs.cloudflare.com/ajax/libs/mathjax/2.7.5/MathJax.js?config=TeX-AMS-MML_SVG\"></script><script type=\"text/javascript\">if (window.MathJax) {MathJax.Hub.Config({SVG: {font: \"STIX-Web\"}});}</script>\n",
              "                <script type=\"text/javascript\">window.PlotlyConfig = {MathJaxConfig: 'local'};</script>\n",
              "        <script src=\"https://cdn.plot.ly/plotly-latest.min.js\"></script>    \n",
              "            <div id=\"2c6258b3-f2e7-458d-b1ef-4f4e7d3c6347\" class=\"plotly-graph-div\" style=\"height:525px; width:100%;\"></div>\n",
              "            <script type=\"text/javascript\">\n",
              "                \n",
              "                    window.PLOTLYENV=window.PLOTLYENV || {};\n",
              "                    \n",
              "                if (document.getElementById(\"2c6258b3-f2e7-458d-b1ef-4f4e7d3c6347\")) {\n",
              "                    Plotly.newPlot(\n",
              "                        '2c6258b3-f2e7-458d-b1ef-4f4e7d3c6347',\n",
              "                        [{\"alignmentgroup\": \"True\", \"hoverlabel\": {\"namelength\": 0}, \"hovertemplate\": \"Venue=%{x}<br>Match count=%{y}\", \"legendgroup\": \"\", \"marker\": {\"color\": [\"crimson\", \"turquoise\", \"turquoise\", \"turquoise\", \"turquoise\", \"turquoise\", \"turquoise\", \"turquoise\", \"turquoise\", \"turquoise\", \"turquoise\", \"turquoise\", \"turquoise\"], \"line\": {\"color\": \"black\", \"width\": 2.5}}, \"name\": \"\", \"offsetgroup\": \"\", \"opacity\": 1, \"orientation\": \"v\", \"showlegend\": false, \"textposition\": \"auto\", \"type\": \"bar\", \"x\": [\"Eden Gardens\", \"Feroz Shah Kotla\", \"Wankhede Stadium\", \"M Chinnaswamy Stadium\", \"Rajiv Gandhi International Stadium, Uppal\", \"MA Chidambaram Stadium, Chepauk\", \"Sawai Mansingh Stadium\", \"Punjab Cricket Association Stadium, Mohali\", \"Dubai International Cricket Stadium\", \"Sheikh Zayed Stadium\"], \"xaxis\": \"x\", \"y\": [77, 74, 73, 65, 64, 57, 47, 35, 33, 29], \"yaxis\": \"y\"}],\n",
              "                        {\"barmode\": \"relative\", \"legend\": {\"tracegroupgap\": 0}, \"margin\": {\"t\": 60}, \"template\": {\"data\": {\"bar\": [{\"error_x\": {\"color\": \"rgb(36,36,36)\"}, \"error_y\": {\"color\": \"rgb(36,36,36)\"}, \"marker\": {\"line\": {\"color\": \"white\", \"width\": 0.5}}, \"type\": \"bar\"}], \"barpolar\": [{\"marker\": {\"line\": {\"color\": \"white\", \"width\": 0.5}}, \"type\": \"barpolar\"}], \"carpet\": [{\"aaxis\": {\"endlinecolor\": \"rgb(36,36,36)\", \"gridcolor\": \"white\", \"linecolor\": \"white\", \"minorgridcolor\": \"white\", \"startlinecolor\": \"rgb(36,36,36)\"}, \"baxis\": {\"endlinecolor\": \"rgb(36,36,36)\", \"gridcolor\": \"white\", \"linecolor\": \"white\", \"minorgridcolor\": \"white\", \"startlinecolor\": \"rgb(36,36,36)\"}, \"type\": \"carpet\"}], \"choropleth\": [{\"colorbar\": {\"outlinewidth\": 10, \"tickcolor\": \"rgb(36,36,36)\", \"ticklen\": 8, \"ticks\": \"outside\", \"tickwidth\": 2}, \"type\": \"choropleth\"}], \"contour\": [{\"colorbar\": {\"outlinewidth\": 10, \"tickcolor\": \"rgb(36,36,36)\", \"ticklen\": 8, \"ticks\": \"outside\", \"tickwidth\": 2}, \"colorscale\": [[0.0, \"#440154\"], [0.1111111111111111, \"#482878\"], [0.2222222222222222, \"#3e4989\"], [0.3333333333333333, \"#31688e\"], [0.4444444444444444, \"#26828e\"], [0.5555555555555556, \"#1f9e89\"], [0.6666666666666666, \"#35b779\"], [0.7777777777777778, \"#6ece58\"], [0.8888888888888888, \"#b5de2b\"], [1.0, \"#fde725\"]], \"type\": \"contour\"}], \"contourcarpet\": [{\"colorbar\": {\"outlinewidth\": 10, \"tickcolor\": \"rgb(36,36,36)\", \"ticklen\": 8, \"ticks\": \"outside\", \"tickwidth\": 2}, \"type\": \"contourcarpet\"}], \"heatmap\": [{\"colorbar\": {\"outlinewidth\": 10, \"tickcolor\": \"rgb(36,36,36)\", \"ticklen\": 8, \"ticks\": \"outside\", \"tickwidth\": 2}, \"colorscale\": [[0.0, \"#440154\"], [0.1111111111111111, \"#482878\"], [0.2222222222222222, \"#3e4989\"], [0.3333333333333333, \"#31688e\"], [0.4444444444444444, \"#26828e\"], [0.5555555555555556, \"#1f9e89\"], [0.6666666666666666, \"#35b779\"], [0.7777777777777778, \"#6ece58\"], [0.8888888888888888, \"#b5de2b\"], [1.0, \"#fde725\"]], \"type\": \"heatmap\"}], \"heatmapgl\": [{\"colorbar\": {\"outlinewidth\": 10, \"tickcolor\": \"rgb(36,36,36)\", \"ticklen\": 8, \"ticks\": \"outside\", \"tickwidth\": 2}, \"colorscale\": [[0.0, \"#440154\"], [0.1111111111111111, \"#482878\"], [0.2222222222222222, \"#3e4989\"], [0.3333333333333333, \"#31688e\"], [0.4444444444444444, \"#26828e\"], [0.5555555555555556, \"#1f9e89\"], [0.6666666666666666, \"#35b779\"], [0.7777777777777778, \"#6ece58\"], [0.8888888888888888, \"#b5de2b\"], [1.0, \"#fde725\"]], \"type\": \"heatmapgl\"}], \"histogram\": [{\"marker\": {\"line\": {\"color\": \"white\", \"width\": 0.6}}, \"type\": \"histogram\"}], \"histogram2d\": [{\"colorbar\": {\"outlinewidth\": 10, \"tickcolor\": \"rgb(36,36,36)\", \"ticklen\": 8, \"ticks\": \"outside\", \"tickwidth\": 2}, \"colorscale\": [[0.0, \"#440154\"], [0.1111111111111111, \"#482878\"], [0.2222222222222222, \"#3e4989\"], [0.3333333333333333, \"#31688e\"], [0.4444444444444444, \"#26828e\"], [0.5555555555555556, \"#1f9e89\"], [0.6666666666666666, \"#35b779\"], [0.7777777777777778, \"#6ece58\"], [0.8888888888888888, \"#b5de2b\"], [1.0, \"#fde725\"]], \"type\": \"histogram2d\"}], \"histogram2dcontour\": [{\"colorbar\": {\"outlinewidth\": 10, \"tickcolor\": \"rgb(36,36,36)\", \"ticklen\": 8, \"ticks\": \"outside\", \"tickwidth\": 2}, \"colorscale\": [[0.0, \"#440154\"], [0.1111111111111111, \"#482878\"], [0.2222222222222222, \"#3e4989\"], [0.3333333333333333, \"#31688e\"], [0.4444444444444444, \"#26828e\"], [0.5555555555555556, \"#1f9e89\"], [0.6666666666666666, \"#35b779\"], [0.7777777777777778, \"#6ece58\"], [0.8888888888888888, \"#b5de2b\"], [1.0, \"#fde725\"]], \"type\": \"histogram2dcontour\"}], \"mesh3d\": [{\"colorbar\": {\"outlinewidth\": 10, \"tickcolor\": \"rgb(36,36,36)\", \"ticklen\": 8, \"ticks\": \"outside\", \"tickwidth\": 2}, \"type\": \"mesh3d\"}], \"parcoords\": [{\"line\": {\"colorbar\": {\"outlinewidth\": 10, \"tickcolor\": \"rgb(36,36,36)\", \"ticklen\": 8, \"ticks\": \"outside\", \"tickwidth\": 2}}, \"type\": \"parcoords\"}], \"pie\": [{\"automargin\": true, \"type\": \"pie\"}], \"scatter\": [{\"marker\": {\"colorbar\": {\"outlinewidth\": 10, \"tickcolor\": \"rgb(36,36,36)\", \"ticklen\": 8, \"ticks\": \"outside\", \"tickwidth\": 2}}, \"type\": \"scatter\"}], \"scatter3d\": [{\"line\": {\"colorbar\": {\"outlinewidth\": 10, \"tickcolor\": \"rgb(36,36,36)\", \"ticklen\": 8, \"ticks\": \"outside\", \"tickwidth\": 2}}, \"marker\": {\"colorbar\": {\"outlinewidth\": 10, \"tickcolor\": \"rgb(36,36,36)\", \"ticklen\": 8, \"ticks\": \"outside\", \"tickwidth\": 2}}, \"type\": \"scatter3d\"}], \"scattercarpet\": [{\"marker\": {\"colorbar\": {\"outlinewidth\": 10, \"tickcolor\": \"rgb(36,36,36)\", \"ticklen\": 8, \"ticks\": \"outside\", \"tickwidth\": 2}}, \"type\": \"scattercarpet\"}], \"scattergeo\": [{\"marker\": {\"colorbar\": {\"outlinewidth\": 10, \"tickcolor\": \"rgb(36,36,36)\", \"ticklen\": 8, \"ticks\": \"outside\", \"tickwidth\": 2}}, \"type\": \"scattergeo\"}], \"scattergl\": [{\"marker\": {\"colorbar\": {\"outlinewidth\": 10, \"tickcolor\": \"rgb(36,36,36)\", \"ticklen\": 8, \"ticks\": \"outside\", \"tickwidth\": 2}}, \"type\": \"scattergl\"}], \"scattermapbox\": [{\"marker\": {\"colorbar\": {\"outlinewidth\": 10, \"tickcolor\": \"rgb(36,36,36)\", \"ticklen\": 8, \"ticks\": \"outside\", \"tickwidth\": 2}}, \"type\": \"scattermapbox\"}], \"scatterpolar\": [{\"marker\": {\"colorbar\": {\"outlinewidth\": 10, \"tickcolor\": \"rgb(36,36,36)\", \"ticklen\": 8, \"ticks\": \"outside\", \"tickwidth\": 2}}, \"type\": \"scatterpolar\"}], \"scatterpolargl\": [{\"marker\": {\"colorbar\": {\"outlinewidth\": 10, \"tickcolor\": \"rgb(36,36,36)\", \"ticklen\": 8, \"ticks\": \"outside\", \"tickwidth\": 2}}, \"type\": \"scatterpolargl\"}], \"scatterternary\": [{\"marker\": {\"colorbar\": {\"outlinewidth\": 10, \"tickcolor\": \"rgb(36,36,36)\", \"ticklen\": 8, \"ticks\": \"outside\", \"tickwidth\": 2}}, \"type\": \"scatterternary\"}], \"surface\": [{\"colorbar\": {\"outlinewidth\": 10, \"tickcolor\": \"rgb(36,36,36)\", \"ticklen\": 8, \"ticks\": \"outside\", \"tickwidth\": 2}, \"colorscale\": [[0.0, \"#440154\"], [0.1111111111111111, \"#482878\"], [0.2222222222222222, \"#3e4989\"], [0.3333333333333333, \"#31688e\"], [0.4444444444444444, \"#26828e\"], [0.5555555555555556, \"#1f9e89\"], [0.6666666666666666, \"#35b779\"], [0.7777777777777778, \"#6ece58\"], [0.8888888888888888, \"#b5de2b\"], [1.0, \"#fde725\"]], \"type\": \"surface\"}], \"table\": [{\"cells\": {\"fill\": {\"color\": \"rgb(237,237,237)\"}, \"line\": {\"color\": \"white\"}}, \"header\": {\"fill\": {\"color\": \"rgb(217,217,217)\"}, \"line\": {\"color\": \"white\"}}, \"type\": \"table\"}]}, \"layout\": {\"annotationdefaults\": {\"arrowhead\": 0, \"arrowwidth\": 1}, \"coloraxis\": {\"colorbar\": {\"outlinewidth\": 10, \"tickcolor\": \"rgb(36,36,36)\", \"ticklen\": 8, \"ticks\": \"outside\", \"tickwidth\": 2}}, \"colorscale\": {\"diverging\": [[0.0, \"rgb(103,0,31)\"], [0.1, \"rgb(178,24,43)\"], [0.2, \"rgb(214,96,77)\"], [0.3, \"rgb(244,165,130)\"], [0.4, \"rgb(253,219,199)\"], [0.5, \"rgb(247,247,247)\"], [0.6, \"rgb(209,229,240)\"], [0.7, \"rgb(146,197,222)\"], [0.8, \"rgb(67,147,195)\"], [0.9, \"rgb(33,102,172)\"], [1.0, \"rgb(5,48,97)\"]], \"sequential\": [[0.0, \"#440154\"], [0.1111111111111111, \"#482878\"], [0.2222222222222222, \"#3e4989\"], [0.3333333333333333, \"#31688e\"], [0.4444444444444444, \"#26828e\"], [0.5555555555555556, \"#1f9e89\"], [0.6666666666666666, \"#35b779\"], [0.7777777777777778, \"#6ece58\"], [0.8888888888888888, \"#b5de2b\"], [1.0, \"#fde725\"]], \"sequentialminus\": [[0.0, \"#440154\"], [0.1111111111111111, \"#482878\"], [0.2222222222222222, \"#3e4989\"], [0.3333333333333333, \"#31688e\"], [0.4444444444444444, \"#26828e\"], [0.5555555555555556, \"#1f9e89\"], [0.6666666666666666, \"#35b779\"], [0.7777777777777778, \"#6ece58\"], [0.8888888888888888, \"#b5de2b\"], [1.0, \"#fde725\"]]}, \"colorway\": [\"#1F77B4\", \"#FF7F0E\", \"#2CA02C\", \"#D62728\", \"#9467BD\", \"#8C564B\", \"#E377C2\", \"#7F7F7F\", \"#BCBD22\", \"#17BECF\"], \"font\": {\"color\": \"rgb(36,36,36)\"}, \"geo\": {\"bgcolor\": \"white\", \"lakecolor\": \"white\", \"landcolor\": \"white\", \"showlakes\": true, \"showland\": true, \"subunitcolor\": \"white\"}, \"hoverlabel\": {\"align\": \"left\"}, \"hovermode\": \"closest\", \"mapbox\": {\"style\": \"light\"}, \"paper_bgcolor\": \"white\", \"plot_bgcolor\": \"white\", \"polar\": {\"angularaxis\": {\"gridcolor\": \"rgb(232,232,232)\", \"linecolor\": \"rgb(36,36,36)\", \"showgrid\": false, \"showline\": true, \"ticks\": \"outside\"}, \"bgcolor\": \"white\", \"radialaxis\": {\"gridcolor\": \"rgb(232,232,232)\", \"linecolor\": \"rgb(36,36,36)\", \"showgrid\": false, \"showline\": true, \"ticks\": \"outside\"}}, \"scene\": {\"xaxis\": {\"backgroundcolor\": \"white\", \"gridcolor\": \"rgb(232,232,232)\", \"gridwidth\": 2, \"linecolor\": \"rgb(36,36,36)\", \"showbackground\": true, \"showgrid\": false, \"showline\": true, \"ticks\": \"outside\", \"zeroline\": false, \"zerolinecolor\": \"rgb(36,36,36)\"}, \"yaxis\": {\"backgroundcolor\": \"white\", \"gridcolor\": \"rgb(232,232,232)\", \"gridwidth\": 2, \"linecolor\": \"rgb(36,36,36)\", \"showbackground\": true, \"showgrid\": false, \"showline\": true, \"ticks\": \"outside\", \"zeroline\": false, \"zerolinecolor\": \"rgb(36,36,36)\"}, \"zaxis\": {\"backgroundcolor\": \"white\", \"gridcolor\": \"rgb(232,232,232)\", \"gridwidth\": 2, \"linecolor\": \"rgb(36,36,36)\", \"showbackground\": true, \"showgrid\": false, \"showline\": true, \"ticks\": \"outside\", \"zeroline\": false, \"zerolinecolor\": \"rgb(36,36,36)\"}}, \"shapedefaults\": {\"fillcolor\": \"black\", \"line\": {\"width\": 0}, \"opacity\": 0.3}, \"ternary\": {\"aaxis\": {\"gridcolor\": \"rgb(232,232,232)\", \"linecolor\": \"rgb(36,36,36)\", \"showgrid\": false, \"showline\": true, \"ticks\": \"outside\"}, \"baxis\": {\"gridcolor\": \"rgb(232,232,232)\", \"linecolor\": \"rgb(36,36,36)\", \"showgrid\": false, \"showline\": true, \"ticks\": \"outside\"}, \"bgcolor\": \"white\", \"caxis\": {\"gridcolor\": \"rgb(232,232,232)\", \"linecolor\": \"rgb(36,36,36)\", \"showgrid\": false, \"showline\": true, \"ticks\": \"outside\"}}, \"title\": {\"x\": 0.05}, \"xaxis\": {\"automargin\": true, \"gridcolor\": \"rgb(232,232,232)\", \"linecolor\": \"rgb(36,36,36)\", \"showgrid\": false, \"showline\": true, \"ticks\": \"outside\", \"title\": {\"standoff\": 15}, \"zeroline\": false, \"zerolinecolor\": \"rgb(36,36,36)\"}, \"yaxis\": {\"automargin\": true, \"gridcolor\": \"rgb(232,232,232)\", \"linecolor\": \"rgb(36,36,36)\", \"showgrid\": false, \"showline\": true, \"ticks\": \"outside\", \"title\": {\"standoff\": 15}, \"zeroline\": false, \"zerolinecolor\": \"rgb(36,36,36)\"}}}, \"title\": {\"font\": {\"size\": 26}, \"text\": \"Matches played at different stadiums\"}, \"xaxis\": {\"anchor\": \"y\", \"domain\": [0.0, 1.0], \"title\": {\"text\": \"Venue\"}}, \"yaxis\": {\"anchor\": \"x\", \"domain\": [0.0, 1.0], \"title\": {\"text\": \"Match count\"}}},\n",
              "                        {\"responsive\": true}\n",
              "                    ).then(function(){\n",
              "                            \n",
              "var gd = document.getElementById('2c6258b3-f2e7-458d-b1ef-4f4e7d3c6347');\n",
              "var x = new MutationObserver(function (mutations, observer) {{\n",
              "        var display = window.getComputedStyle(gd).display;\n",
              "        if (!display || display === 'none') {{\n",
              "            console.log([gd, 'removed!']);\n",
              "            Plotly.purge(gd);\n",
              "            observer.disconnect();\n",
              "        }}\n",
              "}});\n",
              "\n",
              "// Listen for the removal of the full notebook cells\n",
              "var notebookContainer = gd.closest('#notebook-container');\n",
              "if (notebookContainer) {{\n",
              "    x.observe(notebookContainer, {childList: true});\n",
              "}}\n",
              "\n",
              "// Listen for the clearing of the current output cell\n",
              "var outputEl = gd.closest('.output');\n",
              "if (outputEl) {{\n",
              "    x.observe(outputEl, {childList: true});\n",
              "}}\n",
              "\n",
              "                        })\n",
              "                };\n",
              "                \n",
              "            </script>\n",
              "        </div>\n",
              "</body>\n",
              "</html>"
            ]
          },
          "metadata": {}
        }
      ]
    },
    {
      "cell_type": "markdown",
      "metadata": {
        "papermill": {
          "duration": 0.167093,
          "end_time": "2021-06-04T22:22:12.958294",
          "exception": false,
          "start_time": "2021-06-04T22:22:12.791201",
          "status": "completed"
        },
        "tags": [],
        "id": "ePu7pZFyi33V"
      },
      "source": [
        "<div class=\"alert alert-block alert-info\"><p style='color:black;'> 📌\n",
        "Eden Gardens has hosted most number of matches.\n",
        "</p>\n",
        "</div>\n"
      ]
    },
    {
      "cell_type": "markdown",
      "metadata": {
        "papermill": {
          "duration": 0.168109,
          "end_time": "2021-06-04T22:22:13.297705",
          "exception": false,
          "start_time": "2021-06-04T22:22:13.129596",
          "status": "completed"
        },
        "tags": [],
        "id": "4cXCBYTTi33V"
      },
      "source": [
        "<small><a href='#0'>Go to top</a></small>  "
      ]
    },
    {
      "cell_type": "markdown",
      "metadata": {
        "papermill": {
          "duration": 0.175086,
          "end_time": "2021-06-04T22:22:13.644134",
          "exception": false,
          "start_time": "2021-06-04T22:22:13.469048",
          "status": "completed"
        },
        "tags": [],
        "id": "2hJIW-4ai33V"
      },
      "source": [
        "<a id=\"29\">\n",
        "<h1 style = \"font-family: Snell Roundhand;font-weight: 500;font-size: 30px; font-style: normal; background-color: #FFFB30; color :black;\">29) Man of the Match award :</h1>\n"
      ]
    },
    {
      "cell_type": "code",
      "metadata": {
        "_kg_hide-input": true,
        "execution": {
          "iopub.execute_input": "2021-06-04T22:22:13.987976Z",
          "iopub.status.busy": "2021-06-04T22:22:13.986967Z",
          "iopub.status.idle": "2021-06-04T22:22:14.083196Z",
          "shell.execute_reply": "2021-06-04T22:22:14.082658Z"
        },
        "papermill": {
          "duration": 0.271448,
          "end_time": "2021-06-04T22:22:14.083357",
          "exception": false,
          "start_time": "2021-06-04T22:22:13.811909",
          "status": "completed"
        },
        "tags": [],
        "colab": {
          "base_uri": "https://localhost:8080/",
          "height": 542
        },
        "id": "b1SONM4oi33W",
        "outputId": "ec9b98ba-ad71-427a-b22e-b675b29399f1"
      },
      "source": [
        "colors = ['turquoise',] * 11\n",
        "colors[0] = 'crimson'\n",
        "fig=px.bar(x=match_data.player_of_match.value_counts()[:10].index,y=match_data.player_of_match.value_counts()[:10],labels=dict(x=\"Players\",y=\"Count\"),)\n",
        "fig.update_layout(title=\"Top 10 MOM awardee\",\n",
        "                  titlefont={'size': 26},template='simple_white'     \n",
        "                  )\n",
        "fig.update_traces(marker_line_color='black',\n",
        "                  marker_line_width=2.5, opacity=1,marker_color=colors)\n",
        "fig.show()"
      ],
      "execution_count": 72,
      "outputs": [
        {
          "output_type": "display_data",
          "data": {
            "text/html": [
              "<html>\n",
              "<head><meta charset=\"utf-8\" /></head>\n",
              "<body>\n",
              "    <div>\n",
              "            <script src=\"https://cdnjs.cloudflare.com/ajax/libs/mathjax/2.7.5/MathJax.js?config=TeX-AMS-MML_SVG\"></script><script type=\"text/javascript\">if (window.MathJax) {MathJax.Hub.Config({SVG: {font: \"STIX-Web\"}});}</script>\n",
              "                <script type=\"text/javascript\">window.PlotlyConfig = {MathJaxConfig: 'local'};</script>\n",
              "        <script src=\"https://cdn.plot.ly/plotly-latest.min.js\"></script>    \n",
              "            <div id=\"1d470d0b-c453-4457-98a0-b0c3836f2efa\" class=\"plotly-graph-div\" style=\"height:525px; width:100%;\"></div>\n",
              "            <script type=\"text/javascript\">\n",
              "                \n",
              "                    window.PLOTLYENV=window.PLOTLYENV || {};\n",
              "                    \n",
              "                if (document.getElementById(\"1d470d0b-c453-4457-98a0-b0c3836f2efa\")) {\n",
              "                    Plotly.newPlot(\n",
              "                        '1d470d0b-c453-4457-98a0-b0c3836f2efa',\n",
              "                        [{\"alignmentgroup\": \"True\", \"hoverlabel\": {\"namelength\": 0}, \"hovertemplate\": \"Players=%{x}<br>Count=%{y}\", \"legendgroup\": \"\", \"marker\": {\"color\": [\"crimson\", \"turquoise\", \"turquoise\", \"turquoise\", \"turquoise\", \"turquoise\", \"turquoise\", \"turquoise\", \"turquoise\", \"turquoise\", \"turquoise\"], \"line\": {\"color\": \"black\", \"width\": 2.5}}, \"name\": \"\", \"offsetgroup\": \"\", \"opacity\": 1, \"orientation\": \"v\", \"showlegend\": false, \"textposition\": \"auto\", \"type\": \"bar\", \"x\": [\"AB de Villiers\", \"CH Gayle\", \"RG Sharma\", \"MS Dhoni\", \"DA Warner\", \"YK Pathan\", \"SR Watson\", \"SK Raina\", \"G Gambhir\", \"V Kohli\"], \"xaxis\": \"x\", \"y\": [23, 22, 18, 17, 17, 16, 16, 14, 13, 13], \"yaxis\": \"y\"}],\n",
              "                        {\"barmode\": \"relative\", \"legend\": {\"tracegroupgap\": 0}, \"margin\": {\"t\": 60}, \"template\": {\"data\": {\"bar\": [{\"error_x\": {\"color\": \"rgb(36,36,36)\"}, \"error_y\": {\"color\": \"rgb(36,36,36)\"}, \"marker\": {\"line\": {\"color\": \"white\", \"width\": 0.5}}, \"type\": \"bar\"}], \"barpolar\": [{\"marker\": {\"line\": {\"color\": \"white\", \"width\": 0.5}}, \"type\": \"barpolar\"}], \"carpet\": [{\"aaxis\": {\"endlinecolor\": \"rgb(36,36,36)\", \"gridcolor\": \"white\", \"linecolor\": \"white\", \"minorgridcolor\": \"white\", \"startlinecolor\": \"rgb(36,36,36)\"}, \"baxis\": {\"endlinecolor\": \"rgb(36,36,36)\", \"gridcolor\": \"white\", \"linecolor\": \"white\", \"minorgridcolor\": \"white\", \"startlinecolor\": \"rgb(36,36,36)\"}, \"type\": \"carpet\"}], \"choropleth\": [{\"colorbar\": {\"outlinewidth\": 10, \"tickcolor\": \"rgb(36,36,36)\", \"ticklen\": 8, \"ticks\": \"outside\", \"tickwidth\": 2}, \"type\": \"choropleth\"}], \"contour\": [{\"colorbar\": {\"outlinewidth\": 10, \"tickcolor\": \"rgb(36,36,36)\", \"ticklen\": 8, \"ticks\": \"outside\", \"tickwidth\": 2}, \"colorscale\": [[0.0, \"#440154\"], [0.1111111111111111, \"#482878\"], [0.2222222222222222, \"#3e4989\"], [0.3333333333333333, \"#31688e\"], [0.4444444444444444, \"#26828e\"], [0.5555555555555556, \"#1f9e89\"], [0.6666666666666666, \"#35b779\"], [0.7777777777777778, \"#6ece58\"], [0.8888888888888888, \"#b5de2b\"], [1.0, \"#fde725\"]], \"type\": \"contour\"}], \"contourcarpet\": [{\"colorbar\": {\"outlinewidth\": 10, \"tickcolor\": \"rgb(36,36,36)\", \"ticklen\": 8, \"ticks\": \"outside\", \"tickwidth\": 2}, \"type\": \"contourcarpet\"}], \"heatmap\": [{\"colorbar\": {\"outlinewidth\": 10, \"tickcolor\": \"rgb(36,36,36)\", \"ticklen\": 8, \"ticks\": \"outside\", \"tickwidth\": 2}, \"colorscale\": [[0.0, \"#440154\"], [0.1111111111111111, \"#482878\"], [0.2222222222222222, \"#3e4989\"], [0.3333333333333333, \"#31688e\"], [0.4444444444444444, \"#26828e\"], [0.5555555555555556, \"#1f9e89\"], [0.6666666666666666, \"#35b779\"], [0.7777777777777778, \"#6ece58\"], [0.8888888888888888, \"#b5de2b\"], [1.0, \"#fde725\"]], \"type\": \"heatmap\"}], \"heatmapgl\": [{\"colorbar\": {\"outlinewidth\": 10, \"tickcolor\": \"rgb(36,36,36)\", \"ticklen\": 8, \"ticks\": \"outside\", \"tickwidth\": 2}, \"colorscale\": [[0.0, \"#440154\"], [0.1111111111111111, \"#482878\"], [0.2222222222222222, \"#3e4989\"], [0.3333333333333333, \"#31688e\"], [0.4444444444444444, \"#26828e\"], [0.5555555555555556, \"#1f9e89\"], [0.6666666666666666, \"#35b779\"], [0.7777777777777778, \"#6ece58\"], [0.8888888888888888, \"#b5de2b\"], [1.0, \"#fde725\"]], \"type\": \"heatmapgl\"}], \"histogram\": [{\"marker\": {\"line\": {\"color\": \"white\", \"width\": 0.6}}, \"type\": \"histogram\"}], \"histogram2d\": [{\"colorbar\": {\"outlinewidth\": 10, \"tickcolor\": \"rgb(36,36,36)\", \"ticklen\": 8, \"ticks\": \"outside\", \"tickwidth\": 2}, \"colorscale\": [[0.0, \"#440154\"], [0.1111111111111111, \"#482878\"], [0.2222222222222222, \"#3e4989\"], [0.3333333333333333, \"#31688e\"], [0.4444444444444444, \"#26828e\"], [0.5555555555555556, \"#1f9e89\"], [0.6666666666666666, \"#35b779\"], [0.7777777777777778, \"#6ece58\"], [0.8888888888888888, \"#b5de2b\"], [1.0, \"#fde725\"]], \"type\": \"histogram2d\"}], \"histogram2dcontour\": [{\"colorbar\": {\"outlinewidth\": 10, \"tickcolor\": \"rgb(36,36,36)\", \"ticklen\": 8, \"ticks\": \"outside\", \"tickwidth\": 2}, \"colorscale\": [[0.0, \"#440154\"], [0.1111111111111111, \"#482878\"], [0.2222222222222222, \"#3e4989\"], [0.3333333333333333, \"#31688e\"], [0.4444444444444444, \"#26828e\"], [0.5555555555555556, \"#1f9e89\"], [0.6666666666666666, \"#35b779\"], [0.7777777777777778, \"#6ece58\"], [0.8888888888888888, \"#b5de2b\"], [1.0, \"#fde725\"]], \"type\": \"histogram2dcontour\"}], \"mesh3d\": [{\"colorbar\": {\"outlinewidth\": 10, \"tickcolor\": \"rgb(36,36,36)\", \"ticklen\": 8, \"ticks\": \"outside\", \"tickwidth\": 2}, \"type\": \"mesh3d\"}], \"parcoords\": [{\"line\": {\"colorbar\": {\"outlinewidth\": 10, \"tickcolor\": \"rgb(36,36,36)\", \"ticklen\": 8, \"ticks\": \"outside\", \"tickwidth\": 2}}, \"type\": \"parcoords\"}], \"pie\": [{\"automargin\": true, \"type\": \"pie\"}], \"scatter\": [{\"marker\": {\"colorbar\": {\"outlinewidth\": 10, \"tickcolor\": \"rgb(36,36,36)\", \"ticklen\": 8, \"ticks\": \"outside\", \"tickwidth\": 2}}, \"type\": \"scatter\"}], \"scatter3d\": [{\"line\": {\"colorbar\": {\"outlinewidth\": 10, \"tickcolor\": \"rgb(36,36,36)\", \"ticklen\": 8, \"ticks\": \"outside\", \"tickwidth\": 2}}, \"marker\": {\"colorbar\": {\"outlinewidth\": 10, \"tickcolor\": \"rgb(36,36,36)\", \"ticklen\": 8, \"ticks\": \"outside\", \"tickwidth\": 2}}, \"type\": \"scatter3d\"}], \"scattercarpet\": [{\"marker\": {\"colorbar\": {\"outlinewidth\": 10, \"tickcolor\": \"rgb(36,36,36)\", \"ticklen\": 8, \"ticks\": \"outside\", \"tickwidth\": 2}}, \"type\": \"scattercarpet\"}], \"scattergeo\": [{\"marker\": {\"colorbar\": {\"outlinewidth\": 10, \"tickcolor\": \"rgb(36,36,36)\", \"ticklen\": 8, \"ticks\": \"outside\", \"tickwidth\": 2}}, \"type\": \"scattergeo\"}], \"scattergl\": [{\"marker\": {\"colorbar\": {\"outlinewidth\": 10, \"tickcolor\": \"rgb(36,36,36)\", \"ticklen\": 8, \"ticks\": \"outside\", \"tickwidth\": 2}}, \"type\": \"scattergl\"}], \"scattermapbox\": [{\"marker\": {\"colorbar\": {\"outlinewidth\": 10, \"tickcolor\": \"rgb(36,36,36)\", \"ticklen\": 8, \"ticks\": \"outside\", \"tickwidth\": 2}}, \"type\": \"scattermapbox\"}], \"scatterpolar\": [{\"marker\": {\"colorbar\": {\"outlinewidth\": 10, \"tickcolor\": \"rgb(36,36,36)\", \"ticklen\": 8, \"ticks\": \"outside\", \"tickwidth\": 2}}, \"type\": \"scatterpolar\"}], \"scatterpolargl\": [{\"marker\": {\"colorbar\": {\"outlinewidth\": 10, \"tickcolor\": \"rgb(36,36,36)\", \"ticklen\": 8, \"ticks\": \"outside\", \"tickwidth\": 2}}, \"type\": \"scatterpolargl\"}], \"scatterternary\": [{\"marker\": {\"colorbar\": {\"outlinewidth\": 10, \"tickcolor\": \"rgb(36,36,36)\", \"ticklen\": 8, \"ticks\": \"outside\", \"tickwidth\": 2}}, \"type\": \"scatterternary\"}], \"surface\": [{\"colorbar\": {\"outlinewidth\": 10, \"tickcolor\": \"rgb(36,36,36)\", \"ticklen\": 8, \"ticks\": \"outside\", \"tickwidth\": 2}, \"colorscale\": [[0.0, \"#440154\"], [0.1111111111111111, \"#482878\"], [0.2222222222222222, \"#3e4989\"], [0.3333333333333333, \"#31688e\"], [0.4444444444444444, \"#26828e\"], [0.5555555555555556, \"#1f9e89\"], [0.6666666666666666, \"#35b779\"], [0.7777777777777778, \"#6ece58\"], [0.8888888888888888, \"#b5de2b\"], [1.0, \"#fde725\"]], \"type\": \"surface\"}], \"table\": [{\"cells\": {\"fill\": {\"color\": \"rgb(237,237,237)\"}, \"line\": {\"color\": \"white\"}}, \"header\": {\"fill\": {\"color\": \"rgb(217,217,217)\"}, \"line\": {\"color\": \"white\"}}, \"type\": \"table\"}]}, \"layout\": {\"annotationdefaults\": {\"arrowhead\": 0, \"arrowwidth\": 1}, \"coloraxis\": {\"colorbar\": {\"outlinewidth\": 10, \"tickcolor\": \"rgb(36,36,36)\", \"ticklen\": 8, \"ticks\": \"outside\", \"tickwidth\": 2}}, \"colorscale\": {\"diverging\": [[0.0, \"rgb(103,0,31)\"], [0.1, \"rgb(178,24,43)\"], [0.2, \"rgb(214,96,77)\"], [0.3, \"rgb(244,165,130)\"], [0.4, \"rgb(253,219,199)\"], [0.5, \"rgb(247,247,247)\"], [0.6, \"rgb(209,229,240)\"], [0.7, \"rgb(146,197,222)\"], [0.8, \"rgb(67,147,195)\"], [0.9, \"rgb(33,102,172)\"], [1.0, \"rgb(5,48,97)\"]], \"sequential\": [[0.0, \"#440154\"], [0.1111111111111111, \"#482878\"], [0.2222222222222222, \"#3e4989\"], [0.3333333333333333, \"#31688e\"], [0.4444444444444444, \"#26828e\"], [0.5555555555555556, \"#1f9e89\"], [0.6666666666666666, \"#35b779\"], [0.7777777777777778, \"#6ece58\"], [0.8888888888888888, \"#b5de2b\"], [1.0, \"#fde725\"]], \"sequentialminus\": [[0.0, \"#440154\"], [0.1111111111111111, \"#482878\"], [0.2222222222222222, \"#3e4989\"], [0.3333333333333333, \"#31688e\"], [0.4444444444444444, \"#26828e\"], [0.5555555555555556, \"#1f9e89\"], [0.6666666666666666, \"#35b779\"], [0.7777777777777778, \"#6ece58\"], [0.8888888888888888, \"#b5de2b\"], [1.0, \"#fde725\"]]}, \"colorway\": [\"#1F77B4\", \"#FF7F0E\", \"#2CA02C\", \"#D62728\", \"#9467BD\", \"#8C564B\", \"#E377C2\", \"#7F7F7F\", \"#BCBD22\", \"#17BECF\"], \"font\": {\"color\": \"rgb(36,36,36)\"}, \"geo\": {\"bgcolor\": \"white\", \"lakecolor\": \"white\", \"landcolor\": \"white\", \"showlakes\": true, \"showland\": true, \"subunitcolor\": \"white\"}, \"hoverlabel\": {\"align\": \"left\"}, \"hovermode\": \"closest\", \"mapbox\": {\"style\": \"light\"}, \"paper_bgcolor\": \"white\", \"plot_bgcolor\": \"white\", \"polar\": {\"angularaxis\": {\"gridcolor\": \"rgb(232,232,232)\", \"linecolor\": \"rgb(36,36,36)\", \"showgrid\": false, \"showline\": true, \"ticks\": \"outside\"}, \"bgcolor\": \"white\", \"radialaxis\": {\"gridcolor\": \"rgb(232,232,232)\", \"linecolor\": \"rgb(36,36,36)\", \"showgrid\": false, \"showline\": true, \"ticks\": \"outside\"}}, \"scene\": {\"xaxis\": {\"backgroundcolor\": \"white\", \"gridcolor\": \"rgb(232,232,232)\", \"gridwidth\": 2, \"linecolor\": \"rgb(36,36,36)\", \"showbackground\": true, \"showgrid\": false, \"showline\": true, \"ticks\": \"outside\", \"zeroline\": false, \"zerolinecolor\": \"rgb(36,36,36)\"}, \"yaxis\": {\"backgroundcolor\": \"white\", \"gridcolor\": \"rgb(232,232,232)\", \"gridwidth\": 2, \"linecolor\": \"rgb(36,36,36)\", \"showbackground\": true, \"showgrid\": false, \"showline\": true, \"ticks\": \"outside\", \"zeroline\": false, \"zerolinecolor\": \"rgb(36,36,36)\"}, \"zaxis\": {\"backgroundcolor\": \"white\", \"gridcolor\": \"rgb(232,232,232)\", \"gridwidth\": 2, \"linecolor\": \"rgb(36,36,36)\", \"showbackground\": true, \"showgrid\": false, \"showline\": true, \"ticks\": \"outside\", \"zeroline\": false, \"zerolinecolor\": \"rgb(36,36,36)\"}}, \"shapedefaults\": {\"fillcolor\": \"black\", \"line\": {\"width\": 0}, \"opacity\": 0.3}, \"ternary\": {\"aaxis\": {\"gridcolor\": \"rgb(232,232,232)\", \"linecolor\": \"rgb(36,36,36)\", \"showgrid\": false, \"showline\": true, \"ticks\": \"outside\"}, \"baxis\": {\"gridcolor\": \"rgb(232,232,232)\", \"linecolor\": \"rgb(36,36,36)\", \"showgrid\": false, \"showline\": true, \"ticks\": \"outside\"}, \"bgcolor\": \"white\", \"caxis\": {\"gridcolor\": \"rgb(232,232,232)\", \"linecolor\": \"rgb(36,36,36)\", \"showgrid\": false, \"showline\": true, \"ticks\": \"outside\"}}, \"title\": {\"x\": 0.05}, \"xaxis\": {\"automargin\": true, \"gridcolor\": \"rgb(232,232,232)\", \"linecolor\": \"rgb(36,36,36)\", \"showgrid\": false, \"showline\": true, \"ticks\": \"outside\", \"title\": {\"standoff\": 15}, \"zeroline\": false, \"zerolinecolor\": \"rgb(36,36,36)\"}, \"yaxis\": {\"automargin\": true, \"gridcolor\": \"rgb(232,232,232)\", \"linecolor\": \"rgb(36,36,36)\", \"showgrid\": false, \"showline\": true, \"ticks\": \"outside\", \"title\": {\"standoff\": 15}, \"zeroline\": false, \"zerolinecolor\": \"rgb(36,36,36)\"}}}, \"title\": {\"font\": {\"size\": 26}, \"text\": \"Top 10 MOM awardee\"}, \"xaxis\": {\"anchor\": \"y\", \"domain\": [0.0, 1.0], \"title\": {\"text\": \"Players\"}}, \"yaxis\": {\"anchor\": \"x\", \"domain\": [0.0, 1.0], \"title\": {\"text\": \"Count\"}}},\n",
              "                        {\"responsive\": true}\n",
              "                    ).then(function(){\n",
              "                            \n",
              "var gd = document.getElementById('1d470d0b-c453-4457-98a0-b0c3836f2efa');\n",
              "var x = new MutationObserver(function (mutations, observer) {{\n",
              "        var display = window.getComputedStyle(gd).display;\n",
              "        if (!display || display === 'none') {{\n",
              "            console.log([gd, 'removed!']);\n",
              "            Plotly.purge(gd);\n",
              "            observer.disconnect();\n",
              "        }}\n",
              "}});\n",
              "\n",
              "// Listen for the removal of the full notebook cells\n",
              "var notebookContainer = gd.closest('#notebook-container');\n",
              "if (notebookContainer) {{\n",
              "    x.observe(notebookContainer, {childList: true});\n",
              "}}\n",
              "\n",
              "// Listen for the clearing of the current output cell\n",
              "var outputEl = gd.closest('.output');\n",
              "if (outputEl) {{\n",
              "    x.observe(outputEl, {childList: true});\n",
              "}}\n",
              "\n",
              "                        })\n",
              "                };\n",
              "                \n",
              "            </script>\n",
              "        </div>\n",
              "</body>\n",
              "</html>"
            ]
          },
          "metadata": {}
        }
      ]
    },
    {
      "cell_type": "markdown",
      "metadata": {
        "papermill": {
          "duration": 0.16695,
          "end_time": "2021-06-04T22:22:14.421802",
          "exception": false,
          "start_time": "2021-06-04T22:22:14.254852",
          "status": "completed"
        },
        "tags": [],
        "id": "S4TOpR7fi33W"
      },
      "source": [
        "<div class=\"alert alert-block alert-info\"><p style='color:black;'> 📌\n",
        "<b>AB de Villiers</b> (23) had won the most MOM awards, followed by Chris Gayle (22)\n",
        "</p>\n",
        "</div>\n"
      ]
    },
    {
      "cell_type": "markdown",
      "metadata": {
        "papermill": {
          "duration": 0.169425,
          "end_time": "2021-06-04T22:22:14.759239",
          "exception": false,
          "start_time": "2021-06-04T22:22:14.589814",
          "status": "completed"
        },
        "tags": [],
        "id": "mIkeCDoIi33W"
      },
      "source": [
        "<small><a href='#0'>Go to top</a></small>  "
      ]
    },
    {
      "cell_type": "markdown",
      "metadata": {
        "papermill": {
          "duration": 0.171736,
          "end_time": "2021-06-04T22:22:15.100272",
          "exception": false,
          "start_time": "2021-06-04T22:22:14.928536",
          "status": "completed"
        },
        "tags": [],
        "id": "i-e6iRUti33W"
      },
      "source": [
        "<a id=\"30\">\n",
        "<h1 style = \"font-family: Snell Roundhand;font-weight: 500;font-size: 30px; font-style: normal; background-color: #FFFB30; color :black;\">30) Total number of fours in each season :</h1>\n",
        "\n"
      ]
    },
    {
      "cell_type": "code",
      "metadata": {
        "_kg_hide-input": true,
        "execution": {
          "iopub.execute_input": "2021-06-04T22:22:15.456484Z",
          "iopub.status.busy": "2021-06-04T22:22:15.455402Z",
          "iopub.status.idle": "2021-06-04T22:22:17.027539Z",
          "shell.execute_reply": "2021-06-04T22:22:17.026923Z"
        },
        "papermill": {
          "duration": 1.756862,
          "end_time": "2021-06-04T22:22:17.027713",
          "exception": false,
          "start_time": "2021-06-04T22:22:15.270851",
          "status": "completed"
        },
        "tags": [],
        "colab": {
          "base_uri": "https://localhost:8080/",
          "height": 542
        },
        "id": "_FLl8NPsi33W",
        "outputId": "2ab4dd32-b815-439d-9495-94dca48a08e1"
      },
      "source": [
        "data_4 = match_data['Season'].unique()\n",
        "\n",
        "fours_list = []\n",
        "for var in data_4:\n",
        "    new_df = match_data[match_data['Season']==var]\n",
        "    total_fours = 0\n",
        "    for i in new_df['id'].values:\n",
        "        temp_df = deliveries_data[deliveries_data['id']==i]\n",
        "        fours = temp_df[temp_df['batsman_runs']==4]['batsman_runs'].count()\n",
        "        total_fours+=fours\n",
        "    fours_list.append(total_fours)\n",
        "    \n",
        "\n",
        "colors = ['turquoise',] * 14\n",
        "colors[5] = 'crimson'\n",
        "fig=px.bar(x=data_4, y=fours_list,labels=dict(x=\"Season\",y=\"Total Fours\"),)\n",
        "fig.update_layout(title=\"Total number of Fours in each season\",\n",
        "                  titlefont={'size': 26},template='simple_white'     \n",
        "                  )\n",
        "fig.update_traces(marker_line_color='black',\n",
        "                  marker_line_width=2.5, opacity=1,marker_color=colors)\n",
        "fig.show()\n"
      ],
      "execution_count": 73,
      "outputs": [
        {
          "output_type": "display_data",
          "data": {
            "text/html": [
              "<html>\n",
              "<head><meta charset=\"utf-8\" /></head>\n",
              "<body>\n",
              "    <div>\n",
              "            <script src=\"https://cdnjs.cloudflare.com/ajax/libs/mathjax/2.7.5/MathJax.js?config=TeX-AMS-MML_SVG\"></script><script type=\"text/javascript\">if (window.MathJax) {MathJax.Hub.Config({SVG: {font: \"STIX-Web\"}});}</script>\n",
              "                <script type=\"text/javascript\">window.PlotlyConfig = {MathJaxConfig: 'local'};</script>\n",
              "        <script src=\"https://cdn.plot.ly/plotly-latest.min.js\"></script>    \n",
              "            <div id=\"7fad7a38-a01c-4674-9611-ba7add48200f\" class=\"plotly-graph-div\" style=\"height:525px; width:100%;\"></div>\n",
              "            <script type=\"text/javascript\">\n",
              "                \n",
              "                    window.PLOTLYENV=window.PLOTLYENV || {};\n",
              "                    \n",
              "                if (document.getElementById(\"7fad7a38-a01c-4674-9611-ba7add48200f\")) {\n",
              "                    Plotly.newPlot(\n",
              "                        '7fad7a38-a01c-4674-9611-ba7add48200f',\n",
              "                        [{\"alignmentgroup\": \"True\", \"hoverlabel\": {\"namelength\": 0}, \"hovertemplate\": \"Season=%{x}<br>Total Fours=%{y}\", \"legendgroup\": \"\", \"marker\": {\"color\": [\"turquoise\", \"turquoise\", \"turquoise\", \"turquoise\", \"turquoise\", \"crimson\", \"turquoise\", \"turquoise\", \"turquoise\", \"turquoise\", \"turquoise\", \"turquoise\", \"turquoise\", \"turquoise\"], \"line\": {\"color\": \"black\", \"width\": 2.5}}, \"name\": \"\", \"offsetgroup\": \"\", \"opacity\": 1, \"orientation\": \"v\", \"showlegend\": false, \"textposition\": \"auto\", \"type\": \"bar\", \"x\": [2008, 2009, 2010, 2011, 2012, 2013, 2014, 2015, 2016, 2017, 2018, 2019, 2020], \"xaxis\": \"x\", \"y\": [1703, 1317, 1708, 1916, 1911, 2052, 1562, 1607, 1633, 1611, 1652, 1653, 1583], \"yaxis\": \"y\"}],\n",
              "                        {\"barmode\": \"relative\", \"legend\": {\"tracegroupgap\": 0}, \"margin\": {\"t\": 60}, \"template\": {\"data\": {\"bar\": [{\"error_x\": {\"color\": \"rgb(36,36,36)\"}, \"error_y\": {\"color\": \"rgb(36,36,36)\"}, \"marker\": {\"line\": {\"color\": \"white\", \"width\": 0.5}}, \"type\": \"bar\"}], \"barpolar\": [{\"marker\": {\"line\": {\"color\": \"white\", \"width\": 0.5}}, \"type\": \"barpolar\"}], \"carpet\": [{\"aaxis\": {\"endlinecolor\": \"rgb(36,36,36)\", \"gridcolor\": \"white\", \"linecolor\": \"white\", \"minorgridcolor\": \"white\", \"startlinecolor\": \"rgb(36,36,36)\"}, \"baxis\": {\"endlinecolor\": \"rgb(36,36,36)\", \"gridcolor\": \"white\", \"linecolor\": \"white\", \"minorgridcolor\": \"white\", \"startlinecolor\": \"rgb(36,36,36)\"}, \"type\": \"carpet\"}], \"choropleth\": [{\"colorbar\": {\"outlinewidth\": 10, \"tickcolor\": \"rgb(36,36,36)\", \"ticklen\": 8, \"ticks\": \"outside\", \"tickwidth\": 2}, \"type\": \"choropleth\"}], \"contour\": [{\"colorbar\": {\"outlinewidth\": 10, \"tickcolor\": \"rgb(36,36,36)\", \"ticklen\": 8, \"ticks\": \"outside\", \"tickwidth\": 2}, \"colorscale\": [[0.0, \"#440154\"], [0.1111111111111111, \"#482878\"], [0.2222222222222222, \"#3e4989\"], [0.3333333333333333, \"#31688e\"], [0.4444444444444444, \"#26828e\"], [0.5555555555555556, \"#1f9e89\"], [0.6666666666666666, \"#35b779\"], [0.7777777777777778, \"#6ece58\"], [0.8888888888888888, \"#b5de2b\"], [1.0, \"#fde725\"]], \"type\": \"contour\"}], \"contourcarpet\": [{\"colorbar\": {\"outlinewidth\": 10, \"tickcolor\": \"rgb(36,36,36)\", \"ticklen\": 8, \"ticks\": \"outside\", \"tickwidth\": 2}, \"type\": \"contourcarpet\"}], \"heatmap\": [{\"colorbar\": {\"outlinewidth\": 10, \"tickcolor\": \"rgb(36,36,36)\", \"ticklen\": 8, \"ticks\": \"outside\", \"tickwidth\": 2}, \"colorscale\": [[0.0, \"#440154\"], [0.1111111111111111, \"#482878\"], [0.2222222222222222, \"#3e4989\"], [0.3333333333333333, \"#31688e\"], [0.4444444444444444, \"#26828e\"], [0.5555555555555556, \"#1f9e89\"], [0.6666666666666666, \"#35b779\"], [0.7777777777777778, \"#6ece58\"], [0.8888888888888888, \"#b5de2b\"], [1.0, \"#fde725\"]], \"type\": \"heatmap\"}], \"heatmapgl\": [{\"colorbar\": {\"outlinewidth\": 10, \"tickcolor\": \"rgb(36,36,36)\", \"ticklen\": 8, \"ticks\": \"outside\", \"tickwidth\": 2}, \"colorscale\": [[0.0, \"#440154\"], [0.1111111111111111, \"#482878\"], [0.2222222222222222, \"#3e4989\"], [0.3333333333333333, \"#31688e\"], [0.4444444444444444, \"#26828e\"], [0.5555555555555556, \"#1f9e89\"], [0.6666666666666666, \"#35b779\"], [0.7777777777777778, \"#6ece58\"], [0.8888888888888888, \"#b5de2b\"], [1.0, \"#fde725\"]], \"type\": \"heatmapgl\"}], \"histogram\": [{\"marker\": {\"line\": {\"color\": \"white\", \"width\": 0.6}}, \"type\": \"histogram\"}], \"histogram2d\": [{\"colorbar\": {\"outlinewidth\": 10, \"tickcolor\": \"rgb(36,36,36)\", \"ticklen\": 8, \"ticks\": \"outside\", \"tickwidth\": 2}, \"colorscale\": [[0.0, \"#440154\"], [0.1111111111111111, \"#482878\"], [0.2222222222222222, \"#3e4989\"], [0.3333333333333333, \"#31688e\"], [0.4444444444444444, \"#26828e\"], [0.5555555555555556, \"#1f9e89\"], [0.6666666666666666, \"#35b779\"], [0.7777777777777778, \"#6ece58\"], [0.8888888888888888, \"#b5de2b\"], [1.0, \"#fde725\"]], \"type\": \"histogram2d\"}], \"histogram2dcontour\": [{\"colorbar\": {\"outlinewidth\": 10, \"tickcolor\": \"rgb(36,36,36)\", \"ticklen\": 8, \"ticks\": \"outside\", \"tickwidth\": 2}, \"colorscale\": [[0.0, \"#440154\"], [0.1111111111111111, \"#482878\"], [0.2222222222222222, \"#3e4989\"], [0.3333333333333333, \"#31688e\"], [0.4444444444444444, \"#26828e\"], [0.5555555555555556, \"#1f9e89\"], [0.6666666666666666, \"#35b779\"], [0.7777777777777778, \"#6ece58\"], [0.8888888888888888, \"#b5de2b\"], [1.0, \"#fde725\"]], \"type\": \"histogram2dcontour\"}], \"mesh3d\": [{\"colorbar\": {\"outlinewidth\": 10, \"tickcolor\": \"rgb(36,36,36)\", \"ticklen\": 8, \"ticks\": \"outside\", \"tickwidth\": 2}, \"type\": \"mesh3d\"}], \"parcoords\": [{\"line\": {\"colorbar\": {\"outlinewidth\": 10, \"tickcolor\": \"rgb(36,36,36)\", \"ticklen\": 8, \"ticks\": \"outside\", \"tickwidth\": 2}}, \"type\": \"parcoords\"}], \"pie\": [{\"automargin\": true, \"type\": \"pie\"}], \"scatter\": [{\"marker\": {\"colorbar\": {\"outlinewidth\": 10, \"tickcolor\": \"rgb(36,36,36)\", \"ticklen\": 8, \"ticks\": \"outside\", \"tickwidth\": 2}}, \"type\": \"scatter\"}], \"scatter3d\": [{\"line\": {\"colorbar\": {\"outlinewidth\": 10, \"tickcolor\": \"rgb(36,36,36)\", \"ticklen\": 8, \"ticks\": \"outside\", \"tickwidth\": 2}}, \"marker\": {\"colorbar\": {\"outlinewidth\": 10, \"tickcolor\": \"rgb(36,36,36)\", \"ticklen\": 8, \"ticks\": \"outside\", \"tickwidth\": 2}}, \"type\": \"scatter3d\"}], \"scattercarpet\": [{\"marker\": {\"colorbar\": {\"outlinewidth\": 10, \"tickcolor\": \"rgb(36,36,36)\", \"ticklen\": 8, \"ticks\": \"outside\", \"tickwidth\": 2}}, \"type\": \"scattercarpet\"}], \"scattergeo\": [{\"marker\": {\"colorbar\": {\"outlinewidth\": 10, \"tickcolor\": \"rgb(36,36,36)\", \"ticklen\": 8, \"ticks\": \"outside\", \"tickwidth\": 2}}, \"type\": \"scattergeo\"}], \"scattergl\": [{\"marker\": {\"colorbar\": {\"outlinewidth\": 10, \"tickcolor\": \"rgb(36,36,36)\", \"ticklen\": 8, \"ticks\": \"outside\", \"tickwidth\": 2}}, \"type\": \"scattergl\"}], \"scattermapbox\": [{\"marker\": {\"colorbar\": {\"outlinewidth\": 10, \"tickcolor\": \"rgb(36,36,36)\", \"ticklen\": 8, \"ticks\": \"outside\", \"tickwidth\": 2}}, \"type\": \"scattermapbox\"}], \"scatterpolar\": [{\"marker\": {\"colorbar\": {\"outlinewidth\": 10, \"tickcolor\": \"rgb(36,36,36)\", \"ticklen\": 8, \"ticks\": \"outside\", \"tickwidth\": 2}}, \"type\": \"scatterpolar\"}], \"scatterpolargl\": [{\"marker\": {\"colorbar\": {\"outlinewidth\": 10, \"tickcolor\": \"rgb(36,36,36)\", \"ticklen\": 8, \"ticks\": \"outside\", \"tickwidth\": 2}}, \"type\": \"scatterpolargl\"}], \"scatterternary\": [{\"marker\": {\"colorbar\": {\"outlinewidth\": 10, \"tickcolor\": \"rgb(36,36,36)\", \"ticklen\": 8, \"ticks\": \"outside\", \"tickwidth\": 2}}, \"type\": \"scatterternary\"}], \"surface\": [{\"colorbar\": {\"outlinewidth\": 10, \"tickcolor\": \"rgb(36,36,36)\", \"ticklen\": 8, \"ticks\": \"outside\", \"tickwidth\": 2}, \"colorscale\": [[0.0, \"#440154\"], [0.1111111111111111, \"#482878\"], [0.2222222222222222, \"#3e4989\"], [0.3333333333333333, \"#31688e\"], [0.4444444444444444, \"#26828e\"], [0.5555555555555556, \"#1f9e89\"], [0.6666666666666666, \"#35b779\"], [0.7777777777777778, \"#6ece58\"], [0.8888888888888888, \"#b5de2b\"], [1.0, \"#fde725\"]], \"type\": \"surface\"}], \"table\": [{\"cells\": {\"fill\": {\"color\": \"rgb(237,237,237)\"}, \"line\": {\"color\": \"white\"}}, \"header\": {\"fill\": {\"color\": \"rgb(217,217,217)\"}, \"line\": {\"color\": \"white\"}}, \"type\": \"table\"}]}, \"layout\": {\"annotationdefaults\": {\"arrowhead\": 0, \"arrowwidth\": 1}, \"coloraxis\": {\"colorbar\": {\"outlinewidth\": 10, \"tickcolor\": \"rgb(36,36,36)\", \"ticklen\": 8, \"ticks\": \"outside\", \"tickwidth\": 2}}, \"colorscale\": {\"diverging\": [[0.0, \"rgb(103,0,31)\"], [0.1, \"rgb(178,24,43)\"], [0.2, \"rgb(214,96,77)\"], [0.3, \"rgb(244,165,130)\"], [0.4, \"rgb(253,219,199)\"], [0.5, \"rgb(247,247,247)\"], [0.6, \"rgb(209,229,240)\"], [0.7, \"rgb(146,197,222)\"], [0.8, \"rgb(67,147,195)\"], [0.9, \"rgb(33,102,172)\"], [1.0, \"rgb(5,48,97)\"]], \"sequential\": [[0.0, \"#440154\"], [0.1111111111111111, \"#482878\"], [0.2222222222222222, \"#3e4989\"], [0.3333333333333333, \"#31688e\"], [0.4444444444444444, \"#26828e\"], [0.5555555555555556, \"#1f9e89\"], [0.6666666666666666, \"#35b779\"], [0.7777777777777778, \"#6ece58\"], [0.8888888888888888, \"#b5de2b\"], [1.0, \"#fde725\"]], \"sequentialminus\": [[0.0, \"#440154\"], [0.1111111111111111, \"#482878\"], [0.2222222222222222, \"#3e4989\"], [0.3333333333333333, \"#31688e\"], [0.4444444444444444, \"#26828e\"], [0.5555555555555556, \"#1f9e89\"], [0.6666666666666666, \"#35b779\"], [0.7777777777777778, \"#6ece58\"], [0.8888888888888888, \"#b5de2b\"], [1.0, \"#fde725\"]]}, \"colorway\": [\"#1F77B4\", \"#FF7F0E\", \"#2CA02C\", \"#D62728\", \"#9467BD\", \"#8C564B\", \"#E377C2\", \"#7F7F7F\", \"#BCBD22\", \"#17BECF\"], \"font\": {\"color\": \"rgb(36,36,36)\"}, \"geo\": {\"bgcolor\": \"white\", \"lakecolor\": \"white\", \"landcolor\": \"white\", \"showlakes\": true, \"showland\": true, \"subunitcolor\": \"white\"}, \"hoverlabel\": {\"align\": \"left\"}, \"hovermode\": \"closest\", \"mapbox\": {\"style\": \"light\"}, \"paper_bgcolor\": \"white\", \"plot_bgcolor\": \"white\", \"polar\": {\"angularaxis\": {\"gridcolor\": \"rgb(232,232,232)\", \"linecolor\": \"rgb(36,36,36)\", \"showgrid\": false, \"showline\": true, \"ticks\": \"outside\"}, \"bgcolor\": \"white\", \"radialaxis\": {\"gridcolor\": \"rgb(232,232,232)\", \"linecolor\": \"rgb(36,36,36)\", \"showgrid\": false, \"showline\": true, \"ticks\": \"outside\"}}, \"scene\": {\"xaxis\": {\"backgroundcolor\": \"white\", \"gridcolor\": \"rgb(232,232,232)\", \"gridwidth\": 2, \"linecolor\": \"rgb(36,36,36)\", \"showbackground\": true, \"showgrid\": false, \"showline\": true, \"ticks\": \"outside\", \"zeroline\": false, \"zerolinecolor\": \"rgb(36,36,36)\"}, \"yaxis\": {\"backgroundcolor\": \"white\", \"gridcolor\": \"rgb(232,232,232)\", \"gridwidth\": 2, \"linecolor\": \"rgb(36,36,36)\", \"showbackground\": true, \"showgrid\": false, \"showline\": true, \"ticks\": \"outside\", \"zeroline\": false, \"zerolinecolor\": \"rgb(36,36,36)\"}, \"zaxis\": {\"backgroundcolor\": \"white\", \"gridcolor\": \"rgb(232,232,232)\", \"gridwidth\": 2, \"linecolor\": \"rgb(36,36,36)\", \"showbackground\": true, \"showgrid\": false, \"showline\": true, \"ticks\": \"outside\", \"zeroline\": false, \"zerolinecolor\": \"rgb(36,36,36)\"}}, \"shapedefaults\": {\"fillcolor\": \"black\", \"line\": {\"width\": 0}, \"opacity\": 0.3}, \"ternary\": {\"aaxis\": {\"gridcolor\": \"rgb(232,232,232)\", \"linecolor\": \"rgb(36,36,36)\", \"showgrid\": false, \"showline\": true, \"ticks\": \"outside\"}, \"baxis\": {\"gridcolor\": \"rgb(232,232,232)\", \"linecolor\": \"rgb(36,36,36)\", \"showgrid\": false, \"showline\": true, \"ticks\": \"outside\"}, \"bgcolor\": \"white\", \"caxis\": {\"gridcolor\": \"rgb(232,232,232)\", \"linecolor\": \"rgb(36,36,36)\", \"showgrid\": false, \"showline\": true, \"ticks\": \"outside\"}}, \"title\": {\"x\": 0.05}, \"xaxis\": {\"automargin\": true, \"gridcolor\": \"rgb(232,232,232)\", \"linecolor\": \"rgb(36,36,36)\", \"showgrid\": false, \"showline\": true, \"ticks\": \"outside\", \"title\": {\"standoff\": 15}, \"zeroline\": false, \"zerolinecolor\": \"rgb(36,36,36)\"}, \"yaxis\": {\"automargin\": true, \"gridcolor\": \"rgb(232,232,232)\", \"linecolor\": \"rgb(36,36,36)\", \"showgrid\": false, \"showline\": true, \"ticks\": \"outside\", \"title\": {\"standoff\": 15}, \"zeroline\": false, \"zerolinecolor\": \"rgb(36,36,36)\"}}}, \"title\": {\"font\": {\"size\": 26}, \"text\": \"Total number of Fours in each season\"}, \"xaxis\": {\"anchor\": \"y\", \"domain\": [0.0, 1.0], \"title\": {\"text\": \"Season\"}}, \"yaxis\": {\"anchor\": \"x\", \"domain\": [0.0, 1.0], \"title\": {\"text\": \"Total Fours\"}}},\n",
              "                        {\"responsive\": true}\n",
              "                    ).then(function(){\n",
              "                            \n",
              "var gd = document.getElementById('7fad7a38-a01c-4674-9611-ba7add48200f');\n",
              "var x = new MutationObserver(function (mutations, observer) {{\n",
              "        var display = window.getComputedStyle(gd).display;\n",
              "        if (!display || display === 'none') {{\n",
              "            console.log([gd, 'removed!']);\n",
              "            Plotly.purge(gd);\n",
              "            observer.disconnect();\n",
              "        }}\n",
              "}});\n",
              "\n",
              "// Listen for the removal of the full notebook cells\n",
              "var notebookContainer = gd.closest('#notebook-container');\n",
              "if (notebookContainer) {{\n",
              "    x.observe(notebookContainer, {childList: true});\n",
              "}}\n",
              "\n",
              "// Listen for the clearing of the current output cell\n",
              "var outputEl = gd.closest('.output');\n",
              "if (outputEl) {{\n",
              "    x.observe(outputEl, {childList: true});\n",
              "}}\n",
              "\n",
              "                        })\n",
              "                };\n",
              "                \n",
              "            </script>\n",
              "        </div>\n",
              "</body>\n",
              "</html>"
            ]
          },
          "metadata": {}
        }
      ]
    },
    {
      "cell_type": "markdown",
      "metadata": {
        "papermill": {
          "duration": 0.17966,
          "end_time": "2021-06-04T22:22:17.380925",
          "exception": false,
          "start_time": "2021-06-04T22:22:17.201265",
          "status": "completed"
        },
        "tags": [],
        "id": "RKLDId_Yi33W"
      },
      "source": [
        "<div class=\"alert alert-block alert-info\"><p style='color:black;'> 📌\n",
        "Highest number of four in a season was is 2013 season while season 2009 had the lowest count of 4's.\n",
        "</p>\n",
        "</div>\n"
      ]
    },
    {
      "cell_type": "markdown",
      "metadata": {
        "papermill": {
          "duration": 0.171873,
          "end_time": "2021-06-04T22:22:17.723760",
          "exception": false,
          "start_time": "2021-06-04T22:22:17.551887",
          "status": "completed"
        },
        "tags": [],
        "id": "1pl846p_i33X"
      },
      "source": [
        "<small><a href='#0'>Go to top</a></small>  "
      ]
    },
    {
      "cell_type": "markdown",
      "metadata": {
        "papermill": {
          "duration": 0.171059,
          "end_time": "2021-06-04T22:22:18.067688",
          "exception": false,
          "start_time": "2021-06-04T22:22:17.896629",
          "status": "completed"
        },
        "tags": [],
        "id": "IO9w5_HJi33X"
      },
      "source": [
        "<a id=\"31\">\n",
        "<h1 style = \"font-family: Snell Roundhand;font-weight: 500;font-size: 30px; font-style: normal; background-color: #FFFB30; color :black;\">31) Total number of sixes in each season :</h1>\n"
      ]
    },
    {
      "cell_type": "code",
      "metadata": {
        "_kg_hide-input": true,
        "execution": {
          "iopub.execute_input": "2021-06-04T22:22:18.419862Z",
          "iopub.status.busy": "2021-06-04T22:22:18.419166Z",
          "iopub.status.idle": "2021-06-04T22:22:19.943852Z",
          "shell.execute_reply": "2021-06-04T22:22:19.943251Z"
        },
        "papermill": {
          "duration": 1.706056,
          "end_time": "2021-06-04T22:22:19.944005",
          "exception": false,
          "start_time": "2021-06-04T22:22:18.237949",
          "status": "completed"
        },
        "tags": [],
        "colab": {
          "base_uri": "https://localhost:8080/",
          "height": 542
        },
        "id": "A0sEjxJEi33X",
        "outputId": "e8f7725e-8c7f-45b6-9c83-5eb1ebac3893"
      },
      "source": [
        "\n",
        "data_6 = match_data['Season'].unique()\n",
        "\n",
        "# Getting total sixes from each season by check id from matches dataset in deliveries dataset.\n",
        "sixes_list = []\n",
        "for var in data_6:\n",
        "    new_df = match_data[match_data['Season']==var]\n",
        "    total_sixes = 0\n",
        "    for i in new_df['id'].values:\n",
        "        temp_df = deliveries_data[deliveries_data['id']==i]\n",
        "        sixes = temp_df[temp_df['batsman_runs']==6]['batsman_runs'].count()\n",
        "        total_sixes+=sixes\n",
        "    sixes_list.append(total_sixes)\n",
        "    \n",
        "colors = ['turquoise',] * 14\n",
        "colors[-4] = 'crimson'\n",
        "fig=px.bar(x=data_4, y=sixes_list,labels=dict(x=\"Season\",y=\"Total Sixes\"),)\n",
        "fig.update_layout(title=\"Total number of Sixes in each season\",\n",
        "                  titlefont={'size': 26},template='simple_white'     \n",
        "                  )\n",
        "fig.update_traces(marker_line_color='black',\n",
        "                  marker_line_width=2.5, opacity=1,marker_color=colors)\n",
        "fig.show()\n"
      ],
      "execution_count": 74,
      "outputs": [
        {
          "output_type": "display_data",
          "data": {
            "text/html": [
              "<html>\n",
              "<head><meta charset=\"utf-8\" /></head>\n",
              "<body>\n",
              "    <div>\n",
              "            <script src=\"https://cdnjs.cloudflare.com/ajax/libs/mathjax/2.7.5/MathJax.js?config=TeX-AMS-MML_SVG\"></script><script type=\"text/javascript\">if (window.MathJax) {MathJax.Hub.Config({SVG: {font: \"STIX-Web\"}});}</script>\n",
              "                <script type=\"text/javascript\">window.PlotlyConfig = {MathJaxConfig: 'local'};</script>\n",
              "        <script src=\"https://cdn.plot.ly/plotly-latest.min.js\"></script>    \n",
              "            <div id=\"093f1c09-7eaf-44dd-8798-d2d19a7dd075\" class=\"plotly-graph-div\" style=\"height:525px; width:100%;\"></div>\n",
              "            <script type=\"text/javascript\">\n",
              "                \n",
              "                    window.PLOTLYENV=window.PLOTLYENV || {};\n",
              "                    \n",
              "                if (document.getElementById(\"093f1c09-7eaf-44dd-8798-d2d19a7dd075\")) {\n",
              "                    Plotly.newPlot(\n",
              "                        '093f1c09-7eaf-44dd-8798-d2d19a7dd075',\n",
              "                        [{\"alignmentgroup\": \"True\", \"hoverlabel\": {\"namelength\": 0}, \"hovertemplate\": \"Season=%{x}<br>Total Sixes=%{y}\", \"legendgroup\": \"\", \"marker\": {\"color\": [\"turquoise\", \"turquoise\", \"turquoise\", \"turquoise\", \"turquoise\", \"turquoise\", \"turquoise\", \"turquoise\", \"turquoise\", \"turquoise\", \"crimson\", \"turquoise\", \"turquoise\", \"turquoise\"], \"line\": {\"color\": \"black\", \"width\": 2.5}}, \"name\": \"\", \"offsetgroup\": \"\", \"opacity\": 1, \"orientation\": \"v\", \"showlegend\": false, \"textposition\": \"auto\", \"type\": \"bar\", \"x\": [2008, 2009, 2010, 2011, 2012, 2013, 2014, 2015, 2016, 2017, 2018, 2019, 2020], \"xaxis\": \"x\", \"y\": [623, 506, 585, 639, 733, 675, 714, 692, 639, 705, 872, 784, 735], \"yaxis\": \"y\"}],\n",
              "                        {\"barmode\": \"relative\", \"legend\": {\"tracegroupgap\": 0}, \"margin\": {\"t\": 60}, \"template\": {\"data\": {\"bar\": [{\"error_x\": {\"color\": \"rgb(36,36,36)\"}, \"error_y\": {\"color\": \"rgb(36,36,36)\"}, \"marker\": {\"line\": {\"color\": \"white\", \"width\": 0.5}}, \"type\": \"bar\"}], \"barpolar\": [{\"marker\": {\"line\": {\"color\": \"white\", \"width\": 0.5}}, \"type\": \"barpolar\"}], \"carpet\": [{\"aaxis\": {\"endlinecolor\": \"rgb(36,36,36)\", \"gridcolor\": \"white\", \"linecolor\": \"white\", \"minorgridcolor\": \"white\", \"startlinecolor\": \"rgb(36,36,36)\"}, \"baxis\": {\"endlinecolor\": \"rgb(36,36,36)\", \"gridcolor\": \"white\", \"linecolor\": \"white\", \"minorgridcolor\": \"white\", \"startlinecolor\": \"rgb(36,36,36)\"}, \"type\": \"carpet\"}], \"choropleth\": [{\"colorbar\": {\"outlinewidth\": 10, \"tickcolor\": \"rgb(36,36,36)\", \"ticklen\": 8, \"ticks\": \"outside\", \"tickwidth\": 2}, \"type\": \"choropleth\"}], \"contour\": [{\"colorbar\": {\"outlinewidth\": 10, \"tickcolor\": \"rgb(36,36,36)\", \"ticklen\": 8, \"ticks\": \"outside\", \"tickwidth\": 2}, \"colorscale\": [[0.0, \"#440154\"], [0.1111111111111111, \"#482878\"], [0.2222222222222222, \"#3e4989\"], [0.3333333333333333, \"#31688e\"], [0.4444444444444444, \"#26828e\"], [0.5555555555555556, \"#1f9e89\"], [0.6666666666666666, \"#35b779\"], [0.7777777777777778, \"#6ece58\"], [0.8888888888888888, \"#b5de2b\"], [1.0, \"#fde725\"]], \"type\": \"contour\"}], \"contourcarpet\": [{\"colorbar\": {\"outlinewidth\": 10, \"tickcolor\": \"rgb(36,36,36)\", \"ticklen\": 8, \"ticks\": \"outside\", \"tickwidth\": 2}, \"type\": \"contourcarpet\"}], \"heatmap\": [{\"colorbar\": {\"outlinewidth\": 10, \"tickcolor\": \"rgb(36,36,36)\", \"ticklen\": 8, \"ticks\": \"outside\", \"tickwidth\": 2}, \"colorscale\": [[0.0, \"#440154\"], [0.1111111111111111, \"#482878\"], [0.2222222222222222, \"#3e4989\"], [0.3333333333333333, \"#31688e\"], [0.4444444444444444, \"#26828e\"], [0.5555555555555556, \"#1f9e89\"], [0.6666666666666666, \"#35b779\"], [0.7777777777777778, \"#6ece58\"], [0.8888888888888888, \"#b5de2b\"], [1.0, \"#fde725\"]], \"type\": \"heatmap\"}], \"heatmapgl\": [{\"colorbar\": {\"outlinewidth\": 10, \"tickcolor\": \"rgb(36,36,36)\", \"ticklen\": 8, \"ticks\": \"outside\", \"tickwidth\": 2}, \"colorscale\": [[0.0, \"#440154\"], [0.1111111111111111, \"#482878\"], [0.2222222222222222, \"#3e4989\"], [0.3333333333333333, \"#31688e\"], [0.4444444444444444, \"#26828e\"], [0.5555555555555556, \"#1f9e89\"], [0.6666666666666666, \"#35b779\"], [0.7777777777777778, \"#6ece58\"], [0.8888888888888888, \"#b5de2b\"], [1.0, \"#fde725\"]], \"type\": \"heatmapgl\"}], \"histogram\": [{\"marker\": {\"line\": {\"color\": \"white\", \"width\": 0.6}}, \"type\": \"histogram\"}], \"histogram2d\": [{\"colorbar\": {\"outlinewidth\": 10, \"tickcolor\": \"rgb(36,36,36)\", \"ticklen\": 8, \"ticks\": \"outside\", \"tickwidth\": 2}, \"colorscale\": [[0.0, \"#440154\"], [0.1111111111111111, \"#482878\"], [0.2222222222222222, \"#3e4989\"], [0.3333333333333333, \"#31688e\"], [0.4444444444444444, \"#26828e\"], [0.5555555555555556, \"#1f9e89\"], [0.6666666666666666, \"#35b779\"], [0.7777777777777778, \"#6ece58\"], [0.8888888888888888, \"#b5de2b\"], [1.0, \"#fde725\"]], \"type\": \"histogram2d\"}], \"histogram2dcontour\": [{\"colorbar\": {\"outlinewidth\": 10, \"tickcolor\": \"rgb(36,36,36)\", \"ticklen\": 8, \"ticks\": \"outside\", \"tickwidth\": 2}, \"colorscale\": [[0.0, \"#440154\"], [0.1111111111111111, \"#482878\"], [0.2222222222222222, \"#3e4989\"], [0.3333333333333333, \"#31688e\"], [0.4444444444444444, \"#26828e\"], [0.5555555555555556, \"#1f9e89\"], [0.6666666666666666, \"#35b779\"], [0.7777777777777778, \"#6ece58\"], [0.8888888888888888, \"#b5de2b\"], [1.0, \"#fde725\"]], \"type\": \"histogram2dcontour\"}], \"mesh3d\": [{\"colorbar\": {\"outlinewidth\": 10, \"tickcolor\": \"rgb(36,36,36)\", \"ticklen\": 8, \"ticks\": \"outside\", \"tickwidth\": 2}, \"type\": \"mesh3d\"}], \"parcoords\": [{\"line\": {\"colorbar\": {\"outlinewidth\": 10, \"tickcolor\": \"rgb(36,36,36)\", \"ticklen\": 8, \"ticks\": \"outside\", \"tickwidth\": 2}}, \"type\": \"parcoords\"}], \"pie\": [{\"automargin\": true, \"type\": \"pie\"}], \"scatter\": [{\"marker\": {\"colorbar\": {\"outlinewidth\": 10, \"tickcolor\": \"rgb(36,36,36)\", \"ticklen\": 8, \"ticks\": \"outside\", \"tickwidth\": 2}}, \"type\": \"scatter\"}], \"scatter3d\": [{\"line\": {\"colorbar\": {\"outlinewidth\": 10, \"tickcolor\": \"rgb(36,36,36)\", \"ticklen\": 8, \"ticks\": \"outside\", \"tickwidth\": 2}}, \"marker\": {\"colorbar\": {\"outlinewidth\": 10, \"tickcolor\": \"rgb(36,36,36)\", \"ticklen\": 8, \"ticks\": \"outside\", \"tickwidth\": 2}}, \"type\": \"scatter3d\"}], \"scattercarpet\": [{\"marker\": {\"colorbar\": {\"outlinewidth\": 10, \"tickcolor\": \"rgb(36,36,36)\", \"ticklen\": 8, \"ticks\": \"outside\", \"tickwidth\": 2}}, \"type\": \"scattercarpet\"}], \"scattergeo\": [{\"marker\": {\"colorbar\": {\"outlinewidth\": 10, \"tickcolor\": \"rgb(36,36,36)\", \"ticklen\": 8, \"ticks\": \"outside\", \"tickwidth\": 2}}, \"type\": \"scattergeo\"}], \"scattergl\": [{\"marker\": {\"colorbar\": {\"outlinewidth\": 10, \"tickcolor\": \"rgb(36,36,36)\", \"ticklen\": 8, \"ticks\": \"outside\", \"tickwidth\": 2}}, \"type\": \"scattergl\"}], \"scattermapbox\": [{\"marker\": {\"colorbar\": {\"outlinewidth\": 10, \"tickcolor\": \"rgb(36,36,36)\", \"ticklen\": 8, \"ticks\": \"outside\", \"tickwidth\": 2}}, \"type\": \"scattermapbox\"}], \"scatterpolar\": [{\"marker\": {\"colorbar\": {\"outlinewidth\": 10, \"tickcolor\": \"rgb(36,36,36)\", \"ticklen\": 8, \"ticks\": \"outside\", \"tickwidth\": 2}}, \"type\": \"scatterpolar\"}], \"scatterpolargl\": [{\"marker\": {\"colorbar\": {\"outlinewidth\": 10, \"tickcolor\": \"rgb(36,36,36)\", \"ticklen\": 8, \"ticks\": \"outside\", \"tickwidth\": 2}}, \"type\": \"scatterpolargl\"}], \"scatterternary\": [{\"marker\": {\"colorbar\": {\"outlinewidth\": 10, \"tickcolor\": \"rgb(36,36,36)\", \"ticklen\": 8, \"ticks\": \"outside\", \"tickwidth\": 2}}, \"type\": \"scatterternary\"}], \"surface\": [{\"colorbar\": {\"outlinewidth\": 10, \"tickcolor\": \"rgb(36,36,36)\", \"ticklen\": 8, \"ticks\": \"outside\", \"tickwidth\": 2}, \"colorscale\": [[0.0, \"#440154\"], [0.1111111111111111, \"#482878\"], [0.2222222222222222, \"#3e4989\"], [0.3333333333333333, \"#31688e\"], [0.4444444444444444, \"#26828e\"], [0.5555555555555556, \"#1f9e89\"], [0.6666666666666666, \"#35b779\"], [0.7777777777777778, \"#6ece58\"], [0.8888888888888888, \"#b5de2b\"], [1.0, \"#fde725\"]], \"type\": \"surface\"}], \"table\": [{\"cells\": {\"fill\": {\"color\": \"rgb(237,237,237)\"}, \"line\": {\"color\": \"white\"}}, \"header\": {\"fill\": {\"color\": \"rgb(217,217,217)\"}, \"line\": {\"color\": \"white\"}}, \"type\": \"table\"}]}, \"layout\": {\"annotationdefaults\": {\"arrowhead\": 0, \"arrowwidth\": 1}, \"coloraxis\": {\"colorbar\": {\"outlinewidth\": 10, \"tickcolor\": \"rgb(36,36,36)\", \"ticklen\": 8, \"ticks\": \"outside\", \"tickwidth\": 2}}, \"colorscale\": {\"diverging\": [[0.0, \"rgb(103,0,31)\"], [0.1, \"rgb(178,24,43)\"], [0.2, \"rgb(214,96,77)\"], [0.3, \"rgb(244,165,130)\"], [0.4, \"rgb(253,219,199)\"], [0.5, \"rgb(247,247,247)\"], [0.6, \"rgb(209,229,240)\"], [0.7, \"rgb(146,197,222)\"], [0.8, \"rgb(67,147,195)\"], [0.9, \"rgb(33,102,172)\"], [1.0, \"rgb(5,48,97)\"]], \"sequential\": [[0.0, \"#440154\"], [0.1111111111111111, \"#482878\"], [0.2222222222222222, \"#3e4989\"], [0.3333333333333333, \"#31688e\"], [0.4444444444444444, \"#26828e\"], [0.5555555555555556, \"#1f9e89\"], [0.6666666666666666, \"#35b779\"], [0.7777777777777778, \"#6ece58\"], [0.8888888888888888, \"#b5de2b\"], [1.0, \"#fde725\"]], \"sequentialminus\": [[0.0, \"#440154\"], [0.1111111111111111, \"#482878\"], [0.2222222222222222, \"#3e4989\"], [0.3333333333333333, \"#31688e\"], [0.4444444444444444, \"#26828e\"], [0.5555555555555556, \"#1f9e89\"], [0.6666666666666666, \"#35b779\"], [0.7777777777777778, \"#6ece58\"], [0.8888888888888888, \"#b5de2b\"], [1.0, \"#fde725\"]]}, \"colorway\": [\"#1F77B4\", \"#FF7F0E\", \"#2CA02C\", \"#D62728\", \"#9467BD\", \"#8C564B\", \"#E377C2\", \"#7F7F7F\", \"#BCBD22\", \"#17BECF\"], \"font\": {\"color\": \"rgb(36,36,36)\"}, \"geo\": {\"bgcolor\": \"white\", \"lakecolor\": \"white\", \"landcolor\": \"white\", \"showlakes\": true, \"showland\": true, \"subunitcolor\": \"white\"}, \"hoverlabel\": {\"align\": \"left\"}, \"hovermode\": \"closest\", \"mapbox\": {\"style\": \"light\"}, \"paper_bgcolor\": \"white\", \"plot_bgcolor\": \"white\", \"polar\": {\"angularaxis\": {\"gridcolor\": \"rgb(232,232,232)\", \"linecolor\": \"rgb(36,36,36)\", \"showgrid\": false, \"showline\": true, \"ticks\": \"outside\"}, \"bgcolor\": \"white\", \"radialaxis\": {\"gridcolor\": \"rgb(232,232,232)\", \"linecolor\": \"rgb(36,36,36)\", \"showgrid\": false, \"showline\": true, \"ticks\": \"outside\"}}, \"scene\": {\"xaxis\": {\"backgroundcolor\": \"white\", \"gridcolor\": \"rgb(232,232,232)\", \"gridwidth\": 2, \"linecolor\": \"rgb(36,36,36)\", \"showbackground\": true, \"showgrid\": false, \"showline\": true, \"ticks\": \"outside\", \"zeroline\": false, \"zerolinecolor\": \"rgb(36,36,36)\"}, \"yaxis\": {\"backgroundcolor\": \"white\", \"gridcolor\": \"rgb(232,232,232)\", \"gridwidth\": 2, \"linecolor\": \"rgb(36,36,36)\", \"showbackground\": true, \"showgrid\": false, \"showline\": true, \"ticks\": \"outside\", \"zeroline\": false, \"zerolinecolor\": \"rgb(36,36,36)\"}, \"zaxis\": {\"backgroundcolor\": \"white\", \"gridcolor\": \"rgb(232,232,232)\", \"gridwidth\": 2, \"linecolor\": \"rgb(36,36,36)\", \"showbackground\": true, \"showgrid\": false, \"showline\": true, \"ticks\": \"outside\", \"zeroline\": false, \"zerolinecolor\": \"rgb(36,36,36)\"}}, \"shapedefaults\": {\"fillcolor\": \"black\", \"line\": {\"width\": 0}, \"opacity\": 0.3}, \"ternary\": {\"aaxis\": {\"gridcolor\": \"rgb(232,232,232)\", \"linecolor\": \"rgb(36,36,36)\", \"showgrid\": false, \"showline\": true, \"ticks\": \"outside\"}, \"baxis\": {\"gridcolor\": \"rgb(232,232,232)\", \"linecolor\": \"rgb(36,36,36)\", \"showgrid\": false, \"showline\": true, \"ticks\": \"outside\"}, \"bgcolor\": \"white\", \"caxis\": {\"gridcolor\": \"rgb(232,232,232)\", \"linecolor\": \"rgb(36,36,36)\", \"showgrid\": false, \"showline\": true, \"ticks\": \"outside\"}}, \"title\": {\"x\": 0.05}, \"xaxis\": {\"automargin\": true, \"gridcolor\": \"rgb(232,232,232)\", \"linecolor\": \"rgb(36,36,36)\", \"showgrid\": false, \"showline\": true, \"ticks\": \"outside\", \"title\": {\"standoff\": 15}, \"zeroline\": false, \"zerolinecolor\": \"rgb(36,36,36)\"}, \"yaxis\": {\"automargin\": true, \"gridcolor\": \"rgb(232,232,232)\", \"linecolor\": \"rgb(36,36,36)\", \"showgrid\": false, \"showline\": true, \"ticks\": \"outside\", \"title\": {\"standoff\": 15}, \"zeroline\": false, \"zerolinecolor\": \"rgb(36,36,36)\"}}}, \"title\": {\"font\": {\"size\": 26}, \"text\": \"Total number of Sixes in each season\"}, \"xaxis\": {\"anchor\": \"y\", \"domain\": [0.0, 1.0], \"title\": {\"text\": \"Season\"}}, \"yaxis\": {\"anchor\": \"x\", \"domain\": [0.0, 1.0], \"title\": {\"text\": \"Total Sixes\"}}},\n",
              "                        {\"responsive\": true}\n",
              "                    ).then(function(){\n",
              "                            \n",
              "var gd = document.getElementById('093f1c09-7eaf-44dd-8798-d2d19a7dd075');\n",
              "var x = new MutationObserver(function (mutations, observer) {{\n",
              "        var display = window.getComputedStyle(gd).display;\n",
              "        if (!display || display === 'none') {{\n",
              "            console.log([gd, 'removed!']);\n",
              "            Plotly.purge(gd);\n",
              "            observer.disconnect();\n",
              "        }}\n",
              "}});\n",
              "\n",
              "// Listen for the removal of the full notebook cells\n",
              "var notebookContainer = gd.closest('#notebook-container');\n",
              "if (notebookContainer) {{\n",
              "    x.observe(notebookContainer, {childList: true});\n",
              "}}\n",
              "\n",
              "// Listen for the clearing of the current output cell\n",
              "var outputEl = gd.closest('.output');\n",
              "if (outputEl) {{\n",
              "    x.observe(outputEl, {childList: true});\n",
              "}}\n",
              "\n",
              "                        })\n",
              "                };\n",
              "                \n",
              "            </script>\n",
              "        </div>\n",
              "</body>\n",
              "</html>"
            ]
          },
          "metadata": {}
        }
      ]
    },
    {
      "cell_type": "markdown",
      "metadata": {
        "papermill": {
          "duration": 0.177804,
          "end_time": "2021-06-04T22:22:20.294224",
          "exception": false,
          "start_time": "2021-06-04T22:22:20.116420",
          "status": "completed"
        },
        "tags": [],
        "id": "m6pqNWT4i33X"
      },
      "source": [
        "<div class=\"alert alert-block alert-info\"><p style='color:black;'> 📌\n",
        "In season 2018, the maximum number of sixes were hit while the lowest was observed in season 2009.\n",
        "</p>\n",
        "</div>"
      ]
    },
    {
      "cell_type": "markdown",
      "metadata": {
        "papermill": {
          "duration": 0.170997,
          "end_time": "2021-06-04T22:22:20.636556",
          "exception": false,
          "start_time": "2021-06-04T22:22:20.465559",
          "status": "completed"
        },
        "tags": [],
        "id": "BReXBOcKi33X"
      },
      "source": [
        "<small><a href='#0'>Go to top</a></small>  "
      ]
    },
    {
      "cell_type": "markdown",
      "metadata": {
        "papermill": {
          "duration": 0.171047,
          "end_time": "2021-06-04T22:22:20.977501",
          "exception": false,
          "start_time": "2021-06-04T22:22:20.806454",
          "status": "completed"
        },
        "tags": [],
        "id": "6iNyPR3Ri33X"
      },
      "source": [
        "<a id=\"32\">\n",
        "<h1 style = \"font-family: Snell Roundhand;font-weight: 500;font-size: 30px; font-style: normal; background-color: #FFFB30; color :black;\">32) Total runs scored from boundaries in each season :</h1>\n"
      ]
    },
    {
      "cell_type": "code",
      "metadata": {
        "_kg_hide-input": true,
        "execution": {
          "iopub.execute_input": "2021-06-04T22:22:21.358298Z",
          "iopub.status.busy": "2021-06-04T22:22:21.357634Z",
          "iopub.status.idle": "2021-06-04T22:22:21.360712Z",
          "shell.execute_reply": "2021-06-04T22:22:21.360070Z"
        },
        "papermill": {
          "duration": 0.199762,
          "end_time": "2021-06-04T22:22:21.360862",
          "exception": false,
          "start_time": "2021-06-04T22:22:21.161100",
          "status": "completed"
        },
        "tags": [],
        "id": "KyaWgAA-i33X"
      },
      "source": [
        "runs4=np.dot(fours_list,4)\n",
        "runs6=np.dot(sixes_list,6)"
      ],
      "execution_count": 75,
      "outputs": []
    },
    {
      "cell_type": "code",
      "metadata": {
        "_kg_hide-input": true,
        "execution": {
          "iopub.execute_input": "2021-06-04T22:22:21.745470Z",
          "iopub.status.busy": "2021-06-04T22:22:21.741135Z",
          "iopub.status.idle": "2021-06-04T22:22:21.837625Z",
          "shell.execute_reply": "2021-06-04T22:22:21.836856Z"
        },
        "papermill": {
          "duration": 0.288803,
          "end_time": "2021-06-04T22:22:21.837787",
          "exception": false,
          "start_time": "2021-06-04T22:22:21.548984",
          "status": "completed"
        },
        "tags": [],
        "colab": {
          "base_uri": "https://localhost:8080/",
          "height": 542
        },
        "id": "9pNMqhuji33Y",
        "outputId": "88ace794-82ed-446b-c40c-9990923f1c4e"
      },
      "source": [
        "k=runs4+runs6\n",
        "Y=match_data['Season'].unique()\n",
        "colors = ['turquoise',] * 14\n",
        "colors[5] = 'crimson'\n",
        "fig=px.bar(x=Y,y=k,labels=dict(x=\"Season\",y=\"Total runs\"),)\n",
        "fig.update_layout(title=\"Total number of runs scored from boundaries in each season\",\n",
        "                  titlefont={'size': 26},template='simple_white'     \n",
        "                  )\n",
        "fig.update_traces(marker_line_color='black',\n",
        "                  marker_line_width=2.5, opacity=1,marker_color=colors)\n",
        "fig.show()\n",
        "\n"
      ],
      "execution_count": 76,
      "outputs": [
        {
          "output_type": "display_data",
          "data": {
            "text/html": [
              "<html>\n",
              "<head><meta charset=\"utf-8\" /></head>\n",
              "<body>\n",
              "    <div>\n",
              "            <script src=\"https://cdnjs.cloudflare.com/ajax/libs/mathjax/2.7.5/MathJax.js?config=TeX-AMS-MML_SVG\"></script><script type=\"text/javascript\">if (window.MathJax) {MathJax.Hub.Config({SVG: {font: \"STIX-Web\"}});}</script>\n",
              "                <script type=\"text/javascript\">window.PlotlyConfig = {MathJaxConfig: 'local'};</script>\n",
              "        <script src=\"https://cdn.plot.ly/plotly-latest.min.js\"></script>    \n",
              "            <div id=\"c56c16d8-543e-4978-ac93-bc11a6d8c643\" class=\"plotly-graph-div\" style=\"height:525px; width:100%;\"></div>\n",
              "            <script type=\"text/javascript\">\n",
              "                \n",
              "                    window.PLOTLYENV=window.PLOTLYENV || {};\n",
              "                    \n",
              "                if (document.getElementById(\"c56c16d8-543e-4978-ac93-bc11a6d8c643\")) {\n",
              "                    Plotly.newPlot(\n",
              "                        'c56c16d8-543e-4978-ac93-bc11a6d8c643',\n",
              "                        [{\"alignmentgroup\": \"True\", \"hoverlabel\": {\"namelength\": 0}, \"hovertemplate\": \"Season=%{x}<br>Total runs=%{y}\", \"legendgroup\": \"\", \"marker\": {\"color\": [\"turquoise\", \"turquoise\", \"turquoise\", \"turquoise\", \"turquoise\", \"crimson\", \"turquoise\", \"turquoise\", \"turquoise\", \"turquoise\", \"turquoise\", \"turquoise\", \"turquoise\", \"turquoise\"], \"line\": {\"color\": \"black\", \"width\": 2.5}}, \"name\": \"\", \"offsetgroup\": \"\", \"opacity\": 1, \"orientation\": \"v\", \"showlegend\": false, \"textposition\": \"auto\", \"type\": \"bar\", \"x\": [2008, 2009, 2010, 2011, 2012, 2013, 2014, 2015, 2016, 2017, 2018, 2019, 2020], \"xaxis\": \"x\", \"y\": [10550, 8304, 10342, 11498, 12042, 12258, 10532, 10580, 10366, 10674, 11840, 11316, 10742], \"yaxis\": \"y\"}],\n",
              "                        {\"barmode\": \"relative\", \"legend\": {\"tracegroupgap\": 0}, \"margin\": {\"t\": 60}, \"template\": {\"data\": {\"bar\": [{\"error_x\": {\"color\": \"rgb(36,36,36)\"}, \"error_y\": {\"color\": \"rgb(36,36,36)\"}, \"marker\": {\"line\": {\"color\": \"white\", \"width\": 0.5}}, \"type\": \"bar\"}], \"barpolar\": [{\"marker\": {\"line\": {\"color\": \"white\", \"width\": 0.5}}, \"type\": \"barpolar\"}], \"carpet\": [{\"aaxis\": {\"endlinecolor\": \"rgb(36,36,36)\", \"gridcolor\": \"white\", \"linecolor\": \"white\", \"minorgridcolor\": \"white\", \"startlinecolor\": \"rgb(36,36,36)\"}, \"baxis\": {\"endlinecolor\": \"rgb(36,36,36)\", \"gridcolor\": \"white\", \"linecolor\": \"white\", \"minorgridcolor\": \"white\", \"startlinecolor\": \"rgb(36,36,36)\"}, \"type\": \"carpet\"}], \"choropleth\": [{\"colorbar\": {\"outlinewidth\": 10, \"tickcolor\": \"rgb(36,36,36)\", \"ticklen\": 8, \"ticks\": \"outside\", \"tickwidth\": 2}, \"type\": \"choropleth\"}], \"contour\": [{\"colorbar\": {\"outlinewidth\": 10, \"tickcolor\": \"rgb(36,36,36)\", \"ticklen\": 8, \"ticks\": \"outside\", \"tickwidth\": 2}, \"colorscale\": [[0.0, \"#440154\"], [0.1111111111111111, \"#482878\"], [0.2222222222222222, \"#3e4989\"], [0.3333333333333333, \"#31688e\"], [0.4444444444444444, \"#26828e\"], [0.5555555555555556, \"#1f9e89\"], [0.6666666666666666, \"#35b779\"], [0.7777777777777778, \"#6ece58\"], [0.8888888888888888, \"#b5de2b\"], [1.0, \"#fde725\"]], \"type\": \"contour\"}], \"contourcarpet\": [{\"colorbar\": {\"outlinewidth\": 10, \"tickcolor\": \"rgb(36,36,36)\", \"ticklen\": 8, \"ticks\": \"outside\", \"tickwidth\": 2}, \"type\": \"contourcarpet\"}], \"heatmap\": [{\"colorbar\": {\"outlinewidth\": 10, \"tickcolor\": \"rgb(36,36,36)\", \"ticklen\": 8, \"ticks\": \"outside\", \"tickwidth\": 2}, \"colorscale\": [[0.0, \"#440154\"], [0.1111111111111111, \"#482878\"], [0.2222222222222222, \"#3e4989\"], [0.3333333333333333, \"#31688e\"], [0.4444444444444444, \"#26828e\"], [0.5555555555555556, \"#1f9e89\"], [0.6666666666666666, \"#35b779\"], [0.7777777777777778, \"#6ece58\"], [0.8888888888888888, \"#b5de2b\"], [1.0, \"#fde725\"]], \"type\": \"heatmap\"}], \"heatmapgl\": [{\"colorbar\": {\"outlinewidth\": 10, \"tickcolor\": \"rgb(36,36,36)\", \"ticklen\": 8, \"ticks\": \"outside\", \"tickwidth\": 2}, \"colorscale\": [[0.0, \"#440154\"], [0.1111111111111111, \"#482878\"], [0.2222222222222222, \"#3e4989\"], [0.3333333333333333, \"#31688e\"], [0.4444444444444444, \"#26828e\"], [0.5555555555555556, \"#1f9e89\"], [0.6666666666666666, \"#35b779\"], [0.7777777777777778, \"#6ece58\"], [0.8888888888888888, \"#b5de2b\"], [1.0, \"#fde725\"]], \"type\": \"heatmapgl\"}], \"histogram\": [{\"marker\": {\"line\": {\"color\": \"white\", \"width\": 0.6}}, \"type\": \"histogram\"}], \"histogram2d\": [{\"colorbar\": {\"outlinewidth\": 10, \"tickcolor\": \"rgb(36,36,36)\", \"ticklen\": 8, \"ticks\": \"outside\", \"tickwidth\": 2}, \"colorscale\": [[0.0, \"#440154\"], [0.1111111111111111, \"#482878\"], [0.2222222222222222, \"#3e4989\"], [0.3333333333333333, \"#31688e\"], [0.4444444444444444, \"#26828e\"], [0.5555555555555556, \"#1f9e89\"], [0.6666666666666666, \"#35b779\"], [0.7777777777777778, \"#6ece58\"], [0.8888888888888888, \"#b5de2b\"], [1.0, \"#fde725\"]], \"type\": \"histogram2d\"}], \"histogram2dcontour\": [{\"colorbar\": {\"outlinewidth\": 10, \"tickcolor\": \"rgb(36,36,36)\", \"ticklen\": 8, \"ticks\": \"outside\", \"tickwidth\": 2}, \"colorscale\": [[0.0, \"#440154\"], [0.1111111111111111, \"#482878\"], [0.2222222222222222, \"#3e4989\"], [0.3333333333333333, \"#31688e\"], [0.4444444444444444, \"#26828e\"], [0.5555555555555556, \"#1f9e89\"], [0.6666666666666666, \"#35b779\"], [0.7777777777777778, \"#6ece58\"], [0.8888888888888888, \"#b5de2b\"], [1.0, \"#fde725\"]], \"type\": \"histogram2dcontour\"}], \"mesh3d\": [{\"colorbar\": {\"outlinewidth\": 10, \"tickcolor\": \"rgb(36,36,36)\", \"ticklen\": 8, \"ticks\": \"outside\", \"tickwidth\": 2}, \"type\": \"mesh3d\"}], \"parcoords\": [{\"line\": {\"colorbar\": {\"outlinewidth\": 10, \"tickcolor\": \"rgb(36,36,36)\", \"ticklen\": 8, \"ticks\": \"outside\", \"tickwidth\": 2}}, \"type\": \"parcoords\"}], \"pie\": [{\"automargin\": true, \"type\": \"pie\"}], \"scatter\": [{\"marker\": {\"colorbar\": {\"outlinewidth\": 10, \"tickcolor\": \"rgb(36,36,36)\", \"ticklen\": 8, \"ticks\": \"outside\", \"tickwidth\": 2}}, \"type\": \"scatter\"}], \"scatter3d\": [{\"line\": {\"colorbar\": {\"outlinewidth\": 10, \"tickcolor\": \"rgb(36,36,36)\", \"ticklen\": 8, \"ticks\": \"outside\", \"tickwidth\": 2}}, \"marker\": {\"colorbar\": {\"outlinewidth\": 10, \"tickcolor\": \"rgb(36,36,36)\", \"ticklen\": 8, \"ticks\": \"outside\", \"tickwidth\": 2}}, \"type\": \"scatter3d\"}], \"scattercarpet\": [{\"marker\": {\"colorbar\": {\"outlinewidth\": 10, \"tickcolor\": \"rgb(36,36,36)\", \"ticklen\": 8, \"ticks\": \"outside\", \"tickwidth\": 2}}, \"type\": \"scattercarpet\"}], \"scattergeo\": [{\"marker\": {\"colorbar\": {\"outlinewidth\": 10, \"tickcolor\": \"rgb(36,36,36)\", \"ticklen\": 8, \"ticks\": \"outside\", \"tickwidth\": 2}}, \"type\": \"scattergeo\"}], \"scattergl\": [{\"marker\": {\"colorbar\": {\"outlinewidth\": 10, \"tickcolor\": \"rgb(36,36,36)\", \"ticklen\": 8, \"ticks\": \"outside\", \"tickwidth\": 2}}, \"type\": \"scattergl\"}], \"scattermapbox\": [{\"marker\": {\"colorbar\": {\"outlinewidth\": 10, \"tickcolor\": \"rgb(36,36,36)\", \"ticklen\": 8, \"ticks\": \"outside\", \"tickwidth\": 2}}, \"type\": \"scattermapbox\"}], \"scatterpolar\": [{\"marker\": {\"colorbar\": {\"outlinewidth\": 10, \"tickcolor\": \"rgb(36,36,36)\", \"ticklen\": 8, \"ticks\": \"outside\", \"tickwidth\": 2}}, \"type\": \"scatterpolar\"}], \"scatterpolargl\": [{\"marker\": {\"colorbar\": {\"outlinewidth\": 10, \"tickcolor\": \"rgb(36,36,36)\", \"ticklen\": 8, \"ticks\": \"outside\", \"tickwidth\": 2}}, \"type\": \"scatterpolargl\"}], \"scatterternary\": [{\"marker\": {\"colorbar\": {\"outlinewidth\": 10, \"tickcolor\": \"rgb(36,36,36)\", \"ticklen\": 8, \"ticks\": \"outside\", \"tickwidth\": 2}}, \"type\": \"scatterternary\"}], \"surface\": [{\"colorbar\": {\"outlinewidth\": 10, \"tickcolor\": \"rgb(36,36,36)\", \"ticklen\": 8, \"ticks\": \"outside\", \"tickwidth\": 2}, \"colorscale\": [[0.0, \"#440154\"], [0.1111111111111111, \"#482878\"], [0.2222222222222222, \"#3e4989\"], [0.3333333333333333, \"#31688e\"], [0.4444444444444444, \"#26828e\"], [0.5555555555555556, \"#1f9e89\"], [0.6666666666666666, \"#35b779\"], [0.7777777777777778, \"#6ece58\"], [0.8888888888888888, \"#b5de2b\"], [1.0, \"#fde725\"]], \"type\": \"surface\"}], \"table\": [{\"cells\": {\"fill\": {\"color\": \"rgb(237,237,237)\"}, \"line\": {\"color\": \"white\"}}, \"header\": {\"fill\": {\"color\": \"rgb(217,217,217)\"}, \"line\": {\"color\": \"white\"}}, \"type\": \"table\"}]}, \"layout\": {\"annotationdefaults\": {\"arrowhead\": 0, \"arrowwidth\": 1}, \"coloraxis\": {\"colorbar\": {\"outlinewidth\": 10, \"tickcolor\": \"rgb(36,36,36)\", \"ticklen\": 8, \"ticks\": \"outside\", \"tickwidth\": 2}}, \"colorscale\": {\"diverging\": [[0.0, \"rgb(103,0,31)\"], [0.1, \"rgb(178,24,43)\"], [0.2, \"rgb(214,96,77)\"], [0.3, \"rgb(244,165,130)\"], [0.4, \"rgb(253,219,199)\"], [0.5, \"rgb(247,247,247)\"], [0.6, \"rgb(209,229,240)\"], [0.7, \"rgb(146,197,222)\"], [0.8, \"rgb(67,147,195)\"], [0.9, \"rgb(33,102,172)\"], [1.0, \"rgb(5,48,97)\"]], \"sequential\": [[0.0, \"#440154\"], [0.1111111111111111, \"#482878\"], [0.2222222222222222, \"#3e4989\"], [0.3333333333333333, \"#31688e\"], [0.4444444444444444, \"#26828e\"], [0.5555555555555556, \"#1f9e89\"], [0.6666666666666666, \"#35b779\"], [0.7777777777777778, \"#6ece58\"], [0.8888888888888888, \"#b5de2b\"], [1.0, \"#fde725\"]], \"sequentialminus\": [[0.0, \"#440154\"], [0.1111111111111111, \"#482878\"], [0.2222222222222222, \"#3e4989\"], [0.3333333333333333, \"#31688e\"], [0.4444444444444444, \"#26828e\"], [0.5555555555555556, \"#1f9e89\"], [0.6666666666666666, \"#35b779\"], [0.7777777777777778, \"#6ece58\"], [0.8888888888888888, \"#b5de2b\"], [1.0, \"#fde725\"]]}, \"colorway\": [\"#1F77B4\", \"#FF7F0E\", \"#2CA02C\", \"#D62728\", \"#9467BD\", \"#8C564B\", \"#E377C2\", \"#7F7F7F\", \"#BCBD22\", \"#17BECF\"], \"font\": {\"color\": \"rgb(36,36,36)\"}, \"geo\": {\"bgcolor\": \"white\", \"lakecolor\": \"white\", \"landcolor\": \"white\", \"showlakes\": true, \"showland\": true, \"subunitcolor\": \"white\"}, \"hoverlabel\": {\"align\": \"left\"}, \"hovermode\": \"closest\", \"mapbox\": {\"style\": \"light\"}, \"paper_bgcolor\": \"white\", \"plot_bgcolor\": \"white\", \"polar\": {\"angularaxis\": {\"gridcolor\": \"rgb(232,232,232)\", \"linecolor\": \"rgb(36,36,36)\", \"showgrid\": false, \"showline\": true, \"ticks\": \"outside\"}, \"bgcolor\": \"white\", \"radialaxis\": {\"gridcolor\": \"rgb(232,232,232)\", \"linecolor\": \"rgb(36,36,36)\", \"showgrid\": false, \"showline\": true, \"ticks\": \"outside\"}}, \"scene\": {\"xaxis\": {\"backgroundcolor\": \"white\", \"gridcolor\": \"rgb(232,232,232)\", \"gridwidth\": 2, \"linecolor\": \"rgb(36,36,36)\", \"showbackground\": true, \"showgrid\": false, \"showline\": true, \"ticks\": \"outside\", \"zeroline\": false, \"zerolinecolor\": \"rgb(36,36,36)\"}, \"yaxis\": {\"backgroundcolor\": \"white\", \"gridcolor\": \"rgb(232,232,232)\", \"gridwidth\": 2, \"linecolor\": \"rgb(36,36,36)\", \"showbackground\": true, \"showgrid\": false, \"showline\": true, \"ticks\": \"outside\", \"zeroline\": false, \"zerolinecolor\": \"rgb(36,36,36)\"}, \"zaxis\": {\"backgroundcolor\": \"white\", \"gridcolor\": \"rgb(232,232,232)\", \"gridwidth\": 2, \"linecolor\": \"rgb(36,36,36)\", \"showbackground\": true, \"showgrid\": false, \"showline\": true, \"ticks\": \"outside\", \"zeroline\": false, \"zerolinecolor\": \"rgb(36,36,36)\"}}, \"shapedefaults\": {\"fillcolor\": \"black\", \"line\": {\"width\": 0}, \"opacity\": 0.3}, \"ternary\": {\"aaxis\": {\"gridcolor\": \"rgb(232,232,232)\", \"linecolor\": \"rgb(36,36,36)\", \"showgrid\": false, \"showline\": true, \"ticks\": \"outside\"}, \"baxis\": {\"gridcolor\": \"rgb(232,232,232)\", \"linecolor\": \"rgb(36,36,36)\", \"showgrid\": false, \"showline\": true, \"ticks\": \"outside\"}, \"bgcolor\": \"white\", \"caxis\": {\"gridcolor\": \"rgb(232,232,232)\", \"linecolor\": \"rgb(36,36,36)\", \"showgrid\": false, \"showline\": true, \"ticks\": \"outside\"}}, \"title\": {\"x\": 0.05}, \"xaxis\": {\"automargin\": true, \"gridcolor\": \"rgb(232,232,232)\", \"linecolor\": \"rgb(36,36,36)\", \"showgrid\": false, \"showline\": true, \"ticks\": \"outside\", \"title\": {\"standoff\": 15}, \"zeroline\": false, \"zerolinecolor\": \"rgb(36,36,36)\"}, \"yaxis\": {\"automargin\": true, \"gridcolor\": \"rgb(232,232,232)\", \"linecolor\": \"rgb(36,36,36)\", \"showgrid\": false, \"showline\": true, \"ticks\": \"outside\", \"title\": {\"standoff\": 15}, \"zeroline\": false, \"zerolinecolor\": \"rgb(36,36,36)\"}}}, \"title\": {\"font\": {\"size\": 26}, \"text\": \"Total number of runs scored from boundaries in each season\"}, \"xaxis\": {\"anchor\": \"y\", \"domain\": [0.0, 1.0], \"title\": {\"text\": \"Season\"}}, \"yaxis\": {\"anchor\": \"x\", \"domain\": [0.0, 1.0], \"title\": {\"text\": \"Total runs\"}}},\n",
              "                        {\"responsive\": true}\n",
              "                    ).then(function(){\n",
              "                            \n",
              "var gd = document.getElementById('c56c16d8-543e-4978-ac93-bc11a6d8c643');\n",
              "var x = new MutationObserver(function (mutations, observer) {{\n",
              "        var display = window.getComputedStyle(gd).display;\n",
              "        if (!display || display === 'none') {{\n",
              "            console.log([gd, 'removed!']);\n",
              "            Plotly.purge(gd);\n",
              "            observer.disconnect();\n",
              "        }}\n",
              "}});\n",
              "\n",
              "// Listen for the removal of the full notebook cells\n",
              "var notebookContainer = gd.closest('#notebook-container');\n",
              "if (notebookContainer) {{\n",
              "    x.observe(notebookContainer, {childList: true});\n",
              "}}\n",
              "\n",
              "// Listen for the clearing of the current output cell\n",
              "var outputEl = gd.closest('.output');\n",
              "if (outputEl) {{\n",
              "    x.observe(outputEl, {childList: true});\n",
              "}}\n",
              "\n",
              "                        })\n",
              "                };\n",
              "                \n",
              "            </script>\n",
              "        </div>\n",
              "</body>\n",
              "</html>"
            ]
          },
          "metadata": {}
        }
      ]
    },
    {
      "cell_type": "markdown",
      "metadata": {
        "papermill": {
          "duration": 0.185126,
          "end_time": "2021-06-04T22:22:22.254862",
          "exception": false,
          "start_time": "2021-06-04T22:22:22.069736",
          "status": "completed"
        },
        "tags": [],
        "id": "mdS2QJgvi33Y"
      },
      "source": [
        "<div class=\"alert alert-block alert-info\"><p style='color:black;'> 📌\n",
        "Total run scored from boundaries is lowest in season 2009 and highest in season 2013.\n",
        "</p>\n",
        "</div>\n"
      ]
    },
    {
      "cell_type": "markdown",
      "metadata": {
        "papermill": {
          "duration": 0.194708,
          "end_time": "2021-06-04T22:22:22.640717",
          "exception": false,
          "start_time": "2021-06-04T22:22:22.446009",
          "status": "completed"
        },
        "tags": [],
        "id": "tq8hvgdzi33Y"
      },
      "source": [
        "<small><a href='#0'>Go to top</a></small>  "
      ]
    },
    {
      "cell_type": "markdown",
      "metadata": {
        "papermill": {
          "duration": 0.17807,
          "end_time": "2021-06-04T22:22:22.992254",
          "exception": false,
          "start_time": "2021-06-04T22:22:22.814184",
          "status": "completed"
        },
        "tags": [],
        "id": "RMhnRsV1i33Y"
      },
      "source": [
        "<a id=\"33\">\n",
        "<h1 style = \"font-family: Snell Roundhand;font-weight: 500;font-size: 30px; font-style: normal; background-color: #FFFB30; color :black;\">33) Total contribution of runs from boundaries in each season :</h1>\n"
      ]
    },
    {
      "cell_type": "code",
      "metadata": {
        "_kg_hide-input": true,
        "execution": {
          "iopub.execute_input": "2021-06-04T22:22:23.375950Z",
          "iopub.status.busy": "2021-06-04T22:22:23.374850Z",
          "iopub.status.idle": "2021-06-04T22:22:23.376706Z",
          "shell.execute_reply": "2021-06-04T22:22:23.377198Z"
        },
        "papermill": {
          "duration": 0.184782,
          "end_time": "2021-06-04T22:22:23.377375",
          "exception": false,
          "start_time": "2021-06-04T22:22:23.192593",
          "status": "completed"
        },
        "tags": [],
        "id": "NO9uorb2i33Y"
      },
      "source": [
        "totruns=np.array(season['total_runs'])\n",
        "res=(k/totruns)*100"
      ],
      "execution_count": 77,
      "outputs": []
    },
    {
      "cell_type": "code",
      "metadata": {
        "_kg_hide-input": true,
        "_kg_hide-output": true,
        "execution": {
          "iopub.execute_input": "2021-06-04T22:22:23.733364Z",
          "iopub.status.busy": "2021-06-04T22:22:23.732462Z",
          "iopub.status.idle": "2021-06-04T22:22:23.737520Z",
          "shell.execute_reply": "2021-06-04T22:22:23.736900Z"
        },
        "papermill": {
          "duration": 0.183444,
          "end_time": "2021-06-04T22:22:23.737682",
          "exception": false,
          "start_time": "2021-06-04T22:22:23.554238",
          "status": "completed"
        },
        "tags": [],
        "colab": {
          "base_uri": "https://localhost:8080/"
        },
        "id": "B8w8BSnki33Y",
        "outputId": "9c5d46d2-728e-468d-e97d-f970bb4ac480"
      },
      "source": [
        "res"
      ],
      "execution_count": 78,
      "outputs": [
        {
          "output_type": "execute_result",
          "data": {
            "text/plain": [
              "array([58.81697051, 50.88235294, 54.82400339, 54.35378652, 53.63203135,\n",
              "       54.3809059 , 55.6983447 , 57.71328824, 54.95705652, 56.87037136,\n",
              "       59.49449776, 58.32989691, 55.50847458])"
            ]
          },
          "metadata": {},
          "execution_count": 78
        }
      ]
    },
    {
      "cell_type": "code",
      "metadata": {
        "_kg_hide-input": true,
        "execution": {
          "iopub.execute_input": "2021-06-04T22:22:24.143488Z",
          "iopub.status.busy": "2021-06-04T22:22:24.119625Z",
          "iopub.status.idle": "2021-06-04T22:22:24.200323Z",
          "shell.execute_reply": "2021-06-04T22:22:24.199324Z"
        },
        "papermill": {
          "duration": 0.280234,
          "end_time": "2021-06-04T22:22:24.200508",
          "exception": false,
          "start_time": "2021-06-04T22:22:23.920274",
          "status": "completed"
        },
        "tags": [],
        "colab": {
          "base_uri": "https://localhost:8080/",
          "height": 542
        },
        "id": "DCWh07Zri33Z",
        "outputId": "8ccdd985-9dc8-4702-e7ea-47e84b0cb5b6"
      },
      "source": [
        "colors = ['turquoise',] * 14\n",
        "colors[10] = 'crimson'\n",
        "fig=px.bar(x=Y,y=res,labels=dict(x=\"Season\",y=\"Percentage\"),)\n",
        "fig.update_layout(title=\"Total contribution of runs from boundaries in each season\",\n",
        "                  titlefont={'size': 26},template='simple_white'     \n",
        "                  )\n",
        "fig.update_traces(marker_line_color='black',\n",
        "                  marker_line_width=2.5, opacity=1,marker_color=colors)\n",
        "fig.show()\n"
      ],
      "execution_count": 79,
      "outputs": [
        {
          "output_type": "display_data",
          "data": {
            "text/html": [
              "<html>\n",
              "<head><meta charset=\"utf-8\" /></head>\n",
              "<body>\n",
              "    <div>\n",
              "            <script src=\"https://cdnjs.cloudflare.com/ajax/libs/mathjax/2.7.5/MathJax.js?config=TeX-AMS-MML_SVG\"></script><script type=\"text/javascript\">if (window.MathJax) {MathJax.Hub.Config({SVG: {font: \"STIX-Web\"}});}</script>\n",
              "                <script type=\"text/javascript\">window.PlotlyConfig = {MathJaxConfig: 'local'};</script>\n",
              "        <script src=\"https://cdn.plot.ly/plotly-latest.min.js\"></script>    \n",
              "            <div id=\"1fb34de5-ba5e-4679-84f8-1ef9f827bad9\" class=\"plotly-graph-div\" style=\"height:525px; width:100%;\"></div>\n",
              "            <script type=\"text/javascript\">\n",
              "                \n",
              "                    window.PLOTLYENV=window.PLOTLYENV || {};\n",
              "                    \n",
              "                if (document.getElementById(\"1fb34de5-ba5e-4679-84f8-1ef9f827bad9\")) {\n",
              "                    Plotly.newPlot(\n",
              "                        '1fb34de5-ba5e-4679-84f8-1ef9f827bad9',\n",
              "                        [{\"alignmentgroup\": \"True\", \"hoverlabel\": {\"namelength\": 0}, \"hovertemplate\": \"Season=%{x}<br>Percentage=%{y}\", \"legendgroup\": \"\", \"marker\": {\"color\": [\"turquoise\", \"turquoise\", \"turquoise\", \"turquoise\", \"turquoise\", \"turquoise\", \"turquoise\", \"turquoise\", \"turquoise\", \"turquoise\", \"crimson\", \"turquoise\", \"turquoise\", \"turquoise\"], \"line\": {\"color\": \"black\", \"width\": 2.5}}, \"name\": \"\", \"offsetgroup\": \"\", \"opacity\": 1, \"orientation\": \"v\", \"showlegend\": false, \"textposition\": \"auto\", \"type\": \"bar\", \"x\": [2008, 2009, 2010, 2011, 2012, 2013, 2014, 2015, 2016, 2017, 2018, 2019, 2020], \"xaxis\": \"x\", \"y\": [58.81697050788872, 50.882352941176464, 54.82400339270568, 54.353786517916234, 53.632031354384715, 54.3809059047957, 55.698344703580304, 57.71328823914467, 54.95705651574594, 56.87037135702489, 59.49449776393146, 58.329896907216494, 55.50847457627118], \"yaxis\": \"y\"}],\n",
              "                        {\"barmode\": \"relative\", \"legend\": {\"tracegroupgap\": 0}, \"margin\": {\"t\": 60}, \"template\": {\"data\": {\"bar\": [{\"error_x\": {\"color\": \"rgb(36,36,36)\"}, \"error_y\": {\"color\": \"rgb(36,36,36)\"}, \"marker\": {\"line\": {\"color\": \"white\", \"width\": 0.5}}, \"type\": \"bar\"}], \"barpolar\": [{\"marker\": {\"line\": {\"color\": \"white\", \"width\": 0.5}}, \"type\": \"barpolar\"}], \"carpet\": [{\"aaxis\": {\"endlinecolor\": \"rgb(36,36,36)\", \"gridcolor\": \"white\", \"linecolor\": \"white\", \"minorgridcolor\": \"white\", \"startlinecolor\": \"rgb(36,36,36)\"}, \"baxis\": {\"endlinecolor\": \"rgb(36,36,36)\", \"gridcolor\": \"white\", \"linecolor\": \"white\", \"minorgridcolor\": \"white\", \"startlinecolor\": \"rgb(36,36,36)\"}, \"type\": \"carpet\"}], \"choropleth\": [{\"colorbar\": {\"outlinewidth\": 10, \"tickcolor\": \"rgb(36,36,36)\", \"ticklen\": 8, \"ticks\": \"outside\", \"tickwidth\": 2}, \"type\": \"choropleth\"}], \"contour\": [{\"colorbar\": {\"outlinewidth\": 10, \"tickcolor\": \"rgb(36,36,36)\", \"ticklen\": 8, \"ticks\": \"outside\", \"tickwidth\": 2}, \"colorscale\": [[0.0, \"#440154\"], [0.1111111111111111, \"#482878\"], [0.2222222222222222, \"#3e4989\"], [0.3333333333333333, \"#31688e\"], [0.4444444444444444, \"#26828e\"], [0.5555555555555556, \"#1f9e89\"], [0.6666666666666666, \"#35b779\"], [0.7777777777777778, \"#6ece58\"], [0.8888888888888888, \"#b5de2b\"], [1.0, \"#fde725\"]], \"type\": \"contour\"}], \"contourcarpet\": [{\"colorbar\": {\"outlinewidth\": 10, \"tickcolor\": \"rgb(36,36,36)\", \"ticklen\": 8, \"ticks\": \"outside\", \"tickwidth\": 2}, \"type\": \"contourcarpet\"}], \"heatmap\": [{\"colorbar\": {\"outlinewidth\": 10, \"tickcolor\": \"rgb(36,36,36)\", \"ticklen\": 8, \"ticks\": \"outside\", \"tickwidth\": 2}, \"colorscale\": [[0.0, \"#440154\"], [0.1111111111111111, \"#482878\"], [0.2222222222222222, \"#3e4989\"], [0.3333333333333333, \"#31688e\"], [0.4444444444444444, \"#26828e\"], [0.5555555555555556, \"#1f9e89\"], [0.6666666666666666, \"#35b779\"], [0.7777777777777778, \"#6ece58\"], [0.8888888888888888, \"#b5de2b\"], [1.0, \"#fde725\"]], \"type\": \"heatmap\"}], \"heatmapgl\": [{\"colorbar\": {\"outlinewidth\": 10, \"tickcolor\": \"rgb(36,36,36)\", \"ticklen\": 8, \"ticks\": \"outside\", \"tickwidth\": 2}, \"colorscale\": [[0.0, \"#440154\"], [0.1111111111111111, \"#482878\"], [0.2222222222222222, \"#3e4989\"], [0.3333333333333333, \"#31688e\"], [0.4444444444444444, \"#26828e\"], [0.5555555555555556, \"#1f9e89\"], [0.6666666666666666, \"#35b779\"], [0.7777777777777778, \"#6ece58\"], [0.8888888888888888, \"#b5de2b\"], [1.0, \"#fde725\"]], \"type\": \"heatmapgl\"}], \"histogram\": [{\"marker\": {\"line\": {\"color\": \"white\", \"width\": 0.6}}, \"type\": \"histogram\"}], \"histogram2d\": [{\"colorbar\": {\"outlinewidth\": 10, \"tickcolor\": \"rgb(36,36,36)\", \"ticklen\": 8, \"ticks\": \"outside\", \"tickwidth\": 2}, \"colorscale\": [[0.0, \"#440154\"], [0.1111111111111111, \"#482878\"], [0.2222222222222222, \"#3e4989\"], [0.3333333333333333, \"#31688e\"], [0.4444444444444444, \"#26828e\"], [0.5555555555555556, \"#1f9e89\"], [0.6666666666666666, \"#35b779\"], [0.7777777777777778, \"#6ece58\"], [0.8888888888888888, \"#b5de2b\"], [1.0, \"#fde725\"]], \"type\": \"histogram2d\"}], \"histogram2dcontour\": [{\"colorbar\": {\"outlinewidth\": 10, \"tickcolor\": \"rgb(36,36,36)\", \"ticklen\": 8, \"ticks\": \"outside\", \"tickwidth\": 2}, \"colorscale\": [[0.0, \"#440154\"], [0.1111111111111111, \"#482878\"], [0.2222222222222222, \"#3e4989\"], [0.3333333333333333, \"#31688e\"], [0.4444444444444444, \"#26828e\"], [0.5555555555555556, \"#1f9e89\"], [0.6666666666666666, \"#35b779\"], [0.7777777777777778, \"#6ece58\"], [0.8888888888888888, \"#b5de2b\"], [1.0, \"#fde725\"]], \"type\": \"histogram2dcontour\"}], \"mesh3d\": [{\"colorbar\": {\"outlinewidth\": 10, \"tickcolor\": \"rgb(36,36,36)\", \"ticklen\": 8, \"ticks\": \"outside\", \"tickwidth\": 2}, \"type\": \"mesh3d\"}], \"parcoords\": [{\"line\": {\"colorbar\": {\"outlinewidth\": 10, \"tickcolor\": \"rgb(36,36,36)\", \"ticklen\": 8, \"ticks\": \"outside\", \"tickwidth\": 2}}, \"type\": \"parcoords\"}], \"pie\": [{\"automargin\": true, \"type\": \"pie\"}], \"scatter\": [{\"marker\": {\"colorbar\": {\"outlinewidth\": 10, \"tickcolor\": \"rgb(36,36,36)\", \"ticklen\": 8, \"ticks\": \"outside\", \"tickwidth\": 2}}, \"type\": \"scatter\"}], \"scatter3d\": [{\"line\": {\"colorbar\": {\"outlinewidth\": 10, \"tickcolor\": \"rgb(36,36,36)\", \"ticklen\": 8, \"ticks\": \"outside\", \"tickwidth\": 2}}, \"marker\": {\"colorbar\": {\"outlinewidth\": 10, \"tickcolor\": \"rgb(36,36,36)\", \"ticklen\": 8, \"ticks\": \"outside\", \"tickwidth\": 2}}, \"type\": \"scatter3d\"}], \"scattercarpet\": [{\"marker\": {\"colorbar\": {\"outlinewidth\": 10, \"tickcolor\": \"rgb(36,36,36)\", \"ticklen\": 8, \"ticks\": \"outside\", \"tickwidth\": 2}}, \"type\": \"scattercarpet\"}], \"scattergeo\": [{\"marker\": {\"colorbar\": {\"outlinewidth\": 10, \"tickcolor\": \"rgb(36,36,36)\", \"ticklen\": 8, \"ticks\": \"outside\", \"tickwidth\": 2}}, \"type\": \"scattergeo\"}], \"scattergl\": [{\"marker\": {\"colorbar\": {\"outlinewidth\": 10, \"tickcolor\": \"rgb(36,36,36)\", \"ticklen\": 8, \"ticks\": \"outside\", \"tickwidth\": 2}}, \"type\": \"scattergl\"}], \"scattermapbox\": [{\"marker\": {\"colorbar\": {\"outlinewidth\": 10, \"tickcolor\": \"rgb(36,36,36)\", \"ticklen\": 8, \"ticks\": \"outside\", \"tickwidth\": 2}}, \"type\": \"scattermapbox\"}], \"scatterpolar\": [{\"marker\": {\"colorbar\": {\"outlinewidth\": 10, \"tickcolor\": \"rgb(36,36,36)\", \"ticklen\": 8, \"ticks\": \"outside\", \"tickwidth\": 2}}, \"type\": \"scatterpolar\"}], \"scatterpolargl\": [{\"marker\": {\"colorbar\": {\"outlinewidth\": 10, \"tickcolor\": \"rgb(36,36,36)\", \"ticklen\": 8, \"ticks\": \"outside\", \"tickwidth\": 2}}, \"type\": \"scatterpolargl\"}], \"scatterternary\": [{\"marker\": {\"colorbar\": {\"outlinewidth\": 10, \"tickcolor\": \"rgb(36,36,36)\", \"ticklen\": 8, \"ticks\": \"outside\", \"tickwidth\": 2}}, \"type\": \"scatterternary\"}], \"surface\": [{\"colorbar\": {\"outlinewidth\": 10, \"tickcolor\": \"rgb(36,36,36)\", \"ticklen\": 8, \"ticks\": \"outside\", \"tickwidth\": 2}, \"colorscale\": [[0.0, \"#440154\"], [0.1111111111111111, \"#482878\"], [0.2222222222222222, \"#3e4989\"], [0.3333333333333333, \"#31688e\"], [0.4444444444444444, \"#26828e\"], [0.5555555555555556, \"#1f9e89\"], [0.6666666666666666, \"#35b779\"], [0.7777777777777778, \"#6ece58\"], [0.8888888888888888, \"#b5de2b\"], [1.0, \"#fde725\"]], \"type\": \"surface\"}], \"table\": [{\"cells\": {\"fill\": {\"color\": \"rgb(237,237,237)\"}, \"line\": {\"color\": \"white\"}}, \"header\": {\"fill\": {\"color\": \"rgb(217,217,217)\"}, \"line\": {\"color\": \"white\"}}, \"type\": \"table\"}]}, \"layout\": {\"annotationdefaults\": {\"arrowhead\": 0, \"arrowwidth\": 1}, \"coloraxis\": {\"colorbar\": {\"outlinewidth\": 10, \"tickcolor\": \"rgb(36,36,36)\", \"ticklen\": 8, \"ticks\": \"outside\", \"tickwidth\": 2}}, \"colorscale\": {\"diverging\": [[0.0, \"rgb(103,0,31)\"], [0.1, \"rgb(178,24,43)\"], [0.2, \"rgb(214,96,77)\"], [0.3, \"rgb(244,165,130)\"], [0.4, \"rgb(253,219,199)\"], [0.5, \"rgb(247,247,247)\"], [0.6, \"rgb(209,229,240)\"], [0.7, \"rgb(146,197,222)\"], [0.8, \"rgb(67,147,195)\"], [0.9, \"rgb(33,102,172)\"], [1.0, \"rgb(5,48,97)\"]], \"sequential\": [[0.0, \"#440154\"], [0.1111111111111111, \"#482878\"], [0.2222222222222222, \"#3e4989\"], [0.3333333333333333, \"#31688e\"], [0.4444444444444444, \"#26828e\"], [0.5555555555555556, \"#1f9e89\"], [0.6666666666666666, \"#35b779\"], [0.7777777777777778, \"#6ece58\"], [0.8888888888888888, \"#b5de2b\"], [1.0, \"#fde725\"]], \"sequentialminus\": [[0.0, \"#440154\"], [0.1111111111111111, \"#482878\"], [0.2222222222222222, \"#3e4989\"], [0.3333333333333333, \"#31688e\"], [0.4444444444444444, \"#26828e\"], [0.5555555555555556, \"#1f9e89\"], [0.6666666666666666, \"#35b779\"], [0.7777777777777778, \"#6ece58\"], [0.8888888888888888, \"#b5de2b\"], [1.0, \"#fde725\"]]}, \"colorway\": [\"#1F77B4\", \"#FF7F0E\", \"#2CA02C\", \"#D62728\", \"#9467BD\", \"#8C564B\", \"#E377C2\", \"#7F7F7F\", \"#BCBD22\", \"#17BECF\"], \"font\": {\"color\": \"rgb(36,36,36)\"}, \"geo\": {\"bgcolor\": \"white\", \"lakecolor\": \"white\", \"landcolor\": \"white\", \"showlakes\": true, \"showland\": true, \"subunitcolor\": \"white\"}, \"hoverlabel\": {\"align\": \"left\"}, \"hovermode\": \"closest\", \"mapbox\": {\"style\": \"light\"}, \"paper_bgcolor\": \"white\", \"plot_bgcolor\": \"white\", \"polar\": {\"angularaxis\": {\"gridcolor\": \"rgb(232,232,232)\", \"linecolor\": \"rgb(36,36,36)\", \"showgrid\": false, \"showline\": true, \"ticks\": \"outside\"}, \"bgcolor\": \"white\", \"radialaxis\": {\"gridcolor\": \"rgb(232,232,232)\", \"linecolor\": \"rgb(36,36,36)\", \"showgrid\": false, \"showline\": true, \"ticks\": \"outside\"}}, \"scene\": {\"xaxis\": {\"backgroundcolor\": \"white\", \"gridcolor\": \"rgb(232,232,232)\", \"gridwidth\": 2, \"linecolor\": \"rgb(36,36,36)\", \"showbackground\": true, \"showgrid\": false, \"showline\": true, \"ticks\": \"outside\", \"zeroline\": false, \"zerolinecolor\": \"rgb(36,36,36)\"}, \"yaxis\": {\"backgroundcolor\": \"white\", \"gridcolor\": \"rgb(232,232,232)\", \"gridwidth\": 2, \"linecolor\": \"rgb(36,36,36)\", \"showbackground\": true, \"showgrid\": false, \"showline\": true, \"ticks\": \"outside\", \"zeroline\": false, \"zerolinecolor\": \"rgb(36,36,36)\"}, \"zaxis\": {\"backgroundcolor\": \"white\", \"gridcolor\": \"rgb(232,232,232)\", \"gridwidth\": 2, \"linecolor\": \"rgb(36,36,36)\", \"showbackground\": true, \"showgrid\": false, \"showline\": true, \"ticks\": \"outside\", \"zeroline\": false, \"zerolinecolor\": \"rgb(36,36,36)\"}}, \"shapedefaults\": {\"fillcolor\": \"black\", \"line\": {\"width\": 0}, \"opacity\": 0.3}, \"ternary\": {\"aaxis\": {\"gridcolor\": \"rgb(232,232,232)\", \"linecolor\": \"rgb(36,36,36)\", \"showgrid\": false, \"showline\": true, \"ticks\": \"outside\"}, \"baxis\": {\"gridcolor\": \"rgb(232,232,232)\", \"linecolor\": \"rgb(36,36,36)\", \"showgrid\": false, \"showline\": true, \"ticks\": \"outside\"}, \"bgcolor\": \"white\", \"caxis\": {\"gridcolor\": \"rgb(232,232,232)\", \"linecolor\": \"rgb(36,36,36)\", \"showgrid\": false, \"showline\": true, \"ticks\": \"outside\"}}, \"title\": {\"x\": 0.05}, \"xaxis\": {\"automargin\": true, \"gridcolor\": \"rgb(232,232,232)\", \"linecolor\": \"rgb(36,36,36)\", \"showgrid\": false, \"showline\": true, \"ticks\": \"outside\", \"title\": {\"standoff\": 15}, \"zeroline\": false, \"zerolinecolor\": \"rgb(36,36,36)\"}, \"yaxis\": {\"automargin\": true, \"gridcolor\": \"rgb(232,232,232)\", \"linecolor\": \"rgb(36,36,36)\", \"showgrid\": false, \"showline\": true, \"ticks\": \"outside\", \"title\": {\"standoff\": 15}, \"zeroline\": false, \"zerolinecolor\": \"rgb(36,36,36)\"}}}, \"title\": {\"font\": {\"size\": 26}, \"text\": \"Total contribution of runs from boundaries in each season\"}, \"xaxis\": {\"anchor\": \"y\", \"domain\": [0.0, 1.0], \"title\": {\"text\": \"Season\"}}, \"yaxis\": {\"anchor\": \"x\", \"domain\": [0.0, 1.0], \"title\": {\"text\": \"Percentage\"}}},\n",
              "                        {\"responsive\": true}\n",
              "                    ).then(function(){\n",
              "                            \n",
              "var gd = document.getElementById('1fb34de5-ba5e-4679-84f8-1ef9f827bad9');\n",
              "var x = new MutationObserver(function (mutations, observer) {{\n",
              "        var display = window.getComputedStyle(gd).display;\n",
              "        if (!display || display === 'none') {{\n",
              "            console.log([gd, 'removed!']);\n",
              "            Plotly.purge(gd);\n",
              "            observer.disconnect();\n",
              "        }}\n",
              "}});\n",
              "\n",
              "// Listen for the removal of the full notebook cells\n",
              "var notebookContainer = gd.closest('#notebook-container');\n",
              "if (notebookContainer) {{\n",
              "    x.observe(notebookContainer, {childList: true});\n",
              "}}\n",
              "\n",
              "// Listen for the clearing of the current output cell\n",
              "var outputEl = gd.closest('.output');\n",
              "if (outputEl) {{\n",
              "    x.observe(outputEl, {childList: true});\n",
              "}}\n",
              "\n",
              "                        })\n",
              "                };\n",
              "                \n",
              "            </script>\n",
              "        </div>\n",
              "</body>\n",
              "</html>"
            ]
          },
          "metadata": {}
        }
      ]
    },
    {
      "cell_type": "markdown",
      "metadata": {
        "papermill": {
          "duration": 0.177443,
          "end_time": "2021-06-04T22:22:24.557976",
          "exception": false,
          "start_time": "2021-06-04T22:22:24.380533",
          "status": "completed"
        },
        "tags": [],
        "id": "dgUIGbeDi33Z"
      },
      "source": [
        "<div class=\"alert alert-block alert-info\"><p style='color:black;'> 📌\n",
        "In season 2018, 59.49 % runs of the total runs came from boundaries while 50.88 % runs came from boundaries in season 2009 which is lowest till now.\n",
        "</p>\n",
        "</div>\n"
      ]
    },
    {
      "cell_type": "markdown",
      "metadata": {
        "papermill": {
          "duration": 0.182259,
          "end_time": "2021-06-04T22:22:24.916428",
          "exception": false,
          "start_time": "2021-06-04T22:22:24.734169",
          "status": "completed"
        },
        "tags": [],
        "id": "1o1XgU2ii33Z"
      },
      "source": [
        "<small><a href='#0'>Go to top</a></small>  "
      ]
    },
    {
      "cell_type": "markdown",
      "metadata": {
        "papermill": {
          "duration": 0.181257,
          "end_time": "2021-06-04T22:22:25.283553",
          "exception": false,
          "start_time": "2021-06-04T22:22:25.102296",
          "status": "completed"
        },
        "tags": [],
        "id": "2xpM4cV-i33Z"
      },
      "source": [
        "<a id=\"34\">\n",
        "<h1 style = \"font-family: Snell Roundhand;font-weight: 500;font-size: 30px; font-style: normal; background-color: #FFFB30; color :black;\">34) Total runs scored by teams in first 6 overs :</h1>\n",
        "\n"
      ]
    },
    {
      "cell_type": "code",
      "metadata": {
        "_kg_hide-input": true,
        "execution": {
          "iopub.execute_input": "2021-06-04T22:22:25.653265Z",
          "iopub.status.busy": "2021-06-04T22:22:25.652518Z",
          "iopub.status.idle": "2021-06-04T22:22:26.185275Z",
          "shell.execute_reply": "2021-06-04T22:22:26.185793Z"
        },
        "papermill": {
          "duration": 0.725927,
          "end_time": "2021-06-04T22:22:26.185994",
          "exception": false,
          "start_time": "2021-06-04T22:22:25.460067",
          "status": "completed"
        },
        "tags": [],
        "colab": {
          "base_uri": "https://localhost:8080/",
          "height": 542
        },
        "id": "HmvOAMXki33Z",
        "outputId": "225907c5-7075-4ead-8624-693c9b3b9a00"
      },
      "source": [
        "team = deliveries_data['batting_team'].unique()\n",
        "team_runs = []\n",
        "for var in team:\n",
        "    temp_df = deliveries_data[deliveries_data['batting_team']==var]\n",
        "    temp_df = temp_df[temp_df['over'].isin([0,1,2,3,4,5])]\n",
        "    runs = temp_df['total_runs'].sum()\n",
        "    team_runs.append(runs)\n",
        "team = pd.DataFrame(data=team_runs, index=team,columns=['Runs In First 6 Overs'])\n",
        "#team.sort_values('Runs In First 6 Overs', ascending=False, inplace=True)\n",
        "team.index.name = 'Team'\n",
        "\n",
        "colors = ['turquoise',] * 15\n",
        "colors[6] = 'crimson'\n",
        "fig=px.bar(x=team.index,y=team['Runs In First 6 Overs'],labels=dict(x=\"Team Name\",y=\"Total runs\"),)\n",
        "fig.update_layout(title=\"Total runs scored by teams in thier first 6 overs\",\n",
        "                  titlefont={'size': 26},template='simple_white'     \n",
        "                  )\n",
        "fig.update_traces(marker_line_color='black',\n",
        "                  marker_line_width=2.5, opacity=1,marker_color=colors)\n",
        "fig.show()\n"
      ],
      "execution_count": 80,
      "outputs": [
        {
          "output_type": "display_data",
          "data": {
            "text/html": [
              "<html>\n",
              "<head><meta charset=\"utf-8\" /></head>\n",
              "<body>\n",
              "    <div>\n",
              "            <script src=\"https://cdnjs.cloudflare.com/ajax/libs/mathjax/2.7.5/MathJax.js?config=TeX-AMS-MML_SVG\"></script><script type=\"text/javascript\">if (window.MathJax) {MathJax.Hub.Config({SVG: {font: \"STIX-Web\"}});}</script>\n",
              "                <script type=\"text/javascript\">window.PlotlyConfig = {MathJaxConfig: 'local'};</script>\n",
              "        <script src=\"https://cdn.plot.ly/plotly-latest.min.js\"></script>    \n",
              "            <div id=\"d93791ed-84c4-4388-a0f2-e1d10a7609f9\" class=\"plotly-graph-div\" style=\"height:525px; width:100%;\"></div>\n",
              "            <script type=\"text/javascript\">\n",
              "                \n",
              "                    window.PLOTLYENV=window.PLOTLYENV || {};\n",
              "                    \n",
              "                if (document.getElementById(\"d93791ed-84c4-4388-a0f2-e1d10a7609f9\")) {\n",
              "                    Plotly.newPlot(\n",
              "                        'd93791ed-84c4-4388-a0f2-e1d10a7609f9',\n",
              "                        [{\"alignmentgroup\": \"True\", \"hoverlabel\": {\"namelength\": 0}, \"hovertemplate\": \"Team Name=%{x}<br>Total runs=%{y}\", \"legendgroup\": \"\", \"marker\": {\"color\": [\"turquoise\", \"turquoise\", \"turquoise\", \"turquoise\", \"turquoise\", \"turquoise\", \"crimson\", \"turquoise\", \"turquoise\", \"turquoise\", \"turquoise\", \"turquoise\", \"turquoise\", \"turquoise\", \"turquoise\"], \"line\": {\"color\": \"black\", \"width\": 2.5}}, \"name\": \"\", \"offsetgroup\": \"\", \"opacity\": 1, \"orientation\": \"v\", \"showlegend\": false, \"textposition\": \"auto\", \"type\": \"bar\", \"x\": [\"Kolkata Knight Riders\", \"Royal Challengers Bangalore\", \"Kings XI Punjab\", \"Chennai Super Kings\", \"Rajasthan Royals\", \"Delhi Daredevils\", \"Mumbai Indians\", \"Deccan Chargers\", \"Kochi Tuskers Kerala\", \"Pune Warriors\", \"Sunrisers Hyderabad\", \"Rising Pune Supergiants\", \"Gujarat Lions\", \"Rising Pune Supergiant\", \"Delhi Capitals\"], \"xaxis\": \"x\", \"y\": [8871, 8699, 8907, 8048, 7151, 7349, 9204, 3417, 680, 1895, 5917, 638, 1553, 785, 1560], \"yaxis\": \"y\"}],\n",
              "                        {\"barmode\": \"relative\", \"legend\": {\"tracegroupgap\": 0}, \"margin\": {\"t\": 60}, \"template\": {\"data\": {\"bar\": [{\"error_x\": {\"color\": \"rgb(36,36,36)\"}, \"error_y\": {\"color\": \"rgb(36,36,36)\"}, \"marker\": {\"line\": {\"color\": \"white\", \"width\": 0.5}}, \"type\": \"bar\"}], \"barpolar\": [{\"marker\": {\"line\": {\"color\": \"white\", \"width\": 0.5}}, \"type\": \"barpolar\"}], \"carpet\": [{\"aaxis\": {\"endlinecolor\": \"rgb(36,36,36)\", \"gridcolor\": \"white\", \"linecolor\": \"white\", \"minorgridcolor\": \"white\", \"startlinecolor\": \"rgb(36,36,36)\"}, \"baxis\": {\"endlinecolor\": \"rgb(36,36,36)\", \"gridcolor\": \"white\", \"linecolor\": \"white\", \"minorgridcolor\": \"white\", \"startlinecolor\": \"rgb(36,36,36)\"}, \"type\": \"carpet\"}], \"choropleth\": [{\"colorbar\": {\"outlinewidth\": 10, \"tickcolor\": \"rgb(36,36,36)\", \"ticklen\": 8, \"ticks\": \"outside\", \"tickwidth\": 2}, \"type\": \"choropleth\"}], \"contour\": [{\"colorbar\": {\"outlinewidth\": 10, \"tickcolor\": \"rgb(36,36,36)\", \"ticklen\": 8, \"ticks\": \"outside\", \"tickwidth\": 2}, \"colorscale\": [[0.0, \"#440154\"], [0.1111111111111111, \"#482878\"], [0.2222222222222222, \"#3e4989\"], [0.3333333333333333, \"#31688e\"], [0.4444444444444444, \"#26828e\"], [0.5555555555555556, \"#1f9e89\"], [0.6666666666666666, \"#35b779\"], [0.7777777777777778, \"#6ece58\"], [0.8888888888888888, \"#b5de2b\"], [1.0, \"#fde725\"]], \"type\": \"contour\"}], \"contourcarpet\": [{\"colorbar\": {\"outlinewidth\": 10, \"tickcolor\": \"rgb(36,36,36)\", \"ticklen\": 8, \"ticks\": \"outside\", \"tickwidth\": 2}, \"type\": \"contourcarpet\"}], \"heatmap\": [{\"colorbar\": {\"outlinewidth\": 10, \"tickcolor\": \"rgb(36,36,36)\", \"ticklen\": 8, \"ticks\": \"outside\", \"tickwidth\": 2}, \"colorscale\": [[0.0, \"#440154\"], [0.1111111111111111, \"#482878\"], [0.2222222222222222, \"#3e4989\"], [0.3333333333333333, \"#31688e\"], [0.4444444444444444, \"#26828e\"], [0.5555555555555556, \"#1f9e89\"], [0.6666666666666666, \"#35b779\"], [0.7777777777777778, \"#6ece58\"], [0.8888888888888888, \"#b5de2b\"], [1.0, \"#fde725\"]], \"type\": \"heatmap\"}], \"heatmapgl\": [{\"colorbar\": {\"outlinewidth\": 10, \"tickcolor\": \"rgb(36,36,36)\", \"ticklen\": 8, \"ticks\": \"outside\", \"tickwidth\": 2}, \"colorscale\": [[0.0, \"#440154\"], [0.1111111111111111, \"#482878\"], [0.2222222222222222, \"#3e4989\"], [0.3333333333333333, \"#31688e\"], [0.4444444444444444, \"#26828e\"], [0.5555555555555556, \"#1f9e89\"], [0.6666666666666666, \"#35b779\"], [0.7777777777777778, \"#6ece58\"], [0.8888888888888888, \"#b5de2b\"], [1.0, \"#fde725\"]], \"type\": \"heatmapgl\"}], \"histogram\": [{\"marker\": {\"line\": {\"color\": \"white\", \"width\": 0.6}}, \"type\": \"histogram\"}], \"histogram2d\": [{\"colorbar\": {\"outlinewidth\": 10, \"tickcolor\": \"rgb(36,36,36)\", \"ticklen\": 8, \"ticks\": \"outside\", \"tickwidth\": 2}, \"colorscale\": [[0.0, \"#440154\"], [0.1111111111111111, \"#482878\"], [0.2222222222222222, \"#3e4989\"], [0.3333333333333333, \"#31688e\"], [0.4444444444444444, \"#26828e\"], [0.5555555555555556, \"#1f9e89\"], [0.6666666666666666, \"#35b779\"], [0.7777777777777778, \"#6ece58\"], [0.8888888888888888, \"#b5de2b\"], [1.0, \"#fde725\"]], \"type\": \"histogram2d\"}], \"histogram2dcontour\": [{\"colorbar\": {\"outlinewidth\": 10, \"tickcolor\": \"rgb(36,36,36)\", \"ticklen\": 8, \"ticks\": \"outside\", \"tickwidth\": 2}, \"colorscale\": [[0.0, \"#440154\"], [0.1111111111111111, \"#482878\"], [0.2222222222222222, \"#3e4989\"], [0.3333333333333333, \"#31688e\"], [0.4444444444444444, \"#26828e\"], [0.5555555555555556, \"#1f9e89\"], [0.6666666666666666, \"#35b779\"], [0.7777777777777778, \"#6ece58\"], [0.8888888888888888, \"#b5de2b\"], [1.0, \"#fde725\"]], \"type\": \"histogram2dcontour\"}], \"mesh3d\": [{\"colorbar\": {\"outlinewidth\": 10, \"tickcolor\": \"rgb(36,36,36)\", \"ticklen\": 8, \"ticks\": \"outside\", \"tickwidth\": 2}, \"type\": \"mesh3d\"}], \"parcoords\": [{\"line\": {\"colorbar\": {\"outlinewidth\": 10, \"tickcolor\": \"rgb(36,36,36)\", \"ticklen\": 8, \"ticks\": \"outside\", \"tickwidth\": 2}}, \"type\": \"parcoords\"}], \"pie\": [{\"automargin\": true, \"type\": \"pie\"}], \"scatter\": [{\"marker\": {\"colorbar\": {\"outlinewidth\": 10, \"tickcolor\": \"rgb(36,36,36)\", \"ticklen\": 8, \"ticks\": \"outside\", \"tickwidth\": 2}}, \"type\": \"scatter\"}], \"scatter3d\": [{\"line\": {\"colorbar\": {\"outlinewidth\": 10, \"tickcolor\": \"rgb(36,36,36)\", \"ticklen\": 8, \"ticks\": \"outside\", \"tickwidth\": 2}}, \"marker\": {\"colorbar\": {\"outlinewidth\": 10, \"tickcolor\": \"rgb(36,36,36)\", \"ticklen\": 8, \"ticks\": \"outside\", \"tickwidth\": 2}}, \"type\": \"scatter3d\"}], \"scattercarpet\": [{\"marker\": {\"colorbar\": {\"outlinewidth\": 10, \"tickcolor\": \"rgb(36,36,36)\", \"ticklen\": 8, \"ticks\": \"outside\", \"tickwidth\": 2}}, \"type\": \"scattercarpet\"}], \"scattergeo\": [{\"marker\": {\"colorbar\": {\"outlinewidth\": 10, \"tickcolor\": \"rgb(36,36,36)\", \"ticklen\": 8, \"ticks\": \"outside\", \"tickwidth\": 2}}, \"type\": \"scattergeo\"}], \"scattergl\": [{\"marker\": {\"colorbar\": {\"outlinewidth\": 10, \"tickcolor\": \"rgb(36,36,36)\", \"ticklen\": 8, \"ticks\": \"outside\", \"tickwidth\": 2}}, \"type\": \"scattergl\"}], \"scattermapbox\": [{\"marker\": {\"colorbar\": {\"outlinewidth\": 10, \"tickcolor\": \"rgb(36,36,36)\", \"ticklen\": 8, \"ticks\": \"outside\", \"tickwidth\": 2}}, \"type\": \"scattermapbox\"}], \"scatterpolar\": [{\"marker\": {\"colorbar\": {\"outlinewidth\": 10, \"tickcolor\": \"rgb(36,36,36)\", \"ticklen\": 8, \"ticks\": \"outside\", \"tickwidth\": 2}}, \"type\": \"scatterpolar\"}], \"scatterpolargl\": [{\"marker\": {\"colorbar\": {\"outlinewidth\": 10, \"tickcolor\": \"rgb(36,36,36)\", \"ticklen\": 8, \"ticks\": \"outside\", \"tickwidth\": 2}}, \"type\": \"scatterpolargl\"}], \"scatterternary\": [{\"marker\": {\"colorbar\": {\"outlinewidth\": 10, \"tickcolor\": \"rgb(36,36,36)\", \"ticklen\": 8, \"ticks\": \"outside\", \"tickwidth\": 2}}, \"type\": \"scatterternary\"}], \"surface\": [{\"colorbar\": {\"outlinewidth\": 10, \"tickcolor\": \"rgb(36,36,36)\", \"ticklen\": 8, \"ticks\": \"outside\", \"tickwidth\": 2}, \"colorscale\": [[0.0, \"#440154\"], [0.1111111111111111, \"#482878\"], [0.2222222222222222, \"#3e4989\"], [0.3333333333333333, \"#31688e\"], [0.4444444444444444, \"#26828e\"], [0.5555555555555556, \"#1f9e89\"], [0.6666666666666666, \"#35b779\"], [0.7777777777777778, \"#6ece58\"], [0.8888888888888888, \"#b5de2b\"], [1.0, \"#fde725\"]], \"type\": \"surface\"}], \"table\": [{\"cells\": {\"fill\": {\"color\": \"rgb(237,237,237)\"}, \"line\": {\"color\": \"white\"}}, \"header\": {\"fill\": {\"color\": \"rgb(217,217,217)\"}, \"line\": {\"color\": \"white\"}}, \"type\": \"table\"}]}, \"layout\": {\"annotationdefaults\": {\"arrowhead\": 0, \"arrowwidth\": 1}, \"coloraxis\": {\"colorbar\": {\"outlinewidth\": 10, \"tickcolor\": \"rgb(36,36,36)\", \"ticklen\": 8, \"ticks\": \"outside\", \"tickwidth\": 2}}, \"colorscale\": {\"diverging\": [[0.0, \"rgb(103,0,31)\"], [0.1, \"rgb(178,24,43)\"], [0.2, \"rgb(214,96,77)\"], [0.3, \"rgb(244,165,130)\"], [0.4, \"rgb(253,219,199)\"], [0.5, \"rgb(247,247,247)\"], [0.6, \"rgb(209,229,240)\"], [0.7, \"rgb(146,197,222)\"], [0.8, \"rgb(67,147,195)\"], [0.9, \"rgb(33,102,172)\"], [1.0, \"rgb(5,48,97)\"]], \"sequential\": [[0.0, \"#440154\"], [0.1111111111111111, \"#482878\"], [0.2222222222222222, \"#3e4989\"], [0.3333333333333333, \"#31688e\"], [0.4444444444444444, \"#26828e\"], [0.5555555555555556, \"#1f9e89\"], [0.6666666666666666, \"#35b779\"], [0.7777777777777778, \"#6ece58\"], [0.8888888888888888, \"#b5de2b\"], [1.0, \"#fde725\"]], \"sequentialminus\": [[0.0, \"#440154\"], [0.1111111111111111, \"#482878\"], [0.2222222222222222, \"#3e4989\"], [0.3333333333333333, \"#31688e\"], [0.4444444444444444, \"#26828e\"], [0.5555555555555556, \"#1f9e89\"], [0.6666666666666666, \"#35b779\"], [0.7777777777777778, \"#6ece58\"], [0.8888888888888888, \"#b5de2b\"], [1.0, \"#fde725\"]]}, \"colorway\": [\"#1F77B4\", \"#FF7F0E\", \"#2CA02C\", \"#D62728\", \"#9467BD\", \"#8C564B\", \"#E377C2\", \"#7F7F7F\", \"#BCBD22\", \"#17BECF\"], \"font\": {\"color\": \"rgb(36,36,36)\"}, \"geo\": {\"bgcolor\": \"white\", \"lakecolor\": \"white\", \"landcolor\": \"white\", \"showlakes\": true, \"showland\": true, \"subunitcolor\": \"white\"}, \"hoverlabel\": {\"align\": \"left\"}, \"hovermode\": \"closest\", \"mapbox\": {\"style\": \"light\"}, \"paper_bgcolor\": \"white\", \"plot_bgcolor\": \"white\", \"polar\": {\"angularaxis\": {\"gridcolor\": \"rgb(232,232,232)\", \"linecolor\": \"rgb(36,36,36)\", \"showgrid\": false, \"showline\": true, \"ticks\": \"outside\"}, \"bgcolor\": \"white\", \"radialaxis\": {\"gridcolor\": \"rgb(232,232,232)\", \"linecolor\": \"rgb(36,36,36)\", \"showgrid\": false, \"showline\": true, \"ticks\": \"outside\"}}, \"scene\": {\"xaxis\": {\"backgroundcolor\": \"white\", \"gridcolor\": \"rgb(232,232,232)\", \"gridwidth\": 2, \"linecolor\": \"rgb(36,36,36)\", \"showbackground\": true, \"showgrid\": false, \"showline\": true, \"ticks\": \"outside\", \"zeroline\": false, \"zerolinecolor\": \"rgb(36,36,36)\"}, \"yaxis\": {\"backgroundcolor\": \"white\", \"gridcolor\": \"rgb(232,232,232)\", \"gridwidth\": 2, \"linecolor\": \"rgb(36,36,36)\", \"showbackground\": true, \"showgrid\": false, \"showline\": true, \"ticks\": \"outside\", \"zeroline\": false, \"zerolinecolor\": \"rgb(36,36,36)\"}, \"zaxis\": {\"backgroundcolor\": \"white\", \"gridcolor\": \"rgb(232,232,232)\", \"gridwidth\": 2, \"linecolor\": \"rgb(36,36,36)\", \"showbackground\": true, \"showgrid\": false, \"showline\": true, \"ticks\": \"outside\", \"zeroline\": false, \"zerolinecolor\": \"rgb(36,36,36)\"}}, \"shapedefaults\": {\"fillcolor\": \"black\", \"line\": {\"width\": 0}, \"opacity\": 0.3}, \"ternary\": {\"aaxis\": {\"gridcolor\": \"rgb(232,232,232)\", \"linecolor\": \"rgb(36,36,36)\", \"showgrid\": false, \"showline\": true, \"ticks\": \"outside\"}, \"baxis\": {\"gridcolor\": \"rgb(232,232,232)\", \"linecolor\": \"rgb(36,36,36)\", \"showgrid\": false, \"showline\": true, \"ticks\": \"outside\"}, \"bgcolor\": \"white\", \"caxis\": {\"gridcolor\": \"rgb(232,232,232)\", \"linecolor\": \"rgb(36,36,36)\", \"showgrid\": false, \"showline\": true, \"ticks\": \"outside\"}}, \"title\": {\"x\": 0.05}, \"xaxis\": {\"automargin\": true, \"gridcolor\": \"rgb(232,232,232)\", \"linecolor\": \"rgb(36,36,36)\", \"showgrid\": false, \"showline\": true, \"ticks\": \"outside\", \"title\": {\"standoff\": 15}, \"zeroline\": false, \"zerolinecolor\": \"rgb(36,36,36)\"}, \"yaxis\": {\"automargin\": true, \"gridcolor\": \"rgb(232,232,232)\", \"linecolor\": \"rgb(36,36,36)\", \"showgrid\": false, \"showline\": true, \"ticks\": \"outside\", \"title\": {\"standoff\": 15}, \"zeroline\": false, \"zerolinecolor\": \"rgb(36,36,36)\"}}}, \"title\": {\"font\": {\"size\": 26}, \"text\": \"Total runs scored by teams in thier first 6 overs\"}, \"xaxis\": {\"anchor\": \"y\", \"domain\": [0.0, 1.0], \"title\": {\"text\": \"Team Name\"}}, \"yaxis\": {\"anchor\": \"x\", \"domain\": [0.0, 1.0], \"title\": {\"text\": \"Total runs\"}}},\n",
              "                        {\"responsive\": true}\n",
              "                    ).then(function(){\n",
              "                            \n",
              "var gd = document.getElementById('d93791ed-84c4-4388-a0f2-e1d10a7609f9');\n",
              "var x = new MutationObserver(function (mutations, observer) {{\n",
              "        var display = window.getComputedStyle(gd).display;\n",
              "        if (!display || display === 'none') {{\n",
              "            console.log([gd, 'removed!']);\n",
              "            Plotly.purge(gd);\n",
              "            observer.disconnect();\n",
              "        }}\n",
              "}});\n",
              "\n",
              "// Listen for the removal of the full notebook cells\n",
              "var notebookContainer = gd.closest('#notebook-container');\n",
              "if (notebookContainer) {{\n",
              "    x.observe(notebookContainer, {childList: true});\n",
              "}}\n",
              "\n",
              "// Listen for the clearing of the current output cell\n",
              "var outputEl = gd.closest('.output');\n",
              "if (outputEl) {{\n",
              "    x.observe(outputEl, {childList: true});\n",
              "}}\n",
              "\n",
              "                        })\n",
              "                };\n",
              "                \n",
              "            </script>\n",
              "        </div>\n",
              "</body>\n",
              "</html>"
            ]
          },
          "metadata": {}
        }
      ]
    },
    {
      "cell_type": "markdown",
      "metadata": {
        "papermill": {
          "duration": 0.180167,
          "end_time": "2021-06-04T22:22:26.544882",
          "exception": false,
          "start_time": "2021-06-04T22:22:26.364715",
          "status": "completed"
        },
        "tags": [],
        "id": "fLPQL2Qhi33Z"
      },
      "source": [
        "<div class=\"alert alert-block alert-info\"><p style='color:black;'> 📌\n",
        "<b>Mumbai Indians</b> had scored the  most runs in first 6 overs, followed by Kings XI Punjab.\n",
        "</p>\n",
        "</div>\n"
      ]
    },
    {
      "cell_type": "markdown",
      "metadata": {
        "papermill": {
          "duration": 0.172159,
          "end_time": "2021-06-04T22:22:26.895259",
          "exception": false,
          "start_time": "2021-06-04T22:22:26.723100",
          "status": "completed"
        },
        "tags": [],
        "id": "x11orYjqi33a"
      },
      "source": [
        "<small><a href='#0'>Go to top</a></small>  "
      ]
    },
    {
      "cell_type": "markdown",
      "metadata": {
        "papermill": {
          "duration": 0.176937,
          "end_time": "2021-06-04T22:22:27.245281",
          "exception": false,
          "start_time": "2021-06-04T22:22:27.068344",
          "status": "completed"
        },
        "tags": [],
        "id": "WlsuWJQUi33a"
      },
      "source": [
        "<a id=\"35\">\n",
        "<h1 style = \"font-family: Snell Roundhand;font-weight: 500;font-size: 30px; font-style: normal; background-color: #FFFB30; color :black;\">35) Total runs scored by teams in last 4 overs :</h1>\n",
        "\n"
      ]
    },
    {
      "cell_type": "code",
      "metadata": {
        "_kg_hide-input": true,
        "execution": {
          "iopub.execute_input": "2021-06-04T22:22:27.627385Z",
          "iopub.status.busy": "2021-06-04T22:22:27.620003Z",
          "iopub.status.idle": "2021-06-04T22:22:28.148404Z",
          "shell.execute_reply": "2021-06-04T22:22:28.147696Z"
        },
        "papermill": {
          "duration": 0.721565,
          "end_time": "2021-06-04T22:22:28.148583",
          "exception": false,
          "start_time": "2021-06-04T22:22:27.427018",
          "status": "completed"
        },
        "tags": [],
        "colab": {
          "base_uri": "https://localhost:8080/",
          "height": 542
        },
        "id": "bGC4zC0Gi33a",
        "outputId": "5b1ba4df-f317-4f27-ae16-0382119f9159"
      },
      "source": [
        "team1 = deliveries_data['batting_team'].unique()\n",
        "team_runs1 = []\n",
        "for var in team1:\n",
        "    temp_df = deliveries_data[deliveries_data['batting_team']==var]\n",
        "    temp_df = temp_df[temp_df['over'].isin([19,18,17,16])]\n",
        "    runs1 = temp_df['total_runs'].sum()\n",
        "    team_runs1.append(runs1)\n",
        "team1 = pd.DataFrame(data=team_runs1, index=team1,columns=['Runs In Last 4 Overs'])\n",
        "# team.sort_values('Runs In First 6 Overs', ascending=False, inplace=True)\n",
        "team1.index.name = 'Team'\n",
        "colors = ['turquoise',] * 15\n",
        "colors[6] = 'crimson'\n",
        "fig=px.bar(x=team1.index,y=team1['Runs In Last 4 Overs'],labels=dict(x=\"Team Name\",y=\"Total runs\"),)\n",
        "fig.update_layout(title=\"Total runs scored by teams in thier last 4 overs\",\n",
        "                  titlefont={'size': 26},template='simple_white'     \n",
        "                  )\n",
        "fig.update_traces(marker_line_color='black',\n",
        "                  marker_line_width=2.5, opacity=1,marker_color=colors)\n",
        "fig.show()\n"
      ],
      "execution_count": 81,
      "outputs": [
        {
          "output_type": "display_data",
          "data": {
            "text/html": [
              "<html>\n",
              "<head><meta charset=\"utf-8\" /></head>\n",
              "<body>\n",
              "    <div>\n",
              "            <script src=\"https://cdnjs.cloudflare.com/ajax/libs/mathjax/2.7.5/MathJax.js?config=TeX-AMS-MML_SVG\"></script><script type=\"text/javascript\">if (window.MathJax) {MathJax.Hub.Config({SVG: {font: \"STIX-Web\"}});}</script>\n",
              "                <script type=\"text/javascript\">window.PlotlyConfig = {MathJaxConfig: 'local'};</script>\n",
              "        <script src=\"https://cdn.plot.ly/plotly-latest.min.js\"></script>    \n",
              "            <div id=\"8cce3f6f-fa3b-44d4-88ef-3631fb54ba5d\" class=\"plotly-graph-div\" style=\"height:525px; width:100%;\"></div>\n",
              "            <script type=\"text/javascript\">\n",
              "                \n",
              "                    window.PLOTLYENV=window.PLOTLYENV || {};\n",
              "                    \n",
              "                if (document.getElementById(\"8cce3f6f-fa3b-44d4-88ef-3631fb54ba5d\")) {\n",
              "                    Plotly.newPlot(\n",
              "                        '8cce3f6f-fa3b-44d4-88ef-3631fb54ba5d',\n",
              "                        [{\"alignmentgroup\": \"True\", \"hoverlabel\": {\"namelength\": 0}, \"hovertemplate\": \"Team Name=%{x}<br>Total runs=%{y}\", \"legendgroup\": \"\", \"marker\": {\"color\": [\"turquoise\", \"turquoise\", \"turquoise\", \"turquoise\", \"turquoise\", \"turquoise\", \"crimson\", \"turquoise\", \"turquoise\", \"turquoise\", \"turquoise\", \"turquoise\", \"turquoise\", \"turquoise\", \"turquoise\"], \"line\": {\"color\": \"black\", \"width\": 2.5}}, \"name\": \"\", \"offsetgroup\": \"\", \"opacity\": 1, \"orientation\": \"v\", \"showlegend\": false, \"textposition\": \"auto\", \"type\": \"bar\", \"x\": [\"Kolkata Knight Riders\", \"Royal Challengers Bangalore\", \"Kings XI Punjab\", \"Chennai Super Kings\", \"Rajasthan Royals\", \"Delhi Daredevils\", \"Mumbai Indians\", \"Deccan Chargers\", \"Kochi Tuskers Kerala\", \"Pune Warriors\", \"Sunrisers Hyderabad\", \"Rising Pune Supergiants\", \"Gujarat Lions\", \"Rising Pune Supergiant\", \"Delhi Capitals\"], \"xaxis\": \"x\", \"y\": [6224, 6787, 6227, 6655, 5043, 5043, 7538, 2539, 337, 1360, 4155, 443, 921, 555, 1160], \"yaxis\": \"y\"}],\n",
              "                        {\"barmode\": \"relative\", \"legend\": {\"tracegroupgap\": 0}, \"margin\": {\"t\": 60}, \"template\": {\"data\": {\"bar\": [{\"error_x\": {\"color\": \"rgb(36,36,36)\"}, \"error_y\": {\"color\": \"rgb(36,36,36)\"}, \"marker\": {\"line\": {\"color\": \"white\", \"width\": 0.5}}, \"type\": \"bar\"}], \"barpolar\": [{\"marker\": {\"line\": {\"color\": \"white\", \"width\": 0.5}}, \"type\": \"barpolar\"}], \"carpet\": [{\"aaxis\": {\"endlinecolor\": \"rgb(36,36,36)\", \"gridcolor\": \"white\", \"linecolor\": \"white\", \"minorgridcolor\": \"white\", \"startlinecolor\": \"rgb(36,36,36)\"}, \"baxis\": {\"endlinecolor\": \"rgb(36,36,36)\", \"gridcolor\": \"white\", \"linecolor\": \"white\", \"minorgridcolor\": \"white\", \"startlinecolor\": \"rgb(36,36,36)\"}, \"type\": \"carpet\"}], \"choropleth\": [{\"colorbar\": {\"outlinewidth\": 10, \"tickcolor\": \"rgb(36,36,36)\", \"ticklen\": 8, \"ticks\": \"outside\", \"tickwidth\": 2}, \"type\": \"choropleth\"}], \"contour\": [{\"colorbar\": {\"outlinewidth\": 10, \"tickcolor\": \"rgb(36,36,36)\", \"ticklen\": 8, \"ticks\": \"outside\", \"tickwidth\": 2}, \"colorscale\": [[0.0, \"#440154\"], [0.1111111111111111, \"#482878\"], [0.2222222222222222, \"#3e4989\"], [0.3333333333333333, \"#31688e\"], [0.4444444444444444, \"#26828e\"], [0.5555555555555556, \"#1f9e89\"], [0.6666666666666666, \"#35b779\"], [0.7777777777777778, \"#6ece58\"], [0.8888888888888888, \"#b5de2b\"], [1.0, \"#fde725\"]], \"type\": \"contour\"}], \"contourcarpet\": [{\"colorbar\": {\"outlinewidth\": 10, \"tickcolor\": \"rgb(36,36,36)\", \"ticklen\": 8, \"ticks\": \"outside\", \"tickwidth\": 2}, \"type\": \"contourcarpet\"}], \"heatmap\": [{\"colorbar\": {\"outlinewidth\": 10, \"tickcolor\": \"rgb(36,36,36)\", \"ticklen\": 8, \"ticks\": \"outside\", \"tickwidth\": 2}, \"colorscale\": [[0.0, \"#440154\"], [0.1111111111111111, \"#482878\"], [0.2222222222222222, \"#3e4989\"], [0.3333333333333333, \"#31688e\"], [0.4444444444444444, \"#26828e\"], [0.5555555555555556, \"#1f9e89\"], [0.6666666666666666, \"#35b779\"], [0.7777777777777778, \"#6ece58\"], [0.8888888888888888, \"#b5de2b\"], [1.0, \"#fde725\"]], \"type\": \"heatmap\"}], \"heatmapgl\": [{\"colorbar\": {\"outlinewidth\": 10, \"tickcolor\": \"rgb(36,36,36)\", \"ticklen\": 8, \"ticks\": \"outside\", \"tickwidth\": 2}, \"colorscale\": [[0.0, \"#440154\"], [0.1111111111111111, \"#482878\"], [0.2222222222222222, \"#3e4989\"], [0.3333333333333333, \"#31688e\"], [0.4444444444444444, \"#26828e\"], [0.5555555555555556, \"#1f9e89\"], [0.6666666666666666, \"#35b779\"], [0.7777777777777778, \"#6ece58\"], [0.8888888888888888, \"#b5de2b\"], [1.0, \"#fde725\"]], \"type\": \"heatmapgl\"}], \"histogram\": [{\"marker\": {\"line\": {\"color\": \"white\", \"width\": 0.6}}, \"type\": \"histogram\"}], \"histogram2d\": [{\"colorbar\": {\"outlinewidth\": 10, \"tickcolor\": \"rgb(36,36,36)\", \"ticklen\": 8, \"ticks\": \"outside\", \"tickwidth\": 2}, \"colorscale\": [[0.0, \"#440154\"], [0.1111111111111111, \"#482878\"], [0.2222222222222222, \"#3e4989\"], [0.3333333333333333, \"#31688e\"], [0.4444444444444444, \"#26828e\"], [0.5555555555555556, \"#1f9e89\"], [0.6666666666666666, \"#35b779\"], [0.7777777777777778, \"#6ece58\"], [0.8888888888888888, \"#b5de2b\"], [1.0, \"#fde725\"]], \"type\": \"histogram2d\"}], \"histogram2dcontour\": [{\"colorbar\": {\"outlinewidth\": 10, \"tickcolor\": \"rgb(36,36,36)\", \"ticklen\": 8, \"ticks\": \"outside\", \"tickwidth\": 2}, \"colorscale\": [[0.0, \"#440154\"], [0.1111111111111111, \"#482878\"], [0.2222222222222222, \"#3e4989\"], [0.3333333333333333, \"#31688e\"], [0.4444444444444444, \"#26828e\"], [0.5555555555555556, \"#1f9e89\"], [0.6666666666666666, \"#35b779\"], [0.7777777777777778, \"#6ece58\"], [0.8888888888888888, \"#b5de2b\"], [1.0, \"#fde725\"]], \"type\": \"histogram2dcontour\"}], \"mesh3d\": [{\"colorbar\": {\"outlinewidth\": 10, \"tickcolor\": \"rgb(36,36,36)\", \"ticklen\": 8, \"ticks\": \"outside\", \"tickwidth\": 2}, \"type\": \"mesh3d\"}], \"parcoords\": [{\"line\": {\"colorbar\": {\"outlinewidth\": 10, \"tickcolor\": \"rgb(36,36,36)\", \"ticklen\": 8, \"ticks\": \"outside\", \"tickwidth\": 2}}, \"type\": \"parcoords\"}], \"pie\": [{\"automargin\": true, \"type\": \"pie\"}], \"scatter\": [{\"marker\": {\"colorbar\": {\"outlinewidth\": 10, \"tickcolor\": \"rgb(36,36,36)\", \"ticklen\": 8, \"ticks\": \"outside\", \"tickwidth\": 2}}, \"type\": \"scatter\"}], \"scatter3d\": [{\"line\": {\"colorbar\": {\"outlinewidth\": 10, \"tickcolor\": \"rgb(36,36,36)\", \"ticklen\": 8, \"ticks\": \"outside\", \"tickwidth\": 2}}, \"marker\": {\"colorbar\": {\"outlinewidth\": 10, \"tickcolor\": \"rgb(36,36,36)\", \"ticklen\": 8, \"ticks\": \"outside\", \"tickwidth\": 2}}, \"type\": \"scatter3d\"}], \"scattercarpet\": [{\"marker\": {\"colorbar\": {\"outlinewidth\": 10, \"tickcolor\": \"rgb(36,36,36)\", \"ticklen\": 8, \"ticks\": \"outside\", \"tickwidth\": 2}}, \"type\": \"scattercarpet\"}], \"scattergeo\": [{\"marker\": {\"colorbar\": {\"outlinewidth\": 10, \"tickcolor\": \"rgb(36,36,36)\", \"ticklen\": 8, \"ticks\": \"outside\", \"tickwidth\": 2}}, \"type\": \"scattergeo\"}], \"scattergl\": [{\"marker\": {\"colorbar\": {\"outlinewidth\": 10, \"tickcolor\": \"rgb(36,36,36)\", \"ticklen\": 8, \"ticks\": \"outside\", \"tickwidth\": 2}}, \"type\": \"scattergl\"}], \"scattermapbox\": [{\"marker\": {\"colorbar\": {\"outlinewidth\": 10, \"tickcolor\": \"rgb(36,36,36)\", \"ticklen\": 8, \"ticks\": \"outside\", \"tickwidth\": 2}}, \"type\": \"scattermapbox\"}], \"scatterpolar\": [{\"marker\": {\"colorbar\": {\"outlinewidth\": 10, \"tickcolor\": \"rgb(36,36,36)\", \"ticklen\": 8, \"ticks\": \"outside\", \"tickwidth\": 2}}, \"type\": \"scatterpolar\"}], \"scatterpolargl\": [{\"marker\": {\"colorbar\": {\"outlinewidth\": 10, \"tickcolor\": \"rgb(36,36,36)\", \"ticklen\": 8, \"ticks\": \"outside\", \"tickwidth\": 2}}, \"type\": \"scatterpolargl\"}], \"scatterternary\": [{\"marker\": {\"colorbar\": {\"outlinewidth\": 10, \"tickcolor\": \"rgb(36,36,36)\", \"ticklen\": 8, \"ticks\": \"outside\", \"tickwidth\": 2}}, \"type\": \"scatterternary\"}], \"surface\": [{\"colorbar\": {\"outlinewidth\": 10, \"tickcolor\": \"rgb(36,36,36)\", \"ticklen\": 8, \"ticks\": \"outside\", \"tickwidth\": 2}, \"colorscale\": [[0.0, \"#440154\"], [0.1111111111111111, \"#482878\"], [0.2222222222222222, \"#3e4989\"], [0.3333333333333333, \"#31688e\"], [0.4444444444444444, \"#26828e\"], [0.5555555555555556, \"#1f9e89\"], [0.6666666666666666, \"#35b779\"], [0.7777777777777778, \"#6ece58\"], [0.8888888888888888, \"#b5de2b\"], [1.0, \"#fde725\"]], \"type\": \"surface\"}], \"table\": [{\"cells\": {\"fill\": {\"color\": \"rgb(237,237,237)\"}, \"line\": {\"color\": \"white\"}}, \"header\": {\"fill\": {\"color\": \"rgb(217,217,217)\"}, \"line\": {\"color\": \"white\"}}, \"type\": \"table\"}]}, \"layout\": {\"annotationdefaults\": {\"arrowhead\": 0, \"arrowwidth\": 1}, \"coloraxis\": {\"colorbar\": {\"outlinewidth\": 10, \"tickcolor\": \"rgb(36,36,36)\", \"ticklen\": 8, \"ticks\": \"outside\", \"tickwidth\": 2}}, \"colorscale\": {\"diverging\": [[0.0, \"rgb(103,0,31)\"], [0.1, \"rgb(178,24,43)\"], [0.2, \"rgb(214,96,77)\"], [0.3, \"rgb(244,165,130)\"], [0.4, \"rgb(253,219,199)\"], [0.5, \"rgb(247,247,247)\"], [0.6, \"rgb(209,229,240)\"], [0.7, \"rgb(146,197,222)\"], [0.8, \"rgb(67,147,195)\"], [0.9, \"rgb(33,102,172)\"], [1.0, \"rgb(5,48,97)\"]], \"sequential\": [[0.0, \"#440154\"], [0.1111111111111111, \"#482878\"], [0.2222222222222222, \"#3e4989\"], [0.3333333333333333, \"#31688e\"], [0.4444444444444444, \"#26828e\"], [0.5555555555555556, \"#1f9e89\"], [0.6666666666666666, \"#35b779\"], [0.7777777777777778, \"#6ece58\"], [0.8888888888888888, \"#b5de2b\"], [1.0, \"#fde725\"]], \"sequentialminus\": [[0.0, \"#440154\"], [0.1111111111111111, \"#482878\"], [0.2222222222222222, \"#3e4989\"], [0.3333333333333333, \"#31688e\"], [0.4444444444444444, \"#26828e\"], [0.5555555555555556, \"#1f9e89\"], [0.6666666666666666, \"#35b779\"], [0.7777777777777778, \"#6ece58\"], [0.8888888888888888, \"#b5de2b\"], [1.0, \"#fde725\"]]}, \"colorway\": [\"#1F77B4\", \"#FF7F0E\", \"#2CA02C\", \"#D62728\", \"#9467BD\", \"#8C564B\", \"#E377C2\", \"#7F7F7F\", \"#BCBD22\", \"#17BECF\"], \"font\": {\"color\": \"rgb(36,36,36)\"}, \"geo\": {\"bgcolor\": \"white\", \"lakecolor\": \"white\", \"landcolor\": \"white\", \"showlakes\": true, \"showland\": true, \"subunitcolor\": \"white\"}, \"hoverlabel\": {\"align\": \"left\"}, \"hovermode\": \"closest\", \"mapbox\": {\"style\": \"light\"}, \"paper_bgcolor\": \"white\", \"plot_bgcolor\": \"white\", \"polar\": {\"angularaxis\": {\"gridcolor\": \"rgb(232,232,232)\", \"linecolor\": \"rgb(36,36,36)\", \"showgrid\": false, \"showline\": true, \"ticks\": \"outside\"}, \"bgcolor\": \"white\", \"radialaxis\": {\"gridcolor\": \"rgb(232,232,232)\", \"linecolor\": \"rgb(36,36,36)\", \"showgrid\": false, \"showline\": true, \"ticks\": \"outside\"}}, \"scene\": {\"xaxis\": {\"backgroundcolor\": \"white\", \"gridcolor\": \"rgb(232,232,232)\", \"gridwidth\": 2, \"linecolor\": \"rgb(36,36,36)\", \"showbackground\": true, \"showgrid\": false, \"showline\": true, \"ticks\": \"outside\", \"zeroline\": false, \"zerolinecolor\": \"rgb(36,36,36)\"}, \"yaxis\": {\"backgroundcolor\": \"white\", \"gridcolor\": \"rgb(232,232,232)\", \"gridwidth\": 2, \"linecolor\": \"rgb(36,36,36)\", \"showbackground\": true, \"showgrid\": false, \"showline\": true, \"ticks\": \"outside\", \"zeroline\": false, \"zerolinecolor\": \"rgb(36,36,36)\"}, \"zaxis\": {\"backgroundcolor\": \"white\", \"gridcolor\": \"rgb(232,232,232)\", \"gridwidth\": 2, \"linecolor\": \"rgb(36,36,36)\", \"showbackground\": true, \"showgrid\": false, \"showline\": true, \"ticks\": \"outside\", \"zeroline\": false, \"zerolinecolor\": \"rgb(36,36,36)\"}}, \"shapedefaults\": {\"fillcolor\": \"black\", \"line\": {\"width\": 0}, \"opacity\": 0.3}, \"ternary\": {\"aaxis\": {\"gridcolor\": \"rgb(232,232,232)\", \"linecolor\": \"rgb(36,36,36)\", \"showgrid\": false, \"showline\": true, \"ticks\": \"outside\"}, \"baxis\": {\"gridcolor\": \"rgb(232,232,232)\", \"linecolor\": \"rgb(36,36,36)\", \"showgrid\": false, \"showline\": true, \"ticks\": \"outside\"}, \"bgcolor\": \"white\", \"caxis\": {\"gridcolor\": \"rgb(232,232,232)\", \"linecolor\": \"rgb(36,36,36)\", \"showgrid\": false, \"showline\": true, \"ticks\": \"outside\"}}, \"title\": {\"x\": 0.05}, \"xaxis\": {\"automargin\": true, \"gridcolor\": \"rgb(232,232,232)\", \"linecolor\": \"rgb(36,36,36)\", \"showgrid\": false, \"showline\": true, \"ticks\": \"outside\", \"title\": {\"standoff\": 15}, \"zeroline\": false, \"zerolinecolor\": \"rgb(36,36,36)\"}, \"yaxis\": {\"automargin\": true, \"gridcolor\": \"rgb(232,232,232)\", \"linecolor\": \"rgb(36,36,36)\", \"showgrid\": false, \"showline\": true, \"ticks\": \"outside\", \"title\": {\"standoff\": 15}, \"zeroline\": false, \"zerolinecolor\": \"rgb(36,36,36)\"}}}, \"title\": {\"font\": {\"size\": 26}, \"text\": \"Total runs scored by teams in thier last 4 overs\"}, \"xaxis\": {\"anchor\": \"y\", \"domain\": [0.0, 1.0], \"title\": {\"text\": \"Team Name\"}}, \"yaxis\": {\"anchor\": \"x\", \"domain\": [0.0, 1.0], \"title\": {\"text\": \"Total runs\"}}},\n",
              "                        {\"responsive\": true}\n",
              "                    ).then(function(){\n",
              "                            \n",
              "var gd = document.getElementById('8cce3f6f-fa3b-44d4-88ef-3631fb54ba5d');\n",
              "var x = new MutationObserver(function (mutations, observer) {{\n",
              "        var display = window.getComputedStyle(gd).display;\n",
              "        if (!display || display === 'none') {{\n",
              "            console.log([gd, 'removed!']);\n",
              "            Plotly.purge(gd);\n",
              "            observer.disconnect();\n",
              "        }}\n",
              "}});\n",
              "\n",
              "// Listen for the removal of the full notebook cells\n",
              "var notebookContainer = gd.closest('#notebook-container');\n",
              "if (notebookContainer) {{\n",
              "    x.observe(notebookContainer, {childList: true});\n",
              "}}\n",
              "\n",
              "// Listen for the clearing of the current output cell\n",
              "var outputEl = gd.closest('.output');\n",
              "if (outputEl) {{\n",
              "    x.observe(outputEl, {childList: true});\n",
              "}}\n",
              "\n",
              "                        })\n",
              "                };\n",
              "                \n",
              "            </script>\n",
              "        </div>\n",
              "</body>\n",
              "</html>"
            ]
          },
          "metadata": {}
        }
      ]
    },
    {
      "cell_type": "markdown",
      "metadata": {
        "papermill": {
          "duration": 0.177486,
          "end_time": "2021-06-04T22:22:28.500595",
          "exception": false,
          "start_time": "2021-06-04T22:22:28.323109",
          "status": "completed"
        },
        "tags": [],
        "id": "brAYW_Qhi33a"
      },
      "source": [
        "<div class=\"alert alert-block alert-info\"><p style='color:black;'> 📌\n",
        "Mumbai Indians had scored most runs in last 4 overs, followed by Royal Challengers Bangalore.\n",
        "</p>\n",
        "</div>"
      ]
    },
    {
      "cell_type": "markdown",
      "metadata": {
        "papermill": {
          "duration": 0.175833,
          "end_time": "2021-06-04T22:22:28.862165",
          "exception": false,
          "start_time": "2021-06-04T22:22:28.686332",
          "status": "completed"
        },
        "tags": [],
        "id": "wnLqS33Pi33a"
      },
      "source": [
        "<small><a href='#0'>Go to top</a></small>  "
      ]
    },
    {
      "cell_type": "markdown",
      "metadata": {
        "papermill": {
          "duration": 0.181296,
          "end_time": "2021-06-04T22:22:29.228523",
          "exception": false,
          "start_time": "2021-06-04T22:22:29.047227",
          "status": "completed"
        },
        "tags": [],
        "id": "a3xKU1IQi33b"
      },
      "source": [
        "<a id=\"36\">\n",
        "<h1 style = \"font-family: Snell Roundhand;font-weight: 500;font-size: 30px; font-style: normal; background-color: #FFFB30; color :black;\">36) Highest scoring run-rate in first 6 overs :</h1>\n",
        "\n"
      ]
    },
    {
      "cell_type": "code",
      "metadata": {
        "_kg_hide-input": true,
        "_kg_hide-output": true,
        "execution": {
          "iopub.execute_input": "2021-06-04T22:22:29.599881Z",
          "iopub.status.busy": "2021-06-04T22:22:29.599052Z",
          "iopub.status.idle": "2021-06-04T22:22:29.621784Z",
          "shell.execute_reply": "2021-06-04T22:22:29.622438Z"
        },
        "papermill": {
          "duration": 0.211261,
          "end_time": "2021-06-04T22:22:29.622682",
          "exception": false,
          "start_time": "2021-06-04T22:22:29.411421",
          "status": "completed"
        },
        "tags": [],
        "colab": {
          "base_uri": "https://localhost:8080/",
          "height": 554
        },
        "id": "NhohSDxWi33b",
        "outputId": "e4878188-845e-4df3-98f1-ed5b58aa52b9"
      },
      "source": [
        "played1=played.merge(team,left_on='Team Name',right_on='Team',how='inner')\n",
        "played3=played1.merge(team1,left_on='Team Name',right_on='Team',how='inner')\n",
        "mintoover=np.dot(played3['Total Matches played'],6)\n",
        "mintoover1=np.dot(played3['Total Matches played'],4)\n",
        "played3['RR in first 6 overs']=(played3['Runs In First 6 Overs']/mintoover)\n",
        "played3['RR in last 4 overs']=(played3['Runs In Last 4 Overs']/mintoover1)\n",
        "played3"
      ],
      "execution_count": 82,
      "outputs": [
        {
          "output_type": "execute_result",
          "data": {
            "text/html": [
              "<div>\n",
              "<style scoped>\n",
              "    .dataframe tbody tr th:only-of-type {\n",
              "        vertical-align: middle;\n",
              "    }\n",
              "\n",
              "    .dataframe tbody tr th {\n",
              "        vertical-align: top;\n",
              "    }\n",
              "\n",
              "    .dataframe thead th {\n",
              "        text-align: right;\n",
              "    }\n",
              "</style>\n",
              "<table border=\"1\" class=\"dataframe\">\n",
              "  <thead>\n",
              "    <tr style=\"text-align: right;\">\n",
              "      <th></th>\n",
              "      <th>Team Name</th>\n",
              "      <th>Total Matches played</th>\n",
              "      <th>Wins</th>\n",
              "      <th>% Win</th>\n",
              "      <th>Runs In First 6 Overs</th>\n",
              "      <th>Runs In Last 4 Overs</th>\n",
              "      <th>RR in first 6 overs</th>\n",
              "      <th>RR in last 4 overs</th>\n",
              "    </tr>\n",
              "  </thead>\n",
              "  <tbody>\n",
              "    <tr>\n",
              "      <th>0</th>\n",
              "      <td>Chennai Super Kings</td>\n",
              "      <td>178</td>\n",
              "      <td>106</td>\n",
              "      <td>59.550562</td>\n",
              "      <td>8048</td>\n",
              "      <td>6655</td>\n",
              "      <td>7.535581</td>\n",
              "      <td>9.346910</td>\n",
              "    </tr>\n",
              "    <tr>\n",
              "      <th>1</th>\n",
              "      <td>Deccan Chargers</td>\n",
              "      <td>75</td>\n",
              "      <td>29</td>\n",
              "      <td>38.666667</td>\n",
              "      <td>3417</td>\n",
              "      <td>2539</td>\n",
              "      <td>7.593333</td>\n",
              "      <td>8.463333</td>\n",
              "    </tr>\n",
              "    <tr>\n",
              "      <th>2</th>\n",
              "      <td>Delhi Capitals</td>\n",
              "      <td>33</td>\n",
              "      <td>19</td>\n",
              "      <td>57.575758</td>\n",
              "      <td>1560</td>\n",
              "      <td>1160</td>\n",
              "      <td>7.878788</td>\n",
              "      <td>8.787879</td>\n",
              "    </tr>\n",
              "    <tr>\n",
              "      <th>3</th>\n",
              "      <td>Delhi Daredevils</td>\n",
              "      <td>161</td>\n",
              "      <td>67</td>\n",
              "      <td>41.614907</td>\n",
              "      <td>7349</td>\n",
              "      <td>5043</td>\n",
              "      <td>7.607660</td>\n",
              "      <td>7.830745</td>\n",
              "    </tr>\n",
              "    <tr>\n",
              "      <th>4</th>\n",
              "      <td>Gujarat Lions</td>\n",
              "      <td>30</td>\n",
              "      <td>13</td>\n",
              "      <td>43.333333</td>\n",
              "      <td>1553</td>\n",
              "      <td>921</td>\n",
              "      <td>8.627778</td>\n",
              "      <td>7.675000</td>\n",
              "    </tr>\n",
              "    <tr>\n",
              "      <th>5</th>\n",
              "      <td>Kings XI Punjab</td>\n",
              "      <td>190</td>\n",
              "      <td>88</td>\n",
              "      <td>46.315789</td>\n",
              "      <td>8907</td>\n",
              "      <td>6227</td>\n",
              "      <td>7.813158</td>\n",
              "      <td>8.193421</td>\n",
              "    </tr>\n",
              "    <tr>\n",
              "      <th>6</th>\n",
              "      <td>Kochi Tuskers Kerala</td>\n",
              "      <td>14</td>\n",
              "      <td>6</td>\n",
              "      <td>42.857143</td>\n",
              "      <td>680</td>\n",
              "      <td>337</td>\n",
              "      <td>8.095238</td>\n",
              "      <td>6.017857</td>\n",
              "    </tr>\n",
              "    <tr>\n",
              "      <th>7</th>\n",
              "      <td>Kolkata Knight Riders</td>\n",
              "      <td>192</td>\n",
              "      <td>99</td>\n",
              "      <td>51.562500</td>\n",
              "      <td>8871</td>\n",
              "      <td>6224</td>\n",
              "      <td>7.700521</td>\n",
              "      <td>8.104167</td>\n",
              "    </tr>\n",
              "    <tr>\n",
              "      <th>8</th>\n",
              "      <td>Mumbai Indians</td>\n",
              "      <td>203</td>\n",
              "      <td>120</td>\n",
              "      <td>59.113300</td>\n",
              "      <td>9204</td>\n",
              "      <td>7538</td>\n",
              "      <td>7.556650</td>\n",
              "      <td>9.283251</td>\n",
              "    </tr>\n",
              "    <tr>\n",
              "      <th>9</th>\n",
              "      <td>Pune Warriors</td>\n",
              "      <td>46</td>\n",
              "      <td>12</td>\n",
              "      <td>26.086957</td>\n",
              "      <td>1895</td>\n",
              "      <td>1360</td>\n",
              "      <td>6.865942</td>\n",
              "      <td>7.391304</td>\n",
              "    </tr>\n",
              "    <tr>\n",
              "      <th>10</th>\n",
              "      <td>Rajasthan Royals</td>\n",
              "      <td>161</td>\n",
              "      <td>81</td>\n",
              "      <td>50.310559</td>\n",
              "      <td>7151</td>\n",
              "      <td>5043</td>\n",
              "      <td>7.402692</td>\n",
              "      <td>7.830745</td>\n",
              "    </tr>\n",
              "    <tr>\n",
              "      <th>11</th>\n",
              "      <td>Rising Pune Supergiant</td>\n",
              "      <td>16</td>\n",
              "      <td>10</td>\n",
              "      <td>62.500000</td>\n",
              "      <td>785</td>\n",
              "      <td>555</td>\n",
              "      <td>8.177083</td>\n",
              "      <td>8.671875</td>\n",
              "    </tr>\n",
              "    <tr>\n",
              "      <th>12</th>\n",
              "      <td>Rising Pune Supergiants</td>\n",
              "      <td>14</td>\n",
              "      <td>5</td>\n",
              "      <td>35.714286</td>\n",
              "      <td>638</td>\n",
              "      <td>443</td>\n",
              "      <td>7.595238</td>\n",
              "      <td>7.910714</td>\n",
              "    </tr>\n",
              "    <tr>\n",
              "      <th>13</th>\n",
              "      <td>Royal Challengers Bangalore</td>\n",
              "      <td>195</td>\n",
              "      <td>91</td>\n",
              "      <td>46.666667</td>\n",
              "      <td>8699</td>\n",
              "      <td>6787</td>\n",
              "      <td>7.435043</td>\n",
              "      <td>8.701282</td>\n",
              "    </tr>\n",
              "    <tr>\n",
              "      <th>14</th>\n",
              "      <td>Sunrisers Hyderabad</td>\n",
              "      <td>124</td>\n",
              "      <td>66</td>\n",
              "      <td>53.225806</td>\n",
              "      <td>5917</td>\n",
              "      <td>4155</td>\n",
              "      <td>7.952957</td>\n",
              "      <td>8.377016</td>\n",
              "    </tr>\n",
              "  </tbody>\n",
              "</table>\n",
              "</div>"
            ],
            "text/plain": [
              "                      Team Name  ...  RR in last 4 overs\n",
              "0           Chennai Super Kings  ...            9.346910\n",
              "1               Deccan Chargers  ...            8.463333\n",
              "2                Delhi Capitals  ...            8.787879\n",
              "3              Delhi Daredevils  ...            7.830745\n",
              "4                 Gujarat Lions  ...            7.675000\n",
              "5               Kings XI Punjab  ...            8.193421\n",
              "6          Kochi Tuskers Kerala  ...            6.017857\n",
              "7         Kolkata Knight Riders  ...            8.104167\n",
              "8                Mumbai Indians  ...            9.283251\n",
              "9                 Pune Warriors  ...            7.391304\n",
              "10             Rajasthan Royals  ...            7.830745\n",
              "11       Rising Pune Supergiant  ...            8.671875\n",
              "12      Rising Pune Supergiants  ...            7.910714\n",
              "13  Royal Challengers Bangalore  ...            8.701282\n",
              "14          Sunrisers Hyderabad  ...            8.377016\n",
              "\n",
              "[15 rows x 8 columns]"
            ]
          },
          "metadata": {},
          "execution_count": 82
        }
      ]
    },
    {
      "cell_type": "code",
      "metadata": {
        "_kg_hide-input": true,
        "execution": {
          "iopub.execute_input": "2021-06-04T22:22:30.072004Z",
          "iopub.status.busy": "2021-06-04T22:22:30.061471Z",
          "iopub.status.idle": "2021-06-04T22:22:30.126316Z",
          "shell.execute_reply": "2021-06-04T22:22:30.125651Z"
        },
        "papermill": {
          "duration": 0.303682,
          "end_time": "2021-06-04T22:22:30.126478",
          "exception": false,
          "start_time": "2021-06-04T22:22:29.822796",
          "status": "completed"
        },
        "tags": [],
        "colab": {
          "base_uri": "https://localhost:8080/",
          "height": 542
        },
        "id": "tKinHa-1i33b",
        "outputId": "a9905a00-8bbb-4499-d484-a001d81b0ae5"
      },
      "source": [
        "colors = ['turquoise',] * 15\n",
        "colors[4] = 'crimson'\n",
        "fig=px.bar(x=played3['Team Name'],y=played3['RR in first 6 overs'],labels=dict(x=\"Team Name\",y=\"Run Rate\"),)\n",
        "fig.update_layout(title=\"Run Rate in first 6 overs\",\n",
        "                  titlefont={'size': 26},template='simple_white'     \n",
        "                  )\n",
        "fig.update_traces(marker_line_color='black',\n",
        "                  marker_line_width=2.5, opacity=1,marker_color=colors)\n",
        "fig.show()\n"
      ],
      "execution_count": 83,
      "outputs": [
        {
          "output_type": "display_data",
          "data": {
            "text/html": [
              "<html>\n",
              "<head><meta charset=\"utf-8\" /></head>\n",
              "<body>\n",
              "    <div>\n",
              "            <script src=\"https://cdnjs.cloudflare.com/ajax/libs/mathjax/2.7.5/MathJax.js?config=TeX-AMS-MML_SVG\"></script><script type=\"text/javascript\">if (window.MathJax) {MathJax.Hub.Config({SVG: {font: \"STIX-Web\"}});}</script>\n",
              "                <script type=\"text/javascript\">window.PlotlyConfig = {MathJaxConfig: 'local'};</script>\n",
              "        <script src=\"https://cdn.plot.ly/plotly-latest.min.js\"></script>    \n",
              "            <div id=\"c8c865f8-564a-4896-8e7d-23320773a971\" class=\"plotly-graph-div\" style=\"height:525px; width:100%;\"></div>\n",
              "            <script type=\"text/javascript\">\n",
              "                \n",
              "                    window.PLOTLYENV=window.PLOTLYENV || {};\n",
              "                    \n",
              "                if (document.getElementById(\"c8c865f8-564a-4896-8e7d-23320773a971\")) {\n",
              "                    Plotly.newPlot(\n",
              "                        'c8c865f8-564a-4896-8e7d-23320773a971',\n",
              "                        [{\"alignmentgroup\": \"True\", \"hoverlabel\": {\"namelength\": 0}, \"hovertemplate\": \"Team Name=%{x}<br>Run Rate=%{y}\", \"legendgroup\": \"\", \"marker\": {\"color\": [\"turquoise\", \"turquoise\", \"turquoise\", \"turquoise\", \"crimson\", \"turquoise\", \"turquoise\", \"turquoise\", \"turquoise\", \"turquoise\", \"turquoise\", \"turquoise\", \"turquoise\", \"turquoise\", \"turquoise\"], \"line\": {\"color\": \"black\", \"width\": 2.5}}, \"name\": \"\", \"offsetgroup\": \"\", \"opacity\": 1, \"orientation\": \"v\", \"showlegend\": false, \"textposition\": \"auto\", \"type\": \"bar\", \"x\": [\"Chennai Super Kings\", \"Deccan Chargers\", \"Delhi Capitals\", \"Delhi Daredevils\", \"Gujarat Lions\", \"Kings XI Punjab\", \"Kochi Tuskers Kerala\", \"Kolkata Knight Riders\", \"Mumbai Indians\", \"Pune Warriors\", \"Rajasthan Royals\", \"Rising Pune Supergiant\", \"Rising Pune Supergiants\", \"Royal Challengers Bangalore\", \"Sunrisers Hyderabad\"], \"xaxis\": \"x\", \"y\": [7.535580524344569, 7.593333333333334, 7.878787878787879, 7.607660455486543, 8.627777777777778, 7.813157894736842, 8.095238095238095, 7.700520833333333, 7.556650246305419, 6.865942028985507, 7.402691511387164, 8.177083333333334, 7.595238095238095, 7.435042735042735, 7.952956989247312], \"yaxis\": \"y\"}],\n",
              "                        {\"barmode\": \"relative\", \"legend\": {\"tracegroupgap\": 0}, \"margin\": {\"t\": 60}, \"template\": {\"data\": {\"bar\": [{\"error_x\": {\"color\": \"rgb(36,36,36)\"}, \"error_y\": {\"color\": \"rgb(36,36,36)\"}, \"marker\": {\"line\": {\"color\": \"white\", \"width\": 0.5}}, \"type\": \"bar\"}], \"barpolar\": [{\"marker\": {\"line\": {\"color\": \"white\", \"width\": 0.5}}, \"type\": \"barpolar\"}], \"carpet\": [{\"aaxis\": {\"endlinecolor\": \"rgb(36,36,36)\", \"gridcolor\": \"white\", \"linecolor\": \"white\", \"minorgridcolor\": \"white\", \"startlinecolor\": \"rgb(36,36,36)\"}, \"baxis\": {\"endlinecolor\": \"rgb(36,36,36)\", \"gridcolor\": \"white\", \"linecolor\": \"white\", \"minorgridcolor\": \"white\", \"startlinecolor\": \"rgb(36,36,36)\"}, \"type\": \"carpet\"}], \"choropleth\": [{\"colorbar\": {\"outlinewidth\": 10, \"tickcolor\": \"rgb(36,36,36)\", \"ticklen\": 8, \"ticks\": \"outside\", \"tickwidth\": 2}, \"type\": \"choropleth\"}], \"contour\": [{\"colorbar\": {\"outlinewidth\": 10, \"tickcolor\": \"rgb(36,36,36)\", \"ticklen\": 8, \"ticks\": \"outside\", \"tickwidth\": 2}, \"colorscale\": [[0.0, \"#440154\"], [0.1111111111111111, \"#482878\"], [0.2222222222222222, \"#3e4989\"], [0.3333333333333333, \"#31688e\"], [0.4444444444444444, \"#26828e\"], [0.5555555555555556, \"#1f9e89\"], [0.6666666666666666, \"#35b779\"], [0.7777777777777778, \"#6ece58\"], [0.8888888888888888, \"#b5de2b\"], [1.0, \"#fde725\"]], \"type\": \"contour\"}], \"contourcarpet\": [{\"colorbar\": {\"outlinewidth\": 10, \"tickcolor\": \"rgb(36,36,36)\", \"ticklen\": 8, \"ticks\": \"outside\", \"tickwidth\": 2}, \"type\": \"contourcarpet\"}], \"heatmap\": [{\"colorbar\": {\"outlinewidth\": 10, \"tickcolor\": \"rgb(36,36,36)\", \"ticklen\": 8, \"ticks\": \"outside\", \"tickwidth\": 2}, \"colorscale\": [[0.0, \"#440154\"], [0.1111111111111111, \"#482878\"], [0.2222222222222222, \"#3e4989\"], [0.3333333333333333, \"#31688e\"], [0.4444444444444444, \"#26828e\"], [0.5555555555555556, \"#1f9e89\"], [0.6666666666666666, \"#35b779\"], [0.7777777777777778, \"#6ece58\"], [0.8888888888888888, \"#b5de2b\"], [1.0, \"#fde725\"]], \"type\": \"heatmap\"}], \"heatmapgl\": [{\"colorbar\": {\"outlinewidth\": 10, \"tickcolor\": \"rgb(36,36,36)\", \"ticklen\": 8, \"ticks\": \"outside\", \"tickwidth\": 2}, \"colorscale\": [[0.0, \"#440154\"], [0.1111111111111111, \"#482878\"], [0.2222222222222222, \"#3e4989\"], [0.3333333333333333, \"#31688e\"], [0.4444444444444444, \"#26828e\"], [0.5555555555555556, \"#1f9e89\"], [0.6666666666666666, \"#35b779\"], [0.7777777777777778, \"#6ece58\"], [0.8888888888888888, \"#b5de2b\"], [1.0, \"#fde725\"]], \"type\": \"heatmapgl\"}], \"histogram\": [{\"marker\": {\"line\": {\"color\": \"white\", \"width\": 0.6}}, \"type\": \"histogram\"}], \"histogram2d\": [{\"colorbar\": {\"outlinewidth\": 10, \"tickcolor\": \"rgb(36,36,36)\", \"ticklen\": 8, \"ticks\": \"outside\", \"tickwidth\": 2}, \"colorscale\": [[0.0, \"#440154\"], [0.1111111111111111, \"#482878\"], [0.2222222222222222, \"#3e4989\"], [0.3333333333333333, \"#31688e\"], [0.4444444444444444, \"#26828e\"], [0.5555555555555556, \"#1f9e89\"], [0.6666666666666666, \"#35b779\"], [0.7777777777777778, \"#6ece58\"], [0.8888888888888888, \"#b5de2b\"], [1.0, \"#fde725\"]], \"type\": \"histogram2d\"}], \"histogram2dcontour\": [{\"colorbar\": {\"outlinewidth\": 10, \"tickcolor\": \"rgb(36,36,36)\", \"ticklen\": 8, \"ticks\": \"outside\", \"tickwidth\": 2}, \"colorscale\": [[0.0, \"#440154\"], [0.1111111111111111, \"#482878\"], [0.2222222222222222, \"#3e4989\"], [0.3333333333333333, \"#31688e\"], [0.4444444444444444, \"#26828e\"], [0.5555555555555556, \"#1f9e89\"], [0.6666666666666666, \"#35b779\"], [0.7777777777777778, \"#6ece58\"], [0.8888888888888888, \"#b5de2b\"], [1.0, \"#fde725\"]], \"type\": \"histogram2dcontour\"}], \"mesh3d\": [{\"colorbar\": {\"outlinewidth\": 10, \"tickcolor\": \"rgb(36,36,36)\", \"ticklen\": 8, \"ticks\": \"outside\", \"tickwidth\": 2}, \"type\": \"mesh3d\"}], \"parcoords\": [{\"line\": {\"colorbar\": {\"outlinewidth\": 10, \"tickcolor\": \"rgb(36,36,36)\", \"ticklen\": 8, \"ticks\": \"outside\", \"tickwidth\": 2}}, \"type\": \"parcoords\"}], \"pie\": [{\"automargin\": true, \"type\": \"pie\"}], \"scatter\": [{\"marker\": {\"colorbar\": {\"outlinewidth\": 10, \"tickcolor\": \"rgb(36,36,36)\", \"ticklen\": 8, \"ticks\": \"outside\", \"tickwidth\": 2}}, \"type\": \"scatter\"}], \"scatter3d\": [{\"line\": {\"colorbar\": {\"outlinewidth\": 10, \"tickcolor\": \"rgb(36,36,36)\", \"ticklen\": 8, \"ticks\": \"outside\", \"tickwidth\": 2}}, \"marker\": {\"colorbar\": {\"outlinewidth\": 10, \"tickcolor\": \"rgb(36,36,36)\", \"ticklen\": 8, \"ticks\": \"outside\", \"tickwidth\": 2}}, \"type\": \"scatter3d\"}], \"scattercarpet\": [{\"marker\": {\"colorbar\": {\"outlinewidth\": 10, \"tickcolor\": \"rgb(36,36,36)\", \"ticklen\": 8, \"ticks\": \"outside\", \"tickwidth\": 2}}, \"type\": \"scattercarpet\"}], \"scattergeo\": [{\"marker\": {\"colorbar\": {\"outlinewidth\": 10, \"tickcolor\": \"rgb(36,36,36)\", \"ticklen\": 8, \"ticks\": \"outside\", \"tickwidth\": 2}}, \"type\": \"scattergeo\"}], \"scattergl\": [{\"marker\": {\"colorbar\": {\"outlinewidth\": 10, \"tickcolor\": \"rgb(36,36,36)\", \"ticklen\": 8, \"ticks\": \"outside\", \"tickwidth\": 2}}, \"type\": \"scattergl\"}], \"scattermapbox\": [{\"marker\": {\"colorbar\": {\"outlinewidth\": 10, \"tickcolor\": \"rgb(36,36,36)\", \"ticklen\": 8, \"ticks\": \"outside\", \"tickwidth\": 2}}, \"type\": \"scattermapbox\"}], \"scatterpolar\": [{\"marker\": {\"colorbar\": {\"outlinewidth\": 10, \"tickcolor\": \"rgb(36,36,36)\", \"ticklen\": 8, \"ticks\": \"outside\", \"tickwidth\": 2}}, \"type\": \"scatterpolar\"}], \"scatterpolargl\": [{\"marker\": {\"colorbar\": {\"outlinewidth\": 10, \"tickcolor\": \"rgb(36,36,36)\", \"ticklen\": 8, \"ticks\": \"outside\", \"tickwidth\": 2}}, \"type\": \"scatterpolargl\"}], \"scatterternary\": [{\"marker\": {\"colorbar\": {\"outlinewidth\": 10, \"tickcolor\": \"rgb(36,36,36)\", \"ticklen\": 8, \"ticks\": \"outside\", \"tickwidth\": 2}}, \"type\": \"scatterternary\"}], \"surface\": [{\"colorbar\": {\"outlinewidth\": 10, \"tickcolor\": \"rgb(36,36,36)\", \"ticklen\": 8, \"ticks\": \"outside\", \"tickwidth\": 2}, \"colorscale\": [[0.0, \"#440154\"], [0.1111111111111111, \"#482878\"], [0.2222222222222222, \"#3e4989\"], [0.3333333333333333, \"#31688e\"], [0.4444444444444444, \"#26828e\"], [0.5555555555555556, \"#1f9e89\"], [0.6666666666666666, \"#35b779\"], [0.7777777777777778, \"#6ece58\"], [0.8888888888888888, \"#b5de2b\"], [1.0, \"#fde725\"]], \"type\": \"surface\"}], \"table\": [{\"cells\": {\"fill\": {\"color\": \"rgb(237,237,237)\"}, \"line\": {\"color\": \"white\"}}, \"header\": {\"fill\": {\"color\": \"rgb(217,217,217)\"}, \"line\": {\"color\": \"white\"}}, \"type\": \"table\"}]}, \"layout\": {\"annotationdefaults\": {\"arrowhead\": 0, \"arrowwidth\": 1}, \"coloraxis\": {\"colorbar\": {\"outlinewidth\": 10, \"tickcolor\": \"rgb(36,36,36)\", \"ticklen\": 8, \"ticks\": \"outside\", \"tickwidth\": 2}}, \"colorscale\": {\"diverging\": [[0.0, \"rgb(103,0,31)\"], [0.1, \"rgb(178,24,43)\"], [0.2, \"rgb(214,96,77)\"], [0.3, \"rgb(244,165,130)\"], [0.4, \"rgb(253,219,199)\"], [0.5, \"rgb(247,247,247)\"], [0.6, \"rgb(209,229,240)\"], [0.7, \"rgb(146,197,222)\"], [0.8, \"rgb(67,147,195)\"], [0.9, \"rgb(33,102,172)\"], [1.0, \"rgb(5,48,97)\"]], \"sequential\": [[0.0, \"#440154\"], [0.1111111111111111, \"#482878\"], [0.2222222222222222, \"#3e4989\"], [0.3333333333333333, \"#31688e\"], [0.4444444444444444, \"#26828e\"], [0.5555555555555556, \"#1f9e89\"], [0.6666666666666666, \"#35b779\"], [0.7777777777777778, \"#6ece58\"], [0.8888888888888888, \"#b5de2b\"], [1.0, \"#fde725\"]], \"sequentialminus\": [[0.0, \"#440154\"], [0.1111111111111111, \"#482878\"], [0.2222222222222222, \"#3e4989\"], [0.3333333333333333, \"#31688e\"], [0.4444444444444444, \"#26828e\"], [0.5555555555555556, \"#1f9e89\"], [0.6666666666666666, \"#35b779\"], [0.7777777777777778, \"#6ece58\"], [0.8888888888888888, \"#b5de2b\"], [1.0, \"#fde725\"]]}, \"colorway\": [\"#1F77B4\", \"#FF7F0E\", \"#2CA02C\", \"#D62728\", \"#9467BD\", \"#8C564B\", \"#E377C2\", \"#7F7F7F\", \"#BCBD22\", \"#17BECF\"], \"font\": {\"color\": \"rgb(36,36,36)\"}, \"geo\": {\"bgcolor\": \"white\", \"lakecolor\": \"white\", \"landcolor\": \"white\", \"showlakes\": true, \"showland\": true, \"subunitcolor\": \"white\"}, \"hoverlabel\": {\"align\": \"left\"}, \"hovermode\": \"closest\", \"mapbox\": {\"style\": \"light\"}, \"paper_bgcolor\": \"white\", \"plot_bgcolor\": \"white\", \"polar\": {\"angularaxis\": {\"gridcolor\": \"rgb(232,232,232)\", \"linecolor\": \"rgb(36,36,36)\", \"showgrid\": false, \"showline\": true, \"ticks\": \"outside\"}, \"bgcolor\": \"white\", \"radialaxis\": {\"gridcolor\": \"rgb(232,232,232)\", \"linecolor\": \"rgb(36,36,36)\", \"showgrid\": false, \"showline\": true, \"ticks\": \"outside\"}}, \"scene\": {\"xaxis\": {\"backgroundcolor\": \"white\", \"gridcolor\": \"rgb(232,232,232)\", \"gridwidth\": 2, \"linecolor\": \"rgb(36,36,36)\", \"showbackground\": true, \"showgrid\": false, \"showline\": true, \"ticks\": \"outside\", \"zeroline\": false, \"zerolinecolor\": \"rgb(36,36,36)\"}, \"yaxis\": {\"backgroundcolor\": \"white\", \"gridcolor\": \"rgb(232,232,232)\", \"gridwidth\": 2, \"linecolor\": \"rgb(36,36,36)\", \"showbackground\": true, \"showgrid\": false, \"showline\": true, \"ticks\": \"outside\", \"zeroline\": false, \"zerolinecolor\": \"rgb(36,36,36)\"}, \"zaxis\": {\"backgroundcolor\": \"white\", \"gridcolor\": \"rgb(232,232,232)\", \"gridwidth\": 2, \"linecolor\": \"rgb(36,36,36)\", \"showbackground\": true, \"showgrid\": false, \"showline\": true, \"ticks\": \"outside\", \"zeroline\": false, \"zerolinecolor\": \"rgb(36,36,36)\"}}, \"shapedefaults\": {\"fillcolor\": \"black\", \"line\": {\"width\": 0}, \"opacity\": 0.3}, \"ternary\": {\"aaxis\": {\"gridcolor\": \"rgb(232,232,232)\", \"linecolor\": \"rgb(36,36,36)\", \"showgrid\": false, \"showline\": true, \"ticks\": \"outside\"}, \"baxis\": {\"gridcolor\": \"rgb(232,232,232)\", \"linecolor\": \"rgb(36,36,36)\", \"showgrid\": false, \"showline\": true, \"ticks\": \"outside\"}, \"bgcolor\": \"white\", \"caxis\": {\"gridcolor\": \"rgb(232,232,232)\", \"linecolor\": \"rgb(36,36,36)\", \"showgrid\": false, \"showline\": true, \"ticks\": \"outside\"}}, \"title\": {\"x\": 0.05}, \"xaxis\": {\"automargin\": true, \"gridcolor\": \"rgb(232,232,232)\", \"linecolor\": \"rgb(36,36,36)\", \"showgrid\": false, \"showline\": true, \"ticks\": \"outside\", \"title\": {\"standoff\": 15}, \"zeroline\": false, \"zerolinecolor\": \"rgb(36,36,36)\"}, \"yaxis\": {\"automargin\": true, \"gridcolor\": \"rgb(232,232,232)\", \"linecolor\": \"rgb(36,36,36)\", \"showgrid\": false, \"showline\": true, \"ticks\": \"outside\", \"title\": {\"standoff\": 15}, \"zeroline\": false, \"zerolinecolor\": \"rgb(36,36,36)\"}}}, \"title\": {\"font\": {\"size\": 26}, \"text\": \"Run Rate in first 6 overs\"}, \"xaxis\": {\"anchor\": \"y\", \"domain\": [0.0, 1.0], \"title\": {\"text\": \"Team Name\"}}, \"yaxis\": {\"anchor\": \"x\", \"domain\": [0.0, 1.0], \"title\": {\"text\": \"Run Rate\"}}},\n",
              "                        {\"responsive\": true}\n",
              "                    ).then(function(){\n",
              "                            \n",
              "var gd = document.getElementById('c8c865f8-564a-4896-8e7d-23320773a971');\n",
              "var x = new MutationObserver(function (mutations, observer) {{\n",
              "        var display = window.getComputedStyle(gd).display;\n",
              "        if (!display || display === 'none') {{\n",
              "            console.log([gd, 'removed!']);\n",
              "            Plotly.purge(gd);\n",
              "            observer.disconnect();\n",
              "        }}\n",
              "}});\n",
              "\n",
              "// Listen for the removal of the full notebook cells\n",
              "var notebookContainer = gd.closest('#notebook-container');\n",
              "if (notebookContainer) {{\n",
              "    x.observe(notebookContainer, {childList: true});\n",
              "}}\n",
              "\n",
              "// Listen for the clearing of the current output cell\n",
              "var outputEl = gd.closest('.output');\n",
              "if (outputEl) {{\n",
              "    x.observe(outputEl, {childList: true});\n",
              "}}\n",
              "\n",
              "                        })\n",
              "                };\n",
              "                \n",
              "            </script>\n",
              "        </div>\n",
              "</body>\n",
              "</html>"
            ]
          },
          "metadata": {}
        }
      ]
    },
    {
      "cell_type": "markdown",
      "metadata": {
        "papermill": {
          "duration": 0.178495,
          "end_time": "2021-06-04T22:22:30.485617",
          "exception": false,
          "start_time": "2021-06-04T22:22:30.307122",
          "status": "completed"
        },
        "tags": [],
        "id": "TRfVS1OXi33b"
      },
      "source": [
        "<div class=\"alert alert-block alert-info\"><p style='color:black;'> 📌\n",
        "Gujarat Lions has the highest scoring run-rate in first 6 overs, followed by Rising Pune Supergiant.\n",
        "</p>\n",
        "</div>\n"
      ]
    },
    {
      "cell_type": "markdown",
      "metadata": {
        "papermill": {
          "duration": 0.17445,
          "end_time": "2021-06-04T22:22:30.843856",
          "exception": false,
          "start_time": "2021-06-04T22:22:30.669406",
          "status": "completed"
        },
        "tags": [],
        "id": "mA5HsTkji33b"
      },
      "source": [
        "<a id=\"37\">\n",
        "<h1 style = \"font-family: Snell Roundhand;font-weight: 500;font-size: 30px; font-style: normal; background-color: #FFFB30; color :black;\">37) Highest scoring rate in last 4 overs :</h1>"
      ]
    },
    {
      "cell_type": "code",
      "metadata": {
        "_kg_hide-input": true,
        "execution": {
          "iopub.execute_input": "2021-06-04T22:22:31.231382Z",
          "iopub.status.busy": "2021-06-04T22:22:31.213261Z",
          "iopub.status.idle": "2021-06-04T22:22:31.303429Z",
          "shell.execute_reply": "2021-06-04T22:22:31.302867Z"
        },
        "papermill": {
          "duration": 0.280872,
          "end_time": "2021-06-04T22:22:31.303597",
          "exception": false,
          "start_time": "2021-06-04T22:22:31.022725",
          "status": "completed"
        },
        "tags": [],
        "colab": {
          "base_uri": "https://localhost:8080/",
          "height": 542
        },
        "id": "svsEnMKai33c",
        "outputId": "86dfd643-0922-4588-de71-3d0f286ed54a"
      },
      "source": [
        "colors = ['turquoise',] * 15\n",
        "colors[0] = 'crimson'\n",
        "fig=px.bar(x=played3['Team Name'],y=played3['RR in last 4 overs'],labels=dict(x=\"Team Name\",y=\"Run Rate\"),)\n",
        "fig.update_layout(title=\"Run Rate in last 4 overs\",\n",
        "                  titlefont={'size': 26},template='simple_white'     \n",
        "                  )\n",
        "fig.update_traces(marker_line_color='black',\n",
        "                  marker_line_width=2.5, opacity=1,marker_color=colors)\n",
        "fig.show()\n"
      ],
      "execution_count": 84,
      "outputs": [
        {
          "output_type": "display_data",
          "data": {
            "text/html": [
              "<html>\n",
              "<head><meta charset=\"utf-8\" /></head>\n",
              "<body>\n",
              "    <div>\n",
              "            <script src=\"https://cdnjs.cloudflare.com/ajax/libs/mathjax/2.7.5/MathJax.js?config=TeX-AMS-MML_SVG\"></script><script type=\"text/javascript\">if (window.MathJax) {MathJax.Hub.Config({SVG: {font: \"STIX-Web\"}});}</script>\n",
              "                <script type=\"text/javascript\">window.PlotlyConfig = {MathJaxConfig: 'local'};</script>\n",
              "        <script src=\"https://cdn.plot.ly/plotly-latest.min.js\"></script>    \n",
              "            <div id=\"a42e7ba8-4e40-45ff-be59-21be20754e1b\" class=\"plotly-graph-div\" style=\"height:525px; width:100%;\"></div>\n",
              "            <script type=\"text/javascript\">\n",
              "                \n",
              "                    window.PLOTLYENV=window.PLOTLYENV || {};\n",
              "                    \n",
              "                if (document.getElementById(\"a42e7ba8-4e40-45ff-be59-21be20754e1b\")) {\n",
              "                    Plotly.newPlot(\n",
              "                        'a42e7ba8-4e40-45ff-be59-21be20754e1b',\n",
              "                        [{\"alignmentgroup\": \"True\", \"hoverlabel\": {\"namelength\": 0}, \"hovertemplate\": \"Team Name=%{x}<br>Run Rate=%{y}\", \"legendgroup\": \"\", \"marker\": {\"color\": [\"crimson\", \"turquoise\", \"turquoise\", \"turquoise\", \"turquoise\", \"turquoise\", \"turquoise\", \"turquoise\", \"turquoise\", \"turquoise\", \"turquoise\", \"turquoise\", \"turquoise\", \"turquoise\", \"turquoise\"], \"line\": {\"color\": \"black\", \"width\": 2.5}}, \"name\": \"\", \"offsetgroup\": \"\", \"opacity\": 1, \"orientation\": \"v\", \"showlegend\": false, \"textposition\": \"auto\", \"type\": \"bar\", \"x\": [\"Chennai Super Kings\", \"Deccan Chargers\", \"Delhi Capitals\", \"Delhi Daredevils\", \"Gujarat Lions\", \"Kings XI Punjab\", \"Kochi Tuskers Kerala\", \"Kolkata Knight Riders\", \"Mumbai Indians\", \"Pune Warriors\", \"Rajasthan Royals\", \"Rising Pune Supergiant\", \"Rising Pune Supergiants\", \"Royal Challengers Bangalore\", \"Sunrisers Hyderabad\"], \"xaxis\": \"x\", \"y\": [9.34691011235955, 8.463333333333333, 8.787878787878787, 7.830745341614906, 7.675, 8.19342105263158, 6.017857142857143, 8.104166666666666, 9.283251231527094, 7.391304347826087, 7.830745341614906, 8.671875, 7.910714285714286, 8.701282051282051, 8.377016129032258], \"yaxis\": \"y\"}],\n",
              "                        {\"barmode\": \"relative\", \"legend\": {\"tracegroupgap\": 0}, \"margin\": {\"t\": 60}, \"template\": {\"data\": {\"bar\": [{\"error_x\": {\"color\": \"rgb(36,36,36)\"}, \"error_y\": {\"color\": \"rgb(36,36,36)\"}, \"marker\": {\"line\": {\"color\": \"white\", \"width\": 0.5}}, \"type\": \"bar\"}], \"barpolar\": [{\"marker\": {\"line\": {\"color\": \"white\", \"width\": 0.5}}, \"type\": \"barpolar\"}], \"carpet\": [{\"aaxis\": {\"endlinecolor\": \"rgb(36,36,36)\", \"gridcolor\": \"white\", \"linecolor\": \"white\", \"minorgridcolor\": \"white\", \"startlinecolor\": \"rgb(36,36,36)\"}, \"baxis\": {\"endlinecolor\": \"rgb(36,36,36)\", \"gridcolor\": \"white\", \"linecolor\": \"white\", \"minorgridcolor\": \"white\", \"startlinecolor\": \"rgb(36,36,36)\"}, \"type\": \"carpet\"}], \"choropleth\": [{\"colorbar\": {\"outlinewidth\": 10, \"tickcolor\": \"rgb(36,36,36)\", \"ticklen\": 8, \"ticks\": \"outside\", \"tickwidth\": 2}, \"type\": \"choropleth\"}], \"contour\": [{\"colorbar\": {\"outlinewidth\": 10, \"tickcolor\": \"rgb(36,36,36)\", \"ticklen\": 8, \"ticks\": \"outside\", \"tickwidth\": 2}, \"colorscale\": [[0.0, \"#440154\"], [0.1111111111111111, \"#482878\"], [0.2222222222222222, \"#3e4989\"], [0.3333333333333333, \"#31688e\"], [0.4444444444444444, \"#26828e\"], [0.5555555555555556, \"#1f9e89\"], [0.6666666666666666, \"#35b779\"], [0.7777777777777778, \"#6ece58\"], [0.8888888888888888, \"#b5de2b\"], [1.0, \"#fde725\"]], \"type\": \"contour\"}], \"contourcarpet\": [{\"colorbar\": {\"outlinewidth\": 10, \"tickcolor\": \"rgb(36,36,36)\", \"ticklen\": 8, \"ticks\": \"outside\", \"tickwidth\": 2}, \"type\": \"contourcarpet\"}], \"heatmap\": [{\"colorbar\": {\"outlinewidth\": 10, \"tickcolor\": \"rgb(36,36,36)\", \"ticklen\": 8, \"ticks\": \"outside\", \"tickwidth\": 2}, \"colorscale\": [[0.0, \"#440154\"], [0.1111111111111111, \"#482878\"], [0.2222222222222222, \"#3e4989\"], [0.3333333333333333, \"#31688e\"], [0.4444444444444444, \"#26828e\"], [0.5555555555555556, \"#1f9e89\"], [0.6666666666666666, \"#35b779\"], [0.7777777777777778, \"#6ece58\"], [0.8888888888888888, \"#b5de2b\"], [1.0, \"#fde725\"]], \"type\": \"heatmap\"}], \"heatmapgl\": [{\"colorbar\": {\"outlinewidth\": 10, \"tickcolor\": \"rgb(36,36,36)\", \"ticklen\": 8, \"ticks\": \"outside\", \"tickwidth\": 2}, \"colorscale\": [[0.0, \"#440154\"], [0.1111111111111111, \"#482878\"], [0.2222222222222222, \"#3e4989\"], [0.3333333333333333, \"#31688e\"], [0.4444444444444444, \"#26828e\"], [0.5555555555555556, \"#1f9e89\"], [0.6666666666666666, \"#35b779\"], [0.7777777777777778, \"#6ece58\"], [0.8888888888888888, \"#b5de2b\"], [1.0, \"#fde725\"]], \"type\": \"heatmapgl\"}], \"histogram\": [{\"marker\": {\"line\": {\"color\": \"white\", \"width\": 0.6}}, \"type\": \"histogram\"}], \"histogram2d\": [{\"colorbar\": {\"outlinewidth\": 10, \"tickcolor\": \"rgb(36,36,36)\", \"ticklen\": 8, \"ticks\": \"outside\", \"tickwidth\": 2}, \"colorscale\": [[0.0, \"#440154\"], [0.1111111111111111, \"#482878\"], [0.2222222222222222, \"#3e4989\"], [0.3333333333333333, \"#31688e\"], [0.4444444444444444, \"#26828e\"], [0.5555555555555556, \"#1f9e89\"], [0.6666666666666666, \"#35b779\"], [0.7777777777777778, \"#6ece58\"], [0.8888888888888888, \"#b5de2b\"], [1.0, \"#fde725\"]], \"type\": \"histogram2d\"}], \"histogram2dcontour\": [{\"colorbar\": {\"outlinewidth\": 10, \"tickcolor\": \"rgb(36,36,36)\", \"ticklen\": 8, \"ticks\": \"outside\", \"tickwidth\": 2}, \"colorscale\": [[0.0, \"#440154\"], [0.1111111111111111, \"#482878\"], [0.2222222222222222, \"#3e4989\"], [0.3333333333333333, \"#31688e\"], [0.4444444444444444, \"#26828e\"], [0.5555555555555556, \"#1f9e89\"], [0.6666666666666666, \"#35b779\"], [0.7777777777777778, \"#6ece58\"], [0.8888888888888888, \"#b5de2b\"], [1.0, \"#fde725\"]], \"type\": \"histogram2dcontour\"}], \"mesh3d\": [{\"colorbar\": {\"outlinewidth\": 10, \"tickcolor\": \"rgb(36,36,36)\", \"ticklen\": 8, \"ticks\": \"outside\", \"tickwidth\": 2}, \"type\": \"mesh3d\"}], \"parcoords\": [{\"line\": {\"colorbar\": {\"outlinewidth\": 10, \"tickcolor\": \"rgb(36,36,36)\", \"ticklen\": 8, \"ticks\": \"outside\", \"tickwidth\": 2}}, \"type\": \"parcoords\"}], \"pie\": [{\"automargin\": true, \"type\": \"pie\"}], \"scatter\": [{\"marker\": {\"colorbar\": {\"outlinewidth\": 10, \"tickcolor\": \"rgb(36,36,36)\", \"ticklen\": 8, \"ticks\": \"outside\", \"tickwidth\": 2}}, \"type\": \"scatter\"}], \"scatter3d\": [{\"line\": {\"colorbar\": {\"outlinewidth\": 10, \"tickcolor\": \"rgb(36,36,36)\", \"ticklen\": 8, \"ticks\": \"outside\", \"tickwidth\": 2}}, \"marker\": {\"colorbar\": {\"outlinewidth\": 10, \"tickcolor\": \"rgb(36,36,36)\", \"ticklen\": 8, \"ticks\": \"outside\", \"tickwidth\": 2}}, \"type\": \"scatter3d\"}], \"scattercarpet\": [{\"marker\": {\"colorbar\": {\"outlinewidth\": 10, \"tickcolor\": \"rgb(36,36,36)\", \"ticklen\": 8, \"ticks\": \"outside\", \"tickwidth\": 2}}, \"type\": \"scattercarpet\"}], \"scattergeo\": [{\"marker\": {\"colorbar\": {\"outlinewidth\": 10, \"tickcolor\": \"rgb(36,36,36)\", \"ticklen\": 8, \"ticks\": \"outside\", \"tickwidth\": 2}}, \"type\": \"scattergeo\"}], \"scattergl\": [{\"marker\": {\"colorbar\": {\"outlinewidth\": 10, \"tickcolor\": \"rgb(36,36,36)\", \"ticklen\": 8, \"ticks\": \"outside\", \"tickwidth\": 2}}, \"type\": \"scattergl\"}], \"scattermapbox\": [{\"marker\": {\"colorbar\": {\"outlinewidth\": 10, \"tickcolor\": \"rgb(36,36,36)\", \"ticklen\": 8, \"ticks\": \"outside\", \"tickwidth\": 2}}, \"type\": \"scattermapbox\"}], \"scatterpolar\": [{\"marker\": {\"colorbar\": {\"outlinewidth\": 10, \"tickcolor\": \"rgb(36,36,36)\", \"ticklen\": 8, \"ticks\": \"outside\", \"tickwidth\": 2}}, \"type\": \"scatterpolar\"}], \"scatterpolargl\": [{\"marker\": {\"colorbar\": {\"outlinewidth\": 10, \"tickcolor\": \"rgb(36,36,36)\", \"ticklen\": 8, \"ticks\": \"outside\", \"tickwidth\": 2}}, \"type\": \"scatterpolargl\"}], \"scatterternary\": [{\"marker\": {\"colorbar\": {\"outlinewidth\": 10, \"tickcolor\": \"rgb(36,36,36)\", \"ticklen\": 8, \"ticks\": \"outside\", \"tickwidth\": 2}}, \"type\": \"scatterternary\"}], \"surface\": [{\"colorbar\": {\"outlinewidth\": 10, \"tickcolor\": \"rgb(36,36,36)\", \"ticklen\": 8, \"ticks\": \"outside\", \"tickwidth\": 2}, \"colorscale\": [[0.0, \"#440154\"], [0.1111111111111111, \"#482878\"], [0.2222222222222222, \"#3e4989\"], [0.3333333333333333, \"#31688e\"], [0.4444444444444444, \"#26828e\"], [0.5555555555555556, \"#1f9e89\"], [0.6666666666666666, \"#35b779\"], [0.7777777777777778, \"#6ece58\"], [0.8888888888888888, \"#b5de2b\"], [1.0, \"#fde725\"]], \"type\": \"surface\"}], \"table\": [{\"cells\": {\"fill\": {\"color\": \"rgb(237,237,237)\"}, \"line\": {\"color\": \"white\"}}, \"header\": {\"fill\": {\"color\": \"rgb(217,217,217)\"}, \"line\": {\"color\": \"white\"}}, \"type\": \"table\"}]}, \"layout\": {\"annotationdefaults\": {\"arrowhead\": 0, \"arrowwidth\": 1}, \"coloraxis\": {\"colorbar\": {\"outlinewidth\": 10, \"tickcolor\": \"rgb(36,36,36)\", \"ticklen\": 8, \"ticks\": \"outside\", \"tickwidth\": 2}}, \"colorscale\": {\"diverging\": [[0.0, \"rgb(103,0,31)\"], [0.1, \"rgb(178,24,43)\"], [0.2, \"rgb(214,96,77)\"], [0.3, \"rgb(244,165,130)\"], [0.4, \"rgb(253,219,199)\"], [0.5, \"rgb(247,247,247)\"], [0.6, \"rgb(209,229,240)\"], [0.7, \"rgb(146,197,222)\"], [0.8, \"rgb(67,147,195)\"], [0.9, \"rgb(33,102,172)\"], [1.0, \"rgb(5,48,97)\"]], \"sequential\": [[0.0, \"#440154\"], [0.1111111111111111, \"#482878\"], [0.2222222222222222, \"#3e4989\"], [0.3333333333333333, \"#31688e\"], [0.4444444444444444, \"#26828e\"], [0.5555555555555556, \"#1f9e89\"], [0.6666666666666666, \"#35b779\"], [0.7777777777777778, \"#6ece58\"], [0.8888888888888888, \"#b5de2b\"], [1.0, \"#fde725\"]], \"sequentialminus\": [[0.0, \"#440154\"], [0.1111111111111111, \"#482878\"], [0.2222222222222222, \"#3e4989\"], [0.3333333333333333, \"#31688e\"], [0.4444444444444444, \"#26828e\"], [0.5555555555555556, \"#1f9e89\"], [0.6666666666666666, \"#35b779\"], [0.7777777777777778, \"#6ece58\"], [0.8888888888888888, \"#b5de2b\"], [1.0, \"#fde725\"]]}, \"colorway\": [\"#1F77B4\", \"#FF7F0E\", \"#2CA02C\", \"#D62728\", \"#9467BD\", \"#8C564B\", \"#E377C2\", \"#7F7F7F\", \"#BCBD22\", \"#17BECF\"], \"font\": {\"color\": \"rgb(36,36,36)\"}, \"geo\": {\"bgcolor\": \"white\", \"lakecolor\": \"white\", \"landcolor\": \"white\", \"showlakes\": true, \"showland\": true, \"subunitcolor\": \"white\"}, \"hoverlabel\": {\"align\": \"left\"}, \"hovermode\": \"closest\", \"mapbox\": {\"style\": \"light\"}, \"paper_bgcolor\": \"white\", \"plot_bgcolor\": \"white\", \"polar\": {\"angularaxis\": {\"gridcolor\": \"rgb(232,232,232)\", \"linecolor\": \"rgb(36,36,36)\", \"showgrid\": false, \"showline\": true, \"ticks\": \"outside\"}, \"bgcolor\": \"white\", \"radialaxis\": {\"gridcolor\": \"rgb(232,232,232)\", \"linecolor\": \"rgb(36,36,36)\", \"showgrid\": false, \"showline\": true, \"ticks\": \"outside\"}}, \"scene\": {\"xaxis\": {\"backgroundcolor\": \"white\", \"gridcolor\": \"rgb(232,232,232)\", \"gridwidth\": 2, \"linecolor\": \"rgb(36,36,36)\", \"showbackground\": true, \"showgrid\": false, \"showline\": true, \"ticks\": \"outside\", \"zeroline\": false, \"zerolinecolor\": \"rgb(36,36,36)\"}, \"yaxis\": {\"backgroundcolor\": \"white\", \"gridcolor\": \"rgb(232,232,232)\", \"gridwidth\": 2, \"linecolor\": \"rgb(36,36,36)\", \"showbackground\": true, \"showgrid\": false, \"showline\": true, \"ticks\": \"outside\", \"zeroline\": false, \"zerolinecolor\": \"rgb(36,36,36)\"}, \"zaxis\": {\"backgroundcolor\": \"white\", \"gridcolor\": \"rgb(232,232,232)\", \"gridwidth\": 2, \"linecolor\": \"rgb(36,36,36)\", \"showbackground\": true, \"showgrid\": false, \"showline\": true, \"ticks\": \"outside\", \"zeroline\": false, \"zerolinecolor\": \"rgb(36,36,36)\"}}, \"shapedefaults\": {\"fillcolor\": \"black\", \"line\": {\"width\": 0}, \"opacity\": 0.3}, \"ternary\": {\"aaxis\": {\"gridcolor\": \"rgb(232,232,232)\", \"linecolor\": \"rgb(36,36,36)\", \"showgrid\": false, \"showline\": true, \"ticks\": \"outside\"}, \"baxis\": {\"gridcolor\": \"rgb(232,232,232)\", \"linecolor\": \"rgb(36,36,36)\", \"showgrid\": false, \"showline\": true, \"ticks\": \"outside\"}, \"bgcolor\": \"white\", \"caxis\": {\"gridcolor\": \"rgb(232,232,232)\", \"linecolor\": \"rgb(36,36,36)\", \"showgrid\": false, \"showline\": true, \"ticks\": \"outside\"}}, \"title\": {\"x\": 0.05}, \"xaxis\": {\"automargin\": true, \"gridcolor\": \"rgb(232,232,232)\", \"linecolor\": \"rgb(36,36,36)\", \"showgrid\": false, \"showline\": true, \"ticks\": \"outside\", \"title\": {\"standoff\": 15}, \"zeroline\": false, \"zerolinecolor\": \"rgb(36,36,36)\"}, \"yaxis\": {\"automargin\": true, \"gridcolor\": \"rgb(232,232,232)\", \"linecolor\": \"rgb(36,36,36)\", \"showgrid\": false, \"showline\": true, \"ticks\": \"outside\", \"title\": {\"standoff\": 15}, \"zeroline\": false, \"zerolinecolor\": \"rgb(36,36,36)\"}}}, \"title\": {\"font\": {\"size\": 26}, \"text\": \"Run Rate in last 4 overs\"}, \"xaxis\": {\"anchor\": \"y\", \"domain\": [0.0, 1.0], \"title\": {\"text\": \"Team Name\"}}, \"yaxis\": {\"anchor\": \"x\", \"domain\": [0.0, 1.0], \"title\": {\"text\": \"Run Rate\"}}},\n",
              "                        {\"responsive\": true}\n",
              "                    ).then(function(){\n",
              "                            \n",
              "var gd = document.getElementById('a42e7ba8-4e40-45ff-be59-21be20754e1b');\n",
              "var x = new MutationObserver(function (mutations, observer) {{\n",
              "        var display = window.getComputedStyle(gd).display;\n",
              "        if (!display || display === 'none') {{\n",
              "            console.log([gd, 'removed!']);\n",
              "            Plotly.purge(gd);\n",
              "            observer.disconnect();\n",
              "        }}\n",
              "}});\n",
              "\n",
              "// Listen for the removal of the full notebook cells\n",
              "var notebookContainer = gd.closest('#notebook-container');\n",
              "if (notebookContainer) {{\n",
              "    x.observe(notebookContainer, {childList: true});\n",
              "}}\n",
              "\n",
              "// Listen for the clearing of the current output cell\n",
              "var outputEl = gd.closest('.output');\n",
              "if (outputEl) {{\n",
              "    x.observe(outputEl, {childList: true});\n",
              "}}\n",
              "\n",
              "                        })\n",
              "                };\n",
              "                \n",
              "            </script>\n",
              "        </div>\n",
              "</body>\n",
              "</html>"
            ]
          },
          "metadata": {}
        }
      ]
    },
    {
      "cell_type": "markdown",
      "metadata": {
        "papermill": {
          "duration": 0.177578,
          "end_time": "2021-06-04T22:22:31.658845",
          "exception": false,
          "start_time": "2021-06-04T22:22:31.481267",
          "status": "completed"
        },
        "tags": [],
        "id": "zGXTTj5Bi33c"
      },
      "source": [
        "<div class=\"alert alert-block alert-info\"><p style='color:black;'> 📌\n",
        "<b>Chennai Super Kings</b> has the highest scoring run-rate in last 4 overs, followed by Mumbai Indians.\n",
        "</p>\n",
        "</div>\n"
      ]
    }
  ]
}